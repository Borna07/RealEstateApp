{
 "cells": [
  {
   "cell_type": "code",
   "execution_count": 1,
   "metadata": {},
   "outputs": [],
   "source": [
    "from os import listdir\n",
    "from os.path import isfile, join\n",
    "import pandas as pd\n",
    "import plotly.express as px\n",
    "import os\n",
    "from bs4 import BeautifulSoup\n",
    "from selenium import webdriver\n",
    "import pandas as pd\n",
    "import requests\n",
    "import re\n"
   ]
  },
  {
   "cell_type": "code",
   "execution_count": 5,
   "metadata": {},
   "outputs": [],
   "source": [
    "url = \"https://www.index.hr/oglasi/prodaja-stanova/gid/3278?pojam=&sortby=1&elementsNum=100&cijenaod=0&cijenado=21000000&tipoglasa=1&pojamZup=1164&grad=1578&naselje=&attr_Int_988=&attr_Int_887=&attr_bit_stan=&attr_bit_brojEtaza=&attr_gr_93_1=&attr_gr_93_2=&attr_Int_978=&attr_Int_1334=&attr_bit_eneregetskiCertifikat=&vezani_na=988-887_562-563_978-1334\"\n",
    "\n",
    "\n",
    "oglasi = []\n",
    "page1 = requests.get(url)\n",
    "soup1 = BeautifulSoup(page1.content, \"html.parser\")\n",
    "\n",
    "#Extract the number of pages from navigation bar\n",
    "page_nav_class = soup1.find_all('ul', attrs={'class':\"pagination\"}) \n",
    "page_nav = page_nav_class[0].find_all('li')\n",
    "\n",
    "\n",
    "# #Take the last navigation element\n",
    "# last = page_nav[-1]\n",
    "# #Extract the number and clean data\n",
    "# page_number = last.find('a').get('href')[-3:]\n",
    "# page_number = re.sub(\"[^0-9]\", \"\", page_number)\n",
    "# fix = \"&num=\"\n",
    "\n",
    "pages = []\n",
    "\n",
    "#Check if there are multiple pages in the navigation\n",
    "if not page_nav:\n",
    "\n",
    "    pages.append(url)\n",
    "\n",
    "else:\n",
    "    #Take the last navigation element\n",
    "    last = page_nav[-1]\n",
    "    #Extract the number and clean data\n",
    "    page_number = last.find('a').get('href')[-3:]\n",
    "    page_number = re.sub(\"[^0-9]\", \"\", page_number)\n",
    "    fix = \"&num=\"\n",
    "    # print(page_number)\n",
    "\n",
    "    #Create a list of all pages with links\n",
    "    pages.append(url)\n",
    "    for i in range(2,int(page_number)+1):\n",
    "            link = url + fix + str(i)\n",
    "            pages.append(link)\n",
    "\n",
    "    pages = list(set(pages))\n",
    "    \n",
    "#Scrape all resluts from every page\n",
    "for page in pages:        \n",
    "    web_page = requests.get(page)\n",
    "    soup1 = BeautifulSoup(web_page.content, \"html.parser\")\n",
    "    results = soup1.find_all('div', attrs={'class':\"OglasiRezHolder\"}) \n",
    "    for result in results:\n",
    "        try:\n",
    "            link = result.find('a').get('href')\n",
    "            oglasi.append(link)\n",
    "        except:\n",
    "            pass\n",
    "\n",
    "oglasi = list(set(oglasi))"
   ]
  },
  {
   "cell_type": "code",
   "execution_count": 6,
   "metadata": {},
   "outputs": [
    {
     "data": {
      "text/plain": [
       "['https://www.index.hr/oglasi/split--grad--trosobni-stan--prodaja/oid/419160',\n",
       " 'https://www.index.hr/oglasi/stan-split-69-00-m2-novogradnja/oid/3760820',\n",
       " 'https://www.index.hr/oglasi/stan-split-brodarica/oid/3329627',\n",
       " 'https://www.index.hr/oglasi/split-znjan-trosoban-stan-68-94m2-s-balkonom-6m2/oid/2713783',\n",
       " 'https://www.index.hr/oglasi/split--bacvice--trosoban-stan-sa-dva-parking-mjesta--prodaja/oid/3461668',\n",
       " 'https://www.index.hr/oglasi/luksuzan-apartman---stan-u-centru--split--manus--73-m2/oid/3314346',\n",
       " 'https://www.index.hr/oglasi/stan--prodaja/oid/418570',\n",
       " 'https://www.index.hr/oglasi/split-varos-dvoetazan-stan--/oid/3007161',\n",
       " 'https://www.index.hr/oglasi/komforan-jednosoban-stan-s-terasom-i-vrtom---trstenik/oid/3723384',\n",
       " 'https://www.index.hr/oglasi/split--bacvice--dvosobni-stan--prodaja/oid/1430352',\n",
       " 'https://www.index.hr/oglasi/novogradnja-visoka-47-65m2-bez-agencijske-provizije/oid/3528747',\n",
       " 'https://www.index.hr/oglasi/stan-split-split-3/oid/3769915',\n",
       " 'https://www.index.hr/oglasi/split-meje-penthouse--122m2-s-lodjom-i-prekrasnim-pogledom-na-more/oid/948967',\n",
       " 'https://www.index.hr/oglasi/split-bacvice-cetverosoban-stan-22m-potkrovlja-agencije-iskljucene/oid/3419645',\n",
       " 'https://www.index.hr/oglasi/dvosoban-stan-od-76-00-m2-zvonimirova-ulica/oid/3779620',\n",
       " 'https://www.index.hr/oglasi/split--meje--trosoban-stan--prodaja/oid/2473747',\n",
       " 'https://www.index.hr/oglasi/stan-split-zenta/oid/3779502',\n",
       " 'https://www.index.hr/oglasi/split-visoka-jednosoban-stan-49-50-m2-blizina-kampusa/oid/3766705',\n",
       " 'https://www.index.hr/oglasi/prostrani-trosobni-stan-za-prodaju-split/oid/3642524',\n",
       " 'https://www.index.hr/oglasi/jednosoban-stan-split-novogradnja/oid/3804636',\n",
       " 'https://www.index.hr/oglasi/stan-split-pazdigrad/oid/3721523',\n",
       " 'https://www.index.hr/oglasi/centar-grada--88m2/oid/3184802',\n",
       " 'https://www.index.hr/oglasi/split--varos--pogled-na-more-sa-svih-strana-svijeta/oid/2813468',\n",
       " 'https://www.index.hr/oglasi/split--brodarica---dvosoban-komforan-stan/oid/3432738',\n",
       " 'https://www.index.hr/oglasi/split--riva--3-stan-1-red-do-mora--prodaja/oid/508767',\n",
       " 'https://www.index.hr/oglasi/split-gripe-prodaja-dvosoban-stan-u-podrumu-s-dijelom-vrta/oid/3021769',\n",
       " 'https://www.index.hr/oglasi/split-varos-jednosobni-stan-u-zasebnoj-kuci/oid/3609001',\n",
       " 'https://www.index.hr/oglasi/tri-spavace-sobe-s-kupaonicama/oid/3779628',\n",
       " 'https://www.index.hr/oglasi/ekskluzivno-prodajemo--skalice--dvosoban-stan--58-m2--5--kat--pogled/oid/3426534',\n",
       " 'https://www.index.hr/oglasi/split-centar--trosoban-stan-73-5m2-s-ostavom/oid/3805544',\n",
       " 'https://www.index.hr/oglasi/stan-split-grad/oid/3817310',\n",
       " 'https://www.index.hr/oglasi/stan-split-bol/oid/3485097',\n",
       " 'https://www.index.hr/oglasi/split--varos--dva-stana--prodaja/oid/3705858',\n",
       " 'https://www.index.hr/oglasi/novogradnja-visoka-40-78m2-bez-agencijske-provizije/oid/3528793',\n",
       " 'https://www.index.hr/oglasi/stan--kman--80-00-m2/oid/2477540',\n",
       " 'https://www.index.hr/oglasi/split-pazdigrad-73-5m2-blizina-mora/oid/3747897',\n",
       " 'https://www.index.hr/oglasi/split--sucidar--trosoban-stan-nkp-81-10-m2---garazno-i-vanjsko-parkirno-mjesto/oid/3296153',\n",
       " 'https://www.index.hr/oglasi/novogradnja-visoka-47-45m2-bez-agencijske-provizije/oid/3528778',\n",
       " 'https://www.index.hr/oglasi/stan-sa-jedinstvenim-pogledom-na-more-i-grad-split--2s--62-m2--/oid/3808334',\n",
       " 'https://www.index.hr/oglasi/split--bol---dvosoban-stan--veliki-potencijal-70-m2/oid/3707622',\n",
       " 'https://www.index.hr/oglasi/jedinstvena-prilika-luksuzan-stan-na-vrhunskoj-lokaciji-u-centru-splita/oid/1948858',\n",
       " 'https://www.index.hr/oglasi/mertojak-ostravska---komforan-dvosobni-stan-74-m2--lokacija-idealna/oid/3732269',\n",
       " 'https://www.index.hr/oglasi/stan-split-meje/oid/3699173',\n",
       " 'https://www.index.hr/oglasi/split--visoka--dvosobni-stan--prodaja/oid/3730844',\n",
       " 'https://www.index.hr/oglasi/stan-split-zenta/oid/3649731',\n",
       " 'https://www.index.hr/oglasi/znjan-luksuzan-trosoban-stan-u-novogradnji/oid/3800497',\n",
       " 'https://www.index.hr/oglasi/jednosoban-stan-split/oid/3814820',\n",
       " 'https://www.index.hr/oglasi/split--bacvice--trosoban-stan-94-m2--prodaja/oid/3457374',\n",
       " 'https://www.index.hr/oglasi/split--stan-u-centru-/oid/701924',\n",
       " 'https://www.index.hr/oglasi/stan-split-43-00-m2-okucnica-prodaja/oid/3814920',\n",
       " 'https://www.index.hr/oglasi/split--bacvice--uredjen-trosoban-stan-s-ostavom-nkp-92-m2/oid/3339789',\n",
       " 'https://www.index.hr/oglasi/split-kocunar-mosecka-44m2-2s-118-000e-095-400-9996/oid/3543167',\n",
       " 'https://www.index.hr/oglasi/riva--jednosoban-stan-s-galerijom--novouredjen/oid/3824527',\n",
       " 'https://www.index.hr/oglasi/split-strogi-centar--5-sobni-stan--126-17m2--odlicna-lokacija--prodaja/oid/3658768',\n",
       " 'https://www.index.hr/oglasi/split--meje--petorosoban-stan--prodaja/oid/2375788',\n",
       " 'https://www.index.hr/oglasi/split--znjan-ii-novogradnja--jednosobni-i-trosobni-stanovi/oid/3748676',\n",
       " 'https://www.index.hr/oglasi/split-trstenik-vrhunski-renoviran-stan-povrsine-110m2-lodja-na-jugu/oid/1610112',\n",
       " 'https://www.index.hr/oglasi/split--sucidar--trosobni-stan--prodaja/oid/418718',\n",
       " 'https://www.index.hr/oglasi/split--centar--luksuzan-5soban--dvoetazni-stan-315m2/oid/520158',\n",
       " 'https://www.index.hr/oglasi/stan-split-sucidar/oid/3656212',\n",
       " 'https://www.index.hr/oglasi/dvoetazan-stan-podijeljen-na-dvije-stambene-jedinice--split-trstenik--novo-/oid/3827586',\n",
       " 'https://www.index.hr/oglasi/split-lokve-trosoban-stan--blizina-skole/oid/3762544',\n",
       " 'https://www.index.hr/oglasi/prostran-trosoban-stan-kacunar-70m2-dvoriste/oid/3605346',\n",
       " 'https://www.index.hr/oglasi/dvosoban-stan-70-m2-brda/oid/3802498',\n",
       " 'https://www.index.hr/oglasi/split-brda-dvosoban-stan-70m2-na-cetvrtom-katu-uredjen-i-odrzavan/oid/3806868',\n",
       " 'https://www.index.hr/oglasi/split--kacunar-komforan-stan-84-34m2/oid/3730821',\n",
       " 'https://www.index.hr/oglasi/split--marjan-trosobni-stan/oid/3525798',\n",
       " 'https://www.index.hr/oglasi/split--grad--stan-50-m2--prodaja/oid/3487891',\n",
       " 'https://www.index.hr/oglasi/stan-49-m2-marmontova-5-prodaja/oid/3627307',\n",
       " 'https://www.index.hr/oglasi/split-80-00-m2-3s-db/oid/3726852',\n",
       " 'https://www.index.hr/oglasi/bacvice---trosobni-stan/oid/3212391',\n",
       " 'https://www.index.hr/oglasi/split-grad-jednosoban-stan-32m2-u-centra-splita/oid/3751691',\n",
       " 'https://www.index.hr/oglasi/stan-split/oid/3757070',\n",
       " 'https://www.index.hr/oglasi/split--firule--luksuzan-dvosoban-stan-sa-parking-mjestom--prodaja/oid/3648617',\n",
       " 'https://www.index.hr/oglasi/split--centar--jednosoban-stan-s-velikim-vrtom-blizu-rive--nkp-50-5m2/oid/3644138',\n",
       " 'https://www.index.hr/oglasi/split-skrape-90m2--novonamjesten-stan-u-kuci/oid/1820967',\n",
       " 'https://www.index.hr/oglasi/dvoetazni-renovirani-trosobni-stan-sucidar/oid/3708216',\n",
       " 'https://www.index.hr/oglasi/sukoisan-jednosoban-stan-u-sirem-centru-grada/oid/3781204',\n",
       " 'https://www.index.hr/oglasi/split--bacvice--trosobni-stan--prodaja/oid/3772467',\n",
       " 'https://www.index.hr/oglasi/split--grad--get--dvosoban-stan--apartman--prodaja/oid/520320',\n",
       " 'https://www.index.hr/oglasi/split--grad---opremljen-stan-u-centru--juzna-orijentacija--1/oid/3180422',\n",
       " 'https://www.index.hr/oglasi/split-bacvice-stan-s-predivnim-pogledom-na-more-/oid/949001',\n",
       " 'https://www.index.hr/oglasi/kupujemo-stan-u-splitu-isplata-odmah/oid/3676680',\n",
       " 'https://www.index.hr/oglasi/split--mertojak--odeska-ulica--cetverosoban-stan--85-m2--jug--pogled/oid/3561601',\n",
       " 'https://www.index.hr/oglasi/dvosoban-stan-s-vrtom-na-prodaju-znjan-novogradnja/oid/3432506',\n",
       " 'https://www.index.hr/oglasi/prodajemo-dvosoban-stan-split-plokite--75-m2--3--kat--s-j/oid/3556617',\n",
       " 'https://www.index.hr/oglasi/split--bol--jednosobni-stan--prodaja/oid/3231047',\n",
       " 'https://www.index.hr/oglasi/stan-split-blatine/oid/3799007',\n",
       " 'https://www.index.hr/oglasi/stan-kao-kuca--bruto-povrsina-stana-s-terasama-520m2--2-garazna-mjesta/oid/3374781',\n",
       " 'https://www.index.hr/oglasi/stan-split-lucac/oid/3642992',\n",
       " 'https://www.index.hr/oglasi/stan--visoka--113-00-m2/oid/3759219',\n",
       " 'https://www.index.hr/oglasi/novo---split-bacvice-luksuzno-sredjena-tri-apartmana/oid/948966',\n",
       " 'https://www.index.hr/oglasi/stan-split-lovret/oid/3779301',\n",
       " 'https://www.index.hr/oglasi/stan-split-novogradnja/oid/3808558',\n",
       " 'https://www.index.hr/oglasi/stan-split-visoka/oid/2890963',\n",
       " 'https://www.index.hr/oglasi/novo-2-soban-komforan-stan-s-vrtom/oid/3731684',\n",
       " 'https://www.index.hr/oglasi/split--grad---stan-na-atraktivnoj-lokaciji--88-m2/oid/3435941',\n",
       " 'https://www.index.hr/oglasi/split-brda-trosoban-stan-65m2-mogucnost-nadogradnje/oid/3817465',\n",
       " 'https://www.index.hr/oglasi/split--blatine--prekrasan-trosoban-stan/oid/3776151',\n",
       " 'https://www.index.hr/oglasi/dvosoban-stan-53m2-split-ravne-njive/oid/3822568',\n",
       " 'https://www.index.hr/oglasi/3s-j-z-super-stan-kocunar/oid/3749303',\n",
       " 'https://www.index.hr/oglasi/komforan--cetverosoban-stan-s-balkonom-u-staroj-gradskoj-jezgri--/oid/3744123',\n",
       " 'https://www.index.hr/oglasi/prostran-trosoban-stan-znjan-100m2-terasa-pogled/oid/3656789',\n",
       " 'https://www.index.hr/oglasi/novo----lovret--manji-dvosoban--namjesten-stan--47-m2-1--kat--j-z/oid/3762511',\n",
       " 'https://www.index.hr/oglasi/split-znjan-trosoban-stan-68-94m2-s-balkonom-6m2/oid/3727787',\n",
       " 'https://www.index.hr/oglasi/najbolja-kupnja-s-agencijom-moj-m2-split-varos-39m2-78-000e-suteren-renoviranje-095-400-9996/oid/3348977',\n",
       " 'https://www.index.hr/oglasi/lijepi-osuncani-dvosoban-stan-s-otvorenim-pogledom-spinut-prodaja/oid/3813140',\n",
       " 'https://www.index.hr/oglasi/split--lovret-u-blizini-suda--88-10-m2-/oid/3528226',\n",
       " 'https://www.index.hr/oglasi/znjan-dvosoban-2-balkona-jug-novogradnja/oid/3432501',\n",
       " 'https://www.index.hr/oglasi/stan-split-spinut/oid/3784984',\n",
       " 'https://www.index.hr/oglasi/stan-split-kman/oid/3697454',\n",
       " 'https://www.index.hr/oglasi/prelijepi-stan-u-centru--107-m2--prvi-kat/oid/3784742',\n",
       " 'https://www.index.hr/oglasi/prekrasan-3-sobni-stan-s-dvije-velike-terase-prodaja/oid/3536362',\n",
       " 'https://www.index.hr/oglasi/split--meje--drazanac--jednosoban-stan--prodaja/oid/1177180',\n",
       " 'https://www.index.hr/oglasi/split--centar--dvosoban-renoviran-stan-75m2-s-pogledom-na-grad/oid/3637469',\n",
       " 'https://www.index.hr/oglasi/split--meje--otvoren-pogled-trosoban-stan--velika-lodja--vrt--garaza/oid/1295163',\n",
       " 'https://www.index.hr/oglasi/split-centar-marmontova-gradjanski-stan-/oid/2557283',\n",
       " 'https://www.index.hr/oglasi/gripe---dvosobni-stan/oid/3662726',\n",
       " 'https://www.index.hr/oglasi/novo----split-strogi-centar--dioklecijanova-palaca--45m2--3-kat-/oid/2609353',\n",
       " 'https://www.index.hr/oglasi/veliki-trosoban-stan-u-samom-centru-grada-103-m2/oid/3310368',\n",
       " 'https://www.index.hr/oglasi/meje---kaskade-dvosobni-stan/oid/2299985',\n",
       " 'https://www.index.hr/oglasi/nekretnine-split-namjesteni-apartman-na-veoma-atraktivnoj-lokaciji-u-blizini-mora-i-plaza-na-prodaju/oid/3615947',\n",
       " 'https://www.index.hr/oglasi/split-spinut-matoseva-jednosoban-stan-39m2-na-odlicnoj-lokaciji/oid/3820744',\n",
       " 'https://www.index.hr/oglasi/jednosoban-stan-split-novogradnja/oid/3801990',\n",
       " 'https://www.index.hr/oglasi/stan-split-blatine-pogled-lift/oid/3699586',\n",
       " 'https://www.index.hr/oglasi/stan-split-mertojak/oid/3497592',\n",
       " 'https://www.index.hr/oglasi/komforan-moderan-trstenik-/oid/3642760',\n",
       " 'https://www.index.hr/oglasi/split-znjan--prodaja-2etazni-3sob-stan--parking-novogradnja/oid/3674260',\n",
       " 'https://www.index.hr/oglasi/split-skalice-jednosoban-stan-42m2-na-petom-katu-oflicna-lokacija/oid/3806869',\n",
       " 'https://www.index.hr/oglasi/stan-split-kocunar/oid/3406795',\n",
       " 'https://www.index.hr/oglasi/split--trstenik--trosoban-stan--prodaja/oid/2881851',\n",
       " 'https://www.index.hr/oglasi/split--ravne-njive--trosobni-stan--prodaja/oid/2630022',\n",
       " 'https://www.index.hr/oglasi/split--sucidar--dvoetazan-peterosoban-stan--prodaja/oid/3350420',\n",
       " 'https://www.index.hr/oglasi/split--trosoban-stan/oid/3778975',\n",
       " 'https://www.index.hr/oglasi/split--grad-centar--trosoban-stan--prodaja/oid/1234758',\n",
       " 'https://www.index.hr/oglasi/split-bacvice-luksuzni-stan-54-91-m2-top-ponuda---ekskluziva/oid/3123567',\n",
       " 'https://www.index.hr/oglasi/split-sukoisan-stan-u-podrumu-50m2-roh-bau/oid/3595039',\n",
       " 'https://www.index.hr/oglasi/split--centar--dvoetazni-stan-158m2--prodaja/oid/2368464',\n",
       " 'https://www.index.hr/oglasi/split--pazdigrad-2-soban-stan-s-terasom-i-pogledom-na-more/oid/3580087',\n",
       " 'https://www.index.hr/oglasi/jednosoban-stan-split-novogradnja/oid/3801955',\n",
       " 'https://www.index.hr/oglasi/trstenik-jako-lijep-prostran-stan-111-m2/oid/3049275',\n",
       " 'https://www.index.hr/oglasi/split3-smrdecac-83m2-komforan-dvosoban-stan-pogled-na-more/oid/3646270',\n",
       " 'https://www.index.hr/oglasi/stan-split-meje/oid/3613471',\n",
       " 'https://www.index.hr/oglasi/trstenik-prostrani-trosobni-apartman/oid/3768707',\n",
       " 'https://www.index.hr/oglasi/split--brda---trosoban-komforan-stan/oid/3764088',\n",
       " 'https://www.index.hr/oglasi/split-kman-sibenska-57m2-2s-155-000e-095-400-9996/oid/3373227',\n",
       " 'https://www.index.hr/oglasi/prilika--kman---dvosobni-stan--44-m2--sa-dvoristem-i-vrtom-/oid/3623342',\n",
       " 'https://www.index.hr/oglasi/split--grad--dioklecijanova-palaca--stan-45-m2--prodaja/oid/3780185',\n",
       " 'https://www.index.hr/oglasi/dioklecijanova-palaca---trosobni-novouredjeni-stan--/oid/3769362',\n",
       " 'https://www.index.hr/oglasi/meje-predivan-jednosoban-dvoetazni-stan-s-pogledom-na-more-prodaja/oid/3549999',\n",
       " 'https://www.index.hr/oglasi/stan-split-manus/oid/3382221',\n",
       " 'https://www.index.hr/oglasi/split--trosoban-penthouse-188m2--garaza-za-4-automobila/oid/3596685',\n",
       " 'https://www.index.hr/oglasi/novo-komforan-stan-na-izvrsnoj-lokaciji-garaza/oid/3822874',\n",
       " 'https://www.index.hr/oglasi/meje---etaziran-dvosobni-stan-u-kuci-s-dvoristem-visoki-roh-bau/oid/2093973',\n",
       " 'https://www.index.hr/oglasi/split-grad-top-lokacija-85m2-sa-velikom-terasom/oid/3480978',\n",
       " 'https://www.index.hr/oglasi/split-znjan-jednosoban-stan-49-21m2-s-balkonom-5-63m2/oid/2713779',\n",
       " 'https://www.index.hr/oglasi/split-dioklecijanova-palaca-jedinstven-stan-62m2-s-terasom-45m2/oid/1590176',\n",
       " 'https://www.index.hr/oglasi/grad--komforan-trosoban-stan-na-top-lokaciji/oid/3669452',\n",
       " 'https://www.index.hr/oglasi/split--varos--novouredjen-trosoban-stan-u-centru-76m2/oid/3339724',\n",
       " 'https://www.index.hr/oglasi/meje-prostran-i-suncan-cetverosoban-stan-sa-2-parkirna-mjesta/oid/3065255',\n",
       " 'https://www.index.hr/oglasi/split--bol--jednosoban-stan--potrebno-uredjenje--prodaja/oid/3810749',\n",
       " 'https://www.index.hr/oglasi/split--bol--trosoban-stan-104-m2--na-2-4--orijentacije-s-j/oid/2884378',\n",
       " 'https://www.index.hr/oglasi/stanu-pripada-i-lodja-povrsine-23m2--garaza-od-20m2---ostava-/oid/2009836',\n",
       " 'https://www.index.hr/oglasi/split--lucac--stan-u-zgradi/oid/349020',\n",
       " 'https://www.index.hr/oglasi/split--kman--dvosobni-stan--prodaja/oid/2166509',\n",
       " 'https://www.index.hr/oglasi/split--jednosoban-stan-u-centru-grada-/oid/3489506',\n",
       " 'https://www.index.hr/oglasi/split--blatine--dvosobni-stan--prodaja/oid/3823638',\n",
       " 'https://www.index.hr/oglasi/split-pujanke-trosoban-stan84m2-izvrstan-raspored-zamjena-za-dvosoban-/oid/2177298',\n",
       " 'https://www.index.hr/oglasi/stan-split-sucidar/oid/3725146',\n",
       " 'https://www.index.hr/oglasi/split-split-3-cetverosoban-stan-119m2-na-odlicnoj-lokaciji/oid/3723373',\n",
       " 'https://www.index.hr/oglasi/stan--grad--126-00-m2/oid/2164730',\n",
       " 'https://www.index.hr/oglasi/znjan--atraktivan-dvosoban-stan/oid/3609844',\n",
       " 'https://www.index.hr/oglasi/invest-ponuda-dvosoban-stan-brda/oid/3746234',\n",
       " 'https://www.index.hr/oglasi/stan-split-novogradnja/oid/3825425',\n",
       " 'https://www.index.hr/oglasi/stan-split-centar-bez-agencije/oid/3762656',\n",
       " 'https://www.index.hr/oglasi/novogradnja-visoka-42-34m2-bez-agencijske-provizije/oid/3528774',\n",
       " 'https://www.index.hr/oglasi/split-grad-stan-sa-2-apartmana-94--10-m2/oid/2870045',\n",
       " 'https://www.index.hr/oglasi/split--zapadna-obala-119m2-prvi-red-uz-more/oid/3667318',\n",
       " 'https://www.index.hr/oglasi/stan-split-95-00-m2-pogled-useljivo-odmah/oid/3755641',\n",
       " 'https://www.index.hr/oglasi/hrvatska-split-kila-dvosoban-stan/oid/3750789',\n",
       " 'https://www.index.hr/oglasi/stan-split-kocunar/oid/3743193',\n",
       " 'https://www.index.hr/oglasi/split--riva---renoviran-stan-za-atraktivnoj-lokaciji--73-m2/oid/3612587',\n",
       " 'https://www.index.hr/oglasi/stan-split-bol/oid/3764824',\n",
       " 'https://www.index.hr/oglasi/split--grad--apartman-24-m2--prodaja/oid/1243168',\n",
       " 'https://www.index.hr/oglasi/split--lovret--dvosobni-stan--prodaja/oid/3565880',\n",
       " 'https://www.index.hr/oglasi/novogradnja-visoka-73-54m2-bez-agencijske-provizije/oid/3528816',\n",
       " 'https://www.index.hr/oglasi/split-znjan-dvosoban-stan-52m2-s-dva-garazna-parking-mjesta-novogradnja/oid/3583636',\n",
       " 'https://www.index.hr/oglasi/stan-split-pujanke/oid/3579096',\n",
       " 'https://www.index.hr/oglasi/split-bacvice-komforan-trosoban-stan-92m2-odlicna-lokacija/oid/1059218',\n",
       " 'https://www.index.hr/oglasi/lijepi-dvosoban-stan-73-m2-zenta-prodaja/oid/3645139',\n",
       " 'https://www.index.hr/oglasi/stan-maslinica-otok-solta/oid/3712931',\n",
       " 'https://www.index.hr/oglasi/stan--bacvice--54-00-m2/oid/3388492',\n",
       " 'https://www.index.hr/oglasi/split--kod-pravnog-fakulteta--dvosoban-s-dnevnim-boravkom--1--kat--j-s-z--potrebna-adaptacija/oid/2885505',\n",
       " 'https://www.index.hr/oglasi/novogradnja-visoka-34-30m2-bez-agencijske-provizije/oid/3528744',\n",
       " 'https://www.index.hr/oglasi/novo----split--sucidar--trosoban-dvoetazani-stan-/oid/3640313',\n",
       " 'https://www.index.hr/oglasi/stan--veli-varos--50-00-m2/oid/2870922',\n",
       " 'https://www.index.hr/oglasi/split--bacvice--luksuzni-stan-apartman--prodaja/oid/857647',\n",
       " 'https://www.index.hr/oglasi/split--lovret--dvosoban-stan--prodaja/oid/3778774',\n",
       " 'https://www.index.hr/oglasi/garsonjera-varos-/oid/3722080',\n",
       " 'https://www.index.hr/oglasi/stan-split-brda/oid/3524322',\n",
       " 'https://www.index.hr/oglasi/split---kila----jednosobni-stan-na-prvom-katu--40-m2/oid/3667429',\n",
       " 'https://www.index.hr/oglasi/stan-split-split-3/oid/3518398',\n",
       " 'https://www.index.hr/oglasi/dvosoban-centar-uredjen/oid/3486426',\n",
       " 'https://www.index.hr/oglasi/cetverosoban-stan-split-manus/oid/3812825',\n",
       " 'https://www.index.hr/oglasi/stan-split-trstenik/oid/3359808',\n",
       " 'https://www.index.hr/oglasi/split--najuzi-centar-splita-trosoban-stan-treci-kat/oid/2957239',\n",
       " 'https://www.index.hr/oglasi/split-centar-studio-apartman/oid/3403812',\n",
       " 'https://www.index.hr/oglasi/bacvice--split--trosoban-stan-sa-pogledom-na-luku/oid/3428557',\n",
       " 'https://www.index.hr/oglasi/dvosobni-komforni-stan-od-62-5-na-odlicnoj-lokaciji/oid/3581245',\n",
       " 'https://www.index.hr/oglasi/split--bacvice--trosoban-renoviran-stan-za-prodaju/oid/418241',\n",
       " 'https://www.index.hr/oglasi/novo-renoviran-2s-blatine/oid/3821389',\n",
       " 'https://www.index.hr/oglasi/split--strogi-centar--moderan-stan-90-m2-podijeljen-na-dva-apartmana/oid/3726393',\n",
       " 'https://www.index.hr/oglasi/jednosoban-stan-s-vrtom-znjan-novogradnja/oid/3432520',\n",
       " 'https://www.index.hr/oglasi/split--kocunar--prodaja-dvosoban-stan--1-kat/oid/3774973',\n",
       " 'https://www.index.hr/oglasi/split-bol--renoviran--odlican-trosoban-stan---kompletan-namjestaj/oid/3362549',\n",
       " 'https://www.index.hr/oglasi/pujanke-trosoban-stan-/oid/3701608',\n",
       " 'https://www.index.hr/oglasi/split--spinut---nova-3-turisticka-apartmana--90-m2/oid/3445370',\n",
       " 'https://www.index.hr/oglasi/prekrasan-stan---sucidar-u-kuci-od-94-m--/oid/1886734',\n",
       " 'https://www.index.hr/oglasi/split-kman-dva-stana-2-kat-potkrovlje/oid/3761136',\n",
       " 'https://www.index.hr/oglasi/manus-jednosoban/oid/3750412',\n",
       " 'https://www.index.hr/oglasi/split--meje--79m2-novogradnja--vrt--pogled--garaza/oid/3658716',\n",
       " 'https://www.index.hr/oglasi/znjan---trosobni-stan/oid/3094408',\n",
       " 'https://www.index.hr/oglasi/split-centar-grada--cetverosoban-stan---kamena-kuca--1-kat---terasa/oid/2058071',\n",
       " 'https://www.index.hr/oglasi/split-manus-komforan-dvosoban-stan-94m2-odlicna-lokacija/oid/3739471',\n",
       " 'https://www.index.hr/oglasi/split-pujanke---dvosoban-stan-na-odlicnoj-lokaciji/oid/3547111',\n",
       " 'https://www.index.hr/oglasi/stan-split-split-3/oid/3695191',\n",
       " 'https://www.index.hr/oglasi/komodni-dvosobni-stan-u-splitu/oid/3610403',\n",
       " 'https://www.index.hr/oglasi/stan-3-soban-teraca-vrtal-poslovni-prostor-split-rooseveltova-ukupne-povrsine-207-78-m2/oid/3721564',\n",
       " 'https://www.index.hr/oglasi/stan-split-centar/oid/3583359',\n",
       " 'https://www.index.hr/oglasi/split--meje--stan-76-m2--prodaja/oid/656371',\n",
       " 'https://www.index.hr/oglasi/split--bacvice-trosoban-stan-85-m2--vrt-i-terasa/oid/3245125',\n",
       " 'https://www.index.hr/oglasi/jednosoban-stan-gripe/oid/3534609',\n",
       " 'https://www.index.hr/oglasi/split--manus--potkrovlje-u-manjoj-zgradi/oid/3307784',\n",
       " 'https://www.index.hr/oglasi/split-70-00-m2-renoviran-atraktivna-lokacija/oid/3468723',\n",
       " 'https://www.index.hr/oglasi/split-pujanke-46m2-2s-zg-lift-novouredjen-1550-000e-095-400-9996/oid/3667156',\n",
       " 'https://www.index.hr/oglasi/stan-split-meje/oid/3598977',\n",
       " 'https://www.index.hr/oglasi/mijenjam-stan-u-splitu-za-zagreb/oid/3775553',\n",
       " 'https://www.index.hr/oglasi/split-blatine-trosoban-stan-95m2-odlicna-lokacija/oid/3773499',\n",
       " 'https://www.index.hr/oglasi/split--kila--dvosobni-stan--prodaja/oid/3668793',\n",
       " 'https://www.index.hr/oglasi/stan-split-plokite-novo-prilika/oid/3814912',\n",
       " 'https://www.index.hr/oglasi/dvosoban-stan-u-centru-grada---varos/oid/3814136',\n",
       " 'https://www.index.hr/oglasi/znjan---komforan-dvosobni-stan-sa-vrtom-i-parkirnim-mjestom--/oid/3528249',\n",
       " 'https://www.index.hr/oglasi/trosoban-stan-povrsine-68-m2--u-srcu-palace--u-blizini-peristila/oid/2953924',\n",
       " 'https://www.index.hr/oglasi/split-znjan-dvoetazni-stan-sa-velikom-krovnom-terasom-2s-db-/oid/3434569',\n",
       " 'https://www.index.hr/oglasi/sucidar-split-prodaja-3-sobe/oid/3762581',\n",
       " 'https://www.index.hr/oglasi/split--pazdigrad--trosoban-stan-s-garazom--prodaja/oid/3657132',\n",
       " 'https://www.index.hr/oglasi/trosoban-stan-na-mejama/oid/417363',\n",
       " 'https://www.index.hr/oglasi/stan-split-brodarica/oid/3329599',\n",
       " 'https://www.index.hr/oglasi/stan-split/oid/3751436',\n",
       " 'https://www.index.hr/oglasi/split--varos----jednosoban-stan-27m2---terasa/oid/3525777',\n",
       " 'https://www.index.hr/oglasi/dva-stana-u-manjoj-zgradi-s-pogledom-na-more---meje/oid/3388380',\n",
       " 'https://www.index.hr/oglasi/riva--jednosoban-stan-s-galerijom--novouredjen/oid/3824528',\n",
       " 'https://www.index.hr/oglasi/stan-split-spinut-novo-pogled/oid/3475950',\n",
       " 'https://www.index.hr/oglasi/znjan-103-m2-novogradnja-dvoetazan-velika-terasa/oid/3432517',\n",
       " 'https://www.index.hr/oglasi/split-sucidar-dvosoban-stan-71m2-na-sestom-katu-pogled-na-more/oid/3667357',\n",
       " 'https://www.index.hr/oglasi/stan-split-sucidar-94m2-novo-prodaja/oid/3591800',\n",
       " 'https://www.index.hr/oglasi/stan-split-bacvice/oid/2842469',\n",
       " 'https://www.index.hr/oglasi/stan-split-grad/oid/3461245',\n",
       " 'https://www.index.hr/oglasi/split--sukoisan--trosobni-stan--prodaja/oid/3504733',\n",
       " 'https://www.index.hr/oglasi/split-znjan-dvosoban-dvoetazan-stan-129m2-s-krovnom-terasom-pm/oid/3583637',\n",
       " 'https://www.index.hr/oglasi/split--meje--100m2-trosoban-stan-prvi-red-do-mora/oid/3657096',\n",
       " 'https://www.index.hr/oglasi/dvosoban-stan-na-manusu-iligripama-kupujem-min-80-m2/oid/3636643',\n",
       " 'https://www.index.hr/oglasi/2s-75m2-velika-terasa-stan-u-kuci-novo-u-ponudi/oid/3609235',\n",
       " 'https://www.index.hr/oglasi/split--dvosoban-stan-58-m2-i-garsonjera-od-18-m2--odlicna-lokacija/oid/3611667',\n",
       " 'https://www.index.hr/oglasi/prodaja-stana-odeska-ulica-mertojak-split/oid/3531630',\n",
       " 'https://www.index.hr/oglasi/split--visoka--jednosoban-stan--prodaja/oid/3487890',\n",
       " 'https://www.index.hr/oglasi/split-marjan-trosoban-63-60-m2-renoviran-i-namjesten/oid/3699185',\n",
       " 'https://www.index.hr/oglasi/split--lokve--dvosoban-komforan-stan/oid/3609846',\n",
       " 'https://www.index.hr/oglasi/stan-split-novogradnja/oid/3804745',\n",
       " 'https://www.index.hr/oglasi/split--znjan--dvosoban-kompletno-namjesten--54m2/oid/3731150',\n",
       " 'https://www.index.hr/oglasi/split--lokve---trosoban-komforan-stan-u-neboderu/oid/3778973',\n",
       " 'https://www.index.hr/oglasi/bacvice-moderan-stan-na-iznimnoj-lokaciji/oid/3752821',\n",
       " 'https://www.index.hr/oglasi/split--novogradnja---dvosoban-stan-s-vrtom-60-m2/oid/3778948',\n",
       " 'https://www.index.hr/oglasi/dvosobni-dvoetazni-stan-u-splitu-visoka/oid/3298925',\n",
       " 'https://www.index.hr/oglasi/split-sucidar-trosoban-komforan-stan-122m2-prvi-kat/oid/3278914',\n",
       " 'https://www.index.hr/oglasi/luksuzno-opremljen--komforan--dvosoban-stan-s-juznom-lodjom-i-otvorenim-pogledom-na-more---split-meje--/oid/3404467',\n",
       " 'https://www.index.hr/oglasi/stan--visoka--113-00-m2/oid/3696329',\n",
       " 'https://www.index.hr/oglasi/split--bacvice--70-m2---1-kat/oid/2813460',\n",
       " 'https://www.index.hr/oglasi/split--sucidar--krlezina-ulica--stan-80-m2--prodaja/oid/3759215',\n",
       " 'https://www.index.hr/oglasi/split--meje--stan--apartman--prodaja/oid/853694',\n",
       " 'https://www.index.hr/oglasi/stan-split-useljivo-odmah/oid/3760054',\n",
       " 'https://www.index.hr/oglasi/split-bacvice-trosoban-stan-s-vrtom-i-poslovnim-prostorom/oid/2234117',\n",
       " 'https://www.index.hr/oglasi/split--dobri--trosoban-stan-94-m2--prodaja/oid/3675848',\n",
       " 'https://www.index.hr/oglasi/stan-split-meje/oid/3577266',\n",
       " 'https://www.index.hr/oglasi/split--pazdigrad--dvoetazan-trosoban-stan/oid/3483465',\n",
       " 'https://www.index.hr/oglasi/poslovni-prostor-split-66m2-znjan/oid/3736187',\n",
       " 'https://www.index.hr/oglasi/stan-split-novogradnja/oid/3802008',\n",
       " 'https://www.index.hr/oglasi/stan-split-grad/oid/3683635',\n",
       " 'https://www.index.hr/oglasi/stan-split-znjan/oid/3703606',\n",
       " 'https://www.index.hr/oglasi/split--gripe--dvosoban-stan--renoviran--prodaja/oid/3815638',\n",
       " 'https://www.index.hr/oglasi/stan-split-znjan/oid/3432509',\n",
       " 'https://www.index.hr/oglasi/split--kila--dvosobni-stan--prodaja/oid/3231044',\n",
       " 'https://www.index.hr/oglasi/split--lovret--dvoetazan-stan--penthouse--prodaja/oid/3360598',\n",
       " 'https://www.index.hr/oglasi/prostran-i-osuncani-stan-split-split-3-86m2/oid/3555046',\n",
       " 'https://www.index.hr/oglasi/manus--trosoban-stan--84-m2--2--kat--jug-sjever/oid/3226119',\n",
       " 'https://www.index.hr/oglasi/split--varos--novouredjena-garsonjera-u-staroj-jezgri-nkp-27-m2/oid/3339747',\n",
       " 'https://www.index.hr/oglasi/split-bol-dvosoban-stan-62m2-na-trecem-katu-zgrade-odlicna-lokacija/oid/3568368',\n",
       " 'https://www.index.hr/oglasi/split--varos---stan-u-prizemlju-turisticki-potencijal/oid/3795162',\n",
       " 'https://www.index.hr/oglasi/naselje-pujanke--10---i-kat--trosoban-stan---67m2--orjentaci/oid/3553888',\n",
       " 'https://www.index.hr/oglasi/split-grad--renovirani-trosobni-stan-na-odlicnoj-lokaciji---/oid/3504704',\n",
       " 'https://www.index.hr/oglasi/split--znjan--jednosoban-dizajnerski-stan-s-pogledom-na-more/oid/3804126',\n",
       " 'https://www.index.hr/oglasi/split-znjanski-blizanci-cetverosobni-stan-za-prodaju/oid/418332',\n",
       " 'https://www.index.hr/oglasi/stan-split-znjan-prostran-dvosoban-78-22m2-lodja-pogled-na-more-lift-garaza/oid/3808653',\n",
       " 'https://www.index.hr/oglasi/stan-split-sukoisanska/oid/3585370',\n",
       " 'https://www.index.hr/oglasi/split-manus-uhodani-hostel-u-centru/oid/3790902',\n",
       " 'https://www.index.hr/oglasi/znjan-86-m2-lijep-i-prostran-dvosoban-stan-prodaja/oid/3432390',\n",
       " 'https://www.index.hr/oglasi/dvosoban-stan-split-novogradnja/oid/3808492',\n",
       " 'https://www.index.hr/oglasi/dvoetazni-stan-s-pogledom-na-more--povrsine-110-70-m2--spinut--split/oid/3792935',\n",
       " 'https://www.index.hr/oglasi/jednosoban-stan-split-novogradnja/oid/3800988',\n",
       " 'https://www.index.hr/oglasi/split--bacvice--trosobni-stan--prodaja/oid/3224419',\n",
       " 'https://www.index.hr/oglasi/bol---dvosobni-stan/oid/3662729',\n",
       " 'https://www.index.hr/oglasi/split--komforan-stan-81-20m2--garazno-p-mjesto-i-podrum/oid/3716367',\n",
       " 'https://www.index.hr/oglasi/split--palaca--apartman-za-turizam--prodaja/oid/418847',\n",
       " 'https://www.index.hr/oglasi/stan-split-pujanke/oid/3465208',\n",
       " 'https://www.index.hr/oglasi/-investicija-grad-moderne-4-apartmanske-jedinice-/oid/3722082',\n",
       " 'https://www.index.hr/oglasi/split-bol-komforni-dvosoban-stan/oid/3747964',\n",
       " 'https://www.index.hr/oglasi/split-pazdigrad-44m2-1sdb-145-000e-095-400-9996/oid/3311174',\n",
       " 'https://www.index.hr/oglasi/split-radunica-stan-135-m2/oid/417775',\n",
       " 'https://www.index.hr/oglasi/pojisan-stan-prepun-sunca--/oid/3650031',\n",
       " 'https://www.index.hr/oglasi/stan-na-bacvicama-sa-terasom-i-vrtom/oid/1797900',\n",
       " 'https://www.index.hr/oglasi/grad---jednosobni-stan-u-centru-grada-investicija---/oid/3739484',\n",
       " 'https://www.index.hr/oglasi/split-sucidar-komforan-dvosoban-stan-s-lodjom/oid/3763375',\n",
       " 'https://www.index.hr/oglasi/stan-split-centar/oid/3731670',\n",
       " 'https://www.index.hr/oglasi/dvosoban-stan---novogradnja--split--znjan--129-m2/oid/3799530',\n",
       " 'https://www.index.hr/oglasi/nije-agencijs-split-dvosoban-49m2-blizu-centra-trscanska-iza-kroma-na-2-katu-sa-parkingo/oid/3761909',\n",
       " 'https://www.index.hr/oglasi/split-brda-2-s-stan-72m2-5-5m2-194-000-eur/oid/3429131',\n",
       " 'https://www.index.hr/oglasi/split--centar-grada--jednosoban-stan/oid/3748989',\n",
       " 'https://www.index.hr/oglasi/dvosoban-stan-lovret-/oid/3802710',\n",
       " 'https://www.index.hr/oglasi/stan-split-bacvice/oid/3300680',\n",
       " 'https://www.index.hr/oglasi/stan-split-sucidar/oid/2730396',\n",
       " 'https://www.index.hr/oglasi/stan-split-pujanke-novo-u-ponudi-80m2/oid/3708035',\n",
       " 'https://www.index.hr/oglasi/brda-82m2-230-000e-zg-jug-lift-balkon-0954009996/oid/3525638',\n",
       " 'https://www.index.hr/oglasi/stan-split-kocunar/oid/3823578',\n",
       " 'https://www.index.hr/oglasi/stan-split-split-3/oid/3315131',\n",
       " 'https://www.index.hr/oglasi/split--bacvice--dvosobni-stan--prodaja/oid/1605888',\n",
       " 'https://www.index.hr/oglasi/split--varos---dvoetazni-stan--40-m2--u-staroj-kamenoj-kuci-/oid/3579889',\n",
       " 'https://www.index.hr/oglasi/split-sucidar-komforan-dvosoban-stan-94m2-s-lodjom-16m2/oid/2168301',\n",
       " 'https://www.index.hr/oglasi/split--pazdigrad--cetverosoban-komforan-164-m2--127-stamb---37-balkon/oid/1989394',\n",
       " 'https://www.index.hr/oglasi/split-meje-prodaja-stan-pogled-na-more-terasa-20m2-garaza/oid/2589541',\n",
       " 'https://www.index.hr/oglasi/split-mertojak-dvosoban-stan-74m2-pogled-na-more-odlicna-lokacija/oid/3761049',\n",
       " 'https://www.index.hr/oglasi/split-centar-grada-komforan-stan-na-vrhunskoj-lokaciji-80m2/oid/3315942',\n",
       " 'https://www.index.hr/oglasi/split--meje--cetverosobni-komforni-stan--prodaja/oid/2602917',\n",
       " 'https://www.index.hr/oglasi/stan-u-samom-centru-grada-povrsine-76-m2/oid/701211',\n",
       " 'https://www.index.hr/oglasi/split--mertojak--dvosoban-stan-74-m2-na-2-katu/oid/3686213',\n",
       " 'https://www.index.hr/oglasi/dva-apartmana-manus/oid/3759283',\n",
       " 'https://www.index.hr/oglasi/stan--split---grad-48-m2-top-lokacija/oid/3332434',\n",
       " 'https://www.index.hr/oglasi/split-centar-35m2-2sdb-79-000e-095-400-9996/oid/3337228',\n",
       " 'https://www.index.hr/oglasi/stan-split-pujanke/oid/3666940',\n",
       " 'https://www.index.hr/oglasi/split-znjan-3-s-stan-od-95-m2-s-terasom-i-prekrasnim-pogledom/oid/3733206',\n",
       " 'https://www.index.hr/oglasi/bacvice-prizemlje-stan-66-38-m2-prodaja/oid/3446134',\n",
       " 'https://www.index.hr/oglasi/stan-prodaja-mertojak--doverska-ul---3-sobni--5-kat-/oid/3726102',\n",
       " 'https://www.index.hr/oglasi/jednosoban-stan-novogradnja-firule-prodaja/oid/3545492',\n",
       " 'https://www.index.hr/oglasi/split-zenta-stan-u-zgradi-73m2-2sdb-parking-cijena-na-upit-mob-095-400-9996/oid/3665569',\n",
       " 'https://www.index.hr/oglasi/split-znjan-stan-2s-db-47-40m2---balkon10-10m2/oid/3434568',\n",
       " 'https://www.index.hr/oglasi/stan-split-meje/oid/3679745',\n",
       " 'https://www.index.hr/oglasi/novogradnja-visoka-34-30m2-bez-agencijske-provizije/oid/3528737',\n",
       " 'https://www.index.hr/oglasi/split--dioklecijanova-palaca--luksuzni-stan/oid/2332067',\n",
       " 'https://www.index.hr/oglasi/split-centar--prodaja-2etazni-4sobni-stan--nadogradnja/oid/3423193',\n",
       " 'https://www.index.hr/oglasi/dioklecijanova-palaca-trosobni-stan-68-00-m2/oid/3375176',\n",
       " 'https://www.index.hr/oglasi/veliki-stan-u-centru-grada/oid/2717508',\n",
       " 'https://www.index.hr/oglasi/split-bol-62m2-2s-210-000e-zg-jug-balkon-renoviran-095-400-9996/oid/3577865',\n",
       " 'https://www.index.hr/oglasi/stan-prodaja-split--brda--3-sobni--1-kat--orijentacija-jug-/oid/3823646',\n",
       " 'https://www.index.hr/oglasi/stan-split-brda/oid/3800759',\n",
       " 'https://www.index.hr/oglasi/grad--komforan-trosoban-stan-na-top-lokaciji/oid/3669451',\n",
       " 'https://www.index.hr/oglasi/3s-stan-u-splitu---bacvice---s-vrtom--konobom--terasom-i-balkonom/oid/3302902',\n",
       " 'https://www.index.hr/oglasi/nekretnine-split-namjesteni-dvoetazni-apartman-s-velikom-krovnom-terasom-na-izvrsnoj-lokaciji-na-prodaju/oid/3541427',\n",
       " 'https://www.index.hr/oglasi/stan--dvoetazni-40-m2-varos/oid/3137832',\n",
       " 'https://www.index.hr/oglasi/split--dobri--komforan-dvosoban-stan--prodaja/oid/3311708',\n",
       " 'https://www.index.hr/oglasi/stan-split-grad/oid/3719939',\n",
       " 'https://www.index.hr/oglasi/split--novogradnja--stan-1--kat--51m2--/oid/3778976',\n",
       " 'https://www.index.hr/oglasi/stan-split-meje/oid/3670126',\n",
       " 'https://www.index.hr/oglasi/stan-split-pogled/oid/3667950',\n",
       " 'https://www.index.hr/oglasi/stan-split-zapadna-obala-119-00-m2/oid/3821104',\n",
       " 'https://www.index.hr/oglasi/grad---komforan-stan-u-palaci/oid/2350170',\n",
       " 'https://www.index.hr/oglasi/povoljan-stan-na-sucidru-/oid/3810726',\n",
       " 'https://www.index.hr/oglasi/split--bol--dvosoban-stan-sa-garazom--prodaja/oid/2892926',\n",
       " 'https://www.index.hr/oglasi/split--meje--stan-120-m2--garaza--prodaja/oid/2573586',\n",
       " 'https://www.index.hr/oglasi/prekrasan-jedinstven-stan-na-top-lokaciji-164-m2-prodaja/oid/3477886',\n",
       " 'https://www.index.hr/oglasi/split-sucidar-dvosoban-stan-68m2-na-cetvrtom-katu-bez-lifta/oid/3653862',\n",
       " 'https://www.index.hr/oglasi/stan-split-useljivo-odmah/oid/3720856',\n",
       " 'https://www.index.hr/oglasi/stan-split-kocunar/oid/3753170',\n",
       " 'https://www.index.hr/oglasi/split--manus--trosoban-stan/oid/3525796',\n",
       " 'https://www.index.hr/oglasi/spinut-apartman-s-tri-sobe-jedinice/oid/3782592',\n",
       " 'https://www.index.hr/oglasi/split--marjan--trosoban-stan--prodaja/oid/3133527',\n",
       " 'https://www.index.hr/oglasi/dvoetazni-stan-u-dioklecijanovoj-palaci-120-m2-predivan-pano/oid/2815459',\n",
       " 'https://www.index.hr/oglasi/split-znjan-stan-2s-db-46-80m2---terasa20-m2/oid/3434566',\n",
       " 'https://www.index.hr/oglasi/studio-apartman-blizu-prve-vidilice-sa-pogledom/oid/3705756',\n",
       " 'https://www.index.hr/oglasi/plokite---dvosobni-stan-odmah-useljiv/oid/3576269',\n",
       " 'https://www.index.hr/oglasi/stan-split/oid/3653213',\n",
       " 'https://www.index.hr/oglasi/split--centar-grada--komforan-stan-od-116-m2--izvrstan-za-turizam/oid/3722126',\n",
       " 'https://www.index.hr/oglasi/stan-split-plokite/oid/3500777',\n",
       " 'https://www.index.hr/oglasi/stan-split-manus/oid/951603',\n",
       " 'https://www.index.hr/oglasi/split--zapadna-obala--trosoban--112-m2--4--kat--prodajemo/oid/2885511',\n",
       " 'https://www.index.hr/oglasi/bacvice---trosoban-stan/oid/3443834',\n",
       " 'https://www.index.hr/oglasi/split-blatine-80-m2-pogled-na-more/oid/3298029',\n",
       " 'https://www.index.hr/oglasi/split--znjan--cetverosoban-stan--prodaja/oid/1764436',\n",
       " 'https://www.index.hr/oglasi/split-kocunar-stan-78m2-kompletno-renoviran-i-namjesten---/oid/3543838',\n",
       " 'https://www.index.hr/oglasi/split--meje--dvosoban-stan--prodaja/oid/2473748',\n",
       " 'https://www.index.hr/oglasi/split--grad--trosobni-stan--prodaja/oid/2438544',\n",
       " 'https://www.index.hr/oglasi/split--grad--dva-apartmana-u-dioklecijanovoj-palaci--44m2/oid/3329088',\n",
       " 'https://www.index.hr/oglasi/centar-grada-stan-s-pogledom-na-more/oid/3779691',\n",
       " 'https://www.index.hr/oglasi/stan-split-85-00-m2-novo-bacvice-prodaja/oid/3310451',\n",
       " 'https://www.index.hr/oglasi/split--sucidar-trosoban-stan/oid/3574918',\n",
       " 'https://www.index.hr/oglasi/split-centar-trosoban-dvoetazan-stan--/oid/701832',\n",
       " 'https://www.index.hr/oglasi/split-sucidar-stan-87m2-na-petom-katu-s-pogledom-na-more/oid/3587214',\n",
       " 'https://www.index.hr/oglasi/trosoban-komforan-stan--split--bacvice--72-m2/oid/3740078',\n",
       " 'https://www.index.hr/oglasi/split--meje--trosoban-stan--prodaja/oid/417812',\n",
       " 'https://www.index.hr/oglasi/split--riva--stan-1-red-do-mora--prodaja/oid/508766',\n",
       " 'https://www.index.hr/oglasi/split-odlican-stan-u-strogom-centru-grada/oid/1184602',\n",
       " 'https://www.index.hr/oglasi/stan-split-bacvice/oid/3577929',\n",
       " 'https://www.index.hr/oglasi/trosoban-stan-na-bacvicama--93m2-/oid/3508976',\n",
       " 'https://www.index.hr/oglasi/centar-jednosoban-stan-u-blizini-rive/oid/3782584',\n",
       " 'https://www.index.hr/oglasi/renoviran-stan-s-tri-zasebne-stambene-jedinice-/oid/3496666',\n",
       " 'https://www.index.hr/oglasi/kupujem-stan-u-splitu/oid/3621850',\n",
       " 'https://www.index.hr/oglasi/split-lovret-dvosoban-stan-54m2-na-trecem-katu/oid/3568366',\n",
       " 'https://www.index.hr/oglasi/stan-split-67-00-m2-novo-u-ponudi-prodaja/oid/3814938',\n",
       " 'https://www.index.hr/oglasi/split-znjan--luxuzan-penthouse--panoramski-pogled--192m2-terasa-65m/oid/948998',\n",
       " 'https://www.index.hr/oglasi/centar-grada-dvosoban-stan-88-m2/oid/3671849',\n",
       " 'https://www.index.hr/oglasi/split-manus-stan-105m2/oid/3768986',\n",
       " 'https://www.index.hr/oglasi/split-brda-4-soban-stan-75m2-prizemlje-vrt-garaza/oid/2724427',\n",
       " 'https://www.index.hr/oglasi/split-grad--troetazni-apartman-na-u-srcu-grada-/oid/3480979',\n",
       " 'https://www.index.hr/oglasi/stan-split-meje/oid/3504442',\n",
       " 'https://www.index.hr/oglasi/split--znjan---trosoban-stan--pogled-na-more--garaza/oid/3624785',\n",
       " 'https://www.index.hr/oglasi/stan-split-znjan/oid/3549862',\n",
       " 'https://www.index.hr/oglasi/split-strogi-centar--dvosoban-stan-55m2--prizemlje--zatvoreno-dvoriste/oid/2731413',\n",
       " 'https://www.index.hr/oglasi/novogradnja---komforan--trosoban-stan-s-balkonom-i-pogledom-na-more--/oid/3798550',\n",
       " 'https://www.index.hr/oglasi/stan-u-centru-grada-dva-apartmana-66-m2/oid/3418242',\n",
       " 'https://www.index.hr/oglasi/split-split-3-trosoban-stan-75m2-na-odlicnoj-lokaciji/oid/3761050',\n",
       " 'https://www.index.hr/oglasi/split-smiljaniceva-blizu-jokera-dvosoban-stan-moguca-zamjena-za-manji-stan/oid/3811123',\n",
       " 'https://www.index.hr/oglasi/stan-split-zvonimirova-ulica-78m-blizina-centra-firula-bacvica/oid/3813517',\n",
       " 'https://www.index.hr/oglasi/split-grad-manus-stan-94-28-m2-renoviran-i-uredjen/oid/3740548',\n",
       " 'https://www.index.hr/oglasi/stan-split-spinut/oid/3579394',\n",
       " 'https://www.index.hr/oglasi/stan-split-kocunar/oid/3749348',\n",
       " 'https://www.index.hr/oglasi/split-kmna-sibenska-61m2-1sdb-179-000e-zg-jug-balkon-lift-095-400-9996/oid/3577774',\n",
       " 'https://www.index.hr/oglasi/stan-split-kocunar/oid/3295572',\n",
       " 'https://www.index.hr/oglasi/split--dobri--dvosobni-stan--prodaja/oid/3283846',\n",
       " 'https://www.index.hr/oglasi/stan-split/oid/3577165',\n",
       " 'https://www.index.hr/oglasi/stan-split-spinut-novo/oid/3826646',\n",
       " 'https://www.index.hr/oglasi/stan-split-gripe/oid/3677254',\n",
       " 'https://www.index.hr/oglasi/split--varos--trosoban-stan--prodaja/oid/1290304',\n",
       " 'https://www.index.hr/oglasi/split-3--trosoban-stan--2s-db---prodaja/oid/3550704',\n",
       " 'https://www.index.hr/oglasi/split--pjaca--dvoetazni-stan-100m2-na-najboljoj-lokaciji-u-g/oid/2815457',\n",
       " 'https://www.index.hr/oglasi/split--plokite--trosobni-stan--prodaja/oid/3787867',\n",
       " 'https://www.index.hr/oglasi/split--dobri--stan---visenamjenski-poslovni-prostor--prodaja/oid/2752766',\n",
       " 'https://www.index.hr/oglasi/split--kman--dvosoban-stan-60-m2--6-6-kat--lift/oid/3144291',\n",
       " 'https://www.index.hr/oglasi/3s-stan-u-splitu--simiceva--75m2/oid/3690801',\n",
       " 'https://www.index.hr/oglasi/stan-split-sucidar-novo-renovirano/oid/3752772',\n",
       " 'https://www.index.hr/oglasi/split--grad--tri-luksuzne-sobe--prodaja/oid/3360597',\n",
       " 'https://www.index.hr/oglasi/centar-luksuzan-dvosoban-stan/oid/3801758',\n",
       " 'https://www.index.hr/oglasi/split--novogradnja---jednosoban-stan--s-vrtom-60-m2/oid/3778965',\n",
       " 'https://www.index.hr/oglasi/stan-split-varos/oid/3622376',\n",
       " 'https://www.index.hr/oglasi/stan-u-centru-grada-dvije-stambene-jedinice/oid/3779641',\n",
       " 'https://www.index.hr/oglasi/stan-split-brda/oid/3525212',\n",
       " 'https://www.index.hr/oglasi/stan-split-novogradnja/oid/3821713',\n",
       " 'https://www.index.hr/oglasi/komforan-trosoban-stan--/oid/2629998',\n",
       " 'https://www.index.hr/oglasi/jednosoban-stan-blizu-centra---varos/oid/3174433',\n",
       " 'https://www.index.hr/oglasi/split-znjan-odlican-4s-stan-s-pogledom-na-more--2-terase--garazom---parkingom/oid/3705849',\n",
       " 'https://www.index.hr/oglasi/split--znjan--dvosoban-stan--parking-novogradnja/oid/3672722',\n",
       " 'https://www.index.hr/oglasi/stan-split-lucac-novo-lux/oid/3474078',\n",
       " 'https://www.index.hr/oglasi/split-70-00-m2-renoviran-atraktivna-lokacija/oid/3726822',\n",
       " 'https://www.index.hr/oglasi/lijepi-trosoban-stan-blatine-95-m2-prodaja/oid/3782702',\n",
       " 'https://www.index.hr/oglasi/bacvice---investicija----luksuzne-sobe/oid/2100459',\n",
       " 'https://www.index.hr/oglasi/hrvatska-split-znjan-trosoban-stan-s-pogledom-na-more/oid/3750796',\n",
       " 'https://www.index.hr/oglasi/split-moderni-dvosobni-apartman-u-novogradnji/oid/3767354',\n",
       " 'https://www.index.hr/oglasi/split-orina-zgrada-dvosoban-stan-62-m2-na-2-katu-jug-prodaja/oid/3389304',\n",
       " 'https://www.index.hr/oglasi/split-znjan-3-s-stan-s-prekrasnim-pogledom-na-more-i-otoke/oid/3050782',\n",
       " 'https://www.index.hr/oglasi/split-sucidar-trosoban-stan-82m2-s-garazom-i-2-vanjska-parking-mjesta/oid/3723372',\n",
       " 'https://www.index.hr/oglasi/split---marmontova-ulica--trosoban-stan-velikog-potencijala-/oid/3180372',\n",
       " 'https://www.index.hr/oglasi/split-gripe-trosoban-1-kat-80-80-m2/oid/3699219',\n",
       " 'https://www.index.hr/oglasi/dvosoban-stan---novogradnja--split--znjan--52-m2/oid/3799531',\n",
       " 'https://www.index.hr/oglasi/split--znjan--dvosoban-stan-u-prizemlju-novogradnja/oid/3755254',\n",
       " 'https://www.index.hr/oglasi/kamen---gradjevinsko-zemljiste-/oid/2737450',\n",
       " 'https://www.index.hr/oglasi/stan-split-meje/oid/3779633',\n",
       " 'https://www.index.hr/oglasi/split--dobri--1-5-sobni-stan--prodaja/oid/1321736',\n",
       " 'https://www.index.hr/oglasi/sucidar-moderan-dvosoban-stan/oid/3780973',\n",
       " 'https://www.index.hr/oglasi/split-dom-rata-80m2-2sdb-255-000e-zg-balkon-blizina-centar-grada-0954009996/oid/3549011',\n",
       " 'https://www.index.hr/oglasi/stan-78-m2--2s-db-balkon/oid/3755123',\n",
       " 'https://www.index.hr/oglasi/split-manus-prekrasan-stan-u-neposrednoj-blizini-povijesne-jezgre-116m/oid/1093201',\n",
       " 'https://www.index.hr/oglasi/split-122m2-3sdb-180-000e-1475e-m2-095-400-9996-hitno/oid/3297755',\n",
       " 'https://www.index.hr/oglasi/grad---de-lux-novootvoreni-hotel/oid/2093972',\n",
       " 'https://www.index.hr/oglasi/split--grad--trosobni-stan--prodaja/oid/2073130',\n",
       " 'https://www.index.hr/oglasi/brda-77m2-2sdb-2500e-m2-zg-jug-lift-balkon-0954009996/oid/3525632',\n",
       " 'https://www.index.hr/oglasi/stan-split/oid/3687479',\n",
       " 'https://www.index.hr/oglasi/split-44-00-m2-1-kat-jednosobni-jug/oid/3814945',\n",
       " 'https://www.index.hr/oglasi/split-bol-62m2-2s-210-000e-zg-jug-balkon-bez-lifta-095-400-9996/oid/3570200',\n",
       " 'https://www.index.hr/oglasi/split-dobri-dva-apartmana-na-prvom-i-drugom-katu-kuce-centar/oid/3723364',\n",
       " 'https://www.index.hr/oglasi/prodaja-odlicnog-stana-na-top-lokaciji-novo-na-trzistu/oid/3353557',\n",
       " 'https://www.index.hr/oglasi/split--blatine--trosoban-stan--prodaja/oid/2563605',\n",
       " 'https://www.index.hr/oglasi/visoka-split--prekrasan-dvosobni--dvoetazni-stan-/oid/3398053',\n",
       " 'https://www.index.hr/oglasi/split--znjan--prodaja-jednosoban-stan--parking-novogradnja/oid/3672717',\n",
       " 'https://www.index.hr/oglasi/split--znjan---luksuzan--trosobni-stan-s-bazenom-i-velikom-grazom--prodaja/oid/3657131',\n",
       " 'https://www.index.hr/oglasi/smrdecac-2s-75m2-odlican-stan/oid/3544559',\n",
       " 'https://www.index.hr/oglasi/split--dioklecijanova-palaca--3sobni-stan--cca-68m2-/oid/2305022',\n",
       " 'https://www.index.hr/oglasi/dvosoban-stan-lovret-54m2-prodaja/oid/3797987',\n",
       " 'https://www.index.hr/oglasi/stan-split-useljivo-odmah/oid/3733455',\n",
       " 'https://www.index.hr/oglasi/stan-split-kman-luksuzno-uredjen-78-00-m2-prodaja/oid/3333116',\n",
       " 'https://www.index.hr/oglasi/stan-unutar-dioklecijanove-palace/oid/3779694',\n",
       " 'https://www.index.hr/oglasi/stan-split-useljivo-odmah-sa-dva-garazna-mjesta/oid/3784534',\n",
       " 'https://www.index.hr/oglasi/moderne-sobe-za-turisticki-najam-88m2-centar-grada/oid/3523014',\n",
       " 'https://www.index.hr/oglasi/split-kocunar-mosecka-trosoban-stan-80m2-na-osmom-katu-nebodera-/oid/3751690',\n",
       " 'https://www.index.hr/oglasi/split-centar-zemljiste-i-4-s-stan-1050-eur-m2/oid/3309240',\n",
       " 'https://www.index.hr/oglasi/split--marjan-prodaja-stan-s-podrumom--velikom-terasom-i-parkingom/oid/3473236',\n",
       " 'https://www.index.hr/oglasi/stan-split-centar/oid/3651326',\n",
       " 'https://www.index.hr/oglasi/split--dizajnerski-stan-na-atraktivnoj-lokaciji/oid/3473408',\n",
       " 'https://www.index.hr/oglasi/split-lovret-prekrasan-3s-stan-s-balkonom/oid/3776047',\n",
       " 'https://www.index.hr/oglasi/pazdigrad-moderan-jednosoban-stan/oid/3782587',\n",
       " 'https://www.index.hr/oglasi/split--blatine---dvosoban-stan-na-odlicnoj-lokaciji/oid/3819205',\n",
       " 'https://www.index.hr/oglasi/stan-split-meje/oid/3577272',\n",
       " 'https://www.index.hr/oglasi/split-duilovo-49m2-140-000e-zg-lift-hitnoo-0954009996/oid/3297668',\n",
       " 'https://www.index.hr/oglasi/split--bacvice-trosoban-stan/oid/3191053',\n",
       " 'https://www.index.hr/oglasi/split--kman--komforan-trosoban-stan-s-velikom-terasom/oid/1608481',\n",
       " 'https://www.index.hr/oglasi/novo-u-ponudi--split-varos--mala-kucica--prizemnica-s-krovom--42m2/oid/2622611',\n",
       " 'https://www.index.hr/oglasi/dvosoban--komforan-stan-s-juznom-lodjom---split-plokite/oid/3585088',\n",
       " 'https://www.index.hr/oglasi/stan-split-manus/oid/3670086',\n",
       " 'https://www.index.hr/oglasi/jednosobni-komforni-stan-u-centru-grada--50-m2/oid/3581243',\n",
       " 'https://www.index.hr/oglasi/stan-split-85-m2-dobri-prodaja-zamjena-prilika-citaj/oid/2668756',\n",
       " 'https://www.index.hr/oglasi/stan-split-plokite-novo-prilika/oid/3771658',\n",
       " 'https://www.index.hr/oglasi/dvosoban-komforan-stan--split--bol--63-m2/oid/3757808',\n",
       " 'https://www.index.hr/oglasi/split--mertojak--trosoban-stan--prodaja/oid/1222107',\n",
       " 'https://www.index.hr/oglasi/stan-split-centar/oid/3646438',\n",
       " 'https://www.index.hr/oglasi/stan-split-pujanke/oid/3745912',\n",
       " 'https://www.index.hr/oglasi/snizeno-stan-bez-agencije/oid/3733553',\n",
       " 'https://www.index.hr/oglasi/split--znjan--trosoban-stan/oid/3632680',\n",
       " 'https://www.index.hr/oglasi/split--meje--cetverosoban-stan--prodaja/oid/2473746',\n",
       " 'https://www.index.hr/oglasi/split--varos--stan--prodaja--61-m2/oid/419008',\n",
       " 'https://www.index.hr/oglasi/grad---jednosobni-stan/oid/2121950',\n",
       " 'https://www.index.hr/oglasi/stan-split-gripe/oid/3758510',\n",
       " 'https://www.index.hr/oglasi/novogradnja-visoka-96-61-m2-bez-agencijske-provizije/oid/3528805',\n",
       " 'https://www.index.hr/oglasi/bacvice-komforan-dvosoban-apartman/oid/3823088',\n",
       " 'https://www.index.hr/oglasi/stan-split/oid/3655281',\n",
       " 'https://www.index.hr/oglasi/split--sucidar--dvoetazni-trosobni-stan--prodaja/oid/3658744',\n",
       " 'https://www.index.hr/oglasi/plokite---novo---stan-u-blizini-svih-sadrzaja--/oid/3823629',\n",
       " 'https://www.index.hr/oglasi/stan-split-meje/oid/2006379',\n",
       " 'https://www.index.hr/oglasi/stan--bacvice--70-00-m2/oid/3693205',\n",
       " 'https://www.index.hr/oglasi/split-spinut-za-renoviranje-50m2-balkon-159-000e-095-400-9996/oid/3656971',\n",
       " 'https://www.index.hr/oglasi/stan-split-poljud-109-m2-dvoetazni-cetverosobni/oid/3605022',\n",
       " 'https://www.index.hr/oglasi/novo--split-trstenik-trosoban-stan-s-predivnim-pogledom-na-grad-i-more/oid/1800496',\n",
       " 'https://www.index.hr/oglasi/manus-garsonijera/oid/3759284',\n",
       " 'https://www.index.hr/oglasi/split-bol--prizemlje--stan-ili-poslovni-prostor-65m2-sa-dva-ulaza/oid/3730949',\n",
       " 'https://www.index.hr/oglasi/stan-split-centar/oid/3634768',\n",
       " 'https://www.index.hr/oglasi/stan-split-zapadna-obala-119-00-m2-prodaja/oid/3421036',\n",
       " 'https://www.index.hr/oglasi/split--znjan--atraktivan-2-etazni--3-sobni-stan-62-m2/oid/3632898',\n",
       " 'https://www.index.hr/oglasi/split--manus--trosoban-stan--prodaja/oid/3684425',\n",
       " 'https://www.index.hr/oglasi/firule--trosobni-stan-68m2-sa-pripadajucim-dvoristem-70m2/oid/3358953',\n",
       " 'https://www.index.hr/oglasi/2s-znjan-pogled-na-more-garaza/oid/3821095',\n",
       " 'https://www.index.hr/oglasi/novogradnja-visoka-42-23m2-bez-agencijske-provizije/oid/3528813',\n",
       " 'https://www.index.hr/oglasi/split--plokite--dvosoban-stan-64-m2-u-stambenoj-zgradi/oid/3767811',\n",
       " 'https://www.index.hr/oglasi/split-znjan-stan-s-db-38-40m2---terasa-9m2/oid/3434567',\n",
       " 'https://www.index.hr/oglasi/split--znjanski-blizanci--predivan-juzni-stan--novo-namjesten-garaza/oid/3730950',\n",
       " 'https://www.index.hr/oglasi/komforan-stan-na-bacvicama-/oid/701652',\n",
       " 'https://www.index.hr/oglasi/split--sucicar---trosoban-stan-75-m2/oid/3713508',\n",
       " 'https://www.index.hr/oglasi/novogradnja-split-visoka-dvoetazno-prizemlje-36-m2/oid/3790343',\n",
       " 'https://www.index.hr/oglasi/lijepi-jednosoban-stan-u-samom-centru-grada/oid/3663536',\n",
       " 'https://www.index.hr/oglasi/split--sucidar--dvosoban-stan-s-dvorom/oid/3792784',\n",
       " 'https://www.index.hr/oglasi/stan-split-novogradnja/oid/3804567',\n",
       " 'https://www.index.hr/oglasi/split--lovret--dvosoban-stan--prodaja/oid/3598126',\n",
       " 'https://www.index.hr/oglasi/kman-2-sob-stan-u-prizemlju-s-dvoristem-i-vrtom/oid/3488912',\n",
       " 'https://www.index.hr/oglasi/split--trstenik-stan-sa-pogledom-na-more-/oid/3827587',\n",
       " 'https://www.index.hr/oglasi/znjan-veliki-trosoban-suncan-stan-sa-prekrasnom-terasom/oid/3298638',\n",
       " 'https://www.index.hr/oglasi/stan-se-nalazi-u-ulici-matice-hrvatske--u-privatnoj-zgradi--/oid/3534549',\n",
       " 'https://www.index.hr/oglasi/brda-71m2-2sdb-200-000e-zg-jug-lift-balkon-3kat-0954009996/oid/3525633',\n",
       " 'https://www.index.hr/oglasi/dvosoban-stan-spinut-62m2/oid/3600544',\n",
       " 'https://www.index.hr/oglasi/split-manus-trosoban-stan-105m2-odlicna-lokacija/oid/3790899',\n",
       " 'https://www.index.hr/oglasi/dvosoban-stan-split-novogradnja/oid/3800980',\n",
       " 'https://www.index.hr/oglasi/split--mertojak--dvosoban-stan--prodaja/oid/3682988',\n",
       " 'https://www.index.hr/oglasi/split-bol-lux-uredjen-50-00-m2/oid/3726843',\n",
       " 'https://www.index.hr/oglasi/stan-split-blatine/oid/3741751']"
      ]
     },
     "execution_count": 6,
     "metadata": {},
     "output_type": "execute_result"
    }
   ],
   "source": [
    "oglasi"
   ]
  },
  {
   "cell_type": "code",
   "execution_count": 7,
   "metadata": {},
   "outputs": [
    {
     "name": "stdout",
     "output_type": "stream",
     "text": [
      "https://www.index.hr/oglasi/prodaja-stanova/gid/3278?pojam=&sortby=1&elementsNum=100&cijenaod=0&cijenado=21000000&tipoglasa=1&pojamZup=1164&grad=1578&naselje=&attr_Int_988=&attr_Int_887=&attr_bit_stan=&attr_bit_brojEtaza=&attr_gr_93_1=&attr_gr_93_2=&attr_Int_978=&attr_Int_1334=&attr_bit_eneregetskiCertifikat=&vezani_na=988-887_562-563_978-1334\n",
      "https://www.index.hr/oglasi/prodaja-stanova/gid/3278?pojam=&sortby=1&elementsNum=100&cijenaod=0&cijenado=21000000&tipoglasa=1&pojamZup=1164&grad=1578&naselje=&attr_Int_988=&attr_Int_887=&attr_bit_stan=&attr_bit_brojEtaza=&attr_gr_93_1=&attr_gr_93_2=&attr_Int_978=&attr_Int_1334=&attr_bit_eneregetskiCertifikat=&vezani_na=988-887_562-563_978-1334\n",
      "https://www.index.hr/oglasi/prodaja-stanova/gid/3278?pojam=&sortby=1&elementsNum=100&cijenaod=0&cijenado=21000000&tipoglasa=1&pojamZup=1164&grad=1578&naselje=&attr_Int_988=&attr_Int_887=&attr_bit_stan=&attr_bit_brojEtaza=&attr_gr_93_1=&attr_gr_93_2=&attr_Int_978=&attr_Int_1334=&attr_bit_eneregetskiCertifikat=&vezani_na=988-887_562-563_978-1334\n",
      "https://www.index.hr/oglasi/prodaja-stanova/gid/3278?pojam=&sortby=1&elementsNum=100&cijenaod=0&cijenado=21000000&tipoglasa=1&pojamZup=1164&grad=1578&naselje=&attr_Int_988=&attr_Int_887=&attr_bit_stan=&attr_bit_brojEtaza=&attr_gr_93_1=&attr_gr_93_2=&attr_Int_978=&attr_Int_1334=&attr_bit_eneregetskiCertifikat=&vezani_na=988-887_562-563_978-1334\n",
      "https://www.index.hr/oglasi/prodaja-stanova/gid/3278?pojam=&sortby=1&elementsNum=100&cijenaod=0&cijenado=21000000&tipoglasa=1&pojamZup=1164&grad=1578&naselje=&attr_Int_988=&attr_Int_887=&attr_bit_stan=&attr_bit_brojEtaza=&attr_gr_93_1=&attr_gr_93_2=&attr_Int_978=&attr_Int_1334=&attr_bit_eneregetskiCertifikat=&vezani_na=988-887_562-563_978-1334\n",
      "https://www.index.hr/oglasi/prodaja-stanova/gid/3278?pojam=&sortby=1&elementsNum=100&cijenaod=0&cijenado=21000000&tipoglasa=1&pojamZup=1164&grad=1578&naselje=&attr_Int_988=&attr_Int_887=&attr_bit_stan=&attr_bit_brojEtaza=&attr_gr_93_1=&attr_gr_93_2=&attr_Int_978=&attr_Int_1334=&attr_bit_eneregetskiCertifikat=&vezani_na=988-887_562-563_978-1334\n"
     ]
    }
   ],
   "source": [
    "for page in pages:\n",
    "    try:\n",
    "        page = requests.get(url)    \n",
    "\n",
    "        soup = BeautifulSoup(page.content, \"html.parser\")\n",
    "\n",
    "        my_dict = {}\n",
    "        osnovno = soup.find_all('li', attrs={'class':'labela'})\n",
    "        for row in osnovno:\n",
    "            a = row.text\n",
    "            b = row.findNextSibling().get_text().replace(\"\\r\\n\", \"\")\n",
    "\n",
    "            if a in my_dict.keys():\n",
    "                if b < my_dict[a]:\n",
    "                    my_dict[a] = b\n",
    "                else:\n",
    "                    pass\n",
    "            else:\n",
    "                my_dict[a] = b\n",
    "\n",
    "        my_dict[\"Cijena\"] = soup.find('div', attrs={'class':'price'}).find('span').text\n",
    "        my_dict[\"Link\"] = url\n",
    "\n",
    "        datum = soup.find_all('div', attrs={'class':'published'})\n",
    "        regex = r\"\\d{2}.\\d{2}.\\d{4}\"\n",
    "        date = re.findall(regex,datum[1].get_text())[0]\n",
    "        my_dict[\"Datum\"] = date\n",
    "    except:\n",
    "        print(url)\n",
    "        pass\n",
    "\n"
   ]
  },
  {
   "cell_type": "code",
   "execution_count": 8,
   "metadata": {},
   "outputs": [
    {
     "data": {
      "text/plain": [
       "{}"
      ]
     },
     "execution_count": 8,
     "metadata": {},
     "output_type": "execute_result"
    }
   ],
   "source": [
    "my_dict"
   ]
  },
  {
   "cell_type": "code",
   "execution_count": null,
   "metadata": {},
   "outputs": [],
   "source": [
    "    URL_st = \"https://www.index.hr/oglasi/prodaja-stanova/gid/3278?pojam=&sortby=1&elementsNum=100&cijenaod=0&cijenado=21000000&tipoglasa=1&pojamZup=1164&grad=1578&naselje=&attr_Int_988=&attr_Int_887=&attr_bit_stan=&attr_bit_brojEtaza=&attr_gr_93_1=&attr_gr_93_2=&attr_Int_978=&attr_Int_1334=&attr_bit_eneregetskiCertifikat=&vezani_na=988-887_562-563_978-1334\"\n",
    "\n",
    "    url = URL_st\n",
    "    city_name = \"Split\"\n",
    "    ime = \"_split\"\n",
    "\n",
    "\n",
    "\n",
    "    #find all pages\n",
    "    pages = catch_links_all_pages(url)\n",
    "    \n",
    "    #scrape all pages\n",
    "    data_list = []\n",
    "    for page in pages:\n",
    "        try:\n",
    "            data_list.append(data_dict_index(page))\n",
    "        except:\n",
    "            pass\n",
    "\n",
    "    #create dataframe\n",
    "        df = pd.DataFrame(data_list)"
   ]
  },
  {
   "cell_type": "code",
   "execution_count": 3,
   "metadata": {},
   "outputs": [],
   "source": [
    "\n",
    "#Data Scraping Functions\n",
    "\n",
    "def catch_links_all_pages(url):\n",
    "    oglasi = []\n",
    "    page1 = requests.get(url)\n",
    "    soup1 = BeautifulSoup(page1.content, \"html.parser\")\n",
    "\n",
    "    #Extract the number of pages from navigation bar\n",
    "    page_nav_class = soup1.find_all('ul', attrs={'class':\"pagination\"}) \n",
    "    page_nav = page_nav_class[0].find_all('li')\n",
    "    #Take the last navigation element\n",
    "    last = page_nav[-1]\n",
    "    #Extract the number and clean data\n",
    "    page_number = last.find('a').get('href')[-3:]\n",
    "    page_number = re.sub(\"[^0-9]\", \"\", page_number)\n",
    "    fix = \"&num=\"\n",
    "    \n",
    "    #Create a list of all pages with links\n",
    "    pages = []\n",
    "    pages.append(url)\n",
    "    for i in range(2,int(page_number)+1):\n",
    "            link = url + fix + str(i)\n",
    "            pages.append(link)\n",
    "    \n",
    "    pages = list(set(pages))\n",
    "       \n",
    "    #Scrape all resluts from every page\n",
    "    for page in pages:        \n",
    "        web_page = requests.get(page)\n",
    "        soup1 = BeautifulSoup(web_page.content, \"html.parser\")\n",
    "        results = soup1.find_all('div', attrs={'class':\"OglasiRezHolder\"}) \n",
    "        for result in results:\n",
    "            try:\n",
    "                link = result.find('a').get('href')\n",
    "                oglasi.append(link)\n",
    "            except:\n",
    "                pass\n",
    "\n",
    "    oglasi = list(set(oglasi))\n",
    "\n",
    "    return oglasi\n",
    "\n",
    "def data_dict_index(url):\n",
    "    page = requests.get(url)    \n",
    "\n",
    "    soup = BeautifulSoup(page.content, \"html.parser\")\n",
    "\n",
    "    my_dict = {}\n",
    "    osnovno = soup.find_all('li', attrs={'class':'labela'})\n",
    "    for row in osnovno:\n",
    "        a = row.text\n",
    "        b = row.findNextSibling().get_text().replace(\"\\r\\n\", \"\")\n",
    "\n",
    "        if a in my_dict.keys():\n",
    "            if b < my_dict[a]:\n",
    "                my_dict[a] = b\n",
    "            else:\n",
    "                pass\n",
    "        else:\n",
    "            my_dict[a] = b\n",
    "    \n",
    "    my_dict[\"Cijena\"] = soup.find('div', attrs={'class':'price'}).find('span').text\n",
    "    my_dict[\"Link\"] = url\n",
    "\n",
    "    datum = soup.find_all('div', attrs={'class':'published'})\n",
    "    regex = r\"\\d{2}.\\d{2}.\\d{4}\"\n",
    "    date = re.findall(regex,datum[1].get_text())[0]\n",
    "    my_dict[\"Datum\"] = date\n",
    "    return my_dict\n",
    "\n",
    "def dataframe_cleaner(df):\n",
    "    #df = pd.DataFrame(data_list)\n",
    "\n",
    "    #Data Cleaning\n",
    "\n",
    "    #Drop rows w/o sqm, convert sqm to float\n",
    "    df = df[df['Stambena površina u m2'].notna()]\n",
    "    df[\"Stambena površina u m2\"] = df[\"Stambena površina u m2\"].str.replace(\",\",\".\")\n",
    "    df[\"Stambena površina u m2\"] = df[\"Stambena površina u m2\"].astype('float')\n",
    "\n",
    "    #Convert price to float, remove no price rows, rempve unrealistic low prices\n",
    "    df[\"Cijena\"] = df[\"Cijena\"].str.replace(\"€\",\"\")\n",
    "\n",
    "    df[\"Cijena\"] = df[\"Cijena\"].str.replace(\".\",\"\")\n",
    "    df[\"Cijena\"] = df[\"Cijena\"].str.replace(\",\",\".\")\n",
    "\n",
    "    df[\"Cijena\"] = df[\"Cijena\"].str.replace(\" \",\"\")\n",
    "\n",
    "    df = df[df[\"Cijena\"] != \"0,00 \"]\n",
    "    df[\"Cijena\"] = df[\"Cijena\"].astype('float')\n",
    "    df = df[df[\"Cijena\"] > 10000]\n",
    "\n",
    "    #Replace Nan with \"No info\"\n",
    "    df['Godina izgradnje'].fillna('No INFO', inplace=True)\n",
    "\n",
    "    #Remove where m2 == 0\n",
    "    df = df[df[\"Stambena površina u m2\"] > 10]\n",
    "    df = df[df[\"Stambena površina u m2\"] < 10000]\n",
    "\n",
    "\n",
    "\n",
    "\n",
    "    #Add a price per sqm meter column\n",
    "    df[\"€/m²\"] = round(df[\"Cijena\"] / df[\"Stambena površina u m2\"],2)\n",
    "\n",
    "    #Convert Datum to datetime\n",
    "    df[\"Datum\"] = pd.to_datetime(df[\"Datum\"], format=\"%d.%m.%Y\")\n",
    "\n",
    "    #Calculate days online\n",
    "    df['Days Online'] = ( pd.Timestamp('now') - df['Datum']).dt.days\n",
    "\n",
    "    return df"
   ]
  },
  {
   "cell_type": "code",
   "execution_count": 17,
   "metadata": {},
   "outputs": [
    {
     "name": "stdout",
     "output_type": "stream",
     "text": [
      "589\n"
     ]
    }
   ],
   "source": [
    "url = \"https://www.index.hr/oglasi/prodaja-stanova/gid/3278?pojam=&sortby=1&elementsNum=100&cijenaod=0&cijenado=21000000&tipoglasa=1&pojamZup=1154&grad=1294&naselje=&attr_Int_988=&attr_Int_887=&attr_bit_stan=&attr_bit_brojEtaza=&attr_gr_93_1=&attr_gr_93_2=&attr_Int_978=&attr_Int_1334=&attr_bit_eneregetskiCertifikat=&vezani_na=988-887_562-563_978-1334\"\n",
    "oglasi = []\n",
    "page1 = requests.get(url)\n",
    "soup1 = BeautifulSoup(page1.content, \"html.parser\")\n",
    "\n",
    "#Extract the number of pages from navigation bar\n",
    "page_nav_class = soup1.find_all('ul', attrs={'class':\"pagination\"}) \n",
    "page_nav = page_nav_class[0].find_all('li')\n",
    "\n",
    "\n",
    "pages = []\n",
    "\n",
    "if not page_nav:\n",
    "    pages.append(url)\n",
    "\n",
    "else:\n",
    "    #Take the last navigation element\n",
    "    last = page_nav[-1]\n",
    "    #Extract the number and clean data\n",
    "    page_number = last.find('a').get('href')[-3:]\n",
    "    page_number = re.sub(\"[^0-9]\", \"\", page_number)\n",
    "    fix = \"&num=\"\n",
    "    # print(page_number)\n",
    "\n",
    "    #Create a list of all pages with links\n",
    "    pages.append(url)\n",
    "    for i in range(2,int(page_number)+1):\n",
    "            link = url + fix + str(i)\n",
    "            pages.append(link)\n",
    "\n",
    "    pages = list(set(pages))\n",
    "\n",
    "#Scrape all resluts from every page\n",
    "for page in pages:        \n",
    "    web_page = requests.get(page)\n",
    "    soup1 = BeautifulSoup(web_page.content, \"html.parser\")\n",
    "    results = soup1.find_all('div', attrs={'class':\"OglasiRezHolder\"}) \n",
    "    # print(len(results))\n",
    "    for result in results:\n",
    "        try:\n",
    "            link = result.find('a').get('href')\n",
    "            oglasi.append(link)\n",
    "        except:\n",
    "            pass\n",
    "\n",
    "print(len(oglasi))"
   ]
  },
  {
   "cell_type": "code",
   "execution_count": 12,
   "metadata": {},
   "outputs": [
    {
     "ename": "IndexError",
     "evalue": "list index out of range",
     "output_type": "error",
     "traceback": [
      "\u001b[1;31m---------------------------------------------------------------------------\u001b[0m",
      "\u001b[1;31mIndexError\u001b[0m                                Traceback (most recent call last)",
      "\u001b[1;32mc:\\Users\\borna.molnar-erhatic\\OneDrive - Swietelsky AG\\Dokumente\\06 Real Estate\\RealEstateApp\\Tester.ipynb Zelle 4\u001b[0m in \u001b[0;36m<module>\u001b[1;34m\u001b[0m\n\u001b[0;32m      <a href='vscode-notebook-cell:/c%3A/Users/borna.molnar-erhatic/OneDrive%20-%20Swietelsky%20AG/Dokumente/06%20Real%20Estate/RealEstateApp/Tester.ipynb#X40sZmlsZQ%3D%3D?line=3'>4</a>\u001b[0m ime \u001b[39m=\u001b[39m \u001b[39m\"\u001b[39m\u001b[39m_varazdin\u001b[39m\u001b[39m\"\u001b[39m\n\u001b[0;32m      <a href='vscode-notebook-cell:/c%3A/Users/borna.molnar-erhatic/OneDrive%20-%20Swietelsky%20AG/Dokumente/06%20Real%20Estate/RealEstateApp/Tester.ipynb#X40sZmlsZQ%3D%3D?line=7'>8</a>\u001b[0m \u001b[39m#find all pages\u001b[39;00m\n\u001b[1;32m----> <a href='vscode-notebook-cell:/c%3A/Users/borna.molnar-erhatic/OneDrive%20-%20Swietelsky%20AG/Dokumente/06%20Real%20Estate/RealEstateApp/Tester.ipynb#X40sZmlsZQ%3D%3D?line=8'>9</a>\u001b[0m pages \u001b[39m=\u001b[39m catch_links_all_pages(url)\n\u001b[0;32m     <a href='vscode-notebook-cell:/c%3A/Users/borna.molnar-erhatic/OneDrive%20-%20Swietelsky%20AG/Dokumente/06%20Real%20Estate/RealEstateApp/Tester.ipynb#X40sZmlsZQ%3D%3D?line=9'>10</a>\u001b[0m \u001b[39mlen\u001b[39m(pages)\n",
      "\u001b[1;32mc:\\Users\\borna.molnar-erhatic\\OneDrive - Swietelsky AG\\Dokumente\\06 Real Estate\\RealEstateApp\\Tester.ipynb Zelle 4\u001b[0m in \u001b[0;36mcatch_links_all_pages\u001b[1;34m(url)\u001b[0m\n\u001b[0;32m     <a href='vscode-notebook-cell:/c%3A/Users/borna.molnar-erhatic/OneDrive%20-%20Swietelsky%20AG/Dokumente/06%20Real%20Estate/RealEstateApp/Tester.ipynb#X40sZmlsZQ%3D%3D?line=9'>10</a>\u001b[0m page_nav \u001b[39m=\u001b[39m page_nav_class[\u001b[39m0\u001b[39m]\u001b[39m.\u001b[39mfind_all(\u001b[39m'\u001b[39m\u001b[39mli\u001b[39m\u001b[39m'\u001b[39m)\n\u001b[0;32m     <a href='vscode-notebook-cell:/c%3A/Users/borna.molnar-erhatic/OneDrive%20-%20Swietelsky%20AG/Dokumente/06%20Real%20Estate/RealEstateApp/Tester.ipynb#X40sZmlsZQ%3D%3D?line=10'>11</a>\u001b[0m \u001b[39m#Take the last navigation element\u001b[39;00m\n\u001b[1;32m---> <a href='vscode-notebook-cell:/c%3A/Users/borna.molnar-erhatic/OneDrive%20-%20Swietelsky%20AG/Dokumente/06%20Real%20Estate/RealEstateApp/Tester.ipynb#X40sZmlsZQ%3D%3D?line=11'>12</a>\u001b[0m last \u001b[39m=\u001b[39m page_nav[\u001b[39m-\u001b[39;49m\u001b[39m1\u001b[39;49m]\n\u001b[0;32m     <a href='vscode-notebook-cell:/c%3A/Users/borna.molnar-erhatic/OneDrive%20-%20Swietelsky%20AG/Dokumente/06%20Real%20Estate/RealEstateApp/Tester.ipynb#X40sZmlsZQ%3D%3D?line=12'>13</a>\u001b[0m \u001b[39m#Extract the number and clean data\u001b[39;00m\n\u001b[0;32m     <a href='vscode-notebook-cell:/c%3A/Users/borna.molnar-erhatic/OneDrive%20-%20Swietelsky%20AG/Dokumente/06%20Real%20Estate/RealEstateApp/Tester.ipynb#X40sZmlsZQ%3D%3D?line=13'>14</a>\u001b[0m page_number \u001b[39m=\u001b[39m last\u001b[39m.\u001b[39mfind(\u001b[39m'\u001b[39m\u001b[39ma\u001b[39m\u001b[39m'\u001b[39m)\u001b[39m.\u001b[39mget(\u001b[39m'\u001b[39m\u001b[39mhref\u001b[39m\u001b[39m'\u001b[39m)[\u001b[39m-\u001b[39m\u001b[39m3\u001b[39m:]\n",
      "\u001b[1;31mIndexError\u001b[0m: list index out of range"
     ]
    }
   ],
   "source": [
    "\n",
    "url = \"https://www.index.hr/oglasi/najam-stanova/gid/3279?pojam=&sortby=1&elementsNum=100&cijenaod=0&cijenado=21000000&tipoglasa=1&pojamZup=1166&grad=0&naselje=&attr_Int_988=&attr_Int_887=&attr_bit_stan=&attr_bit_brojEtaza=&attr_gr_93_1=&attr_gr_93_2=&attr_Int_978=&attr_Int_1334=&attr_bit_eneregetskiCertifikat=&vezani_na=988-887_562-563_978-1334\"\n",
    "\n",
    "city_name = \"Varazdin\"\n",
    "ime = \"_varazdin\"\n",
    "\n",
    "\n",
    "\n",
    "#find all pages\n",
    "pages = catch_links_all_pages(url)\n",
    "len(pages)"
   ]
  },
  {
   "cell_type": "code",
   "execution_count": 4,
   "metadata": {},
   "outputs": [],
   "source": [
    "url = 'https://www.index.hr/oglasi/najam-stanova/gid/3279?pojam=&sortby=1&elementsNum=100&cijenaod=0&cijenado=21000000&tipoglasa=1&pojamZup=1162&grad=1511&naselje=&attr_Int_988=&attr_Int_887=&attr_bit_stan=&attr_bit_brojEtaza=&attr_gr_93_1=&attr_gr_93_2=&attr_Int_978=&attr_Int_1334=&attr_bit_eneregetskiCertifikat=&vezani_na=988-887_562-563_978-1334'\n",
    "\n",
    "url_ro = \"https://www.index.hr/oglasi/prodaja-stanova/gid/3278?pojam=&sortby=1&elementsNum=100&cijenaod=0&cijenado=21000000&tipoglasa=1&pojamZup=1154&grad=1294&naselje=&attr_Int_988=&attr_Int_887=&attr_bit_stan=&attr_bit_brojEtaza=&attr_gr_93_1=&attr_gr_93_2=&attr_Int_978=&attr_Int_1334=&attr_bit_eneregetskiCertifikat=&vezani_na=988-887_562-563_978-1334\"\n",
    "pages = catch_links_all_pages(url_ro)\n",
    "\n",
    "\n",
    "\n",
    "\n",
    "#scrape all pages\n",
    "data_list = []\n",
    "for page in pages:\n",
    "    try:\n",
    "        data_list.append(data_dict_index(page))\n",
    "    except:\n",
    "        pass\n",
    "\n",
    "#create dataframe\n",
    "df = pd.DataFrame(data_list)"
   ]
  },
  {
   "cell_type": "code",
   "execution_count": 18,
   "metadata": {},
   "outputs": [
    {
     "data": {
      "text/plain": [
       "2692"
      ]
     },
     "execution_count": 18,
     "metadata": {},
     "output_type": "execute_result"
    }
   ],
   "source": [
    "len(df_raw.index)"
   ]
  },
  {
   "cell_type": "code",
   "execution_count": 24,
   "metadata": {},
   "outputs": [
    {
     "data": {
      "text/html": [
       "<div>\n",
       "<style scoped>\n",
       "    .dataframe tbody tr th:only-of-type {\n",
       "        vertical-align: middle;\n",
       "    }\n",
       "\n",
       "    .dataframe tbody tr th {\n",
       "        vertical-align: top;\n",
       "    }\n",
       "\n",
       "    .dataframe thead th {\n",
       "        text-align: right;\n",
       "    }\n",
       "</style>\n",
       "<table border=\"1\" class=\"dataframe\">\n",
       "  <thead>\n",
       "    <tr style=\"text-align: right;\">\n",
       "      <th></th>\n",
       "      <th>Županija</th>\n",
       "      <th>Grad/općina</th>\n",
       "      <th>Naselje</th>\n",
       "      <th>Stambena površina u m2</th>\n",
       "      <th>Broj soba</th>\n",
       "      <th>Kat</th>\n",
       "      <th>Zamjena</th>\n",
       "      <th>Tip oglasa</th>\n",
       "      <th>Prodavač</th>\n",
       "      <th>Broj etaža stana</th>\n",
       "      <th>...</th>\n",
       "      <th>Površina balkona u m2</th>\n",
       "      <th>Grijanje</th>\n",
       "      <th>email</th>\n",
       "      <th>Tip kuće</th>\n",
       "      <th>Broj etaža kuće</th>\n",
       "      <th>Površina okućnice u m2</th>\n",
       "      <th>Tip nekretnine za odmor</th>\n",
       "      <th>Provizija</th>\n",
       "      <th>Pozicija poslovnog prostora</th>\n",
       "      <th>Namjena poslovnog prostora</th>\n",
       "    </tr>\n",
       "  </thead>\n",
       "  <tbody>\n",
       "    <tr>\n",
       "      <th>0</th>\n",
       "      <td>Primorsko-goranska</td>\n",
       "      <td>Rijeka</td>\n",
       "      <td>Podmurvice</td>\n",
       "      <td>72</td>\n",
       "      <td>3-3.5 sobni\\n</td>\n",
       "      <td>3\\n</td>\n",
       "      <td>ne</td>\n",
       "      <td>ponuda</td>\n",
       "      <td>pravna osoba</td>\n",
       "      <td>Jednoetažni\\n</td>\n",
       "      <td>...</td>\n",
       "      <td>NaN</td>\n",
       "      <td>NaN</td>\n",
       "      <td>NaN</td>\n",
       "      <td>NaN</td>\n",
       "      <td>NaN</td>\n",
       "      <td>NaN</td>\n",
       "      <td>NaN</td>\n",
       "      <td>NaN</td>\n",
       "      <td>NaN</td>\n",
       "      <td>NaN</td>\n",
       "    </tr>\n",
       "    <tr>\n",
       "      <th>1</th>\n",
       "      <td>Primorsko-goranska</td>\n",
       "      <td>Rijeka</td>\n",
       "      <td>Centar</td>\n",
       "      <td>48</td>\n",
       "      <td>2</td>\n",
       "      <td>NaN</td>\n",
       "      <td>ne</td>\n",
       "      <td>ponuda</td>\n",
       "      <td>pravna osoba</td>\n",
       "      <td>NaN</td>\n",
       "      <td>...</td>\n",
       "      <td>NaN</td>\n",
       "      <td>NaN</td>\n",
       "      <td>NaN</td>\n",
       "      <td>NaN</td>\n",
       "      <td>NaN</td>\n",
       "      <td>NaN</td>\n",
       "      <td>NaN</td>\n",
       "      <td>NaN</td>\n",
       "      <td>NaN</td>\n",
       "      <td>NaN</td>\n",
       "    </tr>\n",
       "    <tr>\n",
       "      <th>2</th>\n",
       "      <td>Primorsko-goranska</td>\n",
       "      <td>Rijeka</td>\n",
       "      <td>Pećine</td>\n",
       "      <td>42</td>\n",
       "      <td>Garsonijera\\n</td>\n",
       "      <td>NaN</td>\n",
       "      <td>ne</td>\n",
       "      <td>ponuda</td>\n",
       "      <td>pravna osoba</td>\n",
       "      <td>Jednoetažni\\n</td>\n",
       "      <td>...</td>\n",
       "      <td>NaN</td>\n",
       "      <td>NaN</td>\n",
       "      <td>NaN</td>\n",
       "      <td>NaN</td>\n",
       "      <td>NaN</td>\n",
       "      <td>NaN</td>\n",
       "      <td>NaN</td>\n",
       "      <td>NaN</td>\n",
       "      <td>NaN</td>\n",
       "      <td>NaN</td>\n",
       "    </tr>\n",
       "    <tr>\n",
       "      <th>3</th>\n",
       "      <td>Primorsko-goranska</td>\n",
       "      <td>Rijeka</td>\n",
       "      <td>Centar</td>\n",
       "      <td>100</td>\n",
       "      <td>4+\\n</td>\n",
       "      <td>NaN</td>\n",
       "      <td>ne</td>\n",
       "      <td>ponuda</td>\n",
       "      <td>privatna osoba</td>\n",
       "      <td>Jednoetažni\\n</td>\n",
       "      <td>...</td>\n",
       "      <td>NaN</td>\n",
       "      <td>NaN</td>\n",
       "      <td>NaN</td>\n",
       "      <td>NaN</td>\n",
       "      <td>NaN</td>\n",
       "      <td>NaN</td>\n",
       "      <td>NaN</td>\n",
       "      <td>NaN</td>\n",
       "      <td>NaN</td>\n",
       "      <td>NaN</td>\n",
       "    </tr>\n",
       "    <tr>\n",
       "      <th>4</th>\n",
       "      <td>Primorsko-goranska</td>\n",
       "      <td>Rijeka</td>\n",
       "      <td>Zamet</td>\n",
       "      <td>70</td>\n",
       "      <td>4+\\n</td>\n",
       "      <td>NaN</td>\n",
       "      <td>ne</td>\n",
       "      <td>ponuda</td>\n",
       "      <td>privatna osoba</td>\n",
       "      <td>Jednoetažni\\n</td>\n",
       "      <td>...</td>\n",
       "      <td>NaN</td>\n",
       "      <td>NaN</td>\n",
       "      <td>NaN</td>\n",
       "      <td>NaN</td>\n",
       "      <td>NaN</td>\n",
       "      <td>NaN</td>\n",
       "      <td>NaN</td>\n",
       "      <td>NaN</td>\n",
       "      <td>NaN</td>\n",
       "      <td>NaN</td>\n",
       "    </tr>\n",
       "    <tr>\n",
       "      <th>...</th>\n",
       "      <td>...</td>\n",
       "      <td>...</td>\n",
       "      <td>...</td>\n",
       "      <td>...</td>\n",
       "      <td>...</td>\n",
       "      <td>...</td>\n",
       "      <td>...</td>\n",
       "      <td>...</td>\n",
       "      <td>...</td>\n",
       "      <td>...</td>\n",
       "      <td>...</td>\n",
       "      <td>...</td>\n",
       "      <td>...</td>\n",
       "      <td>...</td>\n",
       "      <td>...</td>\n",
       "      <td>...</td>\n",
       "      <td>...</td>\n",
       "      <td>...</td>\n",
       "      <td>...</td>\n",
       "      <td>...</td>\n",
       "      <td>...</td>\n",
       "    </tr>\n",
       "    <tr>\n",
       "      <th>2687</th>\n",
       "      <td>Primorsko-goranska</td>\n",
       "      <td>Rijeka</td>\n",
       "      <td>Zamet</td>\n",
       "      <td>82</td>\n",
       "      <td>4+\\n</td>\n",
       "      <td>NaN</td>\n",
       "      <td>ne</td>\n",
       "      <td>ponuda</td>\n",
       "      <td>privatna osoba</td>\n",
       "      <td>Jednoetažni\\n</td>\n",
       "      <td>...</td>\n",
       "      <td>NaN</td>\n",
       "      <td>NaN</td>\n",
       "      <td>NaN</td>\n",
       "      <td>NaN</td>\n",
       "      <td>NaN</td>\n",
       "      <td>NaN</td>\n",
       "      <td>NaN</td>\n",
       "      <td>NaN</td>\n",
       "      <td>NaN</td>\n",
       "      <td>NaN</td>\n",
       "    </tr>\n",
       "    <tr>\n",
       "      <th>2688</th>\n",
       "      <td>Primorsko-goranska</td>\n",
       "      <td>Rijeka</td>\n",
       "      <td>Pećine</td>\n",
       "      <td>50</td>\n",
       "      <td>1-1.5 sobni\\n</td>\n",
       "      <td>NaN</td>\n",
       "      <td>ne</td>\n",
       "      <td>ponuda</td>\n",
       "      <td>pravna osoba</td>\n",
       "      <td>Jednoetažni\\n</td>\n",
       "      <td>...</td>\n",
       "      <td>NaN</td>\n",
       "      <td>NaN</td>\n",
       "      <td>NaN</td>\n",
       "      <td>NaN</td>\n",
       "      <td>NaN</td>\n",
       "      <td>NaN</td>\n",
       "      <td>NaN</td>\n",
       "      <td>NaN</td>\n",
       "      <td>NaN</td>\n",
       "      <td>NaN</td>\n",
       "    </tr>\n",
       "    <tr>\n",
       "      <th>2689</th>\n",
       "      <td>Primorsko-goranska</td>\n",
       "      <td>Rijeka</td>\n",
       "      <td>Centar</td>\n",
       "      <td>296</td>\n",
       "      <td>4+\\n</td>\n",
       "      <td>NaN</td>\n",
       "      <td>ne</td>\n",
       "      <td>ponuda</td>\n",
       "      <td>pravna osoba</td>\n",
       "      <td>Jednoetažni\\n</td>\n",
       "      <td>...</td>\n",
       "      <td>NaN</td>\n",
       "      <td>NaN</td>\n",
       "      <td>NaN</td>\n",
       "      <td>NaN</td>\n",
       "      <td>NaN</td>\n",
       "      <td>NaN</td>\n",
       "      <td>NaN</td>\n",
       "      <td>NaN</td>\n",
       "      <td>NaN</td>\n",
       "      <td>NaN</td>\n",
       "    </tr>\n",
       "    <tr>\n",
       "      <th>2690</th>\n",
       "      <td>Primorsko-goranska</td>\n",
       "      <td>Rijeka</td>\n",
       "      <td>Belveder</td>\n",
       "      <td>60</td>\n",
       "      <td>2-2.5 sobni\\n</td>\n",
       "      <td>NaN</td>\n",
       "      <td>ne</td>\n",
       "      <td>ponuda</td>\n",
       "      <td>pravna osoba</td>\n",
       "      <td>Jednoetažni\\n</td>\n",
       "      <td>...</td>\n",
       "      <td>NaN</td>\n",
       "      <td>NaN</td>\n",
       "      <td>NaN</td>\n",
       "      <td>NaN</td>\n",
       "      <td>NaN</td>\n",
       "      <td>NaN</td>\n",
       "      <td>NaN</td>\n",
       "      <td>NaN</td>\n",
       "      <td>NaN</td>\n",
       "      <td>NaN</td>\n",
       "    </tr>\n",
       "    <tr>\n",
       "      <th>2691</th>\n",
       "      <td>Primorsko-goranska</td>\n",
       "      <td>Rijeka</td>\n",
       "      <td>Centar</td>\n",
       "      <td>NaN</td>\n",
       "      <td>2-2.5 sobni\\n</td>\n",
       "      <td>NaN</td>\n",
       "      <td>ne</td>\n",
       "      <td>ponuda</td>\n",
       "      <td>pravna osoba</td>\n",
       "      <td>Jednoetažni\\n</td>\n",
       "      <td>...</td>\n",
       "      <td>NaN</td>\n",
       "      <td>NaN</td>\n",
       "      <td>NaN</td>\n",
       "      <td>NaN</td>\n",
       "      <td>NaN</td>\n",
       "      <td>NaN</td>\n",
       "      <td>NaN</td>\n",
       "      <td>NaN</td>\n",
       "      <td>NaN</td>\n",
       "      <td>NaN</td>\n",
       "    </tr>\n",
       "  </tbody>\n",
       "</table>\n",
       "<p>2692 rows × 43 columns</p>\n",
       "</div>"
      ],
      "text/plain": [
       "                Županija Grad/općina     Naselje Stambena površina u m2  \\\n",
       "0     Primorsko-goranska      Rijeka  Podmurvice                     72   \n",
       "1     Primorsko-goranska      Rijeka      Centar                     48   \n",
       "2     Primorsko-goranska      Rijeka      Pećine                     42   \n",
       "3     Primorsko-goranska      Rijeka      Centar                    100   \n",
       "4     Primorsko-goranska      Rijeka       Zamet                     70   \n",
       "...                  ...         ...         ...                    ...   \n",
       "2687  Primorsko-goranska      Rijeka       Zamet                     82   \n",
       "2688  Primorsko-goranska      Rijeka      Pećine                     50   \n",
       "2689  Primorsko-goranska      Rijeka      Centar                    296   \n",
       "2690  Primorsko-goranska      Rijeka    Belveder                     60   \n",
       "2691  Primorsko-goranska      Rijeka      Centar                    NaN   \n",
       "\n",
       "          Broj soba  Kat Zamjena Tip oglasa        Prodavač Broj etaža stana  \\\n",
       "0     3-3.5 sobni\\n  3\\n      ne     ponuda    pravna osoba    Jednoetažni\\n   \n",
       "1                 2  NaN      ne     ponuda    pravna osoba              NaN   \n",
       "2     Garsonijera\\n  NaN      ne     ponuda    pravna osoba    Jednoetažni\\n   \n",
       "3              4+\\n  NaN      ne     ponuda  privatna osoba    Jednoetažni\\n   \n",
       "4              4+\\n  NaN      ne     ponuda  privatna osoba    Jednoetažni\\n   \n",
       "...             ...  ...     ...        ...             ...              ...   \n",
       "2687           4+\\n  NaN      ne     ponuda  privatna osoba    Jednoetažni\\n   \n",
       "2688  1-1.5 sobni\\n  NaN      ne     ponuda    pravna osoba    Jednoetažni\\n   \n",
       "2689           4+\\n  NaN      ne     ponuda    pravna osoba    Jednoetažni\\n   \n",
       "2690  2-2.5 sobni\\n  NaN      ne     ponuda    pravna osoba    Jednoetažni\\n   \n",
       "2691  2-2.5 sobni\\n  NaN      ne     ponuda    pravna osoba    Jednoetažni\\n   \n",
       "\n",
       "      ... Površina balkona u m2 Grijanje email Tip kuće Broj etaža kuće  \\\n",
       "0     ...                   NaN      NaN   NaN      NaN             NaN   \n",
       "1     ...                   NaN      NaN   NaN      NaN             NaN   \n",
       "2     ...                   NaN      NaN   NaN      NaN             NaN   \n",
       "3     ...                   NaN      NaN   NaN      NaN             NaN   \n",
       "4     ...                   NaN      NaN   NaN      NaN             NaN   \n",
       "...   ...                   ...      ...   ...      ...             ...   \n",
       "2687  ...                   NaN      NaN   NaN      NaN             NaN   \n",
       "2688  ...                   NaN      NaN   NaN      NaN             NaN   \n",
       "2689  ...                   NaN      NaN   NaN      NaN             NaN   \n",
       "2690  ...                   NaN      NaN   NaN      NaN             NaN   \n",
       "2691  ...                   NaN      NaN   NaN      NaN             NaN   \n",
       "\n",
       "     Površina okućnice u m2 Tip nekretnine za odmor Provizija  \\\n",
       "0                       NaN                     NaN       NaN   \n",
       "1                       NaN                     NaN       NaN   \n",
       "2                       NaN                     NaN       NaN   \n",
       "3                       NaN                     NaN       NaN   \n",
       "4                       NaN                     NaN       NaN   \n",
       "...                     ...                     ...       ...   \n",
       "2687                    NaN                     NaN       NaN   \n",
       "2688                    NaN                     NaN       NaN   \n",
       "2689                    NaN                     NaN       NaN   \n",
       "2690                    NaN                     NaN       NaN   \n",
       "2691                    NaN                     NaN       NaN   \n",
       "\n",
       "     Pozicija poslovnog prostora Namjena poslovnog prostora  \n",
       "0                            NaN                        NaN  \n",
       "1                            NaN                        NaN  \n",
       "2                            NaN                        NaN  \n",
       "3                            NaN                        NaN  \n",
       "4                            NaN                        NaN  \n",
       "...                          ...                        ...  \n",
       "2687                         NaN                        NaN  \n",
       "2688                         NaN                        NaN  \n",
       "2689                         NaN                        NaN  \n",
       "2690                         NaN                        NaN  \n",
       "2691                         NaN                        NaN  \n",
       "\n",
       "[2692 rows x 43 columns]"
      ]
     },
     "execution_count": 24,
     "metadata": {},
     "output_type": "execute_result"
    }
   ],
   "source": [
    "df_raw"
   ]
  },
  {
   "cell_type": "code",
   "execution_count": 25,
   "metadata": {},
   "outputs": [],
   "source": [
    "df_raw.to_excel(\"RENT PRICES RIJEKA.xlsx\")\n"
   ]
  },
  {
   "cell_type": "code",
   "execution_count": 30,
   "metadata": {},
   "outputs": [
    {
     "name": "stdout",
     "output_type": "stream",
     "text": [
      "2692\n",
      "1854\n"
     ]
    }
   ],
   "source": [
    "#CLEANING TEST\n",
    "\n",
    "df_test = df_raw\n",
    "\n",
    "print(len(df_test.index))\n",
    "\n",
    "df_test = df_test[df_test['Stambena površina u m2'].notna()]\n",
    "\n",
    "print(len(df_test.index))\n",
    "\n"
   ]
  },
  {
   "cell_type": "code",
   "execution_count": 16,
   "metadata": {},
   "outputs": [
    {
     "ename": "AttributeError",
     "evalue": "Can only use .str accessor with string values!",
     "output_type": "error",
     "traceback": [
      "\u001b[1;31m---------------------------------------------------------------------------\u001b[0m",
      "\u001b[1;31mAttributeError\u001b[0m                            Traceback (most recent call last)",
      "\u001b[1;32mc:\\Users\\borna.molnar-erhatic\\OneDrive - Swietelsky AG\\Dokumente\\06 Real Estate\\RealEstateApp\\Tester.ipynb Zelle 5\u001b[0m in \u001b[0;36m<module>\u001b[1;34m\u001b[0m\n\u001b[0;32m      <a href='vscode-notebook-cell:/c%3A/Users/borna.molnar-erhatic/OneDrive%20-%20Swietelsky%20AG/Dokumente/06%20Real%20Estate/RealEstateApp/Tester.ipynb#X32sZmlsZQ%3D%3D?line=0'>1</a>\u001b[0m pd\u001b[39m.\u001b[39moptions\u001b[39m.\u001b[39mmode\u001b[39m.\u001b[39mchained_assignment \u001b[39m=\u001b[39m \u001b[39mNone\u001b[39;00m \n\u001b[0;32m      <a href='vscode-notebook-cell:/c%3A/Users/borna.molnar-erhatic/OneDrive%20-%20Swietelsky%20AG/Dokumente/06%20Real%20Estate/RealEstateApp/Tester.ipynb#X32sZmlsZQ%3D%3D?line=2'>3</a>\u001b[0m df \u001b[39m=\u001b[39m df[df[\u001b[39m'\u001b[39m\u001b[39mStambena površina u m2\u001b[39m\u001b[39m'\u001b[39m]\u001b[39m.\u001b[39mnotna()]\n\u001b[1;32m----> <a href='vscode-notebook-cell:/c%3A/Users/borna.molnar-erhatic/OneDrive%20-%20Swietelsky%20AG/Dokumente/06%20Real%20Estate/RealEstateApp/Tester.ipynb#X32sZmlsZQ%3D%3D?line=3'>4</a>\u001b[0m df[\u001b[39m\"\u001b[39m\u001b[39mStambena površina u m2\u001b[39m\u001b[39m\"\u001b[39m] \u001b[39m=\u001b[39m df[\u001b[39m\"\u001b[39;49m\u001b[39mStambena površina u m2\u001b[39;49m\u001b[39m\"\u001b[39;49m]\u001b[39m.\u001b[39;49mstr\u001b[39m.\u001b[39mreplace(\u001b[39m\"\u001b[39m\u001b[39m,\u001b[39m\u001b[39m\"\u001b[39m,\u001b[39m\"\u001b[39m\u001b[39m.\u001b[39m\u001b[39m\"\u001b[39m)\n\u001b[0;32m      <a href='vscode-notebook-cell:/c%3A/Users/borna.molnar-erhatic/OneDrive%20-%20Swietelsky%20AG/Dokumente/06%20Real%20Estate/RealEstateApp/Tester.ipynb#X32sZmlsZQ%3D%3D?line=4'>5</a>\u001b[0m df[\u001b[39m\"\u001b[39m\u001b[39mStambena površina u m2\u001b[39m\u001b[39m\"\u001b[39m] \u001b[39m=\u001b[39m df[\u001b[39m\"\u001b[39m\u001b[39mStambena površina u m2\u001b[39m\u001b[39m\"\u001b[39m]\u001b[39m.\u001b[39mastype(\u001b[39m'\u001b[39m\u001b[39mfloat\u001b[39m\u001b[39m'\u001b[39m)\n\u001b[0;32m      <a href='vscode-notebook-cell:/c%3A/Users/borna.molnar-erhatic/OneDrive%20-%20Swietelsky%20AG/Dokumente/06%20Real%20Estate/RealEstateApp/Tester.ipynb#X32sZmlsZQ%3D%3D?line=6'>7</a>\u001b[0m \u001b[39m#Convert price to float, remove no price rows, rempve unrealistic low prices\u001b[39;00m\n",
      "File \u001b[1;32m~\\AppData\\Roaming\\Python\\Python38\\site-packages\\pandas\\core\\generic.py:5583\u001b[0m, in \u001b[0;36mNDFrame.__getattr__\u001b[1;34m(self, name)\u001b[0m\n\u001b[0;32m   5576\u001b[0m \u001b[39mif\u001b[39;00m (\n\u001b[0;32m   5577\u001b[0m     name \u001b[39mnot\u001b[39;00m \u001b[39min\u001b[39;00m \u001b[39mself\u001b[39m\u001b[39m.\u001b[39m_internal_names_set\n\u001b[0;32m   5578\u001b[0m     \u001b[39mand\u001b[39;00m name \u001b[39mnot\u001b[39;00m \u001b[39min\u001b[39;00m \u001b[39mself\u001b[39m\u001b[39m.\u001b[39m_metadata\n\u001b[0;32m   5579\u001b[0m     \u001b[39mand\u001b[39;00m name \u001b[39mnot\u001b[39;00m \u001b[39min\u001b[39;00m \u001b[39mself\u001b[39m\u001b[39m.\u001b[39m_accessors\n\u001b[0;32m   5580\u001b[0m     \u001b[39mand\u001b[39;00m \u001b[39mself\u001b[39m\u001b[39m.\u001b[39m_info_axis\u001b[39m.\u001b[39m_can_hold_identifiers_and_holds_name(name)\n\u001b[0;32m   5581\u001b[0m ):\n\u001b[0;32m   5582\u001b[0m     \u001b[39mreturn\u001b[39;00m \u001b[39mself\u001b[39m[name]\n\u001b[1;32m-> 5583\u001b[0m \u001b[39mreturn\u001b[39;00m \u001b[39mobject\u001b[39;49m\u001b[39m.\u001b[39;49m\u001b[39m__getattribute__\u001b[39;49m(\u001b[39mself\u001b[39;49m, name)\n",
      "File \u001b[1;32m~\\AppData\\Roaming\\Python\\Python38\\site-packages\\pandas\\core\\accessor.py:182\u001b[0m, in \u001b[0;36mCachedAccessor.__get__\u001b[1;34m(self, obj, cls)\u001b[0m\n\u001b[0;32m    179\u001b[0m \u001b[39mif\u001b[39;00m obj \u001b[39mis\u001b[39;00m \u001b[39mNone\u001b[39;00m:\n\u001b[0;32m    180\u001b[0m     \u001b[39m# we're accessing the attribute of the class, i.e., Dataset.geo\u001b[39;00m\n\u001b[0;32m    181\u001b[0m     \u001b[39mreturn\u001b[39;00m \u001b[39mself\u001b[39m\u001b[39m.\u001b[39m_accessor\n\u001b[1;32m--> 182\u001b[0m accessor_obj \u001b[39m=\u001b[39m \u001b[39mself\u001b[39;49m\u001b[39m.\u001b[39;49m_accessor(obj)\n\u001b[0;32m    183\u001b[0m \u001b[39m# Replace the property with the accessor object. Inspired by:\u001b[39;00m\n\u001b[0;32m    184\u001b[0m \u001b[39m# https://www.pydanny.com/cached-property.html\u001b[39;00m\n\u001b[0;32m    185\u001b[0m \u001b[39m# We need to use object.__setattr__ because we overwrite __setattr__ on\u001b[39;00m\n\u001b[0;32m    186\u001b[0m \u001b[39m# NDFrame\u001b[39;00m\n\u001b[0;32m    187\u001b[0m \u001b[39mobject\u001b[39m\u001b[39m.\u001b[39m\u001b[39m__setattr__\u001b[39m(obj, \u001b[39mself\u001b[39m\u001b[39m.\u001b[39m_name, accessor_obj)\n",
      "File \u001b[1;32m~\\AppData\\Roaming\\Python\\Python38\\site-packages\\pandas\\core\\strings\\accessor.py:177\u001b[0m, in \u001b[0;36mStringMethods.__init__\u001b[1;34m(self, data)\u001b[0m\n\u001b[0;32m    174\u001b[0m \u001b[39mdef\u001b[39;00m \u001b[39m__init__\u001b[39m(\u001b[39mself\u001b[39m, data):\n\u001b[0;32m    175\u001b[0m     \u001b[39mfrom\u001b[39;00m \u001b[39mpandas\u001b[39;00m\u001b[39m.\u001b[39;00m\u001b[39mcore\u001b[39;00m\u001b[39m.\u001b[39;00m\u001b[39marrays\u001b[39;00m\u001b[39m.\u001b[39;00m\u001b[39mstring_\u001b[39;00m \u001b[39mimport\u001b[39;00m StringDtype\n\u001b[1;32m--> 177\u001b[0m     \u001b[39mself\u001b[39m\u001b[39m.\u001b[39m_inferred_dtype \u001b[39m=\u001b[39m \u001b[39mself\u001b[39;49m\u001b[39m.\u001b[39;49m_validate(data)\n\u001b[0;32m    178\u001b[0m     \u001b[39mself\u001b[39m\u001b[39m.\u001b[39m_is_categorical \u001b[39m=\u001b[39m is_categorical_dtype(data\u001b[39m.\u001b[39mdtype)\n\u001b[0;32m    179\u001b[0m     \u001b[39mself\u001b[39m\u001b[39m.\u001b[39m_is_string \u001b[39m=\u001b[39m \u001b[39misinstance\u001b[39m(data\u001b[39m.\u001b[39mdtype, StringDtype)\n",
      "File \u001b[1;32m~\\AppData\\Roaming\\Python\\Python38\\site-packages\\pandas\\core\\strings\\accessor.py:231\u001b[0m, in \u001b[0;36mStringMethods._validate\u001b[1;34m(data)\u001b[0m\n\u001b[0;32m    228\u001b[0m inferred_dtype \u001b[39m=\u001b[39m lib\u001b[39m.\u001b[39minfer_dtype(values, skipna\u001b[39m=\u001b[39m\u001b[39mTrue\u001b[39;00m)\n\u001b[0;32m    230\u001b[0m \u001b[39mif\u001b[39;00m inferred_dtype \u001b[39mnot\u001b[39;00m \u001b[39min\u001b[39;00m allowed_types:\n\u001b[1;32m--> 231\u001b[0m     \u001b[39mraise\u001b[39;00m \u001b[39mAttributeError\u001b[39;00m(\u001b[39m\"\u001b[39m\u001b[39mCan only use .str accessor with string values!\u001b[39m\u001b[39m\"\u001b[39m)\n\u001b[0;32m    232\u001b[0m \u001b[39mreturn\u001b[39;00m inferred_dtype\n",
      "\u001b[1;31mAttributeError\u001b[0m: Can only use .str accessor with string values!"
     ]
    }
   ],
   "source": [
    "pd.options.mode.chained_assignment = None \n",
    "\n",
    "df = df[df['Stambena površina u m2'].notna()]\n",
    "df[\"Stambena površina u m2\"] = df[\"Stambena površina u m2\"].str.replace(\",\",\".\")\n",
    "df[\"Stambena površina u m2\"] = df[\"Stambena površina u m2\"].astype('float')\n",
    "\n",
    "#Convert price to float, remove no price rows, rempve unrealistic low prices\n",
    "df[\"Cijena\"] = df[\"Cijena\"].str.replace(\"€\",\"\")\n",
    "\n",
    "df[\"Cijena\"] = df[\"Cijena\"].str.replace(\".\",\"\")\n",
    "df[\"Cijena\"] = df[\"Cijena\"].str.replace(\",\",\".\")\n",
    "\n",
    "df[\"Cijena\"] = df[\"Cijena\"].str.replace(\" \",\"\")\n",
    "\n",
    "df = df[df[\"Cijena\"] != \"0,00 \"]\n",
    "df[\"Cijena\"] = df[\"Cijena\"].astype('float')"
   ]
  },
  {
   "cell_type": "code",
   "execution_count": 26,
   "metadata": {},
   "outputs": [],
   "source": [
    "df.to_excel(\"RENT PRICES RIJEKA_CLEAN.xlsx\")\n"
   ]
  },
  {
   "cell_type": "code",
   "execution_count": 19,
   "metadata": {},
   "outputs": [
    {
     "data": {
      "text/plain": [
       "1854"
      ]
     },
     "execution_count": 19,
     "metadata": {},
     "output_type": "execute_result"
    }
   ],
   "source": [
    "len(df.index)"
   ]
  },
  {
   "cell_type": "code",
   "execution_count": 4,
   "metadata": {},
   "outputs": [
    {
     "data": {
      "text/plain": [
       "0    63.0\n",
       "1    80.0\n",
       "Name: Stambena površina u m2, dtype: float64"
      ]
     },
     "execution_count": 4,
     "metadata": {},
     "output_type": "execute_result"
    }
   ],
   "source": [
    "df = pd.read_excel(\"media/2022-07-27_zagreb.xlsx\")\n",
    "\n",
    "df[\"Stambena površina u m2\"].mean()\n",
    "df[\"Stambena površina u m2\"].mode()\n",
    "\n",
    "# dj_avg_size = round(df[\"Stambena površina u m2\"].mean(),2)\n",
    "\n"
   ]
  },
  {
   "cell_type": "code",
   "execution_count": 12,
   "metadata": {},
   "outputs": [
    {
     "ename": "TypeError",
     "evalue": "Object of type Interval is not JSON serializable",
     "output_type": "error",
     "traceback": [
      "\u001b[1;31m---------------------------------------------------------------------------\u001b[0m",
      "\u001b[1;31mTypeError\u001b[0m                                 Traceback (most recent call last)",
      "File \u001b[1;32m~\\AppData\\Roaming\\Python\\Python38\\site-packages\\IPython\\core\\formatters.py:921\u001b[0m, in \u001b[0;36mIPythonDisplayFormatter.__call__\u001b[1;34m(self, obj)\u001b[0m\n\u001b[0;32m    919\u001b[0m method \u001b[39m=\u001b[39m get_real_method(obj, \u001b[39mself\u001b[39m\u001b[39m.\u001b[39mprint_method)\n\u001b[0;32m    920\u001b[0m \u001b[39mif\u001b[39;00m method \u001b[39mis\u001b[39;00m \u001b[39mnot\u001b[39;00m \u001b[39mNone\u001b[39;00m:\n\u001b[1;32m--> 921\u001b[0m     method()\n\u001b[0;32m    922\u001b[0m     \u001b[39mreturn\u001b[39;00m \u001b[39mTrue\u001b[39;00m\n",
      "File \u001b[1;32m~\\AppData\\Roaming\\Python\\Python38\\site-packages\\plotly\\basedatatypes.py:844\u001b[0m, in \u001b[0;36mBaseFigure._ipython_display_\u001b[1;34m(self)\u001b[0m\n\u001b[0;32m    841\u001b[0m \u001b[39mimport\u001b[39;00m \u001b[39mplotly\u001b[39;00m\u001b[39m.\u001b[39;00m\u001b[39mio\u001b[39;00m \u001b[39mas\u001b[39;00m \u001b[39mpio\u001b[39;00m\n\u001b[0;32m    843\u001b[0m \u001b[39mif\u001b[39;00m pio\u001b[39m.\u001b[39mrenderers\u001b[39m.\u001b[39mrender_on_display \u001b[39mand\u001b[39;00m pio\u001b[39m.\u001b[39mrenderers\u001b[39m.\u001b[39mdefault:\n\u001b[1;32m--> 844\u001b[0m     pio\u001b[39m.\u001b[39;49mshow(\u001b[39mself\u001b[39;49m)\n\u001b[0;32m    845\u001b[0m \u001b[39melse\u001b[39;00m:\n\u001b[0;32m    846\u001b[0m     \u001b[39mprint\u001b[39m(\u001b[39mrepr\u001b[39m(\u001b[39mself\u001b[39m))\n",
      "File \u001b[1;32m~\\AppData\\Roaming\\Python\\Python38\\site-packages\\plotly\\io\\_renderers.py:389\u001b[0m, in \u001b[0;36mshow\u001b[1;34m(fig, renderer, validate, **kwargs)\u001b[0m\n\u001b[0;32m    386\u001b[0m fig_dict \u001b[39m=\u001b[39m validate_coerce_fig_to_dict(fig, validate)\n\u001b[0;32m    388\u001b[0m \u001b[39m# Mimetype renderers\u001b[39;00m\n\u001b[1;32m--> 389\u001b[0m bundle \u001b[39m=\u001b[39m renderers\u001b[39m.\u001b[39;49m_build_mime_bundle(fig_dict, renderers_string\u001b[39m=\u001b[39;49mrenderer, \u001b[39m*\u001b[39;49m\u001b[39m*\u001b[39;49mkwargs)\n\u001b[0;32m    390\u001b[0m \u001b[39mif\u001b[39;00m bundle:\n\u001b[0;32m    391\u001b[0m     \u001b[39mif\u001b[39;00m \u001b[39mnot\u001b[39;00m ipython_display:\n",
      "File \u001b[1;32m~\\AppData\\Roaming\\Python\\Python38\\site-packages\\plotly\\io\\_renderers.py:297\u001b[0m, in \u001b[0;36mRenderersConfig._build_mime_bundle\u001b[1;34m(self, fig_dict, renderers_string, **kwargs)\u001b[0m\n\u001b[0;32m    294\u001b[0m             \u001b[39mif\u001b[39;00m \u001b[39mhasattr\u001b[39m(renderer, k):\n\u001b[0;32m    295\u001b[0m                 \u001b[39msetattr\u001b[39m(renderer, k, v)\n\u001b[1;32m--> 297\u001b[0m         bundle\u001b[39m.\u001b[39mupdate(renderer\u001b[39m.\u001b[39;49mto_mimebundle(fig_dict))\n\u001b[0;32m    299\u001b[0m \u001b[39mreturn\u001b[39;00m bundle\n",
      "File \u001b[1;32m~\\AppData\\Roaming\\Python\\Python38\\site-packages\\plotly\\io\\_base_renderers.py:96\u001b[0m, in \u001b[0;36mPlotlyRenderer.to_mimebundle\u001b[1;34m(self, fig_dict)\u001b[0m\n\u001b[0;32m     92\u001b[0m \u001b[39mif\u001b[39;00m config:\n\u001b[0;32m     93\u001b[0m     fig_dict[\u001b[39m\"\u001b[39m\u001b[39mconfig\u001b[39m\u001b[39m\"\u001b[39m] \u001b[39m=\u001b[39m config\n\u001b[0;32m     95\u001b[0m json_compatible_fig_dict \u001b[39m=\u001b[39m json\u001b[39m.\u001b[39mloads(\n\u001b[1;32m---> 96\u001b[0m     to_json(fig_dict, validate\u001b[39m=\u001b[39;49m\u001b[39mFalse\u001b[39;49;00m, remove_uids\u001b[39m=\u001b[39;49m\u001b[39mFalse\u001b[39;49;00m)\n\u001b[0;32m     97\u001b[0m )\n\u001b[0;32m     99\u001b[0m \u001b[39mreturn\u001b[39;00m {\u001b[39m\"\u001b[39m\u001b[39mapplication/vnd.plotly.v1+json\u001b[39m\u001b[39m\"\u001b[39m: json_compatible_fig_dict}\n",
      "File \u001b[1;32m~\\AppData\\Roaming\\Python\\Python38\\site-packages\\plotly\\io\\_json.py:197\u001b[0m, in \u001b[0;36mto_json\u001b[1;34m(fig, validate, pretty, remove_uids, engine)\u001b[0m\n\u001b[0;32m    194\u001b[0m     \u001b[39mfor\u001b[39;00m trace \u001b[39min\u001b[39;00m fig_dict\u001b[39m.\u001b[39mget(\u001b[39m\"\u001b[39m\u001b[39mdata\u001b[39m\u001b[39m\"\u001b[39m, []):\n\u001b[0;32m    195\u001b[0m         trace\u001b[39m.\u001b[39mpop(\u001b[39m\"\u001b[39m\u001b[39muid\u001b[39m\u001b[39m\"\u001b[39m, \u001b[39mNone\u001b[39;00m)\n\u001b[1;32m--> 197\u001b[0m \u001b[39mreturn\u001b[39;00m to_json_plotly(fig_dict, pretty\u001b[39m=\u001b[39;49mpretty, engine\u001b[39m=\u001b[39;49mengine)\n",
      "File \u001b[1;32m~\\AppData\\Roaming\\Python\\Python38\\site-packages\\plotly\\io\\_json.py:124\u001b[0m, in \u001b[0;36mto_json_plotly\u001b[1;34m(plotly_object, pretty, engine)\u001b[0m\n\u001b[0;32m    120\u001b[0m         opts[\u001b[39m\"\u001b[39m\u001b[39mseparators\u001b[39m\u001b[39m\"\u001b[39m] \u001b[39m=\u001b[39m (\u001b[39m\"\u001b[39m\u001b[39m,\u001b[39m\u001b[39m\"\u001b[39m, \u001b[39m\"\u001b[39m\u001b[39m:\u001b[39m\u001b[39m\"\u001b[39m)\n\u001b[0;32m    122\u001b[0m     \u001b[39mfrom\u001b[39;00m \u001b[39m_plotly_utils\u001b[39;00m\u001b[39m.\u001b[39;00m\u001b[39mutils\u001b[39;00m \u001b[39mimport\u001b[39;00m PlotlyJSONEncoder\n\u001b[1;32m--> 124\u001b[0m     \u001b[39mreturn\u001b[39;00m json\u001b[39m.\u001b[39;49mdumps(plotly_object, \u001b[39mcls\u001b[39;49m\u001b[39m=\u001b[39;49mPlotlyJSONEncoder, \u001b[39m*\u001b[39;49m\u001b[39m*\u001b[39;49mopts)\n\u001b[0;32m    125\u001b[0m \u001b[39melif\u001b[39;00m engine \u001b[39m==\u001b[39m \u001b[39m\"\u001b[39m\u001b[39morjson\u001b[39m\u001b[39m\"\u001b[39m:\n\u001b[0;32m    126\u001b[0m     JsonConfig\u001b[39m.\u001b[39mvalidate_orjson()\n",
      "File \u001b[1;32mc:\\Program Files\\Python38\\lib\\json\\__init__.py:234\u001b[0m, in \u001b[0;36mdumps\u001b[1;34m(obj, skipkeys, ensure_ascii, check_circular, allow_nan, cls, indent, separators, default, sort_keys, **kw)\u001b[0m\n\u001b[0;32m    232\u001b[0m \u001b[39mif\u001b[39;00m \u001b[39mcls\u001b[39m \u001b[39mis\u001b[39;00m \u001b[39mNone\u001b[39;00m:\n\u001b[0;32m    233\u001b[0m     \u001b[39mcls\u001b[39m \u001b[39m=\u001b[39m JSONEncoder\n\u001b[1;32m--> 234\u001b[0m \u001b[39mreturn\u001b[39;00m \u001b[39mcls\u001b[39;49m(\n\u001b[0;32m    235\u001b[0m     skipkeys\u001b[39m=\u001b[39;49mskipkeys, ensure_ascii\u001b[39m=\u001b[39;49mensure_ascii,\n\u001b[0;32m    236\u001b[0m     check_circular\u001b[39m=\u001b[39;49mcheck_circular, allow_nan\u001b[39m=\u001b[39;49mallow_nan, indent\u001b[39m=\u001b[39;49mindent,\n\u001b[0;32m    237\u001b[0m     separators\u001b[39m=\u001b[39;49mseparators, default\u001b[39m=\u001b[39;49mdefault, sort_keys\u001b[39m=\u001b[39;49msort_keys,\n\u001b[0;32m    238\u001b[0m     \u001b[39m*\u001b[39;49m\u001b[39m*\u001b[39;49mkw)\u001b[39m.\u001b[39;49mencode(obj)\n",
      "File \u001b[1;32m~\\AppData\\Roaming\\Python\\Python38\\site-packages\\_plotly_utils\\utils.py:59\u001b[0m, in \u001b[0;36mPlotlyJSONEncoder.encode\u001b[1;34m(self, o)\u001b[0m\n\u001b[0;32m     52\u001b[0m \u001b[39m\"\"\"\u001b[39;00m\n\u001b[0;32m     53\u001b[0m \u001b[39mLoad and then dump the result using parse_constant kwarg\u001b[39;00m\n\u001b[0;32m     54\u001b[0m \n\u001b[0;32m     55\u001b[0m \u001b[39mNote that setting invalid separators will cause a failure at this step.\u001b[39;00m\n\u001b[0;32m     56\u001b[0m \n\u001b[0;32m     57\u001b[0m \u001b[39m\"\"\"\u001b[39;00m\n\u001b[0;32m     58\u001b[0m \u001b[39m# this will raise errors in a normal-expected way\u001b[39;00m\n\u001b[1;32m---> 59\u001b[0m encoded_o \u001b[39m=\u001b[39m \u001b[39msuper\u001b[39;49m(PlotlyJSONEncoder, \u001b[39mself\u001b[39;49m)\u001b[39m.\u001b[39;49mencode(o)\n\u001b[0;32m     60\u001b[0m \u001b[39m# Brute force guessing whether NaN or Infinity values are in the string\u001b[39;00m\n\u001b[0;32m     61\u001b[0m \u001b[39m# We catch false positive cases (e.g. strings such as titles, labels etc.)\u001b[39;00m\n\u001b[0;32m     62\u001b[0m \u001b[39m# but this is ok since the intention is to skip the decoding / reencoding\u001b[39;00m\n\u001b[0;32m     63\u001b[0m \u001b[39m# step when it's completely safe\u001b[39;00m\n\u001b[0;32m     65\u001b[0m \u001b[39mif\u001b[39;00m \u001b[39mnot\u001b[39;00m (\u001b[39m\"\u001b[39m\u001b[39mNaN\u001b[39m\u001b[39m\"\u001b[39m \u001b[39min\u001b[39;00m encoded_o \u001b[39mor\u001b[39;00m \u001b[39m\"\u001b[39m\u001b[39mInfinity\u001b[39m\u001b[39m\"\u001b[39m \u001b[39min\u001b[39;00m encoded_o):\n",
      "File \u001b[1;32mc:\\Program Files\\Python38\\lib\\json\\encoder.py:199\u001b[0m, in \u001b[0;36mJSONEncoder.encode\u001b[1;34m(self, o)\u001b[0m\n\u001b[0;32m    195\u001b[0m         \u001b[39mreturn\u001b[39;00m encode_basestring(o)\n\u001b[0;32m    196\u001b[0m \u001b[39m# This doesn't pass the iterator directly to ''.join() because the\u001b[39;00m\n\u001b[0;32m    197\u001b[0m \u001b[39m# exceptions aren't as detailed.  The list call should be roughly\u001b[39;00m\n\u001b[0;32m    198\u001b[0m \u001b[39m# equivalent to the PySequence_Fast that ''.join() would do.\u001b[39;00m\n\u001b[1;32m--> 199\u001b[0m chunks \u001b[39m=\u001b[39m \u001b[39mself\u001b[39;49m\u001b[39m.\u001b[39;49miterencode(o, _one_shot\u001b[39m=\u001b[39;49m\u001b[39mTrue\u001b[39;49;00m)\n\u001b[0;32m    200\u001b[0m \u001b[39mif\u001b[39;00m \u001b[39mnot\u001b[39;00m \u001b[39misinstance\u001b[39m(chunks, (\u001b[39mlist\u001b[39m, \u001b[39mtuple\u001b[39m)):\n\u001b[0;32m    201\u001b[0m     chunks \u001b[39m=\u001b[39m \u001b[39mlist\u001b[39m(chunks)\n",
      "File \u001b[1;32mc:\\Program Files\\Python38\\lib\\json\\encoder.py:257\u001b[0m, in \u001b[0;36mJSONEncoder.iterencode\u001b[1;34m(self, o, _one_shot)\u001b[0m\n\u001b[0;32m    252\u001b[0m \u001b[39melse\u001b[39;00m:\n\u001b[0;32m    253\u001b[0m     _iterencode \u001b[39m=\u001b[39m _make_iterencode(\n\u001b[0;32m    254\u001b[0m         markers, \u001b[39mself\u001b[39m\u001b[39m.\u001b[39mdefault, _encoder, \u001b[39mself\u001b[39m\u001b[39m.\u001b[39mindent, floatstr,\n\u001b[0;32m    255\u001b[0m         \u001b[39mself\u001b[39m\u001b[39m.\u001b[39mkey_separator, \u001b[39mself\u001b[39m\u001b[39m.\u001b[39mitem_separator, \u001b[39mself\u001b[39m\u001b[39m.\u001b[39msort_keys,\n\u001b[0;32m    256\u001b[0m         \u001b[39mself\u001b[39m\u001b[39m.\u001b[39mskipkeys, _one_shot)\n\u001b[1;32m--> 257\u001b[0m \u001b[39mreturn\u001b[39;00m _iterencode(o, \u001b[39m0\u001b[39;49m)\n",
      "File \u001b[1;32m~\\AppData\\Roaming\\Python\\Python38\\site-packages\\_plotly_utils\\utils.py:136\u001b[0m, in \u001b[0;36mPlotlyJSONEncoder.default\u001b[1;34m(self, obj)\u001b[0m\n\u001b[0;32m    134\u001b[0m     \u001b[39mexcept\u001b[39;00m NotEncodable:\n\u001b[0;32m    135\u001b[0m         \u001b[39mpass\u001b[39;00m\n\u001b[1;32m--> 136\u001b[0m \u001b[39mreturn\u001b[39;00m _json\u001b[39m.\u001b[39;49mJSONEncoder\u001b[39m.\u001b[39;49mdefault(\u001b[39mself\u001b[39;49m, obj)\n",
      "File \u001b[1;32mc:\\Program Files\\Python38\\lib\\json\\encoder.py:179\u001b[0m, in \u001b[0;36mJSONEncoder.default\u001b[1;34m(self, o)\u001b[0m\n\u001b[0;32m    160\u001b[0m \u001b[39mdef\u001b[39;00m \u001b[39mdefault\u001b[39m(\u001b[39mself\u001b[39m, o):\n\u001b[0;32m    161\u001b[0m     \u001b[39m\"\"\"Implement this method in a subclass such that it returns\u001b[39;00m\n\u001b[0;32m    162\u001b[0m \u001b[39m    a serializable object for ``o``, or calls the base implementation\u001b[39;00m\n\u001b[0;32m    163\u001b[0m \u001b[39m    (to raise a ``TypeError``).\u001b[39;00m\n\u001b[1;32m   (...)\u001b[0m\n\u001b[0;32m    177\u001b[0m \n\u001b[0;32m    178\u001b[0m \u001b[39m    \"\"\"\u001b[39;00m\n\u001b[1;32m--> 179\u001b[0m     \u001b[39mraise\u001b[39;00m \u001b[39mTypeError\u001b[39;00m(\u001b[39mf\u001b[39m\u001b[39m'\u001b[39m\u001b[39mObject of type \u001b[39m\u001b[39m{\u001b[39;00mo\u001b[39m.\u001b[39m\u001b[39m__class__\u001b[39m\u001b[39m.\u001b[39m\u001b[39m__name__\u001b[39m\u001b[39m}\u001b[39;00m\u001b[39m \u001b[39m\u001b[39m'\u001b[39m\n\u001b[0;32m    180\u001b[0m                     \u001b[39mf\u001b[39m\u001b[39m'\u001b[39m\u001b[39mis not JSON serializable\u001b[39m\u001b[39m'\u001b[39m)\n",
      "\u001b[1;31mTypeError\u001b[0m: Object of type Interval is not JSON serializable"
     ]
    },
    {
     "ename": "TypeError",
     "evalue": "Object of type Interval is not JSON serializable",
     "output_type": "error",
     "traceback": [
      "\u001b[1;31m---------------------------------------------------------------------------\u001b[0m",
      "\u001b[1;31mTypeError\u001b[0m                                 Traceback (most recent call last)",
      "File \u001b[1;32m~\\AppData\\Roaming\\Python\\Python38\\site-packages\\IPython\\core\\formatters.py:973\u001b[0m, in \u001b[0;36mMimeBundleFormatter.__call__\u001b[1;34m(self, obj, include, exclude)\u001b[0m\n\u001b[0;32m    970\u001b[0m     method \u001b[39m=\u001b[39m get_real_method(obj, \u001b[39mself\u001b[39m\u001b[39m.\u001b[39mprint_method)\n\u001b[0;32m    972\u001b[0m     \u001b[39mif\u001b[39;00m method \u001b[39mis\u001b[39;00m \u001b[39mnot\u001b[39;00m \u001b[39mNone\u001b[39;00m:\n\u001b[1;32m--> 973\u001b[0m         \u001b[39mreturn\u001b[39;00m method(include\u001b[39m=\u001b[39;49minclude, exclude\u001b[39m=\u001b[39;49mexclude)\n\u001b[0;32m    974\u001b[0m     \u001b[39mreturn\u001b[39;00m \u001b[39mNone\u001b[39;00m\n\u001b[0;32m    975\u001b[0m \u001b[39melse\u001b[39;00m:\n",
      "File \u001b[1;32m~\\AppData\\Roaming\\Python\\Python38\\site-packages\\plotly\\basedatatypes.py:834\u001b[0m, in \u001b[0;36mBaseFigure._repr_mimebundle_\u001b[1;34m(self, include, exclude, validate, **kwargs)\u001b[0m\n\u001b[0;32m    832\u001b[0m \u001b[39mfor\u001b[39;00m renderer \u001b[39min\u001b[39;00m renderers_list:\n\u001b[0;32m    833\u001b[0m     \u001b[39mif\u001b[39;00m \u001b[39misinstance\u001b[39m(renderer, MimetypeRenderer):\n\u001b[1;32m--> 834\u001b[0m         bundle\u001b[39m.\u001b[39mupdate(renderer\u001b[39m.\u001b[39;49mto_mimebundle(fig_dict))\n\u001b[0;32m    835\u001b[0m \u001b[39mreturn\u001b[39;00m bundle\n",
      "File \u001b[1;32m~\\AppData\\Roaming\\Python\\Python38\\site-packages\\plotly\\io\\_base_renderers.py:96\u001b[0m, in \u001b[0;36mPlotlyRenderer.to_mimebundle\u001b[1;34m(self, fig_dict)\u001b[0m\n\u001b[0;32m     92\u001b[0m \u001b[39mif\u001b[39;00m config:\n\u001b[0;32m     93\u001b[0m     fig_dict[\u001b[39m\"\u001b[39m\u001b[39mconfig\u001b[39m\u001b[39m\"\u001b[39m] \u001b[39m=\u001b[39m config\n\u001b[0;32m     95\u001b[0m json_compatible_fig_dict \u001b[39m=\u001b[39m json\u001b[39m.\u001b[39mloads(\n\u001b[1;32m---> 96\u001b[0m     to_json(fig_dict, validate\u001b[39m=\u001b[39;49m\u001b[39mFalse\u001b[39;49;00m, remove_uids\u001b[39m=\u001b[39;49m\u001b[39mFalse\u001b[39;49;00m)\n\u001b[0;32m     97\u001b[0m )\n\u001b[0;32m     99\u001b[0m \u001b[39mreturn\u001b[39;00m {\u001b[39m\"\u001b[39m\u001b[39mapplication/vnd.plotly.v1+json\u001b[39m\u001b[39m\"\u001b[39m: json_compatible_fig_dict}\n",
      "File \u001b[1;32m~\\AppData\\Roaming\\Python\\Python38\\site-packages\\plotly\\io\\_json.py:197\u001b[0m, in \u001b[0;36mto_json\u001b[1;34m(fig, validate, pretty, remove_uids, engine)\u001b[0m\n\u001b[0;32m    194\u001b[0m     \u001b[39mfor\u001b[39;00m trace \u001b[39min\u001b[39;00m fig_dict\u001b[39m.\u001b[39mget(\u001b[39m\"\u001b[39m\u001b[39mdata\u001b[39m\u001b[39m\"\u001b[39m, []):\n\u001b[0;32m    195\u001b[0m         trace\u001b[39m.\u001b[39mpop(\u001b[39m\"\u001b[39m\u001b[39muid\u001b[39m\u001b[39m\"\u001b[39m, \u001b[39mNone\u001b[39;00m)\n\u001b[1;32m--> 197\u001b[0m \u001b[39mreturn\u001b[39;00m to_json_plotly(fig_dict, pretty\u001b[39m=\u001b[39;49mpretty, engine\u001b[39m=\u001b[39;49mengine)\n",
      "File \u001b[1;32m~\\AppData\\Roaming\\Python\\Python38\\site-packages\\plotly\\io\\_json.py:124\u001b[0m, in \u001b[0;36mto_json_plotly\u001b[1;34m(plotly_object, pretty, engine)\u001b[0m\n\u001b[0;32m    120\u001b[0m         opts[\u001b[39m\"\u001b[39m\u001b[39mseparators\u001b[39m\u001b[39m\"\u001b[39m] \u001b[39m=\u001b[39m (\u001b[39m\"\u001b[39m\u001b[39m,\u001b[39m\u001b[39m\"\u001b[39m, \u001b[39m\"\u001b[39m\u001b[39m:\u001b[39m\u001b[39m\"\u001b[39m)\n\u001b[0;32m    122\u001b[0m     \u001b[39mfrom\u001b[39;00m \u001b[39m_plotly_utils\u001b[39;00m\u001b[39m.\u001b[39;00m\u001b[39mutils\u001b[39;00m \u001b[39mimport\u001b[39;00m PlotlyJSONEncoder\n\u001b[1;32m--> 124\u001b[0m     \u001b[39mreturn\u001b[39;00m json\u001b[39m.\u001b[39;49mdumps(plotly_object, \u001b[39mcls\u001b[39;49m\u001b[39m=\u001b[39;49mPlotlyJSONEncoder, \u001b[39m*\u001b[39;49m\u001b[39m*\u001b[39;49mopts)\n\u001b[0;32m    125\u001b[0m \u001b[39melif\u001b[39;00m engine \u001b[39m==\u001b[39m \u001b[39m\"\u001b[39m\u001b[39morjson\u001b[39m\u001b[39m\"\u001b[39m:\n\u001b[0;32m    126\u001b[0m     JsonConfig\u001b[39m.\u001b[39mvalidate_orjson()\n",
      "File \u001b[1;32mc:\\Program Files\\Python38\\lib\\json\\__init__.py:234\u001b[0m, in \u001b[0;36mdumps\u001b[1;34m(obj, skipkeys, ensure_ascii, check_circular, allow_nan, cls, indent, separators, default, sort_keys, **kw)\u001b[0m\n\u001b[0;32m    232\u001b[0m \u001b[39mif\u001b[39;00m \u001b[39mcls\u001b[39m \u001b[39mis\u001b[39;00m \u001b[39mNone\u001b[39;00m:\n\u001b[0;32m    233\u001b[0m     \u001b[39mcls\u001b[39m \u001b[39m=\u001b[39m JSONEncoder\n\u001b[1;32m--> 234\u001b[0m \u001b[39mreturn\u001b[39;00m \u001b[39mcls\u001b[39;49m(\n\u001b[0;32m    235\u001b[0m     skipkeys\u001b[39m=\u001b[39;49mskipkeys, ensure_ascii\u001b[39m=\u001b[39;49mensure_ascii,\n\u001b[0;32m    236\u001b[0m     check_circular\u001b[39m=\u001b[39;49mcheck_circular, allow_nan\u001b[39m=\u001b[39;49mallow_nan, indent\u001b[39m=\u001b[39;49mindent,\n\u001b[0;32m    237\u001b[0m     separators\u001b[39m=\u001b[39;49mseparators, default\u001b[39m=\u001b[39;49mdefault, sort_keys\u001b[39m=\u001b[39;49msort_keys,\n\u001b[0;32m    238\u001b[0m     \u001b[39m*\u001b[39;49m\u001b[39m*\u001b[39;49mkw)\u001b[39m.\u001b[39;49mencode(obj)\n",
      "File \u001b[1;32m~\\AppData\\Roaming\\Python\\Python38\\site-packages\\_plotly_utils\\utils.py:59\u001b[0m, in \u001b[0;36mPlotlyJSONEncoder.encode\u001b[1;34m(self, o)\u001b[0m\n\u001b[0;32m     52\u001b[0m \u001b[39m\"\"\"\u001b[39;00m\n\u001b[0;32m     53\u001b[0m \u001b[39mLoad and then dump the result using parse_constant kwarg\u001b[39;00m\n\u001b[0;32m     54\u001b[0m \n\u001b[0;32m     55\u001b[0m \u001b[39mNote that setting invalid separators will cause a failure at this step.\u001b[39;00m\n\u001b[0;32m     56\u001b[0m \n\u001b[0;32m     57\u001b[0m \u001b[39m\"\"\"\u001b[39;00m\n\u001b[0;32m     58\u001b[0m \u001b[39m# this will raise errors in a normal-expected way\u001b[39;00m\n\u001b[1;32m---> 59\u001b[0m encoded_o \u001b[39m=\u001b[39m \u001b[39msuper\u001b[39;49m(PlotlyJSONEncoder, \u001b[39mself\u001b[39;49m)\u001b[39m.\u001b[39;49mencode(o)\n\u001b[0;32m     60\u001b[0m \u001b[39m# Brute force guessing whether NaN or Infinity values are in the string\u001b[39;00m\n\u001b[0;32m     61\u001b[0m \u001b[39m# We catch false positive cases (e.g. strings such as titles, labels etc.)\u001b[39;00m\n\u001b[0;32m     62\u001b[0m \u001b[39m# but this is ok since the intention is to skip the decoding / reencoding\u001b[39;00m\n\u001b[0;32m     63\u001b[0m \u001b[39m# step when it's completely safe\u001b[39;00m\n\u001b[0;32m     65\u001b[0m \u001b[39mif\u001b[39;00m \u001b[39mnot\u001b[39;00m (\u001b[39m\"\u001b[39m\u001b[39mNaN\u001b[39m\u001b[39m\"\u001b[39m \u001b[39min\u001b[39;00m encoded_o \u001b[39mor\u001b[39;00m \u001b[39m\"\u001b[39m\u001b[39mInfinity\u001b[39m\u001b[39m\"\u001b[39m \u001b[39min\u001b[39;00m encoded_o):\n",
      "File \u001b[1;32mc:\\Program Files\\Python38\\lib\\json\\encoder.py:199\u001b[0m, in \u001b[0;36mJSONEncoder.encode\u001b[1;34m(self, o)\u001b[0m\n\u001b[0;32m    195\u001b[0m         \u001b[39mreturn\u001b[39;00m encode_basestring(o)\n\u001b[0;32m    196\u001b[0m \u001b[39m# This doesn't pass the iterator directly to ''.join() because the\u001b[39;00m\n\u001b[0;32m    197\u001b[0m \u001b[39m# exceptions aren't as detailed.  The list call should be roughly\u001b[39;00m\n\u001b[0;32m    198\u001b[0m \u001b[39m# equivalent to the PySequence_Fast that ''.join() would do.\u001b[39;00m\n\u001b[1;32m--> 199\u001b[0m chunks \u001b[39m=\u001b[39m \u001b[39mself\u001b[39;49m\u001b[39m.\u001b[39;49miterencode(o, _one_shot\u001b[39m=\u001b[39;49m\u001b[39mTrue\u001b[39;49;00m)\n\u001b[0;32m    200\u001b[0m \u001b[39mif\u001b[39;00m \u001b[39mnot\u001b[39;00m \u001b[39misinstance\u001b[39m(chunks, (\u001b[39mlist\u001b[39m, \u001b[39mtuple\u001b[39m)):\n\u001b[0;32m    201\u001b[0m     chunks \u001b[39m=\u001b[39m \u001b[39mlist\u001b[39m(chunks)\n",
      "File \u001b[1;32mc:\\Program Files\\Python38\\lib\\json\\encoder.py:257\u001b[0m, in \u001b[0;36mJSONEncoder.iterencode\u001b[1;34m(self, o, _one_shot)\u001b[0m\n\u001b[0;32m    252\u001b[0m \u001b[39melse\u001b[39;00m:\n\u001b[0;32m    253\u001b[0m     _iterencode \u001b[39m=\u001b[39m _make_iterencode(\n\u001b[0;32m    254\u001b[0m         markers, \u001b[39mself\u001b[39m\u001b[39m.\u001b[39mdefault, _encoder, \u001b[39mself\u001b[39m\u001b[39m.\u001b[39mindent, floatstr,\n\u001b[0;32m    255\u001b[0m         \u001b[39mself\u001b[39m\u001b[39m.\u001b[39mkey_separator, \u001b[39mself\u001b[39m\u001b[39m.\u001b[39mitem_separator, \u001b[39mself\u001b[39m\u001b[39m.\u001b[39msort_keys,\n\u001b[0;32m    256\u001b[0m         \u001b[39mself\u001b[39m\u001b[39m.\u001b[39mskipkeys, _one_shot)\n\u001b[1;32m--> 257\u001b[0m \u001b[39mreturn\u001b[39;00m _iterencode(o, \u001b[39m0\u001b[39;49m)\n",
      "File \u001b[1;32m~\\AppData\\Roaming\\Python\\Python38\\site-packages\\_plotly_utils\\utils.py:136\u001b[0m, in \u001b[0;36mPlotlyJSONEncoder.default\u001b[1;34m(self, obj)\u001b[0m\n\u001b[0;32m    134\u001b[0m     \u001b[39mexcept\u001b[39;00m NotEncodable:\n\u001b[0;32m    135\u001b[0m         \u001b[39mpass\u001b[39;00m\n\u001b[1;32m--> 136\u001b[0m \u001b[39mreturn\u001b[39;00m _json\u001b[39m.\u001b[39;49mJSONEncoder\u001b[39m.\u001b[39;49mdefault(\u001b[39mself\u001b[39;49m, obj)\n",
      "File \u001b[1;32mc:\\Program Files\\Python38\\lib\\json\\encoder.py:179\u001b[0m, in \u001b[0;36mJSONEncoder.default\u001b[1;34m(self, o)\u001b[0m\n\u001b[0;32m    160\u001b[0m \u001b[39mdef\u001b[39;00m \u001b[39mdefault\u001b[39m(\u001b[39mself\u001b[39m, o):\n\u001b[0;32m    161\u001b[0m     \u001b[39m\"\"\"Implement this method in a subclass such that it returns\u001b[39;00m\n\u001b[0;32m    162\u001b[0m \u001b[39m    a serializable object for ``o``, or calls the base implementation\u001b[39;00m\n\u001b[0;32m    163\u001b[0m \u001b[39m    (to raise a ``TypeError``).\u001b[39;00m\n\u001b[1;32m   (...)\u001b[0m\n\u001b[0;32m    177\u001b[0m \n\u001b[0;32m    178\u001b[0m \u001b[39m    \"\"\"\u001b[39;00m\n\u001b[1;32m--> 179\u001b[0m     \u001b[39mraise\u001b[39;00m \u001b[39mTypeError\u001b[39;00m(\u001b[39mf\u001b[39m\u001b[39m'\u001b[39m\u001b[39mObject of type \u001b[39m\u001b[39m{\u001b[39;00mo\u001b[39m.\u001b[39m\u001b[39m__class__\u001b[39m\u001b[39m.\u001b[39m\u001b[39m__name__\u001b[39m\u001b[39m}\u001b[39;00m\u001b[39m \u001b[39m\u001b[39m'\u001b[39m\n\u001b[0;32m    180\u001b[0m                     \u001b[39mf\u001b[39m\u001b[39m'\u001b[39m\u001b[39mis not JSON serializable\u001b[39m\u001b[39m'\u001b[39m)\n",
      "\u001b[1;31mTypeError\u001b[0m: Object of type Interval is not JSON serializable"
     ]
    },
    {
     "ename": "TypeError",
     "evalue": "Object of type Interval is not JSON serializable",
     "output_type": "error",
     "traceback": [
      "\u001b[1;31m---------------------------------------------------------------------------\u001b[0m",
      "\u001b[1;31mTypeError\u001b[0m                                 Traceback (most recent call last)",
      "File \u001b[1;32m~\\AppData\\Roaming\\Python\\Python38\\site-packages\\IPython\\core\\formatters.py:343\u001b[0m, in \u001b[0;36mBaseFormatter.__call__\u001b[1;34m(self, obj)\u001b[0m\n\u001b[0;32m    341\u001b[0m     method \u001b[39m=\u001b[39m get_real_method(obj, \u001b[39mself\u001b[39m\u001b[39m.\u001b[39mprint_method)\n\u001b[0;32m    342\u001b[0m     \u001b[39mif\u001b[39;00m method \u001b[39mis\u001b[39;00m \u001b[39mnot\u001b[39;00m \u001b[39mNone\u001b[39;00m:\n\u001b[1;32m--> 343\u001b[0m         \u001b[39mreturn\u001b[39;00m method()\n\u001b[0;32m    344\u001b[0m     \u001b[39mreturn\u001b[39;00m \u001b[39mNone\u001b[39;00m\n\u001b[0;32m    345\u001b[0m \u001b[39melse\u001b[39;00m:\n",
      "File \u001b[1;32m~\\AppData\\Roaming\\Python\\Python38\\site-packages\\plotly\\basedatatypes.py:810\u001b[0m, in \u001b[0;36mBaseFigure._repr_html_\u001b[1;34m(self)\u001b[0m\n\u001b[0;32m    806\u001b[0m \u001b[39mdef\u001b[39;00m \u001b[39m_repr_html_\u001b[39m(\u001b[39mself\u001b[39m):\n\u001b[0;32m    807\u001b[0m     \u001b[39m\"\"\"\u001b[39;00m\n\u001b[0;32m    808\u001b[0m \u001b[39m    Customize html representation\u001b[39;00m\n\u001b[0;32m    809\u001b[0m \u001b[39m    \"\"\"\u001b[39;00m\n\u001b[1;32m--> 810\u001b[0m     bundle \u001b[39m=\u001b[39m \u001b[39mself\u001b[39;49m\u001b[39m.\u001b[39;49m_repr_mimebundle_()\n\u001b[0;32m    811\u001b[0m     \u001b[39mif\u001b[39;00m \u001b[39m\"\u001b[39m\u001b[39mtext/html\u001b[39m\u001b[39m\"\u001b[39m \u001b[39min\u001b[39;00m bundle:\n\u001b[0;32m    812\u001b[0m         \u001b[39mreturn\u001b[39;00m bundle[\u001b[39m\"\u001b[39m\u001b[39mtext/html\u001b[39m\u001b[39m\"\u001b[39m]\n",
      "File \u001b[1;32m~\\AppData\\Roaming\\Python\\Python38\\site-packages\\plotly\\basedatatypes.py:834\u001b[0m, in \u001b[0;36mBaseFigure._repr_mimebundle_\u001b[1;34m(self, include, exclude, validate, **kwargs)\u001b[0m\n\u001b[0;32m    832\u001b[0m \u001b[39mfor\u001b[39;00m renderer \u001b[39min\u001b[39;00m renderers_list:\n\u001b[0;32m    833\u001b[0m     \u001b[39mif\u001b[39;00m \u001b[39misinstance\u001b[39m(renderer, MimetypeRenderer):\n\u001b[1;32m--> 834\u001b[0m         bundle\u001b[39m.\u001b[39mupdate(renderer\u001b[39m.\u001b[39;49mto_mimebundle(fig_dict))\n\u001b[0;32m    835\u001b[0m \u001b[39mreturn\u001b[39;00m bundle\n",
      "File \u001b[1;32m~\\AppData\\Roaming\\Python\\Python38\\site-packages\\plotly\\io\\_base_renderers.py:96\u001b[0m, in \u001b[0;36mPlotlyRenderer.to_mimebundle\u001b[1;34m(self, fig_dict)\u001b[0m\n\u001b[0;32m     92\u001b[0m \u001b[39mif\u001b[39;00m config:\n\u001b[0;32m     93\u001b[0m     fig_dict[\u001b[39m\"\u001b[39m\u001b[39mconfig\u001b[39m\u001b[39m\"\u001b[39m] \u001b[39m=\u001b[39m config\n\u001b[0;32m     95\u001b[0m json_compatible_fig_dict \u001b[39m=\u001b[39m json\u001b[39m.\u001b[39mloads(\n\u001b[1;32m---> 96\u001b[0m     to_json(fig_dict, validate\u001b[39m=\u001b[39;49m\u001b[39mFalse\u001b[39;49;00m, remove_uids\u001b[39m=\u001b[39;49m\u001b[39mFalse\u001b[39;49;00m)\n\u001b[0;32m     97\u001b[0m )\n\u001b[0;32m     99\u001b[0m \u001b[39mreturn\u001b[39;00m {\u001b[39m\"\u001b[39m\u001b[39mapplication/vnd.plotly.v1+json\u001b[39m\u001b[39m\"\u001b[39m: json_compatible_fig_dict}\n",
      "File \u001b[1;32m~\\AppData\\Roaming\\Python\\Python38\\site-packages\\plotly\\io\\_json.py:197\u001b[0m, in \u001b[0;36mto_json\u001b[1;34m(fig, validate, pretty, remove_uids, engine)\u001b[0m\n\u001b[0;32m    194\u001b[0m     \u001b[39mfor\u001b[39;00m trace \u001b[39min\u001b[39;00m fig_dict\u001b[39m.\u001b[39mget(\u001b[39m\"\u001b[39m\u001b[39mdata\u001b[39m\u001b[39m\"\u001b[39m, []):\n\u001b[0;32m    195\u001b[0m         trace\u001b[39m.\u001b[39mpop(\u001b[39m\"\u001b[39m\u001b[39muid\u001b[39m\u001b[39m\"\u001b[39m, \u001b[39mNone\u001b[39;00m)\n\u001b[1;32m--> 197\u001b[0m \u001b[39mreturn\u001b[39;00m to_json_plotly(fig_dict, pretty\u001b[39m=\u001b[39;49mpretty, engine\u001b[39m=\u001b[39;49mengine)\n",
      "File \u001b[1;32m~\\AppData\\Roaming\\Python\\Python38\\site-packages\\plotly\\io\\_json.py:124\u001b[0m, in \u001b[0;36mto_json_plotly\u001b[1;34m(plotly_object, pretty, engine)\u001b[0m\n\u001b[0;32m    120\u001b[0m         opts[\u001b[39m\"\u001b[39m\u001b[39mseparators\u001b[39m\u001b[39m\"\u001b[39m] \u001b[39m=\u001b[39m (\u001b[39m\"\u001b[39m\u001b[39m,\u001b[39m\u001b[39m\"\u001b[39m, \u001b[39m\"\u001b[39m\u001b[39m:\u001b[39m\u001b[39m\"\u001b[39m)\n\u001b[0;32m    122\u001b[0m     \u001b[39mfrom\u001b[39;00m \u001b[39m_plotly_utils\u001b[39;00m\u001b[39m.\u001b[39;00m\u001b[39mutils\u001b[39;00m \u001b[39mimport\u001b[39;00m PlotlyJSONEncoder\n\u001b[1;32m--> 124\u001b[0m     \u001b[39mreturn\u001b[39;00m json\u001b[39m.\u001b[39;49mdumps(plotly_object, \u001b[39mcls\u001b[39;49m\u001b[39m=\u001b[39;49mPlotlyJSONEncoder, \u001b[39m*\u001b[39;49m\u001b[39m*\u001b[39;49mopts)\n\u001b[0;32m    125\u001b[0m \u001b[39melif\u001b[39;00m engine \u001b[39m==\u001b[39m \u001b[39m\"\u001b[39m\u001b[39morjson\u001b[39m\u001b[39m\"\u001b[39m:\n\u001b[0;32m    126\u001b[0m     JsonConfig\u001b[39m.\u001b[39mvalidate_orjson()\n",
      "File \u001b[1;32mc:\\Program Files\\Python38\\lib\\json\\__init__.py:234\u001b[0m, in \u001b[0;36mdumps\u001b[1;34m(obj, skipkeys, ensure_ascii, check_circular, allow_nan, cls, indent, separators, default, sort_keys, **kw)\u001b[0m\n\u001b[0;32m    232\u001b[0m \u001b[39mif\u001b[39;00m \u001b[39mcls\u001b[39m \u001b[39mis\u001b[39;00m \u001b[39mNone\u001b[39;00m:\n\u001b[0;32m    233\u001b[0m     \u001b[39mcls\u001b[39m \u001b[39m=\u001b[39m JSONEncoder\n\u001b[1;32m--> 234\u001b[0m \u001b[39mreturn\u001b[39;00m \u001b[39mcls\u001b[39;49m(\n\u001b[0;32m    235\u001b[0m     skipkeys\u001b[39m=\u001b[39;49mskipkeys, ensure_ascii\u001b[39m=\u001b[39;49mensure_ascii,\n\u001b[0;32m    236\u001b[0m     check_circular\u001b[39m=\u001b[39;49mcheck_circular, allow_nan\u001b[39m=\u001b[39;49mallow_nan, indent\u001b[39m=\u001b[39;49mindent,\n\u001b[0;32m    237\u001b[0m     separators\u001b[39m=\u001b[39;49mseparators, default\u001b[39m=\u001b[39;49mdefault, sort_keys\u001b[39m=\u001b[39;49msort_keys,\n\u001b[0;32m    238\u001b[0m     \u001b[39m*\u001b[39;49m\u001b[39m*\u001b[39;49mkw)\u001b[39m.\u001b[39;49mencode(obj)\n",
      "File \u001b[1;32m~\\AppData\\Roaming\\Python\\Python38\\site-packages\\_plotly_utils\\utils.py:59\u001b[0m, in \u001b[0;36mPlotlyJSONEncoder.encode\u001b[1;34m(self, o)\u001b[0m\n\u001b[0;32m     52\u001b[0m \u001b[39m\"\"\"\u001b[39;00m\n\u001b[0;32m     53\u001b[0m \u001b[39mLoad and then dump the result using parse_constant kwarg\u001b[39;00m\n\u001b[0;32m     54\u001b[0m \n\u001b[0;32m     55\u001b[0m \u001b[39mNote that setting invalid separators will cause a failure at this step.\u001b[39;00m\n\u001b[0;32m     56\u001b[0m \n\u001b[0;32m     57\u001b[0m \u001b[39m\"\"\"\u001b[39;00m\n\u001b[0;32m     58\u001b[0m \u001b[39m# this will raise errors in a normal-expected way\u001b[39;00m\n\u001b[1;32m---> 59\u001b[0m encoded_o \u001b[39m=\u001b[39m \u001b[39msuper\u001b[39;49m(PlotlyJSONEncoder, \u001b[39mself\u001b[39;49m)\u001b[39m.\u001b[39;49mencode(o)\n\u001b[0;32m     60\u001b[0m \u001b[39m# Brute force guessing whether NaN or Infinity values are in the string\u001b[39;00m\n\u001b[0;32m     61\u001b[0m \u001b[39m# We catch false positive cases (e.g. strings such as titles, labels etc.)\u001b[39;00m\n\u001b[0;32m     62\u001b[0m \u001b[39m# but this is ok since the intention is to skip the decoding / reencoding\u001b[39;00m\n\u001b[0;32m     63\u001b[0m \u001b[39m# step when it's completely safe\u001b[39;00m\n\u001b[0;32m     65\u001b[0m \u001b[39mif\u001b[39;00m \u001b[39mnot\u001b[39;00m (\u001b[39m\"\u001b[39m\u001b[39mNaN\u001b[39m\u001b[39m\"\u001b[39m \u001b[39min\u001b[39;00m encoded_o \u001b[39mor\u001b[39;00m \u001b[39m\"\u001b[39m\u001b[39mInfinity\u001b[39m\u001b[39m\"\u001b[39m \u001b[39min\u001b[39;00m encoded_o):\n",
      "File \u001b[1;32mc:\\Program Files\\Python38\\lib\\json\\encoder.py:199\u001b[0m, in \u001b[0;36mJSONEncoder.encode\u001b[1;34m(self, o)\u001b[0m\n\u001b[0;32m    195\u001b[0m         \u001b[39mreturn\u001b[39;00m encode_basestring(o)\n\u001b[0;32m    196\u001b[0m \u001b[39m# This doesn't pass the iterator directly to ''.join() because the\u001b[39;00m\n\u001b[0;32m    197\u001b[0m \u001b[39m# exceptions aren't as detailed.  The list call should be roughly\u001b[39;00m\n\u001b[0;32m    198\u001b[0m \u001b[39m# equivalent to the PySequence_Fast that ''.join() would do.\u001b[39;00m\n\u001b[1;32m--> 199\u001b[0m chunks \u001b[39m=\u001b[39m \u001b[39mself\u001b[39;49m\u001b[39m.\u001b[39;49miterencode(o, _one_shot\u001b[39m=\u001b[39;49m\u001b[39mTrue\u001b[39;49;00m)\n\u001b[0;32m    200\u001b[0m \u001b[39mif\u001b[39;00m \u001b[39mnot\u001b[39;00m \u001b[39misinstance\u001b[39m(chunks, (\u001b[39mlist\u001b[39m, \u001b[39mtuple\u001b[39m)):\n\u001b[0;32m    201\u001b[0m     chunks \u001b[39m=\u001b[39m \u001b[39mlist\u001b[39m(chunks)\n",
      "File \u001b[1;32mc:\\Program Files\\Python38\\lib\\json\\encoder.py:257\u001b[0m, in \u001b[0;36mJSONEncoder.iterencode\u001b[1;34m(self, o, _one_shot)\u001b[0m\n\u001b[0;32m    252\u001b[0m \u001b[39melse\u001b[39;00m:\n\u001b[0;32m    253\u001b[0m     _iterencode \u001b[39m=\u001b[39m _make_iterencode(\n\u001b[0;32m    254\u001b[0m         markers, \u001b[39mself\u001b[39m\u001b[39m.\u001b[39mdefault, _encoder, \u001b[39mself\u001b[39m\u001b[39m.\u001b[39mindent, floatstr,\n\u001b[0;32m    255\u001b[0m         \u001b[39mself\u001b[39m\u001b[39m.\u001b[39mkey_separator, \u001b[39mself\u001b[39m\u001b[39m.\u001b[39mitem_separator, \u001b[39mself\u001b[39m\u001b[39m.\u001b[39msort_keys,\n\u001b[0;32m    256\u001b[0m         \u001b[39mself\u001b[39m\u001b[39m.\u001b[39mskipkeys, _one_shot)\n\u001b[1;32m--> 257\u001b[0m \u001b[39mreturn\u001b[39;00m _iterencode(o, \u001b[39m0\u001b[39;49m)\n",
      "File \u001b[1;32m~\\AppData\\Roaming\\Python\\Python38\\site-packages\\_plotly_utils\\utils.py:136\u001b[0m, in \u001b[0;36mPlotlyJSONEncoder.default\u001b[1;34m(self, obj)\u001b[0m\n\u001b[0;32m    134\u001b[0m     \u001b[39mexcept\u001b[39;00m NotEncodable:\n\u001b[0;32m    135\u001b[0m         \u001b[39mpass\u001b[39;00m\n\u001b[1;32m--> 136\u001b[0m \u001b[39mreturn\u001b[39;00m _json\u001b[39m.\u001b[39;49mJSONEncoder\u001b[39m.\u001b[39;49mdefault(\u001b[39mself\u001b[39;49m, obj)\n",
      "File \u001b[1;32mc:\\Program Files\\Python38\\lib\\json\\encoder.py:179\u001b[0m, in \u001b[0;36mJSONEncoder.default\u001b[1;34m(self, o)\u001b[0m\n\u001b[0;32m    160\u001b[0m \u001b[39mdef\u001b[39;00m \u001b[39mdefault\u001b[39m(\u001b[39mself\u001b[39m, o):\n\u001b[0;32m    161\u001b[0m     \u001b[39m\"\"\"Implement this method in a subclass such that it returns\u001b[39;00m\n\u001b[0;32m    162\u001b[0m \u001b[39m    a serializable object for ``o``, or calls the base implementation\u001b[39;00m\n\u001b[0;32m    163\u001b[0m \u001b[39m    (to raise a ``TypeError``).\u001b[39;00m\n\u001b[1;32m   (...)\u001b[0m\n\u001b[0;32m    177\u001b[0m \n\u001b[0;32m    178\u001b[0m \u001b[39m    \"\"\"\u001b[39;00m\n\u001b[1;32m--> 179\u001b[0m     \u001b[39mraise\u001b[39;00m \u001b[39mTypeError\u001b[39;00m(\u001b[39mf\u001b[39m\u001b[39m'\u001b[39m\u001b[39mObject of type \u001b[39m\u001b[39m{\u001b[39;00mo\u001b[39m.\u001b[39m\u001b[39m__class__\u001b[39m\u001b[39m.\u001b[39m\u001b[39m__name__\u001b[39m\u001b[39m}\u001b[39;00m\u001b[39m \u001b[39m\u001b[39m'\u001b[39m\n\u001b[0;32m    180\u001b[0m                     \u001b[39mf\u001b[39m\u001b[39m'\u001b[39m\u001b[39mis not JSON serializable\u001b[39m\u001b[39m'\u001b[39m)\n",
      "\u001b[1;31mTypeError\u001b[0m: Object of type Interval is not JSON serializable"
     ]
    },
    {
     "data": {
      "text/plain": [
       "Figure({\n",
       "    'data': [{'alignmentgroup': 'True',\n",
       "              'hovertemplate': 'index=%{x}<br>Stambena površina u m2=%{y}<extra></extra>',\n",
       "              'legendgroup': '',\n",
       "              'marker': {'color': '#636efa', 'pattern': {'shape': ''}},\n",
       "              'name': '',\n",
       "              'offsetgroup': '',\n",
       "              'orientation': 'v',\n",
       "              'showlegend': False,\n",
       "              'textposition': 'auto',\n",
       "              'type': 'bar',\n",
       "              'x': array([Interval(53.55, 62.06, closed='right'),\n",
       "                          Interval(62.06, 70.57, closed='right'),\n",
       "                          Interval(70.57, 79.08, closed='right'),\n",
       "                          Interval(79.08, 87.59, closed='right'),\n",
       "                          Interval(45.04, 53.55, closed='right'),\n",
       "                          Interval(87.59, 96.1, closed='right'),\n",
       "                          Interval(96.1, 104.61, closed='right'),\n",
       "                          Interval(36.53, 45.04, closed='right'),\n",
       "                          Interval(28.02, 36.53, closed='right'),\n",
       "                          Interval(104.61, 113.12, closed='right'),\n",
       "                          Interval(113.12, 121.63, closed='right'),\n",
       "                          Interval(121.63, 130.14, closed='right'),\n",
       "                          Interval(130.14, 138.65, closed='right'),\n",
       "                          Interval(147.16, 155.67, closed='right'),\n",
       "                          Interval(138.65, 147.16, closed='right'),\n",
       "                          Interval(19.51, 28.02, closed='right'),\n",
       "                          Interval(155.67, 164.18, closed='right'),\n",
       "                          Interval(172.69, 181.2, closed='right'),\n",
       "                          Interval(164.18, 172.69, closed='right'),\n",
       "                          Interval(189.71, 198.22, closed='right'),\n",
       "                          Interval(181.2, 189.71, closed='right'),\n",
       "                          Interval(198.22, 206.73, closed='right'),\n",
       "                          Interval(206.73, 215.24, closed='right'),\n",
       "                          Interval(249.28, 257.79, closed='right'),\n",
       "                          Interval(223.75, 232.26, closed='right'),\n",
       "                          Interval(10.148, 19.51, closed='right'),\n",
       "                          Interval(317.36, 325.87, closed='right'),\n",
       "                          Interval(215.24, 223.75, closed='right'),\n",
       "                          Interval(232.26, 240.77, closed='right'),\n",
       "                          Interval(240.77, 249.28, closed='right'),\n",
       "                          Interval(334.38, 342.89, closed='right'),\n",
       "                          Interval(342.89, 351.4, closed='right'),\n",
       "                          Interval(291.83, 300.34, closed='right'),\n",
       "                          Interval(274.81, 283.32, closed='right'),\n",
       "                          Interval(300.34, 308.85, closed='right'),\n",
       "                          Interval(496.07, 504.58, closed='right'),\n",
       "                          Interval(266.3, 274.81, closed='right'),\n",
       "                          Interval(325.87, 334.38, closed='right'),\n",
       "                          Interval(257.79, 266.3, closed='right'),\n",
       "                          Interval(351.4, 359.91, closed='right'),\n",
       "                          Interval(308.85, 317.36, closed='right'),\n",
       "                          Interval(793.92, 802.43, closed='right'),\n",
       "                          Interval(776.9, 785.41, closed='right'),\n",
       "                          Interval(751.37, 759.88, closed='right'),\n",
       "                          Interval(691.8, 700.31, closed='right'),\n",
       "                          Interval(657.76, 666.27, closed='right'),\n",
       "                          Interval(564.15, 572.66, closed='right'),\n",
       "                          Interval(547.13, 555.64, closed='right'),\n",
       "                          Interval(453.52, 462.03, closed='right'),\n",
       "                          Interval(853.49, 862.0, closed='right'),\n",
       "                          Interval(427.99, 436.5, closed='right'),\n",
       "                          Interval(419.48, 427.99, closed='right'),\n",
       "                          Interval(283.32, 291.83, closed='right'),\n",
       "                          Interval(359.91, 368.42, closed='right'),\n",
       "                          Interval(368.42, 376.93, closed='right'),\n",
       "                          Interval(674.78, 683.29, closed='right'),\n",
       "                          Interval(683.29, 691.8, closed='right'),\n",
       "                          Interval(376.93, 385.44, closed='right'),\n",
       "                          Interval(700.31, 708.82, closed='right'),\n",
       "                          Interval(708.82, 717.33, closed='right'),\n",
       "                          Interval(717.33, 725.84, closed='right'),\n",
       "                          Interval(725.84, 734.35, closed='right'),\n",
       "                          Interval(734.35, 742.86, closed='right'),\n",
       "                          Interval(742.86, 751.37, closed='right'),\n",
       "                          Interval(768.39, 776.9, closed='right'),\n",
       "                          Interval(759.88, 768.39, closed='right'),\n",
       "                          Interval(385.44, 393.95, closed='right'),\n",
       "                          Interval(785.41, 793.92, closed='right'),\n",
       "                          Interval(802.43, 810.94, closed='right'),\n",
       "                          Interval(810.94, 819.45, closed='right'),\n",
       "                          Interval(819.45, 827.96, closed='right'),\n",
       "                          Interval(827.96, 836.47, closed='right'),\n",
       "                          Interval(836.47, 844.98, closed='right'),\n",
       "                          Interval(844.98, 853.49, closed='right'),\n",
       "                          Interval(666.27, 674.78, closed='right'),\n",
       "                          Interval(649.25, 657.76, closed='right'),\n",
       "                          Interval(445.01, 453.52, closed='right'),\n",
       "                          Interval(640.74, 649.25, closed='right'),\n",
       "                          Interval(462.03, 470.54, closed='right'),\n",
       "                          Interval(470.54, 479.05, closed='right'),\n",
       "                          Interval(479.05, 487.56, closed='right'),\n",
       "                          Interval(487.56, 496.07, closed='right'),\n",
       "                          Interval(410.97, 419.48, closed='right'),\n",
       "                          Interval(504.58, 513.09, closed='right'),\n",
       "                          Interval(513.09, 521.6, closed='right'),\n",
       "                          Interval(521.6, 530.11, closed='right'),\n",
       "                          Interval(530.11, 538.62, closed='right'),\n",
       "                          Interval(538.62, 547.13, closed='right'),\n",
       "                          Interval(402.46, 410.97, closed='right'),\n",
       "                          Interval(555.64, 564.15, closed='right'),\n",
       "                          Interval(393.95, 402.46, closed='right'),\n",
       "                          Interval(572.66, 581.17, closed='right'),\n",
       "                          Interval(581.17, 589.68, closed='right'),\n",
       "                          Interval(589.68, 598.19, closed='right'),\n",
       "                          Interval(598.19, 606.7, closed='right'),\n",
       "                          Interval(606.7, 615.21, closed='right'),\n",
       "                          Interval(615.21, 623.72, closed='right'),\n",
       "                          Interval(623.72, 632.23, closed='right'),\n",
       "                          Interval(632.23, 640.74, closed='right'),\n",
       "                          Interval(436.5, 445.01, closed='right')], dtype=object),\n",
       "              'xaxis': 'x',\n",
       "              'y': array([438, 401, 394, 381, 309, 285, 244, 229, 188, 184, 163, 157, 104,  98,\n",
       "                           81,  70,  62,  44,  39,  38,  36,  27,  25,  19,  14,  11,  10,  10,\n",
       "                            7,   6,   5,   4,   4,   3,   3,   3,   3,   3,   3,   2,   2,   1,\n",
       "                            1,   1,   1,   1,   1,   1,   1,   1,   1,   1,   1,   1,   0,   0,\n",
       "                            0,   0,   0,   0,   0,   0,   0,   0,   0,   0,   0,   0,   0,   0,\n",
       "                            0,   0,   0,   0,   0,   0,   0,   0,   0,   0,   0,   0,   0,   0,\n",
       "                            0,   0,   0,   0,   0,   0,   0,   0,   0,   0,   0,   0,   0,   0,\n",
       "                            0,   0], dtype=int64),\n",
       "              'yaxis': 'y'}],\n",
       "    'layout': {'barmode': 'relative',\n",
       "               'legend': {'tracegroupgap': 0},\n",
       "               'margin': {'t': 60},\n",
       "               'template': '...',\n",
       "               'xaxis': {'anchor': 'y', 'domain': [0.0, 1.0], 'title': {'text': 'index'}},\n",
       "               'yaxis': {'anchor': 'x', 'domain': [0.0, 1.0], 'title': {'text': 'Stambena površina u m2'}}}\n",
       "})"
      ]
     },
     "execution_count": 12,
     "metadata": {},
     "output_type": "execute_result"
    }
   ],
   "source": [
    "df[\"Stambena površina u m2\"].value_counts(bins = 100).reset_index()\n",
    "fig = px.bar(df[\"Stambena površina u m2\"].value_counts(bins = 100).reset_index(), x=\"index\", y=\"Stambena površina u m2\")\n",
    "fig"
   ]
  },
  {
   "cell_type": "code",
   "execution_count": 4,
   "metadata": {},
   "outputs": [
    {
     "data": {
      "application/vnd.plotly.v1+json": {
       "config": {
        "plotlyServerURL": "https://plot.ly"
       },
       "data": [
        {
         "alignmentgroup": "True",
         "bingroup": "x",
         "hovertemplate": "Stambena površina u m2=%{x}<br>count=%{y}<extra></extra>",
         "legendgroup": "",
         "marker": {
          "color": "#636efa",
          "pattern": {
           "shape": ""
          }
         },
         "name": "",
         "offsetgroup": "",
         "orientation": "v",
         "showlegend": false,
         "type": "histogram",
         "x": [
          40,
          84,
          96,
          71,
          74,
          95,
          83,
          69,
          23,
          50,
          34,
          160,
          74,
          45,
          68,
          39.9,
          56.5,
          21,
          63,
          87,
          87,
          30,
          101,
          92,
          55.26,
          63.2,
          45.95,
          98.89,
          57,
          59,
          84,
          58,
          54,
          63,
          49.19,
          76.5,
          80,
          58,
          126.15,
          74,
          40.27,
          70,
          140,
          72,
          106,
          67,
          47,
          84.65,
          114,
          65,
          37.54,
          77.38,
          91.1,
          62.89,
          92.54,
          74.2,
          37,
          74,
          83,
          64,
          83,
          67,
          80,
          93,
          192,
          780,
          55,
          105,
          77.38,
          44.9,
          78,
          65,
          121,
          47,
          84,
          55,
          54,
          100,
          214,
          136,
          84.7,
          57.35,
          92.84,
          31,
          199,
          106,
          80,
          80,
          77,
          31,
          31,
          85,
          107,
          35,
          97,
          123,
          109,
          72,
          122,
          72,
          139,
          76,
          45,
          93,
          63,
          61,
          130,
          123,
          64,
          147,
          75,
          150,
          115,
          44,
          54,
          39,
          83,
          77,
          31,
          62.18,
          29,
          77,
          130,
          95,
          96,
          125,
          103,
          169,
          34,
          46,
          96,
          53,
          122,
          90.46,
          66.4,
          120,
          117.59,
          80,
          61,
          29,
          111,
          69,
          79,
          88,
          85,
          60,
          35,
          60,
          116,
          41,
          95,
          99,
          95,
          63,
          99,
          126,
          36,
          22,
          56,
          70,
          25,
          30,
          92,
          49,
          107,
          75,
          101,
          63,
          55,
          21,
          79,
          72,
          206,
          43,
          64,
          67,
          80,
          68,
          136,
          112,
          77.52,
          161.65,
          167,
          110,
          70,
          78,
          64,
          121,
          81,
          57,
          80,
          64,
          80,
          78,
          92,
          78,
          78,
          58.18,
          40,
          76.5,
          116,
          63,
          121,
          81,
          103,
          63,
          73,
          109,
          43.97,
          58,
          110.4,
          85.18,
          47.29,
          35.17,
          110.2,
          82,
          41,
          74,
          35,
          100,
          37,
          120,
          88.5,
          64,
          51.21,
          72.11,
          154,
          185,
          109,
          43.92,
          73,
          94,
          89.88,
          80,
          94,
          118,
          139,
          70.3,
          60,
          61,
          78,
          136,
          54,
          80,
          86.94,
          71,
          133,
          106,
          118,
          140,
          59,
          52,
          33.23,
          170,
          50,
          56,
          39,
          85,
          71,
          77,
          118,
          123,
          91,
          74,
          70,
          74,
          56,
          56,
          147,
          93,
          198,
          95,
          54,
          324,
          234,
          58,
          160,
          172,
          52,
          168,
          132,
          84,
          47,
          95,
          95,
          155,
          227,
          31,
          181,
          66,
          47,
          63,
          55,
          55,
          50,
          58,
          59,
          99,
          63,
          132,
          86,
          80,
          87,
          128,
          119,
          108,
          108,
          82,
          40,
          80.45,
          58.87,
          77.14,
          78.35,
          38,
          82.2,
          60,
          80,
          86,
          93,
          56,
          40,
          80,
          94,
          56,
          21,
          157,
          36,
          60,
          78,
          100,
          50,
          128,
          145,
          90,
          43,
          72,
          68,
          71.92,
          52,
          52.3,
          100,
          33,
          87.59,
          53,
          122,
          44,
          60,
          31.85,
          55,
          55,
          51,
          51,
          97,
          71,
          30,
          75,
          63,
          32.71,
          47.4,
          93,
          108,
          57.49,
          90,
          64,
          48,
          67,
          90,
          47.54,
          40,
          63,
          35,
          100,
          195,
          78,
          41,
          69,
          80,
          63,
          86,
          106,
          70,
          122,
          118,
          106,
          61,
          35,
          150,
          85,
          78,
          68,
          67,
          71,
          54,
          73,
          67,
          68,
          84,
          126,
          74,
          70.26,
          96,
          65,
          64,
          53,
          31,
          97,
          65,
          69,
          133,
          63,
          200,
          138,
          120,
          59,
          74,
          114,
          185,
          104,
          41,
          110,
          54,
          46,
          35,
          122,
          150,
          70.57,
          45,
          53,
          118,
          56,
          81,
          70,
          71.69,
          75,
          163,
          147,
          136,
          92,
          119,
          74,
          57.98,
          55,
          68,
          84,
          70,
          100,
          57,
          71,
          184,
          101,
          145,
          40,
          74,
          85,
          190,
          116,
          70,
          81,
          79,
          98,
          65,
          171,
          141,
          30,
          96,
          43.95,
          36,
          56,
          61.52,
          31,
          78,
          72,
          72,
          62,
          74,
          57,
          88.4,
          130,
          56.75,
          129,
          94,
          203,
          59,
          83,
          69,
          51,
          69,
          90,
          90,
          244,
          108,
          78,
          63,
          71,
          260,
          100,
          82,
          85,
          118,
          74,
          90,
          65,
          110,
          56.5,
          60,
          30,
          93,
          70,
          149,
          54,
          33,
          74,
          314,
          29,
          59,
          59,
          207,
          62,
          131,
          85,
          111,
          79,
          55,
          130,
          61,
          123,
          118,
          102,
          114,
          59,
          85,
          45,
          220,
          152,
          59,
          79,
          59,
          164,
          37,
          156,
          138,
          102,
          146,
          146,
          72,
          135,
          70.5,
          108,
          88,
          117,
          82,
          225,
          128,
          102,
          59,
          99,
          59,
          101,
          34.44,
          61,
          84,
          82,
          59,
          102,
          32,
          102,
          76,
          67.2,
          50,
          159,
          150,
          49,
          82,
          60,
          125,
          97,
          186,
          212,
          213,
          89,
          102,
          50,
          68,
          107,
          59,
          127,
          33.17,
          98,
          67,
          78,
          76,
          96,
          87,
          34,
          60,
          137,
          65,
          90,
          58,
          91,
          30,
          47,
          109,
          50,
          76,
          66,
          108,
          92,
          54,
          145,
          177,
          30,
          42,
          76,
          78.2,
          102.87,
          47,
          78,
          63,
          80,
          77,
          85,
          78,
          66,
          78,
          181,
          341,
          70,
          20,
          48.3,
          62.47,
          58.96,
          60,
          61,
          91,
          50,
          98,
          48,
          160,
          53,
          62,
          40.19,
          55,
          178,
          49,
          83.38,
          112,
          34,
          52,
          41,
          25,
          80,
          68,
          105,
          80,
          80,
          74,
          55,
          69,
          128,
          91,
          45,
          70,
          60,
          70,
          83,
          80,
          106,
          56,
          94,
          149,
          122,
          92,
          75,
          62,
          68.68,
          75,
          57,
          64,
          255,
          74,
          104,
          251,
          192,
          149,
          93,
          145,
          84,
          93,
          25,
          179,
          128,
          67,
          109,
          65,
          224,
          130,
          111,
          69,
          94,
          154,
          157,
          122,
          225,
          201,
          133,
          20,
          32,
          248,
          45,
          89,
          79,
          107,
          170,
          93,
          121,
          86,
          102,
          72,
          46,
          196,
          131,
          134,
          140,
          126,
          94,
          256,
          95,
          77,
          70,
          249,
          48,
          106,
          85,
          270,
          132,
          210,
          119,
          110,
          130,
          40,
          54,
          82,
          107,
          138.44,
          110,
          214,
          150,
          120,
          153,
          120,
          115,
          29,
          87,
          85,
          210,
          173,
          102,
          102,
          115,
          255,
          48,
          755,
          128,
          249,
          80,
          200,
          130,
          106,
          55,
          83,
          130,
          124,
          83,
          171,
          77,
          32,
          75,
          70,
          127,
          177,
          99,
          154,
          45,
          92,
          87,
          80,
          194,
          42,
          100,
          125,
          100,
          160,
          55,
          93,
          120,
          155,
          186,
          30,
          50,
          15.195,
          800,
          178,
          89,
          38,
          49,
          73,
          117,
          145.48,
          194,
          50,
          171,
          65,
          94,
          98,
          51,
          55,
          104,
          155,
          163,
          120,
          120,
          76,
          153.16,
          59,
          129,
          126,
          143,
          116,
          68,
          50,
          68,
          195,
          109,
          100,
          59,
          65,
          106,
          72,
          124,
          33,
          45,
          40,
          97,
          40,
          95,
          40,
          46,
          43,
          96,
          45,
          66,
          45,
          41,
          133,
          144,
          77,
          117,
          125,
          82,
          103,
          62,
          50,
          98,
          107,
          44.3,
          95.75,
          65,
          124,
          68,
          73,
          137,
          94,
          83,
          66,
          96,
          102,
          55,
          78,
          79,
          186,
          38.91,
          100,
          90,
          93,
          75,
          118,
          103,
          78,
          208,
          93,
          28,
          148,
          70,
          114,
          131,
          107,
          110,
          186,
          136,
          16,
          80,
          548,
          125,
          100,
          47,
          71,
          96,
          39,
          76,
          63,
          90,
          125,
          151,
          97,
          108,
          78,
          91,
          104,
          75,
          60,
          64,
          55,
          108,
          173,
          120,
          44,
          101.43,
          69,
          52.15,
          67,
          87,
          121,
          100,
          88,
          123,
          108,
          54,
          54.4,
          62,
          53.3,
          45,
          110,
          90.63,
          110,
          67,
          40,
          52,
          180,
          139,
          33,
          33,
          62,
          93,
          40,
          94,
          60,
          55,
          97,
          33,
          94,
          49,
          106,
          44.12,
          83,
          97,
          61,
          56,
          79,
          82,
          33,
          61,
          68,
          40,
          150,
          94,
          89,
          65,
          100,
          47,
          85,
          63,
          78,
          78,
          100,
          116,
          33,
          124,
          35,
          82,
          50,
          94,
          46,
          146,
          145,
          50,
          86.75,
          110,
          66,
          120,
          98,
          43.33,
          100.99,
          141.69,
          132.48,
          109,
          125,
          67,
          67,
          65,
          80,
          99,
          129,
          63,
          115,
          54,
          59,
          45,
          53,
          106,
          54,
          100,
          85,
          87,
          89,
          63,
          64,
          79,
          54,
          137,
          107,
          204,
          138,
          130,
          167,
          149.87,
          24,
          75,
          48,
          97,
          33,
          55,
          74,
          127,
          63,
          145,
          216,
          98,
          186,
          59,
          74,
          65,
          93,
          62,
          67,
          80,
          113,
          140,
          54.46,
          58,
          46,
          24.93,
          32.61,
          36,
          75,
          38.2,
          50.76,
          97,
          64,
          57,
          80,
          64,
          63,
          80,
          57,
          63,
          81,
          121,
          103,
          121,
          63,
          81,
          63,
          116,
          42,
          36,
          70,
          190,
          53,
          105,
          54,
          65,
          61,
          83,
          86,
          79,
          92,
          65,
          94,
          75.11,
          80,
          80,
          43,
          49,
          63,
          54,
          59,
          119,
          83,
          88,
          53,
          121,
          108,
          24,
          24,
          34,
          32.33,
          86.53,
          73.84,
          74,
          17,
          140,
          29,
          112,
          35,
          130,
          82,
          28.56,
          111,
          56,
          214,
          107,
          84,
          84,
          126,
          99,
          140,
          193,
          165,
          120,
          661,
          53,
          101,
          144,
          148,
          118,
          240,
          86,
          106,
          160,
          138,
          175,
          330,
          215,
          107,
          90,
          248,
          260,
          150,
          240,
          257,
          221,
          150,
          136,
          81,
          207,
          130,
          130,
          155,
          53,
          150,
          130,
          82,
          102,
          80,
          47,
          85,
          100,
          40,
          28,
          88,
          118,
          137,
          140,
          55,
          129.8,
          200,
          85,
          234,
          97,
          86,
          79,
          94.41,
          143,
          85,
          129,
          180,
          300,
          200,
          48,
          72,
          85,
          85,
          271,
          73,
          29,
          185,
          155,
          46,
          56,
          220,
          205,
          150,
          50,
          350,
          150,
          65,
          82,
          40,
          74,
          112,
          197,
          106,
          80,
          436,
          256,
          126,
          145,
          145,
          100,
          93,
          155,
          107,
          110,
          250,
          245,
          250,
          162,
          84,
          93,
          104,
          42,
          91,
          84,
          862,
          139,
          108,
          139,
          70,
          90,
          40,
          93,
          110,
          68,
          99,
          123,
          48,
          74,
          130,
          35,
          226,
          145,
          103,
          82,
          180,
          180,
          70,
          86,
          144,
          56,
          111,
          60,
          130,
          83,
          455,
          80,
          50,
          161,
          99,
          76,
          50,
          79,
          700,
          42,
          104,
          572,
          112,
          130,
          87,
          87,
          50,
          60,
          133,
          134,
          134,
          205,
          76,
          156,
          63,
          133,
          124,
          98,
          100,
          172,
          144,
          117,
          102,
          92,
          312,
          55,
          301,
          95,
          96,
          92,
          82,
          153,
          80,
          67.68,
          71.63,
          35.47,
          80,
          118,
          77,
          38,
          66,
          56,
          82,
          115,
          61,
          61,
          100,
          90,
          150,
          166,
          131,
          42.52,
          115,
          66.72,
          161,
          44,
          160,
          192.47,
          78,
          42,
          108.36,
          87,
          83,
          110,
          120,
          120,
          135.87,
          92,
          48,
          77,
          47.84,
          88,
          32.75,
          97,
          62,
          72,
          57,
          140,
          70,
          66,
          91,
          153,
          43,
          88,
          88.3,
          49.95,
          44.85,
          42.65,
          104,
          59,
          63,
          85,
          78,
          48,
          88,
          64,
          66,
          85,
          64,
          85,
          52,
          85,
          26.35,
          49.4,
          66,
          65,
          49,
          47.44,
          48,
          35,
          127,
          88,
          98,
          82,
          57.33,
          154,
          103,
          133,
          70.26,
          75,
          56,
          20,
          74,
          84,
          186,
          79,
          53,
          145,
          122,
          77,
          73,
          78,
          63,
          64,
          122,
          26,
          119,
          100.42,
          150,
          65,
          137,
          101,
          76,
          89,
          64,
          57.7,
          73,
          73,
          28,
          57,
          59,
          61.9,
          85.48,
          76,
          150,
          78,
          73,
          131,
          133,
          128,
          61,
          182,
          45,
          118,
          150,
          74,
          74,
          95,
          92,
          64,
          65,
          161.68,
          75,
          43,
          110,
          200,
          162,
          105,
          122,
          213,
          38,
          40.7,
          137,
          100,
          100,
          123,
          145,
          103,
          68,
          175,
          77,
          73.88,
          97,
          94,
          45,
          45,
          126,
          100,
          173,
          32,
          97,
          34,
          92,
          324,
          69.64,
          60,
          95,
          77,
          150,
          340,
          91,
          130,
          68,
          99,
          75,
          54,
          90,
          107,
          115,
          62.39,
          105,
          90,
          90,
          68.7,
          107,
          130,
          110,
          92,
          159,
          140,
          45,
          122,
          85,
          35,
          72,
          90,
          131,
          32,
          142,
          64,
          59,
          88,
          76,
          126,
          83,
          89,
          106,
          71,
          149,
          134,
          254,
          95,
          87,
          95,
          41,
          107,
          195,
          162,
          112,
          132,
          149,
          116,
          126,
          187,
          87,
          90,
          270,
          27,
          24,
          282,
          55,
          63,
          53,
          39,
          55,
          98,
          101,
          88,
          83,
          252,
          280,
          165,
          164,
          145,
          62,
          100,
          62,
          67,
          161,
          198,
          41,
          45,
          42,
          73,
          70,
          150,
          231,
          189,
          60,
          301,
          177,
          150,
          129,
          54,
          140,
          62,
          83,
          156,
          65,
          55,
          80,
          174,
          73,
          117,
          324,
          85,
          90,
          59,
          85,
          68,
          135,
          45,
          86,
          121,
          22,
          59.3,
          95.21,
          62,
          32.22,
          80.66,
          73.65,
          87,
          46,
          74,
          70,
          95,
          45,
          83,
          41,
          87,
          61,
          20,
          85,
          51.16,
          42,
          64,
          54,
          35,
          43,
          36.12,
          78,
          75.96,
          31,
          85,
          63,
          62,
          85,
          64,
          83,
          59,
          56,
          56,
          87,
          93,
          90,
          59,
          59,
          63,
          63,
          74,
          64,
          188,
          119,
          62,
          40,
          44,
          44,
          92,
          61,
          40,
          110,
          97,
          46,
          61,
          86,
          37,
          79,
          55,
          29,
          41,
          49.35,
          71,
          68,
          215,
          49.6,
          87,
          185,
          64,
          117,
          58.23,
          76,
          40,
          51,
          52,
          117,
          38,
          33,
          36,
          52.28,
          54,
          88.87,
          95,
          51,
          167,
          155,
          250,
          61,
          155,
          95,
          95,
          94,
          70,
          102,
          39,
          94,
          83,
          54,
          100,
          126,
          84,
          56,
          93,
          58,
          134,
          115,
          76,
          82,
          51,
          50.73,
          54,
          222,
          53,
          56.76,
          93,
          31,
          65,
          74,
          93,
          56,
          44,
          96.66,
          200,
          56.73,
          62,
          173.62,
          52,
          60,
          62,
          78,
          64,
          78,
          100,
          63,
          66,
          61,
          60,
          49,
          49,
          62,
          62,
          90,
          74,
          87.92,
          58,
          49,
          50,
          70,
          94,
          64,
          72,
          51,
          49,
          84,
          29,
          36,
          135,
          94.59,
          74.71,
          57.21,
          80,
          72.81,
          79.85,
          72,
          324,
          162,
          34,
          52,
          110,
          39,
          48,
          48,
          82,
          87,
          84,
          146,
          97,
          122,
          75,
          157,
          200,
          72,
          134,
          73,
          132,
          84,
          95,
          39.5,
          78.34,
          58,
          40,
          27,
          77,
          35,
          58,
          105,
          118,
          34.19,
          42.93,
          42.93,
          58.57,
          142,
          117,
          157,
          125,
          126,
          63,
          98,
          100,
          106,
          86,
          72,
          42,
          41.23,
          57,
          178,
          82,
          80,
          98,
          92,
          92,
          50,
          31.64,
          77.93,
          54,
          58,
          20,
          130,
          26,
          20,
          63,
          76,
          89,
          70.3,
          99,
          71,
          41,
          132,
          86,
          61,
          70,
          70,
          53,
          70,
          55,
          139,
          36,
          79,
          40,
          61.15,
          47.65,
          71,
          54,
          87,
          200,
          63,
          70,
          30,
          138,
          30,
          96,
          109,
          155,
          155,
          111,
          120,
          56,
          208,
          95,
          57,
          46,
          142,
          105,
          105,
          74,
          103,
          87,
          87,
          56.41,
          87.46,
          150,
          101,
          33,
          33,
          72,
          48,
          52,
          95,
          132,
          56,
          68,
          53,
          61,
          66,
          63,
          55,
          82,
          68,
          82,
          50,
          122.74,
          98,
          112,
          141,
          56,
          57,
          54,
          57,
          176,
          61,
          77,
          90,
          56,
          164,
          214,
          110,
          110,
          118,
          110,
          109,
          154,
          99,
          65,
          150,
          25,
          32,
          29,
          136,
          32,
          116,
          143.61,
          156,
          34,
          28,
          40.87,
          105,
          85,
          79,
          31.4,
          34,
          145,
          150,
          154,
          343,
          24,
          102,
          119,
          48,
          115,
          78.33,
          65,
          71,
          42,
          45,
          102,
          84,
          86,
          57,
          58.47,
          51.32,
          35,
          42,
          39,
          74,
          120,
          184,
          216,
          121,
          72,
          35.43,
          47,
          52,
          59,
          57.96,
          121,
          49,
          73,
          111,
          44,
          55,
          96,
          47,
          76,
          62,
          33,
          41,
          48,
          75,
          122,
          52,
          49,
          166,
          125,
          165,
          169,
          101,
          84,
          69,
          50,
          234,
          53,
          136,
          69,
          40,
          47.25,
          20,
          51,
          84,
          176,
          134,
          40,
          54,
          99,
          87,
          45,
          57,
          101,
          82,
          65,
          51,
          82,
          118,
          53,
          97,
          51,
          124,
          96,
          77,
          72,
          254,
          41,
          107,
          119,
          44,
          356,
          73,
          101,
          34,
          73,
          159,
          138,
          74,
          63,
          145,
          83,
          228,
          142,
          190,
          104,
          156,
          38,
          80,
          80,
          167,
          99,
          114,
          122,
          83,
          193,
          193,
          54,
          47,
          47,
          96,
          109,
          77,
          87,
          87,
          115,
          207,
          160,
          115,
          89,
          82,
          51,
          73,
          165,
          165,
          53,
          56,
          57,
          57,
          84,
          79,
          75.93,
          59.46,
          94,
          103,
          102,
          41,
          45,
          69,
          186,
          87,
          175,
          77,
          49.5,
          125,
          86,
          80,
          111,
          140,
          103,
          253,
          169,
          125,
          83,
          153,
          165,
          114,
          143,
          103,
          102,
          97,
          136,
          124,
          165,
          169,
          102,
          125,
          121,
          79,
          255,
          200,
          99,
          60,
          50,
          100,
          80,
          78,
          110,
          49,
          63,
          49,
          89,
          98,
          56,
          62,
          86,
          116,
          82,
          69,
          53,
          52,
          52,
          53,
          52,
          53,
          49,
          63,
          63,
          60,
          63,
          61,
          49,
          49,
          49,
          49,
          42,
          41,
          41,
          102,
          96.65,
          56.86,
          70,
          60,
          119,
          107,
          292,
          53,
          108,
          94,
          115,
          90,
          103,
          30,
          30,
          120,
          47,
          54,
          156,
          28.23,
          70.15,
          48,
          63,
          175,
          156,
          63,
          96,
          123,
          122,
          40,
          61.24,
          87.5,
          65,
          66,
          85,
          56.87,
          91.87,
          165,
          25,
          127,
          160,
          44,
          64,
          84,
          77,
          100,
          80,
          51.4,
          161,
          200,
          181,
          133,
          110,
          20,
          64,
          70.3,
          126,
          92,
          56,
          110,
          78.34,
          26,
          85,
          43,
          62,
          48.5,
          70.3,
          114.28,
          44.99,
          66,
          74,
          120,
          71,
          41,
          88,
          77,
          83,
          38,
          50,
          135.25,
          77.57,
          146,
          42,
          47,
          150,
          61,
          135,
          53.8,
          40,
          47.48,
          135.16,
          130,
          104.48,
          68,
          37,
          87.59,
          74,
          424.61,
          96,
          185,
          75,
          117,
          127,
          100,
          120,
          58,
          39,
          111,
          70,
          60,
          47.67,
          70,
          20,
          63,
          32,
          57,
          130,
          84,
          50,
          69,
          56,
          70,
          95,
          93,
          68,
          155,
          130,
          152,
          69,
          110,
          157,
          215,
          125,
          101,
          90,
          123,
          126,
          160,
          137,
          153,
          118,
          41,
          45,
          165,
          45,
          68,
          87,
          60,
          29,
          72,
          182,
          60,
          106,
          129,
          71,
          50,
          101,
          127,
          45,
          112,
          24,
          45,
          100,
          124,
          78,
          100,
          177,
          112,
          89,
          130,
          120,
          67,
          156,
          96,
          95,
          50.79,
          208.61,
          85,
          43,
          125,
          59,
          52,
          117,
          50,
          150,
          77,
          109,
          60,
          107,
          56.15,
          100,
          98,
          55,
          81,
          97,
          97,
          68,
          145,
          72,
          89,
          53,
          77,
          107,
          36,
          104,
          128,
          54,
          89,
          133,
          68,
          119,
          77,
          69,
          143,
          92,
          38,
          45,
          74,
          160,
          31,
          186,
          33,
          67,
          150,
          132,
          40,
          36,
          198,
          65,
          87,
          59,
          84,
          49,
          127,
          76,
          70,
          120,
          118,
          72,
          128,
          76,
          96,
          61,
          198,
          139,
          165,
          149,
          33,
          105,
          74,
          341,
          75,
          64,
          94,
          265,
          74,
          67.42,
          98,
          36,
          33.42,
          93,
          137,
          57,
          81,
          64,
          63,
          80,
          228,
          56,
          64,
          57,
          106,
          80,
          73,
          121,
          21,
          98,
          58,
          77,
          105,
          101,
          63,
          123,
          68,
          130,
          254,
          37,
          100,
          75,
          58,
          99,
          124,
          102,
          68,
          35,
          120,
          121,
          85,
          95,
          197,
          54,
          105,
          83,
          150,
          136.5,
          92.52,
          75,
          112.13,
          72,
          46,
          100,
          35,
          125,
          82,
          67,
          59,
          55,
          112,
          152,
          31,
          76,
          44,
          93,
          58,
          504,
          93,
          40,
          100,
          60,
          143,
          186,
          94,
          107,
          78,
          75,
          60,
          74.33,
          112.5,
          85,
          157,
          57.54,
          61.4,
          52,
          64,
          57.48,
          95,
          36,
          52,
          126,
          171,
          107,
          44,
          72.72,
          87.86,
          68.61,
          96.5,
          67,
          113,
          65,
          34,
          210,
          62,
          34,
          154,
          43,
          107,
          54,
          27,
          324,
          49,
          49,
          49,
          49,
          49,
          63,
          49,
          49,
          63,
          63,
          49,
          60,
          53,
          51,
          49,
          63,
          66,
          63,
          62,
          66,
          72,
          49,
          72,
          62,
          63,
          66,
          60,
          49,
          62,
          60,
          77,
          74,
          138,
          52.4,
          40,
          175,
          175,
          74,
          80,
          58,
          106,
          103,
          93,
          78,
          102,
          119,
          151,
          162,
          63,
          155,
          153,
          28,
          126,
          116,
          51,
          116,
          42,
          75,
          94,
          68,
          77,
          85,
          110,
          54,
          110,
          49,
          127,
          64,
          60,
          189,
          122,
          51,
          45,
          87,
          83,
          86,
          120,
          173,
          162,
          95,
          66,
          52,
          50,
          100,
          70.71,
          141,
          24,
          186,
          75,
          74,
          127,
          48,
          60,
          200,
          102,
          70,
          59,
          33,
          63,
          94,
          86,
          77.14,
          90,
          79.72,
          54,
          100,
          106,
          54,
          117,
          52,
          80,
          88,
          126,
          34,
          64,
          63,
          49,
          92,
          83,
          49,
          78,
          186,
          84,
          67,
          160,
          102,
          105,
          77,
          88.91,
          102,
          56,
          96,
          150,
          95,
          254,
          102,
          113.6,
          202,
          85,
          99,
          103,
          61.43,
          61,
          108,
          121,
          30,
          84,
          60,
          60,
          63,
          75.32,
          50,
          72.65,
          34.18,
          147,
          331,
          53,
          51,
          76,
          73.82,
          62,
          80,
          88,
          59,
          37,
          98,
          87,
          84,
          98,
          28,
          11,
          166,
          46,
          121,
          76,
          102,
          69,
          64,
          107,
          188.34,
          102,
          62,
          76,
          46,
          95,
          80,
          78,
          80,
          74,
          62,
          46,
          76,
          44,
          53,
          33,
          71,
          76,
          93,
          93,
          54,
          141,
          72,
          78,
          80,
          68,
          58,
          29,
          36,
          74,
          106,
          107,
          121,
          64,
          68,
          49,
          186,
          53,
          87,
          67,
          65,
          47,
          54,
          122,
          126,
          117,
          52,
          77.19,
          65.17,
          76,
          74,
          122,
          150,
          127,
          135,
          114,
          47,
          78.34,
          55,
          134,
          65,
          89,
          43,
          70,
          72,
          49,
          350,
          160,
          70,
          86,
          157,
          81,
          80,
          85,
          14,
          170,
          137,
          86.31,
          121,
          250,
          48,
          77,
          360,
          225,
          147,
          187,
          200,
          80,
          125,
          93,
          133,
          83,
          27,
          207,
          124,
          82,
          40,
          119,
          100,
          100,
          80,
          56.71,
          86,
          160,
          55,
          74,
          195,
          96,
          130,
          111,
          108,
          60,
          69,
          110,
          32,
          65,
          60,
          33,
          140,
          50,
          70,
          70,
          227,
          115,
          114,
          62,
          92,
          78,
          64,
          14,
          59.83,
          66.77,
          62,
          44,
          101,
          150,
          74,
          160,
          62,
          62,
          80,
          90,
          92,
          136,
          53.71,
          129,
          70,
          116,
          35,
          77.42,
          101.13,
          84,
          146,
          150,
          119,
          55,
          107,
          153,
          43,
          49,
          154,
          65,
          122,
          73.62,
          80,
          31,
          80,
          108,
          96,
          82,
          35,
          117,
          52,
          41,
          45,
          199,
          95,
          136,
          23,
          87,
          85,
          75,
          151,
          96,
          109,
          122,
          34.37,
          108.4,
          80,
          43,
          80,
          61.5,
          50,
          85,
          324,
          84,
          88,
          187,
          112,
          26,
          71,
          52,
          109,
          28,
          110,
          46,
          83,
          93,
          62,
          110,
          28,
          91,
          65,
          65.13,
          57,
          63,
          64.5,
          141,
          148,
          67,
          170,
          67,
          81,
          64,
          66,
          92,
          62,
          67,
          101,
          27,
          69,
          53,
          82,
          53,
          63,
          66,
          92,
          100,
          88,
          74,
          60,
          72,
          86,
          100,
          117,
          113,
          71.43,
          114,
          86,
          67,
          159,
          64,
          79,
          63,
          60,
          122,
          147,
          136,
          150,
          62,
          30,
          82.31,
          41,
          26,
          81.27,
          32.81,
          134,
          140,
          43.5,
          116.31,
          31,
          233,
          54,
          240,
          63,
          117.93,
          80.63,
          300,
          74,
          77,
          120,
          24,
          24,
          40,
          60,
          67,
          131,
          71,
          30,
          59.53,
          135,
          100.55,
          95.8,
          101.73,
          101.73,
          42.5,
          51,
          32.81,
          32.48,
          47,
          64.99,
          50.96,
          32.81,
          88,
          80,
          116,
          64.99,
          35.8,
          42.5,
          50.96,
          33,
          116,
          32.81,
          68,
          48.2,
          92,
          122,
          150,
          43.78,
          32.81,
          53,
          92,
          122,
          140,
          64.99,
          100,
          165,
          100,
          68,
          87,
          74,
          85,
          57,
          122.18,
          39,
          220,
          110,
          32,
          110,
          110,
          340,
          217,
          203,
          184,
          51.25,
          49.84,
          36.85,
          55,
          66.5,
          105,
          36,
          45,
          190.36,
          47,
          67,
          78,
          230,
          95,
          78,
          29.5,
          28.5,
          60.13,
          156,
          76.18,
          179,
          73,
          40,
          24,
          62,
          25,
          79,
          64,
          79,
          17,
          46.37,
          31,
          54.68,
          26.4,
          63,
          29.56,
          47,
          50.87,
          21,
          50,
          80.29,
          47.61,
          74,
          63,
          58.6,
          50.72,
          60,
          50,
          39,
          104,
          35,
          131,
          81,
          87,
          45,
          58,
          58,
          76,
          230,
          48.9,
          47,
          58.5,
          52,
          40,
          41.6,
          53,
          40.54,
          35,
          35,
          32,
          23,
          63,
          92,
          50,
          42,
          91,
          103,
          53,
          84,
          65,
          85,
          64,
          56,
          88.5,
          135,
          57,
          72,
          75,
          175,
          107,
          120,
          62,
          41,
          74.45,
          58.86,
          167,
          47,
          61,
          50,
          42.52,
          80,
          118,
          137,
          91,
          128,
          60,
          35,
          73,
          56,
          32,
          72,
          27,
          67,
          109,
          110,
          97,
          45,
          84,
          108,
          80,
          106,
          110,
          99,
          65,
          29,
          42,
          56,
          90,
          142,
          115,
          80,
          71,
          80,
          26,
          116,
          101,
          67,
          67,
          74,
          73,
          73,
          74,
          111,
          80.2,
          85,
          95,
          75,
          78,
          85,
          72,
          112,
          132,
          72,
          73,
          78,
          70,
          53,
          53,
          70,
          188,
          64,
          78,
          63,
          43,
          43,
          66.13,
          89,
          81,
          90.41,
          80,
          67,
          118,
          107,
          61,
          122,
          74,
          88,
          114,
          93,
          74,
          136.95,
          136.66,
          135.25,
          98,
          104.11,
          114.56,
          53,
          122,
          106,
          110,
          49,
          86,
          51.2,
          111,
          79,
          35,
          96,
          89,
          60,
          120,
          83,
          140,
          96.6,
          66.71,
          77,
          55,
          73,
          73,
          55,
          104.84,
          37,
          156,
          93,
          58,
          178,
          70,
          57,
          58,
          92,
          104,
          31,
          127,
          74,
          98.5,
          84,
          78.37,
          75.78,
          75,
          90,
          83,
          50,
          149,
          190,
          62,
          85,
          175,
          73,
          190,
          33,
          58,
          103,
          38,
          51,
          80,
          82,
          60,
          101,
          25,
          120,
          150,
          144,
          93,
          46,
          120,
          141,
          71,
          60,
          83,
          83,
          67,
          125,
          70,
          82.5,
          138,
          87,
          87,
          38,
          82,
          110,
          43,
          166,
          200,
          153,
          124,
          80,
          100,
          45,
          41,
          45,
          42,
          54,
          111,
          150,
          145,
          229,
          85,
          61.15,
          65,
          150,
          52,
          121,
          68,
          45,
          41,
          44,
          55,
          73,
          96.65,
          90,
          157,
          54,
          140,
          50.85,
          101,
          307,
          98,
          63.41,
          36,
          94,
          51,
          175,
          94,
          90,
          90,
          99,
          114,
          55,
          110,
          171,
          60.5,
          130,
          55,
          77,
          63,
          40,
          74,
          63,
          74,
          48,
          57,
          64,
          80,
          155,
          63,
          97,
          130,
          63,
          52,
          41,
          83,
          44,
          79.39,
          74.37,
          156.32,
          118.1,
          62.29,
          87,
          61,
          48.96,
          47,
          59.13,
          58,
          60,
          55,
          70,
          33,
          33,
          190,
          290,
          140,
          108,
          106,
          207,
          80,
          353,
          176,
          64,
          138,
          133,
          112,
          75,
          75,
          90,
          85,
          64,
          75,
          72,
          90,
          65,
          95,
          77,
          56,
          95,
          60,
          79.7,
          170,
          137,
          194.5,
          102,
          76,
          320,
          118,
          90,
          107,
          215,
          36.87,
          56,
          56,
          29.95,
          56,
          55,
          146,
          210,
          138,
          100,
          199,
          134,
          106,
          117,
          54,
          88,
          126,
          125,
          196,
          60,
          186,
          49.29,
          20,
          58,
          76,
          77,
          148,
          127,
          127,
          81.6,
          104,
          103,
          65,
          92,
          46,
          103,
          110,
          350,
          54,
          48,
          150,
          150,
          158,
          103,
          73,
          114,
          163,
          57,
          155,
          120,
          100,
          55,
          80,
          80,
          58,
          56,
          163,
          80,
          122,
          98,
          137,
          220,
          149,
          93,
          80,
          86,
          95,
          98,
          72,
          82,
          151,
          46,
          75,
          33,
          79,
          155,
          55,
          75,
          151,
          64,
          47,
          64,
          196,
          199,
          102,
          70,
          70,
          80,
          93,
          71,
          173,
          70,
          83,
          100,
          179,
          190,
          83,
          97,
          73,
          170,
          26,
          80,
          64,
          182,
          108,
          85,
          154,
          46,
          65,
          95,
          82,
          52,
          68,
          80,
          130,
          324,
          85,
          100,
          86,
          323,
          71,
          98,
          130,
          118,
          84,
          60,
          17,
          51.56,
          51.68,
          57,
          186,
          151.2,
          36.4,
          57.87,
          72,
          89.96,
          43,
          70,
          81,
          106,
          341,
          77,
          186,
          151,
          152,
          58.97,
          68,
          85,
          81,
          136,
          100,
          81,
          110,
          84,
          82,
          99,
          196,
          35,
          87,
          52,
          22,
          43,
          118,
          136,
          136,
          114,
          86,
          85,
          117,
          89,
          17.5,
          69,
          69,
          45,
          206,
          60,
          64,
          112,
          104,
          196,
          54,
          14,
          54,
          74,
          118,
          500,
          52,
          65.13,
          156,
          115,
          131,
          58,
          32,
          86.9,
          32,
          46,
          81,
          74,
          156,
          68,
          58,
          57,
          64,
          121,
          63,
          228,
          71,
          81,
          116,
          103,
          51,
          49,
          27,
          66,
          73,
          73,
          100,
          140.46,
          40,
          71.46,
          17.26,
          67.13,
          107,
          83.25,
          58.6,
          49,
          53,
          60,
          70,
          41,
          63,
          81,
          95,
          121,
          198,
          95,
          84,
          73,
          78,
          67,
          51.43,
          50,
          34.66,
          29.56,
          48,
          67.5,
          56,
          161,
          149,
          45,
          68,
          75,
          48.29,
          63,
          79,
          77.35,
          27,
          54.23,
          72,
          140.97,
          35,
          103.25,
          129,
          161,
          94,
          34.71,
          47.54,
          58,
          53,
          42,
          28,
          130,
          64,
          80,
          57,
          72,
          72,
          57,
          90,
          64,
          280,
          72,
          128,
          81,
          72,
          81,
          104,
          104,
          66,
          58,
          33.23,
          40,
          66,
          73.48,
          68,
          56.87,
          117,
          77,
          93,
          54.13,
          37,
          86.92,
          43.84,
          72.8,
          64,
          47,
          116,
          136,
          193,
          74,
          174,
          115,
          98,
          106,
          135,
          53,
          64,
          58,
          51,
          73.54,
          85,
          93,
          79,
          91,
          82,
          62,
          51,
          20.74,
          91.44,
          49,
          84,
          68,
          39,
          56,
          65,
          81,
          81,
          101,
          94,
          56,
          89,
          76,
          48.57,
          106,
          89,
          30,
          56,
          63,
          68,
          118,
          56,
          60.82,
          68,
          83,
          59,
          118.8,
          57,
          165,
          63,
          63,
          98,
          73.2,
          47.45,
          84,
          121,
          96,
          95,
          88,
          85,
          88,
          60,
          85,
          96,
          82,
          83,
          50.35,
          55,
          50,
          104,
          74,
          164,
          75,
          70,
          60,
          71,
          83,
          57,
          155,
          56,
          55,
          58.63,
          92.68,
          68,
          143,
          76,
          185,
          69,
          40.4,
          49.9,
          92,
          96,
          29,
          154,
          194,
          72,
          53,
          31,
          122,
          64,
          61,
          64,
          82,
          82,
          76,
          48,
          177,
          80,
          58,
          35,
          35,
          60,
          100,
          120,
          85,
          49,
          209,
          62,
          222,
          120,
          75,
          44,
          250,
          80,
          63,
          100,
          73.12,
          41,
          40,
          110,
          61,
          74,
          122,
          80,
          39,
          142,
          90.24,
          53.18,
          63,
          82,
          58,
          55,
          66,
          59,
          59,
          66,
          50,
          74,
          33,
          50.8,
          53,
          83,
          80,
          33,
          51,
          63,
          98,
          58,
          68,
          49,
          102,
          85,
          62,
          75,
          75,
          48,
          87,
          75,
          50,
          100,
          62,
          43,
          70,
          45,
          136,
          137,
          138,
          56,
          173,
          105,
          137,
          175,
          103,
          98,
          130,
          135,
          70,
          136,
          195,
          208,
          68,
          128,
          180,
          138,
          55,
          44,
          40,
          32,
          60,
          56.73,
          324,
          73,
          252,
          98,
          199,
          35,
          55,
          130.96,
          502,
          21,
          92,
          21,
          196,
          100,
          65,
          80,
          59,
          100,
          180,
          100,
          90,
          56.77,
          75,
          79,
          196,
          54,
          93,
          174,
          35,
          84,
          117,
          107,
          55,
          95,
          49,
          94,
          107,
          93,
          43,
          103.63,
          150,
          189,
          49.19,
          100,
          54,
          50,
          42,
          64,
          49,
          121,
          35,
          100,
          126,
          40.5,
          75,
          69,
          102,
          31,
          21,
          62,
          49,
          99,
          104,
          61,
          83,
          80,
          115,
          95,
          64,
          63,
          104,
          92,
          72,
          70,
          34,
          93,
          75,
          35,
          81,
          94,
          292,
          85,
          60,
          77,
          75,
          130,
          71,
          58,
          102,
          63,
          79,
          63,
          63,
          85,
          102,
          125,
          73,
          61,
          67,
          67,
          133,
          108,
          55,
          94,
          53,
          32,
          29,
          56,
          80,
          85.25,
          86,
          85,
          107,
          110,
          65,
          65,
          48.4,
          53,
          82,
          62.91,
          58.23,
          71.46,
          70.5,
          34.66,
          56,
          90,
          50,
          330,
          35,
          26,
          52,
          66,
          36,
          82.6,
          38.77,
          41.75,
          153,
          42,
          55,
          108,
          58,
          38,
          78,
          81,
          76,
          90,
          75,
          57,
          95,
          44,
          64.19
         ],
         "xaxis": "x",
         "yaxis": "y"
        }
       ],
       "layout": {
        "barmode": "relative",
        "legend": {
         "tracegroupgap": 0
        },
        "margin": {
         "t": 60
        },
        "template": {
         "data": {
          "bar": [
           {
            "error_x": {
             "color": "#2a3f5f"
            },
            "error_y": {
             "color": "#2a3f5f"
            },
            "marker": {
             "line": {
              "color": "#E5ECF6",
              "width": 0.5
             },
             "pattern": {
              "fillmode": "overlay",
              "size": 10,
              "solidity": 0.2
             }
            },
            "type": "bar"
           }
          ],
          "barpolar": [
           {
            "marker": {
             "line": {
              "color": "#E5ECF6",
              "width": 0.5
             },
             "pattern": {
              "fillmode": "overlay",
              "size": 10,
              "solidity": 0.2
             }
            },
            "type": "barpolar"
           }
          ],
          "carpet": [
           {
            "aaxis": {
             "endlinecolor": "#2a3f5f",
             "gridcolor": "white",
             "linecolor": "white",
             "minorgridcolor": "white",
             "startlinecolor": "#2a3f5f"
            },
            "baxis": {
             "endlinecolor": "#2a3f5f",
             "gridcolor": "white",
             "linecolor": "white",
             "minorgridcolor": "white",
             "startlinecolor": "#2a3f5f"
            },
            "type": "carpet"
           }
          ],
          "choropleth": [
           {
            "colorbar": {
             "outlinewidth": 0,
             "ticks": ""
            },
            "type": "choropleth"
           }
          ],
          "contour": [
           {
            "colorbar": {
             "outlinewidth": 0,
             "ticks": ""
            },
            "colorscale": [
             [
              0,
              "#0d0887"
             ],
             [
              0.1111111111111111,
              "#46039f"
             ],
             [
              0.2222222222222222,
              "#7201a8"
             ],
             [
              0.3333333333333333,
              "#9c179e"
             ],
             [
              0.4444444444444444,
              "#bd3786"
             ],
             [
              0.5555555555555556,
              "#d8576b"
             ],
             [
              0.6666666666666666,
              "#ed7953"
             ],
             [
              0.7777777777777778,
              "#fb9f3a"
             ],
             [
              0.8888888888888888,
              "#fdca26"
             ],
             [
              1,
              "#f0f921"
             ]
            ],
            "type": "contour"
           }
          ],
          "contourcarpet": [
           {
            "colorbar": {
             "outlinewidth": 0,
             "ticks": ""
            },
            "type": "contourcarpet"
           }
          ],
          "heatmap": [
           {
            "colorbar": {
             "outlinewidth": 0,
             "ticks": ""
            },
            "colorscale": [
             [
              0,
              "#0d0887"
             ],
             [
              0.1111111111111111,
              "#46039f"
             ],
             [
              0.2222222222222222,
              "#7201a8"
             ],
             [
              0.3333333333333333,
              "#9c179e"
             ],
             [
              0.4444444444444444,
              "#bd3786"
             ],
             [
              0.5555555555555556,
              "#d8576b"
             ],
             [
              0.6666666666666666,
              "#ed7953"
             ],
             [
              0.7777777777777778,
              "#fb9f3a"
             ],
             [
              0.8888888888888888,
              "#fdca26"
             ],
             [
              1,
              "#f0f921"
             ]
            ],
            "type": "heatmap"
           }
          ],
          "heatmapgl": [
           {
            "colorbar": {
             "outlinewidth": 0,
             "ticks": ""
            },
            "colorscale": [
             [
              0,
              "#0d0887"
             ],
             [
              0.1111111111111111,
              "#46039f"
             ],
             [
              0.2222222222222222,
              "#7201a8"
             ],
             [
              0.3333333333333333,
              "#9c179e"
             ],
             [
              0.4444444444444444,
              "#bd3786"
             ],
             [
              0.5555555555555556,
              "#d8576b"
             ],
             [
              0.6666666666666666,
              "#ed7953"
             ],
             [
              0.7777777777777778,
              "#fb9f3a"
             ],
             [
              0.8888888888888888,
              "#fdca26"
             ],
             [
              1,
              "#f0f921"
             ]
            ],
            "type": "heatmapgl"
           }
          ],
          "histogram": [
           {
            "marker": {
             "pattern": {
              "fillmode": "overlay",
              "size": 10,
              "solidity": 0.2
             }
            },
            "type": "histogram"
           }
          ],
          "histogram2d": [
           {
            "colorbar": {
             "outlinewidth": 0,
             "ticks": ""
            },
            "colorscale": [
             [
              0,
              "#0d0887"
             ],
             [
              0.1111111111111111,
              "#46039f"
             ],
             [
              0.2222222222222222,
              "#7201a8"
             ],
             [
              0.3333333333333333,
              "#9c179e"
             ],
             [
              0.4444444444444444,
              "#bd3786"
             ],
             [
              0.5555555555555556,
              "#d8576b"
             ],
             [
              0.6666666666666666,
              "#ed7953"
             ],
             [
              0.7777777777777778,
              "#fb9f3a"
             ],
             [
              0.8888888888888888,
              "#fdca26"
             ],
             [
              1,
              "#f0f921"
             ]
            ],
            "type": "histogram2d"
           }
          ],
          "histogram2dcontour": [
           {
            "colorbar": {
             "outlinewidth": 0,
             "ticks": ""
            },
            "colorscale": [
             [
              0,
              "#0d0887"
             ],
             [
              0.1111111111111111,
              "#46039f"
             ],
             [
              0.2222222222222222,
              "#7201a8"
             ],
             [
              0.3333333333333333,
              "#9c179e"
             ],
             [
              0.4444444444444444,
              "#bd3786"
             ],
             [
              0.5555555555555556,
              "#d8576b"
             ],
             [
              0.6666666666666666,
              "#ed7953"
             ],
             [
              0.7777777777777778,
              "#fb9f3a"
             ],
             [
              0.8888888888888888,
              "#fdca26"
             ],
             [
              1,
              "#f0f921"
             ]
            ],
            "type": "histogram2dcontour"
           }
          ],
          "mesh3d": [
           {
            "colorbar": {
             "outlinewidth": 0,
             "ticks": ""
            },
            "type": "mesh3d"
           }
          ],
          "parcoords": [
           {
            "line": {
             "colorbar": {
              "outlinewidth": 0,
              "ticks": ""
             }
            },
            "type": "parcoords"
           }
          ],
          "pie": [
           {
            "automargin": true,
            "type": "pie"
           }
          ],
          "scatter": [
           {
            "marker": {
             "colorbar": {
              "outlinewidth": 0,
              "ticks": ""
             }
            },
            "type": "scatter"
           }
          ],
          "scatter3d": [
           {
            "line": {
             "colorbar": {
              "outlinewidth": 0,
              "ticks": ""
             }
            },
            "marker": {
             "colorbar": {
              "outlinewidth": 0,
              "ticks": ""
             }
            },
            "type": "scatter3d"
           }
          ],
          "scattercarpet": [
           {
            "marker": {
             "colorbar": {
              "outlinewidth": 0,
              "ticks": ""
             }
            },
            "type": "scattercarpet"
           }
          ],
          "scattergeo": [
           {
            "marker": {
             "colorbar": {
              "outlinewidth": 0,
              "ticks": ""
             }
            },
            "type": "scattergeo"
           }
          ],
          "scattergl": [
           {
            "marker": {
             "colorbar": {
              "outlinewidth": 0,
              "ticks": ""
             }
            },
            "type": "scattergl"
           }
          ],
          "scattermapbox": [
           {
            "marker": {
             "colorbar": {
              "outlinewidth": 0,
              "ticks": ""
             }
            },
            "type": "scattermapbox"
           }
          ],
          "scatterpolar": [
           {
            "marker": {
             "colorbar": {
              "outlinewidth": 0,
              "ticks": ""
             }
            },
            "type": "scatterpolar"
           }
          ],
          "scatterpolargl": [
           {
            "marker": {
             "colorbar": {
              "outlinewidth": 0,
              "ticks": ""
             }
            },
            "type": "scatterpolargl"
           }
          ],
          "scatterternary": [
           {
            "marker": {
             "colorbar": {
              "outlinewidth": 0,
              "ticks": ""
             }
            },
            "type": "scatterternary"
           }
          ],
          "surface": [
           {
            "colorbar": {
             "outlinewidth": 0,
             "ticks": ""
            },
            "colorscale": [
             [
              0,
              "#0d0887"
             ],
             [
              0.1111111111111111,
              "#46039f"
             ],
             [
              0.2222222222222222,
              "#7201a8"
             ],
             [
              0.3333333333333333,
              "#9c179e"
             ],
             [
              0.4444444444444444,
              "#bd3786"
             ],
             [
              0.5555555555555556,
              "#d8576b"
             ],
             [
              0.6666666666666666,
              "#ed7953"
             ],
             [
              0.7777777777777778,
              "#fb9f3a"
             ],
             [
              0.8888888888888888,
              "#fdca26"
             ],
             [
              1,
              "#f0f921"
             ]
            ],
            "type": "surface"
           }
          ],
          "table": [
           {
            "cells": {
             "fill": {
              "color": "#EBF0F8"
             },
             "line": {
              "color": "white"
             }
            },
            "header": {
             "fill": {
              "color": "#C8D4E3"
             },
             "line": {
              "color": "white"
             }
            },
            "type": "table"
           }
          ]
         },
         "layout": {
          "annotationdefaults": {
           "arrowcolor": "#2a3f5f",
           "arrowhead": 0,
           "arrowwidth": 1
          },
          "autotypenumbers": "strict",
          "coloraxis": {
           "colorbar": {
            "outlinewidth": 0,
            "ticks": ""
           }
          },
          "colorscale": {
           "diverging": [
            [
             0,
             "#8e0152"
            ],
            [
             0.1,
             "#c51b7d"
            ],
            [
             0.2,
             "#de77ae"
            ],
            [
             0.3,
             "#f1b6da"
            ],
            [
             0.4,
             "#fde0ef"
            ],
            [
             0.5,
             "#f7f7f7"
            ],
            [
             0.6,
             "#e6f5d0"
            ],
            [
             0.7,
             "#b8e186"
            ],
            [
             0.8,
             "#7fbc41"
            ],
            [
             0.9,
             "#4d9221"
            ],
            [
             1,
             "#276419"
            ]
           ],
           "sequential": [
            [
             0,
             "#0d0887"
            ],
            [
             0.1111111111111111,
             "#46039f"
            ],
            [
             0.2222222222222222,
             "#7201a8"
            ],
            [
             0.3333333333333333,
             "#9c179e"
            ],
            [
             0.4444444444444444,
             "#bd3786"
            ],
            [
             0.5555555555555556,
             "#d8576b"
            ],
            [
             0.6666666666666666,
             "#ed7953"
            ],
            [
             0.7777777777777778,
             "#fb9f3a"
            ],
            [
             0.8888888888888888,
             "#fdca26"
            ],
            [
             1,
             "#f0f921"
            ]
           ],
           "sequentialminus": [
            [
             0,
             "#0d0887"
            ],
            [
             0.1111111111111111,
             "#46039f"
            ],
            [
             0.2222222222222222,
             "#7201a8"
            ],
            [
             0.3333333333333333,
             "#9c179e"
            ],
            [
             0.4444444444444444,
             "#bd3786"
            ],
            [
             0.5555555555555556,
             "#d8576b"
            ],
            [
             0.6666666666666666,
             "#ed7953"
            ],
            [
             0.7777777777777778,
             "#fb9f3a"
            ],
            [
             0.8888888888888888,
             "#fdca26"
            ],
            [
             1,
             "#f0f921"
            ]
           ]
          },
          "colorway": [
           "#636efa",
           "#EF553B",
           "#00cc96",
           "#ab63fa",
           "#FFA15A",
           "#19d3f3",
           "#FF6692",
           "#B6E880",
           "#FF97FF",
           "#FECB52"
          ],
          "font": {
           "color": "#2a3f5f"
          },
          "geo": {
           "bgcolor": "white",
           "lakecolor": "white",
           "landcolor": "#E5ECF6",
           "showlakes": true,
           "showland": true,
           "subunitcolor": "white"
          },
          "hoverlabel": {
           "align": "left"
          },
          "hovermode": "closest",
          "mapbox": {
           "style": "light"
          },
          "paper_bgcolor": "white",
          "plot_bgcolor": "#E5ECF6",
          "polar": {
           "angularaxis": {
            "gridcolor": "white",
            "linecolor": "white",
            "ticks": ""
           },
           "bgcolor": "#E5ECF6",
           "radialaxis": {
            "gridcolor": "white",
            "linecolor": "white",
            "ticks": ""
           }
          },
          "scene": {
           "xaxis": {
            "backgroundcolor": "#E5ECF6",
            "gridcolor": "white",
            "gridwidth": 2,
            "linecolor": "white",
            "showbackground": true,
            "ticks": "",
            "zerolinecolor": "white"
           },
           "yaxis": {
            "backgroundcolor": "#E5ECF6",
            "gridcolor": "white",
            "gridwidth": 2,
            "linecolor": "white",
            "showbackground": true,
            "ticks": "",
            "zerolinecolor": "white"
           },
           "zaxis": {
            "backgroundcolor": "#E5ECF6",
            "gridcolor": "white",
            "gridwidth": 2,
            "linecolor": "white",
            "showbackground": true,
            "ticks": "",
            "zerolinecolor": "white"
           }
          },
          "shapedefaults": {
           "line": {
            "color": "#2a3f5f"
           }
          },
          "ternary": {
           "aaxis": {
            "gridcolor": "white",
            "linecolor": "white",
            "ticks": ""
           },
           "baxis": {
            "gridcolor": "white",
            "linecolor": "white",
            "ticks": ""
           },
           "bgcolor": "#E5ECF6",
           "caxis": {
            "gridcolor": "white",
            "linecolor": "white",
            "ticks": ""
           }
          },
          "title": {
           "x": 0.05
          },
          "xaxis": {
           "automargin": true,
           "gridcolor": "white",
           "linecolor": "white",
           "ticks": "",
           "title": {
            "standoff": 15
           },
           "zerolinecolor": "white",
           "zerolinewidth": 2
          },
          "yaxis": {
           "automargin": true,
           "gridcolor": "white",
           "linecolor": "white",
           "ticks": "",
           "title": {
            "standoff": 15
           },
           "zerolinecolor": "white",
           "zerolinewidth": 2
          }
         }
        },
        "xaxis": {
         "anchor": "y",
         "domain": [
          0,
          1
         ],
         "title": {
          "text": "Stambena površina u m2"
         }
        },
        "yaxis": {
         "anchor": "x",
         "domain": [
          0,
          1
         ],
         "title": {
          "text": "count"
         }
        }
       }
      }
     },
     "metadata": {},
     "output_type": "display_data"
    }
   ],
   "source": [
    "fig = px.histogram(df, x=\"Stambena površina u m2\")\n",
    "fig"
   ]
  },
  {
   "cell_type": "code",
   "execution_count": 9,
   "metadata": {},
   "outputs": [
    {
     "data": {
      "application/vnd.plotly.v1+json": {
       "config": {
        "plotlyServerURL": "https://plot.ly"
       },
       "data": [
        {
         "alignmentgroup": "True",
         "bingroup": "x",
         "hovertemplate": "Godina izgradnje=%{x}<br>count=%{y}<extra></extra>",
         "legendgroup": "",
         "marker": {
          "color": "#636efa",
          "pattern": {
           "shape": ""
          }
         },
         "name": "",
         "offsetgroup": "",
         "orientation": "v",
         "showlegend": false,
         "type": "histogram",
         "x": [
          1970,
          1996,
          1923,
          2013,
          2022,
          1960,
          1990,
          2022,
          "No INFO",
          2022,
          "No INFO",
          1930,
          2008,
          1960,
          "No INFO",
          2008,
          1985,
          2000,
          "No INFO",
          1938,
          1938,
          2005,
          2015,
          2011,
          1991,
          1968,
          1995,
          1973,
          2022,
          2022,
          2022,
          2022,
          2022,
          2017,
          1964,
          1988,
          1954,
          1,
          1980,
          1966,
          1968,
          1998,
          1998,
          1940,
          2018,
          1990,
          1965,
          2022,
          2005,
          "No INFO",
          2010,
          1937,
          1995,
          1978,
          2002,
          2013,
          1960,
          1985,
          "No INFO",
          2007,
          2014,
          1965,
          2008,
          1937,
          1992,
          2022,
          1980,
          2013,
          1972,
          1935,
          1937,
          2000,
          1932,
          1960,
          1938,
          1971,
          1964,
          2022,
          2003,
          "No INFO",
          2009,
          1984,
          1951,
          1938,
          2010,
          2022,
          2022,
          2022,
          1966,
          1938,
          1938,
          "No INFO",
          2021,
          "No INFO",
          2006,
          2002,
          2018,
          "No INFO",
          "No INFO",
          "No INFO",
          2023,
          2023,
          "No INFO",
          1995,
          2022,
          1929,
          2004,
          "No INFO",
          2002,
          1923,
          "No INFO",
          "No INFO",
          2021,
          "No INFO",
          1986,
          2001,
          2009,
          1975,
          2000,
          2000,
          1956,
          "No INFO",
          "No INFO",
          "No INFO",
          2008,
          2022,
          2022,
          1996,
          1964,
          "No INFO",
          "No INFO",
          1932,
          "No INFO",
          2006,
          2011,
          2000,
          1980,
          2021,
          1929,
          1956,
          2008,
          2008,
          1828,
          "No INFO",
          1963,
          "No INFO",
          2009,
          1970,
          1928,
          2014,
          2022,
          2022,
          2022,
          2005,
          2022,
          1970,
          1940,
          2021,
          2006,
          2014,
          1960,
          1968,
          1995,
          "No INFO",
          2011,
          "No INFO",
          1918,
          "No INFO",
          "No INFO",
          2009,
          2021,
          1988,
          2000,
          1989,
          2008,
          2011,
          1942,
          1964,
          2003,
          1968,
          1945,
          2006,
          2012,
          2000,
          1940,
          "No INFO",
          2022,
          2022,
          2022,
          2022,
          2022,
          2022,
          2022,
          1946,
          2020,
          "No INFO",
          "No INFO",
          1977,
          1980,
          1968,
          2022,
          2022,
          2022,
          2022,
          2022,
          2022,
          "No INFO",
          1968,
          1974,
          1976,
          1879,
          2011,
          1962,
          1917,
          2008,
          2003,
          "No INFO",
          2022,
          1938,
          1939,
          1970,
          1970,
          1977,
          2018,
          1950,
          2005,
          1970,
          1903,
          2007,
          1970,
          2002,
          2008,
          2007,
          1997,
          1980,
          2004,
          2021,
          2004,
          1937,
          2022,
          "No INFO",
          2018,
          1968,
          1974,
          2019,
          2022,
          "No INFO",
          2022,
          2022,
          2006,
          1920,
          1967,
          2003,
          2007,
          1937,
          "No INFO",
          1935,
          "No INFO",
          "No INFO",
          "No INFO",
          1913,
          2007,
          2022,
          2022,
          "No INFO",
          2022,
          "No INFO",
          "No INFO",
          "No INFO",
          1935,
          "No INFO",
          1998,
          1950,
          "No INFO",
          1996,
          1974,
          2021,
          2020,
          "No INFO",
          2022,
          2022,
          "No INFO",
          1928,
          2010,
          2010,
          2010,
          1996,
          1968,
          "No INFO",
          1930,
          2022,
          2022,
          2022,
          2022,
          2022,
          2022,
          2022,
          2022,
          2022,
          1909,
          2022,
          "No INFO",
          2022,
          1987,
          1991,
          2006,
          2006,
          "No INFO",
          1990,
          1970,
          2011,
          2013,
          2013,
          2013,
          2013,
          1937,
          2022,
          2022,
          "No INFO",
          2022,
          2022,
          2022,
          2022,
          1998,
          1936,
          1974,
          1978,
          2021,
          1964,
          "No INFO",
          2009,
          "No INFO",
          2018,
          1918,
          1960,
          "No INFO",
          1977,
          1972,
          1986,
          2006,
          1930,
          2015,
          2007,
          1967,
          1903,
          2006,
          2022,
          1965,
          1902,
          2010,
          2022,
          2022,
          1984,
          1978,
          "No INFO",
          1960,
          2010,
          1971,
          1950,
          2009,
          1968,
          2023,
          2022,
          1965,
          1970,
          2012,
          2005,
          1,
          1,
          1960,
          2017,
          1940,
          2001,
          1911,
          "No INFO",
          1938,
          1920,
          1935,
          "No INFO",
          1897,
          1927,
          1903,
          2021,
          2021,
          "No INFO",
          1936,
          "No INFO",
          2022,
          1991,
          2022,
          2022,
          2022,
          2022,
          2022,
          2022,
          1974,
          "No INFO",
          1992,
          "No INFO",
          2014,
          1982,
          1920,
          1980,
          "No INFO",
          "No INFO",
          "No INFO",
          1964,
          2008,
          "No INFO",
          "No INFO",
          2018,
          "No INFO",
          "No INFO",
          "No INFO",
          "No INFO",
          1990,
          "No INFO",
          1905,
          2009,
          "No INFO",
          "No INFO",
          "No INFO",
          1936,
          "No INFO",
          1876,
          1975,
          "No INFO",
          "No INFO",
          1968,
          2022,
          2022,
          2022,
          2021,
          1972,
          "No INFO",
          "No INFO",
          "No INFO",
          1992,
          1928,
          1968,
          1984,
          1970,
          "No INFO",
          1992,
          1950,
          1980,
          "No INFO",
          "No INFO",
          "No INFO",
          1935,
          2000,
          "No INFO",
          1977,
          2008,
          1964,
          1996,
          1964,
          1983,
          1923,
          "No INFO",
          "No INFO",
          1980,
          2004,
          1940,
          1947,
          2006,
          1930,
          2009,
          1980,
          1939,
          2021,
          1892,
          1892,
          1965,
          1958,
          1977,
          1930,
          1990,
          2012,
          1991,
          "No INFO",
          "No INFO",
          "No INFO",
          "No INFO",
          2008,
          1940,
          2008,
          1992,
          1931,
          2008,
          1968,
          1946,
          1974,
          1989,
          2008,
          2000,
          1970,
          1995,
          2016,
          1939,
          2020,
          "No INFO",
          1964,
          2001,
          "No INFO",
          2011,
          1994,
          "No INFO",
          1970,
          2022,
          1905,
          "No INFO",
          1968,
          1975,
          "No INFO",
          "No INFO",
          2011,
          "No INFO",
          1905,
          "No INFO",
          "No INFO",
          2012,
          "No INFO",
          "No INFO",
          2021,
          2021,
          2000,
          1936,
          1972,
          2000,
          "No INFO",
          1930,
          2021,
          2021,
          1952,
          2000,
          1929,
          2018,
          1960,
          "No INFO",
          "No INFO",
          1893,
          2021,
          2021,
          1980,
          1905,
          1976,
          "No INFO",
          1965,
          2000,
          1935,
          1996,
          "No INFO",
          "No INFO",
          2022,
          2022,
          2022,
          2022,
          2008,
          2009,
          2008,
          1970,
          1999,
          1885,
          1936,
          "No INFO",
          2008,
          1910,
          1951,
          1874,
          1878,
          "No INFO",
          "No INFO",
          1990,
          2021,
          1867,
          2023,
          2023,
          2023,
          1956,
          1974,
          "No INFO",
          2022,
          1930,
          2011,
          1920,
          1970,
          2007,
          2011,
          1996,
          "No INFO",
          "No INFO",
          1983,
          1945,
          1970,
          1899,
          1978,
          1956,
          1968,
          2008,
          1973,
          2001,
          1937,
          2006,
          1983,
          "No INFO",
          2003,
          2005,
          "No INFO",
          1999,
          "No INFO",
          2000,
          2005,
          1932,
          1983,
          2020,
          1977,
          1990,
          1974,
          "No INFO",
          "No INFO",
          "No INFO",
          "No INFO",
          1997,
          "No INFO",
          2002,
          2010,
          1964,
          "No INFO",
          1966,
          1966,
          1966,
          2000,
          2000,
          2008,
          "No INFO",
          "No INFO",
          "No INFO",
          1930,
          1970,
          1973,
          2015,
          "No INFO",
          "No INFO",
          1960,
          2005,
          2006,
          1967,
          1898,
          1968,
          1941,
          1960,
          1929,
          2005,
          1968,
          "No INFO",
          "No INFO",
          1920,
          1970,
          1968,
          1936,
          2008,
          "No INFO",
          2022,
          "No INFO",
          2006,
          1957,
          1949,
          1963,
          1980,
          2011,
          "No INFO",
          1936,
          1930,
          "No INFO",
          1900,
          1937,
          1900,
          1920,
          1919,
          1946,
          1998,
          2007,
          "No INFO",
          1868,
          1936,
          1927,
          1938,
          "No INFO",
          1870,
          "No INFO",
          1920,
          1895,
          1911,
          1992,
          2008,
          "No INFO",
          1920,
          "No INFO",
          2010,
          1970,
          "No INFO",
          "No INFO",
          "No INFO",
          "No INFO",
          2005,
          2000,
          1998,
          2017,
          1970,
          1930,
          "No INFO",
          1940,
          "No INFO",
          2020,
          "No INFO",
          "No INFO",
          "No INFO",
          1927,
          2000,
          "No INFO",
          "No INFO",
          1995,
          "No INFO",
          "No INFO",
          2008,
          2005,
          1935,
          1936,
          "No INFO",
          "No INFO",
          "No INFO",
          1933,
          "No INFO",
          1890,
          "No INFO",
          2012,
          "No INFO",
          "No INFO",
          1927,
          1865,
          "No INFO",
          "No INFO",
          "No INFO",
          1922,
          2010,
          "No INFO",
          1912,
          1940,
          "No INFO",
          "No INFO",
          "No INFO",
          1970,
          "No INFO",
          1963,
          2009,
          2018,
          1930,
          1930,
          2002,
          "No INFO",
          "No INFO",
          "No INFO",
          2019,
          1860,
          1850,
          2018,
          "No INFO",
          "No INFO",
          1940,
          2019,
          1987,
          "No INFO",
          1929,
          2011,
          1939,
          "No INFO",
          "No INFO",
          1910,
          "No INFO",
          2005,
          "No INFO",
          "No INFO",
          2005,
          "No INFO",
          "No INFO",
          1980,
          "No INFO",
          1924,
          1930,
          2005,
          1905,
          "No INFO",
          "No INFO",
          2008,
          1993,
          "No INFO",
          "No INFO",
          1960,
          1960,
          "No INFO",
          2022,
          2011,
          "No INFO",
          1970,
          2021,
          "No INFO",
          2005,
          2002,
          1939,
          1980,
          1990,
          1962,
          "No INFO",
          1960,
          "No INFO",
          2021,
          2008,
          2005,
          "No INFO",
          1929,
          1929,
          2007,
          2000,
          2011,
          1979,
          "No INFO",
          "No INFO",
          1928,
          "No INFO",
          1980,
          "No INFO",
          2011,
          1906,
          "No INFO",
          1939,
          1999,
          "No INFO",
          1969,
          1926,
          1990,
          1890,
          "No INFO",
          "No INFO",
          "No INFO",
          "No INFO",
          "No INFO",
          "No INFO",
          "No INFO",
          "No INFO",
          2008,
          1932,
          2008,
          2008,
          1979,
          1970,
          2021,
          2005,
          1985,
          "No INFO",
          1936,
          2009,
          2008,
          "No INFO",
          "No INFO",
          2002,
          1999,
          2022,
          2000,
          2022,
          "No INFO",
          1940,
          2005,
          1995,
          1964,
          1926,
          1936,
          2022,
          1929,
          2004,
          1929,
          2001,
          2018,
          1950,
          1975,
          1982,
          "No INFO",
          1974,
          1964,
          2002,
          2008,
          "No INFO",
          2008,
          1963,
          1890,
          2022,
          1991,
          1991,
          1929,
          "No INFO",
          1995,
          2014,
          1878,
          1886,
          "No INFO",
          "No INFO",
          1980,
          "No INFO",
          1920,
          "No INFO",
          "No INFO",
          1993,
          1895,
          2022,
          "No INFO",
          1968,
          2021,
          2000,
          2022,
          2022,
          2022,
          2022,
          2022,
          2012,
          "No INFO",
          2022,
          1978,
          2005,
          1971,
          1970,
          1972,
          1995,
          "No INFO",
          1937,
          2007,
          1984,
          1930,
          1970,
          2022,
          2022,
          2022,
          2022,
          1950,
          2014,
          2021,
          1972,
          "No INFO",
          "No INFO",
          1929,
          "No INFO",
          1936,
          1936,
          2022,
          1932,
          "No INFO",
          "No INFO",
          2000,
          "No INFO",
          "No INFO",
          1979,
          2000,
          1935,
          1936,
          2011,
          2022,
          2022,
          "No INFO",
          2000,
          2022,
          1971,
          "No INFO",
          1930,
          1967,
          1972,
          1981,
          2022,
          2000,
          2021,
          "No INFO",
          2009,
          1995,
          2020,
          2020,
          2020,
          1940,
          "No INFO",
          1958,
          2022,
          1936,
          2022,
          2009,
          1996,
          2023,
          2023,
          2023,
          1903,
          2021,
          1991,
          1938,
          "No INFO",
          1998,
          1939,
          1939,
          1900,
          2005,
          2021,
          2021,
          2021,
          2021,
          2021,
          2021,
          1936,
          1937,
          "No INFO",
          1900,
          1998,
          2010,
          2005,
          2009,
          "No INFO",
          1935,
          1953,
          2021,
          "No INFO",
          "No INFO",
          2022,
          2022,
          2022,
          1910,
          1909,
          1968,
          "No INFO",
          "No INFO",
          1936,
          2022,
          2008,
          1968,
          1935,
          1903,
          2009,
          2003,
          "No INFO",
          "No INFO",
          1962,
          2022,
          1930,
          1959,
          1977,
          "No INFO",
          2002,
          1895,
          "No INFO",
          "No INFO",
          "No INFO",
          "No INFO",
          1930,
          2010,
          1900,
          1964,
          2008,
          1963,
          1920,
          1920,
          1980,
          1980,
          1899,
          2010,
          2014,
          2022,
          2022,
          2022,
          2022,
          2022,
          2022,
          2022,
          2022,
          2022,
          2022,
          2022,
          2022,
          2022,
          2022,
          2022,
          2022,
          1870,
          1965,
          2012,
          1920,
          2022,
          2022,
          2022,
          2022,
          2022,
          2022,
          2022,
          2022,
          2022,
          2022,
          2022,
          1985,
          2006,
          2006,
          1991,
          1962,
          1968,
          2012,
          1967,
          2000,
          2022,
          2022,
          2008,
          1930,
          2010,
          1,
          1,
          1964,
          2000,
          2023,
          2023,
          1930,
          1900,
          1895,
          "No INFO",
          1985,
          1970,
          "No INFO",
          "No INFO",
          1930,
          1923,
          1900,
          1989,
          1997,
          "No INFO",
          "No INFO",
          1910,
          1900,
          "No INFO",
          1930,
          "No INFO",
          "No INFO",
          "No INFO",
          1825,
          1923,
          1908,
          1913,
          1915,
          1926,
          1996,
          "No INFO",
          1921,
          1934,
          "No INFO",
          2015,
          "No INFO",
          2006,
          "No INFO",
          "No INFO",
          "No INFO",
          "No INFO",
          "No INFO",
          "No INFO",
          1998,
          "No INFO",
          "No INFO",
          "No INFO",
          1933,
          "No INFO",
          1929,
          1993,
          1825,
          1800,
          "No INFO",
          "No INFO",
          1955,
          "No INFO",
          1867,
          2011,
          2008,
          2008,
          1935,
          1938,
          "No INFO",
          2004,
          "No INFO",
          "No INFO",
          1929,
          "No INFO",
          1898,
          "No INFO",
          2006,
          1976,
          "No INFO",
          1995,
          1930,
          2017,
          "No INFO",
          2014,
          2014,
          "No INFO",
          1900,
          1792,
          1898,
          2017,
          "No INFO",
          2008,
          1968,
          "No INFO",
          "No INFO",
          "No INFO",
          "No INFO",
          "No INFO",
          "No INFO",
          "No INFO",
          "No INFO",
          "No INFO",
          "No INFO",
          1985,
          "No INFO",
          "No INFO",
          1974,
          2008,
          2008,
          1980,
          "No INFO",
          1927,
          1927,
          "No INFO",
          1978,
          2000,
          "No INFO",
          2000,
          1990,
          "No INFO",
          "No INFO",
          "No INFO",
          "No INFO",
          "No INFO",
          1931,
          1910,
          1920,
          "No INFO",
          1998,
          2009,
          "No INFO",
          "No INFO",
          2016,
          2015,
          2019,
          "No INFO",
          1895,
          "No INFO",
          1934,
          2019,
          "No INFO",
          "No INFO",
          1988,
          1890,
          2015,
          "No INFO",
          1922,
          "No INFO",
          "No INFO",
          1929,
          1930,
          1966,
          "No INFO",
          1960,
          "No INFO",
          "No INFO",
          1912,
          1932,
          2011,
          "No INFO",
          1937,
          1920,
          1850,
          1995,
          1930,
          1944,
          1913,
          1950,
          1936,
          1970,
          1920,
          2012,
          1935,
          1922,
          1899,
          1980,
          1913,
          1947,
          1960,
          1933,
          "No INFO",
          "No INFO",
          "No INFO",
          1995,
          1988,
          2011,
          1900,
          1996,
          2002,
          "No INFO",
          "No INFO",
          "No INFO",
          1918,
          "No INFO",
          1997,
          "No INFO",
          1968,
          "No INFO",
          "No INFO",
          1912,
          2007,
          "No INFO",
          2009,
          1918,
          2023,
          2023,
          1930,
          "No INFO",
          1968,
          1923,
          "No INFO",
          1960,
          "No INFO",
          1977,
          1900,
          1970,
          1929,
          2022,
          "No INFO",
          "No INFO",
          "No INFO",
          1930,
          2002,
          2000,
          1970,
          2000,
          2005,
          1980,
          1860,
          1944,
          2010,
          2008,
          1938,
          1984,
          1937,
          1937,
          1937,
          2022,
          1906,
          2000,
          1984,
          1974,
          1997,
          1936,
          1980,
          1996,
          2018,
          1966,
          1999,
          1999,
          1978,
          2011,
          1936,
          2000,
          1998,
          2022,
          2022,
          2022,
          2006,
          2022,
          2008,
          2007,
          1932,
          2022,
          1973,
          2022,
          2022,
          2022,
          2022,
          2022,
          2022,
          2022,
          2006,
          2001,
          1975,
          2022,
          1981,
          1987,
          2022,
          1940,
          1930,
          2022,
          1930,
          1938,
          "No INFO",
          1986,
          1970,
          2004,
          "No INFO",
          2014,
          1940,
          1953,
          "No INFO",
          2020,
          1996,
          1929,
          2021,
          "No INFO",
          2008,
          2008,
          1933,
          2004,
          2022,
          2022,
          2022,
          2010,
          "No INFO",
          2005,
          1983,
          1900,
          1893,
          1900,
          "No INFO",
          1978,
          1991,
          1968,
          1910,
          2004,
          1920,
          1906,
          1926,
          2011,
          1972,
          2009,
          "No INFO",
          "No INFO",
          2022,
          2021,
          "No INFO",
          "No INFO",
          2009,
          1982,
          2000,
          2008,
          1968,
          1920,
          "No INFO",
          "No INFO",
          2009,
          "No INFO",
          "No INFO",
          "No INFO",
          2005,
          2000,
          2006,
          "No INFO",
          "No INFO",
          2005,
          2021,
          2021,
          "No INFO",
          1933,
          1999,
          "No INFO",
          "No INFO",
          "No INFO",
          "No INFO",
          "No INFO",
          1939,
          "No INFO",
          1929,
          1972,
          2020,
          2009,
          1936,
          1939,
          1939,
          1995,
          1946,
          1929,
          2021,
          1890,
          "No INFO",
          2021,
          1965,
          1998,
          1889,
          2009,
          "No INFO",
          1982,
          2009,
          "No INFO",
          1,
          1975,
          1967,
          2000,
          1965,
          1931,
          "No INFO",
          1967,
          1940,
          "No INFO",
          1968,
          1941,
          1934,
          "No INFO",
          "No INFO",
          1923,
          "No INFO",
          1921,
          2007,
          "No INFO",
          2000,
          "No INFO",
          1915,
          2004,
          1934,
          1938,
          "No INFO",
          2003,
          "No INFO",
          1960,
          1895,
          1926,
          2004,
          1905,
          1920,
          1897,
          1905,
          "No INFO",
          "No INFO",
          "No INFO",
          2010,
          1895,
          1925,
          1905,
          1967,
          2012,
          "No INFO",
          2021,
          "No INFO",
          "No INFO",
          "No INFO",
          "No INFO",
          1934,
          "No INFO",
          "No INFO",
          "No INFO",
          1964,
          1921,
          2019,
          1920,
          "No INFO",
          "No INFO",
          1971,
          1925,
          1980,
          1980,
          "No INFO",
          2010,
          "No INFO",
          "No INFO",
          2005,
          "No INFO",
          2022,
          "No INFO",
          "No INFO",
          "No INFO",
          "No INFO",
          1926,
          2003,
          2009,
          2008,
          2008,
          2022,
          1961,
          "No INFO",
          "No INFO",
          "No INFO",
          1951,
          2000,
          2004,
          1932,
          2008,
          1926,
          "No INFO",
          1976,
          1999,
          "No INFO",
          1968,
          1989,
          1994,
          1929,
          1935,
          2021,
          1968,
          "No INFO",
          1998,
          1965,
          2010,
          1964,
          2000,
          1932,
          1967,
          2006,
          1,
          2022,
          1936,
          1968,
          2002,
          1984,
          2005,
          2020,
          2006,
          2009,
          1911,
          2012,
          2007,
          1986,
          1986,
          1938,
          1989,
          1991,
          1980,
          1963,
          2012,
          2010,
          1960,
          1965,
          2004,
          1956,
          1986,
          1890,
          1930,
          2009,
          2000,
          1958,
          1963,
          "No INFO",
          1984,
          2002,
          2007,
          2000,
          1929,
          1994,
          1998,
          "No INFO",
          1963,
          1928,
          1974,
          "No INFO",
          1960,
          2004,
          2010,
          1965,
          1900,
          2005,
          2005,
          2008,
          1930,
          2015,
          1890,
          2022,
          1983,
          1965,
          1890,
          1890,
          1975,
          2007,
          1964,
          1995,
          1940,
          1960,
          1978,
          1920,
          1963,
          2000,
          1928,
          1981,
          1980,
          1965,
          1976,
          1942,
          2022,
          2022,
          2022,
          1,
          2008,
          2001,
          2011,
          1962,
          2006,
          1999,
          2016,
          2009,
          1930,
          2010,
          1929,
          2010,
          2010,
          2010,
          1910,
          1978,
          1974,
          1920,
          1992,
          1994,
          1979,
          "No INFO",
          "No INFO",
          "No INFO",
          "No INFO",
          2008,
          1974,
          "No INFO",
          "No INFO",
          1988,
          "No INFO",
          1966,
          1997,
          1980,
          2000,
          1963,
          1982,
          1922,
          2004,
          2008,
          1979,
          2008,
          1968,
          2005,
          1982,
          2022,
          2012,
          2010,
          1929,
          1949,
          "No INFO",
          "No INFO",
          "No INFO",
          "No INFO",
          "No INFO",
          1930,
          2022,
          2022,
          2022,
          2022,
          2022,
          2022,
          2022,
          2022,
          "No INFO",
          1905,
          2000,
          2000,
          2013,
          "No INFO",
          1937,
          1936,
          "No INFO",
          2022,
          2022,
          2022,
          1980,
          1975,
          1968,
          2000,
          2022,
          2008,
          2005,
          1936,
          1989,
          1982,
          1977,
          1968,
          1994,
          "No INFO",
          "No INFO",
          1965,
          "No INFO",
          1903,
          1928,
          "No INFO",
          2006,
          2022,
          2022,
          "No INFO",
          1903,
          1936,
          1939,
          "No INFO",
          "No INFO",
          1913,
          1939,
          2002,
          2001,
          1965,
          1988,
          1929,
          1974,
          1990,
          "No INFO",
          "No INFO",
          1990,
          1998,
          2007,
          1937,
          2022,
          2022,
          2022,
          2009,
          1895,
          1939,
          "No INFO",
          "No INFO",
          "No INFO",
          1974,
          2006,
          1930,
          2021,
          2000,
          1870,
          2010,
          1937,
          1900,
          1980,
          2020,
          2022,
          2022,
          "No INFO",
          "No INFO",
          2020,
          2022,
          1964,
          1970,
          1974,
          1990,
          "No INFO",
          1964,
          1980,
          2006,
          1976,
          2017,
          2004,
          2008,
          2020,
          1940,
          "No INFO",
          2022,
          2022,
          2022,
          2022,
          2022,
          2022,
          2008,
          2018,
          1995,
          2023,
          2010,
          1930,
          2019,
          "No INFO",
          "No INFO",
          "No INFO",
          2000,
          "No INFO",
          1998,
          1928,
          "No INFO",
          1928,
          2010,
          "No INFO",
          "No INFO",
          "No INFO",
          1830,
          1960,
          1987,
          "No INFO",
          2022,
          1945,
          2000,
          2009,
          "No INFO",
          "No INFO",
          1927,
          "No INFO",
          "No INFO",
          1930,
          1899,
          1899,
          "No INFO",
          1918,
          1913,
          1913,
          "No INFO",
          1930,
          1997,
          "No INFO",
          2008,
          1930,
          "No INFO",
          "No INFO",
          "No INFO",
          "No INFO",
          "No INFO",
          "No INFO",
          "No INFO",
          "No INFO",
          1985,
          1970,
          2010,
          1930,
          "No INFO",
          2010,
          1967,
          "No INFO",
          1970,
          2009,
          2010,
          1930,
          "No INFO",
          "No INFO",
          1983,
          1992,
          1992,
          2004,
          "No INFO",
          2013,
          "No INFO",
          1929,
          "No INFO",
          1928,
          1920,
          1960,
          1950,
          1930,
          1960,
          "No INFO",
          1939,
          2008,
          2000,
          2013,
          1967,
          1903,
          2005,
          "No INFO",
          1968,
          2008,
          1939,
          "No INFO",
          2002,
          1930,
          "No INFO",
          2007,
          "No INFO",
          1929,
          2010,
          1991,
          1998,
          1925,
          1970,
          2004,
          2021,
          1936,
          "No INFO",
          "No INFO",
          2022,
          2021,
          1969,
          1969,
          1980,
          1940,
          2022,
          2007,
          2000,
          2022,
          2022,
          1933,
          1900,
          1987,
          1977,
          1960,
          1965,
          2022,
          1933,
          1993,
          2009,
          1911,
          1986,
          "No INFO",
          1968,
          1964,
          2001,
          1964,
          1912,
          "No INFO",
          "No INFO",
          "No INFO",
          2000,
          2020,
          1950,
          2013,
          "No INFO",
          "No INFO",
          "No INFO",
          1997,
          "No INFO",
          1963,
          2014,
          2012,
          1968,
          1968,
          1960,
          1965,
          1964,
          1980,
          1966,
          1937,
          "No INFO",
          "No INFO",
          1933,
          1960,
          "No INFO",
          1988,
          1905,
          "No INFO",
          "No INFO",
          1922,
          1970,
          1938,
          1930,
          "No INFO",
          1960,
          1867,
          1920,
          "No INFO",
          "No INFO",
          2008,
          "No INFO",
          2000,
          1905,
          2018,
          2018,
          2005,
          "No INFO",
          "No INFO",
          1997,
          1930,
          1956,
          2021,
          "No INFO",
          2008,
          "No INFO",
          "No INFO",
          1900,
          "No INFO",
          "No INFO",
          1918,
          "No INFO",
          "No INFO",
          "No INFO",
          2021,
          2021,
          "No INFO",
          1936,
          2000,
          "No INFO",
          "No INFO",
          "No INFO",
          "No INFO",
          2009,
          1970,
          1970,
          1929,
          1920,
          1986,
          "No INFO",
          1987,
          2006,
          2012,
          1930,
          "No INFO",
          1880,
          2021,
          1960,
          1936,
          1934,
          1934,
          2021,
          2021,
          2021,
          2021,
          2021,
          2021,
          1930,
          2002,
          1992,
          1973,
          "No INFO",
          2009,
          2008,
          2010,
          1928,
          "No INFO",
          2008,
          1996,
          1956,
          "No INFO",
          "No INFO",
          "No INFO",
          "No INFO",
          "No INFO",
          "No INFO",
          "No INFO",
          "No INFO",
          "No INFO",
          "No INFO",
          "No INFO",
          "No INFO",
          "No INFO",
          "No INFO",
          "No INFO",
          "No INFO",
          "No INFO",
          "No INFO",
          "No INFO",
          "No INFO",
          "No INFO",
          "No INFO",
          "No INFO",
          "No INFO",
          "No INFO",
          "No INFO",
          "No INFO",
          "No INFO",
          1967,
          "No INFO",
          1960,
          2000,
          2021,
          "No INFO",
          2022,
          2022,
          2022,
          "No INFO",
          2008,
          2022,
          1968,
          2022,
          "No INFO",
          2022,
          2022,
          2022,
          2022,
          2022,
          2022,
          2022,
          2022,
          2022,
          2022,
          2022,
          2022,
          2022,
          2022,
          2022,
          2022,
          2022,
          2022,
          2008,
          2008,
          2009,
          1920,
          2020,
          1985,
          2006,
          1950,
          2015,
          2008,
          1969,
          1937,
          "No INFO",
          1975,
          1990,
          1966,
          1998,
          1945,
          1945,
          1903,
          1960,
          1973,
          2005,
          1970,
          2016,
          1952,
          1971,
          2010,
          "No INFO",
          1974,
          1929,
          1982,
          1999,
          1988,
          1984,
          2009,
          1940,
          1960,
          2006,
          1965,
          1995,
          2005,
          1965,
          "No INFO",
          "No INFO",
          2015,
          1980,
          2004,
          1996,
          1973,
          1979,
          1966,
          1927,
          2011,
          2000,
          2000,
          1991,
          2001,
          2000,
          2004,
          1991,
          2000,
          1967,
          1950,
          1929,
          1982,
          1932,
          2009,
          "No INFO",
          1968,
          2004,
          2022,
          1989,
          1970,
          1980,
          1910,
          2007,
          1928,
          2008,
          1984,
          1920,
          1940,
          2009,
          2022,
          1980,
          1935,
          2006,
          1977,
          2000,
          1970,
          2022,
          1962,
          1942,
          1963,
          1960,
          1937,
          2007,
          1964,
          2000,
          2007,
          1980,
          2010,
          2011,
          1903,
          1930,
          "No INFO",
          "No INFO",
          2021,
          1990,
          1976,
          1970,
          2005,
          2000,
          2000,
          1990,
          1982,
          1,
          2000,
          2000,
          1988,
          "No INFO",
          1938,
          1971,
          2007,
          2006,
          1938,
          2010,
          2010,
          1940,
          "No INFO",
          "No INFO",
          "No INFO",
          "No INFO",
          "No INFO",
          "No INFO",
          "No INFO",
          "No INFO",
          "No INFO",
          "No INFO",
          "No INFO",
          "No INFO",
          2014,
          1930,
          1936,
          1968,
          2009,
          2008,
          1972,
          2008,
          1940,
          1895,
          1974,
          1905,
          "No INFO",
          1898,
          "No INFO",
          "No INFO",
          "No INFO",
          "No INFO",
          "No INFO",
          2010,
          "No INFO",
          "No INFO",
          1938,
          "No INFO",
          1970,
          "No INFO",
          1978,
          2021,
          "No INFO",
          2005,
          2010,
          1905,
          1890,
          1992,
          2012,
          1981,
          1974,
          1939,
          1938,
          2001,
          1968,
          1980,
          1910,
          1971,
          1964,
          "No INFO",
          "No INFO",
          "No INFO",
          1936,
          1920,
          "No INFO",
          1955,
          1969,
          "No INFO",
          "No INFO",
          "No INFO",
          "No INFO",
          "No INFO",
          "No INFO",
          1940,
          2022,
          "No INFO",
          "No INFO",
          1965,
          1980,
          "No INFO",
          "No INFO",
          1950,
          1987,
          1900,
          "No INFO",
          "No INFO",
          1977,
          "No INFO",
          1978,
          "No INFO",
          2016,
          "No INFO",
          1971,
          2005,
          1895,
          "No INFO",
          1939,
          1929,
          1974,
          "No INFO",
          "No INFO",
          1930,
          1930,
          1978,
          1930,
          1966,
          2022,
          2022,
          2022,
          2000,
          1965,
          1967,
          1986,
          1965,
          1968,
          1952,
          "No INFO",
          "No INFO",
          "No INFO",
          "No INFO",
          "No INFO",
          "No INFO",
          "No INFO",
          "No INFO",
          1975,
          "No INFO",
          2009,
          2009,
          1940,
          "No INFO",
          1926,
          2020,
          2019,
          1967,
          2007,
          1968,
          2018,
          2022,
          1927,
          "No INFO",
          "No INFO",
          "No INFO",
          "No INFO",
          "No INFO",
          "No INFO",
          "No INFO",
          "No INFO",
          "No INFO",
          "No INFO",
          "No INFO",
          "No INFO",
          "No INFO",
          "No INFO",
          "No INFO",
          "No INFO",
          "No INFO",
          "No INFO",
          "No INFO",
          "No INFO",
          2008,
          "No INFO",
          "No INFO",
          2000,
          1957,
          1939,
          1940,
          2000,
          2010,
          1900,
          1936,
          2011,
          1940,
          1985,
          1933,
          1980,
          2008,
          "No INFO",
          "No INFO",
          "No INFO",
          1930,
          1930,
          1930,
          1995,
          2018,
          2006,
          2020,
          1937,
          1936,
          "No INFO",
          "No INFO",
          2022,
          2022,
          "No INFO",
          1910,
          2022,
          2022,
          1925,
          1968,
          2000,
          2008,
          1984,
          1996,
          2008,
          "No INFO",
          "No INFO",
          2001,
          2009,
          1929,
          "No INFO",
          "No INFO",
          "No INFO",
          "No INFO",
          1987,
          1968,
          1934,
          1983,
          1974,
          1977,
          2008,
          1964,
          2006,
          1960,
          1998,
          1930,
          "No INFO",
          2007,
          1990,
          2005,
          2005,
          2022,
          2022,
          2022,
          1930,
          1964,
          "No INFO",
          "No INFO",
          1964,
          "No INFO",
          1920,
          "No INFO",
          1970,
          1985,
          1997,
          "No INFO",
          1964,
          1968,
          2022,
          2022,
          2022,
          2022,
          2022,
          2022,
          2022,
          2022,
          2022,
          2022,
          2022,
          2022,
          2022,
          2022,
          2022,
          2022,
          2022,
          2022,
          2022,
          2022,
          2022,
          2022,
          2022,
          2022,
          2022,
          2022,
          2022,
          2022,
          2022,
          2022,
          2022,
          2022,
          2003,
          1979,
          1936,
          1975,
          2006,
          2012,
          1968,
          "No INFO",
          "No INFO",
          "No INFO",
          "No INFO",
          "No INFO",
          "No INFO",
          "No INFO",
          "No INFO",
          "No INFO",
          2011,
          1970,
          "No INFO",
          2000,
          2000,
          2005,
          2006,
          "No INFO",
          2018,
          1982,
          1936,
          1964,
          1911,
          2009,
          1991,
          2000,
          1920,
          2000,
          "No INFO",
          1968,
          "No INFO",
          2014,
          1998,
          "No INFO",
          1957,
          1987,
          1999,
          1999,
          "No INFO",
          1929,
          1936,
          1936,
          1936,
          1940,
          1900,
          1941,
          1927,
          1940,
          1968,
          1929,
          "No INFO",
          "No INFO",
          2013,
          2018,
          1940,
          "No INFO",
          2000,
          2000,
          1974,
          "No INFO",
          2011,
          2022,
          2022,
          2013,
          1926,
          1991,
          "No INFO",
          2005,
          2000,
          "No INFO",
          1997,
          1960,
          1999,
          "No INFO",
          "No INFO",
          1964,
          1967,
          2007,
          1930,
          2010,
          "No INFO",
          "No INFO",
          "No INFO",
          1929,
          1983,
          1968,
          "No INFO",
          2010,
          2010,
          2022,
          1937,
          "No INFO",
          1965,
          1926,
          "No INFO",
          1940,
          2000,
          2010,
          2008,
          1948,
          1978,
          1986,
          2003,
          1979,
          1970,
          2021,
          1928,
          1950,
          2004,
          2011,
          "No INFO",
          "No INFO",
          1984,
          1970,
          1988,
          2011,
          "No INFO",
          2009,
          2002,
          1957,
          1975,
          1987,
          1920,
          1937,
          1986,
          2006,
          "No INFO",
          1904,
          1903,
          2000,
          "No INFO",
          1964,
          "No INFO",
          "No INFO",
          1978,
          1999,
          1974,
          1940,
          2002,
          2005,
          1960,
          2000,
          1908,
          "No INFO",
          "No INFO",
          "No INFO",
          "No INFO",
          "No INFO",
          "No INFO",
          "No INFO",
          "No INFO",
          "No INFO",
          "No INFO",
          "No INFO",
          2011,
          2011,
          2011,
          2011,
          1980,
          "No INFO",
          "No INFO",
          2009,
          2000,
          1870,
          1929,
          "No INFO",
          1964,
          2011,
          "No INFO",
          1938,
          1968,
          "No INFO",
          2007,
          2022,
          2022,
          2022,
          2000,
          "No INFO",
          2022,
          1938,
          "No INFO",
          "No INFO",
          "No INFO",
          "No INFO",
          "No INFO",
          "No INFO",
          1939,
          1956,
          2022,
          2015,
          2002,
          "No INFO",
          "No INFO",
          "No INFO",
          "No INFO",
          2022,
          2022,
          1980,
          1929,
          1969,
          2000,
          1965,
          2018,
          "No INFO",
          "No INFO",
          "No INFO",
          1880,
          1940,
          2002,
          2014,
          1988,
          1890,
          1990,
          2000,
          1980,
          2000,
          1997,
          1930,
          1980,
          1944,
          "No INFO",
          1910,
          1935,
          2010,
          "No INFO",
          "No INFO",
          "No INFO",
          2005,
          "No INFO",
          "No INFO",
          1919,
          "No INFO",
          "No INFO",
          1964,
          1933,
          2019,
          1930,
          1920,
          1937,
          1998,
          1941,
          2010,
          1972,
          2000,
          1995,
          "No INFO",
          1984,
          2007,
          "No INFO",
          "No INFO",
          "No INFO",
          "No INFO",
          1968,
          1973,
          2000,
          1965,
          "No INFO",
          2009,
          "No INFO",
          "No INFO",
          "No INFO",
          "No INFO",
          "No INFO",
          1996,
          1999,
          "No INFO",
          2021,
          "No INFO",
          "No INFO",
          2021,
          2000,
          2022,
          2022,
          2022,
          2022,
          1938,
          1900,
          "No INFO",
          "No INFO",
          2021,
          2021,
          1950,
          2004,
          "No INFO",
          1920,
          1968,
          1932,
          2014,
          2020,
          1987,
          1996,
          2005,
          2002,
          1995,
          2009,
          1991,
          "No INFO",
          2011,
          2008,
          2002,
          "No INFO",
          1985,
          1939,
          1998,
          1921,
          2014,
          "No INFO",
          "No INFO",
          1928,
          1998,
          1977,
          "No INFO",
          2004,
          2000,
          2009,
          1940,
          2008,
          2007,
          1929,
          "No INFO",
          1986,
          1963,
          1930,
          2022,
          "No INFO",
          1960,
          1903,
          1965,
          1928,
          1930,
          1980,
          "No INFO",
          2005,
          1975,
          2010,
          1968,
          "No INFO",
          2009,
          1936,
          1930,
          1964,
          1928,
          2022,
          "No INFO",
          1930,
          1940,
          2002,
          2019,
          1977,
          1957,
          1967,
          "No INFO",
          1977,
          2008,
          2008,
          1968,
          2022,
          1900,
          2010,
          2022,
          2007,
          1990,
          "No INFO",
          "No INFO",
          "No INFO",
          "No INFO",
          "No INFO",
          "No INFO",
          1972,
          2007,
          1940,
          2022,
          2022,
          2022,
          2022,
          2022,
          2022,
          1964,
          1991,
          1965,
          "No INFO",
          1937,
          1987,
          1999,
          1984,
          1930,
          2000,
          2007,
          "No INFO",
          2001,
          2009,
          "No INFO",
          2021,
          2021,
          2021,
          2021,
          1902,
          "No INFO",
          "No INFO",
          2014,
          2010,
          1959,
          2004,
          2009,
          1940,
          1887,
          2022,
          2004,
          1994,
          1970,
          2021,
          "No INFO",
          2000,
          1970,
          2010,
          2000,
          2000,
          1984,
          1945,
          "No INFO",
          2004,
          2019,
          1970,
          "No INFO",
          "No INFO",
          1900,
          1968,
          1938,
          2021,
          1980,
          1900,
          2012,
          1998,
          1981,
          2022,
          2022,
          2022,
          2022,
          2022,
          2022,
          1965,
          2022,
          2022,
          2022,
          "No INFO",
          1978,
          1900,
          2022,
          2022,
          2022,
          2022,
          1975,
          2008,
          2022,
          2021,
          2016,
          2007,
          1902,
          "No INFO",
          2022,
          2022,
          "No INFO",
          "No INFO",
          1903,
          1997,
          2022,
          1900,
          2010,
          1910,
          "No INFO",
          "No INFO",
          1998,
          1930,
          2003,
          1903,
          2017,
          1970,
          1965,
          2003,
          1929,
          2000,
          "No INFO",
          "No INFO",
          "No INFO",
          "No INFO",
          1966,
          1965,
          1966,
          1990,
          1990,
          1984,
          1969,
          1,
          1960,
          1965,
          1918,
          2021,
          2000,
          1910,
          2021,
          1890,
          1972,
          1920,
          1907,
          1974,
          1980,
          1964,
          1972,
          1964,
          1978,
          1930,
          1991,
          "No INFO",
          "No INFO",
          1930,
          2022,
          1967,
          2013,
          2000,
          2006,
          1968,
          1965,
          2000,
          2000,
          1968,
          1986,
          1996,
          1966,
          2023,
          1967,
          1965,
          2005,
          1964,
          "No INFO",
          "No INFO",
          "No INFO",
          1997,
          1938,
          1938,
          1988,
          1934,
          1934,
          1976,
          2008,
          2010,
          2000,
          1985,
          1983,
          2011,
          1984,
          1980,
          1969,
          1936,
          1936,
          2000,
          2000,
          1990,
          2014,
          1038,
          2012,
          1982,
          1974,
          1971,
          1938,
          1950,
          2006,
          1981,
          1980,
          2007,
          1970,
          1979,
          2022,
          2022,
          2010,
          "No INFO",
          "No INFO",
          2022,
          2009,
          1981,
          2006,
          "No INFO",
          1927,
          1964,
          2008,
          2002,
          1918,
          2015,
          2015,
          2014,
          1988,
          1980,
          1990,
          2014,
          1967,
          1961,
          1974,
          1964,
          2021,
          2022,
          2022,
          2022,
          "No INFO",
          2007,
          2010,
          1977,
          2008,
          1927,
          2007,
          2008,
          2017,
          "No INFO",
          2002,
          2010,
          1993,
          "No INFO",
          "No INFO",
          "No INFO",
          "No INFO",
          1939,
          1970,
          "No INFO",
          "No INFO",
          "No INFO",
          "No INFO",
          "No INFO",
          "No INFO",
          "No INFO",
          "No INFO",
          1996,
          2000,
          2008,
          2000,
          "No INFO",
          "No INFO",
          "No INFO",
          "No INFO",
          2022,
          1970,
          "No INFO",
          1929,
          2022,
          2022,
          2022,
          2022,
          2005,
          "No INFO",
          "No INFO",
          "No INFO",
          2008,
          2008,
          2008,
          2015,
          1932,
          2022,
          1985,
          1972,
          "No INFO",
          1968,
          1984,
          1934,
          2022,
          "No INFO",
          2022,
          2022,
          1959,
          2022,
          2022,
          2022,
          1939,
          2017,
          2022,
          "No INFO",
          2022,
          "No INFO",
          1937,
          1932,
          1930,
          1970,
          1911,
          1936,
          1990,
          1999,
          1986,
          1960,
          1967,
          1984,
          2022,
          1976,
          1958,
          2022,
          2022,
          2022,
          2022,
          2022,
          2003,
          1964,
          1907,
          1951,
          2011,
          "No INFO",
          1937,
          1974,
          1974,
          2008,
          1908,
          "No INFO",
          2022,
          1920,
          2004,
          2022,
          2022,
          2022,
          1974,
          "No INFO",
          1930,
          1913,
          1928,
          "No INFO",
          1963,
          "No INFO",
          1925,
          "No INFO",
          2008,
          "No INFO",
          1956,
          2020,
          "No INFO",
          1961,
          "No INFO",
          1936,
          1976,
          "No INFO",
          1900,
          1960,
          1912,
          2022,
          2000,
          2021,
          1938,
          2002,
          1938,
          1900,
          1938,
          1938,
          1900,
          "No INFO",
          2007,
          1985,
          "No INFO",
          "No INFO",
          1903,
          1930,
          "No INFO",
          "No INFO",
          1927,
          2015,
          2005,
          2005,
          "No INFO",
          "No INFO",
          2006,
          2008,
          2009,
          2008,
          "No INFO",
          2021,
          "No INFO",
          1885,
          "No INFO",
          "No INFO",
          "No INFO",
          1950,
          1958,
          1965,
          "No INFO",
          1950,
          1630,
          2008,
          2009,
          2005,
          1900,
          2000,
          1992,
          2001,
          "No INFO",
          "No INFO",
          1903,
          1930,
          "No INFO",
          1988,
          "No INFO",
          1930,
          2008,
          1937,
          "No INFO",
          1925,
          "No INFO",
          "No INFO",
          "No INFO",
          "No INFO",
          "No INFO",
          1985,
          "No INFO",
          1898,
          2000,
          "No INFO",
          1933,
          1930,
          2022,
          2022,
          2022,
          2022,
          2022,
          2022,
          "No INFO",
          "No INFO",
          2023,
          2022,
          "No INFO",
          2023,
          1900,
          1930,
          2004,
          2022,
          1935,
          2011,
          1959,
          2010,
          1995,
          2018,
          1965,
          1938,
          "No INFO",
          2000,
          2008,
          1972,
          1977,
          1,
          1971,
          2020,
          2020,
          "No INFO",
          "No INFO",
          "No INFO",
          "No INFO",
          "No INFO",
          "No INFO",
          "No INFO",
          "No INFO",
          "No INFO",
          "No INFO",
          1892,
          1930,
          2009,
          1985,
          1918,
          2000,
          1940,
          2011,
          "No INFO",
          1963,
          1940,
          "No INFO",
          1842,
          1937,
          1937,
          1960,
          "No INFO",
          1782,
          1953,
          2008,
          "No INFO",
          1987,
          1920,
          1880,
          2009,
          2010,
          1918,
          2020,
          2018,
          1941,
          2020,
          2021,
          2003,
          1943,
          "No INFO",
          "No INFO",
          "No INFO",
          1997,
          1968,
          2011,
          1995,
          1937,
          "No INFO",
          "No INFO",
          "No INFO",
          "No INFO",
          "No INFO",
          2004,
          1955,
          "No INFO",
          1900,
          1940,
          1956,
          "No INFO",
          1966,
          1930,
          1863,
          1932,
          2008,
          1950,
          "No INFO",
          2010,
          1956,
          1929,
          "No INFO",
          1923,
          2006,
          "No INFO",
          2000,
          "No INFO",
          "No INFO",
          1989,
          1939,
          1936,
          "No INFO",
          "No INFO",
          1945,
          1994,
          1980,
          1990,
          1964,
          1930,
          "No INFO",
          "No INFO",
          2020,
          1922,
          1930,
          2006,
          1850,
          1920,
          "No INFO",
          1880,
          "No INFO",
          "No INFO",
          1926,
          1934,
          1980,
          1964,
          "No INFO",
          "No INFO",
          2010,
          1937,
          1978,
          "No INFO",
          1960,
          "No INFO",
          1986,
          "No INFO",
          1896,
          1890,
          "No INFO",
          2019,
          "No INFO",
          "No INFO",
          "No INFO",
          "No INFO",
          1933,
          2008,
          "No INFO",
          "No INFO",
          2006,
          1960,
          2000,
          1992,
          2014,
          "No INFO",
          "No INFO",
          2004,
          1997,
          "No INFO",
          "No INFO",
          "No INFO",
          1898,
          1928,
          1963,
          2009,
          1900,
          "No INFO",
          "No INFO",
          2006,
          "No INFO",
          "No INFO",
          1889,
          "No INFO",
          1968,
          1980,
          2021,
          2022,
          2022,
          2022,
          2005,
          "No INFO",
          "No INFO",
          2009,
          1970,
          1965,
          2010,
          2010,
          1975,
          1929,
          2009,
          1970,
          2010,
          1945,
          1967,
          1905,
          2014,
          2008,
          "No INFO",
          "No INFO",
          1988,
          1929,
          "No INFO",
          "No INFO",
          1965,
          1998,
          1963,
          "No INFO",
          2022,
          2021,
          1975,
          "No INFO",
          2022,
          2022,
          2022,
          2008,
          1920,
          2022,
          2022,
          1996,
          1900,
          "No INFO",
          1930,
          2021,
          2021,
          2021,
          2021,
          1980,
          2021,
          1913,
          1968,
          2000,
          2005,
          1933,
          2022,
          2022,
          2003,
          1930,
          2003,
          1903,
          2000,
          1903,
          2022,
          2022,
          2022,
          "No INFO",
          2008,
          1992,
          2012,
          "No INFO",
          2010,
          1967,
          1987,
          1965,
          "No INFO",
          2019,
          2010,
          1907,
          2022,
          1972,
          2023,
          2023,
          2023,
          2023,
          2023,
          2001,
          2023,
          2023,
          2023,
          1965,
          2005,
          1975,
          1981,
          "No INFO",
          "No INFO",
          "No INFO",
          2001,
          1987,
          1958,
          2000,
          1967,
          1960,
          1960,
          1967,
          1971,
          1963,
          1950,
          1929,
          1968,
          2023,
          2023,
          2022,
          2023,
          "No INFO",
          2000,
          1938,
          "No INFO",
          1929,
          "No INFO",
          1967,
          1962,
          2009,
          1968,
          2005,
          2005,
          2009,
          "No INFO",
          1928,
          "No INFO",
          2000,
          1976,
          1997,
          1975,
          2008,
          2022,
          2008,
          1975,
          1984,
          2010,
          1939,
          1936,
          2008,
          "No INFO",
          2022,
          1972,
          1940,
          1976,
          1968,
          1987,
          1950,
          2022,
          2022,
          2022,
          2022,
          2022,
          2022,
          2022,
          2022,
          "No INFO",
          2022,
          2022,
          2022,
          "No INFO",
          2022,
          2022,
          2020,
          2020,
          1986,
          1976,
          2006,
          1970,
          1968,
          2009,
          1964,
          1965,
          2022,
          2022,
          1921,
          2022,
          1983,
          2006,
          1988,
          1958,
          "No INFO",
          1935,
          1895,
          1987,
          "No INFO",
          1939,
          1929,
          "No INFO",
          2006,
          "No INFO",
          "No INFO",
          2000,
          1970,
          1984,
          1969,
          1972,
          1905,
          2002,
          2000,
          1978,
          2022,
          1998,
          1964,
          2003,
          2007,
          1965,
          2021,
          1969,
          1930,
          1978,
          1938,
          1932,
          1932,
          2007,
          1970,
          1974,
          2012,
          1931,
          1965,
          1930,
          2012,
          1896,
          2009,
          1987,
          1964,
          2016,
          2000,
          2020,
          1958,
          1998,
          1965,
          1952,
          1964,
          2007,
          1974,
          1974,
          2007,
          1980,
          2000,
          2022,
          1933,
          2022,
          2022,
          2022,
          2022,
          2022,
          2022,
          2022,
          2022,
          1997,
          1994,
          1968,
          1940,
          2008,
          "No INFO",
          "No INFO",
          "No INFO",
          "No INFO",
          "No INFO",
          "No INFO",
          "No INFO",
          "No INFO",
          "No INFO",
          1930,
          2009,
          1968,
          1970,
          1974,
          1978,
          2000,
          2007,
          1928,
          2022,
          2000,
          1980,
          2000,
          2002,
          1956,
          1970,
          "No INFO",
          1978,
          1968,
          1938,
          "No INFO",
          1936,
          "No INFO",
          2022,
          2022,
          2022,
          2022,
          1999,
          "No INFO",
          1918,
          2003,
          1955,
          1940,
          1980,
          1941,
          1960,
          "No INFO",
          1920,
          2011,
          "No INFO",
          1942,
          1930,
          2000,
          1975,
          2000,
          1932,
          1931,
          2006,
          1974,
          1938,
          2000,
          2018,
          "No INFO",
          1972,
          1903,
          "No INFO",
          1907,
          1910,
          2021,
          1920,
          "No INFO",
          1930,
          "No INFO",
          1930,
          2021,
          2021,
          2021,
          2021,
          "No INFO",
          1967,
          1940,
          1964,
          2004,
          "No INFO",
          1975,
          1974,
          1936,
          1950,
          2014,
          "No INFO",
          1910,
          1935,
          1893,
          "No INFO",
          2000,
          1929,
          1929,
          1930,
          1938,
          1930,
          1920,
          1941,
          "No INFO",
          "No INFO",
          2006,
          "No INFO",
          "No INFO",
          2021,
          "No INFO",
          1957,
          1929,
          1930,
          2021,
          "No INFO",
          1918,
          2008,
          2021,
          2021,
          1930,
          2021,
          2011,
          2011,
          "No INFO",
          1931,
          2008,
          2021,
          "No INFO",
          1950,
          "No INFO",
          2010,
          1895,
          1998,
          1968,
          "No INFO",
          "No INFO",
          2006,
          "No INFO",
          1936,
          1945,
          1890,
          2007,
          1950,
          2008,
          "No INFO",
          "No INFO",
          "No INFO",
          1980,
          "No INFO",
          1960,
          2000,
          "No INFO",
          1941,
          "No INFO",
          1988,
          1930,
          2022,
          "No INFO",
          "No INFO",
          "No INFO",
          1939,
          1920,
          2004,
          1980,
          1941,
          1930,
          "No INFO",
          "No INFO",
          "No INFO",
          "No INFO",
          "No INFO",
          1990,
          2010,
          1960,
          1950,
          1960,
          1946,
          "No INFO",
          "No INFO",
          "No INFO",
          2022,
          "No INFO",
          1939,
          1933,
          "No INFO",
          1900,
          1980,
          2008,
          "No INFO",
          2010,
          1950,
          1940,
          "No INFO",
          "No INFO",
          "No INFO",
          "No INFO",
          "No INFO",
          1930,
          1933,
          "No INFO",
          1971,
          1964,
          1935,
          2003,
          2021,
          1976,
          1976,
          "No INFO",
          2009,
          "No INFO",
          1936,
          1887,
          2005,
          "No INFO",
          "No INFO",
          2022,
          2022,
          "No INFO",
          2010,
          1928,
          1920,
          "No INFO",
          2022,
          2022,
          2022,
          2022,
          "No INFO",
          1974,
          "No INFO",
          "No INFO",
          1998,
          "No INFO",
          "No INFO",
          2021,
          1963,
          1999,
          1998,
          1970,
          1936,
          1936,
          2008,
          1983,
          2006,
          1939,
          2006,
          1991,
          1991,
          1925,
          2000,
          1987,
          1978,
          1968,
          1977,
          1965,
          2012,
          1987,
          2009,
          2010,
          2022,
          1998,
          "No INFO",
          2008,
          1969,
          1960,
          2009,
          2002,
          2006,
          1950,
          2022,
          2008,
          1930,
          1968,
          2022,
          "No INFO",
          1940,
          2022,
          2022,
          2022,
          1928,
          1978,
          1966,
          1940,
          1980,
          1978
         ],
         "xaxis": "x",
         "yaxis": "y"
        }
       ],
       "layout": {
        "barmode": "relative",
        "legend": {
         "tracegroupgap": 0
        },
        "margin": {
         "t": 60
        },
        "template": {
         "data": {
          "bar": [
           {
            "error_x": {
             "color": "#2a3f5f"
            },
            "error_y": {
             "color": "#2a3f5f"
            },
            "marker": {
             "line": {
              "color": "#E5ECF6",
              "width": 0.5
             },
             "pattern": {
              "fillmode": "overlay",
              "size": 10,
              "solidity": 0.2
             }
            },
            "type": "bar"
           }
          ],
          "barpolar": [
           {
            "marker": {
             "line": {
              "color": "#E5ECF6",
              "width": 0.5
             },
             "pattern": {
              "fillmode": "overlay",
              "size": 10,
              "solidity": 0.2
             }
            },
            "type": "barpolar"
           }
          ],
          "carpet": [
           {
            "aaxis": {
             "endlinecolor": "#2a3f5f",
             "gridcolor": "white",
             "linecolor": "white",
             "minorgridcolor": "white",
             "startlinecolor": "#2a3f5f"
            },
            "baxis": {
             "endlinecolor": "#2a3f5f",
             "gridcolor": "white",
             "linecolor": "white",
             "minorgridcolor": "white",
             "startlinecolor": "#2a3f5f"
            },
            "type": "carpet"
           }
          ],
          "choropleth": [
           {
            "colorbar": {
             "outlinewidth": 0,
             "ticks": ""
            },
            "type": "choropleth"
           }
          ],
          "contour": [
           {
            "colorbar": {
             "outlinewidth": 0,
             "ticks": ""
            },
            "colorscale": [
             [
              0,
              "#0d0887"
             ],
             [
              0.1111111111111111,
              "#46039f"
             ],
             [
              0.2222222222222222,
              "#7201a8"
             ],
             [
              0.3333333333333333,
              "#9c179e"
             ],
             [
              0.4444444444444444,
              "#bd3786"
             ],
             [
              0.5555555555555556,
              "#d8576b"
             ],
             [
              0.6666666666666666,
              "#ed7953"
             ],
             [
              0.7777777777777778,
              "#fb9f3a"
             ],
             [
              0.8888888888888888,
              "#fdca26"
             ],
             [
              1,
              "#f0f921"
             ]
            ],
            "type": "contour"
           }
          ],
          "contourcarpet": [
           {
            "colorbar": {
             "outlinewidth": 0,
             "ticks": ""
            },
            "type": "contourcarpet"
           }
          ],
          "heatmap": [
           {
            "colorbar": {
             "outlinewidth": 0,
             "ticks": ""
            },
            "colorscale": [
             [
              0,
              "#0d0887"
             ],
             [
              0.1111111111111111,
              "#46039f"
             ],
             [
              0.2222222222222222,
              "#7201a8"
             ],
             [
              0.3333333333333333,
              "#9c179e"
             ],
             [
              0.4444444444444444,
              "#bd3786"
             ],
             [
              0.5555555555555556,
              "#d8576b"
             ],
             [
              0.6666666666666666,
              "#ed7953"
             ],
             [
              0.7777777777777778,
              "#fb9f3a"
             ],
             [
              0.8888888888888888,
              "#fdca26"
             ],
             [
              1,
              "#f0f921"
             ]
            ],
            "type": "heatmap"
           }
          ],
          "heatmapgl": [
           {
            "colorbar": {
             "outlinewidth": 0,
             "ticks": ""
            },
            "colorscale": [
             [
              0,
              "#0d0887"
             ],
             [
              0.1111111111111111,
              "#46039f"
             ],
             [
              0.2222222222222222,
              "#7201a8"
             ],
             [
              0.3333333333333333,
              "#9c179e"
             ],
             [
              0.4444444444444444,
              "#bd3786"
             ],
             [
              0.5555555555555556,
              "#d8576b"
             ],
             [
              0.6666666666666666,
              "#ed7953"
             ],
             [
              0.7777777777777778,
              "#fb9f3a"
             ],
             [
              0.8888888888888888,
              "#fdca26"
             ],
             [
              1,
              "#f0f921"
             ]
            ],
            "type": "heatmapgl"
           }
          ],
          "histogram": [
           {
            "marker": {
             "pattern": {
              "fillmode": "overlay",
              "size": 10,
              "solidity": 0.2
             }
            },
            "type": "histogram"
           }
          ],
          "histogram2d": [
           {
            "colorbar": {
             "outlinewidth": 0,
             "ticks": ""
            },
            "colorscale": [
             [
              0,
              "#0d0887"
             ],
             [
              0.1111111111111111,
              "#46039f"
             ],
             [
              0.2222222222222222,
              "#7201a8"
             ],
             [
              0.3333333333333333,
              "#9c179e"
             ],
             [
              0.4444444444444444,
              "#bd3786"
             ],
             [
              0.5555555555555556,
              "#d8576b"
             ],
             [
              0.6666666666666666,
              "#ed7953"
             ],
             [
              0.7777777777777778,
              "#fb9f3a"
             ],
             [
              0.8888888888888888,
              "#fdca26"
             ],
             [
              1,
              "#f0f921"
             ]
            ],
            "type": "histogram2d"
           }
          ],
          "histogram2dcontour": [
           {
            "colorbar": {
             "outlinewidth": 0,
             "ticks": ""
            },
            "colorscale": [
             [
              0,
              "#0d0887"
             ],
             [
              0.1111111111111111,
              "#46039f"
             ],
             [
              0.2222222222222222,
              "#7201a8"
             ],
             [
              0.3333333333333333,
              "#9c179e"
             ],
             [
              0.4444444444444444,
              "#bd3786"
             ],
             [
              0.5555555555555556,
              "#d8576b"
             ],
             [
              0.6666666666666666,
              "#ed7953"
             ],
             [
              0.7777777777777778,
              "#fb9f3a"
             ],
             [
              0.8888888888888888,
              "#fdca26"
             ],
             [
              1,
              "#f0f921"
             ]
            ],
            "type": "histogram2dcontour"
           }
          ],
          "mesh3d": [
           {
            "colorbar": {
             "outlinewidth": 0,
             "ticks": ""
            },
            "type": "mesh3d"
           }
          ],
          "parcoords": [
           {
            "line": {
             "colorbar": {
              "outlinewidth": 0,
              "ticks": ""
             }
            },
            "type": "parcoords"
           }
          ],
          "pie": [
           {
            "automargin": true,
            "type": "pie"
           }
          ],
          "scatter": [
           {
            "marker": {
             "colorbar": {
              "outlinewidth": 0,
              "ticks": ""
             }
            },
            "type": "scatter"
           }
          ],
          "scatter3d": [
           {
            "line": {
             "colorbar": {
              "outlinewidth": 0,
              "ticks": ""
             }
            },
            "marker": {
             "colorbar": {
              "outlinewidth": 0,
              "ticks": ""
             }
            },
            "type": "scatter3d"
           }
          ],
          "scattercarpet": [
           {
            "marker": {
             "colorbar": {
              "outlinewidth": 0,
              "ticks": ""
             }
            },
            "type": "scattercarpet"
           }
          ],
          "scattergeo": [
           {
            "marker": {
             "colorbar": {
              "outlinewidth": 0,
              "ticks": ""
             }
            },
            "type": "scattergeo"
           }
          ],
          "scattergl": [
           {
            "marker": {
             "colorbar": {
              "outlinewidth": 0,
              "ticks": ""
             }
            },
            "type": "scattergl"
           }
          ],
          "scattermapbox": [
           {
            "marker": {
             "colorbar": {
              "outlinewidth": 0,
              "ticks": ""
             }
            },
            "type": "scattermapbox"
           }
          ],
          "scatterpolar": [
           {
            "marker": {
             "colorbar": {
              "outlinewidth": 0,
              "ticks": ""
             }
            },
            "type": "scatterpolar"
           }
          ],
          "scatterpolargl": [
           {
            "marker": {
             "colorbar": {
              "outlinewidth": 0,
              "ticks": ""
             }
            },
            "type": "scatterpolargl"
           }
          ],
          "scatterternary": [
           {
            "marker": {
             "colorbar": {
              "outlinewidth": 0,
              "ticks": ""
             }
            },
            "type": "scatterternary"
           }
          ],
          "surface": [
           {
            "colorbar": {
             "outlinewidth": 0,
             "ticks": ""
            },
            "colorscale": [
             [
              0,
              "#0d0887"
             ],
             [
              0.1111111111111111,
              "#46039f"
             ],
             [
              0.2222222222222222,
              "#7201a8"
             ],
             [
              0.3333333333333333,
              "#9c179e"
             ],
             [
              0.4444444444444444,
              "#bd3786"
             ],
             [
              0.5555555555555556,
              "#d8576b"
             ],
             [
              0.6666666666666666,
              "#ed7953"
             ],
             [
              0.7777777777777778,
              "#fb9f3a"
             ],
             [
              0.8888888888888888,
              "#fdca26"
             ],
             [
              1,
              "#f0f921"
             ]
            ],
            "type": "surface"
           }
          ],
          "table": [
           {
            "cells": {
             "fill": {
              "color": "#EBF0F8"
             },
             "line": {
              "color": "white"
             }
            },
            "header": {
             "fill": {
              "color": "#C8D4E3"
             },
             "line": {
              "color": "white"
             }
            },
            "type": "table"
           }
          ]
         },
         "layout": {
          "annotationdefaults": {
           "arrowcolor": "#2a3f5f",
           "arrowhead": 0,
           "arrowwidth": 1
          },
          "autotypenumbers": "strict",
          "coloraxis": {
           "colorbar": {
            "outlinewidth": 0,
            "ticks": ""
           }
          },
          "colorscale": {
           "diverging": [
            [
             0,
             "#8e0152"
            ],
            [
             0.1,
             "#c51b7d"
            ],
            [
             0.2,
             "#de77ae"
            ],
            [
             0.3,
             "#f1b6da"
            ],
            [
             0.4,
             "#fde0ef"
            ],
            [
             0.5,
             "#f7f7f7"
            ],
            [
             0.6,
             "#e6f5d0"
            ],
            [
             0.7,
             "#b8e186"
            ],
            [
             0.8,
             "#7fbc41"
            ],
            [
             0.9,
             "#4d9221"
            ],
            [
             1,
             "#276419"
            ]
           ],
           "sequential": [
            [
             0,
             "#0d0887"
            ],
            [
             0.1111111111111111,
             "#46039f"
            ],
            [
             0.2222222222222222,
             "#7201a8"
            ],
            [
             0.3333333333333333,
             "#9c179e"
            ],
            [
             0.4444444444444444,
             "#bd3786"
            ],
            [
             0.5555555555555556,
             "#d8576b"
            ],
            [
             0.6666666666666666,
             "#ed7953"
            ],
            [
             0.7777777777777778,
             "#fb9f3a"
            ],
            [
             0.8888888888888888,
             "#fdca26"
            ],
            [
             1,
             "#f0f921"
            ]
           ],
           "sequentialminus": [
            [
             0,
             "#0d0887"
            ],
            [
             0.1111111111111111,
             "#46039f"
            ],
            [
             0.2222222222222222,
             "#7201a8"
            ],
            [
             0.3333333333333333,
             "#9c179e"
            ],
            [
             0.4444444444444444,
             "#bd3786"
            ],
            [
             0.5555555555555556,
             "#d8576b"
            ],
            [
             0.6666666666666666,
             "#ed7953"
            ],
            [
             0.7777777777777778,
             "#fb9f3a"
            ],
            [
             0.8888888888888888,
             "#fdca26"
            ],
            [
             1,
             "#f0f921"
            ]
           ]
          },
          "colorway": [
           "#636efa",
           "#EF553B",
           "#00cc96",
           "#ab63fa",
           "#FFA15A",
           "#19d3f3",
           "#FF6692",
           "#B6E880",
           "#FF97FF",
           "#FECB52"
          ],
          "font": {
           "color": "#2a3f5f"
          },
          "geo": {
           "bgcolor": "white",
           "lakecolor": "white",
           "landcolor": "#E5ECF6",
           "showlakes": true,
           "showland": true,
           "subunitcolor": "white"
          },
          "hoverlabel": {
           "align": "left"
          },
          "hovermode": "closest",
          "mapbox": {
           "style": "light"
          },
          "paper_bgcolor": "white",
          "plot_bgcolor": "#E5ECF6",
          "polar": {
           "angularaxis": {
            "gridcolor": "white",
            "linecolor": "white",
            "ticks": ""
           },
           "bgcolor": "#E5ECF6",
           "radialaxis": {
            "gridcolor": "white",
            "linecolor": "white",
            "ticks": ""
           }
          },
          "scene": {
           "xaxis": {
            "backgroundcolor": "#E5ECF6",
            "gridcolor": "white",
            "gridwidth": 2,
            "linecolor": "white",
            "showbackground": true,
            "ticks": "",
            "zerolinecolor": "white"
           },
           "yaxis": {
            "backgroundcolor": "#E5ECF6",
            "gridcolor": "white",
            "gridwidth": 2,
            "linecolor": "white",
            "showbackground": true,
            "ticks": "",
            "zerolinecolor": "white"
           },
           "zaxis": {
            "backgroundcolor": "#E5ECF6",
            "gridcolor": "white",
            "gridwidth": 2,
            "linecolor": "white",
            "showbackground": true,
            "ticks": "",
            "zerolinecolor": "white"
           }
          },
          "shapedefaults": {
           "line": {
            "color": "#2a3f5f"
           }
          },
          "ternary": {
           "aaxis": {
            "gridcolor": "white",
            "linecolor": "white",
            "ticks": ""
           },
           "baxis": {
            "gridcolor": "white",
            "linecolor": "white",
            "ticks": ""
           },
           "bgcolor": "#E5ECF6",
           "caxis": {
            "gridcolor": "white",
            "linecolor": "white",
            "ticks": ""
           }
          },
          "title": {
           "x": 0.05
          },
          "xaxis": {
           "automargin": true,
           "gridcolor": "white",
           "linecolor": "white",
           "ticks": "",
           "title": {
            "standoff": 15
           },
           "zerolinecolor": "white",
           "zerolinewidth": 2
          },
          "yaxis": {
           "automargin": true,
           "gridcolor": "white",
           "linecolor": "white",
           "ticks": "",
           "title": {
            "standoff": 15
           },
           "zerolinecolor": "white",
           "zerolinewidth": 2
          }
         }
        },
        "xaxis": {
         "anchor": "y",
         "domain": [
          0,
          1
         ],
         "title": {
          "text": "Godina izgradnje"
         }
        },
        "yaxis": {
         "anchor": "x",
         "domain": [
          0,
          1
         ],
         "title": {
          "text": "count"
         }
        }
       }
      }
     },
     "metadata": {},
     "output_type": "display_data"
    }
   ],
   "source": [
    "fig = px.histogram(df, x=\"Godina izgradnje\")\n",
    "fig"
   ]
  },
  {
   "cell_type": "code",
   "execution_count": 10,
   "metadata": {},
   "outputs": [
    {
     "data": {
      "application/vnd.plotly.v1+json": {
       "config": {
        "plotlyServerURL": "https://plot.ly"
       },
       "data": [
        {
         "alignmentgroup": "True",
         "bingroup": "x",
         "hovertemplate": "Cijena=%{x}<br>count=%{y}<extra></extra>",
         "legendgroup": "",
         "marker": {
          "color": "#636efa",
          "pattern": {
           "shape": ""
          }
         },
         "name": "",
         "offsetgroup": "",
         "orientation": "v",
         "showlegend": false,
         "type": "histogram",
         "x": [
          135000,
          240000,
          265000,
          130000,
          166592,
          230000,
          169000,
          138548,
          78000,
          120744,
          86000,
          496000,
          147000,
          119000,
          195000,
          135000,
          121500,
          68000,
          160000,
          245000,
          245000,
          62000,
          385000,
          220000,
          200000,
          167650,
          95000,
          170000,
          199900,
          206300,
          292600,
          204500,
          165000,
          340000,
          85000,
          172000,
          91900,
          155000,
          357000,
          150000,
          82000,
          120000,
          210000,
          140000,
          333000,
          150000,
          174000,
          186000,
          102600,
          207392,
          82000,
          170000,
          245000,
          124500,
          192000,
          243000,
          59000,
          237000,
          125000,
          165000,
          155000,
          174000,
          210000,
          325000,
          345000,
          750000,
          119000,
          285000,
          170000,
          140000,
          234000,
          150000,
          299000,
          145000,
          265000,
          102000,
          115000,
          355000,
          499000,
          370000,
          235000,
          152000,
          167000,
          59500,
          990000,
          266275,
          201250,
          201250,
          195000,
          59500,
          59800,
          175000,
          278200,
          99000,
          240000,
          299000,
          250792,
          190000,
          300000,
          190000,
          456948,
          258962,
          87000,
          238000,
          144590,
          125000,
          249900,
          319000,
          150000,
          545000,
          270000,
          399000,
          299598,
          87000,
          97000,
          110000,
          205000,
          180000,
          59500,
          193000,
          48000,
          115000,
          338000,
          250000,
          167000,
          400000,
          309000,
          379000,
          80000,
          140000,
          195000,
          119000,
          300000,
          217000,
          151000,
          220000,
          180000,
          240000,
          125000,
          48000,
          339000,
          175000,
          198000,
          222000,
          154000,
          150000,
          80000,
          139000,
          320000,
          187000,
          208912,
          216678,
          208912,
          150000,
          216678,
          328000,
          79000,
          61000,
          220000,
          175000,
          54000,
          120000,
          238000,
          119000,
          245000,
          190000,
          325000,
          408720,
          140000,
          59000,
          189504,
          165000,
          150000,
          105000,
          184000,
          195000,
          219655,
          155000,
          219000,
          249900,
          143000,
          362000,
          750000,
          275000,
          126000,
          140000,
          417755,
          807484,
          544509,
          350734,
          493892,
          398474,
          517790,
          312000,
          310000,
          133000,
          133000,
          132000,
          107000,
          140000,
          800745,
          433872,
          956295,
          560763,
          809908,
          421296,
          138700,
          175000,
          95000,
          108000,
          353280,
          309000,
          97000,
          120000,
          365000,
          279000,
          105000,
          170430,
          126000,
          320000,
          98000,
          165000,
          200000,
          139000,
          143000,
          201908,
          316000,
          450000,
          319000,
          133000,
          160000,
          350000,
          261000,
          255000,
          440000,
          353400,
          420000,
          170000,
          200000,
          139232,
          115000,
          380000,
          120000,
          249000,
          170000,
          162633,
          370000,
          412659,
          460629,
          290000,
          280000,
          82000,
          83075,
          374550,
          205000,
          149000,
          159000,
          295285,
          246330,
          267237,
          305000,
          259999,
          200232,
          162892,
          153738,
          162892,
          123231,
          121764,
          379000,
          175000,
          395000,
          115000,
          143000,
          500000,
          450000,
          120000,
          420000,
          342280,
          82000,
          387000,
          310000,
          170000,
          169000,
          114000,
          114000,
          124000,
          450000,
          120000,
          200000,
          152000,
          112000,
          150000,
          131000,
          132000,
          118000,
          137000,
          141000,
          234000,
          150000,
          317500,
          188625,
          174149,
          189588,
          185000,
          210000,
          450000,
          450000,
          225000,
          120000,
          225000,
          75000,
          210525,
          188200,
          113200,
          221130,
          170000,
          176010,
          188274,
          204042,
          123231,
          87425,
          175134,
          206189,
          93000,
          85000,
          250000,
          76000,
          134400,
          135000,
          320000,
          127000,
          294000,
          375000,
          155000,
          135000,
          245000,
          150000,
          164000,
          66000,
          145000,
          400000,
          105000,
          240000,
          129000,
          310000,
          105000,
          144840,
          90000,
          111400,
          145000,
          112325,
          112325,
          330000,
          195000,
          90000,
          140000,
          250000,
          79000,
          95000,
          198000,
          297000,
          244322,
          299000,
          129000,
          122000,
          159000,
          195000,
          125000,
          109000,
          300000,
          147000,
          230000,
          300000,
          248000,
          105000,
          127650,
          192000,
          107000,
          250000,
          276000,
          150000,
          300000,
          460629,
          412659,
          125000,
          78000,
          590000,
          170060,
          119900,
          150348,
          146960,
          155672,
          119042,
          161128,
          147642,
          133000,
          186000,
          190000,
          185000,
          215000,
          200000,
          175000,
          129000,
          225000,
          90000,
          312000,
          180000,
          175000,
          332000,
          132000,
          500000,
          483000,
          265000,
          103000,
          250000,
          400000,
          390000,
          150000,
          120000,
          235000,
          107000,
          78000,
          78000,
          300000,
          320000,
          117000,
          89760,
          105000,
          310000,
          123232,
          177631,
          153738,
          189000,
          165000,
          600000,
          515000,
          477155,
          185000,
          340000,
          179000,
          111000,
          100000,
          138000,
          199000,
          175000,
          209000,
          210000,
          135000,
          559000,
          260000,
          210000,
          80000,
          122100,
          198000,
          150000,
          110000,
          69000,
          187000,
          260000,
          229000,
          120000,
          260000,
          420000,
          84000,
          360000,
          105000,
          108000,
          168000,
          150000,
          55000,
          211695,
          105000,
          105000,
          199000,
          235000,
          135000,
          223000,
          250000,
          136200,
          215000,
          220000,
          300000,
          185000,
          236550,
          270000,
          158000,
          270000,
          225000,
          180000,
          430000,
          297000,
          312000,
          133000,
          135000,
          900000,
          100000,
          129900,
          148000,
          580000,
          178000,
          225000,
          159900,
          242000,
          100000,
          115000,
          56000,
          380000,
          159000,
          149000,
          128616,
          80000,
          115000,
          485000,
          87000,
          174000,
          174000,
          340000,
          185000,
          250000,
          230000,
          266000,
          186214,
          190000,
          365000,
          165402,
          332451,
          265000,
          196000,
          389000,
          95000,
          140000,
          90000,
          425000,
          340000,
          95000,
          195000,
          159300,
          410000,
          78000,
          330000,
          372600,
          380000,
          802670,
          862226,
          77000,
          255000,
          155000,
          349000,
          255200,
          234000,
          170000,
          450000,
          460000,
          379000,
          134849,
          227585,
          134849,
          231334,
          102800,
          121500,
          164000,
          129900,
          138000,
          380000,
          90000,
          485000,
          136800,
          134000,
          125000,
          380000,
          320000,
          167042,
          280194,
          78000,
          400960,
          260275,
          557070,
          634940,
          637935,
          125000,
          349000,
          119000,
          150600,
          810000,
          75000,
          358000,
          99900,
          330000,
          190000,
          169000,
          150000,
          190000,
          240000,
          65000,
          125000,
          256500,
          156000,
          236500,
          140000,
          129000,
          70000,
          118000,
          339000,
          127600,
          145000,
          150000,
          150000,
          290000,
          106000,
          210000,
          388000,
          79000,
          127000,
          170000,
          187000,
          199000,
          125000,
          220000,
          125000,
          232000,
          234200,
          198000,
          234200,
          125000,
          199000,
          388000,
          1200000,
          165000,
          98000,
          135200,
          174900,
          159500,
          150000,
          125000,
          129000,
          149000,
          295000,
          105000,
          645000,
          140000,
          103000,
          120000,
          99990,
          422000,
          150000,
          165000,
          214000,
          95000,
          130000,
          80000,
          70000,
          188000,
          155000,
          275000,
          184000,
          112900,
          169000,
          146000,
          269000,
          185000,
          240000,
          130000,
          135000,
          179857,
          126000,
          258000,
          180000,
          318000,
          140000,
          450000,
          395000,
          330000,
          210000,
          165000,
          213000,
          151096,
          130000,
          160000,
          160000,
          970000,
          155000,
          155385,
          700000,
          768240,
          375000,
          206000,
          359000,
          250000,
          210000,
          75000,
          305000,
          268000,
          170000,
          220000,
          165000,
          890000,
          270000,
          360000,
          151096,
          185000,
          298000,
          680000,
          355000,
          690000,
          530000,
          210000,
          70000,
          59000,
          690000,
          145000,
          209000,
          135000,
          218000,
          765000,
          273000,
          64000,
          330000,
          285000,
          215000,
          115000,
          490000,
          235000,
          227800,
          380000,
          300000,
          188400,
          500000,
          275000,
          180000,
          350000,
          771032,
          106000,
          280000,
          290000,
          1000000,
          279900,
          670000,
          550000,
          360000,
          326000,
          107000,
          216000,
          215000,
          260000,
          276000,
          320000,
          365000,
          400000,
          247000,
          379000,
          225000,
          495000,
          95000,
          349000,
          154000,
          286000,
          480000,
          195000,
          195000,
          300000,
          999000,
          145000,
          82000,
          293000,
          771032,
          95000,
          520000,
          310000,
          459000,
          130000,
          125000,
          195000,
          360000,
          207500,
          395000,
          165000,
          42000,
          150000,
          250000,
          320000,
          305000,
          180000,
          345000,
          87000,
          330000,
          220000,
          200000,
          768000,
          120000,
          350000,
          250000,
          350000,
          640000,
          150000,
          295000,
          160000,
          229000,
          685000,
          42000,
          60000,
          100000,
          307000,
          299000,
          231250,
          326000,
          85000,
          174000,
          309999,
          240000,
          800000,
          36000,
          189300,
          144000,
          218500,
          269990,
          82000,
          131500,
          250500,
          330000,
          330000,
          450000,
          450000,
          234000,
          330000,
          77000,
          255000,
          345600,
          128000,
          320000,
          138000,
          210000,
          160000,
          340000,
          185300,
          107000,
          249000,
          240000,
          218000,
          160000,
          243000,
          239000,
          180000,
          254784,
          575250,
          234348,
          610304,
          254976,
          231600,
          222352,
          613568,
          142000,
          175000,
          142000,
          125000,
          255000,
          345000,
          360000,
          250000,
          243750,
          230000,
          185000,
          120000,
          130000,
          270000,
          220000,
          125000,
          160000,
          182493,
          180000,
          189720,
          177000,
          620000,
          270000,
          120000,
          115000,
          420000,
          249000,
          145575,
          199000,
          316000,
          380000,
          110000,
          160000,
          100000,
          202400,
          161000,
          195000,
          363000,
          135000,
          495000,
          350000,
          68000,
          369400,
          133500,
          269000,
          216232,
          354156,
          363858,
          380000,
          365000,
          45000,
          200000,
          850000,
          350000,
          305000,
          171100,
          200000,
          225000,
          94000,
          85000,
          135000,
          294000,
          300000,
          395000,
          210000,
          297000,
          214839,
          149000,
          260000,
          172178,
          138989,
          146993,
          126523,
          419000,
          410000,
          199000,
          81000,
          349000,
          68000,
          140000,
          140000,
          174000,
          482280,
          200000,
          212000,
          330000,
          323500,
          103000,
          126321,
          146960,
          126321,
          105271,
          275000,
          223000,
          349000,
          200000,
          85000,
          90000,
          380000,
          310000,
          107000,
          107000,
          142140,
          180000,
          88000,
          150000,
          115000,
          248000,
          350000,
          66000,
          246000,
          118800,
          239900,
          135000,
          190923,
          222019,
          149000,
          85000,
          168861,
          129900,
          66000,
          159000,
          145000,
          98000,
          149000,
          216269,
          159000,
          210000,
          290000,
          105000,
          158000,
          161000,
          197000,
          197000,
          265000,
          299999,
          89900,
          396800,
          180000,
          210553,
          127000,
          216000,
          226968,
          862226,
          802670,
          120000,
          208200,
          385000,
          170000,
          219900,
          328000,
          85000,
          200000,
          350000,
          239000,
          385686,
          433480,
          219240,
          217040,
          212120,
          270640,
          295740,
          283800,
          120000,
          220000,
          91000,
          125000,
          98000,
          130000,
          225000,
          114400,
          260000,
          170000,
          175000,
          167000,
          135751,
          138546,
          168861,
          118800,
          365000,
          297000,
          620000,
          270000,
          390000,
          450000,
          449000,
          67000,
          165000,
          114400,
          350000,
          79000,
          99000,
          175000,
          178000,
          149310,
          480000,
          649000,
          193000,
          685000,
          154000,
          175000,
          161420,
          220244,
          153471,
          167500,
          195000,
          195000,
          185000,
          163000,
          165000,
          82000,
          133000,
          147000,
          76500,
          97000,
          128000,
          116000,
          179900,
          417755,
          350734,
          517790,
          398474,
          389856,
          493892,
          367705,
          421296,
          544509,
          807484,
          809908,
          956295,
          408720,
          560763,
          433872,
          800745,
          190000,
          115000,
          240000,
          500000,
          122935,
          241960,
          123625,
          150075,
          140507,
          191406,
          197156,
          181677,
          211600,
          150374,
          213693,
          165000,
          169000,
          169000,
          108000,
          120000,
          142000,
          207000,
          155000,
          395000,
          231700,
          259000,
          135000,
          299000,
          419000,
          65000,
          40000,
          98000,
          78000,
          203345,
          173524,
          207200,
          77000,
          330000,
          77000,
          160000,
          59000,
          270000,
          300000,
          71400,
          342000,
          94990,
          365000,
          300000,
          200000,
          200000,
          290000,
          210000,
          280000,
          460000,
          489000,
          150000,
          230000,
          180000,
          339000,
          432000,
          600000,
          200600,
          550000,
          200000,
          320000,
          386000,
          406000,
          549000,
          580000,
          480000,
          254250,
          400000,
          690000,
          410000,
          450000,
          480000,
          464000,
          365000,
          590000,
          350000,
          280000,
          440000,
          400000,
          324600,
          380000,
          300000,
          450000,
          600000,
          246000,
          200000,
          242500,
          140000,
          250000,
          300000,
          150000,
          450000,
          229000,
          330000,
          220000,
          330000,
          80000,
          324600,
          498500,
          204000,
          750000,
          240000,
          129000,
          714000,
          300000,
          460000,
          154000,
          309000,
          288000,
          250000,
          800000,
          159000,
          170000,
          240000,
          138000,
          595000,
          177000,
          45000,
          310000,
          380000,
          200000,
          265000,
          450000,
          1000000,
          400000,
          130000,
          749000,
          752241,
          69000,
          164000,
          250000,
          135000,
          320000,
          370000,
          210000,
          240000,
          935589,
          521175,
          300000,
          155000,
          160000,
          300000,
          189000,
          250000,
          165000,
          305000,
          420000,
          720000,
          740000,
          460000,
          240000,
          350000,
          215000,
          170000,
          419000,
          179000,
          761200,
          766150,
          597300,
          696000,
          695000,
          596750,
          697000,
          230000,
          350000,
          306450,
          237600,
          246000,
          159000,
          1050000,
          550000,
          115000,
          440000,
          350000,
          250000,
          189000,
          166000,
          360000,
          210000,
          200000,
          432000,
          100000,
          359000,
          340000,
          110000,
          290000,
          1123850,
          93000,
          157000,
          460000,
          140000,
          160000,
          100000,
          179000,
          199500,
          139000,
          235000,
          165000,
          295000,
          260000,
          235000,
          160000,
          75000,
          120000,
          280000,
          255000,
          255000,
          512500,
          95000,
          290000,
          287750,
          260000,
          426600,
          265000,
          250000,
          395000,
          330000,
          330000,
          306000,
          235000,
          435000,
          137500,
          695000,
          305000,
          305000,
          199990,
          145000,
          330000,
          228000,
          169200,
          179075,
          95000,
          205000,
          310000,
          185000,
          99000,
          160000,
          140000,
          218000,
          220000,
          220000,
          125000,
          355000,
          310000,
          525000,
          550000,
          219000,
          87000,
          170000,
          115000,
          370000,
          115000,
          180000,
          399000,
          312000,
          105000,
          199000,
          220000,
          243000,
          275000,
          306000,
          306000,
          285330,
          219000,
          125000,
          179000,
          105000,
          180000,
          95250,
          199900,
          140000,
          125000,
          135000,
          224000,
          119000,
          145000,
          419000,
          350000,
          100000,
          206800,
          238410,
          134865,
          121095,
          140000,
          399360,
          151000,
          100000,
          260000,
          172524,
          105000,
          192742,
          140646,
          145530,
          186318,
          140624,
          186318,
          114620,
          210000,
          77000,
          92500,
          145970,
          119000,
          163000,
          181000,
          99000,
          93000,
          475725,
          223000,
          245000,
          145000,
          160000,
          326000,
          253000,
          331550,
          215000,
          190000,
          149000,
          107000,
          216245,
          105000,
          380000,
          261000,
          160000,
          375000,
          390000,
          123000,
          123000,
          179857,
          144591,
          147568,
          218300,
          79000,
          250000,
          278000,
          590000,
          139900,
          350000,
          300000,
          200000,
          285000,
          135000,
          190000,
          119000,
          180000,
          80000,
          120000,
          123000,
          125000,
          200000,
          95000,
          320000,
          189504,
          179000,
          260000,
          299000,
          192000,
          125000,
          239000,
          130000,
          310000,
          310000,
          155000,
          155000,
          350000,
          120000,
          131200,
          277500,
          404200,
          149000,
          130000,
          255000,
          390000,
          317000,
          283122,
          328941,
          890000,
          95000,
          162000,
          365000,
          200990,
          170700,
          220000,
          153000,
          245000,
          210000,
          386000,
          200000,
          169500,
          350000,
          220000,
          120000,
          130000,
          315000,
          220000,
          380000,
          107943,
          350000,
          113520,
          460000,
          500000,
          160000,
          200000,
          440000,
          250016,
          196000,
          1200000,
          240000,
          250000,
          198000,
          247000,
          150000,
          125000,
          235000,
          160000,
          315000,
          150000,
          365000,
          199990,
          205000,
          197000,
          298000,
          312000,
          359000,
          350000,
          370000,
          242000,
          135000,
          392960,
          154000,
          78000,
          170000,
          226000,
          750000,
          92300,
          200000,
          100000,
          95000,
          265000,
          190000,
          290000,
          195000,
          236000,
          230000,
          210000,
          230000,
          361746,
          750000,
          99750,
          349001,
          118001,
          88001,
          224700,
          340000,
          371887,
          195000,
          320000,
          495000,
          407085,
          377130,
          299000,
          199500,
          240000,
          520000,
          73000,
          59000,
          410000,
          142000,
          151920,
          127680,
          85000,
          145000,
          170700,
          199990,
          325000,
          249000,
          435000,
          970000,
          462252,
          1700000,
          850000,
          102300,
          175000,
          230000,
          205000,
          260000,
          249000,
          125000,
          142000,
          142000,
          168981,
          133000,
          449000,
          499000,
          430000,
          140000,
          699000,
          290000,
          579000,
          310000,
          104000,
          429000,
          135000,
          125000,
          375000,
          170000,
          150000,
          170000,
          380000,
          155000,
          210986,
          500000,
          135000,
          185000,
          110000,
          160000,
          155000,
          210000,
          69000,
          228000,
          510000,
          57000,
          189000,
          296000,
          125000,
          83000,
          169000,
          197000,
          210000,
          100000,
          154000,
          218000,
          220000,
          155000,
          158800,
          92000,
          245000,
          130000,
          34000,
          193000,
          77900,
          147000,
          200000,
          140000,
          109000,
          125000,
          95000,
          218000,
          225000,
          79000,
          200000,
          150000,
          142000,
          154000,
          150000,
          243000,
          147000,
          179000,
          111000,
          245000,
          184000,
          185000,
          165000,
          190000,
          118000,
          125000,
          333000,
          122400,
          270000,
          165000,
          210000,
          122000,
          97000,
          135000,
          129000,
          152500,
          120000,
          287000,
          376296,
          143000,
          159000,
          240000,
          120000,
          215000,
          150000,
          93000,
          90000,
          149000,
          185000,
          160000,
          539000,
          135000,
          280000,
          399000,
          140000,
          160000,
          110000,
          160500,
          120000,
          132236,
          155220,
          317115,
          95000,
          99000,
          82000,
          145000,
          132000,
          325000,
          280000,
          140000,
          299000,
          349000,
          300000,
          125000,
          124000,
          114000,
          114000,
          135000,
          125000,
          269000,
          159000,
          300000,
          165000,
          108000,
          189000,
          328000,
          260000,
          120000,
          350000,
          120000,
          290000,
          330000,
          165000,
          145000,
          82000,
          100000,
          167000,
          353000,
          156000,
          155000,
          232500,
          74900,
          196000,
          155000,
          350000,
          112000,
          135000,
          200000,
          350000,
          189921,
          260000,
          380000,
          156000,
          115000,
          143720,
          179857,
          147568,
          179857,
          249000,
          148646,
          156230,
          143764,
          143030,
          117360,
          117360,
          147840,
          147840,
          207000,
          110000,
          280000,
          145000,
          155000,
          130000,
          165000,
          235000,
          147568,
          169502,
          121131,
          117360,
          186000,
          82500,
          98000,
          215000,
          224178,
          350000,
          170000,
          185000,
          170000,
          255000,
          130000,
          500000,
          250000,
          120000,
          82000,
          237000,
          157000,
          114400,
          149000,
          298000,
          195750,
          279900,
          474000,
          324000,
          309000,
          165000,
          415000,
          500000,
          150000,
          290000,
          165000,
          290000,
          239000,
          200000,
          80000,
          220000,
          120000,
          120000,
          75000,
          135000,
          120000,
          126000,
          128000,
          500000,
          92313,
          115911,
          115911,
          175000,
          350000,
          395000,
          460000,
          288000,
          290000,
          138000,
          240000,
          300000,
          316800,
          199000,
          190000,
          113000,
          109000,
          199000,
          459000,
          221400,
          100000,
          115000,
          195000,
          195000,
          100000,
          85428,
          135000,
          99990,
          130000,
          36000,
          253500,
          75000,
          55000,
          100000,
          160500,
          195000,
          182000,
          218000,
          159750,
          142000,
          395250,
          257910,
          182310,
          211260,
          211260,
          132325,
          161782,
          135000,
          379000,
          65000,
          268500,
          115065,
          124000,
          175000,
          123000,
          189000,
          235000,
          298000,
          118000,
          170000,
          92000,
          365000,
          90000,
          185000,
          400000,
          883500,
          899000,
          330000,
          275000,
          140000,
          585000,
          356175,
          115000,
          125000,
          240000,
          295000,
          295000,
          150000,
          289000,
          235000,
          350000,
          215000,
          350000,
          300000,
          310000,
          90000,
          90000,
          143000,
          123000,
          119000,
          360000,
          204000,
          215000,
          162696,
          127680,
          145590,
          175350,
          137678,
          142818,
          195696,
          157141,
          180400,
          69000,
          325000,
          270000,
          230000,
          450000,
          115000,
          138000,
          115000,
          190000,
          265000,
          134500,
          200000,
          210000,
          138000,
          279000,
          365400,
          230000,
          319000,
          400000,
          319000,
          460000,
          390000,
          265000,
          230000,
          149000,
          59000,
          55000,
          45000,
          420000,
          150000,
          295000,
          330000,
          235000,
          49990,
          149000,
          92000,
          275000,
          212000,
          220000,
          83000,
          130000,
          435000,
          380000,
          345000,
          250000,
          63000,
          247000,
          140000,
          144000,
          325000,
          132000,
          189000,
          204900,
          114500,
          139000,
          249000,
          265000,
          205632,
          205000,
          100000,
          109000,
          105000,
          96000,
          118000,
          240000,
          234000,
          700000,
          750000,
          299000,
          230000,
          83000,
          120000,
          115000,
          115000,
          110000,
          299000,
          160000,
          187000,
          318000,
          141000,
          130000,
          140000,
          61100,
          126800,
          153000,
          42000,
          105000,
          92000,
          150000,
          198999,
          99000,
          130000,
          549999,
          450540,
          593460,
          608220,
          213000,
          210000,
          150000,
          120000,
          455000,
          59900,
          130000,
          150000,
          90000,
          75000,
          58000,
          82000,
          260000,
          399000,
          300000,
          55000,
          105000,
          175000,
          163000,
          88000,
          155000,
          370000,
          165000,
          147000,
          97000,
          145000,
          283000,
          105000,
          250000,
          150000,
          399000,
          179000,
          273000,
          250000,
          557000,
          73000,
          310000,
          299000,
          87000,
          712000,
          165000,
          206000,
          65000,
          95000,
          446488,
          179000,
          139000,
          184000,
          450000,
          187000,
          900000,
          350000,
          359500,
          435240,
          320000,
          110000,
          136000,
          200000,
          699000,
          250000,
          165000,
          395000,
          161421,
          340000,
          340000,
          162000,
          139000,
          139000,
          210000,
          400000,
          130000,
          240000,
          199500,
          185000,
          340000,
          450000,
          288000,
          200000,
          299000,
          82000,
          179000,
          379000,
          379000,
          127123,
          135447,
          135999,
          135711,
          201420,
          189928,
          142100,
          154000,
          165000,
          235000,
          285000,
          134000,
          130000,
          172000,
          380000,
          191000,
          348000,
          150000,
          120000,
          450540,
          199000,
          299000,
          220000,
          364000,
          400000,
          890000,
          608220,
          450540,
          165000,
          330000,
          593460,
          230000,
          255000,
          309900,
          260000,
          338250,
          335000,
          396800,
          593460,
          608220,
          380000,
          400960,
          419000,
          235000,
          549000,
          535000,
          270000,
          100000,
          71000,
          185000,
          175000,
          195500,
          225000,
          115893,
          148646,
          117360,
          185000,
          240000,
          141000,
          150000,
          216000,
          287000,
          193629,
          163435,
          125444,
          123501,
          123501,
          125776,
          123501,
          125705,
          115893,
          149666,
          148646,
          143030,
          148646,
          143764,
          115893,
          115893,
          115893,
          115893,
          154000,
          154000,
          140000,
          240000,
          236792,
          120000,
          119500,
          72000,
          165000,
          294000,
          504000,
          130000,
          205000,
          165000,
          220000,
          215000,
          330000,
          149000,
          149000,
          300000,
          145000,
          162000,
          375000,
          78000,
          195000,
          80000,
          157000,
          330000,
          414000,
          145000,
          219000,
          210000,
          330000,
          110000,
          135000,
          155000,
          162500,
          210000,
          210000,
          93000,
          175000,
          299000,
          130000,
          300000,
          790000,
          115000,
          127500,
          250000,
          229000,
          330000,
          250000,
          90000,
          369000,
          530000,
          380000,
          210000,
          352000,
          42000,
          137600,
          182000,
          270000,
          249900,
          119000,
          260000,
          199000,
          88000,
          260000,
          125000,
          145000,
          103000,
          182000,
          239400,
          112000,
          194000,
          155000,
          275000,
          220000,
          123000,
          212000,
          194000,
          182000,
          95000,
          132000,
          285000,
          200000,
          280000,
          140000,
          125000,
          330000,
          170000,
          299000,
          116000,
          62000,
          75000,
          195750,
          286000,
          250000,
          155000,
          127000,
          270000,
          200000,
          499100,
          477000,
          450000,
          160000,
          349800,
          382500,
          170000,
          210000,
          108000,
          103000,
          170600,
          190000,
          190000,
          110000,
          80000,
          29000,
          125500,
          65000,
          120000,
          390000,
          265000,
          145000,
          175000,
          160000,
          70000,
          99000,
          103000,
          138000,
          308000,
          650000,
          490000,
          150000,
          400000,
          460000,
          1150000,
          350000,
          157992,
          205000,
          249000,
          246597,
          640000,
          670000,
          350000,
          310000,
          134000,
          148000,
          200000,
          148000,
          138000,
          349000,
          200000,
          92000,
          160000,
          516000,
          120000,
          200000,
          170000,
          152000,
          76000,
          199900,
          320000,
          75000,
          235000,
          60500,
          113000,
          330000,
          250000,
          209685,
          345000,
          320000,
          259000,
          350000,
          400000,
          165000,
          140000,
          196000,
          130000,
          249000,
          105000,
          255000,
          212000,
          65000,
          270000,
          66000,
          82000,
          260000,
          104000,
          320000,
          189900,
          400000,
          155000,
          260000,
          172000,
          230000,
          170000,
          189000,
          175000,
          175000,
          223100,
          138000,
          936000,
          209000,
          300000,
          130000,
          200000,
          270000,
          123600,
          220000,
          185000,
          175000,
          420000,
          350000,
          198000,
          390000,
          200000,
          185000,
          360000,
          250000,
          80000,
          98000,
          175000,
          640000,
          90000,
          380000,
          69000,
          120000,
          590000,
          350000,
          140000,
          106900,
          450000,
          122000,
          200214,
          220012,
          193756,
          106000,
          300000,
          157500,
          170000,
          161000,
          310000,
          129000,
          208000,
          258960,
          219000,
          183000,
          992600,
          456948,
          825000,
          745000,
          65900,
          290000,
          250000,
          1200000,
          190000,
          150000,
          200000,
          550000,
          290000,
          189000,
          330000,
          89000,
          105000,
          238732,
          505000,
          350734,
          544509,
          417755,
          421296,
          517790,
          1802464,
          129605,
          398474,
          367705,
          244329,
          493892,
          167463,
          807484,
          54000,
          225009,
          134481,
          177652,
          240718,
          232001,
          389856,
          360000,
          140000,
          325000,
          557000,
          105000,
          270000,
          155000,
          150000,
          295000,
          195000,
          260000,
          139000,
          66000,
          240000,
          299000,
          200000,
          167000,
          380000,
          105000,
          276000,
          180000,
          470000,
          420000,
          238000,
          240000,
          196000,
          172800,
          170000,
          230000,
          105000,
          695000,
          549500,
          449750,
          125000,
          140000,
          346000,
          250000,
          70000,
          90000,
          195000,
          350000,
          90000,
          500000,
          350000,
          129500,
          219500,
          200000,
          250000,
          380000,
          290625,
          331390,
          240777,
          231136,
          165000,
          221000,
          370000,
          180000,
          250000,
          98000,
          118000,
          135000,
          170000,
          123500,
          160000,
          125000,
          158000,
          125000,
          189300,
          159000,
          98000,
          254500,
          307500,
          240000,
          185000,
          178000,
          159000,
          135000,
          80000,
          980000,
          149000,
          92000,
          326000,
          60000,
          280000,
          216000,
          75000,
          500000,
          115893,
          115893,
          115893,
          117360,
          117360,
          150528,
          115893,
          117360,
          150528,
          150528,
          115893,
          143030,
          126084,
          121226,
          115893,
          148860,
          156183,
          148860,
          145992,
          156183,
          169502,
          115893,
          169502,
          145992,
          148860,
          156183,
          144840,
          115893,
          145992,
          143030,
          239000,
          230000,
          145000,
          99500,
          124000,
          180000,
          367000,
          230000,
          184000,
          120000,
          310000,
          365000,
          239000,
          165000,
          250000,
          299000,
          290000,
          590000,
          114900,
          326000,
          330000,
          83000,
          300000,
          309999,
          114900,
          348000,
          88000,
          123000,
          250000,
          155000,
          189000,
          195000,
          363000,
          99900,
          288000,
          147000,
          320000,
          200000,
          147000,
          349000,
          299000,
          248000,
          99000,
          209000,
          120000,
          125000,
          315000,
          380000,
          320000,
          170000,
          150000,
          150000,
          95000,
          315000,
          150000,
          340000,
          35000,
          380000,
          170000,
          181300,
          389000,
          240000,
          119000,
          360000,
          285000,
          100000,
          120000,
          66000,
          119900,
          206188,
          188274,
          220550,
          199000,
          200000,
          200000,
          159000,
          233200,
          225000,
          268870,
          80000,
          125000,
          114000,
          160000,
          68000,
          159000,
          114900,
          55000,
          185000,
          174500,
          147000,
          195125,
          380000,
          195000,
          127500,
          410000,
          190500,
          194250,
          240000,
          180000,
          380000,
          134900,
          425000,
          450000,
          265000,
          557000,
          169800,
          284000,
          400000,
          259000,
          189000,
          249000,
          140000,
          89500,
          260000,
          365001,
          135000,
          129000,
          230000,
          220000,
          144591,
          159000,
          90000,
          165000,
          120000,
          379000,
          1210000,
          115000,
          140000,
          200000,
          209000,
          250000,
          209000,
          240000,
          185000,
          99000,
          210000,
          219000,
          155000,
          265000,
          48000,
          38500,
          480000,
          106666,
          199000,
          200000,
          230000,
          117500,
          115000,
          224000,
          255000,
          218400,
          186000,
          202274,
          136500,
          370000,
          199000,
          200000,
          215325,
          201126,
          220000,
          136500,
          202274,
          102304,
          124177,
          83675,
          179800,
          200000,
          199000,
          199000,
          172000,
          330000,
          190000,
          199000,
          265000,
          159000,
          75000,
          73000,
          75400,
          221000,
          265000,
          399000,
          199000,
          141060,
          150600,
          105000,
          380000,
          130340,
          207930,
          209925,
          201825,
          156600,
          172125,
          469000,
          315675,
          395000,
          117000,
          240000,
          175500,
          190000,
          176000,
          238400,
          525000,
          247544,
          284000,
          240000,
          79000,
          199000,
          159000,
          320000,
          120000,
          320000,
          82130,
          135000,
          79500,
          150000,
          2400000,
          280000,
          215000,
          185000,
          900000,
          283000,
          180000,
          219000,
          38000,
          190000,
          750000,
          185000,
          269000,
          775000,
          87499,
          192500,
          520000,
          650000,
          470000,
          638044,
          601770,
          248000,
          300000,
          360000,
          333000,
          420000,
          75000,
          440000,
          250000,
          145000,
          105000,
          340000,
          195000,
          310000,
          309000,
          110000,
          140000,
          90000,
          142000,
          160000,
          360000,
          250000,
          299000,
          410000,
          230000,
          126000,
          65000,
          235000,
          97000,
          250000,
          210000,
          90000,
          420000,
          150000,
          210000,
          210000,
          450000,
          257000,
          269000,
          140995,
          211687,
          184871,
          145483,
          38000,
          125643,
          140217,
          131833,
          101292,
          280000,
          320000,
          155000,
          390000,
          140995,
          140995,
          240000,
          270000,
          190000,
          265000,
          115000,
          290000,
          215000,
          406000,
          80000,
          150000,
          278000,
          238000,
          229000,
          330000,
          210000,
          120144,
          245000,
          330000,
          85000,
          118000,
          268000,
          126900,
          310000,
          169000,
          200000,
          65000,
          218000,
          230000,
          328000,
          222360,
          100000,
          250000,
          77850,
          122999,
          87000,
          990000,
          350000,
          399000,
          83000,
          199500,
          154000,
          195000,
          250000,
          260000,
          305000,
          300000,
          69000,
          230000,
          156000,
          80000,
          300000,
          246000,
          110000,
          160000,
          500000,
          79900,
          143000,
          299000,
          333000,
          75000,
          250000,
          123619,
          275000,
          83000,
          270000,
          120000,
          209000,
          220000,
          138000,
          237000,
          83000,
          177000,
          196000,
          196000,
          125000,
          144270,
          180000,
          287000,
          450000,
          49000,
          269000,
          159628,
          184872,
          145484,
          143620,
          220932,
          147152,
          123000,
          199000,
          60000,
          168560,
          130340,
          199773,
          130340,
          155085,
          175350,
          145000,
          220000,
          215000,
          220000,
          170000,
          170000,
          123000,
          205000,
          513000,
          565000,
          125000,
          270000,
          145000,
          175000,
          380000,
          138546,
          168861,
          135751,
          129172,
          300000,
          515000,
          477155,
          345000,
          251500,
          69000,
          190000,
          123000,
          79000,
          199900,
          78700,
          265000,
          280000,
          89000,
          406000,
          65000,
          327000,
          103000,
          455000,
          150000,
          170000,
          145000,
          90000,
          145000,
          159000,
          250000,
          69000,
          69000,
          90000,
          140000,
          169000,
          650000,
          155862,
          25000,
          180000,
          380000,
          350000,
          180000,
          213600,
          213600,
          102000,
          107000,
          78700,
          77900,
          78000,
          136400,
          107000,
          78700,
          255200,
          149000,
          300000,
          136400,
          85900,
          102000,
          107000,
          66000,
          310000,
          78700,
          188000,
          105000,
          175000,
          300000,
          590000,
          105000,
          78700,
          147000,
          330000,
          300000,
          255000,
          136400,
          200000,
          445000,
          175000,
          138000,
          160000,
          175000,
          175000,
          98000,
          300000,
          55000,
          550000,
          242000,
          79000,
          235000,
          200000,
          677775,
          750000,
          750000,
          700000,
          129000,
          116000,
          93000,
          123000,
          113000,
          185000,
          79000,
          124000,
          250000,
          180000,
          228000,
          209685,
          320000,
          237000,
          211695,
          115000,
          70000,
          180000,
          280000,
          210000,
          329000,
          165000,
          115000,
          44000,
          118000,
          51000,
          225000,
          133000,
          78000,
          55000,
          129836,
          89000,
          175000,
          100000,
          126000,
          62000,
          108000,
          100000,
          68000,
          134000,
          209000,
          103000,
          140000,
          408720,
          155000,
          154000,
          187000,
          98000,
          110000,
          165000,
          99000,
          255000,
          160000,
          245000,
          90000,
          165000,
          165000,
          160500,
          450000,
          130000,
          108000,
          119000,
          107000,
          110000,
          112000,
          130000,
          95000,
          74900,
          74900,
          70400,
          78000,
          160000,
          419000,
          137000,
          143000,
          155000,
          350000,
          140000,
          250000,
          156000,
          180000,
          140000,
          135000,
          212400,
          179000,
          103000,
          172700,
          181000,
          330000,
          350000,
          185000,
          141910,
          125000,
          148900,
          155000,
          651378,
          145000,
          174000,
          165000,
          87000,
          228000,
          389000,
          320000,
          223000,
          315000,
          135000,
          120000,
          223000,
          115000,
          75000,
          151000,
          75000,
          159000,
          369308,
          385000,
          339675,
          115000,
          180000,
          419000,
          225000,
          285000,
          225000,
          240000,
          165000,
          77000,
          250000,
          139000,
          219000,
          128000,
          336000,
          234200,
          205900,
          203000,
          59000,
          309000,
          213591,
          142128,
          142128,
          156471,
          155379,
          155379,
          156471,
          233436,
          180000,
          140000,
          170000,
          39000,
          195200,
          226643,
          180080,
          350000,
          292204,
          218000,
          140000,
          199000,
          161667,
          126307,
          126592,
          160057,
          399000,
          147568,
          179857,
          144591,
          90510,
          90510,
          125000,
          230000,
          214000,
          180000,
          194000,
          200000,
          389000,
          297000,
          189000,
          350000,
          169855,
          264000,
          375000,
          288000,
          260000,
          287600,
          286990,
          284000,
          230000,
          385000,
          240576,
          175000,
          425000,
          310000,
          275000,
          130000,
          206400,
          97000,
          244000,
          180000,
          120000,
          160000,
          240000,
          150000,
          222000,
          255000,
          523913,
          198000,
          150000,
          176893,
          130091,
          168804,
          167463,
          131590,
          280000,
          89000,
          280000,
          167000,
          75000,
          410000,
          158000,
          110000,
          120000,
          129000,
          218400,
          103500,
          475725,
          180000,
          295000,
          221760,
          206897,
          200053,
          135000,
          270000,
          200000,
          622500,
          320000,
          800000,
          169000,
          259000,
          527000,
          239943,
          500000,
          66000,
          90000,
          252200,
          80000,
          82000,
          350000,
          350000,
          150000,
          370000,
          75000,
          130000,
          400000,
          346800,
          120000,
          198435,
          250000,
          475000,
          167560,
          150000,
          260000,
          260000,
          260000,
          350000,
          140000,
          189000,
          692000,
          391500,
          261000,
          107999,
          210000,
          350000,
          59900,
          290000,
          600000,
          450000,
          285660,
          205000,
          199000,
          144999,
          134000,
          144999,
          87000,
          173024,
          120000,
          480000,
          435000,
          719000,
          267000,
          125000,
          139000,
          290000,
          82000,
          125000,
          138000,
          145000,
          130000,
          87000,
          189000,
          157000,
          190000,
          248000,
          249000,
          219000,
          269000,
          150000,
          188000,
          1290000,
          240000,
          129000,
          80000,
          830000,
          105000,
          527000,
          159000,
          360000,
          360000,
          225000,
          350000,
          142000,
          350000,
          516000,
          120000,
          570000,
          149000,
          170000,
          137379,
          87819,
          161907,
          137379,
          161907,
          104901,
          350734,
          398474,
          493892,
          510180,
          389856,
          339675,
          420000,
          142000,
          135000,
          95000,
          200000,
          170000,
          250000,
          240000,
          375000,
          330000,
          205000,
          245000,
          145000,
          125000,
          130000,
          165000,
          100000,
          155000,
          105000,
          180000,
          166500,
          80000,
          725000,
          464000,
          225000,
          250000,
          320000,
          440000,
          250000,
          520000,
          299900,
          139900,
          260000,
          215000,
          245000,
          130000,
          176500,
          157000,
          310000,
          150000,
          130000,
          140000,
          350000,
          139000,
          240000,
          200000,
          89000,
          115000,
          160000,
          182000,
          385000,
          230000,
          390000,
          215000,
          130000,
          520000,
          195000,
          210000,
          249000,
          649000,
          80000,
          128700,
          128800,
          79000,
          115000,
          121000,
          450000,
          670000,
          179000,
          130000,
          299000,
          214000,
          200000,
          256500,
          216000,
          225000,
          290000,
          288000,
          397000,
          149000,
          372560,
          119000,
          69500,
          115000,
          95000,
          200000,
          380000,
          228000,
          290000,
          285000,
          215000,
          289000,
          208000,
          185000,
          120000,
          244000,
          343000,
          900000,
          175000,
          106000,
          275000,
          275000,
          164000,
          290000,
          157000,
          269000,
          470000,
          115000,
          410000,
          145000,
          180000,
          125000,
          349000,
          179000,
          145100,
          156000,
          420000,
          144000,
          279000,
          250000,
          288000,
          500000,
          300000,
          220000,
          199000,
          115000,
          250000,
          119000,
          95000,
          205000,
          349000,
          105000,
          155000,
          66000,
          198000,
          326000,
          99000,
          170000,
          330000,
          145000,
          225000,
          139900,
          319000,
          340000,
          247000,
          155000,
          155000,
          159000,
          180000,
          275000,
          270000,
          119500,
          239900,
          135000,
          345000,
          349000,
          121000,
          180000,
          119000,
          210000,
          79000,
          215000,
          150000,
          516000,
          230000,
          154000,
          180000,
          125000,
          135000,
          210000,
          150000,
          82000,
          138000,
          180000,
          189000,
          500000,
          205000,
          307000,
          350000,
          1265000,
          302000,
          235200,
          460000,
          209000,
          264000,
          84000,
          75000,
          152100,
          152450,
          95000,
          380000,
          350000,
          94000,
          170700,
          150000,
          175000,
          75000,
          215000,
          290000,
          259000,
          1200000,
          162000,
          380000,
          250000,
          250000,
          140000,
          112000,
          154000,
          259000,
          295000,
          218000,
          141750,
          299000,
          252000,
          255000,
          297000,
          950000,
          115000,
          261000,
          166000,
          44000,
          120000,
          310000,
          295000,
          230400,
          245702,
          186384,
          168900,
          100000,
          191372,
          49000,
          109000,
          154000,
          98000,
          590000,
          129172,
          138546,
          212000,
          260000,
          489250,
          118800,
          25000,
          114400,
          320000,
          920000,
          4860000,
          82000,
          196000,
          375000,
          419000,
          320000,
          200000,
          85000,
          145000,
          85000,
          85000,
          186530,
          163000,
          280000,
          149358,
          145000,
          367705,
          417755,
          956295,
          433872,
          1802464,
          227256,
          560763,
          800745,
          809908,
          93000,
          155000,
          68000,
          139500,
          139000,
          139000,
          285000,
          225000,
          126000,
          200000,
          50000,
          129000,
          224000,
          225000,
          155000,
          143000,
          125000,
          103000,
          218000,
          112000,
          421296,
          544509,
          356175,
          807484,
          520000,
          199000,
          250000,
          200000,
          199000,
          134400,
          130000,
          133000,
          80000,
          62000,
          150000,
          197000,
          140000,
          379000,
          275000,
          139000,
          157000,
          169000,
          120000,
          123000,
          167000,
          170000,
          75000,
          123000,
          140000,
          450000,
          70000,
          200000,
          285000,
          450000,
          299000,
          70000,
          125000,
          108000,
          160000,
          77000,
          88000,
          807484,
          398474,
          493892,
          350734,
          408720,
          433872,
          367705,
          517790,
          417755,
          1802464,
          389856,
          800745,
          544509,
          421296,
          560763,
          299000,
          299000,
          235000,
          108000,
          83000,
          115000,
          150000,
          206000,
          155000,
          93000,
          217000,
          170000,
          199000,
          146151,
          99900,
          189000,
          139990,
          203840,
          145000,
          140000,
          300000,
          229000,
          539048,
          165000,
          380000,
          240000,
          240000,
          310000,
          200000,
          120000,
          127000,
          165000,
          144000,
          185000,
          250000,
          192000,
          315000,
          138000,
          221000,
          280000,
          115000,
          53000,
          280000,
          122000,
          271000,
          155000,
          124000,
          183000,
          230000,
          205000,
          205000,
          189000,
          213000,
          135000,
          240000,
          170000,
          122000,
          307000,
          240000,
          79000,
          169000,
          160000,
          155000,
          580000,
          105000,
          163000,
          150000,
          257300,
          115000,
          337000,
          140000,
          270000,
          149000,
          149000,
          330000,
          140000,
          118700,
          299000,
          299000,
          239450,
          237525,
          220500,
          211350,
          220500,
          149125,
          211350,
          239450,
          125000,
          270000,
          136800,
          160000,
          120000,
          399000,
          163284,
          410000,
          140000,
          188730,
          118000,
          158000,
          237000,
          150000,
          370000,
          170000,
          130000,
          120000,
          220000,
          160000,
          330000,
          175000,
          399000,
          173575,
          114000,
          35800,
          137500,
          225000,
          48000,
          326000,
          330000,
          135000,
          120000,
          63000,
          320000,
          191000,
          159000,
          140206,
          180818,
          180818,
          167200,
          115000,
          388000,
          260000,
          147000,
          115500,
          70000,
          150000,
          310000,
          280000,
          200000,
          125000,
          650000,
          100000,
          555000,
          200000,
          200000,
          99000,
          480000,
          145000,
          160000,
          260000,
          205000,
          89000,
          96000,
          255000,
          115000,
          140000,
          300000,
          299000,
          140000,
          330000,
          344000,
          122000,
          118000,
          230000,
          147000,
          129000,
          169900,
          149900,
          149900,
          169900,
          148625,
          175000,
          70000,
          100000,
          99000,
          177000,
          167000,
          68000,
          150000,
          155500,
          185000,
          105000,
          260000,
          107000,
          380000,
          162773,
          150000,
          229000,
          229000,
          125000,
          220000,
          165000,
          125000,
          310000,
          152630,
          111590,
          119900,
          125000,
          349000,
          190000,
          180000,
          149000,
          380000,
          195000,
          190000,
          750000,
          490000,
          239000,
          180000,
          190000,
          160000,
          230400,
          340000,
          340000,
          155000,
          460000,
          500000,
          190000,
          148000,
          105000,
          107000,
          77500,
          156000,
          97000,
          500000,
          197000,
          425000,
          220500,
          990000,
          78000,
          130000,
          299000,
          590000,
          49900,
          266800,
          90000,
          990000,
          219000,
          135000,
          218000,
          90000,
          290000,
          380000,
          310000,
          270000,
          113540,
          169000,
          168861,
          990000,
          216000,
          189000,
          380000,
          98000,
          250000,
          170000,
          310000,
          129000,
          209058,
          150526,
          226023,
          212415,
          224613,
          123000,
          295000,
          250000,
          260000,
          73000,
          150000,
          155000,
          93000,
          125000,
          138546,
          119000,
          370000,
          95000,
          250000,
          499000,
          95500,
          177000,
          158700,
          285000,
          120000,
          45000,
          149900,
          125000,
          260000,
          240000,
          140000,
          283000,
          144000,
          175000,
          264000,
          187000,
          112000,
          145500,
          460000,
          155000,
          180000,
          105000,
          273000,
          237000,
          78000,
          199900,
          270000,
          500000,
          150000,
          133000,
          172800,
          157500,
          294000,
          275000,
          170000,
          285000,
          135751,
          168861,
          135751,
          135751,
          160000,
          350000,
          375000,
          210000,
          130000,
          134000,
          134000,
          292204,
          180000,
          128000,
          185000,
          140000,
          66000,
          29900,
          160000,
          179500,
          180000,
          320000,
          180000,
          343400,
          352800,
          160000,
          195000,
          110000,
          125000,
          181500,
          154350,
          115000,
          240000,
          155000,
          80000,
          125000,
          270000,
          115000,
          250000,
          99000,
          85000,
          120000,
          161250,
          83000,
          159000,
          120000,
          163200,
          330000,
          99000,
          59000,
          449000,
          121500,
          95000,
          206896,
          213708,
          199980,
          155000,
          185000,
          151000,
          220000,
          140000,
          105000
         ],
         "xaxis": "x",
         "yaxis": "y"
        }
       ],
       "layout": {
        "barmode": "relative",
        "legend": {
         "tracegroupgap": 0
        },
        "margin": {
         "t": 60
        },
        "template": {
         "data": {
          "bar": [
           {
            "error_x": {
             "color": "#2a3f5f"
            },
            "error_y": {
             "color": "#2a3f5f"
            },
            "marker": {
             "line": {
              "color": "#E5ECF6",
              "width": 0.5
             },
             "pattern": {
              "fillmode": "overlay",
              "size": 10,
              "solidity": 0.2
             }
            },
            "type": "bar"
           }
          ],
          "barpolar": [
           {
            "marker": {
             "line": {
              "color": "#E5ECF6",
              "width": 0.5
             },
             "pattern": {
              "fillmode": "overlay",
              "size": 10,
              "solidity": 0.2
             }
            },
            "type": "barpolar"
           }
          ],
          "carpet": [
           {
            "aaxis": {
             "endlinecolor": "#2a3f5f",
             "gridcolor": "white",
             "linecolor": "white",
             "minorgridcolor": "white",
             "startlinecolor": "#2a3f5f"
            },
            "baxis": {
             "endlinecolor": "#2a3f5f",
             "gridcolor": "white",
             "linecolor": "white",
             "minorgridcolor": "white",
             "startlinecolor": "#2a3f5f"
            },
            "type": "carpet"
           }
          ],
          "choropleth": [
           {
            "colorbar": {
             "outlinewidth": 0,
             "ticks": ""
            },
            "type": "choropleth"
           }
          ],
          "contour": [
           {
            "colorbar": {
             "outlinewidth": 0,
             "ticks": ""
            },
            "colorscale": [
             [
              0,
              "#0d0887"
             ],
             [
              0.1111111111111111,
              "#46039f"
             ],
             [
              0.2222222222222222,
              "#7201a8"
             ],
             [
              0.3333333333333333,
              "#9c179e"
             ],
             [
              0.4444444444444444,
              "#bd3786"
             ],
             [
              0.5555555555555556,
              "#d8576b"
             ],
             [
              0.6666666666666666,
              "#ed7953"
             ],
             [
              0.7777777777777778,
              "#fb9f3a"
             ],
             [
              0.8888888888888888,
              "#fdca26"
             ],
             [
              1,
              "#f0f921"
             ]
            ],
            "type": "contour"
           }
          ],
          "contourcarpet": [
           {
            "colorbar": {
             "outlinewidth": 0,
             "ticks": ""
            },
            "type": "contourcarpet"
           }
          ],
          "heatmap": [
           {
            "colorbar": {
             "outlinewidth": 0,
             "ticks": ""
            },
            "colorscale": [
             [
              0,
              "#0d0887"
             ],
             [
              0.1111111111111111,
              "#46039f"
             ],
             [
              0.2222222222222222,
              "#7201a8"
             ],
             [
              0.3333333333333333,
              "#9c179e"
             ],
             [
              0.4444444444444444,
              "#bd3786"
             ],
             [
              0.5555555555555556,
              "#d8576b"
             ],
             [
              0.6666666666666666,
              "#ed7953"
             ],
             [
              0.7777777777777778,
              "#fb9f3a"
             ],
             [
              0.8888888888888888,
              "#fdca26"
             ],
             [
              1,
              "#f0f921"
             ]
            ],
            "type": "heatmap"
           }
          ],
          "heatmapgl": [
           {
            "colorbar": {
             "outlinewidth": 0,
             "ticks": ""
            },
            "colorscale": [
             [
              0,
              "#0d0887"
             ],
             [
              0.1111111111111111,
              "#46039f"
             ],
             [
              0.2222222222222222,
              "#7201a8"
             ],
             [
              0.3333333333333333,
              "#9c179e"
             ],
             [
              0.4444444444444444,
              "#bd3786"
             ],
             [
              0.5555555555555556,
              "#d8576b"
             ],
             [
              0.6666666666666666,
              "#ed7953"
             ],
             [
              0.7777777777777778,
              "#fb9f3a"
             ],
             [
              0.8888888888888888,
              "#fdca26"
             ],
             [
              1,
              "#f0f921"
             ]
            ],
            "type": "heatmapgl"
           }
          ],
          "histogram": [
           {
            "marker": {
             "pattern": {
              "fillmode": "overlay",
              "size": 10,
              "solidity": 0.2
             }
            },
            "type": "histogram"
           }
          ],
          "histogram2d": [
           {
            "colorbar": {
             "outlinewidth": 0,
             "ticks": ""
            },
            "colorscale": [
             [
              0,
              "#0d0887"
             ],
             [
              0.1111111111111111,
              "#46039f"
             ],
             [
              0.2222222222222222,
              "#7201a8"
             ],
             [
              0.3333333333333333,
              "#9c179e"
             ],
             [
              0.4444444444444444,
              "#bd3786"
             ],
             [
              0.5555555555555556,
              "#d8576b"
             ],
             [
              0.6666666666666666,
              "#ed7953"
             ],
             [
              0.7777777777777778,
              "#fb9f3a"
             ],
             [
              0.8888888888888888,
              "#fdca26"
             ],
             [
              1,
              "#f0f921"
             ]
            ],
            "type": "histogram2d"
           }
          ],
          "histogram2dcontour": [
           {
            "colorbar": {
             "outlinewidth": 0,
             "ticks": ""
            },
            "colorscale": [
             [
              0,
              "#0d0887"
             ],
             [
              0.1111111111111111,
              "#46039f"
             ],
             [
              0.2222222222222222,
              "#7201a8"
             ],
             [
              0.3333333333333333,
              "#9c179e"
             ],
             [
              0.4444444444444444,
              "#bd3786"
             ],
             [
              0.5555555555555556,
              "#d8576b"
             ],
             [
              0.6666666666666666,
              "#ed7953"
             ],
             [
              0.7777777777777778,
              "#fb9f3a"
             ],
             [
              0.8888888888888888,
              "#fdca26"
             ],
             [
              1,
              "#f0f921"
             ]
            ],
            "type": "histogram2dcontour"
           }
          ],
          "mesh3d": [
           {
            "colorbar": {
             "outlinewidth": 0,
             "ticks": ""
            },
            "type": "mesh3d"
           }
          ],
          "parcoords": [
           {
            "line": {
             "colorbar": {
              "outlinewidth": 0,
              "ticks": ""
             }
            },
            "type": "parcoords"
           }
          ],
          "pie": [
           {
            "automargin": true,
            "type": "pie"
           }
          ],
          "scatter": [
           {
            "marker": {
             "colorbar": {
              "outlinewidth": 0,
              "ticks": ""
             }
            },
            "type": "scatter"
           }
          ],
          "scatter3d": [
           {
            "line": {
             "colorbar": {
              "outlinewidth": 0,
              "ticks": ""
             }
            },
            "marker": {
             "colorbar": {
              "outlinewidth": 0,
              "ticks": ""
             }
            },
            "type": "scatter3d"
           }
          ],
          "scattercarpet": [
           {
            "marker": {
             "colorbar": {
              "outlinewidth": 0,
              "ticks": ""
             }
            },
            "type": "scattercarpet"
           }
          ],
          "scattergeo": [
           {
            "marker": {
             "colorbar": {
              "outlinewidth": 0,
              "ticks": ""
             }
            },
            "type": "scattergeo"
           }
          ],
          "scattergl": [
           {
            "marker": {
             "colorbar": {
              "outlinewidth": 0,
              "ticks": ""
             }
            },
            "type": "scattergl"
           }
          ],
          "scattermapbox": [
           {
            "marker": {
             "colorbar": {
              "outlinewidth": 0,
              "ticks": ""
             }
            },
            "type": "scattermapbox"
           }
          ],
          "scatterpolar": [
           {
            "marker": {
             "colorbar": {
              "outlinewidth": 0,
              "ticks": ""
             }
            },
            "type": "scatterpolar"
           }
          ],
          "scatterpolargl": [
           {
            "marker": {
             "colorbar": {
              "outlinewidth": 0,
              "ticks": ""
             }
            },
            "type": "scatterpolargl"
           }
          ],
          "scatterternary": [
           {
            "marker": {
             "colorbar": {
              "outlinewidth": 0,
              "ticks": ""
             }
            },
            "type": "scatterternary"
           }
          ],
          "surface": [
           {
            "colorbar": {
             "outlinewidth": 0,
             "ticks": ""
            },
            "colorscale": [
             [
              0,
              "#0d0887"
             ],
             [
              0.1111111111111111,
              "#46039f"
             ],
             [
              0.2222222222222222,
              "#7201a8"
             ],
             [
              0.3333333333333333,
              "#9c179e"
             ],
             [
              0.4444444444444444,
              "#bd3786"
             ],
             [
              0.5555555555555556,
              "#d8576b"
             ],
             [
              0.6666666666666666,
              "#ed7953"
             ],
             [
              0.7777777777777778,
              "#fb9f3a"
             ],
             [
              0.8888888888888888,
              "#fdca26"
             ],
             [
              1,
              "#f0f921"
             ]
            ],
            "type": "surface"
           }
          ],
          "table": [
           {
            "cells": {
             "fill": {
              "color": "#EBF0F8"
             },
             "line": {
              "color": "white"
             }
            },
            "header": {
             "fill": {
              "color": "#C8D4E3"
             },
             "line": {
              "color": "white"
             }
            },
            "type": "table"
           }
          ]
         },
         "layout": {
          "annotationdefaults": {
           "arrowcolor": "#2a3f5f",
           "arrowhead": 0,
           "arrowwidth": 1
          },
          "autotypenumbers": "strict",
          "coloraxis": {
           "colorbar": {
            "outlinewidth": 0,
            "ticks": ""
           }
          },
          "colorscale": {
           "diverging": [
            [
             0,
             "#8e0152"
            ],
            [
             0.1,
             "#c51b7d"
            ],
            [
             0.2,
             "#de77ae"
            ],
            [
             0.3,
             "#f1b6da"
            ],
            [
             0.4,
             "#fde0ef"
            ],
            [
             0.5,
             "#f7f7f7"
            ],
            [
             0.6,
             "#e6f5d0"
            ],
            [
             0.7,
             "#b8e186"
            ],
            [
             0.8,
             "#7fbc41"
            ],
            [
             0.9,
             "#4d9221"
            ],
            [
             1,
             "#276419"
            ]
           ],
           "sequential": [
            [
             0,
             "#0d0887"
            ],
            [
             0.1111111111111111,
             "#46039f"
            ],
            [
             0.2222222222222222,
             "#7201a8"
            ],
            [
             0.3333333333333333,
             "#9c179e"
            ],
            [
             0.4444444444444444,
             "#bd3786"
            ],
            [
             0.5555555555555556,
             "#d8576b"
            ],
            [
             0.6666666666666666,
             "#ed7953"
            ],
            [
             0.7777777777777778,
             "#fb9f3a"
            ],
            [
             0.8888888888888888,
             "#fdca26"
            ],
            [
             1,
             "#f0f921"
            ]
           ],
           "sequentialminus": [
            [
             0,
             "#0d0887"
            ],
            [
             0.1111111111111111,
             "#46039f"
            ],
            [
             0.2222222222222222,
             "#7201a8"
            ],
            [
             0.3333333333333333,
             "#9c179e"
            ],
            [
             0.4444444444444444,
             "#bd3786"
            ],
            [
             0.5555555555555556,
             "#d8576b"
            ],
            [
             0.6666666666666666,
             "#ed7953"
            ],
            [
             0.7777777777777778,
             "#fb9f3a"
            ],
            [
             0.8888888888888888,
             "#fdca26"
            ],
            [
             1,
             "#f0f921"
            ]
           ]
          },
          "colorway": [
           "#636efa",
           "#EF553B",
           "#00cc96",
           "#ab63fa",
           "#FFA15A",
           "#19d3f3",
           "#FF6692",
           "#B6E880",
           "#FF97FF",
           "#FECB52"
          ],
          "font": {
           "color": "#2a3f5f"
          },
          "geo": {
           "bgcolor": "white",
           "lakecolor": "white",
           "landcolor": "#E5ECF6",
           "showlakes": true,
           "showland": true,
           "subunitcolor": "white"
          },
          "hoverlabel": {
           "align": "left"
          },
          "hovermode": "closest",
          "mapbox": {
           "style": "light"
          },
          "paper_bgcolor": "white",
          "plot_bgcolor": "#E5ECF6",
          "polar": {
           "angularaxis": {
            "gridcolor": "white",
            "linecolor": "white",
            "ticks": ""
           },
           "bgcolor": "#E5ECF6",
           "radialaxis": {
            "gridcolor": "white",
            "linecolor": "white",
            "ticks": ""
           }
          },
          "scene": {
           "xaxis": {
            "backgroundcolor": "#E5ECF6",
            "gridcolor": "white",
            "gridwidth": 2,
            "linecolor": "white",
            "showbackground": true,
            "ticks": "",
            "zerolinecolor": "white"
           },
           "yaxis": {
            "backgroundcolor": "#E5ECF6",
            "gridcolor": "white",
            "gridwidth": 2,
            "linecolor": "white",
            "showbackground": true,
            "ticks": "",
            "zerolinecolor": "white"
           },
           "zaxis": {
            "backgroundcolor": "#E5ECF6",
            "gridcolor": "white",
            "gridwidth": 2,
            "linecolor": "white",
            "showbackground": true,
            "ticks": "",
            "zerolinecolor": "white"
           }
          },
          "shapedefaults": {
           "line": {
            "color": "#2a3f5f"
           }
          },
          "ternary": {
           "aaxis": {
            "gridcolor": "white",
            "linecolor": "white",
            "ticks": ""
           },
           "baxis": {
            "gridcolor": "white",
            "linecolor": "white",
            "ticks": ""
           },
           "bgcolor": "#E5ECF6",
           "caxis": {
            "gridcolor": "white",
            "linecolor": "white",
            "ticks": ""
           }
          },
          "title": {
           "x": 0.05
          },
          "xaxis": {
           "automargin": true,
           "gridcolor": "white",
           "linecolor": "white",
           "ticks": "",
           "title": {
            "standoff": 15
           },
           "zerolinecolor": "white",
           "zerolinewidth": 2
          },
          "yaxis": {
           "automargin": true,
           "gridcolor": "white",
           "linecolor": "white",
           "ticks": "",
           "title": {
            "standoff": 15
           },
           "zerolinecolor": "white",
           "zerolinewidth": 2
          }
         }
        },
        "xaxis": {
         "anchor": "y",
         "domain": [
          0,
          1
         ],
         "title": {
          "text": "Cijena"
         }
        },
        "yaxis": {
         "anchor": "x",
         "domain": [
          0,
          1
         ],
         "title": {
          "text": "count"
         }
        }
       }
      }
     },
     "metadata": {},
     "output_type": "display_data"
    }
   ],
   "source": [
    "fig = px.histogram(df, x=\"Cijena\")\n",
    "fig"
   ]
  },
  {
   "cell_type": "code",
   "execution_count": 2,
   "metadata": {},
   "outputs": [
    {
     "data": {
      "text/html": [
       "<div>\n",
       "<style scoped>\n",
       "    .dataframe tbody tr th:only-of-type {\n",
       "        vertical-align: middle;\n",
       "    }\n",
       "\n",
       "    .dataframe tbody tr th {\n",
       "        vertical-align: top;\n",
       "    }\n",
       "\n",
       "    .dataframe thead th {\n",
       "        text-align: right;\n",
       "    }\n",
       "</style>\n",
       "<table border=\"1\" class=\"dataframe\">\n",
       "  <thead>\n",
       "    <tr style=\"text-align: right;\">\n",
       "      <th></th>\n",
       "      <th>Unnamed: 0</th>\n",
       "      <th>city</th>\n",
       "      <th>calendar_week</th>\n",
       "      <th>raw_entries</th>\n",
       "      <th>clean_entries</th>\n",
       "      <th>avg_price_sqrm</th>\n",
       "      <th>avg_size</th>\n",
       "      <th>avg_year</th>\n",
       "    </tr>\n",
       "  </thead>\n",
       "  <tbody>\n",
       "    <tr>\n",
       "      <th>0</th>\n",
       "      <td>0</td>\n",
       "      <td>Rovinj</td>\n",
       "      <td>30</td>\n",
       "      <td>544</td>\n",
       "      <td>337</td>\n",
       "      <td>4279</td>\n",
       "      <td>91</td>\n",
       "      <td>1900</td>\n",
       "    </tr>\n",
       "    <tr>\n",
       "      <th>1</th>\n",
       "      <td>1</td>\n",
       "      <td>Zagreb</td>\n",
       "      <td>30</td>\n",
       "      <td>5836</td>\n",
       "      <td>4122</td>\n",
       "      <td>2616</td>\n",
       "      <td>92</td>\n",
       "      <td>2022</td>\n",
       "    </tr>\n",
       "    <tr>\n",
       "      <th>2</th>\n",
       "      <td>2</td>\n",
       "      <td>Varazdin</td>\n",
       "      <td>31</td>\n",
       "      <td>100</td>\n",
       "      <td>54</td>\n",
       "      <td>1735</td>\n",
       "      <td>66</td>\n",
       "      <td>1968</td>\n",
       "    </tr>\n",
       "    <tr>\n",
       "      <th>3</th>\n",
       "      <td>3</td>\n",
       "      <td>Varazdin</td>\n",
       "      <td>32</td>\n",
       "      <td>100</td>\n",
       "      <td>56</td>\n",
       "      <td>1740</td>\n",
       "      <td>67</td>\n",
       "      <td>1968</td>\n",
       "    </tr>\n",
       "    <tr>\n",
       "      <th>4</th>\n",
       "      <td>4</td>\n",
       "      <td>Zagreb</td>\n",
       "      <td>32</td>\n",
       "      <td>5966</td>\n",
       "      <td>4138</td>\n",
       "      <td>2635</td>\n",
       "      <td>92</td>\n",
       "      <td>2022</td>\n",
       "    </tr>\n",
       "    <tr>\n",
       "      <th>5</th>\n",
       "      <td>5</td>\n",
       "      <td>Varazdin</td>\n",
       "      <td>32</td>\n",
       "      <td>100</td>\n",
       "      <td>53</td>\n",
       "      <td>1737</td>\n",
       "      <td>67</td>\n",
       "      <td>1968</td>\n",
       "    </tr>\n",
       "    <tr>\n",
       "      <th>6</th>\n",
       "      <td>6</td>\n",
       "      <td>Rijeka</td>\n",
       "      <td>33</td>\n",
       "      <td>1779</td>\n",
       "      <td>1319</td>\n",
       "      <td>1996</td>\n",
       "      <td>92</td>\n",
       "      <td>2020</td>\n",
       "    </tr>\n",
       "    <tr>\n",
       "      <th>7</th>\n",
       "      <td>7</td>\n",
       "      <td>Rovinj</td>\n",
       "      <td>33</td>\n",
       "      <td>569</td>\n",
       "      <td>337</td>\n",
       "      <td>4240</td>\n",
       "      <td>94</td>\n",
       "      <td>1900</td>\n",
       "    </tr>\n",
       "    <tr>\n",
       "      <th>8</th>\n",
       "      <td>8</td>\n",
       "      <td>Split</td>\n",
       "      <td>33</td>\n",
       "      <td>656</td>\n",
       "      <td>570</td>\n",
       "      <td>3616</td>\n",
       "      <td>85</td>\n",
       "      <td>2000</td>\n",
       "    </tr>\n",
       "    <tr>\n",
       "      <th>9</th>\n",
       "      <td>9</td>\n",
       "      <td>Varazdin</td>\n",
       "      <td>33</td>\n",
       "      <td>100</td>\n",
       "      <td>51</td>\n",
       "      <td>1813</td>\n",
       "      <td>77</td>\n",
       "      <td>2023</td>\n",
       "    </tr>\n",
       "    <tr>\n",
       "      <th>10</th>\n",
       "      <td>10</td>\n",
       "      <td>Zagreb</td>\n",
       "      <td>33</td>\n",
       "      <td>2317</td>\n",
       "      <td>1617</td>\n",
       "      <td>2651</td>\n",
       "      <td>92</td>\n",
       "      <td>2022</td>\n",
       "    </tr>\n",
       "    <tr>\n",
       "      <th>11</th>\n",
       "      <td>11</td>\n",
       "      <td>Rovinj</td>\n",
       "      <td>34</td>\n",
       "      <td>572</td>\n",
       "      <td>329</td>\n",
       "      <td>4240</td>\n",
       "      <td>94</td>\n",
       "      <td>1900</td>\n",
       "    </tr>\n",
       "    <tr>\n",
       "      <th>12</th>\n",
       "      <td>12</td>\n",
       "      <td>Split</td>\n",
       "      <td>34</td>\n",
       "      <td>661</td>\n",
       "      <td>570</td>\n",
       "      <td>3647</td>\n",
       "      <td>85</td>\n",
       "      <td>2000</td>\n",
       "    </tr>\n",
       "    <tr>\n",
       "      <th>13</th>\n",
       "      <td>13</td>\n",
       "      <td>Varazdin</td>\n",
       "      <td>34</td>\n",
       "      <td>100</td>\n",
       "      <td>51</td>\n",
       "      <td>1816</td>\n",
       "      <td>77</td>\n",
       "      <td>2023</td>\n",
       "    </tr>\n",
       "    <tr>\n",
       "      <th>14</th>\n",
       "      <td>14</td>\n",
       "      <td>Zagreb</td>\n",
       "      <td>34</td>\n",
       "      <td>5939</td>\n",
       "      <td>4082</td>\n",
       "      <td>2660</td>\n",
       "      <td>92</td>\n",
       "      <td>2022</td>\n",
       "    </tr>\n",
       "    <tr>\n",
       "      <th>15</th>\n",
       "      <td>15</td>\n",
       "      <td>Rovinj</td>\n",
       "      <td>35</td>\n",
       "      <td>562</td>\n",
       "      <td>325</td>\n",
       "      <td>4275</td>\n",
       "      <td>94</td>\n",
       "      <td>1900</td>\n",
       "    </tr>\n",
       "    <tr>\n",
       "      <th>16</th>\n",
       "      <td>16</td>\n",
       "      <td>Varazdin</td>\n",
       "      <td>35</td>\n",
       "      <td>100</td>\n",
       "      <td>53</td>\n",
       "      <td>1799</td>\n",
       "      <td>76</td>\n",
       "      <td>2023</td>\n",
       "    </tr>\n",
       "    <tr>\n",
       "      <th>17</th>\n",
       "      <td>17</td>\n",
       "      <td>Rijeka</td>\n",
       "      <td>35</td>\n",
       "      <td>5151</td>\n",
       "      <td>3732</td>\n",
       "      <td>2002</td>\n",
       "      <td>92</td>\n",
       "      <td>2020</td>\n",
       "    </tr>\n",
       "    <tr>\n",
       "      <th>18</th>\n",
       "      <td>18</td>\n",
       "      <td>Rovinj</td>\n",
       "      <td>35</td>\n",
       "      <td>565</td>\n",
       "      <td>322</td>\n",
       "      <td>4276</td>\n",
       "      <td>94</td>\n",
       "      <td>1900</td>\n",
       "    </tr>\n",
       "    <tr>\n",
       "      <th>19</th>\n",
       "      <td>19</td>\n",
       "      <td>Split</td>\n",
       "      <td>35</td>\n",
       "      <td>630</td>\n",
       "      <td>550</td>\n",
       "      <td>3678</td>\n",
       "      <td>85</td>\n",
       "      <td>2000</td>\n",
       "    </tr>\n",
       "    <tr>\n",
       "      <th>20</th>\n",
       "      <td>20</td>\n",
       "      <td>Varazdin</td>\n",
       "      <td>35</td>\n",
       "      <td>100</td>\n",
       "      <td>50</td>\n",
       "      <td>1816</td>\n",
       "      <td>78</td>\n",
       "      <td>2023</td>\n",
       "    </tr>\n",
       "    <tr>\n",
       "      <th>21</th>\n",
       "      <td>21</td>\n",
       "      <td>Rijeka</td>\n",
       "      <td>36</td>\n",
       "      <td>5127</td>\n",
       "      <td>3666</td>\n",
       "      <td>2008</td>\n",
       "      <td>92</td>\n",
       "      <td>2020</td>\n",
       "    </tr>\n",
       "    <tr>\n",
       "      <th>22</th>\n",
       "      <td>22</td>\n",
       "      <td>Split</td>\n",
       "      <td>36</td>\n",
       "      <td>616</td>\n",
       "      <td>532</td>\n",
       "      <td>3684</td>\n",
       "      <td>86</td>\n",
       "      <td>2000</td>\n",
       "    </tr>\n",
       "    <tr>\n",
       "      <th>23</th>\n",
       "      <td>23</td>\n",
       "      <td>Varazdin</td>\n",
       "      <td>36</td>\n",
       "      <td>100</td>\n",
       "      <td>56</td>\n",
       "      <td>1876</td>\n",
       "      <td>79</td>\n",
       "      <td>2022</td>\n",
       "    </tr>\n",
       "    <tr>\n",
       "      <th>24</th>\n",
       "      <td>24</td>\n",
       "      <td>Zagreb</td>\n",
       "      <td>36</td>\n",
       "      <td>5915</td>\n",
       "      <td>3940</td>\n",
       "      <td>2681</td>\n",
       "      <td>92</td>\n",
       "      <td>2022</td>\n",
       "    </tr>\n",
       "    <tr>\n",
       "      <th>25</th>\n",
       "      <td>25</td>\n",
       "      <td>Rovinj</td>\n",
       "      <td>36</td>\n",
       "      <td>427</td>\n",
       "      <td>234</td>\n",
       "      <td>4393</td>\n",
       "      <td>92</td>\n",
       "      <td>1900</td>\n",
       "    </tr>\n",
       "    <tr>\n",
       "      <th>26</th>\n",
       "      <td>26</td>\n",
       "      <td>Varazdin</td>\n",
       "      <td>37</td>\n",
       "      <td>100</td>\n",
       "      <td>52</td>\n",
       "      <td>1773</td>\n",
       "      <td>79</td>\n",
       "      <td>2022</td>\n",
       "    </tr>\n",
       "    <tr>\n",
       "      <th>27</th>\n",
       "      <td>27</td>\n",
       "      <td>Split</td>\n",
       "      <td>37</td>\n",
       "      <td>608</td>\n",
       "      <td>524</td>\n",
       "      <td>3696</td>\n",
       "      <td>86</td>\n",
       "      <td>2000</td>\n",
       "    </tr>\n",
       "    <tr>\n",
       "      <th>28</th>\n",
       "      <td>28</td>\n",
       "      <td>Rovinj</td>\n",
       "      <td>37</td>\n",
       "      <td>571</td>\n",
       "      <td>319</td>\n",
       "      <td>4315</td>\n",
       "      <td>94</td>\n",
       "      <td>1900</td>\n",
       "    </tr>\n",
       "    <tr>\n",
       "      <th>29</th>\n",
       "      <td>29</td>\n",
       "      <td>Rijeka</td>\n",
       "      <td>37</td>\n",
       "      <td>5054</td>\n",
       "      <td>3569</td>\n",
       "      <td>2017</td>\n",
       "      <td>92</td>\n",
       "      <td>2020</td>\n",
       "    </tr>\n",
       "    <tr>\n",
       "      <th>30</th>\n",
       "      <td>30</td>\n",
       "      <td>Zagreb</td>\n",
       "      <td>37</td>\n",
       "      <td>5977</td>\n",
       "      <td>3930</td>\n",
       "      <td>2688</td>\n",
       "      <td>92</td>\n",
       "      <td>2022</td>\n",
       "    </tr>\n",
       "    <tr>\n",
       "      <th>31</th>\n",
       "      <td>31</td>\n",
       "      <td>Varazdin</td>\n",
       "      <td>38</td>\n",
       "      <td>100</td>\n",
       "      <td>57</td>\n",
       "      <td>2167</td>\n",
       "      <td>89</td>\n",
       "      <td>2023</td>\n",
       "    </tr>\n",
       "    <tr>\n",
       "      <th>32</th>\n",
       "      <td>32</td>\n",
       "      <td>Rovinj</td>\n",
       "      <td>38</td>\n",
       "      <td>570</td>\n",
       "      <td>310</td>\n",
       "      <td>4351</td>\n",
       "      <td>94</td>\n",
       "      <td>1900</td>\n",
       "    </tr>\n",
       "    <tr>\n",
       "      <th>33</th>\n",
       "      <td>33</td>\n",
       "      <td>Varazdin</td>\n",
       "      <td>39</td>\n",
       "      <td>100</td>\n",
       "      <td>53</td>\n",
       "      <td>2099</td>\n",
       "      <td>84</td>\n",
       "      <td>1965</td>\n",
       "    </tr>\n",
       "    <tr>\n",
       "      <th>34</th>\n",
       "      <td>34</td>\n",
       "      <td>Split</td>\n",
       "      <td>39</td>\n",
       "      <td>582</td>\n",
       "      <td>498</td>\n",
       "      <td>3684</td>\n",
       "      <td>86</td>\n",
       "      <td>2000</td>\n",
       "    </tr>\n",
       "    <tr>\n",
       "      <th>35</th>\n",
       "      <td>35</td>\n",
       "      <td>Rovinj</td>\n",
       "      <td>39</td>\n",
       "      <td>555</td>\n",
       "      <td>299</td>\n",
       "      <td>4370</td>\n",
       "      <td>95</td>\n",
       "      <td>2023</td>\n",
       "    </tr>\n",
       "  </tbody>\n",
       "</table>\n",
       "</div>"
      ],
      "text/plain": [
       "    Unnamed: 0      city  calendar_week  raw_entries  clean_entries  \\\n",
       "0            0    Rovinj             30          544            337   \n",
       "1            1    Zagreb             30         5836           4122   \n",
       "2            2  Varazdin             31          100             54   \n",
       "3            3  Varazdin             32          100             56   \n",
       "4            4    Zagreb             32         5966           4138   \n",
       "5            5  Varazdin             32          100             53   \n",
       "6            6    Rijeka             33         1779           1319   \n",
       "7            7    Rovinj             33          569            337   \n",
       "8            8     Split             33          656            570   \n",
       "9            9  Varazdin             33          100             51   \n",
       "10          10    Zagreb             33         2317           1617   \n",
       "11          11    Rovinj             34          572            329   \n",
       "12          12     Split             34          661            570   \n",
       "13          13  Varazdin             34          100             51   \n",
       "14          14    Zagreb             34         5939           4082   \n",
       "15          15    Rovinj             35          562            325   \n",
       "16          16  Varazdin             35          100             53   \n",
       "17          17    Rijeka             35         5151           3732   \n",
       "18          18    Rovinj             35          565            322   \n",
       "19          19     Split             35          630            550   \n",
       "20          20  Varazdin             35          100             50   \n",
       "21          21    Rijeka             36         5127           3666   \n",
       "22          22     Split             36          616            532   \n",
       "23          23  Varazdin             36          100             56   \n",
       "24          24    Zagreb             36         5915           3940   \n",
       "25          25    Rovinj             36          427            234   \n",
       "26          26  Varazdin             37          100             52   \n",
       "27          27     Split             37          608            524   \n",
       "28          28    Rovinj             37          571            319   \n",
       "29          29    Rijeka             37         5054           3569   \n",
       "30          30    Zagreb             37         5977           3930   \n",
       "31          31  Varazdin             38          100             57   \n",
       "32          32    Rovinj             38          570            310   \n",
       "33          33  Varazdin             39          100             53   \n",
       "34          34     Split             39          582            498   \n",
       "35          35    Rovinj             39          555            299   \n",
       "\n",
       "    avg_price_sqrm  avg_size  avg_year  \n",
       "0             4279        91      1900  \n",
       "1             2616        92      2022  \n",
       "2             1735        66      1968  \n",
       "3             1740        67      1968  \n",
       "4             2635        92      2022  \n",
       "5             1737        67      1968  \n",
       "6             1996        92      2020  \n",
       "7             4240        94      1900  \n",
       "8             3616        85      2000  \n",
       "9             1813        77      2023  \n",
       "10            2651        92      2022  \n",
       "11            4240        94      1900  \n",
       "12            3647        85      2000  \n",
       "13            1816        77      2023  \n",
       "14            2660        92      2022  \n",
       "15            4275        94      1900  \n",
       "16            1799        76      2023  \n",
       "17            2002        92      2020  \n",
       "18            4276        94      1900  \n",
       "19            3678        85      2000  \n",
       "20            1816        78      2023  \n",
       "21            2008        92      2020  \n",
       "22            3684        86      2000  \n",
       "23            1876        79      2022  \n",
       "24            2681        92      2022  \n",
       "25            4393        92      1900  \n",
       "26            1773        79      2022  \n",
       "27            3696        86      2000  \n",
       "28            4315        94      1900  \n",
       "29            2017        92      2020  \n",
       "30            2688        92      2022  \n",
       "31            2167        89      2023  \n",
       "32            4351        94      1900  \n",
       "33            2099        84      1965  \n",
       "34            3684        86      2000  \n",
       "35            4370        95      2023  "
      ]
     },
     "execution_count": 2,
     "metadata": {},
     "output_type": "execute_result"
    }
   ],
   "source": [
    "df = pd.read_excel(\"Django_Objects.xlsx\")\n",
    "df"
   ]
  },
  {
   "cell_type": "code",
   "execution_count": null,
   "metadata": {},
   "outputs": [],
   "source": [
    "fig = px.line(df, x=\"calendar_week\", y=\"avg_price_sqrm\", color = 'city', markers=True, height=600)\n",
    "fig"
   ]
  },
  {
   "cell_type": "code",
   "execution_count": null,
   "metadata": {},
   "outputs": [],
   "source": []
  },
  {
   "cell_type": "code",
   "execution_count": 5,
   "metadata": {},
   "outputs": [
    {
     "data": {
      "application/vnd.plotly.v1+json": {
       "config": {
        "plotlyServerURL": "https://plot.ly"
       },
       "data": [
        {
         "hovertemplate": "city=Rovinj<br>calendar_week=%{x}<br>avg_size=%{y}<extra></extra>",
         "legendgroup": "Rovinj",
         "line": {
          "color": "#636efa",
          "dash": "solid"
         },
         "marker": {
          "symbol": "circle"
         },
         "mode": "lines+markers",
         "name": "Rovinj",
         "orientation": "v",
         "showlegend": true,
         "type": "scatter",
         "x": [
          30,
          33,
          34,
          35,
          35,
          36,
          37,
          38,
          39
         ],
         "xaxis": "x",
         "y": [
          91,
          94,
          94,
          94,
          94,
          92,
          94,
          94,
          95
         ],
         "yaxis": "y"
        },
        {
         "hovertemplate": "city=Zagreb<br>calendar_week=%{x}<br>avg_size=%{y}<extra></extra>",
         "legendgroup": "Zagreb",
         "line": {
          "color": "#EF553B",
          "dash": "solid"
         },
         "marker": {
          "symbol": "circle"
         },
         "mode": "lines+markers",
         "name": "Zagreb",
         "orientation": "v",
         "showlegend": true,
         "type": "scatter",
         "x": [
          30,
          32,
          33,
          34,
          36,
          37
         ],
         "xaxis": "x",
         "y": [
          92,
          92,
          92,
          92,
          92,
          92
         ],
         "yaxis": "y"
        },
        {
         "hovertemplate": "city=Varazdin<br>calendar_week=%{x}<br>avg_size=%{y}<extra></extra>",
         "legendgroup": "Varazdin",
         "line": {
          "color": "#00cc96",
          "dash": "solid"
         },
         "marker": {
          "symbol": "circle"
         },
         "mode": "lines+markers",
         "name": "Varazdin",
         "orientation": "v",
         "showlegend": true,
         "type": "scatter",
         "x": [
          31,
          32,
          32,
          33,
          34,
          35,
          35,
          36,
          37,
          38,
          39
         ],
         "xaxis": "x",
         "y": [
          66,
          67,
          67,
          77,
          77,
          76,
          78,
          79,
          79,
          89,
          84
         ],
         "yaxis": "y"
        },
        {
         "hovertemplate": "city=Rijeka<br>calendar_week=%{x}<br>avg_size=%{y}<extra></extra>",
         "legendgroup": "Rijeka",
         "line": {
          "color": "#ab63fa",
          "dash": "solid"
         },
         "marker": {
          "symbol": "circle"
         },
         "mode": "lines+markers",
         "name": "Rijeka",
         "orientation": "v",
         "showlegend": true,
         "type": "scatter",
         "x": [
          33,
          35,
          36,
          37
         ],
         "xaxis": "x",
         "y": [
          92,
          92,
          92,
          92
         ],
         "yaxis": "y"
        },
        {
         "hovertemplate": "city=Split<br>calendar_week=%{x}<br>avg_size=%{y}<extra></extra>",
         "legendgroup": "Split",
         "line": {
          "color": "#FFA15A",
          "dash": "solid"
         },
         "marker": {
          "symbol": "circle"
         },
         "mode": "lines+markers",
         "name": "Split",
         "orientation": "v",
         "showlegend": true,
         "type": "scatter",
         "x": [
          33,
          34,
          35,
          36,
          37,
          39
         ],
         "xaxis": "x",
         "y": [
          85,
          85,
          85,
          86,
          86,
          86
         ],
         "yaxis": "y"
        }
       ],
       "layout": {
        "height": 600,
        "legend": {
         "title": {
          "text": "city"
         },
         "tracegroupgap": 0
        },
        "margin": {
         "t": 60
        },
        "template": {
         "data": {
          "bar": [
           {
            "error_x": {
             "color": "#2a3f5f"
            },
            "error_y": {
             "color": "#2a3f5f"
            },
            "marker": {
             "line": {
              "color": "#E5ECF6",
              "width": 0.5
             },
             "pattern": {
              "fillmode": "overlay",
              "size": 10,
              "solidity": 0.2
             }
            },
            "type": "bar"
           }
          ],
          "barpolar": [
           {
            "marker": {
             "line": {
              "color": "#E5ECF6",
              "width": 0.5
             },
             "pattern": {
              "fillmode": "overlay",
              "size": 10,
              "solidity": 0.2
             }
            },
            "type": "barpolar"
           }
          ],
          "carpet": [
           {
            "aaxis": {
             "endlinecolor": "#2a3f5f",
             "gridcolor": "white",
             "linecolor": "white",
             "minorgridcolor": "white",
             "startlinecolor": "#2a3f5f"
            },
            "baxis": {
             "endlinecolor": "#2a3f5f",
             "gridcolor": "white",
             "linecolor": "white",
             "minorgridcolor": "white",
             "startlinecolor": "#2a3f5f"
            },
            "type": "carpet"
           }
          ],
          "choropleth": [
           {
            "colorbar": {
             "outlinewidth": 0,
             "ticks": ""
            },
            "type": "choropleth"
           }
          ],
          "contour": [
           {
            "colorbar": {
             "outlinewidth": 0,
             "ticks": ""
            },
            "colorscale": [
             [
              0,
              "#0d0887"
             ],
             [
              0.1111111111111111,
              "#46039f"
             ],
             [
              0.2222222222222222,
              "#7201a8"
             ],
             [
              0.3333333333333333,
              "#9c179e"
             ],
             [
              0.4444444444444444,
              "#bd3786"
             ],
             [
              0.5555555555555556,
              "#d8576b"
             ],
             [
              0.6666666666666666,
              "#ed7953"
             ],
             [
              0.7777777777777778,
              "#fb9f3a"
             ],
             [
              0.8888888888888888,
              "#fdca26"
             ],
             [
              1,
              "#f0f921"
             ]
            ],
            "type": "contour"
           }
          ],
          "contourcarpet": [
           {
            "colorbar": {
             "outlinewidth": 0,
             "ticks": ""
            },
            "type": "contourcarpet"
           }
          ],
          "heatmap": [
           {
            "colorbar": {
             "outlinewidth": 0,
             "ticks": ""
            },
            "colorscale": [
             [
              0,
              "#0d0887"
             ],
             [
              0.1111111111111111,
              "#46039f"
             ],
             [
              0.2222222222222222,
              "#7201a8"
             ],
             [
              0.3333333333333333,
              "#9c179e"
             ],
             [
              0.4444444444444444,
              "#bd3786"
             ],
             [
              0.5555555555555556,
              "#d8576b"
             ],
             [
              0.6666666666666666,
              "#ed7953"
             ],
             [
              0.7777777777777778,
              "#fb9f3a"
             ],
             [
              0.8888888888888888,
              "#fdca26"
             ],
             [
              1,
              "#f0f921"
             ]
            ],
            "type": "heatmap"
           }
          ],
          "heatmapgl": [
           {
            "colorbar": {
             "outlinewidth": 0,
             "ticks": ""
            },
            "colorscale": [
             [
              0,
              "#0d0887"
             ],
             [
              0.1111111111111111,
              "#46039f"
             ],
             [
              0.2222222222222222,
              "#7201a8"
             ],
             [
              0.3333333333333333,
              "#9c179e"
             ],
             [
              0.4444444444444444,
              "#bd3786"
             ],
             [
              0.5555555555555556,
              "#d8576b"
             ],
             [
              0.6666666666666666,
              "#ed7953"
             ],
             [
              0.7777777777777778,
              "#fb9f3a"
             ],
             [
              0.8888888888888888,
              "#fdca26"
             ],
             [
              1,
              "#f0f921"
             ]
            ],
            "type": "heatmapgl"
           }
          ],
          "histogram": [
           {
            "marker": {
             "pattern": {
              "fillmode": "overlay",
              "size": 10,
              "solidity": 0.2
             }
            },
            "type": "histogram"
           }
          ],
          "histogram2d": [
           {
            "colorbar": {
             "outlinewidth": 0,
             "ticks": ""
            },
            "colorscale": [
             [
              0,
              "#0d0887"
             ],
             [
              0.1111111111111111,
              "#46039f"
             ],
             [
              0.2222222222222222,
              "#7201a8"
             ],
             [
              0.3333333333333333,
              "#9c179e"
             ],
             [
              0.4444444444444444,
              "#bd3786"
             ],
             [
              0.5555555555555556,
              "#d8576b"
             ],
             [
              0.6666666666666666,
              "#ed7953"
             ],
             [
              0.7777777777777778,
              "#fb9f3a"
             ],
             [
              0.8888888888888888,
              "#fdca26"
             ],
             [
              1,
              "#f0f921"
             ]
            ],
            "type": "histogram2d"
           }
          ],
          "histogram2dcontour": [
           {
            "colorbar": {
             "outlinewidth": 0,
             "ticks": ""
            },
            "colorscale": [
             [
              0,
              "#0d0887"
             ],
             [
              0.1111111111111111,
              "#46039f"
             ],
             [
              0.2222222222222222,
              "#7201a8"
             ],
             [
              0.3333333333333333,
              "#9c179e"
             ],
             [
              0.4444444444444444,
              "#bd3786"
             ],
             [
              0.5555555555555556,
              "#d8576b"
             ],
             [
              0.6666666666666666,
              "#ed7953"
             ],
             [
              0.7777777777777778,
              "#fb9f3a"
             ],
             [
              0.8888888888888888,
              "#fdca26"
             ],
             [
              1,
              "#f0f921"
             ]
            ],
            "type": "histogram2dcontour"
           }
          ],
          "mesh3d": [
           {
            "colorbar": {
             "outlinewidth": 0,
             "ticks": ""
            },
            "type": "mesh3d"
           }
          ],
          "parcoords": [
           {
            "line": {
             "colorbar": {
              "outlinewidth": 0,
              "ticks": ""
             }
            },
            "type": "parcoords"
           }
          ],
          "pie": [
           {
            "automargin": true,
            "type": "pie"
           }
          ],
          "scatter": [
           {
            "marker": {
             "colorbar": {
              "outlinewidth": 0,
              "ticks": ""
             }
            },
            "type": "scatter"
           }
          ],
          "scatter3d": [
           {
            "line": {
             "colorbar": {
              "outlinewidth": 0,
              "ticks": ""
             }
            },
            "marker": {
             "colorbar": {
              "outlinewidth": 0,
              "ticks": ""
             }
            },
            "type": "scatter3d"
           }
          ],
          "scattercarpet": [
           {
            "marker": {
             "colorbar": {
              "outlinewidth": 0,
              "ticks": ""
             }
            },
            "type": "scattercarpet"
           }
          ],
          "scattergeo": [
           {
            "marker": {
             "colorbar": {
              "outlinewidth": 0,
              "ticks": ""
             }
            },
            "type": "scattergeo"
           }
          ],
          "scattergl": [
           {
            "marker": {
             "colorbar": {
              "outlinewidth": 0,
              "ticks": ""
             }
            },
            "type": "scattergl"
           }
          ],
          "scattermapbox": [
           {
            "marker": {
             "colorbar": {
              "outlinewidth": 0,
              "ticks": ""
             }
            },
            "type": "scattermapbox"
           }
          ],
          "scatterpolar": [
           {
            "marker": {
             "colorbar": {
              "outlinewidth": 0,
              "ticks": ""
             }
            },
            "type": "scatterpolar"
           }
          ],
          "scatterpolargl": [
           {
            "marker": {
             "colorbar": {
              "outlinewidth": 0,
              "ticks": ""
             }
            },
            "type": "scatterpolargl"
           }
          ],
          "scatterternary": [
           {
            "marker": {
             "colorbar": {
              "outlinewidth": 0,
              "ticks": ""
             }
            },
            "type": "scatterternary"
           }
          ],
          "surface": [
           {
            "colorbar": {
             "outlinewidth": 0,
             "ticks": ""
            },
            "colorscale": [
             [
              0,
              "#0d0887"
             ],
             [
              0.1111111111111111,
              "#46039f"
             ],
             [
              0.2222222222222222,
              "#7201a8"
             ],
             [
              0.3333333333333333,
              "#9c179e"
             ],
             [
              0.4444444444444444,
              "#bd3786"
             ],
             [
              0.5555555555555556,
              "#d8576b"
             ],
             [
              0.6666666666666666,
              "#ed7953"
             ],
             [
              0.7777777777777778,
              "#fb9f3a"
             ],
             [
              0.8888888888888888,
              "#fdca26"
             ],
             [
              1,
              "#f0f921"
             ]
            ],
            "type": "surface"
           }
          ],
          "table": [
           {
            "cells": {
             "fill": {
              "color": "#EBF0F8"
             },
             "line": {
              "color": "white"
             }
            },
            "header": {
             "fill": {
              "color": "#C8D4E3"
             },
             "line": {
              "color": "white"
             }
            },
            "type": "table"
           }
          ]
         },
         "layout": {
          "annotationdefaults": {
           "arrowcolor": "#2a3f5f",
           "arrowhead": 0,
           "arrowwidth": 1
          },
          "autotypenumbers": "strict",
          "coloraxis": {
           "colorbar": {
            "outlinewidth": 0,
            "ticks": ""
           }
          },
          "colorscale": {
           "diverging": [
            [
             0,
             "#8e0152"
            ],
            [
             0.1,
             "#c51b7d"
            ],
            [
             0.2,
             "#de77ae"
            ],
            [
             0.3,
             "#f1b6da"
            ],
            [
             0.4,
             "#fde0ef"
            ],
            [
             0.5,
             "#f7f7f7"
            ],
            [
             0.6,
             "#e6f5d0"
            ],
            [
             0.7,
             "#b8e186"
            ],
            [
             0.8,
             "#7fbc41"
            ],
            [
             0.9,
             "#4d9221"
            ],
            [
             1,
             "#276419"
            ]
           ],
           "sequential": [
            [
             0,
             "#0d0887"
            ],
            [
             0.1111111111111111,
             "#46039f"
            ],
            [
             0.2222222222222222,
             "#7201a8"
            ],
            [
             0.3333333333333333,
             "#9c179e"
            ],
            [
             0.4444444444444444,
             "#bd3786"
            ],
            [
             0.5555555555555556,
             "#d8576b"
            ],
            [
             0.6666666666666666,
             "#ed7953"
            ],
            [
             0.7777777777777778,
             "#fb9f3a"
            ],
            [
             0.8888888888888888,
             "#fdca26"
            ],
            [
             1,
             "#f0f921"
            ]
           ],
           "sequentialminus": [
            [
             0,
             "#0d0887"
            ],
            [
             0.1111111111111111,
             "#46039f"
            ],
            [
             0.2222222222222222,
             "#7201a8"
            ],
            [
             0.3333333333333333,
             "#9c179e"
            ],
            [
             0.4444444444444444,
             "#bd3786"
            ],
            [
             0.5555555555555556,
             "#d8576b"
            ],
            [
             0.6666666666666666,
             "#ed7953"
            ],
            [
             0.7777777777777778,
             "#fb9f3a"
            ],
            [
             0.8888888888888888,
             "#fdca26"
            ],
            [
             1,
             "#f0f921"
            ]
           ]
          },
          "colorway": [
           "#636efa",
           "#EF553B",
           "#00cc96",
           "#ab63fa",
           "#FFA15A",
           "#19d3f3",
           "#FF6692",
           "#B6E880",
           "#FF97FF",
           "#FECB52"
          ],
          "font": {
           "color": "#2a3f5f"
          },
          "geo": {
           "bgcolor": "white",
           "lakecolor": "white",
           "landcolor": "#E5ECF6",
           "showlakes": true,
           "showland": true,
           "subunitcolor": "white"
          },
          "hoverlabel": {
           "align": "left"
          },
          "hovermode": "closest",
          "mapbox": {
           "style": "light"
          },
          "paper_bgcolor": "white",
          "plot_bgcolor": "#E5ECF6",
          "polar": {
           "angularaxis": {
            "gridcolor": "white",
            "linecolor": "white",
            "ticks": ""
           },
           "bgcolor": "#E5ECF6",
           "radialaxis": {
            "gridcolor": "white",
            "linecolor": "white",
            "ticks": ""
           }
          },
          "scene": {
           "xaxis": {
            "backgroundcolor": "#E5ECF6",
            "gridcolor": "white",
            "gridwidth": 2,
            "linecolor": "white",
            "showbackground": true,
            "ticks": "",
            "zerolinecolor": "white"
           },
           "yaxis": {
            "backgroundcolor": "#E5ECF6",
            "gridcolor": "white",
            "gridwidth": 2,
            "linecolor": "white",
            "showbackground": true,
            "ticks": "",
            "zerolinecolor": "white"
           },
           "zaxis": {
            "backgroundcolor": "#E5ECF6",
            "gridcolor": "white",
            "gridwidth": 2,
            "linecolor": "white",
            "showbackground": true,
            "ticks": "",
            "zerolinecolor": "white"
           }
          },
          "shapedefaults": {
           "line": {
            "color": "#2a3f5f"
           }
          },
          "ternary": {
           "aaxis": {
            "gridcolor": "white",
            "linecolor": "white",
            "ticks": ""
           },
           "baxis": {
            "gridcolor": "white",
            "linecolor": "white",
            "ticks": ""
           },
           "bgcolor": "#E5ECF6",
           "caxis": {
            "gridcolor": "white",
            "linecolor": "white",
            "ticks": ""
           }
          },
          "title": {
           "x": 0.05
          },
          "xaxis": {
           "automargin": true,
           "gridcolor": "white",
           "linecolor": "white",
           "ticks": "",
           "title": {
            "standoff": 15
           },
           "zerolinecolor": "white",
           "zerolinewidth": 2
          },
          "yaxis": {
           "automargin": true,
           "gridcolor": "white",
           "linecolor": "white",
           "ticks": "",
           "title": {
            "standoff": 15
           },
           "zerolinecolor": "white",
           "zerolinewidth": 2
          }
         }
        },
        "xaxis": {
         "anchor": "y",
         "domain": [
          0,
          1
         ],
         "title": {
          "text": "calendar_week"
         }
        },
        "yaxis": {
         "anchor": "x",
         "domain": [
          0,
          1
         ],
         "title": {
          "text": "avg_size"
         }
        }
       }
      }
     },
     "metadata": {},
     "output_type": "display_data"
    }
   ],
   "source": [
    "fig = px.line(df, x=\"calendar_week\", y=\"avg_size\", color = 'city', markers=True, height=600)\n",
    "fig\n"
   ]
  },
  {
   "cell_type": "code",
   "execution_count": 3,
   "metadata": {},
   "outputs": [
    {
     "data": {
      "application/vnd.plotly.v1+json": {
       "config": {
        "plotlyServerURL": "https://plot.ly"
       },
       "data": [
        {
         "hovertemplate": "city=Rovinj<br>calendar_week=%{x}<br>avg_price_sqrm=%{y}<extra></extra>",
         "legendgroup": "Rovinj",
         "line": {
          "color": "#636efa",
          "dash": "solid"
         },
         "marker": {
          "symbol": "circle"
         },
         "mode": "lines+markers",
         "name": "Rovinj",
         "orientation": "v",
         "showlegend": true,
         "type": "scatter",
         "x": [
          30,
          33,
          34,
          35,
          35,
          36,
          37
         ],
         "xaxis": "x",
         "y": [
          4279,
          4240,
          4240,
          4275,
          4276,
          4393,
          4315
         ],
         "yaxis": "y"
        }
       ],
       "layout": {
        "legend": {
         "title": {
          "text": "city"
         },
         "tracegroupgap": 0
        },
        "template": {
         "data": {
          "bar": [
           {
            "error_x": {
             "color": "#2a3f5f"
            },
            "error_y": {
             "color": "#2a3f5f"
            },
            "marker": {
             "line": {
              "color": "#E5ECF6",
              "width": 0.5
             },
             "pattern": {
              "fillmode": "overlay",
              "size": 10,
              "solidity": 0.2
             }
            },
            "type": "bar"
           }
          ],
          "barpolar": [
           {
            "marker": {
             "line": {
              "color": "#E5ECF6",
              "width": 0.5
             },
             "pattern": {
              "fillmode": "overlay",
              "size": 10,
              "solidity": 0.2
             }
            },
            "type": "barpolar"
           }
          ],
          "carpet": [
           {
            "aaxis": {
             "endlinecolor": "#2a3f5f",
             "gridcolor": "white",
             "linecolor": "white",
             "minorgridcolor": "white",
             "startlinecolor": "#2a3f5f"
            },
            "baxis": {
             "endlinecolor": "#2a3f5f",
             "gridcolor": "white",
             "linecolor": "white",
             "minorgridcolor": "white",
             "startlinecolor": "#2a3f5f"
            },
            "type": "carpet"
           }
          ],
          "choropleth": [
           {
            "colorbar": {
             "outlinewidth": 0,
             "ticks": ""
            },
            "type": "choropleth"
           }
          ],
          "contour": [
           {
            "colorbar": {
             "outlinewidth": 0,
             "ticks": ""
            },
            "colorscale": [
             [
              0,
              "#0d0887"
             ],
             [
              0.1111111111111111,
              "#46039f"
             ],
             [
              0.2222222222222222,
              "#7201a8"
             ],
             [
              0.3333333333333333,
              "#9c179e"
             ],
             [
              0.4444444444444444,
              "#bd3786"
             ],
             [
              0.5555555555555556,
              "#d8576b"
             ],
             [
              0.6666666666666666,
              "#ed7953"
             ],
             [
              0.7777777777777778,
              "#fb9f3a"
             ],
             [
              0.8888888888888888,
              "#fdca26"
             ],
             [
              1,
              "#f0f921"
             ]
            ],
            "type": "contour"
           }
          ],
          "contourcarpet": [
           {
            "colorbar": {
             "outlinewidth": 0,
             "ticks": ""
            },
            "type": "contourcarpet"
           }
          ],
          "heatmap": [
           {
            "colorbar": {
             "outlinewidth": 0,
             "ticks": ""
            },
            "colorscale": [
             [
              0,
              "#0d0887"
             ],
             [
              0.1111111111111111,
              "#46039f"
             ],
             [
              0.2222222222222222,
              "#7201a8"
             ],
             [
              0.3333333333333333,
              "#9c179e"
             ],
             [
              0.4444444444444444,
              "#bd3786"
             ],
             [
              0.5555555555555556,
              "#d8576b"
             ],
             [
              0.6666666666666666,
              "#ed7953"
             ],
             [
              0.7777777777777778,
              "#fb9f3a"
             ],
             [
              0.8888888888888888,
              "#fdca26"
             ],
             [
              1,
              "#f0f921"
             ]
            ],
            "type": "heatmap"
           }
          ],
          "heatmapgl": [
           {
            "colorbar": {
             "outlinewidth": 0,
             "ticks": ""
            },
            "colorscale": [
             [
              0,
              "#0d0887"
             ],
             [
              0.1111111111111111,
              "#46039f"
             ],
             [
              0.2222222222222222,
              "#7201a8"
             ],
             [
              0.3333333333333333,
              "#9c179e"
             ],
             [
              0.4444444444444444,
              "#bd3786"
             ],
             [
              0.5555555555555556,
              "#d8576b"
             ],
             [
              0.6666666666666666,
              "#ed7953"
             ],
             [
              0.7777777777777778,
              "#fb9f3a"
             ],
             [
              0.8888888888888888,
              "#fdca26"
             ],
             [
              1,
              "#f0f921"
             ]
            ],
            "type": "heatmapgl"
           }
          ],
          "histogram": [
           {
            "marker": {
             "pattern": {
              "fillmode": "overlay",
              "size": 10,
              "solidity": 0.2
             }
            },
            "type": "histogram"
           }
          ],
          "histogram2d": [
           {
            "colorbar": {
             "outlinewidth": 0,
             "ticks": ""
            },
            "colorscale": [
             [
              0,
              "#0d0887"
             ],
             [
              0.1111111111111111,
              "#46039f"
             ],
             [
              0.2222222222222222,
              "#7201a8"
             ],
             [
              0.3333333333333333,
              "#9c179e"
             ],
             [
              0.4444444444444444,
              "#bd3786"
             ],
             [
              0.5555555555555556,
              "#d8576b"
             ],
             [
              0.6666666666666666,
              "#ed7953"
             ],
             [
              0.7777777777777778,
              "#fb9f3a"
             ],
             [
              0.8888888888888888,
              "#fdca26"
             ],
             [
              1,
              "#f0f921"
             ]
            ],
            "type": "histogram2d"
           }
          ],
          "histogram2dcontour": [
           {
            "colorbar": {
             "outlinewidth": 0,
             "ticks": ""
            },
            "colorscale": [
             [
              0,
              "#0d0887"
             ],
             [
              0.1111111111111111,
              "#46039f"
             ],
             [
              0.2222222222222222,
              "#7201a8"
             ],
             [
              0.3333333333333333,
              "#9c179e"
             ],
             [
              0.4444444444444444,
              "#bd3786"
             ],
             [
              0.5555555555555556,
              "#d8576b"
             ],
             [
              0.6666666666666666,
              "#ed7953"
             ],
             [
              0.7777777777777778,
              "#fb9f3a"
             ],
             [
              0.8888888888888888,
              "#fdca26"
             ],
             [
              1,
              "#f0f921"
             ]
            ],
            "type": "histogram2dcontour"
           }
          ],
          "mesh3d": [
           {
            "colorbar": {
             "outlinewidth": 0,
             "ticks": ""
            },
            "type": "mesh3d"
           }
          ],
          "parcoords": [
           {
            "line": {
             "colorbar": {
              "outlinewidth": 0,
              "ticks": ""
             }
            },
            "type": "parcoords"
           }
          ],
          "pie": [
           {
            "automargin": true,
            "type": "pie"
           }
          ],
          "scatter": [
           {
            "marker": {
             "colorbar": {
              "outlinewidth": 0,
              "ticks": ""
             }
            },
            "type": "scatter"
           }
          ],
          "scatter3d": [
           {
            "line": {
             "colorbar": {
              "outlinewidth": 0,
              "ticks": ""
             }
            },
            "marker": {
             "colorbar": {
              "outlinewidth": 0,
              "ticks": ""
             }
            },
            "type": "scatter3d"
           }
          ],
          "scattercarpet": [
           {
            "marker": {
             "colorbar": {
              "outlinewidth": 0,
              "ticks": ""
             }
            },
            "type": "scattercarpet"
           }
          ],
          "scattergeo": [
           {
            "marker": {
             "colorbar": {
              "outlinewidth": 0,
              "ticks": ""
             }
            },
            "type": "scattergeo"
           }
          ],
          "scattergl": [
           {
            "marker": {
             "colorbar": {
              "outlinewidth": 0,
              "ticks": ""
             }
            },
            "type": "scattergl"
           }
          ],
          "scattermapbox": [
           {
            "marker": {
             "colorbar": {
              "outlinewidth": 0,
              "ticks": ""
             }
            },
            "type": "scattermapbox"
           }
          ],
          "scatterpolar": [
           {
            "marker": {
             "colorbar": {
              "outlinewidth": 0,
              "ticks": ""
             }
            },
            "type": "scatterpolar"
           }
          ],
          "scatterpolargl": [
           {
            "marker": {
             "colorbar": {
              "outlinewidth": 0,
              "ticks": ""
             }
            },
            "type": "scatterpolargl"
           }
          ],
          "scatterternary": [
           {
            "marker": {
             "colorbar": {
              "outlinewidth": 0,
              "ticks": ""
             }
            },
            "type": "scatterternary"
           }
          ],
          "surface": [
           {
            "colorbar": {
             "outlinewidth": 0,
             "ticks": ""
            },
            "colorscale": [
             [
              0,
              "#0d0887"
             ],
             [
              0.1111111111111111,
              "#46039f"
             ],
             [
              0.2222222222222222,
              "#7201a8"
             ],
             [
              0.3333333333333333,
              "#9c179e"
             ],
             [
              0.4444444444444444,
              "#bd3786"
             ],
             [
              0.5555555555555556,
              "#d8576b"
             ],
             [
              0.6666666666666666,
              "#ed7953"
             ],
             [
              0.7777777777777778,
              "#fb9f3a"
             ],
             [
              0.8888888888888888,
              "#fdca26"
             ],
             [
              1,
              "#f0f921"
             ]
            ],
            "type": "surface"
           }
          ],
          "table": [
           {
            "cells": {
             "fill": {
              "color": "#EBF0F8"
             },
             "line": {
              "color": "white"
             }
            },
            "header": {
             "fill": {
              "color": "#C8D4E3"
             },
             "line": {
              "color": "white"
             }
            },
            "type": "table"
           }
          ]
         },
         "layout": {
          "annotationdefaults": {
           "arrowcolor": "#2a3f5f",
           "arrowhead": 0,
           "arrowwidth": 1
          },
          "autotypenumbers": "strict",
          "coloraxis": {
           "colorbar": {
            "outlinewidth": 0,
            "ticks": ""
           }
          },
          "colorscale": {
           "diverging": [
            [
             0,
             "#8e0152"
            ],
            [
             0.1,
             "#c51b7d"
            ],
            [
             0.2,
             "#de77ae"
            ],
            [
             0.3,
             "#f1b6da"
            ],
            [
             0.4,
             "#fde0ef"
            ],
            [
             0.5,
             "#f7f7f7"
            ],
            [
             0.6,
             "#e6f5d0"
            ],
            [
             0.7,
             "#b8e186"
            ],
            [
             0.8,
             "#7fbc41"
            ],
            [
             0.9,
             "#4d9221"
            ],
            [
             1,
             "#276419"
            ]
           ],
           "sequential": [
            [
             0,
             "#0d0887"
            ],
            [
             0.1111111111111111,
             "#46039f"
            ],
            [
             0.2222222222222222,
             "#7201a8"
            ],
            [
             0.3333333333333333,
             "#9c179e"
            ],
            [
             0.4444444444444444,
             "#bd3786"
            ],
            [
             0.5555555555555556,
             "#d8576b"
            ],
            [
             0.6666666666666666,
             "#ed7953"
            ],
            [
             0.7777777777777778,
             "#fb9f3a"
            ],
            [
             0.8888888888888888,
             "#fdca26"
            ],
            [
             1,
             "#f0f921"
            ]
           ],
           "sequentialminus": [
            [
             0,
             "#0d0887"
            ],
            [
             0.1111111111111111,
             "#46039f"
            ],
            [
             0.2222222222222222,
             "#7201a8"
            ],
            [
             0.3333333333333333,
             "#9c179e"
            ],
            [
             0.4444444444444444,
             "#bd3786"
            ],
            [
             0.5555555555555556,
             "#d8576b"
            ],
            [
             0.6666666666666666,
             "#ed7953"
            ],
            [
             0.7777777777777778,
             "#fb9f3a"
            ],
            [
             0.8888888888888888,
             "#fdca26"
            ],
            [
             1,
             "#f0f921"
            ]
           ]
          },
          "colorway": [
           "#636efa",
           "#EF553B",
           "#00cc96",
           "#ab63fa",
           "#FFA15A",
           "#19d3f3",
           "#FF6692",
           "#B6E880",
           "#FF97FF",
           "#FECB52"
          ],
          "font": {
           "color": "#2a3f5f"
          },
          "geo": {
           "bgcolor": "white",
           "lakecolor": "white",
           "landcolor": "#E5ECF6",
           "showlakes": true,
           "showland": true,
           "subunitcolor": "white"
          },
          "hoverlabel": {
           "align": "left"
          },
          "hovermode": "closest",
          "mapbox": {
           "style": "light"
          },
          "paper_bgcolor": "white",
          "plot_bgcolor": "#E5ECF6",
          "polar": {
           "angularaxis": {
            "gridcolor": "white",
            "linecolor": "white",
            "ticks": ""
           },
           "bgcolor": "#E5ECF6",
           "radialaxis": {
            "gridcolor": "white",
            "linecolor": "white",
            "ticks": ""
           }
          },
          "scene": {
           "xaxis": {
            "backgroundcolor": "#E5ECF6",
            "gridcolor": "white",
            "gridwidth": 2,
            "linecolor": "white",
            "showbackground": true,
            "ticks": "",
            "zerolinecolor": "white"
           },
           "yaxis": {
            "backgroundcolor": "#E5ECF6",
            "gridcolor": "white",
            "gridwidth": 2,
            "linecolor": "white",
            "showbackground": true,
            "ticks": "",
            "zerolinecolor": "white"
           },
           "zaxis": {
            "backgroundcolor": "#E5ECF6",
            "gridcolor": "white",
            "gridwidth": 2,
            "linecolor": "white",
            "showbackground": true,
            "ticks": "",
            "zerolinecolor": "white"
           }
          },
          "shapedefaults": {
           "line": {
            "color": "#2a3f5f"
           }
          },
          "ternary": {
           "aaxis": {
            "gridcolor": "white",
            "linecolor": "white",
            "ticks": ""
           },
           "baxis": {
            "gridcolor": "white",
            "linecolor": "white",
            "ticks": ""
           },
           "bgcolor": "#E5ECF6",
           "caxis": {
            "gridcolor": "white",
            "linecolor": "white",
            "ticks": ""
           }
          },
          "title": {
           "x": 0.05
          },
          "xaxis": {
           "automargin": true,
           "gridcolor": "white",
           "linecolor": "white",
           "ticks": "",
           "title": {
            "standoff": 15
           },
           "zerolinecolor": "white",
           "zerolinewidth": 2
          },
          "yaxis": {
           "automargin": true,
           "gridcolor": "white",
           "linecolor": "white",
           "ticks": "",
           "title": {
            "standoff": 15
           },
           "zerolinecolor": "white",
           "zerolinewidth": 2
          }
         }
        },
        "title": {
         "text": "Rovinj"
        },
        "xaxis": {
         "anchor": "y",
         "domain": [
          0,
          1
         ],
         "title": {
          "text": "calendar_week"
         }
        },
        "yaxis": {
         "anchor": "x",
         "domain": [
          0,
          1
         ],
         "title": {
          "text": "avg_price_sqrm"
         }
        }
       }
      }
     },
     "metadata": {},
     "output_type": "display_data"
    },
    {
     "data": {
      "application/vnd.plotly.v1+json": {
       "config": {
        "plotlyServerURL": "https://plot.ly"
       },
       "data": [
        {
         "hovertemplate": "city=Zagreb<br>calendar_week=%{x}<br>avg_price_sqrm=%{y}<extra></extra>",
         "legendgroup": "Zagreb",
         "line": {
          "color": "#636efa",
          "dash": "solid"
         },
         "marker": {
          "symbol": "circle"
         },
         "mode": "lines+markers",
         "name": "Zagreb",
         "orientation": "v",
         "showlegend": true,
         "type": "scatter",
         "x": [
          30,
          32,
          33,
          34,
          36,
          37
         ],
         "xaxis": "x",
         "y": [
          2616,
          2635,
          2651,
          2660,
          2681,
          2688
         ],
         "yaxis": "y"
        }
       ],
       "layout": {
        "legend": {
         "title": {
          "text": "city"
         },
         "tracegroupgap": 0
        },
        "template": {
         "data": {
          "bar": [
           {
            "error_x": {
             "color": "#2a3f5f"
            },
            "error_y": {
             "color": "#2a3f5f"
            },
            "marker": {
             "line": {
              "color": "#E5ECF6",
              "width": 0.5
             },
             "pattern": {
              "fillmode": "overlay",
              "size": 10,
              "solidity": 0.2
             }
            },
            "type": "bar"
           }
          ],
          "barpolar": [
           {
            "marker": {
             "line": {
              "color": "#E5ECF6",
              "width": 0.5
             },
             "pattern": {
              "fillmode": "overlay",
              "size": 10,
              "solidity": 0.2
             }
            },
            "type": "barpolar"
           }
          ],
          "carpet": [
           {
            "aaxis": {
             "endlinecolor": "#2a3f5f",
             "gridcolor": "white",
             "linecolor": "white",
             "minorgridcolor": "white",
             "startlinecolor": "#2a3f5f"
            },
            "baxis": {
             "endlinecolor": "#2a3f5f",
             "gridcolor": "white",
             "linecolor": "white",
             "minorgridcolor": "white",
             "startlinecolor": "#2a3f5f"
            },
            "type": "carpet"
           }
          ],
          "choropleth": [
           {
            "colorbar": {
             "outlinewidth": 0,
             "ticks": ""
            },
            "type": "choropleth"
           }
          ],
          "contour": [
           {
            "colorbar": {
             "outlinewidth": 0,
             "ticks": ""
            },
            "colorscale": [
             [
              0,
              "#0d0887"
             ],
             [
              0.1111111111111111,
              "#46039f"
             ],
             [
              0.2222222222222222,
              "#7201a8"
             ],
             [
              0.3333333333333333,
              "#9c179e"
             ],
             [
              0.4444444444444444,
              "#bd3786"
             ],
             [
              0.5555555555555556,
              "#d8576b"
             ],
             [
              0.6666666666666666,
              "#ed7953"
             ],
             [
              0.7777777777777778,
              "#fb9f3a"
             ],
             [
              0.8888888888888888,
              "#fdca26"
             ],
             [
              1,
              "#f0f921"
             ]
            ],
            "type": "contour"
           }
          ],
          "contourcarpet": [
           {
            "colorbar": {
             "outlinewidth": 0,
             "ticks": ""
            },
            "type": "contourcarpet"
           }
          ],
          "heatmap": [
           {
            "colorbar": {
             "outlinewidth": 0,
             "ticks": ""
            },
            "colorscale": [
             [
              0,
              "#0d0887"
             ],
             [
              0.1111111111111111,
              "#46039f"
             ],
             [
              0.2222222222222222,
              "#7201a8"
             ],
             [
              0.3333333333333333,
              "#9c179e"
             ],
             [
              0.4444444444444444,
              "#bd3786"
             ],
             [
              0.5555555555555556,
              "#d8576b"
             ],
             [
              0.6666666666666666,
              "#ed7953"
             ],
             [
              0.7777777777777778,
              "#fb9f3a"
             ],
             [
              0.8888888888888888,
              "#fdca26"
             ],
             [
              1,
              "#f0f921"
             ]
            ],
            "type": "heatmap"
           }
          ],
          "heatmapgl": [
           {
            "colorbar": {
             "outlinewidth": 0,
             "ticks": ""
            },
            "colorscale": [
             [
              0,
              "#0d0887"
             ],
             [
              0.1111111111111111,
              "#46039f"
             ],
             [
              0.2222222222222222,
              "#7201a8"
             ],
             [
              0.3333333333333333,
              "#9c179e"
             ],
             [
              0.4444444444444444,
              "#bd3786"
             ],
             [
              0.5555555555555556,
              "#d8576b"
             ],
             [
              0.6666666666666666,
              "#ed7953"
             ],
             [
              0.7777777777777778,
              "#fb9f3a"
             ],
             [
              0.8888888888888888,
              "#fdca26"
             ],
             [
              1,
              "#f0f921"
             ]
            ],
            "type": "heatmapgl"
           }
          ],
          "histogram": [
           {
            "marker": {
             "pattern": {
              "fillmode": "overlay",
              "size": 10,
              "solidity": 0.2
             }
            },
            "type": "histogram"
           }
          ],
          "histogram2d": [
           {
            "colorbar": {
             "outlinewidth": 0,
             "ticks": ""
            },
            "colorscale": [
             [
              0,
              "#0d0887"
             ],
             [
              0.1111111111111111,
              "#46039f"
             ],
             [
              0.2222222222222222,
              "#7201a8"
             ],
             [
              0.3333333333333333,
              "#9c179e"
             ],
             [
              0.4444444444444444,
              "#bd3786"
             ],
             [
              0.5555555555555556,
              "#d8576b"
             ],
             [
              0.6666666666666666,
              "#ed7953"
             ],
             [
              0.7777777777777778,
              "#fb9f3a"
             ],
             [
              0.8888888888888888,
              "#fdca26"
             ],
             [
              1,
              "#f0f921"
             ]
            ],
            "type": "histogram2d"
           }
          ],
          "histogram2dcontour": [
           {
            "colorbar": {
             "outlinewidth": 0,
             "ticks": ""
            },
            "colorscale": [
             [
              0,
              "#0d0887"
             ],
             [
              0.1111111111111111,
              "#46039f"
             ],
             [
              0.2222222222222222,
              "#7201a8"
             ],
             [
              0.3333333333333333,
              "#9c179e"
             ],
             [
              0.4444444444444444,
              "#bd3786"
             ],
             [
              0.5555555555555556,
              "#d8576b"
             ],
             [
              0.6666666666666666,
              "#ed7953"
             ],
             [
              0.7777777777777778,
              "#fb9f3a"
             ],
             [
              0.8888888888888888,
              "#fdca26"
             ],
             [
              1,
              "#f0f921"
             ]
            ],
            "type": "histogram2dcontour"
           }
          ],
          "mesh3d": [
           {
            "colorbar": {
             "outlinewidth": 0,
             "ticks": ""
            },
            "type": "mesh3d"
           }
          ],
          "parcoords": [
           {
            "line": {
             "colorbar": {
              "outlinewidth": 0,
              "ticks": ""
             }
            },
            "type": "parcoords"
           }
          ],
          "pie": [
           {
            "automargin": true,
            "type": "pie"
           }
          ],
          "scatter": [
           {
            "marker": {
             "colorbar": {
              "outlinewidth": 0,
              "ticks": ""
             }
            },
            "type": "scatter"
           }
          ],
          "scatter3d": [
           {
            "line": {
             "colorbar": {
              "outlinewidth": 0,
              "ticks": ""
             }
            },
            "marker": {
             "colorbar": {
              "outlinewidth": 0,
              "ticks": ""
             }
            },
            "type": "scatter3d"
           }
          ],
          "scattercarpet": [
           {
            "marker": {
             "colorbar": {
              "outlinewidth": 0,
              "ticks": ""
             }
            },
            "type": "scattercarpet"
           }
          ],
          "scattergeo": [
           {
            "marker": {
             "colorbar": {
              "outlinewidth": 0,
              "ticks": ""
             }
            },
            "type": "scattergeo"
           }
          ],
          "scattergl": [
           {
            "marker": {
             "colorbar": {
              "outlinewidth": 0,
              "ticks": ""
             }
            },
            "type": "scattergl"
           }
          ],
          "scattermapbox": [
           {
            "marker": {
             "colorbar": {
              "outlinewidth": 0,
              "ticks": ""
             }
            },
            "type": "scattermapbox"
           }
          ],
          "scatterpolar": [
           {
            "marker": {
             "colorbar": {
              "outlinewidth": 0,
              "ticks": ""
             }
            },
            "type": "scatterpolar"
           }
          ],
          "scatterpolargl": [
           {
            "marker": {
             "colorbar": {
              "outlinewidth": 0,
              "ticks": ""
             }
            },
            "type": "scatterpolargl"
           }
          ],
          "scatterternary": [
           {
            "marker": {
             "colorbar": {
              "outlinewidth": 0,
              "ticks": ""
             }
            },
            "type": "scatterternary"
           }
          ],
          "surface": [
           {
            "colorbar": {
             "outlinewidth": 0,
             "ticks": ""
            },
            "colorscale": [
             [
              0,
              "#0d0887"
             ],
             [
              0.1111111111111111,
              "#46039f"
             ],
             [
              0.2222222222222222,
              "#7201a8"
             ],
             [
              0.3333333333333333,
              "#9c179e"
             ],
             [
              0.4444444444444444,
              "#bd3786"
             ],
             [
              0.5555555555555556,
              "#d8576b"
             ],
             [
              0.6666666666666666,
              "#ed7953"
             ],
             [
              0.7777777777777778,
              "#fb9f3a"
             ],
             [
              0.8888888888888888,
              "#fdca26"
             ],
             [
              1,
              "#f0f921"
             ]
            ],
            "type": "surface"
           }
          ],
          "table": [
           {
            "cells": {
             "fill": {
              "color": "#EBF0F8"
             },
             "line": {
              "color": "white"
             }
            },
            "header": {
             "fill": {
              "color": "#C8D4E3"
             },
             "line": {
              "color": "white"
             }
            },
            "type": "table"
           }
          ]
         },
         "layout": {
          "annotationdefaults": {
           "arrowcolor": "#2a3f5f",
           "arrowhead": 0,
           "arrowwidth": 1
          },
          "autotypenumbers": "strict",
          "coloraxis": {
           "colorbar": {
            "outlinewidth": 0,
            "ticks": ""
           }
          },
          "colorscale": {
           "diverging": [
            [
             0,
             "#8e0152"
            ],
            [
             0.1,
             "#c51b7d"
            ],
            [
             0.2,
             "#de77ae"
            ],
            [
             0.3,
             "#f1b6da"
            ],
            [
             0.4,
             "#fde0ef"
            ],
            [
             0.5,
             "#f7f7f7"
            ],
            [
             0.6,
             "#e6f5d0"
            ],
            [
             0.7,
             "#b8e186"
            ],
            [
             0.8,
             "#7fbc41"
            ],
            [
             0.9,
             "#4d9221"
            ],
            [
             1,
             "#276419"
            ]
           ],
           "sequential": [
            [
             0,
             "#0d0887"
            ],
            [
             0.1111111111111111,
             "#46039f"
            ],
            [
             0.2222222222222222,
             "#7201a8"
            ],
            [
             0.3333333333333333,
             "#9c179e"
            ],
            [
             0.4444444444444444,
             "#bd3786"
            ],
            [
             0.5555555555555556,
             "#d8576b"
            ],
            [
             0.6666666666666666,
             "#ed7953"
            ],
            [
             0.7777777777777778,
             "#fb9f3a"
            ],
            [
             0.8888888888888888,
             "#fdca26"
            ],
            [
             1,
             "#f0f921"
            ]
           ],
           "sequentialminus": [
            [
             0,
             "#0d0887"
            ],
            [
             0.1111111111111111,
             "#46039f"
            ],
            [
             0.2222222222222222,
             "#7201a8"
            ],
            [
             0.3333333333333333,
             "#9c179e"
            ],
            [
             0.4444444444444444,
             "#bd3786"
            ],
            [
             0.5555555555555556,
             "#d8576b"
            ],
            [
             0.6666666666666666,
             "#ed7953"
            ],
            [
             0.7777777777777778,
             "#fb9f3a"
            ],
            [
             0.8888888888888888,
             "#fdca26"
            ],
            [
             1,
             "#f0f921"
            ]
           ]
          },
          "colorway": [
           "#636efa",
           "#EF553B",
           "#00cc96",
           "#ab63fa",
           "#FFA15A",
           "#19d3f3",
           "#FF6692",
           "#B6E880",
           "#FF97FF",
           "#FECB52"
          ],
          "font": {
           "color": "#2a3f5f"
          },
          "geo": {
           "bgcolor": "white",
           "lakecolor": "white",
           "landcolor": "#E5ECF6",
           "showlakes": true,
           "showland": true,
           "subunitcolor": "white"
          },
          "hoverlabel": {
           "align": "left"
          },
          "hovermode": "closest",
          "mapbox": {
           "style": "light"
          },
          "paper_bgcolor": "white",
          "plot_bgcolor": "#E5ECF6",
          "polar": {
           "angularaxis": {
            "gridcolor": "white",
            "linecolor": "white",
            "ticks": ""
           },
           "bgcolor": "#E5ECF6",
           "radialaxis": {
            "gridcolor": "white",
            "linecolor": "white",
            "ticks": ""
           }
          },
          "scene": {
           "xaxis": {
            "backgroundcolor": "#E5ECF6",
            "gridcolor": "white",
            "gridwidth": 2,
            "linecolor": "white",
            "showbackground": true,
            "ticks": "",
            "zerolinecolor": "white"
           },
           "yaxis": {
            "backgroundcolor": "#E5ECF6",
            "gridcolor": "white",
            "gridwidth": 2,
            "linecolor": "white",
            "showbackground": true,
            "ticks": "",
            "zerolinecolor": "white"
           },
           "zaxis": {
            "backgroundcolor": "#E5ECF6",
            "gridcolor": "white",
            "gridwidth": 2,
            "linecolor": "white",
            "showbackground": true,
            "ticks": "",
            "zerolinecolor": "white"
           }
          },
          "shapedefaults": {
           "line": {
            "color": "#2a3f5f"
           }
          },
          "ternary": {
           "aaxis": {
            "gridcolor": "white",
            "linecolor": "white",
            "ticks": ""
           },
           "baxis": {
            "gridcolor": "white",
            "linecolor": "white",
            "ticks": ""
           },
           "bgcolor": "#E5ECF6",
           "caxis": {
            "gridcolor": "white",
            "linecolor": "white",
            "ticks": ""
           }
          },
          "title": {
           "x": 0.05
          },
          "xaxis": {
           "automargin": true,
           "gridcolor": "white",
           "linecolor": "white",
           "ticks": "",
           "title": {
            "standoff": 15
           },
           "zerolinecolor": "white",
           "zerolinewidth": 2
          },
          "yaxis": {
           "automargin": true,
           "gridcolor": "white",
           "linecolor": "white",
           "ticks": "",
           "title": {
            "standoff": 15
           },
           "zerolinecolor": "white",
           "zerolinewidth": 2
          }
         }
        },
        "title": {
         "text": "Zagreb"
        },
        "xaxis": {
         "anchor": "y",
         "domain": [
          0,
          1
         ],
         "title": {
          "text": "calendar_week"
         }
        },
        "yaxis": {
         "anchor": "x",
         "domain": [
          0,
          1
         ],
         "title": {
          "text": "avg_price_sqrm"
         }
        }
       }
      }
     },
     "metadata": {},
     "output_type": "display_data"
    },
    {
     "data": {
      "application/vnd.plotly.v1+json": {
       "config": {
        "plotlyServerURL": "https://plot.ly"
       },
       "data": [
        {
         "hovertemplate": "city=Varazdin<br>calendar_week=%{x}<br>avg_price_sqrm=%{y}<extra></extra>",
         "legendgroup": "Varazdin",
         "line": {
          "color": "#636efa",
          "dash": "solid"
         },
         "marker": {
          "symbol": "circle"
         },
         "mode": "lines+markers",
         "name": "Varazdin",
         "orientation": "v",
         "showlegend": true,
         "type": "scatter",
         "x": [
          31,
          32,
          32,
          33,
          34,
          35,
          35,
          36,
          37
         ],
         "xaxis": "x",
         "y": [
          1735,
          1740,
          1737,
          1813,
          1816,
          1799,
          1816,
          1876,
          1773
         ],
         "yaxis": "y"
        }
       ],
       "layout": {
        "legend": {
         "title": {
          "text": "city"
         },
         "tracegroupgap": 0
        },
        "template": {
         "data": {
          "bar": [
           {
            "error_x": {
             "color": "#2a3f5f"
            },
            "error_y": {
             "color": "#2a3f5f"
            },
            "marker": {
             "line": {
              "color": "#E5ECF6",
              "width": 0.5
             },
             "pattern": {
              "fillmode": "overlay",
              "size": 10,
              "solidity": 0.2
             }
            },
            "type": "bar"
           }
          ],
          "barpolar": [
           {
            "marker": {
             "line": {
              "color": "#E5ECF6",
              "width": 0.5
             },
             "pattern": {
              "fillmode": "overlay",
              "size": 10,
              "solidity": 0.2
             }
            },
            "type": "barpolar"
           }
          ],
          "carpet": [
           {
            "aaxis": {
             "endlinecolor": "#2a3f5f",
             "gridcolor": "white",
             "linecolor": "white",
             "minorgridcolor": "white",
             "startlinecolor": "#2a3f5f"
            },
            "baxis": {
             "endlinecolor": "#2a3f5f",
             "gridcolor": "white",
             "linecolor": "white",
             "minorgridcolor": "white",
             "startlinecolor": "#2a3f5f"
            },
            "type": "carpet"
           }
          ],
          "choropleth": [
           {
            "colorbar": {
             "outlinewidth": 0,
             "ticks": ""
            },
            "type": "choropleth"
           }
          ],
          "contour": [
           {
            "colorbar": {
             "outlinewidth": 0,
             "ticks": ""
            },
            "colorscale": [
             [
              0,
              "#0d0887"
             ],
             [
              0.1111111111111111,
              "#46039f"
             ],
             [
              0.2222222222222222,
              "#7201a8"
             ],
             [
              0.3333333333333333,
              "#9c179e"
             ],
             [
              0.4444444444444444,
              "#bd3786"
             ],
             [
              0.5555555555555556,
              "#d8576b"
             ],
             [
              0.6666666666666666,
              "#ed7953"
             ],
             [
              0.7777777777777778,
              "#fb9f3a"
             ],
             [
              0.8888888888888888,
              "#fdca26"
             ],
             [
              1,
              "#f0f921"
             ]
            ],
            "type": "contour"
           }
          ],
          "contourcarpet": [
           {
            "colorbar": {
             "outlinewidth": 0,
             "ticks": ""
            },
            "type": "contourcarpet"
           }
          ],
          "heatmap": [
           {
            "colorbar": {
             "outlinewidth": 0,
             "ticks": ""
            },
            "colorscale": [
             [
              0,
              "#0d0887"
             ],
             [
              0.1111111111111111,
              "#46039f"
             ],
             [
              0.2222222222222222,
              "#7201a8"
             ],
             [
              0.3333333333333333,
              "#9c179e"
             ],
             [
              0.4444444444444444,
              "#bd3786"
             ],
             [
              0.5555555555555556,
              "#d8576b"
             ],
             [
              0.6666666666666666,
              "#ed7953"
             ],
             [
              0.7777777777777778,
              "#fb9f3a"
             ],
             [
              0.8888888888888888,
              "#fdca26"
             ],
             [
              1,
              "#f0f921"
             ]
            ],
            "type": "heatmap"
           }
          ],
          "heatmapgl": [
           {
            "colorbar": {
             "outlinewidth": 0,
             "ticks": ""
            },
            "colorscale": [
             [
              0,
              "#0d0887"
             ],
             [
              0.1111111111111111,
              "#46039f"
             ],
             [
              0.2222222222222222,
              "#7201a8"
             ],
             [
              0.3333333333333333,
              "#9c179e"
             ],
             [
              0.4444444444444444,
              "#bd3786"
             ],
             [
              0.5555555555555556,
              "#d8576b"
             ],
             [
              0.6666666666666666,
              "#ed7953"
             ],
             [
              0.7777777777777778,
              "#fb9f3a"
             ],
             [
              0.8888888888888888,
              "#fdca26"
             ],
             [
              1,
              "#f0f921"
             ]
            ],
            "type": "heatmapgl"
           }
          ],
          "histogram": [
           {
            "marker": {
             "pattern": {
              "fillmode": "overlay",
              "size": 10,
              "solidity": 0.2
             }
            },
            "type": "histogram"
           }
          ],
          "histogram2d": [
           {
            "colorbar": {
             "outlinewidth": 0,
             "ticks": ""
            },
            "colorscale": [
             [
              0,
              "#0d0887"
             ],
             [
              0.1111111111111111,
              "#46039f"
             ],
             [
              0.2222222222222222,
              "#7201a8"
             ],
             [
              0.3333333333333333,
              "#9c179e"
             ],
             [
              0.4444444444444444,
              "#bd3786"
             ],
             [
              0.5555555555555556,
              "#d8576b"
             ],
             [
              0.6666666666666666,
              "#ed7953"
             ],
             [
              0.7777777777777778,
              "#fb9f3a"
             ],
             [
              0.8888888888888888,
              "#fdca26"
             ],
             [
              1,
              "#f0f921"
             ]
            ],
            "type": "histogram2d"
           }
          ],
          "histogram2dcontour": [
           {
            "colorbar": {
             "outlinewidth": 0,
             "ticks": ""
            },
            "colorscale": [
             [
              0,
              "#0d0887"
             ],
             [
              0.1111111111111111,
              "#46039f"
             ],
             [
              0.2222222222222222,
              "#7201a8"
             ],
             [
              0.3333333333333333,
              "#9c179e"
             ],
             [
              0.4444444444444444,
              "#bd3786"
             ],
             [
              0.5555555555555556,
              "#d8576b"
             ],
             [
              0.6666666666666666,
              "#ed7953"
             ],
             [
              0.7777777777777778,
              "#fb9f3a"
             ],
             [
              0.8888888888888888,
              "#fdca26"
             ],
             [
              1,
              "#f0f921"
             ]
            ],
            "type": "histogram2dcontour"
           }
          ],
          "mesh3d": [
           {
            "colorbar": {
             "outlinewidth": 0,
             "ticks": ""
            },
            "type": "mesh3d"
           }
          ],
          "parcoords": [
           {
            "line": {
             "colorbar": {
              "outlinewidth": 0,
              "ticks": ""
             }
            },
            "type": "parcoords"
           }
          ],
          "pie": [
           {
            "automargin": true,
            "type": "pie"
           }
          ],
          "scatter": [
           {
            "marker": {
             "colorbar": {
              "outlinewidth": 0,
              "ticks": ""
             }
            },
            "type": "scatter"
           }
          ],
          "scatter3d": [
           {
            "line": {
             "colorbar": {
              "outlinewidth": 0,
              "ticks": ""
             }
            },
            "marker": {
             "colorbar": {
              "outlinewidth": 0,
              "ticks": ""
             }
            },
            "type": "scatter3d"
           }
          ],
          "scattercarpet": [
           {
            "marker": {
             "colorbar": {
              "outlinewidth": 0,
              "ticks": ""
             }
            },
            "type": "scattercarpet"
           }
          ],
          "scattergeo": [
           {
            "marker": {
             "colorbar": {
              "outlinewidth": 0,
              "ticks": ""
             }
            },
            "type": "scattergeo"
           }
          ],
          "scattergl": [
           {
            "marker": {
             "colorbar": {
              "outlinewidth": 0,
              "ticks": ""
             }
            },
            "type": "scattergl"
           }
          ],
          "scattermapbox": [
           {
            "marker": {
             "colorbar": {
              "outlinewidth": 0,
              "ticks": ""
             }
            },
            "type": "scattermapbox"
           }
          ],
          "scatterpolar": [
           {
            "marker": {
             "colorbar": {
              "outlinewidth": 0,
              "ticks": ""
             }
            },
            "type": "scatterpolar"
           }
          ],
          "scatterpolargl": [
           {
            "marker": {
             "colorbar": {
              "outlinewidth": 0,
              "ticks": ""
             }
            },
            "type": "scatterpolargl"
           }
          ],
          "scatterternary": [
           {
            "marker": {
             "colorbar": {
              "outlinewidth": 0,
              "ticks": ""
             }
            },
            "type": "scatterternary"
           }
          ],
          "surface": [
           {
            "colorbar": {
             "outlinewidth": 0,
             "ticks": ""
            },
            "colorscale": [
             [
              0,
              "#0d0887"
             ],
             [
              0.1111111111111111,
              "#46039f"
             ],
             [
              0.2222222222222222,
              "#7201a8"
             ],
             [
              0.3333333333333333,
              "#9c179e"
             ],
             [
              0.4444444444444444,
              "#bd3786"
             ],
             [
              0.5555555555555556,
              "#d8576b"
             ],
             [
              0.6666666666666666,
              "#ed7953"
             ],
             [
              0.7777777777777778,
              "#fb9f3a"
             ],
             [
              0.8888888888888888,
              "#fdca26"
             ],
             [
              1,
              "#f0f921"
             ]
            ],
            "type": "surface"
           }
          ],
          "table": [
           {
            "cells": {
             "fill": {
              "color": "#EBF0F8"
             },
             "line": {
              "color": "white"
             }
            },
            "header": {
             "fill": {
              "color": "#C8D4E3"
             },
             "line": {
              "color": "white"
             }
            },
            "type": "table"
           }
          ]
         },
         "layout": {
          "annotationdefaults": {
           "arrowcolor": "#2a3f5f",
           "arrowhead": 0,
           "arrowwidth": 1
          },
          "autotypenumbers": "strict",
          "coloraxis": {
           "colorbar": {
            "outlinewidth": 0,
            "ticks": ""
           }
          },
          "colorscale": {
           "diverging": [
            [
             0,
             "#8e0152"
            ],
            [
             0.1,
             "#c51b7d"
            ],
            [
             0.2,
             "#de77ae"
            ],
            [
             0.3,
             "#f1b6da"
            ],
            [
             0.4,
             "#fde0ef"
            ],
            [
             0.5,
             "#f7f7f7"
            ],
            [
             0.6,
             "#e6f5d0"
            ],
            [
             0.7,
             "#b8e186"
            ],
            [
             0.8,
             "#7fbc41"
            ],
            [
             0.9,
             "#4d9221"
            ],
            [
             1,
             "#276419"
            ]
           ],
           "sequential": [
            [
             0,
             "#0d0887"
            ],
            [
             0.1111111111111111,
             "#46039f"
            ],
            [
             0.2222222222222222,
             "#7201a8"
            ],
            [
             0.3333333333333333,
             "#9c179e"
            ],
            [
             0.4444444444444444,
             "#bd3786"
            ],
            [
             0.5555555555555556,
             "#d8576b"
            ],
            [
             0.6666666666666666,
             "#ed7953"
            ],
            [
             0.7777777777777778,
             "#fb9f3a"
            ],
            [
             0.8888888888888888,
             "#fdca26"
            ],
            [
             1,
             "#f0f921"
            ]
           ],
           "sequentialminus": [
            [
             0,
             "#0d0887"
            ],
            [
             0.1111111111111111,
             "#46039f"
            ],
            [
             0.2222222222222222,
             "#7201a8"
            ],
            [
             0.3333333333333333,
             "#9c179e"
            ],
            [
             0.4444444444444444,
             "#bd3786"
            ],
            [
             0.5555555555555556,
             "#d8576b"
            ],
            [
             0.6666666666666666,
             "#ed7953"
            ],
            [
             0.7777777777777778,
             "#fb9f3a"
            ],
            [
             0.8888888888888888,
             "#fdca26"
            ],
            [
             1,
             "#f0f921"
            ]
           ]
          },
          "colorway": [
           "#636efa",
           "#EF553B",
           "#00cc96",
           "#ab63fa",
           "#FFA15A",
           "#19d3f3",
           "#FF6692",
           "#B6E880",
           "#FF97FF",
           "#FECB52"
          ],
          "font": {
           "color": "#2a3f5f"
          },
          "geo": {
           "bgcolor": "white",
           "lakecolor": "white",
           "landcolor": "#E5ECF6",
           "showlakes": true,
           "showland": true,
           "subunitcolor": "white"
          },
          "hoverlabel": {
           "align": "left"
          },
          "hovermode": "closest",
          "mapbox": {
           "style": "light"
          },
          "paper_bgcolor": "white",
          "plot_bgcolor": "#E5ECF6",
          "polar": {
           "angularaxis": {
            "gridcolor": "white",
            "linecolor": "white",
            "ticks": ""
           },
           "bgcolor": "#E5ECF6",
           "radialaxis": {
            "gridcolor": "white",
            "linecolor": "white",
            "ticks": ""
           }
          },
          "scene": {
           "xaxis": {
            "backgroundcolor": "#E5ECF6",
            "gridcolor": "white",
            "gridwidth": 2,
            "linecolor": "white",
            "showbackground": true,
            "ticks": "",
            "zerolinecolor": "white"
           },
           "yaxis": {
            "backgroundcolor": "#E5ECF6",
            "gridcolor": "white",
            "gridwidth": 2,
            "linecolor": "white",
            "showbackground": true,
            "ticks": "",
            "zerolinecolor": "white"
           },
           "zaxis": {
            "backgroundcolor": "#E5ECF6",
            "gridcolor": "white",
            "gridwidth": 2,
            "linecolor": "white",
            "showbackground": true,
            "ticks": "",
            "zerolinecolor": "white"
           }
          },
          "shapedefaults": {
           "line": {
            "color": "#2a3f5f"
           }
          },
          "ternary": {
           "aaxis": {
            "gridcolor": "white",
            "linecolor": "white",
            "ticks": ""
           },
           "baxis": {
            "gridcolor": "white",
            "linecolor": "white",
            "ticks": ""
           },
           "bgcolor": "#E5ECF6",
           "caxis": {
            "gridcolor": "white",
            "linecolor": "white",
            "ticks": ""
           }
          },
          "title": {
           "x": 0.05
          },
          "xaxis": {
           "automargin": true,
           "gridcolor": "white",
           "linecolor": "white",
           "ticks": "",
           "title": {
            "standoff": 15
           },
           "zerolinecolor": "white",
           "zerolinewidth": 2
          },
          "yaxis": {
           "automargin": true,
           "gridcolor": "white",
           "linecolor": "white",
           "ticks": "",
           "title": {
            "standoff": 15
           },
           "zerolinecolor": "white",
           "zerolinewidth": 2
          }
         }
        },
        "title": {
         "text": "Varazdin"
        },
        "xaxis": {
         "anchor": "y",
         "domain": [
          0,
          1
         ],
         "title": {
          "text": "calendar_week"
         }
        },
        "yaxis": {
         "anchor": "x",
         "domain": [
          0,
          1
         ],
         "title": {
          "text": "avg_price_sqrm"
         }
        }
       }
      }
     },
     "metadata": {},
     "output_type": "display_data"
    },
    {
     "data": {
      "application/vnd.plotly.v1+json": {
       "config": {
        "plotlyServerURL": "https://plot.ly"
       },
       "data": [
        {
         "hovertemplate": "city=Rijeka<br>calendar_week=%{x}<br>avg_price_sqrm=%{y}<extra></extra>",
         "legendgroup": "Rijeka",
         "line": {
          "color": "#636efa",
          "dash": "solid"
         },
         "marker": {
          "symbol": "circle"
         },
         "mode": "lines+markers",
         "name": "Rijeka",
         "orientation": "v",
         "showlegend": true,
         "type": "scatter",
         "x": [
          33,
          35,
          36,
          37
         ],
         "xaxis": "x",
         "y": [
          1996,
          2002,
          2008,
          2017
         ],
         "yaxis": "y"
        }
       ],
       "layout": {
        "legend": {
         "title": {
          "text": "city"
         },
         "tracegroupgap": 0
        },
        "template": {
         "data": {
          "bar": [
           {
            "error_x": {
             "color": "#2a3f5f"
            },
            "error_y": {
             "color": "#2a3f5f"
            },
            "marker": {
             "line": {
              "color": "#E5ECF6",
              "width": 0.5
             },
             "pattern": {
              "fillmode": "overlay",
              "size": 10,
              "solidity": 0.2
             }
            },
            "type": "bar"
           }
          ],
          "barpolar": [
           {
            "marker": {
             "line": {
              "color": "#E5ECF6",
              "width": 0.5
             },
             "pattern": {
              "fillmode": "overlay",
              "size": 10,
              "solidity": 0.2
             }
            },
            "type": "barpolar"
           }
          ],
          "carpet": [
           {
            "aaxis": {
             "endlinecolor": "#2a3f5f",
             "gridcolor": "white",
             "linecolor": "white",
             "minorgridcolor": "white",
             "startlinecolor": "#2a3f5f"
            },
            "baxis": {
             "endlinecolor": "#2a3f5f",
             "gridcolor": "white",
             "linecolor": "white",
             "minorgridcolor": "white",
             "startlinecolor": "#2a3f5f"
            },
            "type": "carpet"
           }
          ],
          "choropleth": [
           {
            "colorbar": {
             "outlinewidth": 0,
             "ticks": ""
            },
            "type": "choropleth"
           }
          ],
          "contour": [
           {
            "colorbar": {
             "outlinewidth": 0,
             "ticks": ""
            },
            "colorscale": [
             [
              0,
              "#0d0887"
             ],
             [
              0.1111111111111111,
              "#46039f"
             ],
             [
              0.2222222222222222,
              "#7201a8"
             ],
             [
              0.3333333333333333,
              "#9c179e"
             ],
             [
              0.4444444444444444,
              "#bd3786"
             ],
             [
              0.5555555555555556,
              "#d8576b"
             ],
             [
              0.6666666666666666,
              "#ed7953"
             ],
             [
              0.7777777777777778,
              "#fb9f3a"
             ],
             [
              0.8888888888888888,
              "#fdca26"
             ],
             [
              1,
              "#f0f921"
             ]
            ],
            "type": "contour"
           }
          ],
          "contourcarpet": [
           {
            "colorbar": {
             "outlinewidth": 0,
             "ticks": ""
            },
            "type": "contourcarpet"
           }
          ],
          "heatmap": [
           {
            "colorbar": {
             "outlinewidth": 0,
             "ticks": ""
            },
            "colorscale": [
             [
              0,
              "#0d0887"
             ],
             [
              0.1111111111111111,
              "#46039f"
             ],
             [
              0.2222222222222222,
              "#7201a8"
             ],
             [
              0.3333333333333333,
              "#9c179e"
             ],
             [
              0.4444444444444444,
              "#bd3786"
             ],
             [
              0.5555555555555556,
              "#d8576b"
             ],
             [
              0.6666666666666666,
              "#ed7953"
             ],
             [
              0.7777777777777778,
              "#fb9f3a"
             ],
             [
              0.8888888888888888,
              "#fdca26"
             ],
             [
              1,
              "#f0f921"
             ]
            ],
            "type": "heatmap"
           }
          ],
          "heatmapgl": [
           {
            "colorbar": {
             "outlinewidth": 0,
             "ticks": ""
            },
            "colorscale": [
             [
              0,
              "#0d0887"
             ],
             [
              0.1111111111111111,
              "#46039f"
             ],
             [
              0.2222222222222222,
              "#7201a8"
             ],
             [
              0.3333333333333333,
              "#9c179e"
             ],
             [
              0.4444444444444444,
              "#bd3786"
             ],
             [
              0.5555555555555556,
              "#d8576b"
             ],
             [
              0.6666666666666666,
              "#ed7953"
             ],
             [
              0.7777777777777778,
              "#fb9f3a"
             ],
             [
              0.8888888888888888,
              "#fdca26"
             ],
             [
              1,
              "#f0f921"
             ]
            ],
            "type": "heatmapgl"
           }
          ],
          "histogram": [
           {
            "marker": {
             "pattern": {
              "fillmode": "overlay",
              "size": 10,
              "solidity": 0.2
             }
            },
            "type": "histogram"
           }
          ],
          "histogram2d": [
           {
            "colorbar": {
             "outlinewidth": 0,
             "ticks": ""
            },
            "colorscale": [
             [
              0,
              "#0d0887"
             ],
             [
              0.1111111111111111,
              "#46039f"
             ],
             [
              0.2222222222222222,
              "#7201a8"
             ],
             [
              0.3333333333333333,
              "#9c179e"
             ],
             [
              0.4444444444444444,
              "#bd3786"
             ],
             [
              0.5555555555555556,
              "#d8576b"
             ],
             [
              0.6666666666666666,
              "#ed7953"
             ],
             [
              0.7777777777777778,
              "#fb9f3a"
             ],
             [
              0.8888888888888888,
              "#fdca26"
             ],
             [
              1,
              "#f0f921"
             ]
            ],
            "type": "histogram2d"
           }
          ],
          "histogram2dcontour": [
           {
            "colorbar": {
             "outlinewidth": 0,
             "ticks": ""
            },
            "colorscale": [
             [
              0,
              "#0d0887"
             ],
             [
              0.1111111111111111,
              "#46039f"
             ],
             [
              0.2222222222222222,
              "#7201a8"
             ],
             [
              0.3333333333333333,
              "#9c179e"
             ],
             [
              0.4444444444444444,
              "#bd3786"
             ],
             [
              0.5555555555555556,
              "#d8576b"
             ],
             [
              0.6666666666666666,
              "#ed7953"
             ],
             [
              0.7777777777777778,
              "#fb9f3a"
             ],
             [
              0.8888888888888888,
              "#fdca26"
             ],
             [
              1,
              "#f0f921"
             ]
            ],
            "type": "histogram2dcontour"
           }
          ],
          "mesh3d": [
           {
            "colorbar": {
             "outlinewidth": 0,
             "ticks": ""
            },
            "type": "mesh3d"
           }
          ],
          "parcoords": [
           {
            "line": {
             "colorbar": {
              "outlinewidth": 0,
              "ticks": ""
             }
            },
            "type": "parcoords"
           }
          ],
          "pie": [
           {
            "automargin": true,
            "type": "pie"
           }
          ],
          "scatter": [
           {
            "marker": {
             "colorbar": {
              "outlinewidth": 0,
              "ticks": ""
             }
            },
            "type": "scatter"
           }
          ],
          "scatter3d": [
           {
            "line": {
             "colorbar": {
              "outlinewidth": 0,
              "ticks": ""
             }
            },
            "marker": {
             "colorbar": {
              "outlinewidth": 0,
              "ticks": ""
             }
            },
            "type": "scatter3d"
           }
          ],
          "scattercarpet": [
           {
            "marker": {
             "colorbar": {
              "outlinewidth": 0,
              "ticks": ""
             }
            },
            "type": "scattercarpet"
           }
          ],
          "scattergeo": [
           {
            "marker": {
             "colorbar": {
              "outlinewidth": 0,
              "ticks": ""
             }
            },
            "type": "scattergeo"
           }
          ],
          "scattergl": [
           {
            "marker": {
             "colorbar": {
              "outlinewidth": 0,
              "ticks": ""
             }
            },
            "type": "scattergl"
           }
          ],
          "scattermapbox": [
           {
            "marker": {
             "colorbar": {
              "outlinewidth": 0,
              "ticks": ""
             }
            },
            "type": "scattermapbox"
           }
          ],
          "scatterpolar": [
           {
            "marker": {
             "colorbar": {
              "outlinewidth": 0,
              "ticks": ""
             }
            },
            "type": "scatterpolar"
           }
          ],
          "scatterpolargl": [
           {
            "marker": {
             "colorbar": {
              "outlinewidth": 0,
              "ticks": ""
             }
            },
            "type": "scatterpolargl"
           }
          ],
          "scatterternary": [
           {
            "marker": {
             "colorbar": {
              "outlinewidth": 0,
              "ticks": ""
             }
            },
            "type": "scatterternary"
           }
          ],
          "surface": [
           {
            "colorbar": {
             "outlinewidth": 0,
             "ticks": ""
            },
            "colorscale": [
             [
              0,
              "#0d0887"
             ],
             [
              0.1111111111111111,
              "#46039f"
             ],
             [
              0.2222222222222222,
              "#7201a8"
             ],
             [
              0.3333333333333333,
              "#9c179e"
             ],
             [
              0.4444444444444444,
              "#bd3786"
             ],
             [
              0.5555555555555556,
              "#d8576b"
             ],
             [
              0.6666666666666666,
              "#ed7953"
             ],
             [
              0.7777777777777778,
              "#fb9f3a"
             ],
             [
              0.8888888888888888,
              "#fdca26"
             ],
             [
              1,
              "#f0f921"
             ]
            ],
            "type": "surface"
           }
          ],
          "table": [
           {
            "cells": {
             "fill": {
              "color": "#EBF0F8"
             },
             "line": {
              "color": "white"
             }
            },
            "header": {
             "fill": {
              "color": "#C8D4E3"
             },
             "line": {
              "color": "white"
             }
            },
            "type": "table"
           }
          ]
         },
         "layout": {
          "annotationdefaults": {
           "arrowcolor": "#2a3f5f",
           "arrowhead": 0,
           "arrowwidth": 1
          },
          "autotypenumbers": "strict",
          "coloraxis": {
           "colorbar": {
            "outlinewidth": 0,
            "ticks": ""
           }
          },
          "colorscale": {
           "diverging": [
            [
             0,
             "#8e0152"
            ],
            [
             0.1,
             "#c51b7d"
            ],
            [
             0.2,
             "#de77ae"
            ],
            [
             0.3,
             "#f1b6da"
            ],
            [
             0.4,
             "#fde0ef"
            ],
            [
             0.5,
             "#f7f7f7"
            ],
            [
             0.6,
             "#e6f5d0"
            ],
            [
             0.7,
             "#b8e186"
            ],
            [
             0.8,
             "#7fbc41"
            ],
            [
             0.9,
             "#4d9221"
            ],
            [
             1,
             "#276419"
            ]
           ],
           "sequential": [
            [
             0,
             "#0d0887"
            ],
            [
             0.1111111111111111,
             "#46039f"
            ],
            [
             0.2222222222222222,
             "#7201a8"
            ],
            [
             0.3333333333333333,
             "#9c179e"
            ],
            [
             0.4444444444444444,
             "#bd3786"
            ],
            [
             0.5555555555555556,
             "#d8576b"
            ],
            [
             0.6666666666666666,
             "#ed7953"
            ],
            [
             0.7777777777777778,
             "#fb9f3a"
            ],
            [
             0.8888888888888888,
             "#fdca26"
            ],
            [
             1,
             "#f0f921"
            ]
           ],
           "sequentialminus": [
            [
             0,
             "#0d0887"
            ],
            [
             0.1111111111111111,
             "#46039f"
            ],
            [
             0.2222222222222222,
             "#7201a8"
            ],
            [
             0.3333333333333333,
             "#9c179e"
            ],
            [
             0.4444444444444444,
             "#bd3786"
            ],
            [
             0.5555555555555556,
             "#d8576b"
            ],
            [
             0.6666666666666666,
             "#ed7953"
            ],
            [
             0.7777777777777778,
             "#fb9f3a"
            ],
            [
             0.8888888888888888,
             "#fdca26"
            ],
            [
             1,
             "#f0f921"
            ]
           ]
          },
          "colorway": [
           "#636efa",
           "#EF553B",
           "#00cc96",
           "#ab63fa",
           "#FFA15A",
           "#19d3f3",
           "#FF6692",
           "#B6E880",
           "#FF97FF",
           "#FECB52"
          ],
          "font": {
           "color": "#2a3f5f"
          },
          "geo": {
           "bgcolor": "white",
           "lakecolor": "white",
           "landcolor": "#E5ECF6",
           "showlakes": true,
           "showland": true,
           "subunitcolor": "white"
          },
          "hoverlabel": {
           "align": "left"
          },
          "hovermode": "closest",
          "mapbox": {
           "style": "light"
          },
          "paper_bgcolor": "white",
          "plot_bgcolor": "#E5ECF6",
          "polar": {
           "angularaxis": {
            "gridcolor": "white",
            "linecolor": "white",
            "ticks": ""
           },
           "bgcolor": "#E5ECF6",
           "radialaxis": {
            "gridcolor": "white",
            "linecolor": "white",
            "ticks": ""
           }
          },
          "scene": {
           "xaxis": {
            "backgroundcolor": "#E5ECF6",
            "gridcolor": "white",
            "gridwidth": 2,
            "linecolor": "white",
            "showbackground": true,
            "ticks": "",
            "zerolinecolor": "white"
           },
           "yaxis": {
            "backgroundcolor": "#E5ECF6",
            "gridcolor": "white",
            "gridwidth": 2,
            "linecolor": "white",
            "showbackground": true,
            "ticks": "",
            "zerolinecolor": "white"
           },
           "zaxis": {
            "backgroundcolor": "#E5ECF6",
            "gridcolor": "white",
            "gridwidth": 2,
            "linecolor": "white",
            "showbackground": true,
            "ticks": "",
            "zerolinecolor": "white"
           }
          },
          "shapedefaults": {
           "line": {
            "color": "#2a3f5f"
           }
          },
          "ternary": {
           "aaxis": {
            "gridcolor": "white",
            "linecolor": "white",
            "ticks": ""
           },
           "baxis": {
            "gridcolor": "white",
            "linecolor": "white",
            "ticks": ""
           },
           "bgcolor": "#E5ECF6",
           "caxis": {
            "gridcolor": "white",
            "linecolor": "white",
            "ticks": ""
           }
          },
          "title": {
           "x": 0.05
          },
          "xaxis": {
           "automargin": true,
           "gridcolor": "white",
           "linecolor": "white",
           "ticks": "",
           "title": {
            "standoff": 15
           },
           "zerolinecolor": "white",
           "zerolinewidth": 2
          },
          "yaxis": {
           "automargin": true,
           "gridcolor": "white",
           "linecolor": "white",
           "ticks": "",
           "title": {
            "standoff": 15
           },
           "zerolinecolor": "white",
           "zerolinewidth": 2
          }
         }
        },
        "title": {
         "text": "Rijeka"
        },
        "xaxis": {
         "anchor": "y",
         "domain": [
          0,
          1
         ],
         "title": {
          "text": "calendar_week"
         }
        },
        "yaxis": {
         "anchor": "x",
         "domain": [
          0,
          1
         ],
         "title": {
          "text": "avg_price_sqrm"
         }
        }
       }
      }
     },
     "metadata": {},
     "output_type": "display_data"
    },
    {
     "data": {
      "application/vnd.plotly.v1+json": {
       "config": {
        "plotlyServerURL": "https://plot.ly"
       },
       "data": [
        {
         "hovertemplate": "city=Split<br>calendar_week=%{x}<br>avg_price_sqrm=%{y}<extra></extra>",
         "legendgroup": "Split",
         "line": {
          "color": "#636efa",
          "dash": "solid"
         },
         "marker": {
          "symbol": "circle"
         },
         "mode": "lines+markers",
         "name": "Split",
         "orientation": "v",
         "showlegend": true,
         "type": "scatter",
         "x": [
          33,
          34,
          35,
          36,
          37
         ],
         "xaxis": "x",
         "y": [
          3616,
          3647,
          3678,
          3684,
          3696
         ],
         "yaxis": "y"
        }
       ],
       "layout": {
        "legend": {
         "title": {
          "text": "city"
         },
         "tracegroupgap": 0
        },
        "template": {
         "data": {
          "bar": [
           {
            "error_x": {
             "color": "#2a3f5f"
            },
            "error_y": {
             "color": "#2a3f5f"
            },
            "marker": {
             "line": {
              "color": "#E5ECF6",
              "width": 0.5
             },
             "pattern": {
              "fillmode": "overlay",
              "size": 10,
              "solidity": 0.2
             }
            },
            "type": "bar"
           }
          ],
          "barpolar": [
           {
            "marker": {
             "line": {
              "color": "#E5ECF6",
              "width": 0.5
             },
             "pattern": {
              "fillmode": "overlay",
              "size": 10,
              "solidity": 0.2
             }
            },
            "type": "barpolar"
           }
          ],
          "carpet": [
           {
            "aaxis": {
             "endlinecolor": "#2a3f5f",
             "gridcolor": "white",
             "linecolor": "white",
             "minorgridcolor": "white",
             "startlinecolor": "#2a3f5f"
            },
            "baxis": {
             "endlinecolor": "#2a3f5f",
             "gridcolor": "white",
             "linecolor": "white",
             "minorgridcolor": "white",
             "startlinecolor": "#2a3f5f"
            },
            "type": "carpet"
           }
          ],
          "choropleth": [
           {
            "colorbar": {
             "outlinewidth": 0,
             "ticks": ""
            },
            "type": "choropleth"
           }
          ],
          "contour": [
           {
            "colorbar": {
             "outlinewidth": 0,
             "ticks": ""
            },
            "colorscale": [
             [
              0,
              "#0d0887"
             ],
             [
              0.1111111111111111,
              "#46039f"
             ],
             [
              0.2222222222222222,
              "#7201a8"
             ],
             [
              0.3333333333333333,
              "#9c179e"
             ],
             [
              0.4444444444444444,
              "#bd3786"
             ],
             [
              0.5555555555555556,
              "#d8576b"
             ],
             [
              0.6666666666666666,
              "#ed7953"
             ],
             [
              0.7777777777777778,
              "#fb9f3a"
             ],
             [
              0.8888888888888888,
              "#fdca26"
             ],
             [
              1,
              "#f0f921"
             ]
            ],
            "type": "contour"
           }
          ],
          "contourcarpet": [
           {
            "colorbar": {
             "outlinewidth": 0,
             "ticks": ""
            },
            "type": "contourcarpet"
           }
          ],
          "heatmap": [
           {
            "colorbar": {
             "outlinewidth": 0,
             "ticks": ""
            },
            "colorscale": [
             [
              0,
              "#0d0887"
             ],
             [
              0.1111111111111111,
              "#46039f"
             ],
             [
              0.2222222222222222,
              "#7201a8"
             ],
             [
              0.3333333333333333,
              "#9c179e"
             ],
             [
              0.4444444444444444,
              "#bd3786"
             ],
             [
              0.5555555555555556,
              "#d8576b"
             ],
             [
              0.6666666666666666,
              "#ed7953"
             ],
             [
              0.7777777777777778,
              "#fb9f3a"
             ],
             [
              0.8888888888888888,
              "#fdca26"
             ],
             [
              1,
              "#f0f921"
             ]
            ],
            "type": "heatmap"
           }
          ],
          "heatmapgl": [
           {
            "colorbar": {
             "outlinewidth": 0,
             "ticks": ""
            },
            "colorscale": [
             [
              0,
              "#0d0887"
             ],
             [
              0.1111111111111111,
              "#46039f"
             ],
             [
              0.2222222222222222,
              "#7201a8"
             ],
             [
              0.3333333333333333,
              "#9c179e"
             ],
             [
              0.4444444444444444,
              "#bd3786"
             ],
             [
              0.5555555555555556,
              "#d8576b"
             ],
             [
              0.6666666666666666,
              "#ed7953"
             ],
             [
              0.7777777777777778,
              "#fb9f3a"
             ],
             [
              0.8888888888888888,
              "#fdca26"
             ],
             [
              1,
              "#f0f921"
             ]
            ],
            "type": "heatmapgl"
           }
          ],
          "histogram": [
           {
            "marker": {
             "pattern": {
              "fillmode": "overlay",
              "size": 10,
              "solidity": 0.2
             }
            },
            "type": "histogram"
           }
          ],
          "histogram2d": [
           {
            "colorbar": {
             "outlinewidth": 0,
             "ticks": ""
            },
            "colorscale": [
             [
              0,
              "#0d0887"
             ],
             [
              0.1111111111111111,
              "#46039f"
             ],
             [
              0.2222222222222222,
              "#7201a8"
             ],
             [
              0.3333333333333333,
              "#9c179e"
             ],
             [
              0.4444444444444444,
              "#bd3786"
             ],
             [
              0.5555555555555556,
              "#d8576b"
             ],
             [
              0.6666666666666666,
              "#ed7953"
             ],
             [
              0.7777777777777778,
              "#fb9f3a"
             ],
             [
              0.8888888888888888,
              "#fdca26"
             ],
             [
              1,
              "#f0f921"
             ]
            ],
            "type": "histogram2d"
           }
          ],
          "histogram2dcontour": [
           {
            "colorbar": {
             "outlinewidth": 0,
             "ticks": ""
            },
            "colorscale": [
             [
              0,
              "#0d0887"
             ],
             [
              0.1111111111111111,
              "#46039f"
             ],
             [
              0.2222222222222222,
              "#7201a8"
             ],
             [
              0.3333333333333333,
              "#9c179e"
             ],
             [
              0.4444444444444444,
              "#bd3786"
             ],
             [
              0.5555555555555556,
              "#d8576b"
             ],
             [
              0.6666666666666666,
              "#ed7953"
             ],
             [
              0.7777777777777778,
              "#fb9f3a"
             ],
             [
              0.8888888888888888,
              "#fdca26"
             ],
             [
              1,
              "#f0f921"
             ]
            ],
            "type": "histogram2dcontour"
           }
          ],
          "mesh3d": [
           {
            "colorbar": {
             "outlinewidth": 0,
             "ticks": ""
            },
            "type": "mesh3d"
           }
          ],
          "parcoords": [
           {
            "line": {
             "colorbar": {
              "outlinewidth": 0,
              "ticks": ""
             }
            },
            "type": "parcoords"
           }
          ],
          "pie": [
           {
            "automargin": true,
            "type": "pie"
           }
          ],
          "scatter": [
           {
            "marker": {
             "colorbar": {
              "outlinewidth": 0,
              "ticks": ""
             }
            },
            "type": "scatter"
           }
          ],
          "scatter3d": [
           {
            "line": {
             "colorbar": {
              "outlinewidth": 0,
              "ticks": ""
             }
            },
            "marker": {
             "colorbar": {
              "outlinewidth": 0,
              "ticks": ""
             }
            },
            "type": "scatter3d"
           }
          ],
          "scattercarpet": [
           {
            "marker": {
             "colorbar": {
              "outlinewidth": 0,
              "ticks": ""
             }
            },
            "type": "scattercarpet"
           }
          ],
          "scattergeo": [
           {
            "marker": {
             "colorbar": {
              "outlinewidth": 0,
              "ticks": ""
             }
            },
            "type": "scattergeo"
           }
          ],
          "scattergl": [
           {
            "marker": {
             "colorbar": {
              "outlinewidth": 0,
              "ticks": ""
             }
            },
            "type": "scattergl"
           }
          ],
          "scattermapbox": [
           {
            "marker": {
             "colorbar": {
              "outlinewidth": 0,
              "ticks": ""
             }
            },
            "type": "scattermapbox"
           }
          ],
          "scatterpolar": [
           {
            "marker": {
             "colorbar": {
              "outlinewidth": 0,
              "ticks": ""
             }
            },
            "type": "scatterpolar"
           }
          ],
          "scatterpolargl": [
           {
            "marker": {
             "colorbar": {
              "outlinewidth": 0,
              "ticks": ""
             }
            },
            "type": "scatterpolargl"
           }
          ],
          "scatterternary": [
           {
            "marker": {
             "colorbar": {
              "outlinewidth": 0,
              "ticks": ""
             }
            },
            "type": "scatterternary"
           }
          ],
          "surface": [
           {
            "colorbar": {
             "outlinewidth": 0,
             "ticks": ""
            },
            "colorscale": [
             [
              0,
              "#0d0887"
             ],
             [
              0.1111111111111111,
              "#46039f"
             ],
             [
              0.2222222222222222,
              "#7201a8"
             ],
             [
              0.3333333333333333,
              "#9c179e"
             ],
             [
              0.4444444444444444,
              "#bd3786"
             ],
             [
              0.5555555555555556,
              "#d8576b"
             ],
             [
              0.6666666666666666,
              "#ed7953"
             ],
             [
              0.7777777777777778,
              "#fb9f3a"
             ],
             [
              0.8888888888888888,
              "#fdca26"
             ],
             [
              1,
              "#f0f921"
             ]
            ],
            "type": "surface"
           }
          ],
          "table": [
           {
            "cells": {
             "fill": {
              "color": "#EBF0F8"
             },
             "line": {
              "color": "white"
             }
            },
            "header": {
             "fill": {
              "color": "#C8D4E3"
             },
             "line": {
              "color": "white"
             }
            },
            "type": "table"
           }
          ]
         },
         "layout": {
          "annotationdefaults": {
           "arrowcolor": "#2a3f5f",
           "arrowhead": 0,
           "arrowwidth": 1
          },
          "autotypenumbers": "strict",
          "coloraxis": {
           "colorbar": {
            "outlinewidth": 0,
            "ticks": ""
           }
          },
          "colorscale": {
           "diverging": [
            [
             0,
             "#8e0152"
            ],
            [
             0.1,
             "#c51b7d"
            ],
            [
             0.2,
             "#de77ae"
            ],
            [
             0.3,
             "#f1b6da"
            ],
            [
             0.4,
             "#fde0ef"
            ],
            [
             0.5,
             "#f7f7f7"
            ],
            [
             0.6,
             "#e6f5d0"
            ],
            [
             0.7,
             "#b8e186"
            ],
            [
             0.8,
             "#7fbc41"
            ],
            [
             0.9,
             "#4d9221"
            ],
            [
             1,
             "#276419"
            ]
           ],
           "sequential": [
            [
             0,
             "#0d0887"
            ],
            [
             0.1111111111111111,
             "#46039f"
            ],
            [
             0.2222222222222222,
             "#7201a8"
            ],
            [
             0.3333333333333333,
             "#9c179e"
            ],
            [
             0.4444444444444444,
             "#bd3786"
            ],
            [
             0.5555555555555556,
             "#d8576b"
            ],
            [
             0.6666666666666666,
             "#ed7953"
            ],
            [
             0.7777777777777778,
             "#fb9f3a"
            ],
            [
             0.8888888888888888,
             "#fdca26"
            ],
            [
             1,
             "#f0f921"
            ]
           ],
           "sequentialminus": [
            [
             0,
             "#0d0887"
            ],
            [
             0.1111111111111111,
             "#46039f"
            ],
            [
             0.2222222222222222,
             "#7201a8"
            ],
            [
             0.3333333333333333,
             "#9c179e"
            ],
            [
             0.4444444444444444,
             "#bd3786"
            ],
            [
             0.5555555555555556,
             "#d8576b"
            ],
            [
             0.6666666666666666,
             "#ed7953"
            ],
            [
             0.7777777777777778,
             "#fb9f3a"
            ],
            [
             0.8888888888888888,
             "#fdca26"
            ],
            [
             1,
             "#f0f921"
            ]
           ]
          },
          "colorway": [
           "#636efa",
           "#EF553B",
           "#00cc96",
           "#ab63fa",
           "#FFA15A",
           "#19d3f3",
           "#FF6692",
           "#B6E880",
           "#FF97FF",
           "#FECB52"
          ],
          "font": {
           "color": "#2a3f5f"
          },
          "geo": {
           "bgcolor": "white",
           "lakecolor": "white",
           "landcolor": "#E5ECF6",
           "showlakes": true,
           "showland": true,
           "subunitcolor": "white"
          },
          "hoverlabel": {
           "align": "left"
          },
          "hovermode": "closest",
          "mapbox": {
           "style": "light"
          },
          "paper_bgcolor": "white",
          "plot_bgcolor": "#E5ECF6",
          "polar": {
           "angularaxis": {
            "gridcolor": "white",
            "linecolor": "white",
            "ticks": ""
           },
           "bgcolor": "#E5ECF6",
           "radialaxis": {
            "gridcolor": "white",
            "linecolor": "white",
            "ticks": ""
           }
          },
          "scene": {
           "xaxis": {
            "backgroundcolor": "#E5ECF6",
            "gridcolor": "white",
            "gridwidth": 2,
            "linecolor": "white",
            "showbackground": true,
            "ticks": "",
            "zerolinecolor": "white"
           },
           "yaxis": {
            "backgroundcolor": "#E5ECF6",
            "gridcolor": "white",
            "gridwidth": 2,
            "linecolor": "white",
            "showbackground": true,
            "ticks": "",
            "zerolinecolor": "white"
           },
           "zaxis": {
            "backgroundcolor": "#E5ECF6",
            "gridcolor": "white",
            "gridwidth": 2,
            "linecolor": "white",
            "showbackground": true,
            "ticks": "",
            "zerolinecolor": "white"
           }
          },
          "shapedefaults": {
           "line": {
            "color": "#2a3f5f"
           }
          },
          "ternary": {
           "aaxis": {
            "gridcolor": "white",
            "linecolor": "white",
            "ticks": ""
           },
           "baxis": {
            "gridcolor": "white",
            "linecolor": "white",
            "ticks": ""
           },
           "bgcolor": "#E5ECF6",
           "caxis": {
            "gridcolor": "white",
            "linecolor": "white",
            "ticks": ""
           }
          },
          "title": {
           "x": 0.05
          },
          "xaxis": {
           "automargin": true,
           "gridcolor": "white",
           "linecolor": "white",
           "ticks": "",
           "title": {
            "standoff": 15
           },
           "zerolinecolor": "white",
           "zerolinewidth": 2
          },
          "yaxis": {
           "automargin": true,
           "gridcolor": "white",
           "linecolor": "white",
           "ticks": "",
           "title": {
            "standoff": 15
           },
           "zerolinecolor": "white",
           "zerolinewidth": 2
          }
         }
        },
        "title": {
         "text": "Split"
        },
        "xaxis": {
         "anchor": "y",
         "domain": [
          0,
          1
         ],
         "title": {
          "text": "calendar_week"
         }
        },
        "yaxis": {
         "anchor": "x",
         "domain": [
          0,
          1
         ],
         "title": {
          "text": "avg_price_sqrm"
         }
        }
       }
      }
     },
     "metadata": {},
     "output_type": "display_data"
    }
   ],
   "source": [
    "#PLOTLY FOR DJANGO OBJECTS\n",
    "df = pd.read_excel(\"Django_Objects.xlsx\")\n",
    "\n",
    "for grad in list(df[\"city\"].unique()):\n",
    "    fig = px.line(df[df[\"city\"] == grad], x=\"calendar_week\", y=\"avg_price_sqrm\", color = 'city', markers=True, title=grad)\n",
    "    fig.show()"
   ]
  },
  {
   "cell_type": "code",
   "execution_count": 4,
   "metadata": {},
   "outputs": [
    {
     "data": {
      "application/vnd.plotly.v1+json": {
       "config": {
        "plotlyServerURL": "https://plot.ly"
       },
       "data": [
        {
         "hovertemplate": "city=Rovinj<br>calendar_week=%{x}<br>raw_entries=%{y}<extra></extra>",
         "legendgroup": "Rovinj",
         "line": {
          "color": "#636efa",
          "dash": "solid"
         },
         "marker": {
          "symbol": "circle"
         },
         "mode": "lines+markers",
         "name": "Rovinj",
         "orientation": "v",
         "showlegend": true,
         "type": "scatter",
         "x": [
          30,
          33,
          34,
          35,
          35,
          36,
          37
         ],
         "xaxis": "x",
         "y": [
          544,
          569,
          572,
          562,
          565,
          427,
          571
         ],
         "yaxis": "y"
        }
       ],
       "layout": {
        "legend": {
         "title": {
          "text": "city"
         },
         "tracegroupgap": 0
        },
        "template": {
         "data": {
          "bar": [
           {
            "error_x": {
             "color": "#2a3f5f"
            },
            "error_y": {
             "color": "#2a3f5f"
            },
            "marker": {
             "line": {
              "color": "#E5ECF6",
              "width": 0.5
             },
             "pattern": {
              "fillmode": "overlay",
              "size": 10,
              "solidity": 0.2
             }
            },
            "type": "bar"
           }
          ],
          "barpolar": [
           {
            "marker": {
             "line": {
              "color": "#E5ECF6",
              "width": 0.5
             },
             "pattern": {
              "fillmode": "overlay",
              "size": 10,
              "solidity": 0.2
             }
            },
            "type": "barpolar"
           }
          ],
          "carpet": [
           {
            "aaxis": {
             "endlinecolor": "#2a3f5f",
             "gridcolor": "white",
             "linecolor": "white",
             "minorgridcolor": "white",
             "startlinecolor": "#2a3f5f"
            },
            "baxis": {
             "endlinecolor": "#2a3f5f",
             "gridcolor": "white",
             "linecolor": "white",
             "minorgridcolor": "white",
             "startlinecolor": "#2a3f5f"
            },
            "type": "carpet"
           }
          ],
          "choropleth": [
           {
            "colorbar": {
             "outlinewidth": 0,
             "ticks": ""
            },
            "type": "choropleth"
           }
          ],
          "contour": [
           {
            "colorbar": {
             "outlinewidth": 0,
             "ticks": ""
            },
            "colorscale": [
             [
              0,
              "#0d0887"
             ],
             [
              0.1111111111111111,
              "#46039f"
             ],
             [
              0.2222222222222222,
              "#7201a8"
             ],
             [
              0.3333333333333333,
              "#9c179e"
             ],
             [
              0.4444444444444444,
              "#bd3786"
             ],
             [
              0.5555555555555556,
              "#d8576b"
             ],
             [
              0.6666666666666666,
              "#ed7953"
             ],
             [
              0.7777777777777778,
              "#fb9f3a"
             ],
             [
              0.8888888888888888,
              "#fdca26"
             ],
             [
              1,
              "#f0f921"
             ]
            ],
            "type": "contour"
           }
          ],
          "contourcarpet": [
           {
            "colorbar": {
             "outlinewidth": 0,
             "ticks": ""
            },
            "type": "contourcarpet"
           }
          ],
          "heatmap": [
           {
            "colorbar": {
             "outlinewidth": 0,
             "ticks": ""
            },
            "colorscale": [
             [
              0,
              "#0d0887"
             ],
             [
              0.1111111111111111,
              "#46039f"
             ],
             [
              0.2222222222222222,
              "#7201a8"
             ],
             [
              0.3333333333333333,
              "#9c179e"
             ],
             [
              0.4444444444444444,
              "#bd3786"
             ],
             [
              0.5555555555555556,
              "#d8576b"
             ],
             [
              0.6666666666666666,
              "#ed7953"
             ],
             [
              0.7777777777777778,
              "#fb9f3a"
             ],
             [
              0.8888888888888888,
              "#fdca26"
             ],
             [
              1,
              "#f0f921"
             ]
            ],
            "type": "heatmap"
           }
          ],
          "heatmapgl": [
           {
            "colorbar": {
             "outlinewidth": 0,
             "ticks": ""
            },
            "colorscale": [
             [
              0,
              "#0d0887"
             ],
             [
              0.1111111111111111,
              "#46039f"
             ],
             [
              0.2222222222222222,
              "#7201a8"
             ],
             [
              0.3333333333333333,
              "#9c179e"
             ],
             [
              0.4444444444444444,
              "#bd3786"
             ],
             [
              0.5555555555555556,
              "#d8576b"
             ],
             [
              0.6666666666666666,
              "#ed7953"
             ],
             [
              0.7777777777777778,
              "#fb9f3a"
             ],
             [
              0.8888888888888888,
              "#fdca26"
             ],
             [
              1,
              "#f0f921"
             ]
            ],
            "type": "heatmapgl"
           }
          ],
          "histogram": [
           {
            "marker": {
             "pattern": {
              "fillmode": "overlay",
              "size": 10,
              "solidity": 0.2
             }
            },
            "type": "histogram"
           }
          ],
          "histogram2d": [
           {
            "colorbar": {
             "outlinewidth": 0,
             "ticks": ""
            },
            "colorscale": [
             [
              0,
              "#0d0887"
             ],
             [
              0.1111111111111111,
              "#46039f"
             ],
             [
              0.2222222222222222,
              "#7201a8"
             ],
             [
              0.3333333333333333,
              "#9c179e"
             ],
             [
              0.4444444444444444,
              "#bd3786"
             ],
             [
              0.5555555555555556,
              "#d8576b"
             ],
             [
              0.6666666666666666,
              "#ed7953"
             ],
             [
              0.7777777777777778,
              "#fb9f3a"
             ],
             [
              0.8888888888888888,
              "#fdca26"
             ],
             [
              1,
              "#f0f921"
             ]
            ],
            "type": "histogram2d"
           }
          ],
          "histogram2dcontour": [
           {
            "colorbar": {
             "outlinewidth": 0,
             "ticks": ""
            },
            "colorscale": [
             [
              0,
              "#0d0887"
             ],
             [
              0.1111111111111111,
              "#46039f"
             ],
             [
              0.2222222222222222,
              "#7201a8"
             ],
             [
              0.3333333333333333,
              "#9c179e"
             ],
             [
              0.4444444444444444,
              "#bd3786"
             ],
             [
              0.5555555555555556,
              "#d8576b"
             ],
             [
              0.6666666666666666,
              "#ed7953"
             ],
             [
              0.7777777777777778,
              "#fb9f3a"
             ],
             [
              0.8888888888888888,
              "#fdca26"
             ],
             [
              1,
              "#f0f921"
             ]
            ],
            "type": "histogram2dcontour"
           }
          ],
          "mesh3d": [
           {
            "colorbar": {
             "outlinewidth": 0,
             "ticks": ""
            },
            "type": "mesh3d"
           }
          ],
          "parcoords": [
           {
            "line": {
             "colorbar": {
              "outlinewidth": 0,
              "ticks": ""
             }
            },
            "type": "parcoords"
           }
          ],
          "pie": [
           {
            "automargin": true,
            "type": "pie"
           }
          ],
          "scatter": [
           {
            "marker": {
             "colorbar": {
              "outlinewidth": 0,
              "ticks": ""
             }
            },
            "type": "scatter"
           }
          ],
          "scatter3d": [
           {
            "line": {
             "colorbar": {
              "outlinewidth": 0,
              "ticks": ""
             }
            },
            "marker": {
             "colorbar": {
              "outlinewidth": 0,
              "ticks": ""
             }
            },
            "type": "scatter3d"
           }
          ],
          "scattercarpet": [
           {
            "marker": {
             "colorbar": {
              "outlinewidth": 0,
              "ticks": ""
             }
            },
            "type": "scattercarpet"
           }
          ],
          "scattergeo": [
           {
            "marker": {
             "colorbar": {
              "outlinewidth": 0,
              "ticks": ""
             }
            },
            "type": "scattergeo"
           }
          ],
          "scattergl": [
           {
            "marker": {
             "colorbar": {
              "outlinewidth": 0,
              "ticks": ""
             }
            },
            "type": "scattergl"
           }
          ],
          "scattermapbox": [
           {
            "marker": {
             "colorbar": {
              "outlinewidth": 0,
              "ticks": ""
             }
            },
            "type": "scattermapbox"
           }
          ],
          "scatterpolar": [
           {
            "marker": {
             "colorbar": {
              "outlinewidth": 0,
              "ticks": ""
             }
            },
            "type": "scatterpolar"
           }
          ],
          "scatterpolargl": [
           {
            "marker": {
             "colorbar": {
              "outlinewidth": 0,
              "ticks": ""
             }
            },
            "type": "scatterpolargl"
           }
          ],
          "scatterternary": [
           {
            "marker": {
             "colorbar": {
              "outlinewidth": 0,
              "ticks": ""
             }
            },
            "type": "scatterternary"
           }
          ],
          "surface": [
           {
            "colorbar": {
             "outlinewidth": 0,
             "ticks": ""
            },
            "colorscale": [
             [
              0,
              "#0d0887"
             ],
             [
              0.1111111111111111,
              "#46039f"
             ],
             [
              0.2222222222222222,
              "#7201a8"
             ],
             [
              0.3333333333333333,
              "#9c179e"
             ],
             [
              0.4444444444444444,
              "#bd3786"
             ],
             [
              0.5555555555555556,
              "#d8576b"
             ],
             [
              0.6666666666666666,
              "#ed7953"
             ],
             [
              0.7777777777777778,
              "#fb9f3a"
             ],
             [
              0.8888888888888888,
              "#fdca26"
             ],
             [
              1,
              "#f0f921"
             ]
            ],
            "type": "surface"
           }
          ],
          "table": [
           {
            "cells": {
             "fill": {
              "color": "#EBF0F8"
             },
             "line": {
              "color": "white"
             }
            },
            "header": {
             "fill": {
              "color": "#C8D4E3"
             },
             "line": {
              "color": "white"
             }
            },
            "type": "table"
           }
          ]
         },
         "layout": {
          "annotationdefaults": {
           "arrowcolor": "#2a3f5f",
           "arrowhead": 0,
           "arrowwidth": 1
          },
          "autotypenumbers": "strict",
          "coloraxis": {
           "colorbar": {
            "outlinewidth": 0,
            "ticks": ""
           }
          },
          "colorscale": {
           "diverging": [
            [
             0,
             "#8e0152"
            ],
            [
             0.1,
             "#c51b7d"
            ],
            [
             0.2,
             "#de77ae"
            ],
            [
             0.3,
             "#f1b6da"
            ],
            [
             0.4,
             "#fde0ef"
            ],
            [
             0.5,
             "#f7f7f7"
            ],
            [
             0.6,
             "#e6f5d0"
            ],
            [
             0.7,
             "#b8e186"
            ],
            [
             0.8,
             "#7fbc41"
            ],
            [
             0.9,
             "#4d9221"
            ],
            [
             1,
             "#276419"
            ]
           ],
           "sequential": [
            [
             0,
             "#0d0887"
            ],
            [
             0.1111111111111111,
             "#46039f"
            ],
            [
             0.2222222222222222,
             "#7201a8"
            ],
            [
             0.3333333333333333,
             "#9c179e"
            ],
            [
             0.4444444444444444,
             "#bd3786"
            ],
            [
             0.5555555555555556,
             "#d8576b"
            ],
            [
             0.6666666666666666,
             "#ed7953"
            ],
            [
             0.7777777777777778,
             "#fb9f3a"
            ],
            [
             0.8888888888888888,
             "#fdca26"
            ],
            [
             1,
             "#f0f921"
            ]
           ],
           "sequentialminus": [
            [
             0,
             "#0d0887"
            ],
            [
             0.1111111111111111,
             "#46039f"
            ],
            [
             0.2222222222222222,
             "#7201a8"
            ],
            [
             0.3333333333333333,
             "#9c179e"
            ],
            [
             0.4444444444444444,
             "#bd3786"
            ],
            [
             0.5555555555555556,
             "#d8576b"
            ],
            [
             0.6666666666666666,
             "#ed7953"
            ],
            [
             0.7777777777777778,
             "#fb9f3a"
            ],
            [
             0.8888888888888888,
             "#fdca26"
            ],
            [
             1,
             "#f0f921"
            ]
           ]
          },
          "colorway": [
           "#636efa",
           "#EF553B",
           "#00cc96",
           "#ab63fa",
           "#FFA15A",
           "#19d3f3",
           "#FF6692",
           "#B6E880",
           "#FF97FF",
           "#FECB52"
          ],
          "font": {
           "color": "#2a3f5f"
          },
          "geo": {
           "bgcolor": "white",
           "lakecolor": "white",
           "landcolor": "#E5ECF6",
           "showlakes": true,
           "showland": true,
           "subunitcolor": "white"
          },
          "hoverlabel": {
           "align": "left"
          },
          "hovermode": "closest",
          "mapbox": {
           "style": "light"
          },
          "paper_bgcolor": "white",
          "plot_bgcolor": "#E5ECF6",
          "polar": {
           "angularaxis": {
            "gridcolor": "white",
            "linecolor": "white",
            "ticks": ""
           },
           "bgcolor": "#E5ECF6",
           "radialaxis": {
            "gridcolor": "white",
            "linecolor": "white",
            "ticks": ""
           }
          },
          "scene": {
           "xaxis": {
            "backgroundcolor": "#E5ECF6",
            "gridcolor": "white",
            "gridwidth": 2,
            "linecolor": "white",
            "showbackground": true,
            "ticks": "",
            "zerolinecolor": "white"
           },
           "yaxis": {
            "backgroundcolor": "#E5ECF6",
            "gridcolor": "white",
            "gridwidth": 2,
            "linecolor": "white",
            "showbackground": true,
            "ticks": "",
            "zerolinecolor": "white"
           },
           "zaxis": {
            "backgroundcolor": "#E5ECF6",
            "gridcolor": "white",
            "gridwidth": 2,
            "linecolor": "white",
            "showbackground": true,
            "ticks": "",
            "zerolinecolor": "white"
           }
          },
          "shapedefaults": {
           "line": {
            "color": "#2a3f5f"
           }
          },
          "ternary": {
           "aaxis": {
            "gridcolor": "white",
            "linecolor": "white",
            "ticks": ""
           },
           "baxis": {
            "gridcolor": "white",
            "linecolor": "white",
            "ticks": ""
           },
           "bgcolor": "#E5ECF6",
           "caxis": {
            "gridcolor": "white",
            "linecolor": "white",
            "ticks": ""
           }
          },
          "title": {
           "x": 0.05
          },
          "xaxis": {
           "automargin": true,
           "gridcolor": "white",
           "linecolor": "white",
           "ticks": "",
           "title": {
            "standoff": 15
           },
           "zerolinecolor": "white",
           "zerolinewidth": 2
          },
          "yaxis": {
           "automargin": true,
           "gridcolor": "white",
           "linecolor": "white",
           "ticks": "",
           "title": {
            "standoff": 15
           },
           "zerolinecolor": "white",
           "zerolinewidth": 2
          }
         }
        },
        "title": {
         "text": "Rovinj"
        },
        "xaxis": {
         "anchor": "y",
         "domain": [
          0,
          1
         ],
         "title": {
          "text": "calendar_week"
         }
        },
        "yaxis": {
         "anchor": "x",
         "domain": [
          0,
          1
         ],
         "title": {
          "text": "raw_entries"
         }
        }
       }
      }
     },
     "metadata": {},
     "output_type": "display_data"
    },
    {
     "data": {
      "application/vnd.plotly.v1+json": {
       "config": {
        "plotlyServerURL": "https://plot.ly"
       },
       "data": [
        {
         "hovertemplate": "city=Zagreb<br>calendar_week=%{x}<br>raw_entries=%{y}<extra></extra>",
         "legendgroup": "Zagreb",
         "line": {
          "color": "#636efa",
          "dash": "solid"
         },
         "marker": {
          "symbol": "circle"
         },
         "mode": "lines+markers",
         "name": "Zagreb",
         "orientation": "v",
         "showlegend": true,
         "type": "scatter",
         "x": [
          30,
          32,
          33,
          34,
          36,
          37
         ],
         "xaxis": "x",
         "y": [
          5836,
          5966,
          2317,
          5939,
          5915,
          5977
         ],
         "yaxis": "y"
        }
       ],
       "layout": {
        "legend": {
         "title": {
          "text": "city"
         },
         "tracegroupgap": 0
        },
        "template": {
         "data": {
          "bar": [
           {
            "error_x": {
             "color": "#2a3f5f"
            },
            "error_y": {
             "color": "#2a3f5f"
            },
            "marker": {
             "line": {
              "color": "#E5ECF6",
              "width": 0.5
             },
             "pattern": {
              "fillmode": "overlay",
              "size": 10,
              "solidity": 0.2
             }
            },
            "type": "bar"
           }
          ],
          "barpolar": [
           {
            "marker": {
             "line": {
              "color": "#E5ECF6",
              "width": 0.5
             },
             "pattern": {
              "fillmode": "overlay",
              "size": 10,
              "solidity": 0.2
             }
            },
            "type": "barpolar"
           }
          ],
          "carpet": [
           {
            "aaxis": {
             "endlinecolor": "#2a3f5f",
             "gridcolor": "white",
             "linecolor": "white",
             "minorgridcolor": "white",
             "startlinecolor": "#2a3f5f"
            },
            "baxis": {
             "endlinecolor": "#2a3f5f",
             "gridcolor": "white",
             "linecolor": "white",
             "minorgridcolor": "white",
             "startlinecolor": "#2a3f5f"
            },
            "type": "carpet"
           }
          ],
          "choropleth": [
           {
            "colorbar": {
             "outlinewidth": 0,
             "ticks": ""
            },
            "type": "choropleth"
           }
          ],
          "contour": [
           {
            "colorbar": {
             "outlinewidth": 0,
             "ticks": ""
            },
            "colorscale": [
             [
              0,
              "#0d0887"
             ],
             [
              0.1111111111111111,
              "#46039f"
             ],
             [
              0.2222222222222222,
              "#7201a8"
             ],
             [
              0.3333333333333333,
              "#9c179e"
             ],
             [
              0.4444444444444444,
              "#bd3786"
             ],
             [
              0.5555555555555556,
              "#d8576b"
             ],
             [
              0.6666666666666666,
              "#ed7953"
             ],
             [
              0.7777777777777778,
              "#fb9f3a"
             ],
             [
              0.8888888888888888,
              "#fdca26"
             ],
             [
              1,
              "#f0f921"
             ]
            ],
            "type": "contour"
           }
          ],
          "contourcarpet": [
           {
            "colorbar": {
             "outlinewidth": 0,
             "ticks": ""
            },
            "type": "contourcarpet"
           }
          ],
          "heatmap": [
           {
            "colorbar": {
             "outlinewidth": 0,
             "ticks": ""
            },
            "colorscale": [
             [
              0,
              "#0d0887"
             ],
             [
              0.1111111111111111,
              "#46039f"
             ],
             [
              0.2222222222222222,
              "#7201a8"
             ],
             [
              0.3333333333333333,
              "#9c179e"
             ],
             [
              0.4444444444444444,
              "#bd3786"
             ],
             [
              0.5555555555555556,
              "#d8576b"
             ],
             [
              0.6666666666666666,
              "#ed7953"
             ],
             [
              0.7777777777777778,
              "#fb9f3a"
             ],
             [
              0.8888888888888888,
              "#fdca26"
             ],
             [
              1,
              "#f0f921"
             ]
            ],
            "type": "heatmap"
           }
          ],
          "heatmapgl": [
           {
            "colorbar": {
             "outlinewidth": 0,
             "ticks": ""
            },
            "colorscale": [
             [
              0,
              "#0d0887"
             ],
             [
              0.1111111111111111,
              "#46039f"
             ],
             [
              0.2222222222222222,
              "#7201a8"
             ],
             [
              0.3333333333333333,
              "#9c179e"
             ],
             [
              0.4444444444444444,
              "#bd3786"
             ],
             [
              0.5555555555555556,
              "#d8576b"
             ],
             [
              0.6666666666666666,
              "#ed7953"
             ],
             [
              0.7777777777777778,
              "#fb9f3a"
             ],
             [
              0.8888888888888888,
              "#fdca26"
             ],
             [
              1,
              "#f0f921"
             ]
            ],
            "type": "heatmapgl"
           }
          ],
          "histogram": [
           {
            "marker": {
             "pattern": {
              "fillmode": "overlay",
              "size": 10,
              "solidity": 0.2
             }
            },
            "type": "histogram"
           }
          ],
          "histogram2d": [
           {
            "colorbar": {
             "outlinewidth": 0,
             "ticks": ""
            },
            "colorscale": [
             [
              0,
              "#0d0887"
             ],
             [
              0.1111111111111111,
              "#46039f"
             ],
             [
              0.2222222222222222,
              "#7201a8"
             ],
             [
              0.3333333333333333,
              "#9c179e"
             ],
             [
              0.4444444444444444,
              "#bd3786"
             ],
             [
              0.5555555555555556,
              "#d8576b"
             ],
             [
              0.6666666666666666,
              "#ed7953"
             ],
             [
              0.7777777777777778,
              "#fb9f3a"
             ],
             [
              0.8888888888888888,
              "#fdca26"
             ],
             [
              1,
              "#f0f921"
             ]
            ],
            "type": "histogram2d"
           }
          ],
          "histogram2dcontour": [
           {
            "colorbar": {
             "outlinewidth": 0,
             "ticks": ""
            },
            "colorscale": [
             [
              0,
              "#0d0887"
             ],
             [
              0.1111111111111111,
              "#46039f"
             ],
             [
              0.2222222222222222,
              "#7201a8"
             ],
             [
              0.3333333333333333,
              "#9c179e"
             ],
             [
              0.4444444444444444,
              "#bd3786"
             ],
             [
              0.5555555555555556,
              "#d8576b"
             ],
             [
              0.6666666666666666,
              "#ed7953"
             ],
             [
              0.7777777777777778,
              "#fb9f3a"
             ],
             [
              0.8888888888888888,
              "#fdca26"
             ],
             [
              1,
              "#f0f921"
             ]
            ],
            "type": "histogram2dcontour"
           }
          ],
          "mesh3d": [
           {
            "colorbar": {
             "outlinewidth": 0,
             "ticks": ""
            },
            "type": "mesh3d"
           }
          ],
          "parcoords": [
           {
            "line": {
             "colorbar": {
              "outlinewidth": 0,
              "ticks": ""
             }
            },
            "type": "parcoords"
           }
          ],
          "pie": [
           {
            "automargin": true,
            "type": "pie"
           }
          ],
          "scatter": [
           {
            "marker": {
             "colorbar": {
              "outlinewidth": 0,
              "ticks": ""
             }
            },
            "type": "scatter"
           }
          ],
          "scatter3d": [
           {
            "line": {
             "colorbar": {
              "outlinewidth": 0,
              "ticks": ""
             }
            },
            "marker": {
             "colorbar": {
              "outlinewidth": 0,
              "ticks": ""
             }
            },
            "type": "scatter3d"
           }
          ],
          "scattercarpet": [
           {
            "marker": {
             "colorbar": {
              "outlinewidth": 0,
              "ticks": ""
             }
            },
            "type": "scattercarpet"
           }
          ],
          "scattergeo": [
           {
            "marker": {
             "colorbar": {
              "outlinewidth": 0,
              "ticks": ""
             }
            },
            "type": "scattergeo"
           }
          ],
          "scattergl": [
           {
            "marker": {
             "colorbar": {
              "outlinewidth": 0,
              "ticks": ""
             }
            },
            "type": "scattergl"
           }
          ],
          "scattermapbox": [
           {
            "marker": {
             "colorbar": {
              "outlinewidth": 0,
              "ticks": ""
             }
            },
            "type": "scattermapbox"
           }
          ],
          "scatterpolar": [
           {
            "marker": {
             "colorbar": {
              "outlinewidth": 0,
              "ticks": ""
             }
            },
            "type": "scatterpolar"
           }
          ],
          "scatterpolargl": [
           {
            "marker": {
             "colorbar": {
              "outlinewidth": 0,
              "ticks": ""
             }
            },
            "type": "scatterpolargl"
           }
          ],
          "scatterternary": [
           {
            "marker": {
             "colorbar": {
              "outlinewidth": 0,
              "ticks": ""
             }
            },
            "type": "scatterternary"
           }
          ],
          "surface": [
           {
            "colorbar": {
             "outlinewidth": 0,
             "ticks": ""
            },
            "colorscale": [
             [
              0,
              "#0d0887"
             ],
             [
              0.1111111111111111,
              "#46039f"
             ],
             [
              0.2222222222222222,
              "#7201a8"
             ],
             [
              0.3333333333333333,
              "#9c179e"
             ],
             [
              0.4444444444444444,
              "#bd3786"
             ],
             [
              0.5555555555555556,
              "#d8576b"
             ],
             [
              0.6666666666666666,
              "#ed7953"
             ],
             [
              0.7777777777777778,
              "#fb9f3a"
             ],
             [
              0.8888888888888888,
              "#fdca26"
             ],
             [
              1,
              "#f0f921"
             ]
            ],
            "type": "surface"
           }
          ],
          "table": [
           {
            "cells": {
             "fill": {
              "color": "#EBF0F8"
             },
             "line": {
              "color": "white"
             }
            },
            "header": {
             "fill": {
              "color": "#C8D4E3"
             },
             "line": {
              "color": "white"
             }
            },
            "type": "table"
           }
          ]
         },
         "layout": {
          "annotationdefaults": {
           "arrowcolor": "#2a3f5f",
           "arrowhead": 0,
           "arrowwidth": 1
          },
          "autotypenumbers": "strict",
          "coloraxis": {
           "colorbar": {
            "outlinewidth": 0,
            "ticks": ""
           }
          },
          "colorscale": {
           "diverging": [
            [
             0,
             "#8e0152"
            ],
            [
             0.1,
             "#c51b7d"
            ],
            [
             0.2,
             "#de77ae"
            ],
            [
             0.3,
             "#f1b6da"
            ],
            [
             0.4,
             "#fde0ef"
            ],
            [
             0.5,
             "#f7f7f7"
            ],
            [
             0.6,
             "#e6f5d0"
            ],
            [
             0.7,
             "#b8e186"
            ],
            [
             0.8,
             "#7fbc41"
            ],
            [
             0.9,
             "#4d9221"
            ],
            [
             1,
             "#276419"
            ]
           ],
           "sequential": [
            [
             0,
             "#0d0887"
            ],
            [
             0.1111111111111111,
             "#46039f"
            ],
            [
             0.2222222222222222,
             "#7201a8"
            ],
            [
             0.3333333333333333,
             "#9c179e"
            ],
            [
             0.4444444444444444,
             "#bd3786"
            ],
            [
             0.5555555555555556,
             "#d8576b"
            ],
            [
             0.6666666666666666,
             "#ed7953"
            ],
            [
             0.7777777777777778,
             "#fb9f3a"
            ],
            [
             0.8888888888888888,
             "#fdca26"
            ],
            [
             1,
             "#f0f921"
            ]
           ],
           "sequentialminus": [
            [
             0,
             "#0d0887"
            ],
            [
             0.1111111111111111,
             "#46039f"
            ],
            [
             0.2222222222222222,
             "#7201a8"
            ],
            [
             0.3333333333333333,
             "#9c179e"
            ],
            [
             0.4444444444444444,
             "#bd3786"
            ],
            [
             0.5555555555555556,
             "#d8576b"
            ],
            [
             0.6666666666666666,
             "#ed7953"
            ],
            [
             0.7777777777777778,
             "#fb9f3a"
            ],
            [
             0.8888888888888888,
             "#fdca26"
            ],
            [
             1,
             "#f0f921"
            ]
           ]
          },
          "colorway": [
           "#636efa",
           "#EF553B",
           "#00cc96",
           "#ab63fa",
           "#FFA15A",
           "#19d3f3",
           "#FF6692",
           "#B6E880",
           "#FF97FF",
           "#FECB52"
          ],
          "font": {
           "color": "#2a3f5f"
          },
          "geo": {
           "bgcolor": "white",
           "lakecolor": "white",
           "landcolor": "#E5ECF6",
           "showlakes": true,
           "showland": true,
           "subunitcolor": "white"
          },
          "hoverlabel": {
           "align": "left"
          },
          "hovermode": "closest",
          "mapbox": {
           "style": "light"
          },
          "paper_bgcolor": "white",
          "plot_bgcolor": "#E5ECF6",
          "polar": {
           "angularaxis": {
            "gridcolor": "white",
            "linecolor": "white",
            "ticks": ""
           },
           "bgcolor": "#E5ECF6",
           "radialaxis": {
            "gridcolor": "white",
            "linecolor": "white",
            "ticks": ""
           }
          },
          "scene": {
           "xaxis": {
            "backgroundcolor": "#E5ECF6",
            "gridcolor": "white",
            "gridwidth": 2,
            "linecolor": "white",
            "showbackground": true,
            "ticks": "",
            "zerolinecolor": "white"
           },
           "yaxis": {
            "backgroundcolor": "#E5ECF6",
            "gridcolor": "white",
            "gridwidth": 2,
            "linecolor": "white",
            "showbackground": true,
            "ticks": "",
            "zerolinecolor": "white"
           },
           "zaxis": {
            "backgroundcolor": "#E5ECF6",
            "gridcolor": "white",
            "gridwidth": 2,
            "linecolor": "white",
            "showbackground": true,
            "ticks": "",
            "zerolinecolor": "white"
           }
          },
          "shapedefaults": {
           "line": {
            "color": "#2a3f5f"
           }
          },
          "ternary": {
           "aaxis": {
            "gridcolor": "white",
            "linecolor": "white",
            "ticks": ""
           },
           "baxis": {
            "gridcolor": "white",
            "linecolor": "white",
            "ticks": ""
           },
           "bgcolor": "#E5ECF6",
           "caxis": {
            "gridcolor": "white",
            "linecolor": "white",
            "ticks": ""
           }
          },
          "title": {
           "x": 0.05
          },
          "xaxis": {
           "automargin": true,
           "gridcolor": "white",
           "linecolor": "white",
           "ticks": "",
           "title": {
            "standoff": 15
           },
           "zerolinecolor": "white",
           "zerolinewidth": 2
          },
          "yaxis": {
           "automargin": true,
           "gridcolor": "white",
           "linecolor": "white",
           "ticks": "",
           "title": {
            "standoff": 15
           },
           "zerolinecolor": "white",
           "zerolinewidth": 2
          }
         }
        },
        "title": {
         "text": "Zagreb"
        },
        "xaxis": {
         "anchor": "y",
         "domain": [
          0,
          1
         ],
         "title": {
          "text": "calendar_week"
         }
        },
        "yaxis": {
         "anchor": "x",
         "domain": [
          0,
          1
         ],
         "title": {
          "text": "raw_entries"
         }
        }
       }
      }
     },
     "metadata": {},
     "output_type": "display_data"
    },
    {
     "data": {
      "application/vnd.plotly.v1+json": {
       "config": {
        "plotlyServerURL": "https://plot.ly"
       },
       "data": [
        {
         "hovertemplate": "city=Varazdin<br>calendar_week=%{x}<br>raw_entries=%{y}<extra></extra>",
         "legendgroup": "Varazdin",
         "line": {
          "color": "#636efa",
          "dash": "solid"
         },
         "marker": {
          "symbol": "circle"
         },
         "mode": "lines+markers",
         "name": "Varazdin",
         "orientation": "v",
         "showlegend": true,
         "type": "scatter",
         "x": [
          31,
          32,
          32,
          33,
          34,
          35,
          35,
          36,
          37
         ],
         "xaxis": "x",
         "y": [
          100,
          100,
          100,
          100,
          100,
          100,
          100,
          100,
          100
         ],
         "yaxis": "y"
        }
       ],
       "layout": {
        "legend": {
         "title": {
          "text": "city"
         },
         "tracegroupgap": 0
        },
        "template": {
         "data": {
          "bar": [
           {
            "error_x": {
             "color": "#2a3f5f"
            },
            "error_y": {
             "color": "#2a3f5f"
            },
            "marker": {
             "line": {
              "color": "#E5ECF6",
              "width": 0.5
             },
             "pattern": {
              "fillmode": "overlay",
              "size": 10,
              "solidity": 0.2
             }
            },
            "type": "bar"
           }
          ],
          "barpolar": [
           {
            "marker": {
             "line": {
              "color": "#E5ECF6",
              "width": 0.5
             },
             "pattern": {
              "fillmode": "overlay",
              "size": 10,
              "solidity": 0.2
             }
            },
            "type": "barpolar"
           }
          ],
          "carpet": [
           {
            "aaxis": {
             "endlinecolor": "#2a3f5f",
             "gridcolor": "white",
             "linecolor": "white",
             "minorgridcolor": "white",
             "startlinecolor": "#2a3f5f"
            },
            "baxis": {
             "endlinecolor": "#2a3f5f",
             "gridcolor": "white",
             "linecolor": "white",
             "minorgridcolor": "white",
             "startlinecolor": "#2a3f5f"
            },
            "type": "carpet"
           }
          ],
          "choropleth": [
           {
            "colorbar": {
             "outlinewidth": 0,
             "ticks": ""
            },
            "type": "choropleth"
           }
          ],
          "contour": [
           {
            "colorbar": {
             "outlinewidth": 0,
             "ticks": ""
            },
            "colorscale": [
             [
              0,
              "#0d0887"
             ],
             [
              0.1111111111111111,
              "#46039f"
             ],
             [
              0.2222222222222222,
              "#7201a8"
             ],
             [
              0.3333333333333333,
              "#9c179e"
             ],
             [
              0.4444444444444444,
              "#bd3786"
             ],
             [
              0.5555555555555556,
              "#d8576b"
             ],
             [
              0.6666666666666666,
              "#ed7953"
             ],
             [
              0.7777777777777778,
              "#fb9f3a"
             ],
             [
              0.8888888888888888,
              "#fdca26"
             ],
             [
              1,
              "#f0f921"
             ]
            ],
            "type": "contour"
           }
          ],
          "contourcarpet": [
           {
            "colorbar": {
             "outlinewidth": 0,
             "ticks": ""
            },
            "type": "contourcarpet"
           }
          ],
          "heatmap": [
           {
            "colorbar": {
             "outlinewidth": 0,
             "ticks": ""
            },
            "colorscale": [
             [
              0,
              "#0d0887"
             ],
             [
              0.1111111111111111,
              "#46039f"
             ],
             [
              0.2222222222222222,
              "#7201a8"
             ],
             [
              0.3333333333333333,
              "#9c179e"
             ],
             [
              0.4444444444444444,
              "#bd3786"
             ],
             [
              0.5555555555555556,
              "#d8576b"
             ],
             [
              0.6666666666666666,
              "#ed7953"
             ],
             [
              0.7777777777777778,
              "#fb9f3a"
             ],
             [
              0.8888888888888888,
              "#fdca26"
             ],
             [
              1,
              "#f0f921"
             ]
            ],
            "type": "heatmap"
           }
          ],
          "heatmapgl": [
           {
            "colorbar": {
             "outlinewidth": 0,
             "ticks": ""
            },
            "colorscale": [
             [
              0,
              "#0d0887"
             ],
             [
              0.1111111111111111,
              "#46039f"
             ],
             [
              0.2222222222222222,
              "#7201a8"
             ],
             [
              0.3333333333333333,
              "#9c179e"
             ],
             [
              0.4444444444444444,
              "#bd3786"
             ],
             [
              0.5555555555555556,
              "#d8576b"
             ],
             [
              0.6666666666666666,
              "#ed7953"
             ],
             [
              0.7777777777777778,
              "#fb9f3a"
             ],
             [
              0.8888888888888888,
              "#fdca26"
             ],
             [
              1,
              "#f0f921"
             ]
            ],
            "type": "heatmapgl"
           }
          ],
          "histogram": [
           {
            "marker": {
             "pattern": {
              "fillmode": "overlay",
              "size": 10,
              "solidity": 0.2
             }
            },
            "type": "histogram"
           }
          ],
          "histogram2d": [
           {
            "colorbar": {
             "outlinewidth": 0,
             "ticks": ""
            },
            "colorscale": [
             [
              0,
              "#0d0887"
             ],
             [
              0.1111111111111111,
              "#46039f"
             ],
             [
              0.2222222222222222,
              "#7201a8"
             ],
             [
              0.3333333333333333,
              "#9c179e"
             ],
             [
              0.4444444444444444,
              "#bd3786"
             ],
             [
              0.5555555555555556,
              "#d8576b"
             ],
             [
              0.6666666666666666,
              "#ed7953"
             ],
             [
              0.7777777777777778,
              "#fb9f3a"
             ],
             [
              0.8888888888888888,
              "#fdca26"
             ],
             [
              1,
              "#f0f921"
             ]
            ],
            "type": "histogram2d"
           }
          ],
          "histogram2dcontour": [
           {
            "colorbar": {
             "outlinewidth": 0,
             "ticks": ""
            },
            "colorscale": [
             [
              0,
              "#0d0887"
             ],
             [
              0.1111111111111111,
              "#46039f"
             ],
             [
              0.2222222222222222,
              "#7201a8"
             ],
             [
              0.3333333333333333,
              "#9c179e"
             ],
             [
              0.4444444444444444,
              "#bd3786"
             ],
             [
              0.5555555555555556,
              "#d8576b"
             ],
             [
              0.6666666666666666,
              "#ed7953"
             ],
             [
              0.7777777777777778,
              "#fb9f3a"
             ],
             [
              0.8888888888888888,
              "#fdca26"
             ],
             [
              1,
              "#f0f921"
             ]
            ],
            "type": "histogram2dcontour"
           }
          ],
          "mesh3d": [
           {
            "colorbar": {
             "outlinewidth": 0,
             "ticks": ""
            },
            "type": "mesh3d"
           }
          ],
          "parcoords": [
           {
            "line": {
             "colorbar": {
              "outlinewidth": 0,
              "ticks": ""
             }
            },
            "type": "parcoords"
           }
          ],
          "pie": [
           {
            "automargin": true,
            "type": "pie"
           }
          ],
          "scatter": [
           {
            "marker": {
             "colorbar": {
              "outlinewidth": 0,
              "ticks": ""
             }
            },
            "type": "scatter"
           }
          ],
          "scatter3d": [
           {
            "line": {
             "colorbar": {
              "outlinewidth": 0,
              "ticks": ""
             }
            },
            "marker": {
             "colorbar": {
              "outlinewidth": 0,
              "ticks": ""
             }
            },
            "type": "scatter3d"
           }
          ],
          "scattercarpet": [
           {
            "marker": {
             "colorbar": {
              "outlinewidth": 0,
              "ticks": ""
             }
            },
            "type": "scattercarpet"
           }
          ],
          "scattergeo": [
           {
            "marker": {
             "colorbar": {
              "outlinewidth": 0,
              "ticks": ""
             }
            },
            "type": "scattergeo"
           }
          ],
          "scattergl": [
           {
            "marker": {
             "colorbar": {
              "outlinewidth": 0,
              "ticks": ""
             }
            },
            "type": "scattergl"
           }
          ],
          "scattermapbox": [
           {
            "marker": {
             "colorbar": {
              "outlinewidth": 0,
              "ticks": ""
             }
            },
            "type": "scattermapbox"
           }
          ],
          "scatterpolar": [
           {
            "marker": {
             "colorbar": {
              "outlinewidth": 0,
              "ticks": ""
             }
            },
            "type": "scatterpolar"
           }
          ],
          "scatterpolargl": [
           {
            "marker": {
             "colorbar": {
              "outlinewidth": 0,
              "ticks": ""
             }
            },
            "type": "scatterpolargl"
           }
          ],
          "scatterternary": [
           {
            "marker": {
             "colorbar": {
              "outlinewidth": 0,
              "ticks": ""
             }
            },
            "type": "scatterternary"
           }
          ],
          "surface": [
           {
            "colorbar": {
             "outlinewidth": 0,
             "ticks": ""
            },
            "colorscale": [
             [
              0,
              "#0d0887"
             ],
             [
              0.1111111111111111,
              "#46039f"
             ],
             [
              0.2222222222222222,
              "#7201a8"
             ],
             [
              0.3333333333333333,
              "#9c179e"
             ],
             [
              0.4444444444444444,
              "#bd3786"
             ],
             [
              0.5555555555555556,
              "#d8576b"
             ],
             [
              0.6666666666666666,
              "#ed7953"
             ],
             [
              0.7777777777777778,
              "#fb9f3a"
             ],
             [
              0.8888888888888888,
              "#fdca26"
             ],
             [
              1,
              "#f0f921"
             ]
            ],
            "type": "surface"
           }
          ],
          "table": [
           {
            "cells": {
             "fill": {
              "color": "#EBF0F8"
             },
             "line": {
              "color": "white"
             }
            },
            "header": {
             "fill": {
              "color": "#C8D4E3"
             },
             "line": {
              "color": "white"
             }
            },
            "type": "table"
           }
          ]
         },
         "layout": {
          "annotationdefaults": {
           "arrowcolor": "#2a3f5f",
           "arrowhead": 0,
           "arrowwidth": 1
          },
          "autotypenumbers": "strict",
          "coloraxis": {
           "colorbar": {
            "outlinewidth": 0,
            "ticks": ""
           }
          },
          "colorscale": {
           "diverging": [
            [
             0,
             "#8e0152"
            ],
            [
             0.1,
             "#c51b7d"
            ],
            [
             0.2,
             "#de77ae"
            ],
            [
             0.3,
             "#f1b6da"
            ],
            [
             0.4,
             "#fde0ef"
            ],
            [
             0.5,
             "#f7f7f7"
            ],
            [
             0.6,
             "#e6f5d0"
            ],
            [
             0.7,
             "#b8e186"
            ],
            [
             0.8,
             "#7fbc41"
            ],
            [
             0.9,
             "#4d9221"
            ],
            [
             1,
             "#276419"
            ]
           ],
           "sequential": [
            [
             0,
             "#0d0887"
            ],
            [
             0.1111111111111111,
             "#46039f"
            ],
            [
             0.2222222222222222,
             "#7201a8"
            ],
            [
             0.3333333333333333,
             "#9c179e"
            ],
            [
             0.4444444444444444,
             "#bd3786"
            ],
            [
             0.5555555555555556,
             "#d8576b"
            ],
            [
             0.6666666666666666,
             "#ed7953"
            ],
            [
             0.7777777777777778,
             "#fb9f3a"
            ],
            [
             0.8888888888888888,
             "#fdca26"
            ],
            [
             1,
             "#f0f921"
            ]
           ],
           "sequentialminus": [
            [
             0,
             "#0d0887"
            ],
            [
             0.1111111111111111,
             "#46039f"
            ],
            [
             0.2222222222222222,
             "#7201a8"
            ],
            [
             0.3333333333333333,
             "#9c179e"
            ],
            [
             0.4444444444444444,
             "#bd3786"
            ],
            [
             0.5555555555555556,
             "#d8576b"
            ],
            [
             0.6666666666666666,
             "#ed7953"
            ],
            [
             0.7777777777777778,
             "#fb9f3a"
            ],
            [
             0.8888888888888888,
             "#fdca26"
            ],
            [
             1,
             "#f0f921"
            ]
           ]
          },
          "colorway": [
           "#636efa",
           "#EF553B",
           "#00cc96",
           "#ab63fa",
           "#FFA15A",
           "#19d3f3",
           "#FF6692",
           "#B6E880",
           "#FF97FF",
           "#FECB52"
          ],
          "font": {
           "color": "#2a3f5f"
          },
          "geo": {
           "bgcolor": "white",
           "lakecolor": "white",
           "landcolor": "#E5ECF6",
           "showlakes": true,
           "showland": true,
           "subunitcolor": "white"
          },
          "hoverlabel": {
           "align": "left"
          },
          "hovermode": "closest",
          "mapbox": {
           "style": "light"
          },
          "paper_bgcolor": "white",
          "plot_bgcolor": "#E5ECF6",
          "polar": {
           "angularaxis": {
            "gridcolor": "white",
            "linecolor": "white",
            "ticks": ""
           },
           "bgcolor": "#E5ECF6",
           "radialaxis": {
            "gridcolor": "white",
            "linecolor": "white",
            "ticks": ""
           }
          },
          "scene": {
           "xaxis": {
            "backgroundcolor": "#E5ECF6",
            "gridcolor": "white",
            "gridwidth": 2,
            "linecolor": "white",
            "showbackground": true,
            "ticks": "",
            "zerolinecolor": "white"
           },
           "yaxis": {
            "backgroundcolor": "#E5ECF6",
            "gridcolor": "white",
            "gridwidth": 2,
            "linecolor": "white",
            "showbackground": true,
            "ticks": "",
            "zerolinecolor": "white"
           },
           "zaxis": {
            "backgroundcolor": "#E5ECF6",
            "gridcolor": "white",
            "gridwidth": 2,
            "linecolor": "white",
            "showbackground": true,
            "ticks": "",
            "zerolinecolor": "white"
           }
          },
          "shapedefaults": {
           "line": {
            "color": "#2a3f5f"
           }
          },
          "ternary": {
           "aaxis": {
            "gridcolor": "white",
            "linecolor": "white",
            "ticks": ""
           },
           "baxis": {
            "gridcolor": "white",
            "linecolor": "white",
            "ticks": ""
           },
           "bgcolor": "#E5ECF6",
           "caxis": {
            "gridcolor": "white",
            "linecolor": "white",
            "ticks": ""
           }
          },
          "title": {
           "x": 0.05
          },
          "xaxis": {
           "automargin": true,
           "gridcolor": "white",
           "linecolor": "white",
           "ticks": "",
           "title": {
            "standoff": 15
           },
           "zerolinecolor": "white",
           "zerolinewidth": 2
          },
          "yaxis": {
           "automargin": true,
           "gridcolor": "white",
           "linecolor": "white",
           "ticks": "",
           "title": {
            "standoff": 15
           },
           "zerolinecolor": "white",
           "zerolinewidth": 2
          }
         }
        },
        "title": {
         "text": "Varazdin"
        },
        "xaxis": {
         "anchor": "y",
         "domain": [
          0,
          1
         ],
         "title": {
          "text": "calendar_week"
         }
        },
        "yaxis": {
         "anchor": "x",
         "domain": [
          0,
          1
         ],
         "title": {
          "text": "raw_entries"
         }
        }
       }
      }
     },
     "metadata": {},
     "output_type": "display_data"
    },
    {
     "data": {
      "application/vnd.plotly.v1+json": {
       "config": {
        "plotlyServerURL": "https://plot.ly"
       },
       "data": [
        {
         "hovertemplate": "city=Rijeka<br>calendar_week=%{x}<br>raw_entries=%{y}<extra></extra>",
         "legendgroup": "Rijeka",
         "line": {
          "color": "#636efa",
          "dash": "solid"
         },
         "marker": {
          "symbol": "circle"
         },
         "mode": "lines+markers",
         "name": "Rijeka",
         "orientation": "v",
         "showlegend": true,
         "type": "scatter",
         "x": [
          33,
          35,
          36,
          37
         ],
         "xaxis": "x",
         "y": [
          1779,
          5151,
          5127,
          5054
         ],
         "yaxis": "y"
        }
       ],
       "layout": {
        "legend": {
         "title": {
          "text": "city"
         },
         "tracegroupgap": 0
        },
        "template": {
         "data": {
          "bar": [
           {
            "error_x": {
             "color": "#2a3f5f"
            },
            "error_y": {
             "color": "#2a3f5f"
            },
            "marker": {
             "line": {
              "color": "#E5ECF6",
              "width": 0.5
             },
             "pattern": {
              "fillmode": "overlay",
              "size": 10,
              "solidity": 0.2
             }
            },
            "type": "bar"
           }
          ],
          "barpolar": [
           {
            "marker": {
             "line": {
              "color": "#E5ECF6",
              "width": 0.5
             },
             "pattern": {
              "fillmode": "overlay",
              "size": 10,
              "solidity": 0.2
             }
            },
            "type": "barpolar"
           }
          ],
          "carpet": [
           {
            "aaxis": {
             "endlinecolor": "#2a3f5f",
             "gridcolor": "white",
             "linecolor": "white",
             "minorgridcolor": "white",
             "startlinecolor": "#2a3f5f"
            },
            "baxis": {
             "endlinecolor": "#2a3f5f",
             "gridcolor": "white",
             "linecolor": "white",
             "minorgridcolor": "white",
             "startlinecolor": "#2a3f5f"
            },
            "type": "carpet"
           }
          ],
          "choropleth": [
           {
            "colorbar": {
             "outlinewidth": 0,
             "ticks": ""
            },
            "type": "choropleth"
           }
          ],
          "contour": [
           {
            "colorbar": {
             "outlinewidth": 0,
             "ticks": ""
            },
            "colorscale": [
             [
              0,
              "#0d0887"
             ],
             [
              0.1111111111111111,
              "#46039f"
             ],
             [
              0.2222222222222222,
              "#7201a8"
             ],
             [
              0.3333333333333333,
              "#9c179e"
             ],
             [
              0.4444444444444444,
              "#bd3786"
             ],
             [
              0.5555555555555556,
              "#d8576b"
             ],
             [
              0.6666666666666666,
              "#ed7953"
             ],
             [
              0.7777777777777778,
              "#fb9f3a"
             ],
             [
              0.8888888888888888,
              "#fdca26"
             ],
             [
              1,
              "#f0f921"
             ]
            ],
            "type": "contour"
           }
          ],
          "contourcarpet": [
           {
            "colorbar": {
             "outlinewidth": 0,
             "ticks": ""
            },
            "type": "contourcarpet"
           }
          ],
          "heatmap": [
           {
            "colorbar": {
             "outlinewidth": 0,
             "ticks": ""
            },
            "colorscale": [
             [
              0,
              "#0d0887"
             ],
             [
              0.1111111111111111,
              "#46039f"
             ],
             [
              0.2222222222222222,
              "#7201a8"
             ],
             [
              0.3333333333333333,
              "#9c179e"
             ],
             [
              0.4444444444444444,
              "#bd3786"
             ],
             [
              0.5555555555555556,
              "#d8576b"
             ],
             [
              0.6666666666666666,
              "#ed7953"
             ],
             [
              0.7777777777777778,
              "#fb9f3a"
             ],
             [
              0.8888888888888888,
              "#fdca26"
             ],
             [
              1,
              "#f0f921"
             ]
            ],
            "type": "heatmap"
           }
          ],
          "heatmapgl": [
           {
            "colorbar": {
             "outlinewidth": 0,
             "ticks": ""
            },
            "colorscale": [
             [
              0,
              "#0d0887"
             ],
             [
              0.1111111111111111,
              "#46039f"
             ],
             [
              0.2222222222222222,
              "#7201a8"
             ],
             [
              0.3333333333333333,
              "#9c179e"
             ],
             [
              0.4444444444444444,
              "#bd3786"
             ],
             [
              0.5555555555555556,
              "#d8576b"
             ],
             [
              0.6666666666666666,
              "#ed7953"
             ],
             [
              0.7777777777777778,
              "#fb9f3a"
             ],
             [
              0.8888888888888888,
              "#fdca26"
             ],
             [
              1,
              "#f0f921"
             ]
            ],
            "type": "heatmapgl"
           }
          ],
          "histogram": [
           {
            "marker": {
             "pattern": {
              "fillmode": "overlay",
              "size": 10,
              "solidity": 0.2
             }
            },
            "type": "histogram"
           }
          ],
          "histogram2d": [
           {
            "colorbar": {
             "outlinewidth": 0,
             "ticks": ""
            },
            "colorscale": [
             [
              0,
              "#0d0887"
             ],
             [
              0.1111111111111111,
              "#46039f"
             ],
             [
              0.2222222222222222,
              "#7201a8"
             ],
             [
              0.3333333333333333,
              "#9c179e"
             ],
             [
              0.4444444444444444,
              "#bd3786"
             ],
             [
              0.5555555555555556,
              "#d8576b"
             ],
             [
              0.6666666666666666,
              "#ed7953"
             ],
             [
              0.7777777777777778,
              "#fb9f3a"
             ],
             [
              0.8888888888888888,
              "#fdca26"
             ],
             [
              1,
              "#f0f921"
             ]
            ],
            "type": "histogram2d"
           }
          ],
          "histogram2dcontour": [
           {
            "colorbar": {
             "outlinewidth": 0,
             "ticks": ""
            },
            "colorscale": [
             [
              0,
              "#0d0887"
             ],
             [
              0.1111111111111111,
              "#46039f"
             ],
             [
              0.2222222222222222,
              "#7201a8"
             ],
             [
              0.3333333333333333,
              "#9c179e"
             ],
             [
              0.4444444444444444,
              "#bd3786"
             ],
             [
              0.5555555555555556,
              "#d8576b"
             ],
             [
              0.6666666666666666,
              "#ed7953"
             ],
             [
              0.7777777777777778,
              "#fb9f3a"
             ],
             [
              0.8888888888888888,
              "#fdca26"
             ],
             [
              1,
              "#f0f921"
             ]
            ],
            "type": "histogram2dcontour"
           }
          ],
          "mesh3d": [
           {
            "colorbar": {
             "outlinewidth": 0,
             "ticks": ""
            },
            "type": "mesh3d"
           }
          ],
          "parcoords": [
           {
            "line": {
             "colorbar": {
              "outlinewidth": 0,
              "ticks": ""
             }
            },
            "type": "parcoords"
           }
          ],
          "pie": [
           {
            "automargin": true,
            "type": "pie"
           }
          ],
          "scatter": [
           {
            "marker": {
             "colorbar": {
              "outlinewidth": 0,
              "ticks": ""
             }
            },
            "type": "scatter"
           }
          ],
          "scatter3d": [
           {
            "line": {
             "colorbar": {
              "outlinewidth": 0,
              "ticks": ""
             }
            },
            "marker": {
             "colorbar": {
              "outlinewidth": 0,
              "ticks": ""
             }
            },
            "type": "scatter3d"
           }
          ],
          "scattercarpet": [
           {
            "marker": {
             "colorbar": {
              "outlinewidth": 0,
              "ticks": ""
             }
            },
            "type": "scattercarpet"
           }
          ],
          "scattergeo": [
           {
            "marker": {
             "colorbar": {
              "outlinewidth": 0,
              "ticks": ""
             }
            },
            "type": "scattergeo"
           }
          ],
          "scattergl": [
           {
            "marker": {
             "colorbar": {
              "outlinewidth": 0,
              "ticks": ""
             }
            },
            "type": "scattergl"
           }
          ],
          "scattermapbox": [
           {
            "marker": {
             "colorbar": {
              "outlinewidth": 0,
              "ticks": ""
             }
            },
            "type": "scattermapbox"
           }
          ],
          "scatterpolar": [
           {
            "marker": {
             "colorbar": {
              "outlinewidth": 0,
              "ticks": ""
             }
            },
            "type": "scatterpolar"
           }
          ],
          "scatterpolargl": [
           {
            "marker": {
             "colorbar": {
              "outlinewidth": 0,
              "ticks": ""
             }
            },
            "type": "scatterpolargl"
           }
          ],
          "scatterternary": [
           {
            "marker": {
             "colorbar": {
              "outlinewidth": 0,
              "ticks": ""
             }
            },
            "type": "scatterternary"
           }
          ],
          "surface": [
           {
            "colorbar": {
             "outlinewidth": 0,
             "ticks": ""
            },
            "colorscale": [
             [
              0,
              "#0d0887"
             ],
             [
              0.1111111111111111,
              "#46039f"
             ],
             [
              0.2222222222222222,
              "#7201a8"
             ],
             [
              0.3333333333333333,
              "#9c179e"
             ],
             [
              0.4444444444444444,
              "#bd3786"
             ],
             [
              0.5555555555555556,
              "#d8576b"
             ],
             [
              0.6666666666666666,
              "#ed7953"
             ],
             [
              0.7777777777777778,
              "#fb9f3a"
             ],
             [
              0.8888888888888888,
              "#fdca26"
             ],
             [
              1,
              "#f0f921"
             ]
            ],
            "type": "surface"
           }
          ],
          "table": [
           {
            "cells": {
             "fill": {
              "color": "#EBF0F8"
             },
             "line": {
              "color": "white"
             }
            },
            "header": {
             "fill": {
              "color": "#C8D4E3"
             },
             "line": {
              "color": "white"
             }
            },
            "type": "table"
           }
          ]
         },
         "layout": {
          "annotationdefaults": {
           "arrowcolor": "#2a3f5f",
           "arrowhead": 0,
           "arrowwidth": 1
          },
          "autotypenumbers": "strict",
          "coloraxis": {
           "colorbar": {
            "outlinewidth": 0,
            "ticks": ""
           }
          },
          "colorscale": {
           "diverging": [
            [
             0,
             "#8e0152"
            ],
            [
             0.1,
             "#c51b7d"
            ],
            [
             0.2,
             "#de77ae"
            ],
            [
             0.3,
             "#f1b6da"
            ],
            [
             0.4,
             "#fde0ef"
            ],
            [
             0.5,
             "#f7f7f7"
            ],
            [
             0.6,
             "#e6f5d0"
            ],
            [
             0.7,
             "#b8e186"
            ],
            [
             0.8,
             "#7fbc41"
            ],
            [
             0.9,
             "#4d9221"
            ],
            [
             1,
             "#276419"
            ]
           ],
           "sequential": [
            [
             0,
             "#0d0887"
            ],
            [
             0.1111111111111111,
             "#46039f"
            ],
            [
             0.2222222222222222,
             "#7201a8"
            ],
            [
             0.3333333333333333,
             "#9c179e"
            ],
            [
             0.4444444444444444,
             "#bd3786"
            ],
            [
             0.5555555555555556,
             "#d8576b"
            ],
            [
             0.6666666666666666,
             "#ed7953"
            ],
            [
             0.7777777777777778,
             "#fb9f3a"
            ],
            [
             0.8888888888888888,
             "#fdca26"
            ],
            [
             1,
             "#f0f921"
            ]
           ],
           "sequentialminus": [
            [
             0,
             "#0d0887"
            ],
            [
             0.1111111111111111,
             "#46039f"
            ],
            [
             0.2222222222222222,
             "#7201a8"
            ],
            [
             0.3333333333333333,
             "#9c179e"
            ],
            [
             0.4444444444444444,
             "#bd3786"
            ],
            [
             0.5555555555555556,
             "#d8576b"
            ],
            [
             0.6666666666666666,
             "#ed7953"
            ],
            [
             0.7777777777777778,
             "#fb9f3a"
            ],
            [
             0.8888888888888888,
             "#fdca26"
            ],
            [
             1,
             "#f0f921"
            ]
           ]
          },
          "colorway": [
           "#636efa",
           "#EF553B",
           "#00cc96",
           "#ab63fa",
           "#FFA15A",
           "#19d3f3",
           "#FF6692",
           "#B6E880",
           "#FF97FF",
           "#FECB52"
          ],
          "font": {
           "color": "#2a3f5f"
          },
          "geo": {
           "bgcolor": "white",
           "lakecolor": "white",
           "landcolor": "#E5ECF6",
           "showlakes": true,
           "showland": true,
           "subunitcolor": "white"
          },
          "hoverlabel": {
           "align": "left"
          },
          "hovermode": "closest",
          "mapbox": {
           "style": "light"
          },
          "paper_bgcolor": "white",
          "plot_bgcolor": "#E5ECF6",
          "polar": {
           "angularaxis": {
            "gridcolor": "white",
            "linecolor": "white",
            "ticks": ""
           },
           "bgcolor": "#E5ECF6",
           "radialaxis": {
            "gridcolor": "white",
            "linecolor": "white",
            "ticks": ""
           }
          },
          "scene": {
           "xaxis": {
            "backgroundcolor": "#E5ECF6",
            "gridcolor": "white",
            "gridwidth": 2,
            "linecolor": "white",
            "showbackground": true,
            "ticks": "",
            "zerolinecolor": "white"
           },
           "yaxis": {
            "backgroundcolor": "#E5ECF6",
            "gridcolor": "white",
            "gridwidth": 2,
            "linecolor": "white",
            "showbackground": true,
            "ticks": "",
            "zerolinecolor": "white"
           },
           "zaxis": {
            "backgroundcolor": "#E5ECF6",
            "gridcolor": "white",
            "gridwidth": 2,
            "linecolor": "white",
            "showbackground": true,
            "ticks": "",
            "zerolinecolor": "white"
           }
          },
          "shapedefaults": {
           "line": {
            "color": "#2a3f5f"
           }
          },
          "ternary": {
           "aaxis": {
            "gridcolor": "white",
            "linecolor": "white",
            "ticks": ""
           },
           "baxis": {
            "gridcolor": "white",
            "linecolor": "white",
            "ticks": ""
           },
           "bgcolor": "#E5ECF6",
           "caxis": {
            "gridcolor": "white",
            "linecolor": "white",
            "ticks": ""
           }
          },
          "title": {
           "x": 0.05
          },
          "xaxis": {
           "automargin": true,
           "gridcolor": "white",
           "linecolor": "white",
           "ticks": "",
           "title": {
            "standoff": 15
           },
           "zerolinecolor": "white",
           "zerolinewidth": 2
          },
          "yaxis": {
           "automargin": true,
           "gridcolor": "white",
           "linecolor": "white",
           "ticks": "",
           "title": {
            "standoff": 15
           },
           "zerolinecolor": "white",
           "zerolinewidth": 2
          }
         }
        },
        "title": {
         "text": "Rijeka"
        },
        "xaxis": {
         "anchor": "y",
         "domain": [
          0,
          1
         ],
         "title": {
          "text": "calendar_week"
         }
        },
        "yaxis": {
         "anchor": "x",
         "domain": [
          0,
          1
         ],
         "title": {
          "text": "raw_entries"
         }
        }
       }
      }
     },
     "metadata": {},
     "output_type": "display_data"
    },
    {
     "data": {
      "application/vnd.plotly.v1+json": {
       "config": {
        "plotlyServerURL": "https://plot.ly"
       },
       "data": [
        {
         "hovertemplate": "city=Split<br>calendar_week=%{x}<br>raw_entries=%{y}<extra></extra>",
         "legendgroup": "Split",
         "line": {
          "color": "#636efa",
          "dash": "solid"
         },
         "marker": {
          "symbol": "circle"
         },
         "mode": "lines+markers",
         "name": "Split",
         "orientation": "v",
         "showlegend": true,
         "type": "scatter",
         "x": [
          33,
          34,
          35,
          36,
          37
         ],
         "xaxis": "x",
         "y": [
          656,
          661,
          630,
          616,
          608
         ],
         "yaxis": "y"
        }
       ],
       "layout": {
        "legend": {
         "title": {
          "text": "city"
         },
         "tracegroupgap": 0
        },
        "template": {
         "data": {
          "bar": [
           {
            "error_x": {
             "color": "#2a3f5f"
            },
            "error_y": {
             "color": "#2a3f5f"
            },
            "marker": {
             "line": {
              "color": "#E5ECF6",
              "width": 0.5
             },
             "pattern": {
              "fillmode": "overlay",
              "size": 10,
              "solidity": 0.2
             }
            },
            "type": "bar"
           }
          ],
          "barpolar": [
           {
            "marker": {
             "line": {
              "color": "#E5ECF6",
              "width": 0.5
             },
             "pattern": {
              "fillmode": "overlay",
              "size": 10,
              "solidity": 0.2
             }
            },
            "type": "barpolar"
           }
          ],
          "carpet": [
           {
            "aaxis": {
             "endlinecolor": "#2a3f5f",
             "gridcolor": "white",
             "linecolor": "white",
             "minorgridcolor": "white",
             "startlinecolor": "#2a3f5f"
            },
            "baxis": {
             "endlinecolor": "#2a3f5f",
             "gridcolor": "white",
             "linecolor": "white",
             "minorgridcolor": "white",
             "startlinecolor": "#2a3f5f"
            },
            "type": "carpet"
           }
          ],
          "choropleth": [
           {
            "colorbar": {
             "outlinewidth": 0,
             "ticks": ""
            },
            "type": "choropleth"
           }
          ],
          "contour": [
           {
            "colorbar": {
             "outlinewidth": 0,
             "ticks": ""
            },
            "colorscale": [
             [
              0,
              "#0d0887"
             ],
             [
              0.1111111111111111,
              "#46039f"
             ],
             [
              0.2222222222222222,
              "#7201a8"
             ],
             [
              0.3333333333333333,
              "#9c179e"
             ],
             [
              0.4444444444444444,
              "#bd3786"
             ],
             [
              0.5555555555555556,
              "#d8576b"
             ],
             [
              0.6666666666666666,
              "#ed7953"
             ],
             [
              0.7777777777777778,
              "#fb9f3a"
             ],
             [
              0.8888888888888888,
              "#fdca26"
             ],
             [
              1,
              "#f0f921"
             ]
            ],
            "type": "contour"
           }
          ],
          "contourcarpet": [
           {
            "colorbar": {
             "outlinewidth": 0,
             "ticks": ""
            },
            "type": "contourcarpet"
           }
          ],
          "heatmap": [
           {
            "colorbar": {
             "outlinewidth": 0,
             "ticks": ""
            },
            "colorscale": [
             [
              0,
              "#0d0887"
             ],
             [
              0.1111111111111111,
              "#46039f"
             ],
             [
              0.2222222222222222,
              "#7201a8"
             ],
             [
              0.3333333333333333,
              "#9c179e"
             ],
             [
              0.4444444444444444,
              "#bd3786"
             ],
             [
              0.5555555555555556,
              "#d8576b"
             ],
             [
              0.6666666666666666,
              "#ed7953"
             ],
             [
              0.7777777777777778,
              "#fb9f3a"
             ],
             [
              0.8888888888888888,
              "#fdca26"
             ],
             [
              1,
              "#f0f921"
             ]
            ],
            "type": "heatmap"
           }
          ],
          "heatmapgl": [
           {
            "colorbar": {
             "outlinewidth": 0,
             "ticks": ""
            },
            "colorscale": [
             [
              0,
              "#0d0887"
             ],
             [
              0.1111111111111111,
              "#46039f"
             ],
             [
              0.2222222222222222,
              "#7201a8"
             ],
             [
              0.3333333333333333,
              "#9c179e"
             ],
             [
              0.4444444444444444,
              "#bd3786"
             ],
             [
              0.5555555555555556,
              "#d8576b"
             ],
             [
              0.6666666666666666,
              "#ed7953"
             ],
             [
              0.7777777777777778,
              "#fb9f3a"
             ],
             [
              0.8888888888888888,
              "#fdca26"
             ],
             [
              1,
              "#f0f921"
             ]
            ],
            "type": "heatmapgl"
           }
          ],
          "histogram": [
           {
            "marker": {
             "pattern": {
              "fillmode": "overlay",
              "size": 10,
              "solidity": 0.2
             }
            },
            "type": "histogram"
           }
          ],
          "histogram2d": [
           {
            "colorbar": {
             "outlinewidth": 0,
             "ticks": ""
            },
            "colorscale": [
             [
              0,
              "#0d0887"
             ],
             [
              0.1111111111111111,
              "#46039f"
             ],
             [
              0.2222222222222222,
              "#7201a8"
             ],
             [
              0.3333333333333333,
              "#9c179e"
             ],
             [
              0.4444444444444444,
              "#bd3786"
             ],
             [
              0.5555555555555556,
              "#d8576b"
             ],
             [
              0.6666666666666666,
              "#ed7953"
             ],
             [
              0.7777777777777778,
              "#fb9f3a"
             ],
             [
              0.8888888888888888,
              "#fdca26"
             ],
             [
              1,
              "#f0f921"
             ]
            ],
            "type": "histogram2d"
           }
          ],
          "histogram2dcontour": [
           {
            "colorbar": {
             "outlinewidth": 0,
             "ticks": ""
            },
            "colorscale": [
             [
              0,
              "#0d0887"
             ],
             [
              0.1111111111111111,
              "#46039f"
             ],
             [
              0.2222222222222222,
              "#7201a8"
             ],
             [
              0.3333333333333333,
              "#9c179e"
             ],
             [
              0.4444444444444444,
              "#bd3786"
             ],
             [
              0.5555555555555556,
              "#d8576b"
             ],
             [
              0.6666666666666666,
              "#ed7953"
             ],
             [
              0.7777777777777778,
              "#fb9f3a"
             ],
             [
              0.8888888888888888,
              "#fdca26"
             ],
             [
              1,
              "#f0f921"
             ]
            ],
            "type": "histogram2dcontour"
           }
          ],
          "mesh3d": [
           {
            "colorbar": {
             "outlinewidth": 0,
             "ticks": ""
            },
            "type": "mesh3d"
           }
          ],
          "parcoords": [
           {
            "line": {
             "colorbar": {
              "outlinewidth": 0,
              "ticks": ""
             }
            },
            "type": "parcoords"
           }
          ],
          "pie": [
           {
            "automargin": true,
            "type": "pie"
           }
          ],
          "scatter": [
           {
            "marker": {
             "colorbar": {
              "outlinewidth": 0,
              "ticks": ""
             }
            },
            "type": "scatter"
           }
          ],
          "scatter3d": [
           {
            "line": {
             "colorbar": {
              "outlinewidth": 0,
              "ticks": ""
             }
            },
            "marker": {
             "colorbar": {
              "outlinewidth": 0,
              "ticks": ""
             }
            },
            "type": "scatter3d"
           }
          ],
          "scattercarpet": [
           {
            "marker": {
             "colorbar": {
              "outlinewidth": 0,
              "ticks": ""
             }
            },
            "type": "scattercarpet"
           }
          ],
          "scattergeo": [
           {
            "marker": {
             "colorbar": {
              "outlinewidth": 0,
              "ticks": ""
             }
            },
            "type": "scattergeo"
           }
          ],
          "scattergl": [
           {
            "marker": {
             "colorbar": {
              "outlinewidth": 0,
              "ticks": ""
             }
            },
            "type": "scattergl"
           }
          ],
          "scattermapbox": [
           {
            "marker": {
             "colorbar": {
              "outlinewidth": 0,
              "ticks": ""
             }
            },
            "type": "scattermapbox"
           }
          ],
          "scatterpolar": [
           {
            "marker": {
             "colorbar": {
              "outlinewidth": 0,
              "ticks": ""
             }
            },
            "type": "scatterpolar"
           }
          ],
          "scatterpolargl": [
           {
            "marker": {
             "colorbar": {
              "outlinewidth": 0,
              "ticks": ""
             }
            },
            "type": "scatterpolargl"
           }
          ],
          "scatterternary": [
           {
            "marker": {
             "colorbar": {
              "outlinewidth": 0,
              "ticks": ""
             }
            },
            "type": "scatterternary"
           }
          ],
          "surface": [
           {
            "colorbar": {
             "outlinewidth": 0,
             "ticks": ""
            },
            "colorscale": [
             [
              0,
              "#0d0887"
             ],
             [
              0.1111111111111111,
              "#46039f"
             ],
             [
              0.2222222222222222,
              "#7201a8"
             ],
             [
              0.3333333333333333,
              "#9c179e"
             ],
             [
              0.4444444444444444,
              "#bd3786"
             ],
             [
              0.5555555555555556,
              "#d8576b"
             ],
             [
              0.6666666666666666,
              "#ed7953"
             ],
             [
              0.7777777777777778,
              "#fb9f3a"
             ],
             [
              0.8888888888888888,
              "#fdca26"
             ],
             [
              1,
              "#f0f921"
             ]
            ],
            "type": "surface"
           }
          ],
          "table": [
           {
            "cells": {
             "fill": {
              "color": "#EBF0F8"
             },
             "line": {
              "color": "white"
             }
            },
            "header": {
             "fill": {
              "color": "#C8D4E3"
             },
             "line": {
              "color": "white"
             }
            },
            "type": "table"
           }
          ]
         },
         "layout": {
          "annotationdefaults": {
           "arrowcolor": "#2a3f5f",
           "arrowhead": 0,
           "arrowwidth": 1
          },
          "autotypenumbers": "strict",
          "coloraxis": {
           "colorbar": {
            "outlinewidth": 0,
            "ticks": ""
           }
          },
          "colorscale": {
           "diverging": [
            [
             0,
             "#8e0152"
            ],
            [
             0.1,
             "#c51b7d"
            ],
            [
             0.2,
             "#de77ae"
            ],
            [
             0.3,
             "#f1b6da"
            ],
            [
             0.4,
             "#fde0ef"
            ],
            [
             0.5,
             "#f7f7f7"
            ],
            [
             0.6,
             "#e6f5d0"
            ],
            [
             0.7,
             "#b8e186"
            ],
            [
             0.8,
             "#7fbc41"
            ],
            [
             0.9,
             "#4d9221"
            ],
            [
             1,
             "#276419"
            ]
           ],
           "sequential": [
            [
             0,
             "#0d0887"
            ],
            [
             0.1111111111111111,
             "#46039f"
            ],
            [
             0.2222222222222222,
             "#7201a8"
            ],
            [
             0.3333333333333333,
             "#9c179e"
            ],
            [
             0.4444444444444444,
             "#bd3786"
            ],
            [
             0.5555555555555556,
             "#d8576b"
            ],
            [
             0.6666666666666666,
             "#ed7953"
            ],
            [
             0.7777777777777778,
             "#fb9f3a"
            ],
            [
             0.8888888888888888,
             "#fdca26"
            ],
            [
             1,
             "#f0f921"
            ]
           ],
           "sequentialminus": [
            [
             0,
             "#0d0887"
            ],
            [
             0.1111111111111111,
             "#46039f"
            ],
            [
             0.2222222222222222,
             "#7201a8"
            ],
            [
             0.3333333333333333,
             "#9c179e"
            ],
            [
             0.4444444444444444,
             "#bd3786"
            ],
            [
             0.5555555555555556,
             "#d8576b"
            ],
            [
             0.6666666666666666,
             "#ed7953"
            ],
            [
             0.7777777777777778,
             "#fb9f3a"
            ],
            [
             0.8888888888888888,
             "#fdca26"
            ],
            [
             1,
             "#f0f921"
            ]
           ]
          },
          "colorway": [
           "#636efa",
           "#EF553B",
           "#00cc96",
           "#ab63fa",
           "#FFA15A",
           "#19d3f3",
           "#FF6692",
           "#B6E880",
           "#FF97FF",
           "#FECB52"
          ],
          "font": {
           "color": "#2a3f5f"
          },
          "geo": {
           "bgcolor": "white",
           "lakecolor": "white",
           "landcolor": "#E5ECF6",
           "showlakes": true,
           "showland": true,
           "subunitcolor": "white"
          },
          "hoverlabel": {
           "align": "left"
          },
          "hovermode": "closest",
          "mapbox": {
           "style": "light"
          },
          "paper_bgcolor": "white",
          "plot_bgcolor": "#E5ECF6",
          "polar": {
           "angularaxis": {
            "gridcolor": "white",
            "linecolor": "white",
            "ticks": ""
           },
           "bgcolor": "#E5ECF6",
           "radialaxis": {
            "gridcolor": "white",
            "linecolor": "white",
            "ticks": ""
           }
          },
          "scene": {
           "xaxis": {
            "backgroundcolor": "#E5ECF6",
            "gridcolor": "white",
            "gridwidth": 2,
            "linecolor": "white",
            "showbackground": true,
            "ticks": "",
            "zerolinecolor": "white"
           },
           "yaxis": {
            "backgroundcolor": "#E5ECF6",
            "gridcolor": "white",
            "gridwidth": 2,
            "linecolor": "white",
            "showbackground": true,
            "ticks": "",
            "zerolinecolor": "white"
           },
           "zaxis": {
            "backgroundcolor": "#E5ECF6",
            "gridcolor": "white",
            "gridwidth": 2,
            "linecolor": "white",
            "showbackground": true,
            "ticks": "",
            "zerolinecolor": "white"
           }
          },
          "shapedefaults": {
           "line": {
            "color": "#2a3f5f"
           }
          },
          "ternary": {
           "aaxis": {
            "gridcolor": "white",
            "linecolor": "white",
            "ticks": ""
           },
           "baxis": {
            "gridcolor": "white",
            "linecolor": "white",
            "ticks": ""
           },
           "bgcolor": "#E5ECF6",
           "caxis": {
            "gridcolor": "white",
            "linecolor": "white",
            "ticks": ""
           }
          },
          "title": {
           "x": 0.05
          },
          "xaxis": {
           "automargin": true,
           "gridcolor": "white",
           "linecolor": "white",
           "ticks": "",
           "title": {
            "standoff": 15
           },
           "zerolinecolor": "white",
           "zerolinewidth": 2
          },
          "yaxis": {
           "automargin": true,
           "gridcolor": "white",
           "linecolor": "white",
           "ticks": "",
           "title": {
            "standoff": 15
           },
           "zerolinecolor": "white",
           "zerolinewidth": 2
          }
         }
        },
        "title": {
         "text": "Split"
        },
        "xaxis": {
         "anchor": "y",
         "domain": [
          0,
          1
         ],
         "title": {
          "text": "calendar_week"
         }
        },
        "yaxis": {
         "anchor": "x",
         "domain": [
          0,
          1
         ],
         "title": {
          "text": "raw_entries"
         }
        }
       }
      }
     },
     "metadata": {},
     "output_type": "display_data"
    }
   ],
   "source": [
    "for grad in list(df[\"city\"].unique()):\n",
    "    fig = px.line(df[df[\"city\"] == grad], x=\"calendar_week\", y=\"raw_entries\", color = 'city', markers=True, title=grad)\n",
    "    fig.show()"
   ]
  },
  {
   "cell_type": "code",
   "execution_count": 6,
   "metadata": {},
   "outputs": [
    {
     "data": {
      "application/vnd.plotly.v1+json": {
       "config": {
        "plotlyServerURL": "https://plot.ly"
       },
       "data": [
        {
         "hovertemplate": "city=Rovinj<br>calendar_week=%{x}<br>clean_entries=%{y}<extra></extra>",
         "legendgroup": "Rovinj",
         "line": {
          "color": "#636efa",
          "dash": "solid"
         },
         "marker": {
          "symbol": "circle"
         },
         "mode": "lines+markers",
         "name": "Rovinj",
         "orientation": "v",
         "showlegend": true,
         "type": "scatter",
         "x": [
          30,
          33,
          34,
          35,
          35,
          36,
          37
         ],
         "xaxis": "x",
         "y": [
          337,
          337,
          329,
          325,
          322,
          234,
          319
         ],
         "yaxis": "y"
        }
       ],
       "layout": {
        "legend": {
         "title": {
          "text": "city"
         },
         "tracegroupgap": 0
        },
        "template": {
         "data": {
          "bar": [
           {
            "error_x": {
             "color": "#2a3f5f"
            },
            "error_y": {
             "color": "#2a3f5f"
            },
            "marker": {
             "line": {
              "color": "#E5ECF6",
              "width": 0.5
             },
             "pattern": {
              "fillmode": "overlay",
              "size": 10,
              "solidity": 0.2
             }
            },
            "type": "bar"
           }
          ],
          "barpolar": [
           {
            "marker": {
             "line": {
              "color": "#E5ECF6",
              "width": 0.5
             },
             "pattern": {
              "fillmode": "overlay",
              "size": 10,
              "solidity": 0.2
             }
            },
            "type": "barpolar"
           }
          ],
          "carpet": [
           {
            "aaxis": {
             "endlinecolor": "#2a3f5f",
             "gridcolor": "white",
             "linecolor": "white",
             "minorgridcolor": "white",
             "startlinecolor": "#2a3f5f"
            },
            "baxis": {
             "endlinecolor": "#2a3f5f",
             "gridcolor": "white",
             "linecolor": "white",
             "minorgridcolor": "white",
             "startlinecolor": "#2a3f5f"
            },
            "type": "carpet"
           }
          ],
          "choropleth": [
           {
            "colorbar": {
             "outlinewidth": 0,
             "ticks": ""
            },
            "type": "choropleth"
           }
          ],
          "contour": [
           {
            "colorbar": {
             "outlinewidth": 0,
             "ticks": ""
            },
            "colorscale": [
             [
              0,
              "#0d0887"
             ],
             [
              0.1111111111111111,
              "#46039f"
             ],
             [
              0.2222222222222222,
              "#7201a8"
             ],
             [
              0.3333333333333333,
              "#9c179e"
             ],
             [
              0.4444444444444444,
              "#bd3786"
             ],
             [
              0.5555555555555556,
              "#d8576b"
             ],
             [
              0.6666666666666666,
              "#ed7953"
             ],
             [
              0.7777777777777778,
              "#fb9f3a"
             ],
             [
              0.8888888888888888,
              "#fdca26"
             ],
             [
              1,
              "#f0f921"
             ]
            ],
            "type": "contour"
           }
          ],
          "contourcarpet": [
           {
            "colorbar": {
             "outlinewidth": 0,
             "ticks": ""
            },
            "type": "contourcarpet"
           }
          ],
          "heatmap": [
           {
            "colorbar": {
             "outlinewidth": 0,
             "ticks": ""
            },
            "colorscale": [
             [
              0,
              "#0d0887"
             ],
             [
              0.1111111111111111,
              "#46039f"
             ],
             [
              0.2222222222222222,
              "#7201a8"
             ],
             [
              0.3333333333333333,
              "#9c179e"
             ],
             [
              0.4444444444444444,
              "#bd3786"
             ],
             [
              0.5555555555555556,
              "#d8576b"
             ],
             [
              0.6666666666666666,
              "#ed7953"
             ],
             [
              0.7777777777777778,
              "#fb9f3a"
             ],
             [
              0.8888888888888888,
              "#fdca26"
             ],
             [
              1,
              "#f0f921"
             ]
            ],
            "type": "heatmap"
           }
          ],
          "heatmapgl": [
           {
            "colorbar": {
             "outlinewidth": 0,
             "ticks": ""
            },
            "colorscale": [
             [
              0,
              "#0d0887"
             ],
             [
              0.1111111111111111,
              "#46039f"
             ],
             [
              0.2222222222222222,
              "#7201a8"
             ],
             [
              0.3333333333333333,
              "#9c179e"
             ],
             [
              0.4444444444444444,
              "#bd3786"
             ],
             [
              0.5555555555555556,
              "#d8576b"
             ],
             [
              0.6666666666666666,
              "#ed7953"
             ],
             [
              0.7777777777777778,
              "#fb9f3a"
             ],
             [
              0.8888888888888888,
              "#fdca26"
             ],
             [
              1,
              "#f0f921"
             ]
            ],
            "type": "heatmapgl"
           }
          ],
          "histogram": [
           {
            "marker": {
             "pattern": {
              "fillmode": "overlay",
              "size": 10,
              "solidity": 0.2
             }
            },
            "type": "histogram"
           }
          ],
          "histogram2d": [
           {
            "colorbar": {
             "outlinewidth": 0,
             "ticks": ""
            },
            "colorscale": [
             [
              0,
              "#0d0887"
             ],
             [
              0.1111111111111111,
              "#46039f"
             ],
             [
              0.2222222222222222,
              "#7201a8"
             ],
             [
              0.3333333333333333,
              "#9c179e"
             ],
             [
              0.4444444444444444,
              "#bd3786"
             ],
             [
              0.5555555555555556,
              "#d8576b"
             ],
             [
              0.6666666666666666,
              "#ed7953"
             ],
             [
              0.7777777777777778,
              "#fb9f3a"
             ],
             [
              0.8888888888888888,
              "#fdca26"
             ],
             [
              1,
              "#f0f921"
             ]
            ],
            "type": "histogram2d"
           }
          ],
          "histogram2dcontour": [
           {
            "colorbar": {
             "outlinewidth": 0,
             "ticks": ""
            },
            "colorscale": [
             [
              0,
              "#0d0887"
             ],
             [
              0.1111111111111111,
              "#46039f"
             ],
             [
              0.2222222222222222,
              "#7201a8"
             ],
             [
              0.3333333333333333,
              "#9c179e"
             ],
             [
              0.4444444444444444,
              "#bd3786"
             ],
             [
              0.5555555555555556,
              "#d8576b"
             ],
             [
              0.6666666666666666,
              "#ed7953"
             ],
             [
              0.7777777777777778,
              "#fb9f3a"
             ],
             [
              0.8888888888888888,
              "#fdca26"
             ],
             [
              1,
              "#f0f921"
             ]
            ],
            "type": "histogram2dcontour"
           }
          ],
          "mesh3d": [
           {
            "colorbar": {
             "outlinewidth": 0,
             "ticks": ""
            },
            "type": "mesh3d"
           }
          ],
          "parcoords": [
           {
            "line": {
             "colorbar": {
              "outlinewidth": 0,
              "ticks": ""
             }
            },
            "type": "parcoords"
           }
          ],
          "pie": [
           {
            "automargin": true,
            "type": "pie"
           }
          ],
          "scatter": [
           {
            "marker": {
             "colorbar": {
              "outlinewidth": 0,
              "ticks": ""
             }
            },
            "type": "scatter"
           }
          ],
          "scatter3d": [
           {
            "line": {
             "colorbar": {
              "outlinewidth": 0,
              "ticks": ""
             }
            },
            "marker": {
             "colorbar": {
              "outlinewidth": 0,
              "ticks": ""
             }
            },
            "type": "scatter3d"
           }
          ],
          "scattercarpet": [
           {
            "marker": {
             "colorbar": {
              "outlinewidth": 0,
              "ticks": ""
             }
            },
            "type": "scattercarpet"
           }
          ],
          "scattergeo": [
           {
            "marker": {
             "colorbar": {
              "outlinewidth": 0,
              "ticks": ""
             }
            },
            "type": "scattergeo"
           }
          ],
          "scattergl": [
           {
            "marker": {
             "colorbar": {
              "outlinewidth": 0,
              "ticks": ""
             }
            },
            "type": "scattergl"
           }
          ],
          "scattermapbox": [
           {
            "marker": {
             "colorbar": {
              "outlinewidth": 0,
              "ticks": ""
             }
            },
            "type": "scattermapbox"
           }
          ],
          "scatterpolar": [
           {
            "marker": {
             "colorbar": {
              "outlinewidth": 0,
              "ticks": ""
             }
            },
            "type": "scatterpolar"
           }
          ],
          "scatterpolargl": [
           {
            "marker": {
             "colorbar": {
              "outlinewidth": 0,
              "ticks": ""
             }
            },
            "type": "scatterpolargl"
           }
          ],
          "scatterternary": [
           {
            "marker": {
             "colorbar": {
              "outlinewidth": 0,
              "ticks": ""
             }
            },
            "type": "scatterternary"
           }
          ],
          "surface": [
           {
            "colorbar": {
             "outlinewidth": 0,
             "ticks": ""
            },
            "colorscale": [
             [
              0,
              "#0d0887"
             ],
             [
              0.1111111111111111,
              "#46039f"
             ],
             [
              0.2222222222222222,
              "#7201a8"
             ],
             [
              0.3333333333333333,
              "#9c179e"
             ],
             [
              0.4444444444444444,
              "#bd3786"
             ],
             [
              0.5555555555555556,
              "#d8576b"
             ],
             [
              0.6666666666666666,
              "#ed7953"
             ],
             [
              0.7777777777777778,
              "#fb9f3a"
             ],
             [
              0.8888888888888888,
              "#fdca26"
             ],
             [
              1,
              "#f0f921"
             ]
            ],
            "type": "surface"
           }
          ],
          "table": [
           {
            "cells": {
             "fill": {
              "color": "#EBF0F8"
             },
             "line": {
              "color": "white"
             }
            },
            "header": {
             "fill": {
              "color": "#C8D4E3"
             },
             "line": {
              "color": "white"
             }
            },
            "type": "table"
           }
          ]
         },
         "layout": {
          "annotationdefaults": {
           "arrowcolor": "#2a3f5f",
           "arrowhead": 0,
           "arrowwidth": 1
          },
          "autotypenumbers": "strict",
          "coloraxis": {
           "colorbar": {
            "outlinewidth": 0,
            "ticks": ""
           }
          },
          "colorscale": {
           "diverging": [
            [
             0,
             "#8e0152"
            ],
            [
             0.1,
             "#c51b7d"
            ],
            [
             0.2,
             "#de77ae"
            ],
            [
             0.3,
             "#f1b6da"
            ],
            [
             0.4,
             "#fde0ef"
            ],
            [
             0.5,
             "#f7f7f7"
            ],
            [
             0.6,
             "#e6f5d0"
            ],
            [
             0.7,
             "#b8e186"
            ],
            [
             0.8,
             "#7fbc41"
            ],
            [
             0.9,
             "#4d9221"
            ],
            [
             1,
             "#276419"
            ]
           ],
           "sequential": [
            [
             0,
             "#0d0887"
            ],
            [
             0.1111111111111111,
             "#46039f"
            ],
            [
             0.2222222222222222,
             "#7201a8"
            ],
            [
             0.3333333333333333,
             "#9c179e"
            ],
            [
             0.4444444444444444,
             "#bd3786"
            ],
            [
             0.5555555555555556,
             "#d8576b"
            ],
            [
             0.6666666666666666,
             "#ed7953"
            ],
            [
             0.7777777777777778,
             "#fb9f3a"
            ],
            [
             0.8888888888888888,
             "#fdca26"
            ],
            [
             1,
             "#f0f921"
            ]
           ],
           "sequentialminus": [
            [
             0,
             "#0d0887"
            ],
            [
             0.1111111111111111,
             "#46039f"
            ],
            [
             0.2222222222222222,
             "#7201a8"
            ],
            [
             0.3333333333333333,
             "#9c179e"
            ],
            [
             0.4444444444444444,
             "#bd3786"
            ],
            [
             0.5555555555555556,
             "#d8576b"
            ],
            [
             0.6666666666666666,
             "#ed7953"
            ],
            [
             0.7777777777777778,
             "#fb9f3a"
            ],
            [
             0.8888888888888888,
             "#fdca26"
            ],
            [
             1,
             "#f0f921"
            ]
           ]
          },
          "colorway": [
           "#636efa",
           "#EF553B",
           "#00cc96",
           "#ab63fa",
           "#FFA15A",
           "#19d3f3",
           "#FF6692",
           "#B6E880",
           "#FF97FF",
           "#FECB52"
          ],
          "font": {
           "color": "#2a3f5f"
          },
          "geo": {
           "bgcolor": "white",
           "lakecolor": "white",
           "landcolor": "#E5ECF6",
           "showlakes": true,
           "showland": true,
           "subunitcolor": "white"
          },
          "hoverlabel": {
           "align": "left"
          },
          "hovermode": "closest",
          "mapbox": {
           "style": "light"
          },
          "paper_bgcolor": "white",
          "plot_bgcolor": "#E5ECF6",
          "polar": {
           "angularaxis": {
            "gridcolor": "white",
            "linecolor": "white",
            "ticks": ""
           },
           "bgcolor": "#E5ECF6",
           "radialaxis": {
            "gridcolor": "white",
            "linecolor": "white",
            "ticks": ""
           }
          },
          "scene": {
           "xaxis": {
            "backgroundcolor": "#E5ECF6",
            "gridcolor": "white",
            "gridwidth": 2,
            "linecolor": "white",
            "showbackground": true,
            "ticks": "",
            "zerolinecolor": "white"
           },
           "yaxis": {
            "backgroundcolor": "#E5ECF6",
            "gridcolor": "white",
            "gridwidth": 2,
            "linecolor": "white",
            "showbackground": true,
            "ticks": "",
            "zerolinecolor": "white"
           },
           "zaxis": {
            "backgroundcolor": "#E5ECF6",
            "gridcolor": "white",
            "gridwidth": 2,
            "linecolor": "white",
            "showbackground": true,
            "ticks": "",
            "zerolinecolor": "white"
           }
          },
          "shapedefaults": {
           "line": {
            "color": "#2a3f5f"
           }
          },
          "ternary": {
           "aaxis": {
            "gridcolor": "white",
            "linecolor": "white",
            "ticks": ""
           },
           "baxis": {
            "gridcolor": "white",
            "linecolor": "white",
            "ticks": ""
           },
           "bgcolor": "#E5ECF6",
           "caxis": {
            "gridcolor": "white",
            "linecolor": "white",
            "ticks": ""
           }
          },
          "title": {
           "x": 0.05
          },
          "xaxis": {
           "automargin": true,
           "gridcolor": "white",
           "linecolor": "white",
           "ticks": "",
           "title": {
            "standoff": 15
           },
           "zerolinecolor": "white",
           "zerolinewidth": 2
          },
          "yaxis": {
           "automargin": true,
           "gridcolor": "white",
           "linecolor": "white",
           "ticks": "",
           "title": {
            "standoff": 15
           },
           "zerolinecolor": "white",
           "zerolinewidth": 2
          }
         }
        },
        "title": {
         "text": "Rovinj"
        },
        "xaxis": {
         "anchor": "y",
         "domain": [
          0,
          1
         ],
         "title": {
          "text": "calendar_week"
         }
        },
        "yaxis": {
         "anchor": "x",
         "domain": [
          0,
          1
         ],
         "title": {
          "text": "clean_entries"
         }
        }
       }
      }
     },
     "metadata": {},
     "output_type": "display_data"
    },
    {
     "data": {
      "application/vnd.plotly.v1+json": {
       "config": {
        "plotlyServerURL": "https://plot.ly"
       },
       "data": [
        {
         "hovertemplate": "city=Zagreb<br>calendar_week=%{x}<br>clean_entries=%{y}<extra></extra>",
         "legendgroup": "Zagreb",
         "line": {
          "color": "#636efa",
          "dash": "solid"
         },
         "marker": {
          "symbol": "circle"
         },
         "mode": "lines+markers",
         "name": "Zagreb",
         "orientation": "v",
         "showlegend": true,
         "type": "scatter",
         "x": [
          30,
          32,
          33,
          34,
          36,
          37
         ],
         "xaxis": "x",
         "y": [
          4122,
          4138,
          1617,
          4082,
          3940,
          3930
         ],
         "yaxis": "y"
        }
       ],
       "layout": {
        "legend": {
         "title": {
          "text": "city"
         },
         "tracegroupgap": 0
        },
        "template": {
         "data": {
          "bar": [
           {
            "error_x": {
             "color": "#2a3f5f"
            },
            "error_y": {
             "color": "#2a3f5f"
            },
            "marker": {
             "line": {
              "color": "#E5ECF6",
              "width": 0.5
             },
             "pattern": {
              "fillmode": "overlay",
              "size": 10,
              "solidity": 0.2
             }
            },
            "type": "bar"
           }
          ],
          "barpolar": [
           {
            "marker": {
             "line": {
              "color": "#E5ECF6",
              "width": 0.5
             },
             "pattern": {
              "fillmode": "overlay",
              "size": 10,
              "solidity": 0.2
             }
            },
            "type": "barpolar"
           }
          ],
          "carpet": [
           {
            "aaxis": {
             "endlinecolor": "#2a3f5f",
             "gridcolor": "white",
             "linecolor": "white",
             "minorgridcolor": "white",
             "startlinecolor": "#2a3f5f"
            },
            "baxis": {
             "endlinecolor": "#2a3f5f",
             "gridcolor": "white",
             "linecolor": "white",
             "minorgridcolor": "white",
             "startlinecolor": "#2a3f5f"
            },
            "type": "carpet"
           }
          ],
          "choropleth": [
           {
            "colorbar": {
             "outlinewidth": 0,
             "ticks": ""
            },
            "type": "choropleth"
           }
          ],
          "contour": [
           {
            "colorbar": {
             "outlinewidth": 0,
             "ticks": ""
            },
            "colorscale": [
             [
              0,
              "#0d0887"
             ],
             [
              0.1111111111111111,
              "#46039f"
             ],
             [
              0.2222222222222222,
              "#7201a8"
             ],
             [
              0.3333333333333333,
              "#9c179e"
             ],
             [
              0.4444444444444444,
              "#bd3786"
             ],
             [
              0.5555555555555556,
              "#d8576b"
             ],
             [
              0.6666666666666666,
              "#ed7953"
             ],
             [
              0.7777777777777778,
              "#fb9f3a"
             ],
             [
              0.8888888888888888,
              "#fdca26"
             ],
             [
              1,
              "#f0f921"
             ]
            ],
            "type": "contour"
           }
          ],
          "contourcarpet": [
           {
            "colorbar": {
             "outlinewidth": 0,
             "ticks": ""
            },
            "type": "contourcarpet"
           }
          ],
          "heatmap": [
           {
            "colorbar": {
             "outlinewidth": 0,
             "ticks": ""
            },
            "colorscale": [
             [
              0,
              "#0d0887"
             ],
             [
              0.1111111111111111,
              "#46039f"
             ],
             [
              0.2222222222222222,
              "#7201a8"
             ],
             [
              0.3333333333333333,
              "#9c179e"
             ],
             [
              0.4444444444444444,
              "#bd3786"
             ],
             [
              0.5555555555555556,
              "#d8576b"
             ],
             [
              0.6666666666666666,
              "#ed7953"
             ],
             [
              0.7777777777777778,
              "#fb9f3a"
             ],
             [
              0.8888888888888888,
              "#fdca26"
             ],
             [
              1,
              "#f0f921"
             ]
            ],
            "type": "heatmap"
           }
          ],
          "heatmapgl": [
           {
            "colorbar": {
             "outlinewidth": 0,
             "ticks": ""
            },
            "colorscale": [
             [
              0,
              "#0d0887"
             ],
             [
              0.1111111111111111,
              "#46039f"
             ],
             [
              0.2222222222222222,
              "#7201a8"
             ],
             [
              0.3333333333333333,
              "#9c179e"
             ],
             [
              0.4444444444444444,
              "#bd3786"
             ],
             [
              0.5555555555555556,
              "#d8576b"
             ],
             [
              0.6666666666666666,
              "#ed7953"
             ],
             [
              0.7777777777777778,
              "#fb9f3a"
             ],
             [
              0.8888888888888888,
              "#fdca26"
             ],
             [
              1,
              "#f0f921"
             ]
            ],
            "type": "heatmapgl"
           }
          ],
          "histogram": [
           {
            "marker": {
             "pattern": {
              "fillmode": "overlay",
              "size": 10,
              "solidity": 0.2
             }
            },
            "type": "histogram"
           }
          ],
          "histogram2d": [
           {
            "colorbar": {
             "outlinewidth": 0,
             "ticks": ""
            },
            "colorscale": [
             [
              0,
              "#0d0887"
             ],
             [
              0.1111111111111111,
              "#46039f"
             ],
             [
              0.2222222222222222,
              "#7201a8"
             ],
             [
              0.3333333333333333,
              "#9c179e"
             ],
             [
              0.4444444444444444,
              "#bd3786"
             ],
             [
              0.5555555555555556,
              "#d8576b"
             ],
             [
              0.6666666666666666,
              "#ed7953"
             ],
             [
              0.7777777777777778,
              "#fb9f3a"
             ],
             [
              0.8888888888888888,
              "#fdca26"
             ],
             [
              1,
              "#f0f921"
             ]
            ],
            "type": "histogram2d"
           }
          ],
          "histogram2dcontour": [
           {
            "colorbar": {
             "outlinewidth": 0,
             "ticks": ""
            },
            "colorscale": [
             [
              0,
              "#0d0887"
             ],
             [
              0.1111111111111111,
              "#46039f"
             ],
             [
              0.2222222222222222,
              "#7201a8"
             ],
             [
              0.3333333333333333,
              "#9c179e"
             ],
             [
              0.4444444444444444,
              "#bd3786"
             ],
             [
              0.5555555555555556,
              "#d8576b"
             ],
             [
              0.6666666666666666,
              "#ed7953"
             ],
             [
              0.7777777777777778,
              "#fb9f3a"
             ],
             [
              0.8888888888888888,
              "#fdca26"
             ],
             [
              1,
              "#f0f921"
             ]
            ],
            "type": "histogram2dcontour"
           }
          ],
          "mesh3d": [
           {
            "colorbar": {
             "outlinewidth": 0,
             "ticks": ""
            },
            "type": "mesh3d"
           }
          ],
          "parcoords": [
           {
            "line": {
             "colorbar": {
              "outlinewidth": 0,
              "ticks": ""
             }
            },
            "type": "parcoords"
           }
          ],
          "pie": [
           {
            "automargin": true,
            "type": "pie"
           }
          ],
          "scatter": [
           {
            "marker": {
             "colorbar": {
              "outlinewidth": 0,
              "ticks": ""
             }
            },
            "type": "scatter"
           }
          ],
          "scatter3d": [
           {
            "line": {
             "colorbar": {
              "outlinewidth": 0,
              "ticks": ""
             }
            },
            "marker": {
             "colorbar": {
              "outlinewidth": 0,
              "ticks": ""
             }
            },
            "type": "scatter3d"
           }
          ],
          "scattercarpet": [
           {
            "marker": {
             "colorbar": {
              "outlinewidth": 0,
              "ticks": ""
             }
            },
            "type": "scattercarpet"
           }
          ],
          "scattergeo": [
           {
            "marker": {
             "colorbar": {
              "outlinewidth": 0,
              "ticks": ""
             }
            },
            "type": "scattergeo"
           }
          ],
          "scattergl": [
           {
            "marker": {
             "colorbar": {
              "outlinewidth": 0,
              "ticks": ""
             }
            },
            "type": "scattergl"
           }
          ],
          "scattermapbox": [
           {
            "marker": {
             "colorbar": {
              "outlinewidth": 0,
              "ticks": ""
             }
            },
            "type": "scattermapbox"
           }
          ],
          "scatterpolar": [
           {
            "marker": {
             "colorbar": {
              "outlinewidth": 0,
              "ticks": ""
             }
            },
            "type": "scatterpolar"
           }
          ],
          "scatterpolargl": [
           {
            "marker": {
             "colorbar": {
              "outlinewidth": 0,
              "ticks": ""
             }
            },
            "type": "scatterpolargl"
           }
          ],
          "scatterternary": [
           {
            "marker": {
             "colorbar": {
              "outlinewidth": 0,
              "ticks": ""
             }
            },
            "type": "scatterternary"
           }
          ],
          "surface": [
           {
            "colorbar": {
             "outlinewidth": 0,
             "ticks": ""
            },
            "colorscale": [
             [
              0,
              "#0d0887"
             ],
             [
              0.1111111111111111,
              "#46039f"
             ],
             [
              0.2222222222222222,
              "#7201a8"
             ],
             [
              0.3333333333333333,
              "#9c179e"
             ],
             [
              0.4444444444444444,
              "#bd3786"
             ],
             [
              0.5555555555555556,
              "#d8576b"
             ],
             [
              0.6666666666666666,
              "#ed7953"
             ],
             [
              0.7777777777777778,
              "#fb9f3a"
             ],
             [
              0.8888888888888888,
              "#fdca26"
             ],
             [
              1,
              "#f0f921"
             ]
            ],
            "type": "surface"
           }
          ],
          "table": [
           {
            "cells": {
             "fill": {
              "color": "#EBF0F8"
             },
             "line": {
              "color": "white"
             }
            },
            "header": {
             "fill": {
              "color": "#C8D4E3"
             },
             "line": {
              "color": "white"
             }
            },
            "type": "table"
           }
          ]
         },
         "layout": {
          "annotationdefaults": {
           "arrowcolor": "#2a3f5f",
           "arrowhead": 0,
           "arrowwidth": 1
          },
          "autotypenumbers": "strict",
          "coloraxis": {
           "colorbar": {
            "outlinewidth": 0,
            "ticks": ""
           }
          },
          "colorscale": {
           "diverging": [
            [
             0,
             "#8e0152"
            ],
            [
             0.1,
             "#c51b7d"
            ],
            [
             0.2,
             "#de77ae"
            ],
            [
             0.3,
             "#f1b6da"
            ],
            [
             0.4,
             "#fde0ef"
            ],
            [
             0.5,
             "#f7f7f7"
            ],
            [
             0.6,
             "#e6f5d0"
            ],
            [
             0.7,
             "#b8e186"
            ],
            [
             0.8,
             "#7fbc41"
            ],
            [
             0.9,
             "#4d9221"
            ],
            [
             1,
             "#276419"
            ]
           ],
           "sequential": [
            [
             0,
             "#0d0887"
            ],
            [
             0.1111111111111111,
             "#46039f"
            ],
            [
             0.2222222222222222,
             "#7201a8"
            ],
            [
             0.3333333333333333,
             "#9c179e"
            ],
            [
             0.4444444444444444,
             "#bd3786"
            ],
            [
             0.5555555555555556,
             "#d8576b"
            ],
            [
             0.6666666666666666,
             "#ed7953"
            ],
            [
             0.7777777777777778,
             "#fb9f3a"
            ],
            [
             0.8888888888888888,
             "#fdca26"
            ],
            [
             1,
             "#f0f921"
            ]
           ],
           "sequentialminus": [
            [
             0,
             "#0d0887"
            ],
            [
             0.1111111111111111,
             "#46039f"
            ],
            [
             0.2222222222222222,
             "#7201a8"
            ],
            [
             0.3333333333333333,
             "#9c179e"
            ],
            [
             0.4444444444444444,
             "#bd3786"
            ],
            [
             0.5555555555555556,
             "#d8576b"
            ],
            [
             0.6666666666666666,
             "#ed7953"
            ],
            [
             0.7777777777777778,
             "#fb9f3a"
            ],
            [
             0.8888888888888888,
             "#fdca26"
            ],
            [
             1,
             "#f0f921"
            ]
           ]
          },
          "colorway": [
           "#636efa",
           "#EF553B",
           "#00cc96",
           "#ab63fa",
           "#FFA15A",
           "#19d3f3",
           "#FF6692",
           "#B6E880",
           "#FF97FF",
           "#FECB52"
          ],
          "font": {
           "color": "#2a3f5f"
          },
          "geo": {
           "bgcolor": "white",
           "lakecolor": "white",
           "landcolor": "#E5ECF6",
           "showlakes": true,
           "showland": true,
           "subunitcolor": "white"
          },
          "hoverlabel": {
           "align": "left"
          },
          "hovermode": "closest",
          "mapbox": {
           "style": "light"
          },
          "paper_bgcolor": "white",
          "plot_bgcolor": "#E5ECF6",
          "polar": {
           "angularaxis": {
            "gridcolor": "white",
            "linecolor": "white",
            "ticks": ""
           },
           "bgcolor": "#E5ECF6",
           "radialaxis": {
            "gridcolor": "white",
            "linecolor": "white",
            "ticks": ""
           }
          },
          "scene": {
           "xaxis": {
            "backgroundcolor": "#E5ECF6",
            "gridcolor": "white",
            "gridwidth": 2,
            "linecolor": "white",
            "showbackground": true,
            "ticks": "",
            "zerolinecolor": "white"
           },
           "yaxis": {
            "backgroundcolor": "#E5ECF6",
            "gridcolor": "white",
            "gridwidth": 2,
            "linecolor": "white",
            "showbackground": true,
            "ticks": "",
            "zerolinecolor": "white"
           },
           "zaxis": {
            "backgroundcolor": "#E5ECF6",
            "gridcolor": "white",
            "gridwidth": 2,
            "linecolor": "white",
            "showbackground": true,
            "ticks": "",
            "zerolinecolor": "white"
           }
          },
          "shapedefaults": {
           "line": {
            "color": "#2a3f5f"
           }
          },
          "ternary": {
           "aaxis": {
            "gridcolor": "white",
            "linecolor": "white",
            "ticks": ""
           },
           "baxis": {
            "gridcolor": "white",
            "linecolor": "white",
            "ticks": ""
           },
           "bgcolor": "#E5ECF6",
           "caxis": {
            "gridcolor": "white",
            "linecolor": "white",
            "ticks": ""
           }
          },
          "title": {
           "x": 0.05
          },
          "xaxis": {
           "automargin": true,
           "gridcolor": "white",
           "linecolor": "white",
           "ticks": "",
           "title": {
            "standoff": 15
           },
           "zerolinecolor": "white",
           "zerolinewidth": 2
          },
          "yaxis": {
           "automargin": true,
           "gridcolor": "white",
           "linecolor": "white",
           "ticks": "",
           "title": {
            "standoff": 15
           },
           "zerolinecolor": "white",
           "zerolinewidth": 2
          }
         }
        },
        "title": {
         "text": "Zagreb"
        },
        "xaxis": {
         "anchor": "y",
         "domain": [
          0,
          1
         ],
         "title": {
          "text": "calendar_week"
         }
        },
        "yaxis": {
         "anchor": "x",
         "domain": [
          0,
          1
         ],
         "title": {
          "text": "clean_entries"
         }
        }
       }
      }
     },
     "metadata": {},
     "output_type": "display_data"
    },
    {
     "data": {
      "application/vnd.plotly.v1+json": {
       "config": {
        "plotlyServerURL": "https://plot.ly"
       },
       "data": [
        {
         "hovertemplate": "city=Varazdin<br>calendar_week=%{x}<br>clean_entries=%{y}<extra></extra>",
         "legendgroup": "Varazdin",
         "line": {
          "color": "#636efa",
          "dash": "solid"
         },
         "marker": {
          "symbol": "circle"
         },
         "mode": "lines+markers",
         "name": "Varazdin",
         "orientation": "v",
         "showlegend": true,
         "type": "scatter",
         "x": [
          31,
          32,
          32,
          33,
          34,
          35,
          35,
          36,
          37
         ],
         "xaxis": "x",
         "y": [
          54,
          56,
          53,
          51,
          51,
          53,
          50,
          56,
          52
         ],
         "yaxis": "y"
        }
       ],
       "layout": {
        "legend": {
         "title": {
          "text": "city"
         },
         "tracegroupgap": 0
        },
        "template": {
         "data": {
          "bar": [
           {
            "error_x": {
             "color": "#2a3f5f"
            },
            "error_y": {
             "color": "#2a3f5f"
            },
            "marker": {
             "line": {
              "color": "#E5ECF6",
              "width": 0.5
             },
             "pattern": {
              "fillmode": "overlay",
              "size": 10,
              "solidity": 0.2
             }
            },
            "type": "bar"
           }
          ],
          "barpolar": [
           {
            "marker": {
             "line": {
              "color": "#E5ECF6",
              "width": 0.5
             },
             "pattern": {
              "fillmode": "overlay",
              "size": 10,
              "solidity": 0.2
             }
            },
            "type": "barpolar"
           }
          ],
          "carpet": [
           {
            "aaxis": {
             "endlinecolor": "#2a3f5f",
             "gridcolor": "white",
             "linecolor": "white",
             "minorgridcolor": "white",
             "startlinecolor": "#2a3f5f"
            },
            "baxis": {
             "endlinecolor": "#2a3f5f",
             "gridcolor": "white",
             "linecolor": "white",
             "minorgridcolor": "white",
             "startlinecolor": "#2a3f5f"
            },
            "type": "carpet"
           }
          ],
          "choropleth": [
           {
            "colorbar": {
             "outlinewidth": 0,
             "ticks": ""
            },
            "type": "choropleth"
           }
          ],
          "contour": [
           {
            "colorbar": {
             "outlinewidth": 0,
             "ticks": ""
            },
            "colorscale": [
             [
              0,
              "#0d0887"
             ],
             [
              0.1111111111111111,
              "#46039f"
             ],
             [
              0.2222222222222222,
              "#7201a8"
             ],
             [
              0.3333333333333333,
              "#9c179e"
             ],
             [
              0.4444444444444444,
              "#bd3786"
             ],
             [
              0.5555555555555556,
              "#d8576b"
             ],
             [
              0.6666666666666666,
              "#ed7953"
             ],
             [
              0.7777777777777778,
              "#fb9f3a"
             ],
             [
              0.8888888888888888,
              "#fdca26"
             ],
             [
              1,
              "#f0f921"
             ]
            ],
            "type": "contour"
           }
          ],
          "contourcarpet": [
           {
            "colorbar": {
             "outlinewidth": 0,
             "ticks": ""
            },
            "type": "contourcarpet"
           }
          ],
          "heatmap": [
           {
            "colorbar": {
             "outlinewidth": 0,
             "ticks": ""
            },
            "colorscale": [
             [
              0,
              "#0d0887"
             ],
             [
              0.1111111111111111,
              "#46039f"
             ],
             [
              0.2222222222222222,
              "#7201a8"
             ],
             [
              0.3333333333333333,
              "#9c179e"
             ],
             [
              0.4444444444444444,
              "#bd3786"
             ],
             [
              0.5555555555555556,
              "#d8576b"
             ],
             [
              0.6666666666666666,
              "#ed7953"
             ],
             [
              0.7777777777777778,
              "#fb9f3a"
             ],
             [
              0.8888888888888888,
              "#fdca26"
             ],
             [
              1,
              "#f0f921"
             ]
            ],
            "type": "heatmap"
           }
          ],
          "heatmapgl": [
           {
            "colorbar": {
             "outlinewidth": 0,
             "ticks": ""
            },
            "colorscale": [
             [
              0,
              "#0d0887"
             ],
             [
              0.1111111111111111,
              "#46039f"
             ],
             [
              0.2222222222222222,
              "#7201a8"
             ],
             [
              0.3333333333333333,
              "#9c179e"
             ],
             [
              0.4444444444444444,
              "#bd3786"
             ],
             [
              0.5555555555555556,
              "#d8576b"
             ],
             [
              0.6666666666666666,
              "#ed7953"
             ],
             [
              0.7777777777777778,
              "#fb9f3a"
             ],
             [
              0.8888888888888888,
              "#fdca26"
             ],
             [
              1,
              "#f0f921"
             ]
            ],
            "type": "heatmapgl"
           }
          ],
          "histogram": [
           {
            "marker": {
             "pattern": {
              "fillmode": "overlay",
              "size": 10,
              "solidity": 0.2
             }
            },
            "type": "histogram"
           }
          ],
          "histogram2d": [
           {
            "colorbar": {
             "outlinewidth": 0,
             "ticks": ""
            },
            "colorscale": [
             [
              0,
              "#0d0887"
             ],
             [
              0.1111111111111111,
              "#46039f"
             ],
             [
              0.2222222222222222,
              "#7201a8"
             ],
             [
              0.3333333333333333,
              "#9c179e"
             ],
             [
              0.4444444444444444,
              "#bd3786"
             ],
             [
              0.5555555555555556,
              "#d8576b"
             ],
             [
              0.6666666666666666,
              "#ed7953"
             ],
             [
              0.7777777777777778,
              "#fb9f3a"
             ],
             [
              0.8888888888888888,
              "#fdca26"
             ],
             [
              1,
              "#f0f921"
             ]
            ],
            "type": "histogram2d"
           }
          ],
          "histogram2dcontour": [
           {
            "colorbar": {
             "outlinewidth": 0,
             "ticks": ""
            },
            "colorscale": [
             [
              0,
              "#0d0887"
             ],
             [
              0.1111111111111111,
              "#46039f"
             ],
             [
              0.2222222222222222,
              "#7201a8"
             ],
             [
              0.3333333333333333,
              "#9c179e"
             ],
             [
              0.4444444444444444,
              "#bd3786"
             ],
             [
              0.5555555555555556,
              "#d8576b"
             ],
             [
              0.6666666666666666,
              "#ed7953"
             ],
             [
              0.7777777777777778,
              "#fb9f3a"
             ],
             [
              0.8888888888888888,
              "#fdca26"
             ],
             [
              1,
              "#f0f921"
             ]
            ],
            "type": "histogram2dcontour"
           }
          ],
          "mesh3d": [
           {
            "colorbar": {
             "outlinewidth": 0,
             "ticks": ""
            },
            "type": "mesh3d"
           }
          ],
          "parcoords": [
           {
            "line": {
             "colorbar": {
              "outlinewidth": 0,
              "ticks": ""
             }
            },
            "type": "parcoords"
           }
          ],
          "pie": [
           {
            "automargin": true,
            "type": "pie"
           }
          ],
          "scatter": [
           {
            "marker": {
             "colorbar": {
              "outlinewidth": 0,
              "ticks": ""
             }
            },
            "type": "scatter"
           }
          ],
          "scatter3d": [
           {
            "line": {
             "colorbar": {
              "outlinewidth": 0,
              "ticks": ""
             }
            },
            "marker": {
             "colorbar": {
              "outlinewidth": 0,
              "ticks": ""
             }
            },
            "type": "scatter3d"
           }
          ],
          "scattercarpet": [
           {
            "marker": {
             "colorbar": {
              "outlinewidth": 0,
              "ticks": ""
             }
            },
            "type": "scattercarpet"
           }
          ],
          "scattergeo": [
           {
            "marker": {
             "colorbar": {
              "outlinewidth": 0,
              "ticks": ""
             }
            },
            "type": "scattergeo"
           }
          ],
          "scattergl": [
           {
            "marker": {
             "colorbar": {
              "outlinewidth": 0,
              "ticks": ""
             }
            },
            "type": "scattergl"
           }
          ],
          "scattermapbox": [
           {
            "marker": {
             "colorbar": {
              "outlinewidth": 0,
              "ticks": ""
             }
            },
            "type": "scattermapbox"
           }
          ],
          "scatterpolar": [
           {
            "marker": {
             "colorbar": {
              "outlinewidth": 0,
              "ticks": ""
             }
            },
            "type": "scatterpolar"
           }
          ],
          "scatterpolargl": [
           {
            "marker": {
             "colorbar": {
              "outlinewidth": 0,
              "ticks": ""
             }
            },
            "type": "scatterpolargl"
           }
          ],
          "scatterternary": [
           {
            "marker": {
             "colorbar": {
              "outlinewidth": 0,
              "ticks": ""
             }
            },
            "type": "scatterternary"
           }
          ],
          "surface": [
           {
            "colorbar": {
             "outlinewidth": 0,
             "ticks": ""
            },
            "colorscale": [
             [
              0,
              "#0d0887"
             ],
             [
              0.1111111111111111,
              "#46039f"
             ],
             [
              0.2222222222222222,
              "#7201a8"
             ],
             [
              0.3333333333333333,
              "#9c179e"
             ],
             [
              0.4444444444444444,
              "#bd3786"
             ],
             [
              0.5555555555555556,
              "#d8576b"
             ],
             [
              0.6666666666666666,
              "#ed7953"
             ],
             [
              0.7777777777777778,
              "#fb9f3a"
             ],
             [
              0.8888888888888888,
              "#fdca26"
             ],
             [
              1,
              "#f0f921"
             ]
            ],
            "type": "surface"
           }
          ],
          "table": [
           {
            "cells": {
             "fill": {
              "color": "#EBF0F8"
             },
             "line": {
              "color": "white"
             }
            },
            "header": {
             "fill": {
              "color": "#C8D4E3"
             },
             "line": {
              "color": "white"
             }
            },
            "type": "table"
           }
          ]
         },
         "layout": {
          "annotationdefaults": {
           "arrowcolor": "#2a3f5f",
           "arrowhead": 0,
           "arrowwidth": 1
          },
          "autotypenumbers": "strict",
          "coloraxis": {
           "colorbar": {
            "outlinewidth": 0,
            "ticks": ""
           }
          },
          "colorscale": {
           "diverging": [
            [
             0,
             "#8e0152"
            ],
            [
             0.1,
             "#c51b7d"
            ],
            [
             0.2,
             "#de77ae"
            ],
            [
             0.3,
             "#f1b6da"
            ],
            [
             0.4,
             "#fde0ef"
            ],
            [
             0.5,
             "#f7f7f7"
            ],
            [
             0.6,
             "#e6f5d0"
            ],
            [
             0.7,
             "#b8e186"
            ],
            [
             0.8,
             "#7fbc41"
            ],
            [
             0.9,
             "#4d9221"
            ],
            [
             1,
             "#276419"
            ]
           ],
           "sequential": [
            [
             0,
             "#0d0887"
            ],
            [
             0.1111111111111111,
             "#46039f"
            ],
            [
             0.2222222222222222,
             "#7201a8"
            ],
            [
             0.3333333333333333,
             "#9c179e"
            ],
            [
             0.4444444444444444,
             "#bd3786"
            ],
            [
             0.5555555555555556,
             "#d8576b"
            ],
            [
             0.6666666666666666,
             "#ed7953"
            ],
            [
             0.7777777777777778,
             "#fb9f3a"
            ],
            [
             0.8888888888888888,
             "#fdca26"
            ],
            [
             1,
             "#f0f921"
            ]
           ],
           "sequentialminus": [
            [
             0,
             "#0d0887"
            ],
            [
             0.1111111111111111,
             "#46039f"
            ],
            [
             0.2222222222222222,
             "#7201a8"
            ],
            [
             0.3333333333333333,
             "#9c179e"
            ],
            [
             0.4444444444444444,
             "#bd3786"
            ],
            [
             0.5555555555555556,
             "#d8576b"
            ],
            [
             0.6666666666666666,
             "#ed7953"
            ],
            [
             0.7777777777777778,
             "#fb9f3a"
            ],
            [
             0.8888888888888888,
             "#fdca26"
            ],
            [
             1,
             "#f0f921"
            ]
           ]
          },
          "colorway": [
           "#636efa",
           "#EF553B",
           "#00cc96",
           "#ab63fa",
           "#FFA15A",
           "#19d3f3",
           "#FF6692",
           "#B6E880",
           "#FF97FF",
           "#FECB52"
          ],
          "font": {
           "color": "#2a3f5f"
          },
          "geo": {
           "bgcolor": "white",
           "lakecolor": "white",
           "landcolor": "#E5ECF6",
           "showlakes": true,
           "showland": true,
           "subunitcolor": "white"
          },
          "hoverlabel": {
           "align": "left"
          },
          "hovermode": "closest",
          "mapbox": {
           "style": "light"
          },
          "paper_bgcolor": "white",
          "plot_bgcolor": "#E5ECF6",
          "polar": {
           "angularaxis": {
            "gridcolor": "white",
            "linecolor": "white",
            "ticks": ""
           },
           "bgcolor": "#E5ECF6",
           "radialaxis": {
            "gridcolor": "white",
            "linecolor": "white",
            "ticks": ""
           }
          },
          "scene": {
           "xaxis": {
            "backgroundcolor": "#E5ECF6",
            "gridcolor": "white",
            "gridwidth": 2,
            "linecolor": "white",
            "showbackground": true,
            "ticks": "",
            "zerolinecolor": "white"
           },
           "yaxis": {
            "backgroundcolor": "#E5ECF6",
            "gridcolor": "white",
            "gridwidth": 2,
            "linecolor": "white",
            "showbackground": true,
            "ticks": "",
            "zerolinecolor": "white"
           },
           "zaxis": {
            "backgroundcolor": "#E5ECF6",
            "gridcolor": "white",
            "gridwidth": 2,
            "linecolor": "white",
            "showbackground": true,
            "ticks": "",
            "zerolinecolor": "white"
           }
          },
          "shapedefaults": {
           "line": {
            "color": "#2a3f5f"
           }
          },
          "ternary": {
           "aaxis": {
            "gridcolor": "white",
            "linecolor": "white",
            "ticks": ""
           },
           "baxis": {
            "gridcolor": "white",
            "linecolor": "white",
            "ticks": ""
           },
           "bgcolor": "#E5ECF6",
           "caxis": {
            "gridcolor": "white",
            "linecolor": "white",
            "ticks": ""
           }
          },
          "title": {
           "x": 0.05
          },
          "xaxis": {
           "automargin": true,
           "gridcolor": "white",
           "linecolor": "white",
           "ticks": "",
           "title": {
            "standoff": 15
           },
           "zerolinecolor": "white",
           "zerolinewidth": 2
          },
          "yaxis": {
           "automargin": true,
           "gridcolor": "white",
           "linecolor": "white",
           "ticks": "",
           "title": {
            "standoff": 15
           },
           "zerolinecolor": "white",
           "zerolinewidth": 2
          }
         }
        },
        "title": {
         "text": "Varazdin"
        },
        "xaxis": {
         "anchor": "y",
         "domain": [
          0,
          1
         ],
         "title": {
          "text": "calendar_week"
         }
        },
        "yaxis": {
         "anchor": "x",
         "domain": [
          0,
          1
         ],
         "title": {
          "text": "clean_entries"
         }
        }
       }
      }
     },
     "metadata": {},
     "output_type": "display_data"
    },
    {
     "data": {
      "application/vnd.plotly.v1+json": {
       "config": {
        "plotlyServerURL": "https://plot.ly"
       },
       "data": [
        {
         "hovertemplate": "city=Rijeka<br>calendar_week=%{x}<br>clean_entries=%{y}<extra></extra>",
         "legendgroup": "Rijeka",
         "line": {
          "color": "#636efa",
          "dash": "solid"
         },
         "marker": {
          "symbol": "circle"
         },
         "mode": "lines+markers",
         "name": "Rijeka",
         "orientation": "v",
         "showlegend": true,
         "type": "scatter",
         "x": [
          33,
          35,
          36,
          37
         ],
         "xaxis": "x",
         "y": [
          1319,
          3732,
          3666,
          3569
         ],
         "yaxis": "y"
        }
       ],
       "layout": {
        "legend": {
         "title": {
          "text": "city"
         },
         "tracegroupgap": 0
        },
        "template": {
         "data": {
          "bar": [
           {
            "error_x": {
             "color": "#2a3f5f"
            },
            "error_y": {
             "color": "#2a3f5f"
            },
            "marker": {
             "line": {
              "color": "#E5ECF6",
              "width": 0.5
             },
             "pattern": {
              "fillmode": "overlay",
              "size": 10,
              "solidity": 0.2
             }
            },
            "type": "bar"
           }
          ],
          "barpolar": [
           {
            "marker": {
             "line": {
              "color": "#E5ECF6",
              "width": 0.5
             },
             "pattern": {
              "fillmode": "overlay",
              "size": 10,
              "solidity": 0.2
             }
            },
            "type": "barpolar"
           }
          ],
          "carpet": [
           {
            "aaxis": {
             "endlinecolor": "#2a3f5f",
             "gridcolor": "white",
             "linecolor": "white",
             "minorgridcolor": "white",
             "startlinecolor": "#2a3f5f"
            },
            "baxis": {
             "endlinecolor": "#2a3f5f",
             "gridcolor": "white",
             "linecolor": "white",
             "minorgridcolor": "white",
             "startlinecolor": "#2a3f5f"
            },
            "type": "carpet"
           }
          ],
          "choropleth": [
           {
            "colorbar": {
             "outlinewidth": 0,
             "ticks": ""
            },
            "type": "choropleth"
           }
          ],
          "contour": [
           {
            "colorbar": {
             "outlinewidth": 0,
             "ticks": ""
            },
            "colorscale": [
             [
              0,
              "#0d0887"
             ],
             [
              0.1111111111111111,
              "#46039f"
             ],
             [
              0.2222222222222222,
              "#7201a8"
             ],
             [
              0.3333333333333333,
              "#9c179e"
             ],
             [
              0.4444444444444444,
              "#bd3786"
             ],
             [
              0.5555555555555556,
              "#d8576b"
             ],
             [
              0.6666666666666666,
              "#ed7953"
             ],
             [
              0.7777777777777778,
              "#fb9f3a"
             ],
             [
              0.8888888888888888,
              "#fdca26"
             ],
             [
              1,
              "#f0f921"
             ]
            ],
            "type": "contour"
           }
          ],
          "contourcarpet": [
           {
            "colorbar": {
             "outlinewidth": 0,
             "ticks": ""
            },
            "type": "contourcarpet"
           }
          ],
          "heatmap": [
           {
            "colorbar": {
             "outlinewidth": 0,
             "ticks": ""
            },
            "colorscale": [
             [
              0,
              "#0d0887"
             ],
             [
              0.1111111111111111,
              "#46039f"
             ],
             [
              0.2222222222222222,
              "#7201a8"
             ],
             [
              0.3333333333333333,
              "#9c179e"
             ],
             [
              0.4444444444444444,
              "#bd3786"
             ],
             [
              0.5555555555555556,
              "#d8576b"
             ],
             [
              0.6666666666666666,
              "#ed7953"
             ],
             [
              0.7777777777777778,
              "#fb9f3a"
             ],
             [
              0.8888888888888888,
              "#fdca26"
             ],
             [
              1,
              "#f0f921"
             ]
            ],
            "type": "heatmap"
           }
          ],
          "heatmapgl": [
           {
            "colorbar": {
             "outlinewidth": 0,
             "ticks": ""
            },
            "colorscale": [
             [
              0,
              "#0d0887"
             ],
             [
              0.1111111111111111,
              "#46039f"
             ],
             [
              0.2222222222222222,
              "#7201a8"
             ],
             [
              0.3333333333333333,
              "#9c179e"
             ],
             [
              0.4444444444444444,
              "#bd3786"
             ],
             [
              0.5555555555555556,
              "#d8576b"
             ],
             [
              0.6666666666666666,
              "#ed7953"
             ],
             [
              0.7777777777777778,
              "#fb9f3a"
             ],
             [
              0.8888888888888888,
              "#fdca26"
             ],
             [
              1,
              "#f0f921"
             ]
            ],
            "type": "heatmapgl"
           }
          ],
          "histogram": [
           {
            "marker": {
             "pattern": {
              "fillmode": "overlay",
              "size": 10,
              "solidity": 0.2
             }
            },
            "type": "histogram"
           }
          ],
          "histogram2d": [
           {
            "colorbar": {
             "outlinewidth": 0,
             "ticks": ""
            },
            "colorscale": [
             [
              0,
              "#0d0887"
             ],
             [
              0.1111111111111111,
              "#46039f"
             ],
             [
              0.2222222222222222,
              "#7201a8"
             ],
             [
              0.3333333333333333,
              "#9c179e"
             ],
             [
              0.4444444444444444,
              "#bd3786"
             ],
             [
              0.5555555555555556,
              "#d8576b"
             ],
             [
              0.6666666666666666,
              "#ed7953"
             ],
             [
              0.7777777777777778,
              "#fb9f3a"
             ],
             [
              0.8888888888888888,
              "#fdca26"
             ],
             [
              1,
              "#f0f921"
             ]
            ],
            "type": "histogram2d"
           }
          ],
          "histogram2dcontour": [
           {
            "colorbar": {
             "outlinewidth": 0,
             "ticks": ""
            },
            "colorscale": [
             [
              0,
              "#0d0887"
             ],
             [
              0.1111111111111111,
              "#46039f"
             ],
             [
              0.2222222222222222,
              "#7201a8"
             ],
             [
              0.3333333333333333,
              "#9c179e"
             ],
             [
              0.4444444444444444,
              "#bd3786"
             ],
             [
              0.5555555555555556,
              "#d8576b"
             ],
             [
              0.6666666666666666,
              "#ed7953"
             ],
             [
              0.7777777777777778,
              "#fb9f3a"
             ],
             [
              0.8888888888888888,
              "#fdca26"
             ],
             [
              1,
              "#f0f921"
             ]
            ],
            "type": "histogram2dcontour"
           }
          ],
          "mesh3d": [
           {
            "colorbar": {
             "outlinewidth": 0,
             "ticks": ""
            },
            "type": "mesh3d"
           }
          ],
          "parcoords": [
           {
            "line": {
             "colorbar": {
              "outlinewidth": 0,
              "ticks": ""
             }
            },
            "type": "parcoords"
           }
          ],
          "pie": [
           {
            "automargin": true,
            "type": "pie"
           }
          ],
          "scatter": [
           {
            "marker": {
             "colorbar": {
              "outlinewidth": 0,
              "ticks": ""
             }
            },
            "type": "scatter"
           }
          ],
          "scatter3d": [
           {
            "line": {
             "colorbar": {
              "outlinewidth": 0,
              "ticks": ""
             }
            },
            "marker": {
             "colorbar": {
              "outlinewidth": 0,
              "ticks": ""
             }
            },
            "type": "scatter3d"
           }
          ],
          "scattercarpet": [
           {
            "marker": {
             "colorbar": {
              "outlinewidth": 0,
              "ticks": ""
             }
            },
            "type": "scattercarpet"
           }
          ],
          "scattergeo": [
           {
            "marker": {
             "colorbar": {
              "outlinewidth": 0,
              "ticks": ""
             }
            },
            "type": "scattergeo"
           }
          ],
          "scattergl": [
           {
            "marker": {
             "colorbar": {
              "outlinewidth": 0,
              "ticks": ""
             }
            },
            "type": "scattergl"
           }
          ],
          "scattermapbox": [
           {
            "marker": {
             "colorbar": {
              "outlinewidth": 0,
              "ticks": ""
             }
            },
            "type": "scattermapbox"
           }
          ],
          "scatterpolar": [
           {
            "marker": {
             "colorbar": {
              "outlinewidth": 0,
              "ticks": ""
             }
            },
            "type": "scatterpolar"
           }
          ],
          "scatterpolargl": [
           {
            "marker": {
             "colorbar": {
              "outlinewidth": 0,
              "ticks": ""
             }
            },
            "type": "scatterpolargl"
           }
          ],
          "scatterternary": [
           {
            "marker": {
             "colorbar": {
              "outlinewidth": 0,
              "ticks": ""
             }
            },
            "type": "scatterternary"
           }
          ],
          "surface": [
           {
            "colorbar": {
             "outlinewidth": 0,
             "ticks": ""
            },
            "colorscale": [
             [
              0,
              "#0d0887"
             ],
             [
              0.1111111111111111,
              "#46039f"
             ],
             [
              0.2222222222222222,
              "#7201a8"
             ],
             [
              0.3333333333333333,
              "#9c179e"
             ],
             [
              0.4444444444444444,
              "#bd3786"
             ],
             [
              0.5555555555555556,
              "#d8576b"
             ],
             [
              0.6666666666666666,
              "#ed7953"
             ],
             [
              0.7777777777777778,
              "#fb9f3a"
             ],
             [
              0.8888888888888888,
              "#fdca26"
             ],
             [
              1,
              "#f0f921"
             ]
            ],
            "type": "surface"
           }
          ],
          "table": [
           {
            "cells": {
             "fill": {
              "color": "#EBF0F8"
             },
             "line": {
              "color": "white"
             }
            },
            "header": {
             "fill": {
              "color": "#C8D4E3"
             },
             "line": {
              "color": "white"
             }
            },
            "type": "table"
           }
          ]
         },
         "layout": {
          "annotationdefaults": {
           "arrowcolor": "#2a3f5f",
           "arrowhead": 0,
           "arrowwidth": 1
          },
          "autotypenumbers": "strict",
          "coloraxis": {
           "colorbar": {
            "outlinewidth": 0,
            "ticks": ""
           }
          },
          "colorscale": {
           "diverging": [
            [
             0,
             "#8e0152"
            ],
            [
             0.1,
             "#c51b7d"
            ],
            [
             0.2,
             "#de77ae"
            ],
            [
             0.3,
             "#f1b6da"
            ],
            [
             0.4,
             "#fde0ef"
            ],
            [
             0.5,
             "#f7f7f7"
            ],
            [
             0.6,
             "#e6f5d0"
            ],
            [
             0.7,
             "#b8e186"
            ],
            [
             0.8,
             "#7fbc41"
            ],
            [
             0.9,
             "#4d9221"
            ],
            [
             1,
             "#276419"
            ]
           ],
           "sequential": [
            [
             0,
             "#0d0887"
            ],
            [
             0.1111111111111111,
             "#46039f"
            ],
            [
             0.2222222222222222,
             "#7201a8"
            ],
            [
             0.3333333333333333,
             "#9c179e"
            ],
            [
             0.4444444444444444,
             "#bd3786"
            ],
            [
             0.5555555555555556,
             "#d8576b"
            ],
            [
             0.6666666666666666,
             "#ed7953"
            ],
            [
             0.7777777777777778,
             "#fb9f3a"
            ],
            [
             0.8888888888888888,
             "#fdca26"
            ],
            [
             1,
             "#f0f921"
            ]
           ],
           "sequentialminus": [
            [
             0,
             "#0d0887"
            ],
            [
             0.1111111111111111,
             "#46039f"
            ],
            [
             0.2222222222222222,
             "#7201a8"
            ],
            [
             0.3333333333333333,
             "#9c179e"
            ],
            [
             0.4444444444444444,
             "#bd3786"
            ],
            [
             0.5555555555555556,
             "#d8576b"
            ],
            [
             0.6666666666666666,
             "#ed7953"
            ],
            [
             0.7777777777777778,
             "#fb9f3a"
            ],
            [
             0.8888888888888888,
             "#fdca26"
            ],
            [
             1,
             "#f0f921"
            ]
           ]
          },
          "colorway": [
           "#636efa",
           "#EF553B",
           "#00cc96",
           "#ab63fa",
           "#FFA15A",
           "#19d3f3",
           "#FF6692",
           "#B6E880",
           "#FF97FF",
           "#FECB52"
          ],
          "font": {
           "color": "#2a3f5f"
          },
          "geo": {
           "bgcolor": "white",
           "lakecolor": "white",
           "landcolor": "#E5ECF6",
           "showlakes": true,
           "showland": true,
           "subunitcolor": "white"
          },
          "hoverlabel": {
           "align": "left"
          },
          "hovermode": "closest",
          "mapbox": {
           "style": "light"
          },
          "paper_bgcolor": "white",
          "plot_bgcolor": "#E5ECF6",
          "polar": {
           "angularaxis": {
            "gridcolor": "white",
            "linecolor": "white",
            "ticks": ""
           },
           "bgcolor": "#E5ECF6",
           "radialaxis": {
            "gridcolor": "white",
            "linecolor": "white",
            "ticks": ""
           }
          },
          "scene": {
           "xaxis": {
            "backgroundcolor": "#E5ECF6",
            "gridcolor": "white",
            "gridwidth": 2,
            "linecolor": "white",
            "showbackground": true,
            "ticks": "",
            "zerolinecolor": "white"
           },
           "yaxis": {
            "backgroundcolor": "#E5ECF6",
            "gridcolor": "white",
            "gridwidth": 2,
            "linecolor": "white",
            "showbackground": true,
            "ticks": "",
            "zerolinecolor": "white"
           },
           "zaxis": {
            "backgroundcolor": "#E5ECF6",
            "gridcolor": "white",
            "gridwidth": 2,
            "linecolor": "white",
            "showbackground": true,
            "ticks": "",
            "zerolinecolor": "white"
           }
          },
          "shapedefaults": {
           "line": {
            "color": "#2a3f5f"
           }
          },
          "ternary": {
           "aaxis": {
            "gridcolor": "white",
            "linecolor": "white",
            "ticks": ""
           },
           "baxis": {
            "gridcolor": "white",
            "linecolor": "white",
            "ticks": ""
           },
           "bgcolor": "#E5ECF6",
           "caxis": {
            "gridcolor": "white",
            "linecolor": "white",
            "ticks": ""
           }
          },
          "title": {
           "x": 0.05
          },
          "xaxis": {
           "automargin": true,
           "gridcolor": "white",
           "linecolor": "white",
           "ticks": "",
           "title": {
            "standoff": 15
           },
           "zerolinecolor": "white",
           "zerolinewidth": 2
          },
          "yaxis": {
           "automargin": true,
           "gridcolor": "white",
           "linecolor": "white",
           "ticks": "",
           "title": {
            "standoff": 15
           },
           "zerolinecolor": "white",
           "zerolinewidth": 2
          }
         }
        },
        "title": {
         "text": "Rijeka"
        },
        "xaxis": {
         "anchor": "y",
         "domain": [
          0,
          1
         ],
         "title": {
          "text": "calendar_week"
         }
        },
        "yaxis": {
         "anchor": "x",
         "domain": [
          0,
          1
         ],
         "title": {
          "text": "clean_entries"
         }
        }
       }
      }
     },
     "metadata": {},
     "output_type": "display_data"
    },
    {
     "data": {
      "application/vnd.plotly.v1+json": {
       "config": {
        "plotlyServerURL": "https://plot.ly"
       },
       "data": [
        {
         "hovertemplate": "city=Split<br>calendar_week=%{x}<br>clean_entries=%{y}<extra></extra>",
         "legendgroup": "Split",
         "line": {
          "color": "#636efa",
          "dash": "solid"
         },
         "marker": {
          "symbol": "circle"
         },
         "mode": "lines+markers",
         "name": "Split",
         "orientation": "v",
         "showlegend": true,
         "type": "scatter",
         "x": [
          33,
          34,
          35,
          36,
          37
         ],
         "xaxis": "x",
         "y": [
          570,
          570,
          550,
          532,
          524
         ],
         "yaxis": "y"
        }
       ],
       "layout": {
        "legend": {
         "title": {
          "text": "city"
         },
         "tracegroupgap": 0
        },
        "template": {
         "data": {
          "bar": [
           {
            "error_x": {
             "color": "#2a3f5f"
            },
            "error_y": {
             "color": "#2a3f5f"
            },
            "marker": {
             "line": {
              "color": "#E5ECF6",
              "width": 0.5
             },
             "pattern": {
              "fillmode": "overlay",
              "size": 10,
              "solidity": 0.2
             }
            },
            "type": "bar"
           }
          ],
          "barpolar": [
           {
            "marker": {
             "line": {
              "color": "#E5ECF6",
              "width": 0.5
             },
             "pattern": {
              "fillmode": "overlay",
              "size": 10,
              "solidity": 0.2
             }
            },
            "type": "barpolar"
           }
          ],
          "carpet": [
           {
            "aaxis": {
             "endlinecolor": "#2a3f5f",
             "gridcolor": "white",
             "linecolor": "white",
             "minorgridcolor": "white",
             "startlinecolor": "#2a3f5f"
            },
            "baxis": {
             "endlinecolor": "#2a3f5f",
             "gridcolor": "white",
             "linecolor": "white",
             "minorgridcolor": "white",
             "startlinecolor": "#2a3f5f"
            },
            "type": "carpet"
           }
          ],
          "choropleth": [
           {
            "colorbar": {
             "outlinewidth": 0,
             "ticks": ""
            },
            "type": "choropleth"
           }
          ],
          "contour": [
           {
            "colorbar": {
             "outlinewidth": 0,
             "ticks": ""
            },
            "colorscale": [
             [
              0,
              "#0d0887"
             ],
             [
              0.1111111111111111,
              "#46039f"
             ],
             [
              0.2222222222222222,
              "#7201a8"
             ],
             [
              0.3333333333333333,
              "#9c179e"
             ],
             [
              0.4444444444444444,
              "#bd3786"
             ],
             [
              0.5555555555555556,
              "#d8576b"
             ],
             [
              0.6666666666666666,
              "#ed7953"
             ],
             [
              0.7777777777777778,
              "#fb9f3a"
             ],
             [
              0.8888888888888888,
              "#fdca26"
             ],
             [
              1,
              "#f0f921"
             ]
            ],
            "type": "contour"
           }
          ],
          "contourcarpet": [
           {
            "colorbar": {
             "outlinewidth": 0,
             "ticks": ""
            },
            "type": "contourcarpet"
           }
          ],
          "heatmap": [
           {
            "colorbar": {
             "outlinewidth": 0,
             "ticks": ""
            },
            "colorscale": [
             [
              0,
              "#0d0887"
             ],
             [
              0.1111111111111111,
              "#46039f"
             ],
             [
              0.2222222222222222,
              "#7201a8"
             ],
             [
              0.3333333333333333,
              "#9c179e"
             ],
             [
              0.4444444444444444,
              "#bd3786"
             ],
             [
              0.5555555555555556,
              "#d8576b"
             ],
             [
              0.6666666666666666,
              "#ed7953"
             ],
             [
              0.7777777777777778,
              "#fb9f3a"
             ],
             [
              0.8888888888888888,
              "#fdca26"
             ],
             [
              1,
              "#f0f921"
             ]
            ],
            "type": "heatmap"
           }
          ],
          "heatmapgl": [
           {
            "colorbar": {
             "outlinewidth": 0,
             "ticks": ""
            },
            "colorscale": [
             [
              0,
              "#0d0887"
             ],
             [
              0.1111111111111111,
              "#46039f"
             ],
             [
              0.2222222222222222,
              "#7201a8"
             ],
             [
              0.3333333333333333,
              "#9c179e"
             ],
             [
              0.4444444444444444,
              "#bd3786"
             ],
             [
              0.5555555555555556,
              "#d8576b"
             ],
             [
              0.6666666666666666,
              "#ed7953"
             ],
             [
              0.7777777777777778,
              "#fb9f3a"
             ],
             [
              0.8888888888888888,
              "#fdca26"
             ],
             [
              1,
              "#f0f921"
             ]
            ],
            "type": "heatmapgl"
           }
          ],
          "histogram": [
           {
            "marker": {
             "pattern": {
              "fillmode": "overlay",
              "size": 10,
              "solidity": 0.2
             }
            },
            "type": "histogram"
           }
          ],
          "histogram2d": [
           {
            "colorbar": {
             "outlinewidth": 0,
             "ticks": ""
            },
            "colorscale": [
             [
              0,
              "#0d0887"
             ],
             [
              0.1111111111111111,
              "#46039f"
             ],
             [
              0.2222222222222222,
              "#7201a8"
             ],
             [
              0.3333333333333333,
              "#9c179e"
             ],
             [
              0.4444444444444444,
              "#bd3786"
             ],
             [
              0.5555555555555556,
              "#d8576b"
             ],
             [
              0.6666666666666666,
              "#ed7953"
             ],
             [
              0.7777777777777778,
              "#fb9f3a"
             ],
             [
              0.8888888888888888,
              "#fdca26"
             ],
             [
              1,
              "#f0f921"
             ]
            ],
            "type": "histogram2d"
           }
          ],
          "histogram2dcontour": [
           {
            "colorbar": {
             "outlinewidth": 0,
             "ticks": ""
            },
            "colorscale": [
             [
              0,
              "#0d0887"
             ],
             [
              0.1111111111111111,
              "#46039f"
             ],
             [
              0.2222222222222222,
              "#7201a8"
             ],
             [
              0.3333333333333333,
              "#9c179e"
             ],
             [
              0.4444444444444444,
              "#bd3786"
             ],
             [
              0.5555555555555556,
              "#d8576b"
             ],
             [
              0.6666666666666666,
              "#ed7953"
             ],
             [
              0.7777777777777778,
              "#fb9f3a"
             ],
             [
              0.8888888888888888,
              "#fdca26"
             ],
             [
              1,
              "#f0f921"
             ]
            ],
            "type": "histogram2dcontour"
           }
          ],
          "mesh3d": [
           {
            "colorbar": {
             "outlinewidth": 0,
             "ticks": ""
            },
            "type": "mesh3d"
           }
          ],
          "parcoords": [
           {
            "line": {
             "colorbar": {
              "outlinewidth": 0,
              "ticks": ""
             }
            },
            "type": "parcoords"
           }
          ],
          "pie": [
           {
            "automargin": true,
            "type": "pie"
           }
          ],
          "scatter": [
           {
            "marker": {
             "colorbar": {
              "outlinewidth": 0,
              "ticks": ""
             }
            },
            "type": "scatter"
           }
          ],
          "scatter3d": [
           {
            "line": {
             "colorbar": {
              "outlinewidth": 0,
              "ticks": ""
             }
            },
            "marker": {
             "colorbar": {
              "outlinewidth": 0,
              "ticks": ""
             }
            },
            "type": "scatter3d"
           }
          ],
          "scattercarpet": [
           {
            "marker": {
             "colorbar": {
              "outlinewidth": 0,
              "ticks": ""
             }
            },
            "type": "scattercarpet"
           }
          ],
          "scattergeo": [
           {
            "marker": {
             "colorbar": {
              "outlinewidth": 0,
              "ticks": ""
             }
            },
            "type": "scattergeo"
           }
          ],
          "scattergl": [
           {
            "marker": {
             "colorbar": {
              "outlinewidth": 0,
              "ticks": ""
             }
            },
            "type": "scattergl"
           }
          ],
          "scattermapbox": [
           {
            "marker": {
             "colorbar": {
              "outlinewidth": 0,
              "ticks": ""
             }
            },
            "type": "scattermapbox"
           }
          ],
          "scatterpolar": [
           {
            "marker": {
             "colorbar": {
              "outlinewidth": 0,
              "ticks": ""
             }
            },
            "type": "scatterpolar"
           }
          ],
          "scatterpolargl": [
           {
            "marker": {
             "colorbar": {
              "outlinewidth": 0,
              "ticks": ""
             }
            },
            "type": "scatterpolargl"
           }
          ],
          "scatterternary": [
           {
            "marker": {
             "colorbar": {
              "outlinewidth": 0,
              "ticks": ""
             }
            },
            "type": "scatterternary"
           }
          ],
          "surface": [
           {
            "colorbar": {
             "outlinewidth": 0,
             "ticks": ""
            },
            "colorscale": [
             [
              0,
              "#0d0887"
             ],
             [
              0.1111111111111111,
              "#46039f"
             ],
             [
              0.2222222222222222,
              "#7201a8"
             ],
             [
              0.3333333333333333,
              "#9c179e"
             ],
             [
              0.4444444444444444,
              "#bd3786"
             ],
             [
              0.5555555555555556,
              "#d8576b"
             ],
             [
              0.6666666666666666,
              "#ed7953"
             ],
             [
              0.7777777777777778,
              "#fb9f3a"
             ],
             [
              0.8888888888888888,
              "#fdca26"
             ],
             [
              1,
              "#f0f921"
             ]
            ],
            "type": "surface"
           }
          ],
          "table": [
           {
            "cells": {
             "fill": {
              "color": "#EBF0F8"
             },
             "line": {
              "color": "white"
             }
            },
            "header": {
             "fill": {
              "color": "#C8D4E3"
             },
             "line": {
              "color": "white"
             }
            },
            "type": "table"
           }
          ]
         },
         "layout": {
          "annotationdefaults": {
           "arrowcolor": "#2a3f5f",
           "arrowhead": 0,
           "arrowwidth": 1
          },
          "autotypenumbers": "strict",
          "coloraxis": {
           "colorbar": {
            "outlinewidth": 0,
            "ticks": ""
           }
          },
          "colorscale": {
           "diverging": [
            [
             0,
             "#8e0152"
            ],
            [
             0.1,
             "#c51b7d"
            ],
            [
             0.2,
             "#de77ae"
            ],
            [
             0.3,
             "#f1b6da"
            ],
            [
             0.4,
             "#fde0ef"
            ],
            [
             0.5,
             "#f7f7f7"
            ],
            [
             0.6,
             "#e6f5d0"
            ],
            [
             0.7,
             "#b8e186"
            ],
            [
             0.8,
             "#7fbc41"
            ],
            [
             0.9,
             "#4d9221"
            ],
            [
             1,
             "#276419"
            ]
           ],
           "sequential": [
            [
             0,
             "#0d0887"
            ],
            [
             0.1111111111111111,
             "#46039f"
            ],
            [
             0.2222222222222222,
             "#7201a8"
            ],
            [
             0.3333333333333333,
             "#9c179e"
            ],
            [
             0.4444444444444444,
             "#bd3786"
            ],
            [
             0.5555555555555556,
             "#d8576b"
            ],
            [
             0.6666666666666666,
             "#ed7953"
            ],
            [
             0.7777777777777778,
             "#fb9f3a"
            ],
            [
             0.8888888888888888,
             "#fdca26"
            ],
            [
             1,
             "#f0f921"
            ]
           ],
           "sequentialminus": [
            [
             0,
             "#0d0887"
            ],
            [
             0.1111111111111111,
             "#46039f"
            ],
            [
             0.2222222222222222,
             "#7201a8"
            ],
            [
             0.3333333333333333,
             "#9c179e"
            ],
            [
             0.4444444444444444,
             "#bd3786"
            ],
            [
             0.5555555555555556,
             "#d8576b"
            ],
            [
             0.6666666666666666,
             "#ed7953"
            ],
            [
             0.7777777777777778,
             "#fb9f3a"
            ],
            [
             0.8888888888888888,
             "#fdca26"
            ],
            [
             1,
             "#f0f921"
            ]
           ]
          },
          "colorway": [
           "#636efa",
           "#EF553B",
           "#00cc96",
           "#ab63fa",
           "#FFA15A",
           "#19d3f3",
           "#FF6692",
           "#B6E880",
           "#FF97FF",
           "#FECB52"
          ],
          "font": {
           "color": "#2a3f5f"
          },
          "geo": {
           "bgcolor": "white",
           "lakecolor": "white",
           "landcolor": "#E5ECF6",
           "showlakes": true,
           "showland": true,
           "subunitcolor": "white"
          },
          "hoverlabel": {
           "align": "left"
          },
          "hovermode": "closest",
          "mapbox": {
           "style": "light"
          },
          "paper_bgcolor": "white",
          "plot_bgcolor": "#E5ECF6",
          "polar": {
           "angularaxis": {
            "gridcolor": "white",
            "linecolor": "white",
            "ticks": ""
           },
           "bgcolor": "#E5ECF6",
           "radialaxis": {
            "gridcolor": "white",
            "linecolor": "white",
            "ticks": ""
           }
          },
          "scene": {
           "xaxis": {
            "backgroundcolor": "#E5ECF6",
            "gridcolor": "white",
            "gridwidth": 2,
            "linecolor": "white",
            "showbackground": true,
            "ticks": "",
            "zerolinecolor": "white"
           },
           "yaxis": {
            "backgroundcolor": "#E5ECF6",
            "gridcolor": "white",
            "gridwidth": 2,
            "linecolor": "white",
            "showbackground": true,
            "ticks": "",
            "zerolinecolor": "white"
           },
           "zaxis": {
            "backgroundcolor": "#E5ECF6",
            "gridcolor": "white",
            "gridwidth": 2,
            "linecolor": "white",
            "showbackground": true,
            "ticks": "",
            "zerolinecolor": "white"
           }
          },
          "shapedefaults": {
           "line": {
            "color": "#2a3f5f"
           }
          },
          "ternary": {
           "aaxis": {
            "gridcolor": "white",
            "linecolor": "white",
            "ticks": ""
           },
           "baxis": {
            "gridcolor": "white",
            "linecolor": "white",
            "ticks": ""
           },
           "bgcolor": "#E5ECF6",
           "caxis": {
            "gridcolor": "white",
            "linecolor": "white",
            "ticks": ""
           }
          },
          "title": {
           "x": 0.05
          },
          "xaxis": {
           "automargin": true,
           "gridcolor": "white",
           "linecolor": "white",
           "ticks": "",
           "title": {
            "standoff": 15
           },
           "zerolinecolor": "white",
           "zerolinewidth": 2
          },
          "yaxis": {
           "automargin": true,
           "gridcolor": "white",
           "linecolor": "white",
           "ticks": "",
           "title": {
            "standoff": 15
           },
           "zerolinecolor": "white",
           "zerolinewidth": 2
          }
         }
        },
        "title": {
         "text": "Split"
        },
        "xaxis": {
         "anchor": "y",
         "domain": [
          0,
          1
         ],
         "title": {
          "text": "calendar_week"
         }
        },
        "yaxis": {
         "anchor": "x",
         "domain": [
          0,
          1
         ],
         "title": {
          "text": "clean_entries"
         }
        }
       }
      }
     },
     "metadata": {},
     "output_type": "display_data"
    }
   ],
   "source": [
    "for grad in list(df[\"city\"].unique()):\n",
    "    fig = px.line(df[df[\"city\"] == grad], x=\"calendar_week\", y=\"clean_entries\", color = 'city', markers=True, title=grad)\n",
    "    fig.show()"
   ]
  },
  {
   "cell_type": "code",
   "execution_count": 20,
   "metadata": {},
   "outputs": [
    {
     "data": {
      "application/vnd.plotly.v1+json": {
       "config": {
        "plotlyServerURL": "https://plot.ly"
       },
       "data": [
        {
         "hovertemplate": "city=Rovinj<br>calendar_week=%{x}<br>avg_price_sqrm=%{y}<extra></extra>",
         "legendgroup": "Rovinj",
         "line": {
          "color": "#636efa",
          "dash": "solid"
         },
         "marker": {
          "symbol": "circle"
         },
         "mode": "lines+markers",
         "name": "Rovinj",
         "orientation": "v",
         "showlegend": true,
         "type": "scatter",
         "x": [
          30,
          33,
          34,
          35,
          35,
          36
         ],
         "xaxis": "x",
         "y": [
          4279,
          4240,
          4240,
          4275,
          4276,
          4393
         ],
         "yaxis": "y"
        },
        {
         "hovertemplate": "city=Zagreb<br>calendar_week=%{x}<br>avg_price_sqrm=%{y}<extra></extra>",
         "legendgroup": "Zagreb",
         "line": {
          "color": "#EF553B",
          "dash": "solid"
         },
         "marker": {
          "symbol": "circle"
         },
         "mode": "lines+markers",
         "name": "Zagreb",
         "orientation": "v",
         "showlegend": true,
         "type": "scatter",
         "x": [
          30,
          32,
          33,
          34,
          36
         ],
         "xaxis": "x",
         "y": [
          2616,
          2635,
          2651,
          2660,
          2681
         ],
         "yaxis": "y"
        },
        {
         "hovertemplate": "city=Varazdin<br>calendar_week=%{x}<br>avg_price_sqrm=%{y}<extra></extra>",
         "legendgroup": "Varazdin",
         "line": {
          "color": "#00cc96",
          "dash": "solid"
         },
         "marker": {
          "symbol": "circle"
         },
         "mode": "lines+markers",
         "name": "Varazdin",
         "orientation": "v",
         "showlegend": true,
         "type": "scatter",
         "x": [
          31,
          32,
          32,
          33,
          34,
          35,
          35,
          36
         ],
         "xaxis": "x",
         "y": [
          1735,
          1740,
          1737,
          1813,
          1816,
          1799,
          1816,
          1876
         ],
         "yaxis": "y"
        },
        {
         "hovertemplate": "city=Rijeka<br>calendar_week=%{x}<br>avg_price_sqrm=%{y}<extra></extra>",
         "legendgroup": "Rijeka",
         "line": {
          "color": "#ab63fa",
          "dash": "solid"
         },
         "marker": {
          "symbol": "circle"
         },
         "mode": "lines+markers",
         "name": "Rijeka",
         "orientation": "v",
         "showlegend": true,
         "type": "scatter",
         "x": [
          33,
          35,
          35,
          36
         ],
         "xaxis": "x",
         "y": [
          1996,
          1999,
          2002,
          2008
         ],
         "yaxis": "y"
        },
        {
         "hovertemplate": "city=Split<br>calendar_week=%{x}<br>avg_price_sqrm=%{y}<extra></extra>",
         "legendgroup": "Split",
         "line": {
          "color": "#FFA15A",
          "dash": "solid"
         },
         "marker": {
          "symbol": "circle"
         },
         "mode": "lines+markers",
         "name": "Split",
         "orientation": "v",
         "showlegend": true,
         "type": "scatter",
         "x": [
          33,
          34,
          35,
          36
         ],
         "xaxis": "x",
         "y": [
          3616,
          3647,
          3678,
          3684
         ],
         "yaxis": "y"
        }
       ],
       "layout": {
        "height": 600,
        "legend": {
         "title": {
          "text": "city"
         },
         "tracegroupgap": 0
        },
        "template": {
         "data": {
          "bar": [
           {
            "error_x": {
             "color": "#2a3f5f"
            },
            "error_y": {
             "color": "#2a3f5f"
            },
            "marker": {
             "line": {
              "color": "#E5ECF6",
              "width": 0.5
             },
             "pattern": {
              "fillmode": "overlay",
              "size": 10,
              "solidity": 0.2
             }
            },
            "type": "bar"
           }
          ],
          "barpolar": [
           {
            "marker": {
             "line": {
              "color": "#E5ECF6",
              "width": 0.5
             },
             "pattern": {
              "fillmode": "overlay",
              "size": 10,
              "solidity": 0.2
             }
            },
            "type": "barpolar"
           }
          ],
          "carpet": [
           {
            "aaxis": {
             "endlinecolor": "#2a3f5f",
             "gridcolor": "white",
             "linecolor": "white",
             "minorgridcolor": "white",
             "startlinecolor": "#2a3f5f"
            },
            "baxis": {
             "endlinecolor": "#2a3f5f",
             "gridcolor": "white",
             "linecolor": "white",
             "minorgridcolor": "white",
             "startlinecolor": "#2a3f5f"
            },
            "type": "carpet"
           }
          ],
          "choropleth": [
           {
            "colorbar": {
             "outlinewidth": 0,
             "ticks": ""
            },
            "type": "choropleth"
           }
          ],
          "contour": [
           {
            "colorbar": {
             "outlinewidth": 0,
             "ticks": ""
            },
            "colorscale": [
             [
              0,
              "#0d0887"
             ],
             [
              0.1111111111111111,
              "#46039f"
             ],
             [
              0.2222222222222222,
              "#7201a8"
             ],
             [
              0.3333333333333333,
              "#9c179e"
             ],
             [
              0.4444444444444444,
              "#bd3786"
             ],
             [
              0.5555555555555556,
              "#d8576b"
             ],
             [
              0.6666666666666666,
              "#ed7953"
             ],
             [
              0.7777777777777778,
              "#fb9f3a"
             ],
             [
              0.8888888888888888,
              "#fdca26"
             ],
             [
              1,
              "#f0f921"
             ]
            ],
            "type": "contour"
           }
          ],
          "contourcarpet": [
           {
            "colorbar": {
             "outlinewidth": 0,
             "ticks": ""
            },
            "type": "contourcarpet"
           }
          ],
          "heatmap": [
           {
            "colorbar": {
             "outlinewidth": 0,
             "ticks": ""
            },
            "colorscale": [
             [
              0,
              "#0d0887"
             ],
             [
              0.1111111111111111,
              "#46039f"
             ],
             [
              0.2222222222222222,
              "#7201a8"
             ],
             [
              0.3333333333333333,
              "#9c179e"
             ],
             [
              0.4444444444444444,
              "#bd3786"
             ],
             [
              0.5555555555555556,
              "#d8576b"
             ],
             [
              0.6666666666666666,
              "#ed7953"
             ],
             [
              0.7777777777777778,
              "#fb9f3a"
             ],
             [
              0.8888888888888888,
              "#fdca26"
             ],
             [
              1,
              "#f0f921"
             ]
            ],
            "type": "heatmap"
           }
          ],
          "heatmapgl": [
           {
            "colorbar": {
             "outlinewidth": 0,
             "ticks": ""
            },
            "colorscale": [
             [
              0,
              "#0d0887"
             ],
             [
              0.1111111111111111,
              "#46039f"
             ],
             [
              0.2222222222222222,
              "#7201a8"
             ],
             [
              0.3333333333333333,
              "#9c179e"
             ],
             [
              0.4444444444444444,
              "#bd3786"
             ],
             [
              0.5555555555555556,
              "#d8576b"
             ],
             [
              0.6666666666666666,
              "#ed7953"
             ],
             [
              0.7777777777777778,
              "#fb9f3a"
             ],
             [
              0.8888888888888888,
              "#fdca26"
             ],
             [
              1,
              "#f0f921"
             ]
            ],
            "type": "heatmapgl"
           }
          ],
          "histogram": [
           {
            "marker": {
             "pattern": {
              "fillmode": "overlay",
              "size": 10,
              "solidity": 0.2
             }
            },
            "type": "histogram"
           }
          ],
          "histogram2d": [
           {
            "colorbar": {
             "outlinewidth": 0,
             "ticks": ""
            },
            "colorscale": [
             [
              0,
              "#0d0887"
             ],
             [
              0.1111111111111111,
              "#46039f"
             ],
             [
              0.2222222222222222,
              "#7201a8"
             ],
             [
              0.3333333333333333,
              "#9c179e"
             ],
             [
              0.4444444444444444,
              "#bd3786"
             ],
             [
              0.5555555555555556,
              "#d8576b"
             ],
             [
              0.6666666666666666,
              "#ed7953"
             ],
             [
              0.7777777777777778,
              "#fb9f3a"
             ],
             [
              0.8888888888888888,
              "#fdca26"
             ],
             [
              1,
              "#f0f921"
             ]
            ],
            "type": "histogram2d"
           }
          ],
          "histogram2dcontour": [
           {
            "colorbar": {
             "outlinewidth": 0,
             "ticks": ""
            },
            "colorscale": [
             [
              0,
              "#0d0887"
             ],
             [
              0.1111111111111111,
              "#46039f"
             ],
             [
              0.2222222222222222,
              "#7201a8"
             ],
             [
              0.3333333333333333,
              "#9c179e"
             ],
             [
              0.4444444444444444,
              "#bd3786"
             ],
             [
              0.5555555555555556,
              "#d8576b"
             ],
             [
              0.6666666666666666,
              "#ed7953"
             ],
             [
              0.7777777777777778,
              "#fb9f3a"
             ],
             [
              0.8888888888888888,
              "#fdca26"
             ],
             [
              1,
              "#f0f921"
             ]
            ],
            "type": "histogram2dcontour"
           }
          ],
          "mesh3d": [
           {
            "colorbar": {
             "outlinewidth": 0,
             "ticks": ""
            },
            "type": "mesh3d"
           }
          ],
          "parcoords": [
           {
            "line": {
             "colorbar": {
              "outlinewidth": 0,
              "ticks": ""
             }
            },
            "type": "parcoords"
           }
          ],
          "pie": [
           {
            "automargin": true,
            "type": "pie"
           }
          ],
          "scatter": [
           {
            "marker": {
             "colorbar": {
              "outlinewidth": 0,
              "ticks": ""
             }
            },
            "type": "scatter"
           }
          ],
          "scatter3d": [
           {
            "line": {
             "colorbar": {
              "outlinewidth": 0,
              "ticks": ""
             }
            },
            "marker": {
             "colorbar": {
              "outlinewidth": 0,
              "ticks": ""
             }
            },
            "type": "scatter3d"
           }
          ],
          "scattercarpet": [
           {
            "marker": {
             "colorbar": {
              "outlinewidth": 0,
              "ticks": ""
             }
            },
            "type": "scattercarpet"
           }
          ],
          "scattergeo": [
           {
            "marker": {
             "colorbar": {
              "outlinewidth": 0,
              "ticks": ""
             }
            },
            "type": "scattergeo"
           }
          ],
          "scattergl": [
           {
            "marker": {
             "colorbar": {
              "outlinewidth": 0,
              "ticks": ""
             }
            },
            "type": "scattergl"
           }
          ],
          "scattermapbox": [
           {
            "marker": {
             "colorbar": {
              "outlinewidth": 0,
              "ticks": ""
             }
            },
            "type": "scattermapbox"
           }
          ],
          "scatterpolar": [
           {
            "marker": {
             "colorbar": {
              "outlinewidth": 0,
              "ticks": ""
             }
            },
            "type": "scatterpolar"
           }
          ],
          "scatterpolargl": [
           {
            "marker": {
             "colorbar": {
              "outlinewidth": 0,
              "ticks": ""
             }
            },
            "type": "scatterpolargl"
           }
          ],
          "scatterternary": [
           {
            "marker": {
             "colorbar": {
              "outlinewidth": 0,
              "ticks": ""
             }
            },
            "type": "scatterternary"
           }
          ],
          "surface": [
           {
            "colorbar": {
             "outlinewidth": 0,
             "ticks": ""
            },
            "colorscale": [
             [
              0,
              "#0d0887"
             ],
             [
              0.1111111111111111,
              "#46039f"
             ],
             [
              0.2222222222222222,
              "#7201a8"
             ],
             [
              0.3333333333333333,
              "#9c179e"
             ],
             [
              0.4444444444444444,
              "#bd3786"
             ],
             [
              0.5555555555555556,
              "#d8576b"
             ],
             [
              0.6666666666666666,
              "#ed7953"
             ],
             [
              0.7777777777777778,
              "#fb9f3a"
             ],
             [
              0.8888888888888888,
              "#fdca26"
             ],
             [
              1,
              "#f0f921"
             ]
            ],
            "type": "surface"
           }
          ],
          "table": [
           {
            "cells": {
             "fill": {
              "color": "#EBF0F8"
             },
             "line": {
              "color": "white"
             }
            },
            "header": {
             "fill": {
              "color": "#C8D4E3"
             },
             "line": {
              "color": "white"
             }
            },
            "type": "table"
           }
          ]
         },
         "layout": {
          "annotationdefaults": {
           "arrowcolor": "#2a3f5f",
           "arrowhead": 0,
           "arrowwidth": 1
          },
          "autotypenumbers": "strict",
          "coloraxis": {
           "colorbar": {
            "outlinewidth": 0,
            "ticks": ""
           }
          },
          "colorscale": {
           "diverging": [
            [
             0,
             "#8e0152"
            ],
            [
             0.1,
             "#c51b7d"
            ],
            [
             0.2,
             "#de77ae"
            ],
            [
             0.3,
             "#f1b6da"
            ],
            [
             0.4,
             "#fde0ef"
            ],
            [
             0.5,
             "#f7f7f7"
            ],
            [
             0.6,
             "#e6f5d0"
            ],
            [
             0.7,
             "#b8e186"
            ],
            [
             0.8,
             "#7fbc41"
            ],
            [
             0.9,
             "#4d9221"
            ],
            [
             1,
             "#276419"
            ]
           ],
           "sequential": [
            [
             0,
             "#0d0887"
            ],
            [
             0.1111111111111111,
             "#46039f"
            ],
            [
             0.2222222222222222,
             "#7201a8"
            ],
            [
             0.3333333333333333,
             "#9c179e"
            ],
            [
             0.4444444444444444,
             "#bd3786"
            ],
            [
             0.5555555555555556,
             "#d8576b"
            ],
            [
             0.6666666666666666,
             "#ed7953"
            ],
            [
             0.7777777777777778,
             "#fb9f3a"
            ],
            [
             0.8888888888888888,
             "#fdca26"
            ],
            [
             1,
             "#f0f921"
            ]
           ],
           "sequentialminus": [
            [
             0,
             "#0d0887"
            ],
            [
             0.1111111111111111,
             "#46039f"
            ],
            [
             0.2222222222222222,
             "#7201a8"
            ],
            [
             0.3333333333333333,
             "#9c179e"
            ],
            [
             0.4444444444444444,
             "#bd3786"
            ],
            [
             0.5555555555555556,
             "#d8576b"
            ],
            [
             0.6666666666666666,
             "#ed7953"
            ],
            [
             0.7777777777777778,
             "#fb9f3a"
            ],
            [
             0.8888888888888888,
             "#fdca26"
            ],
            [
             1,
             "#f0f921"
            ]
           ]
          },
          "colorway": [
           "#636efa",
           "#EF553B",
           "#00cc96",
           "#ab63fa",
           "#FFA15A",
           "#19d3f3",
           "#FF6692",
           "#B6E880",
           "#FF97FF",
           "#FECB52"
          ],
          "font": {
           "color": "#2a3f5f"
          },
          "geo": {
           "bgcolor": "white",
           "lakecolor": "white",
           "landcolor": "#E5ECF6",
           "showlakes": true,
           "showland": true,
           "subunitcolor": "white"
          },
          "hoverlabel": {
           "align": "left"
          },
          "hovermode": "closest",
          "mapbox": {
           "style": "light"
          },
          "paper_bgcolor": "white",
          "plot_bgcolor": "#E5ECF6",
          "polar": {
           "angularaxis": {
            "gridcolor": "white",
            "linecolor": "white",
            "ticks": ""
           },
           "bgcolor": "#E5ECF6",
           "radialaxis": {
            "gridcolor": "white",
            "linecolor": "white",
            "ticks": ""
           }
          },
          "scene": {
           "xaxis": {
            "backgroundcolor": "#E5ECF6",
            "gridcolor": "white",
            "gridwidth": 2,
            "linecolor": "white",
            "showbackground": true,
            "ticks": "",
            "zerolinecolor": "white"
           },
           "yaxis": {
            "backgroundcolor": "#E5ECF6",
            "gridcolor": "white",
            "gridwidth": 2,
            "linecolor": "white",
            "showbackground": true,
            "ticks": "",
            "zerolinecolor": "white"
           },
           "zaxis": {
            "backgroundcolor": "#E5ECF6",
            "gridcolor": "white",
            "gridwidth": 2,
            "linecolor": "white",
            "showbackground": true,
            "ticks": "",
            "zerolinecolor": "white"
           }
          },
          "shapedefaults": {
           "line": {
            "color": "#2a3f5f"
           }
          },
          "ternary": {
           "aaxis": {
            "gridcolor": "white",
            "linecolor": "white",
            "ticks": ""
           },
           "baxis": {
            "gridcolor": "white",
            "linecolor": "white",
            "ticks": ""
           },
           "bgcolor": "#E5ECF6",
           "caxis": {
            "gridcolor": "white",
            "linecolor": "white",
            "ticks": ""
           }
          },
          "title": {
           "x": 0.05
          },
          "xaxis": {
           "automargin": true,
           "gridcolor": "white",
           "linecolor": "white",
           "ticks": "",
           "title": {
            "standoff": 15
           },
           "zerolinecolor": "white",
           "zerolinewidth": 2
          },
          "yaxis": {
           "automargin": true,
           "gridcolor": "white",
           "linecolor": "white",
           "ticks": "",
           "title": {
            "standoff": 15
           },
           "zerolinecolor": "white",
           "zerolinewidth": 2
          }
         }
        },
        "title": {
         "text": "Split"
        },
        "width": 1000,
        "xaxis": {
         "anchor": "y",
         "domain": [
          0,
          1
         ],
         "title": {
          "text": "calendar_week"
         }
        },
        "yaxis": {
         "anchor": "x",
         "domain": [
          0,
          1
         ],
         "title": {
          "text": "avg_price_sqrm"
         }
        }
       }
      }
     },
     "metadata": {},
     "output_type": "display_data"
    }
   ],
   "source": [
    "#PLOTLY FOR DJANGO OBJECTS\n",
    "df = pd.read_excel(\"Django_Objects.xlsx\")\n",
    "\n",
    "fig = px.line(df, x=\"calendar_week\", y=\"avg_price_sqrm\", color = 'city', markers=True, title=grad, width=1000, height=600)\n",
    "fig.show()"
   ]
  },
  {
   "cell_type": "code",
   "execution_count": 19,
   "metadata": {},
   "outputs": [
    {
     "data": {
      "text/plain": [
       "['dashboard',\n",
       " 'db.sqlite3',\n",
       " 'manage.py',\n",
       " 'media',\n",
       " 'raw',\n",
       " 'RealEstateApp',\n",
       " 'RealEstateApp.code-workspace',\n",
       " 'static']"
      ]
     },
     "execution_count": 19,
     "metadata": {},
     "output_type": "execute_result"
    }
   ],
   "source": [
    "import os\n",
    "cwd = os.getcwd()\n",
    "onlyfiles = [f for f in listdir(cwd) ]\n",
    "onlyfiles\n"
   ]
  },
  {
   "cell_type": "code",
   "execution_count": 4,
   "metadata": {},
   "outputs": [
    {
     "name": "stdout",
     "output_type": "stream",
     "text": [
      "c:\\Users\\borna.molnar-erhatic\\OneDrive - Swietelsky AG\\Dokumente\\06 Real Estate\\RealEstateApp\\raw\\2022-07-22_RAW_varazdin.xlsx\n",
      "c:\\Users\\borna.molnar-erhatic\\OneDrive - Swietelsky AG\\Dokumente\\06 Real Estate\\RealEstateApp\\raw\\2022-07-27_RAW_rovinj.xlsx\n",
      "c:\\Users\\borna.molnar-erhatic\\OneDrive - Swietelsky AG\\Dokumente\\06 Real Estate\\RealEstateApp\\raw\\2022-07-27_RAW_varazdin.xlsx\n",
      "c:\\Users\\borna.molnar-erhatic\\OneDrive - Swietelsky AG\\Dokumente\\06 Real Estate\\RealEstateApp\\raw\\2022-07-27_RAW_zagreb.xlsx\n",
      "c:\\Users\\borna.molnar-erhatic\\OneDrive - Swietelsky AG\\Dokumente\\06 Real Estate\\RealEstateApp\\raw\\2022-08-05_RAW_varazdin.xlsx\n",
      "c:\\Users\\borna.molnar-erhatic\\OneDrive - Swietelsky AG\\Dokumente\\06 Real Estate\\RealEstateApp\\raw\\2022-08-07_RAW_rovinj.xlsx\n",
      "c:\\Users\\borna.molnar-erhatic\\OneDrive - Swietelsky AG\\Dokumente\\06 Real Estate\\RealEstateApp\\raw\\2022-08-07_RAW_varazdin.xlsx\n",
      "c:\\Users\\borna.molnar-erhatic\\OneDrive - Swietelsky AG\\Dokumente\\06 Real Estate\\RealEstateApp\\raw\\2022-08-08_RAW_rovinj.xlsx\n",
      "c:\\Users\\borna.molnar-erhatic\\OneDrive - Swietelsky AG\\Dokumente\\06 Real Estate\\RealEstateApp\\raw\\2022-08-11_RAW_rovinj.xlsx\n",
      "c:\\Users\\borna.molnar-erhatic\\OneDrive - Swietelsky AG\\Dokumente\\06 Real Estate\\RealEstateApp\\raw\\2022-08-11_RAW_varazdin.xlsx\n",
      "c:\\Users\\borna.molnar-erhatic\\OneDrive - Swietelsky AG\\Dokumente\\06 Real Estate\\RealEstateApp\\raw\\2022-08-12_RAW_rovinj.xlsx\n",
      "c:\\Users\\borna.molnar-erhatic\\OneDrive - Swietelsky AG\\Dokumente\\06 Real Estate\\RealEstateApp\\raw\\2022-08-12_RAW_zagreb.xlsx\n",
      "c:\\Users\\borna.molnar-erhatic\\OneDrive - Swietelsky AG\\Dokumente\\06 Real Estate\\RealEstateApp\\raw\\2022-08-14_RAW_varazdin.xlsx\n",
      "c:\\Users\\borna.molnar-erhatic\\OneDrive - Swietelsky AG\\Dokumente\\06 Real Estate\\RealEstateApp\\raw\\2022-08-15_RAW_rijeka.xlsx\n",
      "c:\\Users\\borna.molnar-erhatic\\OneDrive - Swietelsky AG\\Dokumente\\06 Real Estate\\RealEstateApp\\raw\\2022-08-15_RAW_rovinj.xlsx\n",
      "c:\\Users\\borna.molnar-erhatic\\OneDrive - Swietelsky AG\\Dokumente\\06 Real Estate\\RealEstateApp\\raw\\2022-08-15_RAW_split.xlsx\n",
      "c:\\Users\\borna.molnar-erhatic\\OneDrive - Swietelsky AG\\Dokumente\\06 Real Estate\\RealEstateApp\\raw\\2022-08-19_RAW_varazdin.xlsx\n",
      "c:\\Users\\borna.molnar-erhatic\\OneDrive - Swietelsky AG\\Dokumente\\06 Real Estate\\RealEstateApp\\raw\\2022-08-19_RAW_zagreb.xlsx\n",
      "c:\\Users\\borna.molnar-erhatic\\OneDrive - Swietelsky AG\\Dokumente\\06 Real Estate\\RealEstateApp\\raw\\2022-08-24_RAW_rijeka.xlsx\n",
      "c:\\Users\\borna.molnar-erhatic\\OneDrive - Swietelsky AG\\Dokumente\\06 Real Estate\\RealEstateApp\\raw\\2022-08-24_RAW_rovinj.xlsx\n",
      "c:\\Users\\borna.molnar-erhatic\\OneDrive - Swietelsky AG\\Dokumente\\06 Real Estate\\RealEstateApp\\raw\\2022-08-24_RAW_split.xlsx\n",
      "c:\\Users\\borna.molnar-erhatic\\OneDrive - Swietelsky AG\\Dokumente\\06 Real Estate\\RealEstateApp\\raw\\2022-08-24_RAW_varazdin.xlsx\n",
      "c:\\Users\\borna.molnar-erhatic\\OneDrive - Swietelsky AG\\Dokumente\\06 Real Estate\\RealEstateApp\\raw\\2022-08-24_RAW_zagreb.xlsx\n",
      "c:\\Users\\borna.molnar-erhatic\\OneDrive - Swietelsky AG\\Dokumente\\06 Real Estate\\RealEstateApp\\raw\\2022-08-30_RAW_rijeka.xlsx\n",
      "c:\\Users\\borna.molnar-erhatic\\OneDrive - Swietelsky AG\\Dokumente\\06 Real Estate\\RealEstateApp\\raw\\2022-08-30_RAW_rovinj.xlsx\n",
      "c:\\Users\\borna.molnar-erhatic\\OneDrive - Swietelsky AG\\Dokumente\\06 Real Estate\\RealEstateApp\\raw\\2022-08-30_RAW_split.xlsx\n",
      "c:\\Users\\borna.molnar-erhatic\\OneDrive - Swietelsky AG\\Dokumente\\06 Real Estate\\RealEstateApp\\raw\\2022-08-30_RAW_varazdin.xlsx\n",
      "c:\\Users\\borna.molnar-erhatic\\OneDrive - Swietelsky AG\\Dokumente\\06 Real Estate\\RealEstateApp\\raw\\2022-08-30_RAW_zagreb.xlsx\n",
      "c:\\Users\\borna.molnar-erhatic\\OneDrive - Swietelsky AG\\Dokumente\\06 Real Estate\\RealEstateApp\\raw\\2022-09-04_RAW_rijeka.xlsx\n",
      "c:\\Users\\borna.molnar-erhatic\\OneDrive - Swietelsky AG\\Dokumente\\06 Real Estate\\RealEstateApp\\raw\\2022-09-04_RAW_rovinj.xlsx\n",
      "c:\\Users\\borna.molnar-erhatic\\OneDrive - Swietelsky AG\\Dokumente\\06 Real Estate\\RealEstateApp\\raw\\2022-09-04_RAW_split.xlsx\n",
      "c:\\Users\\borna.molnar-erhatic\\OneDrive - Swietelsky AG\\Dokumente\\06 Real Estate\\RealEstateApp\\raw\\2022-09-04_RAW_varazdin.xlsx\n",
      "c:\\Users\\borna.molnar-erhatic\\OneDrive - Swietelsky AG\\Dokumente\\06 Real Estate\\RealEstateApp\\raw\\2022-09-04_RAW_zagreb.xlsx\n",
      "c:\\Users\\borna.molnar-erhatic\\OneDrive - Swietelsky AG\\Dokumente\\06 Real Estate\\RealEstateApp\\raw\\2022-09-09_RAW_rijeka.xlsx\n",
      "c:\\Users\\borna.molnar-erhatic\\OneDrive - Swietelsky AG\\Dokumente\\06 Real Estate\\RealEstateApp\\raw\\2022-09-09_RAW_rovinj.xlsx\n",
      "c:\\Users\\borna.molnar-erhatic\\OneDrive - Swietelsky AG\\Dokumente\\06 Real Estate\\RealEstateApp\\raw\\2022-09-09_RAW_split.xlsx\n",
      "c:\\Users\\borna.molnar-erhatic\\OneDrive - Swietelsky AG\\Dokumente\\06 Real Estate\\RealEstateApp\\raw\\2022-09-09_RAW_varazdin.xlsx\n",
      "c:\\Users\\borna.molnar-erhatic\\OneDrive - Swietelsky AG\\Dokumente\\06 Real Estate\\RealEstateApp\\raw\\2022-09-09_RAW_zagreb.xlsx\n"
     ]
    }
   ],
   "source": [
    "cwd = os.getcwd()\n",
    "\n",
    "path = cwd + \"\\\\raw\"\n",
    "onlyfiles = [f for f in listdir(path)]\n",
    "\n",
    "for file in onlyfiles:\n",
    "    file_path = path + \"\\\\\" + file\n",
    "    print(file_path)"
   ]
  },
  {
   "cell_type": "code",
   "execution_count": 20,
   "metadata": {},
   "outputs": [
    {
     "data": {
      "text/plain": [
       "['2022-07-22_RAW_varazdin.xlsx',\n",
       " '2022-07-27_RAW_rovinj.xlsx',\n",
       " '2022-07-27_RAW_varazdin.xlsx',\n",
       " '2022-07-27_RAW_zagreb.xlsx',\n",
       " '2022-08-05_RAW_varazdin.xlsx',\n",
       " '2022-08-07_RAW_rovinj.xlsx',\n",
       " '2022-08-07_RAW_varazdin.xlsx',\n",
       " '2022-08-08_RAW_rovinj.xlsx',\n",
       " '2022-08-11_RAW_rovinj.xlsx',\n",
       " '2022-08-11_RAW_varazdin.xlsx',\n",
       " '2022-08-12_RAW_rovinj.xlsx',\n",
       " '2022-08-12_RAW_zagreb.xlsx',\n",
       " '2022-08-14_RAW_varazdin.xlsx',\n",
       " '2022-08-15_RAW_rijeka.xlsx',\n",
       " '2022-08-15_RAW_rovinj.xlsx',\n",
       " '2022-08-15_RAW_split.xlsx',\n",
       " '2022-08-19_RAW_varazdin.xlsx',\n",
       " '2022-08-19_RAW_zagreb.xlsx',\n",
       " '2022-08-24_RAW_rijeka.xlsx',\n",
       " '2022-08-24_RAW_rovinj.xlsx',\n",
       " '2022-08-24_RAW_split.xlsx',\n",
       " '2022-08-24_RAW_varazdin.xlsx',\n",
       " '2022-08-24_RAW_zagreb.xlsx',\n",
       " '2022-08-30_RAW_rijeka.xlsx',\n",
       " '2022-08-30_RAW_rovinj.xlsx',\n",
       " '2022-08-30_RAW_split.xlsx',\n",
       " '2022-08-30_RAW_varazdin.xlsx',\n",
       " '2022-08-30_RAW_zagreb.xlsx',\n",
       " '2022-09-04_RAW_rijeka.xlsx',\n",
       " '2022-09-04_RAW_rovinj.xlsx',\n",
       " '2022-09-04_RAW_split.xlsx',\n",
       " '2022-09-04_RAW_varazdin.xlsx',\n",
       " '2022-09-04_RAW_zagreb.xlsx']"
      ]
     },
     "execution_count": 20,
     "metadata": {},
     "output_type": "execute_result"
    }
   ],
   "source": [
    "path = cwd + \"\\\\raw\"\n",
    "onlyfiles = [f for f in listdir(path) ]\n",
    "onlyfiles"
   ]
  },
  {
   "cell_type": "code",
   "execution_count": 22,
   "metadata": {},
   "outputs": [],
   "source": [
    "file_path = path + \"\\\\\" + onlyfiles[0]\n",
    "df = pd.read_excel(file_path)"
   ]
  },
  {
   "cell_type": "code",
   "execution_count": 23,
   "metadata": {},
   "outputs": [
    {
     "data": {
      "text/html": [
       "<div>\n",
       "<style scoped>\n",
       "    .dataframe tbody tr th:only-of-type {\n",
       "        vertical-align: middle;\n",
       "    }\n",
       "\n",
       "    .dataframe tbody tr th {\n",
       "        vertical-align: top;\n",
       "    }\n",
       "\n",
       "    .dataframe thead th {\n",
       "        text-align: right;\n",
       "    }\n",
       "</style>\n",
       "<table border=\"1\" class=\"dataframe\">\n",
       "  <thead>\n",
       "    <tr style=\"text-align: right;\">\n",
       "      <th></th>\n",
       "      <th>Unnamed: 0</th>\n",
       "      <th>Županija</th>\n",
       "      <th>Grad/općina</th>\n",
       "      <th>Naselje</th>\n",
       "      <th>Stambena površina u m2</th>\n",
       "      <th>Broj soba</th>\n",
       "      <th>Zamjena</th>\n",
       "      <th>Tip oglasa</th>\n",
       "      <th>Prodavač</th>\n",
       "      <th>Detaljnije o kući</th>\n",
       "      <th>...</th>\n",
       "      <th>Površina terase u m2</th>\n",
       "      <th>Namještenost</th>\n",
       "      <th>Površina vrta u m2</th>\n",
       "      <th>Ulaz</th>\n",
       "      <th>Grijanje</th>\n",
       "      <th>email</th>\n",
       "      <th>tel ili mobitel</th>\n",
       "      <th>Tip nekretnine za odmor</th>\n",
       "      <th>O zemljištu</th>\n",
       "      <th>Pozicija poslovnog prostora</th>\n",
       "    </tr>\n",
       "  </thead>\n",
       "  <tbody>\n",
       "    <tr>\n",
       "      <th>0</th>\n",
       "      <td>0</td>\n",
       "      <td>Istarska</td>\n",
       "      <td>Rovinj</td>\n",
       "      <td>Rovinj</td>\n",
       "      <td>50</td>\n",
       "      <td>3-3.5 sobni4+\\n</td>\n",
       "      <td>ne</td>\n",
       "      <td>ponuda</td>\n",
       "      <td>pravna osoba</td>\n",
       "      <td>Novogradnja\\n</td>\n",
       "      <td>...</td>\n",
       "      <td>NaN</td>\n",
       "      <td>NaN</td>\n",
       "      <td>NaN</td>\n",
       "      <td>NaN</td>\n",
       "      <td>NaN</td>\n",
       "      <td>NaN</td>\n",
       "      <td>NaN</td>\n",
       "      <td>NaN</td>\n",
       "      <td>NaN</td>\n",
       "      <td>NaN</td>\n",
       "    </tr>\n",
       "    <tr>\n",
       "      <th>1</th>\n",
       "      <td>1</td>\n",
       "      <td>Istarska</td>\n",
       "      <td>Rovinj</td>\n",
       "      <td>Rovinj</td>\n",
       "      <td>92</td>\n",
       "      <td>4+\\n</td>\n",
       "      <td>ne</td>\n",
       "      <td>ponuda</td>\n",
       "      <td>pravna osoba</td>\n",
       "      <td>NaN</td>\n",
       "      <td>...</td>\n",
       "      <td>NaN</td>\n",
       "      <td>NaN</td>\n",
       "      <td>NaN</td>\n",
       "      <td>NaN</td>\n",
       "      <td>NaN</td>\n",
       "      <td>NaN</td>\n",
       "      <td>NaN</td>\n",
       "      <td>NaN</td>\n",
       "      <td>NaN</td>\n",
       "      <td>NaN</td>\n",
       "    </tr>\n",
       "    <tr>\n",
       "      <th>2</th>\n",
       "      <td>2</td>\n",
       "      <td>Istarska</td>\n",
       "      <td>Rovinj</td>\n",
       "      <td>Rovinj</td>\n",
       "      <td>96</td>\n",
       "      <td>4+\\n</td>\n",
       "      <td>ne</td>\n",
       "      <td>ponuda</td>\n",
       "      <td>pravna osoba</td>\n",
       "      <td>NaN</td>\n",
       "      <td>...</td>\n",
       "      <td>NaN</td>\n",
       "      <td>NaN</td>\n",
       "      <td>NaN</td>\n",
       "      <td>NaN</td>\n",
       "      <td>NaN</td>\n",
       "      <td>NaN</td>\n",
       "      <td>NaN</td>\n",
       "      <td>NaN</td>\n",
       "      <td>NaN</td>\n",
       "      <td>NaN</td>\n",
       "    </tr>\n",
       "    <tr>\n",
       "      <th>3</th>\n",
       "      <td>3</td>\n",
       "      <td>Istarska</td>\n",
       "      <td>Rovinj</td>\n",
       "      <td>Rovinj</td>\n",
       "      <td>210</td>\n",
       "      <td>4+\\n</td>\n",
       "      <td>ne</td>\n",
       "      <td>ponuda</td>\n",
       "      <td>pravna osoba</td>\n",
       "      <td>Novogradnja\\n</td>\n",
       "      <td>...</td>\n",
       "      <td>NaN</td>\n",
       "      <td>NaN</td>\n",
       "      <td>NaN</td>\n",
       "      <td>NaN</td>\n",
       "      <td>NaN</td>\n",
       "      <td>NaN</td>\n",
       "      <td>NaN</td>\n",
       "      <td>NaN</td>\n",
       "      <td>NaN</td>\n",
       "      <td>NaN</td>\n",
       "    </tr>\n",
       "    <tr>\n",
       "      <th>4</th>\n",
       "      <td>4</td>\n",
       "      <td>Istarska</td>\n",
       "      <td>Rovinj</td>\n",
       "      <td>Rovinj</td>\n",
       "      <td>32</td>\n",
       "      <td>3-3.5 sobni\\n</td>\n",
       "      <td>ne</td>\n",
       "      <td>ponuda</td>\n",
       "      <td>pravna osoba</td>\n",
       "      <td>NaN</td>\n",
       "      <td>...</td>\n",
       "      <td>NaN</td>\n",
       "      <td>NaN</td>\n",
       "      <td>NaN</td>\n",
       "      <td>NaN</td>\n",
       "      <td>NaN</td>\n",
       "      <td>NaN</td>\n",
       "      <td>NaN</td>\n",
       "      <td>NaN</td>\n",
       "      <td>NaN</td>\n",
       "      <td>NaN</td>\n",
       "    </tr>\n",
       "    <tr>\n",
       "      <th>...</th>\n",
       "      <td>...</td>\n",
       "      <td>...</td>\n",
       "      <td>...</td>\n",
       "      <td>...</td>\n",
       "      <td>...</td>\n",
       "      <td>...</td>\n",
       "      <td>...</td>\n",
       "      <td>...</td>\n",
       "      <td>...</td>\n",
       "      <td>...</td>\n",
       "      <td>...</td>\n",
       "      <td>...</td>\n",
       "      <td>...</td>\n",
       "      <td>...</td>\n",
       "      <td>...</td>\n",
       "      <td>...</td>\n",
       "      <td>...</td>\n",
       "      <td>...</td>\n",
       "      <td>...</td>\n",
       "      <td>...</td>\n",
       "      <td>...</td>\n",
       "    </tr>\n",
       "    <tr>\n",
       "      <th>539</th>\n",
       "      <td>539</td>\n",
       "      <td>Istarska</td>\n",
       "      <td>Rovinj</td>\n",
       "      <td>Rovinj</td>\n",
       "      <td>97</td>\n",
       "      <td>4+\\n</td>\n",
       "      <td>ne</td>\n",
       "      <td>ponuda</td>\n",
       "      <td>pravna osoba</td>\n",
       "      <td>NaN</td>\n",
       "      <td>...</td>\n",
       "      <td>NaN</td>\n",
       "      <td>NaN</td>\n",
       "      <td>NaN</td>\n",
       "      <td>NaN</td>\n",
       "      <td>NaN</td>\n",
       "      <td>NaN</td>\n",
       "      <td>NaN</td>\n",
       "      <td>NaN</td>\n",
       "      <td>NaN</td>\n",
       "      <td>NaN</td>\n",
       "    </tr>\n",
       "    <tr>\n",
       "      <th>540</th>\n",
       "      <td>540</td>\n",
       "      <td>Istarska</td>\n",
       "      <td>Rovinj</td>\n",
       "      <td>Rovinj</td>\n",
       "      <td>80</td>\n",
       "      <td>4+\\n</td>\n",
       "      <td>ne</td>\n",
       "      <td>ponuda</td>\n",
       "      <td>pravna osoba</td>\n",
       "      <td>NaN</td>\n",
       "      <td>...</td>\n",
       "      <td>NaN</td>\n",
       "      <td>NaN</td>\n",
       "      <td>NaN</td>\n",
       "      <td>NaN</td>\n",
       "      <td>NaN</td>\n",
       "      <td>NaN</td>\n",
       "      <td>NaN</td>\n",
       "      <td>NaN</td>\n",
       "      <td>NaN</td>\n",
       "      <td>U zgradi</td>\n",
       "    </tr>\n",
       "    <tr>\n",
       "      <th>541</th>\n",
       "      <td>541</td>\n",
       "      <td>Istarska</td>\n",
       "      <td>Rovinj</td>\n",
       "      <td>Rovinj</td>\n",
       "      <td>60</td>\n",
       "      <td>4+\\n</td>\n",
       "      <td>ne</td>\n",
       "      <td>ponuda</td>\n",
       "      <td>pravna osoba</td>\n",
       "      <td>NaN</td>\n",
       "      <td>...</td>\n",
       "      <td>NaN</td>\n",
       "      <td>NaN</td>\n",
       "      <td>NaN</td>\n",
       "      <td>NaN</td>\n",
       "      <td>NaN</td>\n",
       "      <td>NaN</td>\n",
       "      <td>NaN</td>\n",
       "      <td>NaN</td>\n",
       "      <td>NaN</td>\n",
       "      <td>NaN</td>\n",
       "    </tr>\n",
       "    <tr>\n",
       "      <th>542</th>\n",
       "      <td>542</td>\n",
       "      <td>Istarska</td>\n",
       "      <td>Rovinj</td>\n",
       "      <td>Rovinj</td>\n",
       "      <td>91</td>\n",
       "      <td>2-2.5 sobni4+\\n</td>\n",
       "      <td>ne</td>\n",
       "      <td>ponuda</td>\n",
       "      <td>pravna osoba</td>\n",
       "      <td>NaN</td>\n",
       "      <td>...</td>\n",
       "      <td>NaN</td>\n",
       "      <td>NaN</td>\n",
       "      <td>NaN</td>\n",
       "      <td>NaN</td>\n",
       "      <td>NaN</td>\n",
       "      <td>NaN</td>\n",
       "      <td>NaN</td>\n",
       "      <td>NaN</td>\n",
       "      <td>NaN</td>\n",
       "      <td>NaN</td>\n",
       "    </tr>\n",
       "    <tr>\n",
       "      <th>543</th>\n",
       "      <td>543</td>\n",
       "      <td>Istarska</td>\n",
       "      <td>Rovinj</td>\n",
       "      <td>Rovinj</td>\n",
       "      <td>106</td>\n",
       "      <td>4+\\n</td>\n",
       "      <td>ne</td>\n",
       "      <td>ponuda</td>\n",
       "      <td>pravna osoba</td>\n",
       "      <td>NaN</td>\n",
       "      <td>...</td>\n",
       "      <td>NaN</td>\n",
       "      <td>NaN</td>\n",
       "      <td>NaN</td>\n",
       "      <td>NaN</td>\n",
       "      <td>NaN</td>\n",
       "      <td>NaN</td>\n",
       "      <td>NaN</td>\n",
       "      <td>NaN</td>\n",
       "      <td>NaN</td>\n",
       "      <td>NaN</td>\n",
       "    </tr>\n",
       "  </tbody>\n",
       "</table>\n",
       "<p>544 rows × 39 columns</p>\n",
       "</div>"
      ],
      "text/plain": [
       "     Unnamed: 0  Županija Grad/općina Naselje Stambena površina u m2  \\\n",
       "0             0  Istarska      Rovinj  Rovinj                     50   \n",
       "1             1  Istarska      Rovinj  Rovinj                     92   \n",
       "2             2  Istarska      Rovinj  Rovinj                     96   \n",
       "3             3  Istarska      Rovinj  Rovinj                    210   \n",
       "4             4  Istarska      Rovinj  Rovinj                     32   \n",
       "..          ...       ...         ...     ...                    ...   \n",
       "539         539  Istarska      Rovinj  Rovinj                     97   \n",
       "540         540  Istarska      Rovinj  Rovinj                     80   \n",
       "541         541  Istarska      Rovinj  Rovinj                     60   \n",
       "542         542  Istarska      Rovinj  Rovinj                     91   \n",
       "543         543  Istarska      Rovinj  Rovinj                    106   \n",
       "\n",
       "           Broj soba Zamjena Tip oglasa      Prodavač Detaljnije o kući  ...  \\\n",
       "0    3-3.5 sobni4+\\n      ne     ponuda  pravna osoba     Novogradnja\\n  ...   \n",
       "1               4+\\n      ne     ponuda  pravna osoba               NaN  ...   \n",
       "2               4+\\n      ne     ponuda  pravna osoba               NaN  ...   \n",
       "3               4+\\n      ne     ponuda  pravna osoba     Novogradnja\\n  ...   \n",
       "4      3-3.5 sobni\\n      ne     ponuda  pravna osoba               NaN  ...   \n",
       "..               ...     ...        ...           ...               ...  ...   \n",
       "539             4+\\n      ne     ponuda  pravna osoba               NaN  ...   \n",
       "540             4+\\n      ne     ponuda  pravna osoba               NaN  ...   \n",
       "541             4+\\n      ne     ponuda  pravna osoba               NaN  ...   \n",
       "542  2-2.5 sobni4+\\n      ne     ponuda  pravna osoba               NaN  ...   \n",
       "543             4+\\n      ne     ponuda  pravna osoba               NaN  ...   \n",
       "\n",
       "    Površina terase u m2 Namještenost Površina vrta u m2  Ulaz Grijanje email  \\\n",
       "0                    NaN          NaN                NaN   NaN      NaN   NaN   \n",
       "1                    NaN          NaN                NaN   NaN      NaN   NaN   \n",
       "2                    NaN          NaN                NaN   NaN      NaN   NaN   \n",
       "3                    NaN          NaN                NaN   NaN      NaN   NaN   \n",
       "4                    NaN          NaN                NaN   NaN      NaN   NaN   \n",
       "..                   ...          ...                ...   ...      ...   ...   \n",
       "539                  NaN          NaN                NaN   NaN      NaN   NaN   \n",
       "540                  NaN          NaN                NaN   NaN      NaN   NaN   \n",
       "541                  NaN          NaN                NaN   NaN      NaN   NaN   \n",
       "542                  NaN          NaN                NaN   NaN      NaN   NaN   \n",
       "543                  NaN          NaN                NaN   NaN      NaN   NaN   \n",
       "\n",
       "    tel ili mobitel Tip nekretnine za odmor O zemljištu  \\\n",
       "0               NaN                     NaN         NaN   \n",
       "1               NaN                     NaN         NaN   \n",
       "2               NaN                     NaN         NaN   \n",
       "3               NaN                     NaN         NaN   \n",
       "4               NaN                     NaN         NaN   \n",
       "..              ...                     ...         ...   \n",
       "539             NaN                     NaN         NaN   \n",
       "540             NaN                     NaN         NaN   \n",
       "541             NaN                     NaN         NaN   \n",
       "542             NaN                     NaN         NaN   \n",
       "543             NaN                     NaN         NaN   \n",
       "\n",
       "    Pozicija poslovnog prostora  \n",
       "0                           NaN  \n",
       "1                           NaN  \n",
       "2                           NaN  \n",
       "3                           NaN  \n",
       "4                           NaN  \n",
       "..                          ...  \n",
       "539                         NaN  \n",
       "540                    U zgradi  \n",
       "541                         NaN  \n",
       "542                         NaN  \n",
       "543                         NaN  \n",
       "\n",
       "[544 rows x 39 columns]"
      ]
     },
     "execution_count": 23,
     "metadata": {},
     "output_type": "execute_result"
    }
   ],
   "source": [
    "df"
   ]
  },
  {
   "cell_type": "code",
   "execution_count": 25,
   "metadata": {},
   "outputs": [],
   "source": [
    "name = onlyfiles[1].split(\"_\")"
   ]
  },
  {
   "cell_type": "code",
   "execution_count": 38,
   "metadata": {},
   "outputs": [
    {
     "data": {
      "text/plain": [
       "(datetime.date(2022, 7, 27), 30)"
      ]
     },
     "execution_count": 38,
     "metadata": {},
     "output_type": "execute_result"
    }
   ],
   "source": [
    "\n",
    "from datetime import datetime\n",
    "test = datetime.strptime(name[0], '%Y-%m-%d').date()\n",
    "test, test.isocalendar()[1]"
   ]
  },
  {
   "cell_type": "code",
   "execution_count": 31,
   "metadata": {},
   "outputs": [],
   "source": [
    "ime = \"_\" + name[2].split(\".\")[0]\n",
    "city_name = name[2].split(\".\")[0].capitalize()\n"
   ]
  },
  {
   "cell_type": "code",
   "execution_count": 32,
   "metadata": {},
   "outputs": [
    {
     "data": {
      "text/plain": [
       "('_rovinj', 'Rovinj')"
      ]
     },
     "execution_count": 32,
     "metadata": {},
     "output_type": "execute_result"
    }
   ],
   "source": [
    "ime, city_name"
   ]
  }
 ],
 "metadata": {
  "kernelspec": {
   "display_name": "Python 3.8.0 64-bit",
   "language": "python",
   "name": "python3"
  },
  "language_info": {
   "codemirror_mode": {
    "name": "ipython",
    "version": 3
   },
   "file_extension": ".py",
   "mimetype": "text/x-python",
   "name": "python",
   "nbconvert_exporter": "python",
   "pygments_lexer": "ipython3",
   "version": "3.8.0 (tags/v3.8.0:fa919fd, Oct 14 2019, 19:37:50) [MSC v.1916 64 bit (AMD64)]"
  },
  "orig_nbformat": 4,
  "vscode": {
   "interpreter": {
    "hash": "570feb405e2e27c949193ac68f46852414290d515b0ba6e5d90d076ed2284471"
   }
  }
 },
 "nbformat": 4,
 "nbformat_minor": 2
}
