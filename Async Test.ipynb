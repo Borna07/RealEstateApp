{
 "cells": [
  {
   "cell_type": "code",
   "execution_count": 21,
   "metadata": {},
   "outputs": [],
   "source": [
    "from os import listdir\n",
    "from os.path import isfile, join\n",
    "import pandas as pd\n",
    "import plotly.express as px\n",
    "import os\n",
    "from bs4 import BeautifulSoup\n",
    "from selenium import webdriver\n",
    "import pandas as pd\n",
    "import requests\n",
    "import re\n"
   ]
  },
  {
   "cell_type": "code",
   "execution_count": 22,
   "metadata": {},
   "outputs": [],
   "source": [
    "\n",
    "def catch_links_all_pages(url):\n",
    "    oglasi = []\n",
    "    page1 = requests.get(url)\n",
    "    soup1 = BeautifulSoup(page1.content, \"html.parser\")\n",
    "\n",
    "    #Extract the number of pages from navigation bar\n",
    "    page_nav_class = soup1.find_all('ul', attrs={'class':\"pagination\"}) \n",
    "    page_nav = page_nav_class[0].find_all('li')\n",
    "    \n",
    "    \n",
    "    # #Take the last navigation element\n",
    "    # last = page_nav[-1]\n",
    "    # #Extract the number and clean data\n",
    "    # page_number = last.find('a').get('href')[-3:]\n",
    "    # page_number = re.sub(\"[^0-9]\", \"\", page_number)\n",
    "    # fix = \"&num=\"\n",
    "    \n",
    "    pages = []\n",
    "\n",
    "    #Check if there are multiple pages in the navigation\n",
    "    if not page_nav:\n",
    "\n",
    "        pages.append(url)\n",
    "\n",
    "    else:\n",
    "        #Take the last navigation element\n",
    "        last = page_nav[-1]\n",
    "        #Extract the number and clean data\n",
    "        page_number = last.find('a').get('href')[-3:]\n",
    "        page_number = re.sub(\"[^0-9]\", \"\", page_number)\n",
    "        fix = \"&num=\"\n",
    "        # print(page_number)\n",
    "\n",
    "        #Create a list of all pages with links\n",
    "        pages.append(url)\n",
    "        for i in range(2,int(page_number)+1):\n",
    "                link = url + fix + str(i)\n",
    "                pages.append(link)\n",
    "\n",
    "        pages = list(set(pages))\n",
    "       \n",
    "    #Scrape all resluts from every page\n",
    "    for page in pages:        \n",
    "        web_page = requests.get(page)\n",
    "        soup1 = BeautifulSoup(web_page.content, \"html.parser\")\n",
    "        results = soup1.find_all('div', attrs={'class':\"OglasiRezHolder\"}) \n",
    "        for result in results:\n",
    "            try:\n",
    "                link = result.find('a').get('href')\n",
    "                oglasi.append(link)\n",
    "            except:\n",
    "                pass\n",
    "\n",
    "    oglasi = list(set(oglasi))\n",
    "\n",
    "    return oglasi"
   ]
  },
  {
   "cell_type": "code",
   "execution_count": 23,
   "metadata": {},
   "outputs": [],
   "source": [
    "url = \"https://www.index.hr/oglasi/prodaja-stanova/gid/3278?pojam=&sortby=1&elementsNum=100&cijenaod=0&cijenado=21000000&tipoglasa=1&pojamZup=1162&grad=1511&naselje=&attr_Int_988=&attr_Int_887=&attr_bit_stan=&attr_bit_brojEtaza=&attr_gr_93_1=&attr_gr_93_2=&attr_Int_978=&attr_Int_1334=&attr_bit_eneregetskiCertifikat=&vezani_na=988-887_562-563_978-1334\"\n",
    "\n",
    "pages = catch_links_all_pages(url)"
   ]
  },
  {
   "cell_type": "code",
   "execution_count": 30,
   "metadata": {},
   "outputs": [
    {
     "data": {
      "text/plain": [
       "['https://www.index.hr/oglasi/rijeka--centar---2s-db-stan-na-korzu/oid/3558105',\n",
       " 'https://www.index.hr/oglasi/belveder--novouredjeni-3s-db-stan-na-odlicnoj-lokaciji-s-balk/oid/3518050',\n",
       " 'https://www.index.hr/oglasi/pecine--dvoetazni-stan-102-76m2--1--red-do-mora/oid/3635989',\n",
       " 'https://www.index.hr/oglasi/turnic-2s-stan---db/oid/3652675',\n",
       " 'https://www.index.hr/oglasi/rijeka--centar--67-02m2--odlican-stan-nadomak-korza/oid/3509194',\n",
       " 'https://www.index.hr/oglasi/centar-rijeke---moderan-stan-sa-panoramskim-pogledom/oid/2477891',\n",
       " 'https://www.index.hr/oglasi/rijeka-vodovodna/oid/3172716',\n",
       " 'https://www.index.hr/oglasi/rijeka--brajda---prilika-za-investiciju-u-blizini-centra-rij/oid/2735486',\n",
       " 'https://www.index.hr/oglasi/brajda---stan-3s-db---105m2---2--kat---2-balkona/oid/3016413',\n",
       " 'https://www.index.hr/oglasi/rijeka--stan-150-m2/oid/2190250',\n",
       " 'https://www.index.hr/oglasi/stan-na-bulevardu--2s-db--51m2--prodaja-/oid/3731280',\n",
       " 'https://www.index.hr/oglasi/zamet--stan-147m2--3s-db--balkon--terasa--parking/oid/3750434',\n",
       " 'https://www.index.hr/oglasi/centar--stan-2s-db--60-03m2--2--kat/oid/1721550',\n",
       " 'https://www.index.hr/oglasi/brajda--95-m2--uredjen-trosoban-stan/oid/2476308',\n",
       " 'https://www.index.hr/oglasi/banderovo--2skl--36-m2--86-500-eur-kn/oid/3364449',\n",
       " 'https://www.index.hr/oglasi/mlaka--stan-dvosobni-/oid/3773624',\n",
       " 'https://www.index.hr/oglasi/novogradnja--40m2--okucnica---/oid/3528341',\n",
       " 'https://www.index.hr/oglasi/rijeka--hosti---stan-u-novogradnji/oid/3390172',\n",
       " 'https://www.index.hr/oglasi/rijeka--kozala--novoadaptiran-stan-od-77-12m2/oid/3319545',\n",
       " 'https://www.index.hr/oglasi/pecine--3s-db--108-m2--185-000-/oid/3133556',\n",
       " 'https://www.index.hr/oglasi/banderovo-2s-db-terasa-podrum-i-ostava-prostrani-stan-blizu-medicinskog-fakulteta/oid/3737178',\n",
       " 'https://www.index.hr/oglasi/stan-drenova--146-m2--257-000-eur-kn/oid/3599316',\n",
       " 'https://www.index.hr/oglasi/novogradnja-drenova--stan-od-68-59-m2--2s-db-sa-prekrasnim-p/oid/3724996',\n",
       " 'https://www.index.hr/oglasi/stan-belveder--1s-db/oid/3783749',\n",
       " 'https://www.index.hr/oglasi/etaza-u-samoj-jezgri-starog-grada/oid/2111399',\n",
       " 'https://www.index.hr/oglasi/rijeka--krimeja---3s-kl--nova-fasada-i-liftovi--70-m2/oid/3772685',\n",
       " 'https://www.index.hr/oglasi/rijeka--trsat--stan-67-m2-u-novogradnji-s-krovnom-terasom/oid/3583733',\n",
       " 'https://www.index.hr/oglasi/costabella---etaza-kuce-sa-puno-potencijala/oid/3189423',\n",
       " 'https://www.index.hr/oglasi/zamet--stan-98m2-sa-prekrasnim-pogledom-na-more/oid/3525917',\n",
       " 'https://www.index.hr/oglasi/susak/oid/3272442',\n",
       " 'https://www.index.hr/oglasi/rijeka--trsat---renoviran-1s-db-stan--parkirno-mjesto/oid/3742869',\n",
       " 'https://www.index.hr/oglasi/centar--dolac--104m2--3skl/oid/1435307',\n",
       " 'https://www.index.hr/oglasi/rijeka---centar--renoviran-stan-od-117-m2--4s-db--na-odlicno/oid/3733887',\n",
       " 'https://www.index.hr/oglasi/donja-drenova--dvoetazni-stan--5sdb--154-m2--visoki-roh-bau-/oid/2112030',\n",
       " 'https://www.index.hr/oglasi/pehlin--etaza-2s-db--112m2--139-000-eur-kn/oid/3667565',\n",
       " 'https://www.index.hr/oglasi/rijeka--drenova---stan-2s-db-u-novogradnji-na-odlicnoj-lokac/oid/3710763',\n",
       " 'https://www.index.hr/oglasi/centar---novouredjen-stan-2s-db---73-01m2---jug/oid/2934952',\n",
       " 'https://www.index.hr/oglasi/prekrasan-dvoetazan-stan-na-krimeji-/oid/1626139',\n",
       " 'https://www.index.hr/oglasi/centar-rijeke-zona-porto-baros--2s-db-od-88-m2-u-visokom-pot/oid/3677635',\n",
       " 'https://www.index.hr/oglasi/banderovo--2skl--62-90m2--110-000-eur-kn/oid/3755244',\n",
       " 'https://www.index.hr/oglasi/centar--novoadaptiran-7s-137m2--idealno-za-hostel-i-najam-/oid/3343222',\n",
       " 'https://www.index.hr/oglasi/stan-rijeka-banderovo/oid/3784238',\n",
       " 'https://www.index.hr/oglasi/rijeka-centar---predivan-2-s-db-u-centru/oid/2870588',\n",
       " 'https://www.index.hr/oglasi/centar--95m2--3skl--147-000-eur-kn/oid/3119369',\n",
       " 'https://www.index.hr/oglasi/novogradnja-srdoci--1-s-db--46-m2--lodja---parking/oid/3627692',\n",
       " 'https://www.index.hr/oglasi/rijeka--donja-vezica---adaptiran-2s-db-stan--nova-fasada--li/oid/3593575',\n",
       " 'https://www.index.hr/oglasi/stan-sa-3-uhodana-i-namjestena-apartmana-prodajemo/oid/2817668',\n",
       " 'https://www.index.hr/oglasi/marceljeva-draga--prizemlje-126-m2-s-okucnicom-i-pogledom-na-more/oid/3675962',\n",
       " 'https://www.index.hr/oglasi/belveder--2-sobni-stan--58m2/oid/3689497',\n",
       " 'https://www.index.hr/oglasi/potok--stan-119m2--5skl--3-balkona/oid/3399786',\n",
       " 'https://www.index.hr/oglasi/rijeka-centar--stan-na-2-katu-od-76-m2/oid/3227756',\n",
       " 'https://www.index.hr/oglasi/rijeka---potok---izvrstan-3s-db-stan-s-4-balkona/oid/3602238',\n",
       " 'https://www.index.hr/oglasi/centar--mali-stan-za-investiciju-par-koraka-od-korza/oid/3618184',\n",
       " 'https://www.index.hr/oglasi/rijeka--centar---5s-kl-stan--112-m2/oid/3431549',\n",
       " 'https://www.index.hr/oglasi/donji-zamet--uredan-4-soban-stan-s-pogledom-na-more/oid/3599512',\n",
       " 'https://www.index.hr/oglasi/centar--92m2--idealno-za-posl-prostor--100-000-eur-kn/oid/1435336',\n",
       " 'https://www.index.hr/oglasi/rijeka--potok--2s-db-stan--100m2/oid/2373047',\n",
       " 'https://www.index.hr/oglasi/savrsen-pogled-na-grad-koji-tece/oid/3099752',\n",
       " 'https://www.index.hr/oglasi/stan-rijeka--2s-db-do-korza--kompletno-adaptiran-i-namjesten/oid/2555797',\n",
       " 'https://www.index.hr/oglasi/korzo--stan-125m2--pogled-na-korzo-i-rivu-/oid/3337692',\n",
       " 'https://www.index.hr/oglasi/vrlo-dobra-lokacija-stana-61-40-m2-sa-pogledom-na-more--samo/oid/3610038',\n",
       " 'https://www.index.hr/oglasi/hosti--3s-db---okucnica-terasa-2-balkona-3-parkirna-mjesta-u-novogr---/oid/3419798',\n",
       " 'https://www.index.hr/oglasi/rijeka--donji-zamet---2s-db-stan-s-parkingom-i-okucnicom--no/oid/3502233',\n",
       " 'https://www.index.hr/oglasi/rijeka--centar---2-novouredjena-apartmana--trznica--2-kat/oid/3279253',\n",
       " 'https://www.index.hr/oglasi/rijeka--ekskluzivan-stan-104m2-garaza-teretana-i-solarij/oid/2768641',\n",
       " 'https://www.index.hr/oglasi/srdoci--novi-3s-db-sa-pogledom-na-more--/oid/2287237',\n",
       " 'https://www.index.hr/oglasi/odlican-stan-na-belvederu-s-balkonom--87-m2/oid/2222810',\n",
       " 'https://www.index.hr/oglasi/donja-drenova--1s--30m2--80-000-eur-kn/oid/3555558',\n",
       " 'https://www.index.hr/oglasi/rijeka--belveder---stan-za-adaptaciju-u-prizemlju--40-m2/oid/3689672',\n",
       " 'https://www.index.hr/oglasi/podmurvice--stan-u-potkrovlju/oid/3434610',\n",
       " 'https://www.index.hr/oglasi/prodaja-stana-na-trazenoj-lokaciji--96-m2-2s-db/oid/3426807',\n",
       " 'https://www.index.hr/oglasi/dvoetazni-stan-u-novogradnji-u-centru-srdoca-/oid/1886735',\n",
       " 'https://www.index.hr/oglasi/rijeka--brajda---4s-stan---garsonijera--prilika-/oid/3709384',\n",
       " 'https://www.index.hr/oglasi/srdoci--2s-db--73-m2--135-000-eur-kn/oid/3446895',\n",
       " 'https://www.index.hr/oglasi/atraktivan-dvoetazni-stan-105m2---garaza-17m2---marceljeva-d/oid/3655985',\n",
       " 'https://www.index.hr/oglasi/srdoci/oid/3664505',\n",
       " 'https://www.index.hr/oglasi/stan-susacka--draga/oid/3498378',\n",
       " 'https://www.index.hr/oglasi/skurinje--renoviran--72-m2--2s-db--centralno--72-000---kn/oid/2112237',\n",
       " 'https://www.index.hr/oglasi/donja-vezica---prodaja-2s-db-stana--60m2/oid/347151',\n",
       " 'https://www.index.hr/oglasi/belveder--53m2--2skl/oid/2111496',\n",
       " 'https://www.index.hr/oglasi/potok--3skl-stan--72-500-/oid/2701936',\n",
       " 'https://www.index.hr/oglasi/68m2--2s-db--trazena-lokacija---/oid/3599356',\n",
       " 'https://www.index.hr/oglasi/luksuzna-novogradnja---pametna-zgrada-na-pecinama--prvi-red-do-mora---/oid/2869630',\n",
       " 'https://www.index.hr/oglasi/krnjevo--blizu-ztc-a--55-m2--2--kat/oid/3678909',\n",
       " 'https://www.index.hr/oglasi/krnjevo--2s-db--70m2-garaza--130-000-eur-kn/oid/1434975',\n",
       " 'https://www.index.hr/oglasi/stan-krimeja--70m2---3skl--sa-prekrasnim-pogledom-na-more/oid/2154582',\n",
       " 'https://www.index.hr/oglasi/drenova--stan-odlicnog-rasporeda-u-novogradnji/oid/3751996',\n",
       " 'https://www.index.hr/oglasi/banderovo---prodaja-dvoetaznog-stana-sa-pogledom-na-more--186-m2/oid/3783365',\n",
       " 'https://www.index.hr/oglasi/centar--atraktivan-3-soban-s-dnevnim-boravkom/oid/3780318',\n",
       " 'https://www.index.hr/oglasi/garsonjera-zamet-donji-78-000-eur-kn/oid/3722012',\n",
       " 'https://www.index.hr/oglasi/rijeka--korzo--stan--82-m2/oid/3719269',\n",
       " 'https://www.index.hr/oglasi/rijeka-centar-prostrani-stan-134-67-m-/oid/3099563',\n",
       " 'https://www.index.hr/oglasi/centar--2s-db-/oid/3658841',\n",
       " 'https://www.index.hr/oglasi/stan-u-centru-rijeke--109-m2-/oid/3693228',\n",
       " 'https://www.index.hr/oglasi/centar--4skl--stan--109-m2/oid/1444946',\n",
       " 'https://www.index.hr/oglasi/rijeka-bulevard-dvoetazni-stan--145-m2-u-vili-sa-pogledom-na-more/oid/2025815',\n",
       " 'https://www.index.hr/oglasi/rijeka--srdoci--87m2--3s-db-etaza-kuce-sa-terasom-i-okucnico/oid/1436556',\n",
       " 'https://www.index.hr/oglasi/gornja-vezica---etaza---3skl-stan---121-77m2---spustena-cijena---12---/oid/1697641',\n",
       " 'https://www.index.hr/oglasi/rijeka--srdoci---novogradnja--1s-db-s-garazom--59-67-m2/oid/3797617',\n",
       " 'https://www.index.hr/oglasi/belveder--2s-db--50-70m2/oid/3719252',\n",
       " 'https://www.index.hr/oglasi/rijeka--podmurvice---stan-2s-db--povrsine-67-m2/oid/2557466',\n",
       " 'https://www.index.hr/oglasi/rijeka--skurinje---3s-db--pogled-na-more--blizina-sadrzaja-/oid/3650175',\n",
       " 'https://www.index.hr/oglasi/rijeka--centar---namjesten-2s-db-stan--1-kat--82-m2/oid/3509234',\n",
       " 'https://www.index.hr/oglasi/prodaja-etaze-na-skurinju--110-m2/oid/3629095',\n",
       " 'https://www.index.hr/oglasi/rijeka--krimeja--110m2--stan-s-okucnicom/oid/3762903',\n",
       " 'https://www.index.hr/oglasi/brajda--stan-74-20m2--3s-db--terasa/oid/3438636',\n",
       " 'https://www.index.hr/oglasi/rijeka-vojak--dvoetazni-stan--3s--db--pogled--okucnica---/oid/3637325',\n",
       " 'https://www.index.hr/oglasi/rastocine--74m2--2s-db--135-000-eur-kn/oid/1434877',\n",
       " 'https://www.index.hr/oglasi/rijeka---turnic-/oid/3067546',\n",
       " 'https://www.index.hr/oglasi/skurinje--2s-db--58m2--125-000-eur-kn/oid/3648834',\n",
       " 'https://www.index.hr/oglasi/rijeka-belveder-1-kat-2s-57-8m2-balkon/oid/3687065',\n",
       " 'https://www.index.hr/oglasi/donja-drenova--kvalitetna-novogradnja--1-s-db-sa-garaznim-mjestom/oid/3732320',\n",
       " 'https://www.index.hr/oglasi/zamet--103-65m2--3s-db--259-125-eur-kn/oid/3215970',\n",
       " 'https://www.index.hr/oglasi/gornja-vezica---lijepi-dvosobni-stan-sa-pogledom-na-more--68-29-m2/oid/3762617',\n",
       " 'https://www.index.hr/oglasi/rijeka--centar---5s-kl-kod-trznice--dva-ulaza--113-m2/oid/3272503',\n",
       " 'https://www.index.hr/oglasi/rijeka--susak--104m2--adaptiran-3-sobni-stan-/oid/1437892',\n",
       " 'https://www.index.hr/oglasi/etaza-s-visokim-potkrovljem/oid/3623298',\n",
       " 'https://www.index.hr/oglasi/rijeka--srdoci---1s-db-stan--1-kat--40-m2/oid/3636057',\n",
       " 'https://www.index.hr/oglasi/veliki-gospodski-stan/oid/2996205',\n",
       " 'https://www.index.hr/oglasi/rijeka--podmurvice--prostrani-dvosobni-stan-sa-velikim-balko/oid/3705967',\n",
       " 'https://www.index.hr/oglasi/rijeka--pecine--stan-2-sobe---dnvni-boravak--blizina-mora/oid/3765726',\n",
       " 'https://www.index.hr/oglasi/trsat--dva-stana-s-predivnim-pogledom-na-more--okucnicom-i-p/oid/1040340',\n",
       " 'https://www.index.hr/oglasi/stan-66-57-m2--2skl--centar/oid/2614175',\n",
       " 'https://www.index.hr/oglasi/rijeka--mlaka---stan-1s-kl-od-34-70-m2/oid/3292939',\n",
       " 'https://www.index.hr/oglasi/rijeka--banderovo---1skl-stan-na-odlicnoj-lokaciji/oid/3731036',\n",
       " 'https://www.index.hr/oglasi/rijeka---brajda--dvosobni--60-m2/oid/3544066',\n",
       " 'https://www.index.hr/oglasi/vojak--uredjen-2-soban-s-dnevnim-boravkom--balkon-sa-pogledom/oid/3780317',\n",
       " 'https://www.index.hr/oglasi/stan--rijeka--trsat--52-m---3skl/oid/1439569',\n",
       " 'https://www.index.hr/oglasi/belveder---4skl-stan---1--kat---balkon---mogucnost-dobivanja-2-stan---/oid/2154725',\n",
       " 'https://www.index.hr/oglasi/donja-vezica-etaza-sa-okucnicom-i-garazom/oid/1019790',\n",
       " 'https://www.index.hr/oglasi/d--vezica--2s-db-s-okucnicom-od-400-m2/oid/3545215',\n",
       " 'https://www.index.hr/oglasi/rijeka-centar-4s-stan-na-prvom-katu/oid/1448400',\n",
       " 'https://www.index.hr/oglasi/rijeka--pecine--3s-kl-stan--1-kat--70-m2/oid/3552742',\n",
       " 'https://www.index.hr/oglasi/trsat--3s-db--100-m2--210-000-eur-kn/oid/3122290',\n",
       " 'https://www.index.hr/oglasi/brajda--76m2--2s---db--balkon--ii-kat/oid/1435074',\n",
       " 'https://www.index.hr/oglasi/bulevard--2s-db--75-m2--2--kat--pogled/oid/3757709',\n",
       " 'https://www.index.hr/oglasi/centar--2s-db--140-000-eur/oid/3291362',\n",
       " 'https://www.index.hr/oglasi/stan-rijeka--belveder--2s-db--70m2/oid/1436457',\n",
       " 'https://www.index.hr/oglasi/donji-zamet--garsonjera--25m2--4-kat/oid/3722259',\n",
       " 'https://www.index.hr/oglasi/rijeka--banderovo--3-sobni-stan--odlicna-investicija-/oid/3788186',\n",
       " 'https://www.index.hr/oglasi/rijeka--zamet---odlican-stan-u-prizemlju/oid/3428453',\n",
       " 'https://www.index.hr/oglasi/centar--2s-db--123-000-00-eur/oid/2803215',\n",
       " 'https://www.index.hr/oglasi/belveder-secesijski-stan--3s-db/oid/2874106',\n",
       " 'https://www.index.hr/oglasi/etaza-kuce--2s-db--72m2--pogled-parking--vrt--/oid/1958361',\n",
       " 'https://www.index.hr/oglasi/-belveder-dvoetazni-stan-sa-galerijom--/oid/3457564',\n",
       " 'https://www.index.hr/oglasi/rijeka--belveder---4skl--118-79-m2/oid/3747323',\n",
       " 'https://www.index.hr/oglasi/centar--stan-velike-kvadrature-na-nizem-katu/oid/3776240',\n",
       " 'https://www.index.hr/oglasi/turnic/oid/3744152',\n",
       " 'https://www.index.hr/oglasi/g--zamet--stan-37-m2/oid/3454375',\n",
       " 'https://www.index.hr/oglasi/rijeka--susak---adaptirani-2s-db-s-terasom--63-m2/oid/3755352',\n",
       " 'https://www.index.hr/oglasi/rijeka--belveder--181m2--dva-stana/oid/1437539',\n",
       " 'https://www.index.hr/oglasi/brajda---predivno-uredjen-stan---3s-db---92-58m2---vrt-na-koristenje---/oid/3202184',\n",
       " 'https://www.index.hr/oglasi/prodaja-stana-za-adaptaciju-na-potoku-96-m2--3s-db/oid/3772622',\n",
       " 'https://www.index.hr/oglasi/stan--mlaka-67-m2--prilika/oid/3658769',\n",
       " 'https://www.index.hr/oglasi/stambeno--poslovni--prostor---123m2--3s-db--blizina-centra--/oid/3409195',\n",
       " 'https://www.index.hr/oglasi/stan-stanovi-rijeka/oid/3706224',\n",
       " 'https://www.index.hr/oglasi/korzo--2-luksuzna-studio-apartmana--135-000-eur/oid/3317665',\n",
       " 'https://www.index.hr/oglasi/novogradnja-na-istocnom-dijelu-grada--3s-db/oid/1437610',\n",
       " 'https://www.index.hr/oglasi/rijeka--brajda---4skl-stan-od-104m2-na-nizem-katu-s-balkonom/oid/3330802',\n",
       " 'https://www.index.hr/oglasi/stan-brajda-odlican-za-najam-svih-vrsta/oid/2703431',\n",
       " 'https://www.index.hr/oglasi/gornja-vezica--1sb-db/oid/3771298',\n",
       " 'https://www.index.hr/oglasi/rijeka--donja-vezica---4s-db-stan-etaza-kuce-s-verandom/oid/3276219',\n",
       " 'https://www.index.hr/oglasi/prodaja-stana-u-centru-grada-1skl---38-86-m2/oid/3751892',\n",
       " 'https://www.index.hr/oglasi/turnic--moderan-3s---db--s-pogledom-na-more-/oid/3759470',\n",
       " 'https://www.index.hr/oglasi/trsat--etaza-kuce--120-000-00-/oid/2807606',\n",
       " 'https://www.index.hr/oglasi/rijeka--gornja-vezica---1s-db-stan--zgrada-s-liftom-i-novom-/oid/3802749',\n",
       " 'https://www.index.hr/oglasi/trsat--1-s-db-s-velikom-terasom-i-panoramskim-pogledom-/oid/2939430',\n",
       " 'https://www.index.hr/oglasi/donji-zamet--uredna-etaza-s-terasom-i-dijelom-okucnice-na-ko/oid/3759415',\n",
       " 'https://www.index.hr/oglasi/kozala--2-etazni-stan--120-m2--4s-db/oid/3696355',\n",
       " 'https://www.index.hr/oglasi/47m2--2s-db--jug--balkon---/oid/3769417',\n",
       " 'https://www.index.hr/oglasi/gornja-vezica--2s-db--68m2/oid/3686283',\n",
       " 'https://www.index.hr/oglasi/donja-drenova---prodaja-dvoetaznog-stana--146m2/oid/3650055',\n",
       " 'https://www.index.hr/oglasi/srdoci-1skl--62-000-/oid/2112240',\n",
       " 'https://www.index.hr/oglasi/brajda-2s-db/oid/1033912',\n",
       " 'https://www.index.hr/oglasi/stan--donja-vezica/oid/3555574',\n",
       " 'https://www.index.hr/oglasi/srdoci-stan/oid/3765464',\n",
       " 'https://www.index.hr/oglasi/rijeka--drenova---stan-2s-db-u-novogradnji-na-odlicnoj-lokac/oid/3710761',\n",
       " 'https://www.index.hr/oglasi/zamet--4s-db--1--kat---visoko-potkrovlje--parkirna-mjesta/oid/3647159',\n",
       " 'https://www.index.hr/oglasi/kantrida--1s-db--105-000eur/oid/2948215',\n",
       " 'https://www.index.hr/oglasi/krnjevo-n-n---3s-db--90-m2--terasa-12-m2--139-000-eur-kn-/oid/3709309',\n",
       " 'https://www.index.hr/oglasi/donji-zamet--2s-db--126m2-okucnica--279-000-eur-kn/oid/3662995',\n",
       " 'https://www.index.hr/oglasi/gornja-vezica--3s-db--80m2/oid/2111456',\n",
       " 'https://www.index.hr/oglasi/donja-vezica--2skl-uredjen-s-namjestajem--juzni-balkon-s-pogledom--/oid/3043745',\n",
       " 'https://www.index.hr/oglasi/rijeka-centar--suncan-gospodski-stan/oid/3127840',\n",
       " 'https://www.index.hr/oglasi/rijeka--bulevard-stan-105-m2/oid/2190373',\n",
       " 'https://www.index.hr/oglasi/centar--useljiv-adaptiran-stan--3s-db/oid/3750431',\n",
       " 'https://www.index.hr/oglasi/srdoci--dvoetazni-stan-2s-db--55m2--terasa-50m2--25m2-natkri/oid/3759200',\n",
       " 'https://www.index.hr/oglasi/stan-rijeka/oid/3659883',\n",
       " 'https://www.index.hr/oglasi/rijeka--donja-vezica--49-m2--balkon--135-000-eur-kn/oid/3337769',\n",
       " 'https://www.index.hr/oglasi/93m2--dva-stana--okucnica---/oid/3783584',\n",
       " 'https://www.index.hr/oglasi/gornja-vezica-2sb-db-68-m2/oid/3759400',\n",
       " 'https://www.index.hr/oglasi/banderovo--1skl-stan---35m2--terasa-i-vrt-/oid/3686577',\n",
       " 'https://www.index.hr/oglasi/rijeka--centar---200-m2--6s-db/oid/1976372',\n",
       " 'https://www.index.hr/oglasi/rijeka--belveder---3s-db-na-lijepoj-lokaciji-u-zgradi-s-lift/oid/3623461',\n",
       " 'https://www.index.hr/oglasi/rijeka---siri-centar--4s-komforan-stan/oid/3712301',\n",
       " 'https://www.index.hr/oglasi/potok--prekrasan-adaptirani-stan--94m2--1-kat/oid/3652702',\n",
       " 'https://www.index.hr/oglasi/drenova-etaza-kuce/oid/2915363',\n",
       " 'https://www.index.hr/oglasi/rijeka--belveder--dvosoban-stan/oid/3722018',\n",
       " 'https://www.index.hr/oglasi/stan-za-adaptaciju-u-samom-srcu-grada/oid/3293178',\n",
       " 'https://www.index.hr/oglasi/martinkovac--3s-db--sa-pogledom-na-kvarner-175-000-eur-kn/oid/3675985',\n",
       " 'https://www.index.hr/oglasi/etaza--vezica/oid/3755238',\n",
       " 'https://www.index.hr/oglasi/stan-podmurvice--78-m2--165-000-eur-kn/oid/3644060',\n",
       " 'https://www.index.hr/oglasi/turnic---lijepi-i-uredni-stan-odlicne-katnosti--39m2/oid/631258',\n",
       " 'https://www.index.hr/oglasi/stan-prodaja-stari-grad--136m2/oid/2190415',\n",
       " 'https://www.index.hr/oglasi/rijeka---podmurvice-/oid/3021816',\n",
       " 'https://www.index.hr/oglasi/rijeka--centar---adaptiran-2s-db--74-m2/oid/3747325',\n",
       " 'https://www.index.hr/oglasi/banderovo--stan-s-terasom-i-vrtom/oid/3737943',\n",
       " 'https://www.index.hr/oglasi/centar--100-m2--3s-db--2--kat--balkon/oid/2058388',\n",
       " 'https://www.index.hr/oglasi/bulevard--etaza--228-000-eur-kn/oid/3101029',\n",
       " 'https://www.index.hr/oglasi/banderovo-1s-db/oid/3525901',\n",
       " 'https://www.index.hr/oglasi/skurinje--110m2--3s-db--etaza/oid/2612762',\n",
       " 'https://www.index.hr/oglasi/rijeka--strogi-centar---garsonijera-kod-trznice--30-m2/oid/3644216',\n",
       " 'https://www.index.hr/oglasi/potok--prekrasan-gospodski-stan--140m---2-balkona---poslovni/oid/3139367',\n",
       " 'https://www.index.hr/oglasi/brajda---suncan-4skl-stan---104m2---2-balkona---170-000-eur/oid/1633129',\n",
       " 'https://www.index.hr/oglasi/stan-belveder--3skl--52m2/oid/3666079',\n",
       " 'https://www.index.hr/oglasi/trsat---stan-sa-garazom-/oid/3357469',\n",
       " 'https://www.index.hr/oglasi/stan-rijeka-potok-161-m--5skl-sobica/oid/1439027',\n",
       " 'https://www.index.hr/oglasi/centar--88-97m2--2s-db--155-000-eur-kn--samo-kod-nas-/oid/3638824',\n",
       " 'https://www.index.hr/oglasi/stan-pecine--102-m2--4sb-s-okucnicom/oid/3648734',\n",
       " 'https://www.index.hr/oglasi/centar--74-50m2--2s-db--225-000-eur-kn/oid/2555758',\n",
       " 'https://www.index.hr/oglasi/rijeka--zamet--dvoetazan-stan--3s-db--96m2--s-okucnicom/oid/3741055',\n",
       " 'https://www.index.hr/oglasi/donja-drenova--novogradnja---stan-1-09-na-odlicnoj-lokaciji/oid/3720563',\n",
       " 'https://www.index.hr/oglasi/rijeka--centar--stan-40m2/oid/3339994',\n",
       " 'https://www.index.hr/oglasi/turnic---prodaja-1s-db-stana--57m2/oid/347093',\n",
       " 'https://www.index.hr/oglasi/rijeka-trsat---vrhunski-1s-db-stan-u-ultra-modernoj-novograd/oid/3755207',\n",
       " 'https://www.index.hr/oglasi/rijeka--krimeja---stan-69-68m2--balkon--pogled-na-more-/oid/3528377',\n",
       " 'https://www.index.hr/oglasi/prilika-za-investiciju-u-samom-centru/oid/2227634',\n",
       " 'https://www.index.hr/oglasi/50m2--dobra-lokacija--1s-db--/oid/3645681',\n",
       " 'https://www.index.hr/oglasi/drenova--odlican-stan-vrijedan-paznje--/oid/2048301',\n",
       " 'https://www.index.hr/oglasi/rijeka--skoljic-stan-61-m2/oid/3533525',\n",
       " 'https://www.index.hr/oglasi/zanimljiva-lokacija-stana-65-m2--2s-db---pogleda-na-kvarner-/oid/3780311',\n",
       " 'https://www.index.hr/oglasi/banderovo--1-soban-stan-s-osiguranim-parkingom/oid/3729527',\n",
       " 'https://www.index.hr/oglasi/rijeka--srdoci--atraktivan-stan-u-zgradi-sa-liftom--mirna-lokacija----/oid/3126019',\n",
       " 'https://www.index.hr/oglasi/centar--veliki-stan-98m2--odlicna-mikro-lokacija-/oid/3429837',\n",
       " 'https://www.index.hr/oglasi/stan-pecine--70-m2--180-000-eur-kn/oid/3637394',\n",
       " 'https://www.index.hr/oglasi/bulevard--etaza-s-panoramskim-pogledom--4skl--114-m2----stud/oid/3355993',\n",
       " 'https://www.index.hr/oglasi/rijeka--potok---2s-db--74-m2/oid/3742896',\n",
       " 'https://www.index.hr/oglasi/brajda-121-m2-5s-kl/oid/339762',\n",
       " 'https://www.index.hr/oglasi/hosti---prodaja-2s-db-stana--panoramski-pogled-/oid/3705921',\n",
       " 'https://www.index.hr/oglasi/turnic-2-sobni-stan-54m2/oid/3411419',\n",
       " 'https://www.index.hr/oglasi/zamet---stan-sa-prekrasnim-pogledom-na-more/oid/3674347',\n",
       " 'https://www.index.hr/oglasi/pecine-ekskluzivan-stan-prodaja/oid/1433769',\n",
       " 'https://www.index.hr/oglasi/bulevard--luksuzni-stanovi---novogradnja/oid/3664281',\n",
       " 'https://www.index.hr/oglasi/turnic--1s-db--62-000--/oid/2111768',\n",
       " 'https://www.index.hr/oglasi/podmurvice--3skl--135-000-00-eur/oid/3537162',\n",
       " 'https://www.index.hr/oglasi/donja-drenova---atraktivan-dvoetazni-stan-135m2-prekrasnog-p/oid/2283170',\n",
       " 'https://www.index.hr/oglasi/rjeka-centar--stan-5-s-kl-u-blizini-korza--mogucnost-izvodjenja-2-stana/oid/3434415',\n",
       " 'https://www.index.hr/oglasi/rijeka--centar--stan--4s-kl---uredjen-/oid/3461807',\n",
       " 'https://www.index.hr/oglasi/turnic--3s-db--75-m2--130-000-eur-kn/oid/3432878',\n",
       " 'https://www.index.hr/oglasi/rijeka---podmurvice-/oid/3034561',\n",
       " 'https://www.index.hr/oglasi/stan-u-centru-60-m--2skl/oid/1438632',\n",
       " 'https://www.index.hr/oglasi/centar---prodaja-garsonijere-za-investiciju--22-m2/oid/3780241',\n",
       " 'https://www.index.hr/oglasi/skurinje--stan-2s-db--54m2--98-000-eur/oid/3768328',\n",
       " 'https://www.index.hr/oglasi/trsat--72m2--parkirno-mjesto/oid/3757770',\n",
       " 'https://www.index.hr/oglasi/zamet--novogradnja--2s-db--85-m2--okucnica-140-m2/oid/3747000',\n",
       " 'https://www.index.hr/oglasi/strogi-centar--47-m2--2s-db/oid/3762643',\n",
       " 'https://www.index.hr/oglasi/rijeka---costabella--penthouse-na-odlicnoj-lokaciji--u-blizini-mora-/oid/2821502',\n",
       " 'https://www.index.hr/oglasi/bulevard--2-soban-s-dnevnim-boravkom-u-manjoj-zgradi/oid/3624976',\n",
       " 'https://www.index.hr/oglasi/predivan-stan/oid/1023800',\n",
       " 'https://www.index.hr/oglasi/prodaja-stana-u-novogradnji-na-pehlinu-3d-db--85-m2/oid/3777669',\n",
       " 'https://www.index.hr/oglasi/stan-rijeka-centar-100-m2/oid/3427315',\n",
       " 'https://www.index.hr/oglasi/d-drenova-2s-db---lodja---panoramski-pogled/oid/2936134',\n",
       " 'https://www.index.hr/oglasi/podmurvice--3skl--125-000-00-/oid/3414955',\n",
       " 'https://www.index.hr/oglasi/rijeka--srdoci--70-24m2--2-sobni-stan-s-db--balkon/oid/1437974',\n",
       " 'https://www.index.hr/oglasi/belveder--75-60m2--2skl--120-000-eur-kn/oid/1744482',\n",
       " 'https://www.index.hr/oglasi/banderovo--85m2--3-soban-stan-za-investiciju/oid/3789533',\n",
       " 'https://www.index.hr/oglasi/zamet---prekrasan--moderan-i-potpuno-namjesten-1s-db--47-m2-/oid/3805790',\n",
       " 'https://www.index.hr/oglasi/gornja-drenova--2s-db--60m2--145-500-eur-kn/oid/3670361',\n",
       " 'https://www.index.hr/oglasi/banderovo--stan-od-76-m2-u-roh-bau-fazi--mogucnost-2s-db/oid/3801416',\n",
       " 'https://www.index.hr/oglasi/centar--1s-db--88-500--/oid/2111716',\n",
       " 'https://www.index.hr/oglasi/costabella--penthouse-185-m2-s-pogledom-na-more/oid/3289373',\n",
       " 'https://www.index.hr/oglasi/turnic--uredan-juzni-stan-sa-lijepim-pogledom---/oid/3781919',\n",
       " 'https://www.index.hr/oglasi/rijeka-strogi-centar--2s-db--73m2/oid/2210112',\n",
       " 'https://www.index.hr/oglasi/stan-na-izvrsnoj-lokaciji-/oid/2926086',\n",
       " 'https://www.index.hr/oglasi/pecine--2s-db--72m2--300-000-eur-kn/oid/3792726',\n",
       " 'https://www.index.hr/oglasi/rijeka--pehlin--novogradnja--3s-db--3-balkona/oid/3762909',\n",
       " 'https://www.index.hr/oglasi/gornji-zamet-novogradnja/oid/1626290',\n",
       " 'https://www.index.hr/oglasi/67m2--dvoriste--2s-db--/oid/3647247',\n",
       " 'https://www.index.hr/oglasi/zamet--odlican-stan-3s-db-s-pogledom-na-more/oid/2139797',\n",
       " 'https://www.index.hr/oglasi/martinkovacm-1db--u-visokom-potkrovlju--300-eur-plus-100-eur/oid/2112222',\n",
       " 'https://www.index.hr/oglasi/rijeka---hosti--novogradnja--prizemlje--1-s-db-s-okucnicom/oid/3790943',\n",
       " 'https://www.index.hr/oglasi/kozala--121m2--3s-db--270-000-eur-kn/oid/3279177',\n",
       " 'https://www.index.hr/oglasi/trsat-2s-db-110-m2/oid/659556',\n",
       " 'https://www.index.hr/oglasi/rijeka--marceljeva-draga--stan-126-m2-/oid/3693193',\n",
       " 'https://www.index.hr/oglasi/hosti--dvoetazni-stan-3s-db--115-m2-s-garazom/oid/3536922',\n",
       " 'https://www.index.hr/oglasi/109m2--gospodski-stan-u-centru---/oid/3783585',\n",
       " 'https://www.index.hr/oglasi/rijeka--centar---prodaja-2s-db-stana--98m2/oid/810120',\n",
       " 'https://www.index.hr/oglasi/stan-rijeka--belveder--3skl--66m2/oid/3666083',\n",
       " 'https://www.index.hr/oglasi/kantrida--moderan-2s-db--u-novijoj-zgradi--260-000eur/oid/2111617',\n",
       " 'https://www.index.hr/oglasi/stan-rijeka-gornja-drenova/oid/3523692',\n",
       " 'https://www.index.hr/oglasi/stan-krimeja/oid/3783616',\n",
       " 'https://www.index.hr/oglasi/centar--stan-87m2--2s-db--useljivo/oid/3547183',\n",
       " 'https://www.index.hr/oglasi/srdoci-novogradnja--stan-117-m2--parking--bazen-na-koristenj/oid/3689526',\n",
       " 'https://www.index.hr/oglasi/stan-zamet-73-m--3s-db/oid/1438774',\n",
       " 'https://www.index.hr/oglasi/rijeka--donji-zamet--3s-db-stan---etaza-s-okucnicom-i-parkin/oid/3704611',\n",
       " 'https://www.index.hr/oglasi/rijeka--srdoci---1s-db-stan-s-parkingom/oid/3505027',\n",
       " 'https://www.index.hr/oglasi/rijeka--zamet--2s-db--70m2/oid/2745078',\n",
       " 'https://www.index.hr/oglasi/centar--do-korza--2s-db--75-m2/oid/1797889',\n",
       " 'https://www.index.hr/oglasi/55m2--2s-db--uredjen-stan---/oid/3674442',\n",
       " 'https://www.index.hr/oglasi/turnic--55-m2-2-s-db-s-balkonom-pogled-na-more-blizina-ztc-a--124000--/oid/3569571',\n",
       " 'https://www.index.hr/oglasi/stan-krnjevo--27-m2--93-000-eur-kn/oid/3683210',\n",
       " 'https://www.index.hr/oglasi/rijeka--centar---novouredjen-2s-db-stan--104-m2/oid/3479708',\n",
       " 'https://www.index.hr/oglasi/stan-98-m2--4s---db--potok/oid/2257519',\n",
       " 'https://www.index.hr/oglasi/stan-rijeka-belveder/oid/3351848',\n",
       " 'https://www.index.hr/oglasi/strogi-centar--1--red-do-mora-/oid/2319339',\n",
       " 'https://www.index.hr/oglasi/stan-rijeka--kozala-2s-db--103m2/oid/2113958',\n",
       " 'https://www.index.hr/oglasi/belveder--86m2--3skl--166-500-eur-kn/oid/3113244',\n",
       " 'https://www.index.hr/oglasi/donja-vezica-novoadaptriana-etaza-3s-db/oid/2635602',\n",
       " 'https://www.index.hr/oglasi/centar--2s-db-i-studio-apartman--122-m2/oid/2196244',\n",
       " 'https://www.index.hr/oglasi/rijeka--centar---3s-kl-stan--88-m2/oid/3574033',\n",
       " 'https://www.index.hr/oglasi/super-stan-centar-grada-156-m2/oid/3016332',\n",
       " 'https://www.index.hr/oglasi/rijeka--srdoci---1s-db-stan-s-parkingom-u-novogradnji--43-m2/oid/3509224',\n",
       " 'https://www.index.hr/oglasi/stan-centar--2sb-db-s-balkonom--100-m2/oid/3738001',\n",
       " 'https://www.index.hr/oglasi/bulevard--102-m2--lodja--pogled-na-more/oid/2111976',\n",
       " 'https://www.index.hr/oglasi/zamet--2-stana-332-50m2-garaza--265-000-eur-kn--samo-kod-nas/oid/1434541',\n",
       " 'https://www.index.hr/oglasi/potok--moderan-3s-kl--91-m2--230-000-/oid/3504830',\n",
       " 'https://www.index.hr/oglasi/rijeka--stan-u-strogom-centru-u-blizini-korza/oid/3608587',\n",
       " 'https://www.index.hr/oglasi/stan-centar--rijeka--109m2/oid/2238079',\n",
       " 'https://www.index.hr/oglasi/srdoci--51-57m2--novogradnja--1-sobni-stan-s-db--balkon--gar/oid/2987498',\n",
       " 'https://www.index.hr/oglasi/dvoetazni-3s-db-stan---zamet---prilika--/oid/2528518',\n",
       " 'https://www.index.hr/oglasi/adaptiran--gospodski-stan-85m2-u-blizini-samog-centra-/oid/3726197',\n",
       " 'https://www.index.hr/oglasi/drenova--novogradnja-2s-db-na-1-katu/oid/3771316',\n",
       " 'https://www.index.hr/oglasi/rijeka--donja-drenova---namjesten-3s-db-stan-s-lodjom/oid/3468147',\n",
       " 'https://www.index.hr/oglasi/hosti--3s--dvoetazni-stan--145-500-eur/oid/2345293',\n",
       " 'https://www.index.hr/oglasi/krimeja---prodaja-novoadaptiranog-dvosobnog-stana--53-m2/oid/3750389',\n",
       " 'https://www.index.hr/oglasi/belveder--izuzetnih-30-m2---lift-u-zgradi/oid/3722072',\n",
       " 'https://www.index.hr/oglasi/zamet--2s-3s-db/oid/3366510',\n",
       " 'https://www.index.hr/oglasi/turnic--3-apartmana--investicijsko-blago/oid/3099756',\n",
       " 'https://www.index.hr/oglasi/rijeka--potok---1s-kl-stan--2-kat/oid/3518151',\n",
       " 'https://www.index.hr/oglasi/mlaka--renoviran-stan-od-59-26-m2-s-balkonom/oid/2129343',\n",
       " 'https://www.index.hr/oglasi/rijeka--banderovo---3s-db-stan-s-parkingom-u-novogradnji/oid/3494025',\n",
       " 'https://www.index.hr/oglasi/banderovo--125m2--4s-kl--1kat/oid/1435239',\n",
       " 'https://www.index.hr/oglasi/-zamet--2s-db--terasa--parkirno-mjesto/oid/3411105',\n",
       " 'https://www.index.hr/oglasi/stan-centar--200m2--6skl/oid/3298136',\n",
       " 'https://www.index.hr/oglasi/rijeka--srdoci--novogradnja--2s-db--balkon--okucnica/oid/3654246',\n",
       " 'https://www.index.hr/oglasi/rijeka-strogi-centar---cetverosoban-stan/oid/1448299',\n",
       " 'https://www.index.hr/oglasi/brajda--3s-db--88-55m2--88-000-eur-kn/oid/3771181',\n",
       " 'https://www.index.hr/oglasi/centar--93m2--3-soban-stan-u-starom-gradu/oid/3764179',\n",
       " 'https://www.index.hr/oglasi/potok-3skl-s-pogledom-na-park--/oid/1626130',\n",
       " 'https://www.index.hr/oglasi/belveder-2s-db-stan-industrijskog-stila-s-visokim-stropovima-namjesten/oid/3385014',\n",
       " 'https://www.index.hr/oglasi/stan-stanovi-rijeka/oid/3706216',\n",
       " 'https://www.index.hr/oglasi/belveder--1s-db-stan-sa-pogledom-na-more--zamjena-za-kucu-sa-dva-st---/oid/3362147',\n",
       " 'https://www.index.hr/oglasi/rijeka--krnjevo---komforan-5s-kl-stan-za-sanaciju-i-adaptaci/oid/3679079',\n",
       " 'https://www.index.hr/oglasi/rijeka--srdoci-2s-db-u-obiteljskoj-kuci-u-mirnom-dijelu-grad/oid/3097667',\n",
       " 'https://www.index.hr/oglasi/gospodski-stan-na-belvederu/oid/2715780',\n",
       " 'https://www.index.hr/oglasi/rijeka--krnjevo---1s-db-stan-s-terasom--panoramski-pogled-na/oid/3505024',\n",
       " 'https://www.index.hr/oglasi/belveder--odlicna-lokacija-/oid/3805570',\n",
       " 'https://www.index.hr/oglasi/rijeka--trsat--stan-135-m2-u-novogradnji/oid/3583730',\n",
       " 'https://www.index.hr/oglasi/novouredjeni-stan-sa-tri-apartmana-za-investiciju-u-centru-gr/oid/2807622',\n",
       " 'https://www.index.hr/oglasi/stan-rijeka-srdoci-2s-db-75-m-/oid/1032152',\n",
       " 'https://www.index.hr/oglasi/brajda---centar--stan-za-uredjenje-/oid/2212786',\n",
       " 'https://www.index.hr/oglasi/pletenci--stan-3s-db--85m2-u-urbanoj-vili/oid/3783696',\n",
       " 'https://www.index.hr/oglasi/drenova--novogradnja-2s-db-na-2-katu/oid/3771319',\n",
       " 'https://www.index.hr/oglasi/pecine--u-blizini-mora-u-vili--3s-db--terase--garaza--299-000-eur/oid/3219256',\n",
       " 'https://www.index.hr/oglasi/skurinje-2s-db-127-000-eur-kn/oid/3761150',\n",
       " 'https://www.index.hr/oglasi/skurinje--5-soban-stan-sa-terasom-i-konobom/oid/3414798',\n",
       " 'https://www.index.hr/oglasi/75m2--dva-balkona--pogled---/oid/3692007',\n",
       " 'https://www.index.hr/oglasi/novogradnja-zamet/oid/3738044',\n",
       " 'https://www.index.hr/oglasi/2s-db--turnic-10--kat--prodaja/oid/3768685',\n",
       " 'https://www.index.hr/oglasi/turnic---stan-s-pogledom-na-more-2s-db-balkon/oid/3442308',\n",
       " 'https://www.index.hr/oglasi/centar--144-m2--sve-novo--prelijep-stan/oid/2111300',\n",
       " 'https://www.index.hr/oglasi/stan--rijeka--trsat--105m2--4s-db/oid/1438349',\n",
       " 'https://www.index.hr/oglasi/stan-za-adaptaciju--112-m2/oid/3768654',\n",
       " 'https://www.index.hr/oglasi/trsat--etaza-kuce-sa-lijepim-pogledom/oid/3157052',\n",
       " 'https://www.index.hr/oglasi/zamet--3-skl--65-94-m2--103-000-eur-kn-/oid/3690833',\n",
       " 'https://www.index.hr/oglasi/trsat-stan-za-investiciju-/oid/3657583',\n",
       " 'https://www.index.hr/oglasi/centar--84-79m2--165-000-eur-kn/oid/1434811',\n",
       " 'https://www.index.hr/oglasi/rijeka--brajda-belveder--100m2--trosobni-stan/oid/1437604',\n",
       " 'https://www.index.hr/oglasi/trsat--stan-u-modernoj-novogradnji--2s-db-od-74-8-m2/oid/3751888',\n",
       " 'https://www.index.hr/oglasi/rijeka--2-s-db-svijetao-stan-s-djelomicnim-pogledom-na-more/oid/3783352',\n",
       " 'https://www.index.hr/oglasi/drenova--mali-stan--45m2--prizemlje/oid/3489657',\n",
       " 'https://www.index.hr/oglasi/stan-centar--1sb-db--30-m2/oid/3712165',\n",
       " 'https://www.index.hr/oglasi/rijeka--brajda---novouredjen-2s-db--75-m2/oid/3742891',\n",
       " 'https://www.index.hr/oglasi/stan-donji-zamet-marceljeva-draga-komforni-2s-db/oid/3664973',\n",
       " 'https://www.index.hr/oglasi/stan-na-atraktivnoj-lokaciji--turnic--rijeka/oid/3409416',\n",
       " 'https://www.index.hr/oglasi/srdoci--1s-db--50m2--novogradnja--170-000-eur-kn/oid/3576438',\n",
       " 'https://www.index.hr/oglasi/zamet--118m2--4s-kl--1-kat--balkon--100-000-eur-kn-/oid/1435133',\n",
       " 'https://www.index.hr/oglasi/rijeka--belveder---etaza-na-savrsenoj-lokaciji/oid/3287630',\n",
       " 'https://www.index.hr/oglasi/kantrida--84-m2--3s-db--145-000-eur-kn/oid/3254546',\n",
       " 'https://www.index.hr/oglasi/srdoci--4s-db-stan-u-novogradnji--108-m2--2-park-mjesta--pog/oid/1619460',\n",
       " 'https://www.index.hr/oglasi/rijeka-siri-centar-luksuzni-stan-u-vili/oid/3690916',\n",
       " 'https://www.index.hr/oglasi/donja-drenova--penthouse-3s-db--116-51m2/oid/3707803',\n",
       " 'https://www.index.hr/oglasi/rijeka--marceljeva-draga---stan-100m2-sa-privatnom-okucnicom/oid/3341892',\n",
       " 'https://www.index.hr/oglasi/donja-vezica---etaza-kuce-na-trazenoj-lokaciji-/oid/2760800',\n",
       " 'https://www.index.hr/oglasi/rijeka--donji-zamet---stan-2s-db--odlicna-lokacija/oid/3664498',\n",
       " 'https://www.index.hr/oglasi/rijeka--donja-drenova--112-60m2--stan-s-galerijom-i-terasom/oid/3642791',\n",
       " 'https://www.index.hr/oglasi/pecine--1s-db--41m2--1--red-do-mora/oid/3619540',\n",
       " 'https://www.index.hr/oglasi/rijeka--donja-drenova--novogradnja--3s-db/oid/3726474',\n",
       " 'https://www.index.hr/oglasi/stan-stanovi-rijeka/oid/3709429',\n",
       " 'https://www.index.hr/oglasi/krnjevo--55m2--2-soban-s-dnevnim-boravkom--dva-balkona/oid/2328201',\n",
       " 'https://www.index.hr/oglasi/uzi-centar--107-m2--moderan--kompletno-renoviran/oid/3398033',\n",
       " 'https://www.index.hr/oglasi/rijeka--bulevard--74m2--2-sobni-stan-s-db--lodja/oid/1438278',\n",
       " 'https://www.index.hr/oglasi/rijeka--stan-100-m2/oid/2624427',\n",
       " 'https://www.index.hr/oglasi/rijeka--centar---4s-db-na-korzu--124-m2/oid/3742887',\n",
       " 'https://www.index.hr/oglasi/donji-zamet--105m2--2-soban-s-dnevnim-boravkom/oid/2151055',\n",
       " 'https://www.index.hr/oglasi/turnic--2s-db--103-000-eur/oid/3398074',\n",
       " 'https://www.index.hr/oglasi/rijeka--krnjevo--2-sobni-stan-s-db--balkon---lodja/oid/2555815',\n",
       " 'https://www.index.hr/oglasi/odlicna-lokacija--odlicne-etaze--stana---80-m2--2s-db---sa-t/oid/3535821',\n",
       " 'https://www.index.hr/oglasi/centar--2s-db--74m2--125-000-eur-kn/oid/3728068',\n",
       " 'https://www.index.hr/oglasi/rijeka--d--drenova-stan-146-m2--garaza/oid/3596727',\n",
       " 'https://www.index.hr/oglasi/stan-rijeka-donja-drenova-210-m--2-stana/oid/1439152',\n",
       " 'https://www.index.hr/oglasi/rijeka--turnic---2skl--pogled-na-more--lift--balkon/oid/3642633',\n",
       " 'https://www.index.hr/oglasi/rijeka--pecine--80-m2--2-s-db/oid/3636097',\n",
       " 'https://www.index.hr/oglasi/turnic--2s-db--99-500-00eur/oid/2972403',\n",
       " 'https://www.index.hr/oglasi/marceljeva-draga-ekskluzivan-stan/oid/1433841',\n",
       " 'https://www.index.hr/oglasi/stan--rijeka--centar--65m2--3-soban/oid/1437515',\n",
       " 'https://www.index.hr/oglasi/belveder--112m2--5-soban-sa-dva-balkona/oid/3715139',\n",
       " 'https://www.index.hr/oglasi/rijeka--centar---odlicna-prilika-za-investiciju-u-strogom-ce/oid/3542575',\n",
       " 'https://www.index.hr/oglasi/rijeka-centar-stan-109-m2/oid/3321803',\n",
       " 'https://www.index.hr/oglasi/rijeka---costabella--stan-u-novogradnji--sa-divnim-pogledom-na-more--/oid/2821506',\n",
       " 'https://www.index.hr/oglasi/65m2--2s-db--okucnica---/oid/3676013',\n",
       " 'https://www.index.hr/oglasi/rijeka--belveder--etaza--2s-db-sobica--velika-terasa--pogled/oid/3362619',\n",
       " 'https://www.index.hr/oglasi/bulevard/oid/3339823',\n",
       " 'https://www.index.hr/oglasi/trsat--etaza-kuce-s-velikom-terasom-i-pogledom/oid/3514407',\n",
       " 'https://www.index.hr/oglasi/rijeka--marceljeva-draga--stan-78-m2-s-pogledom-na-more/oid/3805409',\n",
       " 'https://www.index.hr/oglasi/centar--prostor-za-investiciju/oid/3804148',\n",
       " 'https://www.index.hr/oglasi/brascine-2-stana-u-prizemlju-kuce-45-m2-i-48-m2-/oid/3688139',\n",
       " 'https://www.index.hr/oglasi/rijeka--drenova---stan-1s-db-u-novogradnji-na-odlicnoj-lokac/oid/3710756',\n",
       " 'https://www.index.hr/oglasi/potok-5s-stan-104m2-razdijeljen-na-dva-stana-3s-62m2----2s-42m2-/oid/1561440',\n",
       " 'https://www.index.hr/oglasi/hosti--potpuno-namjesten-2s-db-stan/oid/2797438',\n",
       " 'https://www.index.hr/oglasi/zamet--3s-db/oid/3684381',\n",
       " 'https://www.index.hr/oglasi/centar--stan---4-sobe--77m2/oid/3457492',\n",
       " 'https://www.index.hr/oglasi/rijeka--centar-/oid/2951085',\n",
       " 'https://www.index.hr/oglasi/rijeka--kantrida--89-54m2--odlican-stan-na-izvrsnoj-poziciji/oid/3712439',\n",
       " 'https://www.index.hr/oglasi/centar--blizina-korza--127m2--3-stambene-jedinice/oid/3285684',\n",
       " 'https://www.index.hr/oglasi/rijeka--turnic---2s-db/oid/3712144',\n",
       " 'https://www.index.hr/oglasi/centar---3s-db--odlican-stan-u-centru-gradu-/oid/3127886',\n",
       " 'https://www.index.hr/oglasi/rijeka--srdoci---2s-db-u-novijoj-gradnj/oid/3452833',\n",
       " 'https://www.index.hr/oglasi/rijeka-centar--stan-115-m2--4skl--238-000-eur-kn-samo-u-cons/oid/3299553',\n",
       " 'https://www.index.hr/oglasi/adaptiran-stan-na-krnjevu-/oid/1448346',\n",
       " 'https://www.index.hr/oglasi/etaza-s-okucnicom-u-centru-grada/oid/3509114',\n",
       " 'https://www.index.hr/oglasi/52m2--2skl--prekrasan-pogled---/oid/3582621',\n",
       " 'https://www.index.hr/oglasi/rijeka--donja-drenova--novogradnja--1s-db/oid/3726467',\n",
       " 'https://www.index.hr/oglasi/70m2--2s-db--balkon--pogled---/oid/3573805',\n",
       " 'https://www.index.hr/oglasi/donja-drenova-74m2-3s-db--balkon-/oid/2045593',\n",
       " 'https://www.index.hr/oglasi/rijeka--centar---stan-u-blizini-centra-/oid/3350363',\n",
       " 'https://www.index.hr/oglasi/95m2--stan-u-samom-centru--moguce-dobiti-dva-stana/oid/3088690',\n",
       " 'https://www.index.hr/oglasi/samo-kod-nas---prodaja-stana-na-kantridi-3s-db--131-45-m2/oid/3732431',\n",
       " 'https://www.index.hr/oglasi/mlaka--97-m---4skl--nova-stolarija-/oid/3479810',\n",
       " 'https://www.index.hr/oglasi/rijeka--trsat--2-stana--velika-terasa/oid/3547318',\n",
       " 'https://www.index.hr/oglasi/rijeka--donji-zamet---3s-kl-na-trazenoj-lokaciji/oid/3676249',\n",
       " 'https://www.index.hr/oglasi/stan-sa-tri-apartmana-u-centru/oid/3698467',\n",
       " 'https://www.index.hr/oglasi/skurinje--2-stana--ukupno-80-m2/oid/3194725',\n",
       " 'https://www.index.hr/oglasi/rijeka--turnic---1s-db-stan--nova-fasada--pvc-stolarija--pan/oid/3780468',\n",
       " 'https://www.index.hr/oglasi/turnic---prodaja-2s-db-stana--57m2/oid/347657',\n",
       " 'https://www.index.hr/oglasi/rijeka--krimeja--3-sobni-stan-s-db--balkon-i-dvoriste/oid/3519684',\n",
       " 'https://www.index.hr/oglasi/odlican-stan-u-centru-grada/oid/3460373',\n",
       " 'https://www.index.hr/oglasi/stan--hosti--1s-db---sa-galerijom/oid/1625831',\n",
       " 'https://www.index.hr/oglasi/potok---stan-96-m2/oid/2300357',\n",
       " 'https://www.index.hr/oglasi/stan-centar/oid/3335912',\n",
       " 'https://www.index.hr/oglasi/pecine--2-garsonijere--37-m2-i-33-m2/oid/3720353',\n",
       " 'https://www.index.hr/oglasi/trsat--stan-u-kuci-sa-malom-okucnicom/oid/2465495',\n",
       " 'https://www.index.hr/oglasi/66m2--adaptiran-stan--balkon---/oid/3566050',\n",
       " 'https://www.index.hr/oglasi/brajda--5skl--121-m2--1--kat--/oid/3166108',\n",
       " 'https://www.index.hr/oglasi/prilika----grbci--stan-u-prizemlju-1s-db--44-m2-/oid/3693329',\n",
       " 'https://www.index.hr/oglasi/srdoci--stan-96m2--3s-db--2-balkona--pogled--2-parkirna-mjesta/oid/1714873',\n",
       " 'https://www.index.hr/oglasi/vezica--etaza-s-pogledom-na-more/oid/3464089',\n",
       " 'https://www.index.hr/oglasi/pecine--stan-u-vili-sa-pogledom-na-more-garazom-i-okucnicom-/oid/1559350',\n",
       " 'https://www.index.hr/oglasi/brascine--dva-stana-44-47m2--prodaja/oid/3629134',\n",
       " 'https://www.index.hr/oglasi/dvosoban-sa-dnevnim-nadomak-centra-grada/oid/1625436',\n",
       " 'https://www.index.hr/oglasi/banderovo--2s-stan-s-vlastitim-parkingom-i-lijepom-okucnicom/oid/3350569',\n",
       " 'https://www.index.hr/oglasi/donja-drenova--centar--1-s-db---44-8-m2--visoko-prizemlje/oid/3616812',\n",
       " 'https://www.index.hr/oglasi/rijeka--turnic---2s-kl-stan--zgrada-s-liftom--52-15-m2/oid/3411469',\n",
       " 'https://www.index.hr/oglasi/centar--brajda--stan-121m2/oid/3123666',\n",
       " 'https://www.index.hr/oglasi/5skl-u-centru-grada/oid/2393869',\n",
       " 'https://www.index.hr/oglasi/gornji-zamet--130-m2--dvoetazni-stan--3-balkona--139-000-eur/oid/3467777',\n",
       " 'https://www.index.hr/oglasi/3s-db-stan-na-potoku/oid/3787888',\n",
       " 'https://www.index.hr/oglasi/rijeka--krimeja--2s-db--balkon--okucnica/oid/3519681',\n",
       " 'https://www.index.hr/oglasi/mlaka---stan-1s-db---52m2/oid/3750685',\n",
       " 'https://www.index.hr/oglasi/pecine---stan-u-staroj-vili--1--red-do-mora--40m2/oid/3635748',\n",
       " 'https://www.index.hr/oglasi/rijeka-siri-centar/oid/3747239',\n",
       " 'https://www.index.hr/oglasi/stan-kantrida-72-m--3s-db/oid/1027475',\n",
       " 'https://www.index.hr/oglasi/zamet--36m2--1s---db--i-kat/oid/1435079',\n",
       " 'https://www.index.hr/oglasi/turnic---stan-2s-db---77m2---lodja---jug---pogled-na-more/oid/2954480',\n",
       " 'https://www.index.hr/oglasi/krimeja--3s-db--117m2--290-000-eur-kn/oid/3750478',\n",
       " 'https://www.index.hr/oglasi/krimeja-vrhunski-projekt--2s-db/oid/2111524',\n",
       " 'https://www.index.hr/oglasi/centar--stan-na-par-koraka-od-korza-i-rive/oid/3645733',\n",
       " 'https://www.index.hr/oglasi/drenova--novogradnja-1s-db-na-2-katu/oid/3771310',\n",
       " 'https://www.index.hr/oglasi/rijeka--kozala---dvoetazni-stan--70-m2--2s-db--pogled-/oid/3701904',\n",
       " 'https://www.index.hr/oglasi/centar--uredjen-stan-na-korzu/oid/3700504',\n",
       " 'https://www.index.hr/oglasi/centar--uredan-2-soban-stan-blizu-korza/oid/3493965',\n",
       " 'https://www.index.hr/oglasi/rijeka--brajda---4s-db-stan--1-kat--88-75-m2/oid/3376678',\n",
       " 'https://www.index.hr/oglasi/rijeka--susacka-draga---trosoban-stan/oid/3669050',\n",
       " 'https://www.index.hr/oglasi/rijeka--donja-drenova--novogradnja--2s-db/oid/3726466',\n",
       " 'https://www.index.hr/oglasi/3s-db--62m---blizina-centra/oid/2924483',\n",
       " 'https://www.index.hr/oglasi/centar--112m2--5-sobni-klasicni-stan--100m-od-korza/oid/3769619',\n",
       " 'https://www.index.hr/oglasi/rijeka--centar---4s-kl-stan-kod-trznice--130-m2/oid/3742861',\n",
       " 'https://www.index.hr/oglasi/zamet--dvoetazni-stan--136-m2--113-000-/oid/2186892',\n",
       " 'https://www.index.hr/oglasi/pehlin---prodaja-1s-db-stan--58-m2/oid/339783',\n",
       " 'https://www.index.hr/oglasi/mlaka---rijetkost-na-trzistu--2s-stan-s-pogledom-n-m/oid/2261780',\n",
       " 'https://www.index.hr/oglasi/zamet--novogradnja--trosoban-stan/oid/3751983',\n",
       " 'https://www.index.hr/oglasi/stan--rijeka--banderovo--63-57-m2--2s-kl--103-000-/oid/1437697',\n",
       " 'https://www.index.hr/oglasi/rijeka--strogi-centar---stan-za-investiciju--3-jedinice--pri/oid/3731033',\n",
       " 'https://www.index.hr/oglasi/stan-brajda/oid/2261818',\n",
       " 'https://www.index.hr/oglasi/rijeka--pecine---stan-prvi-red-do-mora-sa-garazom/oid/3437363',\n",
       " 'https://www.index.hr/oglasi/belveder---potpuno-adaptiran-stan-2s-db---64m2---jug---odlican-za-i---/oid/2801310',\n",
       " 'https://www.index.hr/oglasi/rijeka--gornji-zamet---lijepo-uredjen-stan-1s-db/oid/3765471',\n",
       " 'https://www.index.hr/oglasi/rijeka--belveder--stan-87-m2--2-balkona--renovirano/oid/2901492',\n",
       " 'https://www.index.hr/oglasi/rijeka--centar--5s--odlicna-investicija--kompletno-uredjen-st/oid/3768659',\n",
       " 'https://www.index.hr/oglasi/rijeka--trsat---adaptiran-2s-db-s-apartmanom--parking/oid/3284062',\n",
       " 'https://www.index.hr/oglasi/rijeka-banderovo-3s-db-72-00m2/oid/2829093',\n",
       " 'https://www.index.hr/oglasi/donja-vezica--2s-db--balkon--niza-katnost--uredjen--/oid/2821744',\n",
       " 'https://www.index.hr/oglasi/belveder--140-m2--3-kat/oid/3255661',\n",
       " 'https://www.index.hr/oglasi/vojak--2s-db--60-m2--balkon--pogled/oid/3687730',\n",
       " 'https://www.index.hr/oglasi/srdoci--1s-db--novogradnja--jug--pogled--balkon/oid/3678820',\n",
       " 'https://www.index.hr/oglasi/krimeja-vrhunski-projekt--2s-db/oid/2111525',\n",
       " 'https://www.index.hr/oglasi/pecine-ekskluzivan-stan-u-vili-kraj-mora/oid/3303146',\n",
       " 'https://www.index.hr/oglasi/rijeka--centar--stan--2s---db--62-m2/oid/3747623',\n",
       " 'https://www.index.hr/oglasi/centar--70-m2--2skl--140-000-eur-kn/oid/3381671',\n",
       " 'https://www.index.hr/oglasi/belveder--120m2--3skl--369-000-eur-kn/oid/1940722',\n",
       " 'https://www.index.hr/oglasi/centar-grada---odlicna-prilika-za-investiciju-/oid/1729871',\n",
       " 'https://www.index.hr/oglasi/kantrida-etaza-3s-db-sa-balkonom-i-pogledom/oid/3727914',\n",
       " 'https://www.index.hr/oglasi/rijeka--skurinje---1s-db-stan--47-m2/oid/3789554',\n",
       " 'https://www.index.hr/oglasi/centar--1s-db--110-000-eur/oid/2319617',\n",
       " 'https://www.index.hr/oglasi/centar--159m2--5s--175-000-eur-kn/oid/2711942',\n",
       " 'https://www.index.hr/oglasi/turnic-stan-sa-okucnicom/oid/3684633',\n",
       " 'https://www.index.hr/oglasi/stan-marceljeva-draga--126-m2--279-000-eur-kn/oid/3672807',\n",
       " 'https://www.index.hr/oglasi/rijeka--d--vezica--stan--80-m2--2s---db--garaza--tavan---/oid/3495362',\n",
       " 'https://www.index.hr/oglasi/mlaka--66-57m2--2s-db--100-000-eur-kn/oid/2637130',\n",
       " 'https://www.index.hr/oglasi/drenova--novogradnja-na-atraktivnoj-lokaciji--2s-db-od-75-m2/oid/3722067',\n",
       " 'https://www.index.hr/oglasi/banderovo--jednosoban-stan-od-46-m2/oid/3733880',\n",
       " 'https://www.index.hr/oglasi/pecine--rijetkost-na-trzistu--prvi-red-do-mora-1sb-db/oid/3710658',\n",
       " 'https://www.index.hr/oglasi/rijeka--centar--5s-db--2-terase--par-minuta-od-korza/oid/2460414',\n",
       " 'https://www.index.hr/oglasi/turnic--preuredjen-2-soban-s-dnevnim-boravkom--pogled-na-more/oid/3741260',\n",
       " 'https://www.index.hr/oglasi/stan-s-prekrasnim-pogledom--pehlin/oid/3285972',\n",
       " 'https://www.index.hr/oglasi/rijeka---pecine--4-sobni-stan--140m2/oid/2963491',\n",
       " 'https://www.index.hr/oglasi/rijeka-centar---2-stana----/oid/2343379',\n",
       " 'https://www.index.hr/oglasi/gornja-vezica--stan-55m2--1s-db--balkon/oid/3739823',\n",
       " 'https://www.index.hr/oglasi/banderovo-stan-u-kuci/oid/3689563',\n",
       " 'https://www.index.hr/oglasi/stan-trsat--161-m2---3s-db--prekrasan-dvoetazni-stan/oid/2214030',\n",
       " 'https://www.index.hr/oglasi/rijeka--zamet--79-93m2--parking/oid/3509198',\n",
       " 'https://www.index.hr/oglasi/luksuzni-novoizgradjeni-stanovi-prvi-red-do-mora/oid/3632940',\n",
       " 'https://www.index.hr/oglasi/rijeka--centar--stan-2s-db--balkon--pogled/oid/3582748',\n",
       " 'https://www.index.hr/oglasi/rijeka--potok---prostran-3-sobni-stan-za-investiciju/oid/3755204',\n",
       " 'https://www.index.hr/oglasi/rijeka--belveder---3s-db-stan--2-kat--parking/oid/3720632',\n",
       " 'https://www.index.hr/oglasi/zamet--109m2--uredjen-4-soban-s-dnevnim-boravkom--balkon/oid/3523260',\n",
       " 'https://www.index.hr/oglasi/bulevard---lijepi-2s-db-stan-na-odlicnoj-lokaciji-/oid/2877834',\n",
       " 'https://www.index.hr/oglasi/odlican-stan-u-centru-rijeke/oid/3352153',\n",
       " 'https://www.index.hr/oglasi/krimeja--etaza-sa-garazom-i-dvoristem/oid/3350557',\n",
       " 'https://www.index.hr/oglasi/prodaja-stana-s-vrtom-i-terasom-na--banderovu--46m2/oid/3739594',\n",
       " 'https://www.index.hr/oglasi/rjetkost-u-ponudi-pecine-stan-113-m2--4s-db-okucnica-150-m2/oid/3668970',\n",
       " 'https://www.index.hr/oglasi/trsat--stan-3s-kl--88-m2--1--kat/oid/3762640',\n",
       " 'https://www.index.hr/oglasi/turnic-stan--54-m2--135-000-eur/oid/3627757',\n",
       " 'https://www.index.hr/oglasi/rijeka--donji-zamet--novogradnja-3-db-stan/oid/3722195',\n",
       " 'https://www.index.hr/oglasi/brajda---uredjen-stan-2s-db---100m2---balkon/oid/2621136',\n",
       " 'https://www.index.hr/oglasi/krnjevo-n-n--2skl--133-000-eur-kn/oid/3488021',\n",
       " 'https://www.index.hr/oglasi/donji-zamet--2skl--56-96m2/oid/3796370',\n",
       " 'https://www.index.hr/oglasi/donja-vezica---stan-na-prizemlju-kuce-sa-parkingom/oid/3206771',\n",
       " 'https://www.index.hr/oglasi/donja-drenova--dvoetazni-stan--pogled-na-more-okucnica--parking/oid/3674303',\n",
       " 'https://www.index.hr/oglasi/donja-vezica-3-sobni-stan--1-kat--novogradnja-/oid/3555413',\n",
       " 'https://www.index.hr/oglasi/78m2--4skl--prostran-balkon--pogled---/oid/3644095',\n",
       " 'https://www.index.hr/oglasi/kozala--etaza-s-okucnicom-i-pogledom-na-more/oid/3747271',\n",
       " 'https://www.index.hr/oglasi/centar--56m2--2s-db--73-000-eur-kn/oid/2449434',\n",
       " 'https://www.index.hr/oglasi/podmurvice--stan-3s-db--lodja--pogled-na-more--1-kat--nova-fa/oid/3655920',\n",
       " 'https://www.index.hr/oglasi/rijeka--banderovo---3s-db-stan-s-parkingom-u-novogradnji/oid/3494024',\n",
       " 'https://www.index.hr/oglasi/rijeka--centar--peterosoban-stan--109-m2-/oid/3020510',\n",
       " 'https://www.index.hr/oglasi/trsat---stan-sa-parkingom--dvoristem-i-pogledom--100m2-/oid/3456132',\n",
       " 'https://www.index.hr/oglasi/stan-krimeja/oid/3775020',\n",
       " 'https://www.index.hr/oglasi/belveder-centar--2s-db--67-m2/oid/2432380',\n",
       " 'https://www.index.hr/oglasi/rijeka--belveder---etaza-na-savrsenoj-lokaciji/oid/3287629',\n",
       " 'https://www.index.hr/oglasi/stan-stanovi-kostrena/oid/3706226',\n",
       " 'https://www.index.hr/oglasi/rijeka--belveder---2s-db---90m2/oid/2885001',\n",
       " 'https://www.index.hr/oglasi/bulevard-2s-db/oid/3538795',\n",
       " 'https://www.index.hr/oglasi/bulevard--etaza-vile--6s-kl--luksuzan-stan-na-1--katu--330-0/oid/1435185',\n",
       " 'https://www.index.hr/oglasi/stan-rijeka--banderovo--4s-db-131-25m2-i-okucnica-292m2/oid/1436354',\n",
       " 'https://www.index.hr/oglasi/pehlin-90m2-kuca-stan-sa-poslovnim-prostorom-s-izlogom/oid/1631803',\n",
       " 'https://www.index.hr/oglasi/rijeka--banderevo---stan-3s-db-blizu-svih-sadrzaja/oid/3378591',\n",
       " 'https://www.index.hr/oglasi/stan-rijeka-centar/oid/3613052',\n",
       " 'https://www.index.hr/oglasi/stan-zamet--1s-db--64-62m2/oid/3666088',\n",
       " 'https://www.index.hr/oglasi/centar--95m2--2-soban-sa-dnevnim-boravkom--uredjen-za-investi/oid/3652524',\n",
       " 'https://www.index.hr/oglasi/rijeka--turnic---2s-db--balkon--juzna-strana/oid/3525894',\n",
       " 'https://www.index.hr/oglasi/rijeka-centar---nekoliko-koraka-do-korza/oid/3747227',\n",
       " 'https://www.index.hr/oglasi/rijeka--krimeja---4skl-stan-s-okucnicom-na-odlicnoj-lokaciji/oid/3366124',\n",
       " 'https://www.index.hr/oglasi/centar--6-s--4--kat--pogled-na-more-i-korzo--/oid/3335728',\n",
       " 'https://www.index.hr/oglasi/stan--centar--108m2--4s-kl/oid/1437532',\n",
       " 'https://www.index.hr/oglasi/rijeka--mlaka--2-stana-odlicna-za-investiciju/oid/2102330',\n",
       " 'https://www.index.hr/oglasi/trsat-stan-u-kuci/oid/3507834',\n",
       " 'https://www.index.hr/oglasi/gornji-zamet--3sb-db--145-m2/oid/3789316',\n",
       " 'https://www.index.hr/oglasi/rijeka--pecine---3s-db-stan-s-garazom-u-villi--130-m2/oid/3742878',\n",
       " 'https://www.index.hr/oglasi/centar--stan-96-09-m2--idealan-za-ordinaciju/oid/3456103',\n",
       " 'https://www.index.hr/oglasi/rijeka--donja-vezica-novogradnja--stan-2s-db-s-okucnicom-400/oid/3575434',\n",
       " 'https://www.index.hr/oglasi/stan-turnic/oid/3664503',\n",
       " 'https://www.index.hr/oglasi/mlaka---3s-stan-sa-lijepom-okucnicom-koja-je-u-vlasnistvu/oid/3045268',\n",
       " 'https://www.index.hr/oglasi/krimeja--interesantan-dvoetazni-4s-db-stan/oid/2706467',\n",
       " 'https://www.index.hr/oglasi/grbci-3sb-db-145-m2-dvoetazni-stan/oid/3664554',\n",
       " 'https://www.index.hr/oglasi/stan-u-centru--10-metara-od-korza--95-m2-s-balkonom/oid/3672744',\n",
       " 'https://www.index.hr/oglasi/potok--1--kat--95m2--175-000-/oid/515176',\n",
       " 'https://www.index.hr/oglasi/turnic-2s-db/oid/3638776',\n",
       " 'https://www.index.hr/oglasi/centar--101m2--3s-kl--nizi-kat--dva-balkona/oid/1435243',\n",
       " 'https://www.index.hr/oglasi/bulevard-2s-db--134-7-m2/oid/2111356',\n",
       " 'https://www.index.hr/oglasi/stari-grad/oid/3554139',\n",
       " 'https://www.index.hr/oglasi/podmurvice--2s-db--juzni-stan-s-velikom-loggiom--pogled-na-m/oid/3343221',\n",
       " 'https://www.index.hr/oglasi/rijeka--centar---stan-u-strogom-centru-na-jedinstvenoj-lokac/oid/3648780',\n",
       " 'https://www.index.hr/oglasi/rijeka--vojak--69m2--u-naravi-2-stana--balkon--pogled/oid/3280963',\n",
       " 'https://www.index.hr/oglasi/donji-zamet--etaza-s-okucnicom-od-400m2/oid/3747222',\n",
       " 'https://www.index.hr/oglasi/rijeka--brajda--102-73m2--3-sobni-stan-s-balkonom/oid/3067709',\n",
       " 'https://www.index.hr/oglasi/podmurvice--1s-db--balkon--predivan-pogled/oid/3542559',\n",
       " 'https://www.index.hr/oglasi/rijeka--krnjevo--stan--2s-klasican--56-m2/oid/3325458',\n",
       " 'https://www.index.hr/oglasi/2s-db--uredjen-i-namjesten--2-balkona-/oid/2929094',\n",
       " 'https://www.index.hr/oglasi/prodaja-dvoetaznog-stana-na-grpcima-3s-db--145-m2/oid/3805490',\n",
       " 'https://www.index.hr/oglasi/stan--rijeka-kozala--86m2--3s-db/oid/2815653',\n",
       " 'https://www.index.hr/oglasi/centar--kod-guvernerove--2sdb--90-m2--trenutno-u-funkciji-ur/oid/2112073',\n",
       " 'https://www.index.hr/oglasi/trsat--novogradnja-3s-db/oid/3780534',\n",
       " 'https://www.index.hr/oglasi/krimeja--etaza--70m2--2s-db/oid/3689614',\n",
       " 'https://www.index.hr/oglasi/bivio--trosobni-penthouse-s-predivnim-pogledom-na-kvarner-/oid/3414721',\n",
       " 'https://www.index.hr/oglasi/rijeka--belveder--68-26m2--odlican-1s-db--balkon/oid/3712436',\n",
       " 'https://www.index.hr/oglasi/susak--3s-db--prvi-kat--terasa/oid/3270880',\n",
       " 'https://www.index.hr/oglasi/stan-za-prodaju-u-blizini-centra-susak-od--61-m2-2s-db/oid/3255971',\n",
       " 'https://www.index.hr/oglasi/rijeka--pehlin---novogradnja--stan-od-59m2-pogled-na-more/oid/3762857',\n",
       " 'https://www.index.hr/oglasi/rijeka--donja-drenova--novogradnja--2s-db/oid/3726461',\n",
       " 'https://www.index.hr/oglasi/martinkovac-trosobni-stan---rijetkost/oid/1444712',\n",
       " 'https://www.index.hr/oglasi/rijeka--belveder---3s-kl-s-okucnicom-na-koristenje--85-75-m2/oid/3742900',\n",
       " 'https://www.index.hr/oglasi/trsat--moderna-novogradnja-na-atraktivnoj-lokaciji--2s-db-od/oid/3751885',\n",
       " 'https://www.index.hr/oglasi/rijeka-trsat-3s-db-110-m2/oid/2317327',\n",
       " 'https://www.index.hr/oglasi/rijeka--brajda---adaptiran-4s-kl-stan--2-kat--2-balkona/oid/3641349',\n",
       " 'https://www.index.hr/oglasi/rijeka--belveder---prostran-i-odlican-2s-db-stan-97m2--samo-/oid/3786925',\n",
       " 'https://www.index.hr/oglasi/rijeka--kantrida--luksuzni-3-sobni-s-dnevnim-boravkom/oid/2557500',\n",
       " 'https://www.index.hr/oglasi/donja-drenova---prilika---prekrasan-dvoetazni-stan/oid/3280956',\n",
       " 'https://www.index.hr/oglasi/rijeka--korzo---namjesten-dvosobni-stan-69m2/oid/3479476',\n",
       " 'https://www.index.hr/oglasi/bulevard--dvoetazan-stan-od-117-m2/oid/1441703',\n",
       " 'https://www.index.hr/oglasi/rijeka--trsat--stan-92-m2-s-okucnicom-/oid/3786847',\n",
       " 'https://www.index.hr/oglasi/banderovo--4skl--125m2--298-000-eur-kn/oid/3762881',\n",
       " 'https://www.index.hr/oglasi/prodaja-etaze-na-gornjem-zametu--3s-db--150-m2--/oid/3499518',\n",
       " 'https://www.index.hr/oglasi/rijeka--brajda---adaptiran-1s-db-stan--2-lodje-i-balkon--85-m/oid/3669131',\n",
       " 'https://www.index.hr/oglasi/rijeka--grbci---stan--2s-db--81-m2--novija-gradnja--balkon--/oid/2915322',\n",
       " 'https://www.index.hr/oglasi/marceljeva-draga/oid/3755539',\n",
       " 'https://www.index.hr/oglasi/rijeka--vojak---2s-db--zgrada-s-liftom--60-m2/oid/3771257',\n",
       " 'https://www.index.hr/oglasi/stan--belveder--120m2--2s-db--vrhunski-uredjen/oid/2151211',\n",
       " 'https://www.index.hr/oglasi/bulevard-3s-db/oid/3741076',\n",
       " 'https://www.index.hr/oglasi/rijeka-trsat---vrhunski-3s-db-stan-u-ultra-modernoj-novograd/oid/3755212',\n",
       " 'https://www.index.hr/oglasi/susak--4s-db-preuredjen-u-2-stana-za-renovaciju--prilika-za-investiciju/oid/3658773',\n",
       " 'https://www.index.hr/oglasi/turnic--2s-kl--38-40-m2--109-900-/oid/3748714',\n",
       " 'https://www.index.hr/oglasi/stan-krimeja--3s-db--konoba/oid/3638920',\n",
       " 'https://www.index.hr/oglasi/drenova--2s-db--115-000-eur/oid/2948210',\n",
       " 'https://www.index.hr/oglasi/rijeka-centar/oid/2108587',\n",
       " 'https://www.index.hr/oglasi/rijeka--centar--144-02m2--gospodski-4-sobni-stan/oid/3664610',\n",
       " 'https://www.index.hr/oglasi/rijeka--kantrida--stan--2s---db--70-m2/oid/3634560',\n",
       " 'https://www.index.hr/oglasi/kozala--2s-db--123-39-m2--2-parkirna-mjesta/oid/2985742',\n",
       " 'https://www.index.hr/oglasi/rijeka--svilno---stan-u-novogradnji-s-garazom/oid/3803959',\n",
       " 'https://www.index.hr/oglasi/stan-krnjevo--184-m2--120-000-eur-kn/oid/3789315',\n",
       " 'https://www.index.hr/oglasi/rijeka--stan-poslovni-prostor-na-korzu/oid/3700421',\n",
       " 'https://www.index.hr/oglasi/rijeka-susak-38m2-za-70-000--novo-u-ponudi/oid/3700635',\n",
       " 'https://www.index.hr/oglasi/srdoci--2-soban-s-dnevnim-boravkom--balkon/oid/3503348',\n",
       " 'https://www.index.hr/oglasi/rijeka--mlaka---etaza-kuce-s-okucnicom--82-m2/oid/3802747',\n",
       " 'https://www.index.hr/oglasi/predivan-stan-159-m2--6s-db-centar/oid/2265872',\n",
       " 'https://www.index.hr/oglasi/stan-u-centru-rijeke--64m2--2s-db/oid/3403272',\n",
       " 'https://www.index.hr/oglasi/srdoci-dva-stana--1s-db-41-m2---60-m2/oid/634424',\n",
       " 'https://www.index.hr/oglasi/centar--odlicna-lokacija--100-m2--pogled-na-buducu-mega-mari/oid/3640331',\n",
       " 'https://www.index.hr/oglasi/centar--123-m----3s-db/oid/2624386',\n",
       " 'https://www.index.hr/oglasi/banderovo-novogradnja--3s-db-od-96-m2-sa-prekrasnim-pogledom/oid/3728025',\n",
       " 'https://www.index.hr/oglasi/centar--stan--78-500-eur/oid/2698209',\n",
       " 'https://www.index.hr/oglasi/srdoci--novogradnja--3s-db--84-m2--garaza-/oid/3312040',\n",
       " 'https://www.index.hr/oglasi/trsat--161m2--3-soban-s-dnevnim-boravkom/oid/3055095',\n",
       " 'https://www.index.hr/oglasi/mlaka--uredan-2-soban-s-dnevnim-boravkom/oid/3335926',\n",
       " 'https://www.index.hr/oglasi/srdoci--novija-zgrada--50-m2--jug--panoramski-pogled/oid/3572419',\n",
       " 'https://www.index.hr/oglasi/belveder--5-sobni-gospodski-stan--159-12m2/oid/3808062',\n",
       " 'https://www.index.hr/oglasi/centar--2s-db--78-14-m2--99-000-eur-kn-/oid/3490864',\n",
       " 'https://www.index.hr/oglasi/brajda-blizina-centra-grada/oid/1438911',\n",
       " 'https://www.index.hr/oglasi/rijeka--podmurvice--etaza-kuce-od-99-80m2/oid/3319547',\n",
       " 'https://www.index.hr/oglasi/samo-kod-nas---brajda---odlican-stan-na-atraktivnoj-lokaciji-/oid/3141007',\n",
       " 'https://www.index.hr/oglasi/prekrasan-stan-72m2---pecine-rijeka/oid/3686177',\n",
       " 'https://www.index.hr/oglasi/rijeka-centar--stan-za-adaptaciju-odlicnog-rasporeda/oid/3747269',\n",
       " 'https://www.index.hr/oglasi/krnjevo-3-skl--82-m2-stan-u-staroj-villi-sa-terasom--188-000/oid/3723410',\n",
       " 'https://www.index.hr/oglasi/rijeka--bulevard--2s-db-povrsine-52m2-u-vili-na-dobroj-pozic/oid/3282362',\n",
       " 'https://www.index.hr/oglasi/hosti-2sb--db-76m2-sa-panoramskim-pogledom/oid/3702023',\n",
       " 'https://www.index.hr/oglasi/stan-centar-100m2/oid/3198911',\n",
       " 'https://www.index.hr/oglasi/najljepsi-stan-u-gradu-rijeci/oid/1016276',\n",
       " 'https://www.index.hr/oglasi/stan-na-turnicu/oid/3411198',\n",
       " 'https://www.index.hr/oglasi/skoljic--stan-u-centru-grada--idealno-za-investiciju/oid/2954030',\n",
       " 'https://www.index.hr/oglasi/skurinje-n-n--3s-db-76m2--balkon/oid/3519389',\n",
       " 'https://www.index.hr/oglasi/drenova-dvoetazni-stan-3s-db/oid/3652696',\n",
       " 'https://www.index.hr/oglasi/srdoci--65m2-40m2-garaza-i-ostava--110-000-eur-kn/oid/1434921',\n",
       " 'https://www.index.hr/oglasi/krnjevo--179m2--4s---db--prizemlje--terasa--150-000-eur-kn/oid/1435136',\n",
       " 'https://www.index.hr/oglasi/centar--110m2--4skl--145-000-eur-kn/oid/3352298',\n",
       " 'https://www.index.hr/oglasi/stan--centar--96m2--3-soban/oid/2968186',\n",
       " 'https://www.index.hr/oglasi/brajda--3s-db--115-000-eur/oid/2948211',\n",
       " 'https://www.index.hr/oglasi/belveder---stan-na-trazenoj-lokaciji-/oid/2251205',\n",
       " 'https://www.index.hr/oglasi/rijeka-pecine-stan-73-m2-1--kat-/oid/2190208',\n",
       " 'https://www.index.hr/oglasi/rijeka--vojak---ekskluzivno-kod-nas--3s-db-stan-u-novogradnj/oid/3805599',\n",
       " 'https://www.index.hr/oglasi/rijeka--pecine--stan-2s-db-na-trazenoj-lokaciji/oid/3576422',\n",
       " 'https://www.index.hr/oglasi/belveder--2s-db--62m2--8-kat/oid/3655988',\n",
       " 'https://www.index.hr/oglasi/strogi-centar--stan-od-98-m2--prilika-za-investiciju-/oid/3438606',\n",
       " 'https://www.index.hr/oglasi/rijeka-centar--stan-159-m2/oid/2368804',\n",
       " 'https://www.index.hr/oglasi/izvrsna-investicija--stan-na-turnicu-53m2/oid/3592640',\n",
       " 'https://www.index.hr/oglasi/rijeka--zamet---stan-54-m2-s-pogledom-na-more/oid/3554034',\n",
       " 'https://www.index.hr/oglasi/stan-s-pogledom-na-donjoj-drenovi/oid/3805455',\n",
       " 'https://www.index.hr/oglasi/stan-zamet--1skl/oid/3783750',\n",
       " 'https://www.index.hr/oglasi/srdoci--2s-db--55m2-krovna-terasa--178-000-eur-kn/oid/3542654',\n",
       " 'https://www.index.hr/oglasi/centar--novouredjeni-stan-pregradjen-u-dva-manja/oid/469504',\n",
       " 'https://www.index.hr/oglasi/rijeka--podmurvice--2s-db--lodja/oid/3679127',\n",
       " 'https://www.index.hr/oglasi/vojak--54-38m2--2s-db--155-000-eur-kn/oid/2638342',\n",
       " 'https://www.index.hr/oglasi/stan-turnic--52-m2--114-000-eur-kn/oid/3638740',\n",
       " 'https://www.index.hr/oglasi/trsat--2-stana-65m2-i-88-m2--285000-/oid/2906728',\n",
       " 'https://www.index.hr/oglasi/rijeka--srdoci---novogradnja--2s-db-stan-s-parkingom-i-okucn/oid/3468139',\n",
       " 'https://www.index.hr/oglasi/rijeka--kozala---stan-2s-db-na-odlicnoj-poziciji/oid/3658890',\n",
       " 'https://www.index.hr/oglasi/rijeka--stan-56-m2/oid/2722951',\n",
       " 'https://www.index.hr/oglasi/63m2--2-balkona--centar---/oid/3544000',\n",
       " 'https://www.index.hr/oglasi/hedonisticki-stan/oid/2724729',\n",
       " 'https://www.index.hr/oglasi/stan-centar--3skl--76m2/oid/3580111',\n",
       " 'https://www.index.hr/oglasi/srdoci-novogradnja--3s-db--90-88-m2--235-000-eur-kn/oid/3255905',\n",
       " 'https://www.index.hr/oglasi/centar--104m2--3-soban-s-dnevnim-boravkom/oid/2151248',\n",
       " 'https://www.index.hr/oglasi/bulevard--3s-db--210-000eur/oid/2726637',\n",
       " 'https://www.index.hr/oglasi/pehlin--etaza-na-mirnoj-lokaciji-od-124-m2/oid/2916749',\n",
       " 'https://www.index.hr/oglasi/novogradnja-na-zametu-85-m2--2s-db/oid/3768669',\n",
       " 'https://www.index.hr/oglasi/rijeka--brajda---dvosoban-stan-u-blizini-centra/oid/3329118',\n",
       " 'https://www.index.hr/oglasi/prodaja-stana-za-adaptaciju-na-donjem-zametu-3skl--57-36m2/oid/3664517',\n",
       " 'https://www.index.hr/oglasi/rijeka--krimeja--stan-u-novogradnji-na-odlicnoj-lokaciji-s-p/oid/3733807',\n",
       " 'https://www.index.hr/oglasi/stan-za-prodaju-na-mlaci-3skl--59-26-m2/oid/3666008',\n",
       " 'https://www.index.hr/oglasi/stan-rijeka-belveder/oid/3639980',\n",
       " 'https://www.index.hr/oglasi/donja-drenova--novogradnja---stan-2-03-na-odlicnoj-lokaciji/oid/3733884',\n",
       " 'https://www.index.hr/oglasi/rijeka-centar--kompletno-renoviran-2skl--49-50-m2/oid/1040498',\n",
       " 'https://www.index.hr/oglasi/rijeka--donji-zamet--novogradnja--2s-db-stan-85m2/oid/3722192',\n",
       " 'https://www.index.hr/oglasi/rujevica--1s-db--novija-zgrada/oid/3783579',\n",
       " 'https://www.index.hr/oglasi/pecine--2-garsonjere--uredjene-i-opremljene/oid/2926298',\n",
       " 'https://www.index.hr/oglasi/etaza-u-prizemlju-povrsine-78-m2-okucnica-144-m2/oid/2102261',\n",
       " 'https://www.index.hr/oglasi/rijeka--bulevard---3s-kl-stan-s-tri-balkona--90-m2/oid/3755354',\n",
       " 'https://www.index.hr/oglasi/krimeja--prekrasan-stan-4s-db--160-m2--s-terasom-i-pogledom-/oid/3287890',\n",
       " 'https://www.index.hr/oglasi/stan-stanovi-rijeka/oid/3706225',\n",
       " 'https://www.index.hr/oglasi/bulevard--2skl--69-m2--114-000-eur-kn/oid/3313888',\n",
       " 'https://www.index.hr/oglasi/stan-rijeka--centar--159-m2-na-frekventnoj-lokaciji/oid/2276715',\n",
       " 'https://www.index.hr/oglasi/rijeka--potok---stan-1s-db-sa-balkonom/oid/3655795',\n",
       " 'https://www.index.hr/oglasi/krimeja---stanovi-1s-db-i-1skl-ukupno-68-82-m-/oid/2389021',\n",
       " 'https://www.index.hr/oglasi/rijeka--centar---trznica--2s-kl--66-m2/oid/3285701',\n",
       " 'https://www.index.hr/oglasi/centar--stan--35-m2/oid/3274201',\n",
       " 'https://www.index.hr/oglasi/stan-za-adaptaciju---prilika---/oid/2908064',\n",
       " 'https://www.index.hr/oglasi/rijeka--belveder---3-adaptirane-stambene-jedinice--1-kat--li/oid/3296213',\n",
       " 'https://www.index.hr/oglasi/krimeja--2s-db--85m2--260-000-eur-kn/oid/3733827',\n",
       " 'https://www.index.hr/oglasi/rijeka--donja-vezica---3s-db-s-parkingom-i-okucnicom--186-m2/oid/3742894',\n",
       " 'https://www.index.hr/oglasi/krimeja--3s-db--144-000-00-eur/oid/3133671',\n",
       " 'https://www.index.hr/oglasi/stan-banderovo---terasa---parkirno-mjesto/oid/3736469',\n",
       " 'https://www.index.hr/oglasi/kozala-pulac--odlican-stan-s-panoramskim-pogledom/oid/3698860',\n",
       " 'https://www.index.hr/oglasi/-atraktivna-lokacija-stana-25-m2-sa-okucnicom-od-cca-220-m2-/oid/3547125',\n",
       " 'https://www.index.hr/oglasi/donja-vezica--2sb-db-s-pogledom-na-more/oid/3789569',\n",
       " 'https://www.index.hr/oglasi/donja-vezica--etaza--3s-db--97m2--terasa--vrt--okucnica-300m2/oid/2577155',\n",
       " 'https://www.index.hr/oglasi/rijeka-centar---2skl--61m2-/oid/3747211',\n",
       " 'https://www.index.hr/oglasi/brajda--stan-na-atraktivnoj-lokaciji-od-47-m2-sa-dvije-spava/oid/3684579',\n",
       " 'https://www.index.hr/oglasi/belveder--klasican-stan-na-1-katu--112-m2/oid/3783695',\n",
       " 'https://www.index.hr/oglasi/krnjevo--2s-db--139-000-eur/oid/2887872',\n",
       " 'https://www.index.hr/oglasi/rijeka--belveder-blize-centru-/oid/3738011',\n",
       " 'https://www.index.hr/oglasi/pehlin--novoadaptiran-stan/oid/2911525',\n",
       " 'https://www.index.hr/oglasi/potok--stan-96-81m2--3s-kl/oid/3718871',\n",
       " 'https://www.index.hr/oglasi/srdoci--garsonjera--25m2/oid/3771291',\n",
       " 'https://www.index.hr/oglasi/rijeka--trsat---1s-db-luksuzan-stan-s-podzemnom-garazom/oid/3741119',\n",
       " 'https://www.index.hr/oglasi/rijeka--banderovo--3s-db--72-m2--1--kat--balkon--odlicna-lok/oid/3437299',\n",
       " 'https://www.index.hr/oglasi/drenova-donja-2s-db-76m2-530-eur-kn/oid/3366246',\n",
       " 'https://www.index.hr/oglasi/rijeka--pulac---4s-db-stan-povrsine-130-m2/oid/3702143',\n",
       " 'https://www.index.hr/oglasi/rijeka--centar---2s-kl-stan-povrsine-63-m2/oid/3693551',\n",
       " 'https://www.index.hr/oglasi/100m2--3s-db--novogradnja----/oid/3572617',\n",
       " 'https://www.index.hr/oglasi/rijeka--korzo--predivan-novouredjen-3s-db-/oid/3304782',\n",
       " 'https://www.index.hr/oglasi/rijeka---bulevard--krasan-stan-75-m2-s-pogledom-na-more-/oid/2131082',\n",
       " 'https://www.index.hr/oglasi/rijeka--viskovo---stan-90-5m2--terasa--vanjsko-parkirno-mjes/oid/3736600',\n",
       " 'https://www.index.hr/oglasi/hosti--novogradnja--2sb-db--59-m2/oid/3757772',\n",
       " 'https://www.index.hr/oglasi/centar--110m2--4skl--200-000-eur-kn/oid/1434906',\n",
       " 'https://www.index.hr/oglasi/skurinje--dvoetazni-3s-db-u-kuci--dvije-terase--parkirna-mjesta-/oid/3528286',\n",
       " 'https://www.index.hr/oglasi/srdoci-2sobni-stan--pogled-more-105-000-eur/oid/3364455',\n",
       " 'https://www.index.hr/oglasi/stan-stanovi-rijeka--kostrena--novogradnja-/oid/3700522',\n",
       " 'https://www.index.hr/oglasi/belveder--118-79m2--5skl--158-000-eur-kn/oid/3027246',\n",
       " 'https://www.index.hr/oglasi/rijeka--susak--85m2--uredjena-dva-stana--idealno-za-investici/oid/1437918',\n",
       " 'https://www.index.hr/oglasi/pecine--4s-db--garaza--balkon--1-red-do-mora/oid/3666081',\n",
       " 'https://www.index.hr/oglasi/donji-zamet--3s-db-stan-s-vrtom-i-garazom--vrhunska-novograd/oid/3499583',\n",
       " 'https://www.index.hr/oglasi/rujevica/oid/3554138',\n",
       " 'https://www.index.hr/oglasi/novogradnja-drenova--stan-sa-prostranom-lodjom--2s-db-od-78-m/oid/3723444',\n",
       " 'https://www.index.hr/oglasi/stan-zamet--72-m2--210-000-eur-kn/oid/3642620',\n",
       " 'https://www.index.hr/oglasi/mlaka--1s-db-od-58-m2-u-visokom-potkrovlju/oid/3468009',\n",
       " 'https://www.index.hr/oglasi/centar-2s-db/oid/3537245',\n",
       " 'https://www.index.hr/oglasi/hosti--97m2--2s-db--148-000-eur-kn/oid/1682787',\n",
       " 'https://www.index.hr/oglasi/potok--4s--97m2--153-000-eur-kn/oid/3706231',\n",
       " 'https://www.index.hr/oglasi/rijeka--turnic--42m2--1-sobni-stan-s-db--lodja/oid/3236970',\n",
       " 'https://www.index.hr/oglasi/garsonjera-sa-malo-okucnice--37m2/oid/3701695',\n",
       " 'https://www.index.hr/oglasi/rijeka--skurinje-stan-na-odlicnoj-lokaciji-u-blizini-svih-sa/oid/3187596',\n",
       " 'https://www.index.hr/oglasi/susak--idealno-za-investiciju-/oid/3764323',\n",
       " 'https://www.index.hr/oglasi/rijeka--centar--dvosoban-s-dnevnim--121-m2---5-m2-drvarnica-/oid/2588095',\n",
       " 'https://www.index.hr/oglasi/rijeka--brajda---stan-3s-db-povrsine-115-m2/oid/3352428',\n",
       " 'https://www.index.hr/oglasi/pehlin--200m2--3s-db--305-000-eur-kn/oid/2713959',\n",
       " 'https://www.index.hr/oglasi/kozala---etaza--s-vrtom-i-pogledom-na-more/oid/3747214',\n",
       " 'https://www.index.hr/oglasi/stan-u-potkrovlju-60-m2--2s-db---sa-pogledom-na-more-u-vukov/oid/3438595',\n",
       " 'https://www.index.hr/oglasi/pecine--54m2--2skl--90-000eur/oid/2111302',\n",
       " 'https://www.index.hr/oglasi/stan--rijeka--potok--106m2--3s-db/oid/1438310',\n",
       " 'https://www.index.hr/oglasi/srdoci--45-m2--u-novogradnji-/oid/3520828',\n",
       " 'https://www.index.hr/oglasi/rijeka--centar---ekskluzivno-uredjen-stan-u-centru/oid/3635811',\n",
       " 'https://www.index.hr/oglasi/novogradnja-srdoci-/oid/3688393',\n",
       " 'https://www.index.hr/oglasi/stan-centar--90-m2--3sb-db/oid/3753596',\n",
       " 'https://www.index.hr/oglasi/rijeka--drenova-donja--etaza--55-m2--balkon--okucnica-/oid/2466863',\n",
       " 'https://www.index.hr/oglasi/trsat--126m2--3s-db--balkon-i-terasa/oid/1434963',\n",
       " 'https://www.index.hr/oglasi/vukovarska-ulica-2-sb-kl-62-m2-prilika/oid/3700562',\n",
       " 'https://www.index.hr/oglasi/centar--odlican-omjer-cijene-i-kvadrature--veliki-gospodski-/oid/2550651',\n",
       " 'https://www.index.hr/oglasi/turnic--komotan-stan-sa-pogledom/oid/3755504',\n",
       " 'https://www.index.hr/oglasi/rijeka--donja-drenova--novogradnja--2s-db/oid/3726463',\n",
       " 'https://www.index.hr/oglasi/strogi-centar--dva-prekrasna-adaptirana-apartmana--ukupne-po/oid/3563583',\n",
       " 'https://www.index.hr/oglasi/krnjevo--2s-db--97-000-/oid/2112281',\n",
       " 'https://www.index.hr/oglasi/brascine--stan-120m2--4s-db/oid/3720584',\n",
       " 'https://www.index.hr/oglasi/stan-rijeka-podmurvice/oid/3534245',\n",
       " 'https://www.index.hr/oglasi/prodaja-modernog-dvoetaznog-stana-na-zametu--110m2--4s-db/oid/3140980',\n",
       " 'https://www.index.hr/oglasi/stan-rijeka-centar/oid/3761012',\n",
       " 'https://www.index.hr/oglasi/etaza--donja-vezica--3s-db--102-53-m2--225-000-eur-kn/oid/3139356',\n",
       " 'https://www.index.hr/oglasi/rijeka--kantrida---stan-2s-kl-povrsine-58m2/oid/3722206',\n",
       " 'https://www.index.hr/oglasi/srdoci--80m2--135-000-eur/oid/2712012',\n",
       " 'https://www.index.hr/oglasi/pecine--prekrasan-stan-1-red-do-mora/oid/3710876',\n",
       " 'https://www.index.hr/oglasi/rijeka--krnjevo--84-27m2--2s-db--lodja--pogled/oid/3359170',\n",
       " 'https://www.index.hr/oglasi/centar--stan-za-investiciju/oid/3789585',\n",
       " 'https://www.index.hr/oglasi/rijeka-rastocine-/oid/2948157',\n",
       " 'https://www.index.hr/oglasi/krimeja--2-skl--53-m2--110-000-eur-kn-/oid/3127949',\n",
       " 'https://www.index.hr/oglasi/donji-zamet---prekrasan-stan-3s-kl/oid/3655611',\n",
       " 'https://www.index.hr/oglasi/24m2--mali-topao-stan--parking--podrum---/oid/3783586',\n",
       " 'https://www.index.hr/oglasi/stan-susak--2skl--44m2/oid/3666077',\n",
       " 'https://www.index.hr/oglasi/centar---prodaja-stana--pogodno-za-investiciju-/oid/411388',\n",
       " 'https://www.index.hr/oglasi/centar--53m2--2s-db/oid/3652691',\n",
       " 'https://www.index.hr/oglasi/belveder--2-sobni-stan-/oid/3495330',\n",
       " 'https://www.index.hr/oglasi/81m2--3s-db--jug--pogled--/oid/3420034',\n",
       " 'https://www.index.hr/oglasi/rijeka--centar---adaptiran-2s-db-stan--120-m2/oid/3445638',\n",
       " 'https://www.index.hr/oglasi/banderovo--stan-s-parkirnim-mjestom-/oid/3751847',\n",
       " 'https://www.index.hr/oglasi/kantrida--penthouse-195m2--3s-db/oid/3147245',\n",
       " 'https://www.index.hr/oglasi/trsat--dvoetazni-luksuzni-stan--430-000-00-eur/oid/2901540',\n",
       " 'https://www.index.hr/oglasi/belveder-4s-db--prvi-kat/oid/3599275',\n",
       " 'https://www.index.hr/oglasi/rijeka---drenova--3s-db--parking---okucnica/oid/3392055',\n",
       " 'https://www.index.hr/oglasi/skurinje--osjecka-ulica--2-app-sa-zasebnim-ulazima/oid/3759606',\n",
       " 'https://www.index.hr/oglasi/rijeka--centar---adaptiran-1s-db-kod-trznice--50-m2/oid/3742858',\n",
       " 'https://www.index.hr/oglasi/kozala---prodaja-lijepog-stana-sa-terasom--73-m2/oid/3635752',\n",
       " 'https://www.index.hr/oglasi/centar--110m2--6skl-/oid/2021557',\n",
       " 'https://www.index.hr/oglasi/rijeka--kozala---predivan-dvoetazan-stan--121-27m2-na-odlicn/oid/3541108',\n",
       " 'https://www.index.hr/oglasi/zamet--44-65m2--1s-db--109-392-eur-kn/oid/3215965',\n",
       " 'https://www.index.hr/oglasi/brajda---gospodski-stan--96m2/oid/2791985',\n",
       " 'https://www.index.hr/oglasi/skurinje--100-m2--3s-db--1--kat/oid/415562',\n",
       " 'https://www.index.hr/oglasi/brajda--118m2--3s-db--150-000-eur-kn/oid/1434832',\n",
       " 'https://www.index.hr/oglasi/stan-trsat-rijeka-2s-db-rijetkost-na-trzistu/oid/3748629',\n",
       " 'https://www.index.hr/oglasi/pehlin--etaza-98m2--2-soban-s-dnevnim-boravkom/oid/3778986',\n",
       " 'https://www.index.hr/oglasi/belveder--uredjen-stan-2s-db-sa-pogledom-na-more/oid/2573786',\n",
       " 'https://www.index.hr/oglasi/belveder--5skl--112-5-m2--dva-balkona--185-000-eur-kn/oid/3640333',\n",
       " 'https://www.index.hr/oglasi/krimeja--2s-db--86m2--175-000-eur-kn/oid/3777672',\n",
       " 'https://www.index.hr/oglasi/brajda--uredjen-2-soban-s-dnevnim-boravkom/oid/3493967',\n",
       " 'https://www.index.hr/oglasi/zamet---prodaja-stana-76-88-m2--2s-db--novogradnja-/oid/853419',\n",
       " 'https://www.index.hr/oglasi/rijeka--donja-drenova--novogradnja--1s-db/oid/3726473',\n",
       " 'https://www.index.hr/oglasi/jedinstvena-nekretnina--stan-sa-cetiri-zasebna-apartmana-top/oid/3388608',\n",
       " 'https://www.index.hr/oglasi/rijeka--centar---dvije-stambene-jedinice--103-m2/oid/3798646',\n",
       " 'https://www.index.hr/oglasi/stan-u-vili-na-belvederu-kozali---3s-db/oid/3381724',\n",
       " 'https://www.index.hr/oglasi/rijeka--centar---5s-kl-stan-na-trznici--140--m2/oid/3606375',\n",
       " 'https://www.index.hr/oglasi/skurinje---prodaja-stana---47-m2-/oid/3729374',\n",
       " 'https://www.index.hr/oglasi/potok-3sb-db-97-m2/oid/3664555',\n",
       " 'https://www.index.hr/oglasi/centar-novoadaptirani-stan-idealan-za-investiciju/oid/3542596',\n",
       " 'https://www.index.hr/oglasi/rijeka--centar--98-m2/oid/1448315',\n",
       " 'https://www.index.hr/oglasi/srdoci---prodaja-1s-db-stana-u-novogradnji-/oid/3572475',\n",
       " 'https://www.index.hr/oglasi/rijeka--banderovo--2s-db--90-m2/oid/3645785',\n",
       " 'https://www.index.hr/oglasi/centar--72-m2--119-000-eur-kn/oid/3435973',\n",
       " 'https://www.index.hr/oglasi/centar--3s-db-s-balkonom--107m2/oid/1709630',\n",
       " 'https://www.index.hr/oglasi/76m2--centar--2s-db--balkon---/oid/3543998',\n",
       " 'https://www.index.hr/oglasi/rijeka--centar--garsonijera-u-samom-centru--prilika---/oid/3662859',\n",
       " 'https://www.index.hr/oglasi/73m2--2s-db--blizina-kampusa--autobusne---/oid/3664438',\n",
       " 'https://www.index.hr/oglasi/brajda-stan/oid/3457658',\n",
       " 'https://www.index.hr/oglasi/zapadni-zamet--3s-db--116m2--220-000-/oid/1725456',\n",
       " 'https://www.index.hr/oglasi/stan-rijeka-centar-87-50-m--3skl/oid/1439537',\n",
       " 'https://www.index.hr/oglasi/ljepi-dvoetazni-stan-s-prekrasnim-pogledom-na-kvarner-/oid/2111425',\n",
       " 'https://www.index.hr/oglasi/susak--namjesten-4-soban-s-balkonom/oid/3563562',\n",
       " 'https://www.index.hr/oglasi/trsat--dvoetazni-stan-s-fantasticnim-pogledom/oid/3524763',\n",
       " 'https://www.index.hr/oglasi/odlicna-kombinacija-stambeno-poslovne-nekretnine/oid/2994616',\n",
       " 'https://www.index.hr/oglasi/belveder--140-m2--prekrasan-4s-db--210-000---kn/oid/2111136',\n",
       " 'https://www.index.hr/oglasi/rijeka-centar---3-soban-stan--115-m2--150-000-eur-kn/oid/3784788',\n",
       " 'https://www.index.hr/oglasi/hosti--adaptiran-stan-2s-db--pogled-na-more--park-mjesto/oid/3706171',\n",
       " 'https://www.index.hr/oglasi/potok---2-stambene-jedinice--za-investiciju/oid/3677469',\n",
       " 'https://www.index.hr/oglasi/donja-drenova--novogradnja---stan-2-08-na-odlicnoj-lokaciji/oid/3728059',\n",
       " 'https://www.index.hr/oglasi/krimeja---3skl---2-balkona---pogled-na-more------/oid/3761458',\n",
       " 'https://www.index.hr/oglasi/rijeka--trsat---etaza-100m2-sa-prkrasnim-pogledom-na-more/oid/3451152',\n",
       " 'https://www.index.hr/oglasi/d-vezica--etaza-sa-dva-stana-i-garaza/oid/1042153',\n",
       " 'https://www.index.hr/oglasi/rijeka--banderovo--stan-100m2-s-panoramskim-pogledom-na-more/oid/3727935',\n",
       " 'https://www.index.hr/oglasi/rijeka--donja-drenova---2s-db-stan-u-novogradnji--2-kat/oid/3710944',\n",
       " 'https://www.index.hr/oglasi/belveder--3s-db--blizina-centra-grada/oid/3074933',\n",
       " 'https://www.index.hr/oglasi/centar--104m2--3s-db/oid/1435321',\n",
       " 'https://www.index.hr/oglasi/rijeka---centar--cetverosoban-stan-s-dva-ulaza/oid/2120608',\n",
       " 'https://www.index.hr/oglasi/centar---stan-pogodan-za-zivot-ili-poslovnu-djelatnost--/oid/3101218',\n",
       " 'https://www.index.hr/oglasi/stan-za-vecu-obitelj-na-odlicnoj-lokaciji/oid/2831068',\n",
       " 'https://www.index.hr/oglasi/kanrida--lijepa-pozicija---stan-s-terasom--/oid/1448404',\n",
       " 'https://www.index.hr/oglasi/98m2--3s-db--balkon--predivan-pogled---/oid/3674441',\n",
       " 'https://www.index.hr/oglasi/zamet--etaza-kuce--145m2/oid/515696',\n",
       " 'https://www.index.hr/oglasi/gornja-vezica--1s-db--55m2--125-000-eur-kn/oid/3722118',\n",
       " 'https://www.index.hr/oglasi/rijeka--donja-drenova--novogradnja--2s-db/oid/3726469',\n",
       " 'https://www.index.hr/oglasi/d-drenova--etaza-3s-db--balkon/oid/3500925',\n",
       " 'https://www.index.hr/oglasi/srdoci-novogradnja-1s-db-odlican-stan---pm/oid/3598119',\n",
       " 'https://www.index.hr/oglasi/samo-u-consensusu--stan-centar--71-m2--185-000-eur-kn/oid/3592531',\n",
       " 'https://www.index.hr/oglasi/belveder--odlican-3s-db-sa-dvije-kupaonice-i-dva-balkona/oid/1936782',\n",
       " 'https://www.index.hr/oglasi/novogradnja--130m2--troetazni-stan---/oid/3768195',\n",
       " 'https://www.index.hr/oglasi/stan--rijeka--bulevard--117m2--dvoetazni-3s-db/oid/1031459',\n",
       " 'https://www.index.hr/oglasi/rijeka--skurinje--1s-db--38-5m2/oid/3321373',\n",
       " 'https://www.index.hr/oglasi/rijeka--donja-drenova--novogradnja--1s-db/oid/3726457',\n",
       " 'https://www.index.hr/oglasi/rijeka--centar---5s-kl-kod-trznice--125-m2/oid/3755348',\n",
       " 'https://www.index.hr/oglasi/prilika-za-investiciju-u-centru-grada-70m2--/oid/3709349',\n",
       " 'https://www.index.hr/oglasi/stan-za-adaptaciju-rijeka-centar/oid/3431185',\n",
       " 'https://www.index.hr/oglasi/turnic---trosobni-stan-sa-dnevnim-boravkom-77-m2/oid/1834966',\n",
       " 'https://www.index.hr/oglasi/centar--95m2--4-studio-apartmana--225-000-eur-kn/oid/2901446',\n",
       " 'https://www.index.hr/oglasi/donji-zamet---prizemlje-kuce-sa-3-stana/oid/3744138',\n",
       " 'https://www.index.hr/oglasi/skurinje-n-n--stan-3s---db/oid/2751047',\n",
       " 'https://www.index.hr/oglasi/stan--potok--jedinstvena-nekretnina-/oid/2567165',\n",
       " 'https://www.index.hr/oglasi/podmurvice---prekrasne-garsonijere-za-prodaju/oid/2451209',\n",
       " 'https://www.index.hr/oglasi/uredjen-stan--80m2--okucnica---/oid/3709338',\n",
       " 'https://www.index.hr/oglasi/belveder----2-s-db---65-m2/oid/2776136',\n",
       " 'https://www.index.hr/oglasi/stan-zamet--2sb-db--55-m2---terasa/oid/3803972',\n",
       " 'https://www.index.hr/oglasi/rijeka--donja-drenova--44-80m2--1s-db/oid/3479644',\n",
       " 'https://www.index.hr/oglasi/rijeka--strogi-centar--stan-od-93-67-m2/oid/2164962',\n",
       " 'https://www.index.hr/oglasi/rijeka--banderovo--etaza-stan-5skl-126m2--1-kat-okucnica/oid/3722190',\n",
       " 'https://www.index.hr/oglasi/vojak---prodaja-2s-db-stana--60m2/oid/3674350',\n",
       " 'https://www.index.hr/oglasi/36m2--dvoriste-od-170m2--dobra-lokacija---/oid/3783583',\n",
       " 'https://www.index.hr/oglasi/rijeka--centar---gospodski-stan-u-centru--s-liftom/oid/3675834',\n",
       " 'https://www.index.hr/oglasi/siri-centar--116-m2--4s--1--kat/oid/2877880',\n",
       " 'https://www.index.hr/oglasi/stan-u-privatnoj-kuci-sa-garazom-/oid/1448348',\n",
       " 'https://www.index.hr/oglasi/rijeka--belveder--stan-5s-kl--povrsine-112-m2/oid/3378695',\n",
       " 'https://www.index.hr/oglasi/stan-mlaka--45m2---3s-db--u-visokom-potkrovlju/oid/2188710',\n",
       " 'https://www.index.hr/oglasi/donja-drenova--novogradnja---stan-1-04-na-odlicnoj-lokaciji/oid/3716426',\n",
       " 'https://www.index.hr/oglasi/susak--2sb-db/oid/3780538',\n",
       " 'https://www.index.hr/oglasi/rijeka---krnjevo-/oid/2969632',\n",
       " 'https://www.index.hr/oglasi/skurinje--79-m2--3s-db--lodja-na-jug-/oid/3669069',\n",
       " 'https://www.index.hr/oglasi/potok---odlican-stan-sa-puno-potencijala-/oid/2611073',\n",
       " 'https://www.index.hr/oglasi/potok--4s-db--96-50-m2--lodja/oid/2979040',\n",
       " 'https://www.index.hr/oglasi/rijeka--centar---gospodski-stan-na-trazenoj-lokaciji/oid/3437346',\n",
       " 'https://www.index.hr/oglasi/mlaka--3skl--blizina-centa--72-500eur/oid/2111558',\n",
       " 'https://www.index.hr/oglasi/rijeka--turnic---stan-2s-db-juzne-orijentacije/oid/3547136',\n",
       " 'https://www.index.hr/oglasi/stan-mlaka/oid/3804109',\n",
       " 'https://www.index.hr/oglasi/vezica--novouredjen-stan-sa-okucnicom/oid/3751972',\n",
       " 'https://www.index.hr/oglasi/brajda--trosoban-stan-u-prizemlju/oid/3350106',\n",
       " 'https://www.index.hr/oglasi/-centar--2s-db--73-m2/oid/1974912',\n",
       " 'https://www.index.hr/oglasi/stan-bulevard/oid/3426798',\n",
       " 'https://www.index.hr/oglasi/prvi-red-do-mora--pecine--stan-102m2-s-garazom-i-okucnicom-/oid/3435945',\n",
       " 'https://www.index.hr/oglasi/rijeka--hosti--85m2--3s-db-stan-u-novogradnji--2-kat/oid/3769695',\n",
       " 'https://www.index.hr/oglasi/novogradnja-srdoci-151-82-m2/oid/3688394',\n",
       " 'https://www.index.hr/oglasi/kozala--2-soban-s-dnevnim-boravkom-i-terasom/oid/3783666',\n",
       " 'https://www.index.hr/oglasi/rijeka-trsat---vrhunski-3s-db-stan-u-ultra-modernoj-novograd/oid/3755208',\n",
       " 'https://www.index.hr/oglasi/centar--1-kat--140m2/oid/1435313',\n",
       " 'https://www.index.hr/oglasi/centar--odlican-prostran-stan/oid/2643049',\n",
       " 'https://www.index.hr/oglasi/belveder-adaptiran-stan-u-visokom-potkrovlju-dobar-raspored/oid/2422739',\n",
       " 'https://www.index.hr/oglasi/belveder--stan65m2--2skl--terasa-na-koristenje/oid/3648854',\n",
       " 'https://www.index.hr/oglasi/potok---prodaja-trosobnog-stana--70-m2/oid/3790983',\n",
       " 'https://www.index.hr/oglasi/krimeja--2s-db--110-000-eur/oid/3248877',\n",
       " 'https://www.index.hr/oglasi/150m2--dva-balkona--okucnica---/oid/3424948',\n",
       " 'https://www.index.hr/oglasi/stan-rijeka-potok/oid/3474146',\n",
       " 'https://www.index.hr/oglasi/trsat--2s-db--67-78m2--187-000-eur-kn/oid/3674518',\n",
       " 'https://www.index.hr/oglasi/mlaka--1s-db--75-000-eur/oid/3454556',\n",
       " 'https://www.index.hr/oglasi/dva-stana-u-zgradi-za-samo-131-000-/oid/3738008',\n",
       " 'https://www.index.hr/oglasi/rijeka-centar-4s-stan-s-tri-balkona/oid/3778880',\n",
       " 'https://www.index.hr/oglasi/rijeka--trsat---dvoetazni-4s-db-stan-s-okucnicom-i-predivnim/oid/3505025',\n",
       " 'https://www.index.hr/oglasi/rijeka--pehlin--etaza-samo-760---m2-/oid/1448329',\n",
       " 'https://www.index.hr/oglasi/rijeka--mlaka--57-75m2--2-sobni-stan/oid/3479637',\n",
       " 'https://www.index.hr/oglasi/stan--centar--74m2--2-soban-s-dnevnim-boravkom-/oid/2523612',\n",
       " 'https://www.index.hr/oglasi/centar--3skl--85m2--104-000-eur-kn/oid/1435003',\n",
       " 'https://www.index.hr/oglasi/brajda--2sb-db--na-odlicnoj-lokaciji/oid/3542558',\n",
       " 'https://www.index.hr/oglasi/kozala--odmah-useljiv-stan-2s-db/oid/3782277',\n",
       " 'https://www.index.hr/oglasi/pecine-4s-db-1--red-do-mora--opcija-garaza-/oid/3657438',\n",
       " 'https://www.index.hr/oglasi/rijeka--donja-drenova---2s-db-stan-u-novogradnji--2-kat/oid/3710947',\n",
       " 'https://www.index.hr/oglasi/rijeka--kozala---etaza-podijeljena-na-dva-stana/oid/3177397',\n",
       " 'https://www.index.hr/oglasi/ekskluzivna-novogradnja-na-trsatu---/oid/2215583',\n",
       " 'https://www.index.hr/oglasi/rijeka--donja-drenova---stan-1s-db--45m2/oid/3464197',\n",
       " 'https://www.index.hr/oglasi/skurinje--86m2--2s-db--155-000-eur-kn/oid/3352295',\n",
       " 'https://www.index.hr/oglasi/penthouse-sa-prekrasnim-pogledom-i-krovnom-terasom--residenc/oid/3764272',\n",
       " 'https://www.index.hr/oglasi/belveder--komforan-gradski-stan--240-000-/oid/2112286',\n",
       " 'https://www.index.hr/oglasi/bulevard--2skl--69-m2--120-000-eur-kn/oid/2820001',\n",
       " 'https://www.index.hr/oglasi/trsat--etaza-stan-58-m--u-prizemlju-obiteljske-kuce-/oid/2363725',\n",
       " 'https://www.index.hr/oglasi/rijeka--drenova-bok--samo-kod-nas---novogradnja-3s-db/oid/3442248',\n",
       " 'https://www.index.hr/oglasi/vojak--3skl-na-trazenoj-lokaciji-/oid/3747290',\n",
       " 'https://www.index.hr/oglasi/rijeka--bulevard--stan-na-atraktivnoj-poziciji/oid/3720665',\n",
       " 'https://www.index.hr/oglasi/rijeka--donji-zamet---2s-kl-stan--pogled-na-more--zgrada-s-l/oid/3780473',\n",
       " 'https://www.index.hr/oglasi/srdoci--novogradnja--2s-db--balkon-i-okucnica/oid/3547325',\n",
       " 'https://www.index.hr/oglasi/rijeka--centar--40-35m2--1-sobni-stan-s-db/oid/1438328',\n",
       " 'https://www.index.hr/oglasi/stan-belveder--140-m2--4s-db-2-balkona--pogled-na-grad---220/oid/3706072',\n",
       " 'https://www.index.hr/oglasi/donja-vezica--etaza--237-000-00-/oid/3443933',\n",
       " 'https://www.index.hr/oglasi/stan-zamet--1sb-db--50-m2--124-000-eur-kn/oid/3738003',\n",
       " 'https://www.index.hr/oglasi/rijeka--centar--stan---103-m2--opremljeni-poslovni-prostor--/oid/3486341',\n",
       " 'https://www.index.hr/oglasi/stan-rijeka---susak--cetvorosobni--95-m2--rijetkost-na-trzis/oid/3519395',\n",
       " 'https://www.index.hr/oglasi/rijeka--donja-drenova--novogradnja--2s-db/oid/3726475',\n",
       " 'https://www.index.hr/oglasi/skurinje--dvoetazni-stan-od-146-m2/oid/1938364',\n",
       " 'https://www.index.hr/oglasi/g--vezica--2s-db/oid/3398092',\n",
       " 'https://www.index.hr/oglasi/rijeka--rastocine---stan-2s-db--povrsine-80-m2/oid/2621159',\n",
       " 'https://www.index.hr/oglasi/rijeka-belveder-1s-db--uredjen--odmah-useljiv-/oid/3777648',\n",
       " 'https://www.index.hr/oglasi/bulevard--74m2--2s-db--210-000-eur-kn/oid/1434964',\n",
       " 'https://www.index.hr/oglasi/rijeka--zamet---komforan-stan-4s-db-sa-lijepom-okucnicom/oid/3366421',\n",
       " 'https://www.index.hr/oglasi/stan-rijeka--zamet--3s-db--122m2/oid/1021182',\n",
       " 'https://www.index.hr/oglasi/rijeka--centar-novouredjen-gradski-stan--84-m2--128-500--/oid/2111209',\n",
       " 'https://www.index.hr/oglasi/rijeka---kozala---kompletno-adaptiran-stan-u-prizemlju/oid/3451253',\n",
       " 'https://www.index.hr/oglasi/rijeka--mlaka---5s---200-m2/oid/3747324',\n",
       " 'https://www.index.hr/oglasi/rijeka--stan-74-m2/oid/2692262',\n",
       " 'https://www.index.hr/oglasi/rijeka--brajda---adaptiran-5s-kl-stan--2-kat/oid/3299744',\n",
       " 'https://www.index.hr/oglasi/donja-drenova--novogradnja---stan-1-01-na-odlicnoj-lokaciji/oid/3716419',\n",
       " 'https://www.index.hr/oglasi/krnjevo--samo-kod-nas---3-sobni-stan/oid/3177365',\n",
       " 'https://www.index.hr/oglasi/rijeka--brajda---namjesten-3s-db-stan--102-m2/oid/3373020',\n",
       " 'https://www.index.hr/oglasi/turnic--3s-db--76-m2/oid/3739581',\n",
       " 'https://www.index.hr/oglasi/---pecine-jedinstevna-nekretnina-----/oid/3652672',\n",
       " 'https://www.index.hr/oglasi/rijeka--banderovo---stan-3s-db--povrsine-72-m2/oid/2644815',\n",
       " 'https://www.index.hr/oglasi/stan-banderovo--2s-db/oid/3479666',\n",
       " 'https://www.index.hr/oglasi/pecine--4s-db-na-moru--stan-s-garazom/oid/3722017',\n",
       " 'https://www.index.hr/oglasi/kozala--stan-3s-db-85-m2-s-pogledom-na-more-/oid/3718997',\n",
       " 'https://www.index.hr/oglasi/rijeka--centar--3s-db--86m2--porto-baros-/oid/3652671',\n",
       " 'https://www.index.hr/oglasi/pecine---gospodski-stan-s-pomocnim-objektom---balkon---terasa---otv---/oid/1933895',\n",
       " 'https://www.index.hr/oglasi/brajda--stan-3s-db--103m2/oid/1444691',\n",
       " 'https://www.index.hr/oglasi/-prodaja-stana-na-odlicnoj-lokaciji-u-blizini-centra-grada-2/oid/3246558',\n",
       " 'https://www.index.hr/oglasi/rijeka--srdoci---dvoetazni-5s-kl-stan--134-m2/oid/3766874',\n",
       " 'https://www.index.hr/oglasi/rijeka--turnic--komforan-dvosoban-stan-s-dnevnim--77-m2-/oid/2284904',\n",
       " 'https://www.index.hr/oglasi/belveder--5skl--119-m2--155-000-eur-kn/oid/3311971',\n",
       " 'https://www.index.hr/oglasi/rijeka--brajda--3skl---samo-kod-nas-/oid/1448087',\n",
       " 'https://www.index.hr/oglasi/rijeka---prostrani-stan-u-samom-centru-grada/oid/3467704',\n",
       " 'https://www.index.hr/oglasi/bas-kao-iz-casopisa--2s-db-u-staroj-jezgri-grada-/oid/3769441',\n",
       " 'https://www.index.hr/oglasi/stan-rijeka-kantrida/oid/3692631',\n",
       " 'https://www.index.hr/oglasi/stan-centar--65-m2--125-000-eur-kn/oid/3638736',\n",
       " 'https://www.index.hr/oglasi/rijeka--drenova--etaza-od-58m2-s-okucnicom/oid/2749008',\n",
       " 'https://www.index.hr/oglasi/veliki-stan-159m2-u-samom-centru-rijeke--potencijal-za-uredjn/oid/2906613',\n",
       " 'https://www.index.hr/oglasi/stan-rijeka-zamet-58-m2-1sb-db-vrhunski-namjesteno-prekrasan-pogled/oid/3322296',\n",
       " ...]"
      ]
     },
     "execution_count": 30,
     "metadata": {},
     "output_type": "execute_result"
    }
   ],
   "source": [
    "pages"
   ]
  },
  {
   "cell_type": "code",
   "execution_count": 35,
   "metadata": {},
   "outputs": [
    {
     "ename": "ServerDisconnectedError",
     "evalue": "Server disconnected",
     "output_type": "error",
     "traceback": [
      "\u001b[1;31m---------------------------------------------------------------------------\u001b[0m",
      "\u001b[1;31mServerDisconnectedError\u001b[0m                   Traceback (most recent call last)",
      "\u001b[1;32m<ipython-input-35-58f164571e8d>\u001b[0m in \u001b[0;36m<module>\u001b[1;34m\u001b[0m\n\u001b[0;32m     44\u001b[0m \u001b[1;33m\u001b[0m\u001b[0m\n\u001b[0;32m     45\u001b[0m \u001b[0mtask\u001b[0m \u001b[1;33m=\u001b[0m \u001b[0masyncio\u001b[0m\u001b[1;33m.\u001b[0m\u001b[0mcreate_task\u001b[0m\u001b[1;33m(\u001b[0m\u001b[0mmain\u001b[0m\u001b[1;33m(\u001b[0m\u001b[1;33m)\u001b[0m\u001b[1;33m)\u001b[0m\u001b[1;33m\u001b[0m\u001b[1;33m\u001b[0m\u001b[0m\n\u001b[1;32m---> 46\u001b[1;33m \u001b[1;32mawait\u001b[0m \u001b[0mtask\u001b[0m\u001b[1;33m\u001b[0m\u001b[1;33m\u001b[0m\u001b[0m\n\u001b[0m\u001b[0;32m     47\u001b[0m \u001b[0mdf\u001b[0m \u001b[1;33m=\u001b[0m \u001b[0mpd\u001b[0m\u001b[1;33m.\u001b[0m\u001b[0mDataFrame\u001b[0m\u001b[1;33m(\u001b[0m\u001b[0mtask\u001b[0m\u001b[1;33m.\u001b[0m\u001b[0mresult\u001b[0m\u001b[1;33m(\u001b[0m\u001b[1;33m)\u001b[0m\u001b[1;33m)\u001b[0m\u001b[1;33m\u001b[0m\u001b[1;33m\u001b[0m\u001b[0m\n\u001b[0;32m     48\u001b[0m \u001b[1;33m\u001b[0m\u001b[0m\n",
      "\u001b[1;32m<ipython-input-35-58f164571e8d>\u001b[0m in \u001b[0;36mmain\u001b[1;34m()\u001b[0m\n\u001b[0;32m     37\u001b[0m \u001b[1;33m\u001b[0m\u001b[0m\n\u001b[0;32m     38\u001b[0m \u001b[1;32masync\u001b[0m \u001b[1;32mdef\u001b[0m \u001b[0mmain\u001b[0m\u001b[1;33m(\u001b[0m\u001b[1;33m)\u001b[0m\u001b[1;33m:\u001b[0m\u001b[1;33m\u001b[0m\u001b[1;33m\u001b[0m\u001b[0m\n\u001b[1;32m---> 39\u001b[1;33m     \u001b[0mdata\u001b[0m \u001b[1;33m=\u001b[0m \u001b[1;32mawait\u001b[0m \u001b[0masyncio\u001b[0m\u001b[1;33m.\u001b[0m\u001b[0mgather\u001b[0m\u001b[1;33m(\u001b[0m\u001b[1;33m*\u001b[0m\u001b[1;33m[\u001b[0m\u001b[0mdata_dict_index\u001b[0m\u001b[1;33m(\u001b[0m\u001b[0murl\u001b[0m\u001b[1;33m)\u001b[0m \u001b[1;32mfor\u001b[0m \u001b[0murl\u001b[0m \u001b[1;32min\u001b[0m \u001b[0murls\u001b[0m\u001b[1;33m]\u001b[0m\u001b[1;33m)\u001b[0m\u001b[1;33m\u001b[0m\u001b[1;33m\u001b[0m\u001b[0m\n\u001b[0m\u001b[0;32m     40\u001b[0m \u001b[1;33m\u001b[0m\u001b[0m\n\u001b[0;32m     41\u001b[0m     \u001b[1;32mreturn\u001b[0m \u001b[0mdata\u001b[0m\u001b[1;33m\u001b[0m\u001b[1;33m\u001b[0m\u001b[0m\n",
      "\u001b[1;32m<ipython-input-35-58f164571e8d>\u001b[0m in \u001b[0;36mdata_dict_index\u001b[1;34m(url, connector)\u001b[0m\n\u001b[0;32m      5\u001b[0m \u001b[1;32masync\u001b[0m \u001b[1;32mdef\u001b[0m \u001b[0mdata_dict_index\u001b[0m\u001b[1;33m(\u001b[0m\u001b[0murl\u001b[0m\u001b[1;33m,\u001b[0m \u001b[0mconnector\u001b[0m \u001b[1;33m=\u001b[0m \u001b[0mconnector\u001b[0m\u001b[1;33m)\u001b[0m\u001b[1;33m:\u001b[0m\u001b[1;33m\u001b[0m\u001b[1;33m\u001b[0m\u001b[0m\n\u001b[0;32m      6\u001b[0m     \u001b[1;32masync\u001b[0m \u001b[1;32mwith\u001b[0m \u001b[0maiohttp\u001b[0m\u001b[1;33m.\u001b[0m\u001b[0mClientSession\u001b[0m\u001b[1;33m(\u001b[0m\u001b[1;33m)\u001b[0m \u001b[1;32mas\u001b[0m \u001b[0msession\u001b[0m\u001b[1;33m:\u001b[0m\u001b[1;33m\u001b[0m\u001b[1;33m\u001b[0m\u001b[0m\n\u001b[1;32m----> 7\u001b[1;33m         \u001b[1;32masync\u001b[0m \u001b[1;32mwith\u001b[0m \u001b[0msession\u001b[0m\u001b[1;33m.\u001b[0m\u001b[0mget\u001b[0m\u001b[1;33m(\u001b[0m\u001b[0murl\u001b[0m\u001b[1;33m)\u001b[0m \u001b[1;32mas\u001b[0m \u001b[0mresponse\u001b[0m\u001b[1;33m:\u001b[0m\u001b[1;33m\u001b[0m\u001b[1;33m\u001b[0m\u001b[0m\n\u001b[0m\u001b[0;32m      8\u001b[0m             \u001b[0mpage\u001b[0m \u001b[1;33m=\u001b[0m \u001b[1;32mawait\u001b[0m \u001b[0mresponse\u001b[0m\u001b[1;33m.\u001b[0m\u001b[0mtext\u001b[0m\u001b[1;33m(\u001b[0m\u001b[1;33m)\u001b[0m\u001b[1;33m\u001b[0m\u001b[1;33m\u001b[0m\u001b[0m\n\u001b[0;32m      9\u001b[0m \u001b[1;33m\u001b[0m\u001b[0m\n",
      "\u001b[1;32mc:\\Users\\user\\AppData\\Local\\Programs\\Python\\Python38\\lib\\site-packages\\aiohttp\\client.py\u001b[0m in \u001b[0;36m__aenter__\u001b[1;34m(self)\u001b[0m\n\u001b[0;32m   1115\u001b[0m \u001b[1;33m\u001b[0m\u001b[0m\n\u001b[0;32m   1116\u001b[0m     \u001b[1;32masync\u001b[0m \u001b[1;32mdef\u001b[0m \u001b[0m__aenter__\u001b[0m\u001b[1;33m(\u001b[0m\u001b[0mself\u001b[0m\u001b[1;33m)\u001b[0m \u001b[1;33m->\u001b[0m \u001b[0m_RetType\u001b[0m\u001b[1;33m:\u001b[0m\u001b[1;33m\u001b[0m\u001b[1;33m\u001b[0m\u001b[0m\n\u001b[1;32m-> 1117\u001b[1;33m         \u001b[0mself\u001b[0m\u001b[1;33m.\u001b[0m\u001b[0m_resp\u001b[0m \u001b[1;33m=\u001b[0m \u001b[1;32mawait\u001b[0m \u001b[0mself\u001b[0m\u001b[1;33m.\u001b[0m\u001b[0m_coro\u001b[0m\u001b[1;33m\u001b[0m\u001b[1;33m\u001b[0m\u001b[0m\n\u001b[0m\u001b[0;32m   1118\u001b[0m         \u001b[1;32mreturn\u001b[0m \u001b[0mself\u001b[0m\u001b[1;33m.\u001b[0m\u001b[0m_resp\u001b[0m\u001b[1;33m\u001b[0m\u001b[1;33m\u001b[0m\u001b[0m\n\u001b[0;32m   1119\u001b[0m \u001b[1;33m\u001b[0m\u001b[0m\n",
      "\u001b[1;32mc:\\Users\\user\\AppData\\Local\\Programs\\Python\\Python38\\lib\\site-packages\\aiohttp\\client.py\u001b[0m in \u001b[0;36m_request\u001b[1;34m(self, method, str_or_url, params, data, json, cookies, headers, skip_auto_headers, auth, allow_redirects, max_redirects, compress, chunked, expect100, raise_for_status, read_until_eof, proxy, proxy_auth, timeout, verify_ssl, fingerprint, ssl_context, ssl, proxy_headers, trace_request_ctx, read_bufsize)\u001b[0m\n\u001b[0;32m    542\u001b[0m                             \u001b[0mresp\u001b[0m \u001b[1;33m=\u001b[0m \u001b[1;32mawait\u001b[0m \u001b[0mreq\u001b[0m\u001b[1;33m.\u001b[0m\u001b[0msend\u001b[0m\u001b[1;33m(\u001b[0m\u001b[0mconn\u001b[0m\u001b[1;33m)\u001b[0m\u001b[1;33m\u001b[0m\u001b[1;33m\u001b[0m\u001b[0m\n\u001b[0;32m    543\u001b[0m                             \u001b[1;32mtry\u001b[0m\u001b[1;33m:\u001b[0m\u001b[1;33m\u001b[0m\u001b[1;33m\u001b[0m\u001b[0m\n\u001b[1;32m--> 544\u001b[1;33m                                 \u001b[1;32mawait\u001b[0m \u001b[0mresp\u001b[0m\u001b[1;33m.\u001b[0m\u001b[0mstart\u001b[0m\u001b[1;33m(\u001b[0m\u001b[0mconn\u001b[0m\u001b[1;33m)\u001b[0m\u001b[1;33m\u001b[0m\u001b[1;33m\u001b[0m\u001b[0m\n\u001b[0m\u001b[0;32m    545\u001b[0m                             \u001b[1;32mexcept\u001b[0m \u001b[0mBaseException\u001b[0m\u001b[1;33m:\u001b[0m\u001b[1;33m\u001b[0m\u001b[1;33m\u001b[0m\u001b[0m\n\u001b[0;32m    546\u001b[0m                                 \u001b[0mresp\u001b[0m\u001b[1;33m.\u001b[0m\u001b[0mclose\u001b[0m\u001b[1;33m(\u001b[0m\u001b[1;33m)\u001b[0m\u001b[1;33m\u001b[0m\u001b[1;33m\u001b[0m\u001b[0m\n",
      "\u001b[1;32mc:\\Users\\user\\AppData\\Local\\Programs\\Python\\Python38\\lib\\site-packages\\aiohttp\\client_reqrep.py\u001b[0m in \u001b[0;36mstart\u001b[1;34m(self, connection)\u001b[0m\n\u001b[0;32m    888\u001b[0m                 \u001b[1;31m# read response\u001b[0m\u001b[1;33m\u001b[0m\u001b[1;33m\u001b[0m\u001b[1;33m\u001b[0m\u001b[0m\n\u001b[0;32m    889\u001b[0m                 \u001b[1;32mtry\u001b[0m\u001b[1;33m:\u001b[0m\u001b[1;33m\u001b[0m\u001b[1;33m\u001b[0m\u001b[0m\n\u001b[1;32m--> 890\u001b[1;33m                     \u001b[0mmessage\u001b[0m\u001b[1;33m,\u001b[0m \u001b[0mpayload\u001b[0m \u001b[1;33m=\u001b[0m \u001b[1;32mawait\u001b[0m \u001b[0mself\u001b[0m\u001b[1;33m.\u001b[0m\u001b[0m_protocol\u001b[0m\u001b[1;33m.\u001b[0m\u001b[0mread\u001b[0m\u001b[1;33m(\u001b[0m\u001b[1;33m)\u001b[0m  \u001b[1;31m# type: ignore\u001b[0m\u001b[1;33m\u001b[0m\u001b[1;33m\u001b[0m\u001b[0m\n\u001b[0m\u001b[0;32m    891\u001b[0m                 \u001b[1;32mexcept\u001b[0m \u001b[0mhttp\u001b[0m\u001b[1;33m.\u001b[0m\u001b[0mHttpProcessingError\u001b[0m \u001b[1;32mas\u001b[0m \u001b[0mexc\u001b[0m\u001b[1;33m:\u001b[0m\u001b[1;33m\u001b[0m\u001b[1;33m\u001b[0m\u001b[0m\n\u001b[0;32m    892\u001b[0m                     raise ClientResponseError(\n",
      "\u001b[1;32mc:\\Users\\user\\AppData\\Local\\Programs\\Python\\Python38\\lib\\site-packages\\aiohttp\\streams.py\u001b[0m in \u001b[0;36mread\u001b[1;34m(self)\u001b[0m\n\u001b[0;32m    602\u001b[0m             \u001b[0mself\u001b[0m\u001b[1;33m.\u001b[0m\u001b[0m_waiter\u001b[0m \u001b[1;33m=\u001b[0m \u001b[0mself\u001b[0m\u001b[1;33m.\u001b[0m\u001b[0m_loop\u001b[0m\u001b[1;33m.\u001b[0m\u001b[0mcreate_future\u001b[0m\u001b[1;33m(\u001b[0m\u001b[1;33m)\u001b[0m\u001b[1;33m\u001b[0m\u001b[1;33m\u001b[0m\u001b[0m\n\u001b[0;32m    603\u001b[0m             \u001b[1;32mtry\u001b[0m\u001b[1;33m:\u001b[0m\u001b[1;33m\u001b[0m\u001b[1;33m\u001b[0m\u001b[0m\n\u001b[1;32m--> 604\u001b[1;33m                 \u001b[1;32mawait\u001b[0m \u001b[0mself\u001b[0m\u001b[1;33m.\u001b[0m\u001b[0m_waiter\u001b[0m\u001b[1;33m\u001b[0m\u001b[1;33m\u001b[0m\u001b[0m\n\u001b[0m\u001b[0;32m    605\u001b[0m             \u001b[1;32mexcept\u001b[0m \u001b[1;33m(\u001b[0m\u001b[0masyncio\u001b[0m\u001b[1;33m.\u001b[0m\u001b[0mCancelledError\u001b[0m\u001b[1;33m,\u001b[0m \u001b[0masyncio\u001b[0m\u001b[1;33m.\u001b[0m\u001b[0mTimeoutError\u001b[0m\u001b[1;33m)\u001b[0m\u001b[1;33m:\u001b[0m\u001b[1;33m\u001b[0m\u001b[1;33m\u001b[0m\u001b[0m\n\u001b[0;32m    606\u001b[0m                 \u001b[0mself\u001b[0m\u001b[1;33m.\u001b[0m\u001b[0m_waiter\u001b[0m \u001b[1;33m=\u001b[0m \u001b[1;32mNone\u001b[0m\u001b[1;33m\u001b[0m\u001b[1;33m\u001b[0m\u001b[0m\n",
      "\u001b[1;31mServerDisconnectedError\u001b[0m: Server disconnected"
     ]
    }
   ],
   "source": [
    "import aiohttp\n",
    "import asyncio\n",
    "\n",
    "connector = aiohttp.TCPConnector(limit=50)\n",
    "async def data_dict_index(url, connector = connector):\n",
    "    async with aiohttp.ClientSession() as session:\n",
    "        async with session.get(url) as response:\n",
    "            page = await response.text()\n",
    "\n",
    "    soup = BeautifulSoup(page, \"html.parser\")\n",
    "\n",
    "    my_dict = {}\n",
    "    osnovno = soup.find_all('li', attrs={'class':'labela'})\n",
    "    for row in osnovno:\n",
    "        a = row.text\n",
    "        b = row.findNextSibling().get_text().replace(\"\\r\\n\", \"\")\n",
    "\n",
    "        if a in my_dict.keys():\n",
    "            if b < my_dict[a]:\n",
    "                my_dict[a] = b\n",
    "            else:\n",
    "                pass\n",
    "        else:\n",
    "            my_dict[a] = b\n",
    "    \n",
    "    my_dict[\"Cijena\"] = soup.find('div', attrs={'class':'price'}).find('span').text\n",
    "    my_dict[\"Link\"] = url\n",
    "\n",
    "    datum = soup.find_all('div', attrs={'class':'published'})\n",
    "    regex = r\"\\d{2}.\\d{2}.\\d{4}\"\n",
    "    date = re.findall(regex,datum[1].get_text())[0]\n",
    "    my_dict[\"Datum\"] = date\n",
    "    return my_dict\n",
    "\n",
    "# Now you can use the asyncio.gather function to scrape data from multiple websites concurrently\n",
    "urls = pages[:1000]\n",
    "\n",
    "async def main():\n",
    "    data = await asyncio.gather(*[data_dict_index(url) for url in urls])\n",
    "\n",
    "    return data\n",
    "\n",
    "import asyncio\n",
    "\n",
    "task = asyncio.create_task(main())\n",
    "await task\n",
    "df = pd.DataFrame(task.result())\n",
    "\n",
    "# import asyncio\n",
    "\n",
    "# loop = asyncio.get_event_loop()\n",
    "# loop.run_until_complete(main())\n"
   ]
  },
  {
   "cell_type": "code",
   "execution_count": 28,
   "metadata": {},
   "outputs": [
    {
     "data": {
      "text/plain": [
       "4736"
      ]
     },
     "execution_count": 28,
     "metadata": {},
     "output_type": "execute_result"
    }
   ],
   "source": [
    "len(pages)"
   ]
  },
  {
   "cell_type": "code",
   "execution_count": 7,
   "metadata": {},
   "outputs": [],
   "source": [
    "import aiohttp\n",
    "import asyncio\n",
    "import lxml.html\n",
    "\n",
    "async def data_dict_index(url_list):\n",
    "    data_list = []\n",
    "    errors = []\n",
    "\n",
    "    async with aiohttp.ClientSession() as session:\n",
    "        for url in url_list:\n",
    "            try:\n",
    "                async with session.get(url) as response:\n",
    "                    html = await response.text()\n",
    "                    doc = lxml.html.fromstring(html)\n",
    "\n",
    "                    my_dict = {}\n",
    "                    for row in doc.xpath(\"//li[@class='labela']\"):\n",
    "                        a = row.text_content()\n",
    "                        b = row.getnext().text_content().replace(\"\\r\\n\", \"\")\n",
    "                        if a in my_dict.keys():\n",
    "                            if b < my_dict[a]:\n",
    "                                my_dict[a] = b\n",
    "                        else:\n",
    "                            my_dict[a] = b\n",
    "                    \n",
    "                    my_dict[\"Cijena\"] = doc.xpath(\"//div[@class='price']/span\")[0].text_content()\n",
    "                    my_dict[\"Link\"] = url\n",
    "\n",
    "                    datum = doc.xpath(\"//div[@class='published']\")\n",
    "                    date = datum[1].text_content()\n",
    "                    my_dict[\"Datum\"] = date\n",
    "\n",
    "                    data_list.append(my_dict)\n",
    "\n",
    "            except:\n",
    "                errors.append(url)\n",
    "\n",
    "    return data_list\n"
   ]
  },
  {
   "cell_type": "code",
   "execution_count": 5,
   "metadata": {},
   "outputs": [
    {
     "ename": "RuntimeError",
     "evalue": "This event loop is already running",
     "output_type": "error",
     "traceback": [
      "\u001b[1;31m---------------------------------------------------------------------------\u001b[0m",
      "\u001b[1;31mRuntimeError\u001b[0m                              Traceback (most recent call last)",
      "\u001b[1;32m<ipython-input-5-5055a9440687>\u001b[0m in \u001b[0;36m<module>\u001b[1;34m\u001b[0m\n\u001b[0;32m     13\u001b[0m \u001b[1;33m\u001b[0m\u001b[0m\n\u001b[0;32m     14\u001b[0m \u001b[0mloop\u001b[0m \u001b[1;33m=\u001b[0m \u001b[0masyncio\u001b[0m\u001b[1;33m.\u001b[0m\u001b[0mget_event_loop\u001b[0m\u001b[1;33m(\u001b[0m\u001b[1;33m)\u001b[0m\u001b[1;33m\u001b[0m\u001b[1;33m\u001b[0m\u001b[0m\n\u001b[1;32m---> 15\u001b[1;33m \u001b[0mresult\u001b[0m \u001b[1;33m=\u001b[0m \u001b[0mloop\u001b[0m\u001b[1;33m.\u001b[0m\u001b[0mrun_until_complete\u001b[0m\u001b[1;33m(\u001b[0m\u001b[0mmain\u001b[0m\u001b[1;33m(\u001b[0m\u001b[0mpages\u001b[0m\u001b[1;33m)\u001b[0m\u001b[1;33m)\u001b[0m\u001b[1;33m\u001b[0m\u001b[1;33m\u001b[0m\u001b[0m\n\u001b[0m\u001b[0;32m     16\u001b[0m \u001b[0mloop\u001b[0m\u001b[1;33m.\u001b[0m\u001b[0mclose\u001b[0m\u001b[1;33m(\u001b[0m\u001b[1;33m)\u001b[0m\u001b[1;33m\u001b[0m\u001b[1;33m\u001b[0m\u001b[0m\n\u001b[0;32m     17\u001b[0m \u001b[1;33m\u001b[0m\u001b[0m\n",
      "\u001b[1;32mc:\\Users\\user\\AppData\\Local\\Programs\\Python\\Python38\\lib\\asyncio\\base_events.py\u001b[0m in \u001b[0;36mrun_until_complete\u001b[1;34m(self, future)\u001b[0m\n\u001b[0;32m    590\u001b[0m         \"\"\"\n\u001b[0;32m    591\u001b[0m         \u001b[0mself\u001b[0m\u001b[1;33m.\u001b[0m\u001b[0m_check_closed\u001b[0m\u001b[1;33m(\u001b[0m\u001b[1;33m)\u001b[0m\u001b[1;33m\u001b[0m\u001b[1;33m\u001b[0m\u001b[0m\n\u001b[1;32m--> 592\u001b[1;33m         \u001b[0mself\u001b[0m\u001b[1;33m.\u001b[0m\u001b[0m_check_running\u001b[0m\u001b[1;33m(\u001b[0m\u001b[1;33m)\u001b[0m\u001b[1;33m\u001b[0m\u001b[1;33m\u001b[0m\u001b[0m\n\u001b[0m\u001b[0;32m    593\u001b[0m \u001b[1;33m\u001b[0m\u001b[0m\n\u001b[0;32m    594\u001b[0m         \u001b[0mnew_task\u001b[0m \u001b[1;33m=\u001b[0m \u001b[1;32mnot\u001b[0m \u001b[0mfutures\u001b[0m\u001b[1;33m.\u001b[0m\u001b[0misfuture\u001b[0m\u001b[1;33m(\u001b[0m\u001b[0mfuture\u001b[0m\u001b[1;33m)\u001b[0m\u001b[1;33m\u001b[0m\u001b[1;33m\u001b[0m\u001b[0m\n",
      "\u001b[1;32mc:\\Users\\user\\AppData\\Local\\Programs\\Python\\Python38\\lib\\asyncio\\base_events.py\u001b[0m in \u001b[0;36m_check_running\u001b[1;34m(self)\u001b[0m\n\u001b[0;32m    550\u001b[0m     \u001b[1;32mdef\u001b[0m \u001b[0m_check_running\u001b[0m\u001b[1;33m(\u001b[0m\u001b[0mself\u001b[0m\u001b[1;33m)\u001b[0m\u001b[1;33m:\u001b[0m\u001b[1;33m\u001b[0m\u001b[1;33m\u001b[0m\u001b[0m\n\u001b[0;32m    551\u001b[0m         \u001b[1;32mif\u001b[0m \u001b[0mself\u001b[0m\u001b[1;33m.\u001b[0m\u001b[0mis_running\u001b[0m\u001b[1;33m(\u001b[0m\u001b[1;33m)\u001b[0m\u001b[1;33m:\u001b[0m\u001b[1;33m\u001b[0m\u001b[1;33m\u001b[0m\u001b[0m\n\u001b[1;32m--> 552\u001b[1;33m             \u001b[1;32mraise\u001b[0m \u001b[0mRuntimeError\u001b[0m\u001b[1;33m(\u001b[0m\u001b[1;34m'This event loop is already running'\u001b[0m\u001b[1;33m)\u001b[0m\u001b[1;33m\u001b[0m\u001b[1;33m\u001b[0m\u001b[0m\n\u001b[0m\u001b[0;32m    553\u001b[0m         \u001b[1;32mif\u001b[0m \u001b[0mevents\u001b[0m\u001b[1;33m.\u001b[0m\u001b[0m_get_running_loop\u001b[0m\u001b[1;33m(\u001b[0m\u001b[1;33m)\u001b[0m \u001b[1;32mis\u001b[0m \u001b[1;32mnot\u001b[0m \u001b[1;32mNone\u001b[0m\u001b[1;33m:\u001b[0m\u001b[1;33m\u001b[0m\u001b[1;33m\u001b[0m\u001b[0m\n\u001b[0;32m    554\u001b[0m             raise RuntimeError(\n",
      "\u001b[1;31mRuntimeError\u001b[0m: This event loop is already running"
     ]
    }
   ],
   "source": [
    "import asyncio\n",
    "\n",
    "\n",
    "\n",
    "async def main(pages):\n",
    "    url_list = [\n",
    "        \"http://example.com/1\",\n",
    "        \"http://example.com/2\",\n",
    "        \"http://example.com/3\",\n",
    "    ]\n",
    "    data_list = await data_dict_index(pages)\n",
    "    return data_list\n",
    "\n",
    "loop = asyncio.get_event_loop()\n",
    "result = loop.run_until_complete(main(pages))\n",
    "loop.close()\n",
    "\n",
    "print(result)  # This will print the data_list to the console\n"
   ]
  },
  {
   "cell_type": "code",
   "execution_count": 8,
   "metadata": {},
   "outputs": [
    {
     "ename": "RuntimeError",
     "evalue": "This event loop is already running",
     "output_type": "error",
     "traceback": [
      "\u001b[1;31m---------------------------------------------------------------------------\u001b[0m",
      "\u001b[1;31mRuntimeError\u001b[0m                              Traceback (most recent call last)",
      "\u001b[1;32m<ipython-input-8-e2a615cf56ad>\u001b[0m in \u001b[0;36m<module>\u001b[1;34m\u001b[0m\n\u001b[0;32m     13\u001b[0m \u001b[1;33m\u001b[0m\u001b[0m\n\u001b[0;32m     14\u001b[0m \u001b[0mloop\u001b[0m \u001b[1;33m=\u001b[0m \u001b[0masyncio\u001b[0m\u001b[1;33m.\u001b[0m\u001b[0mget_event_loop\u001b[0m\u001b[1;33m(\u001b[0m\u001b[1;33m)\u001b[0m\u001b[1;33m\u001b[0m\u001b[1;33m\u001b[0m\u001b[0m\n\u001b[1;32m---> 15\u001b[1;33m \u001b[0mresult\u001b[0m \u001b[1;33m=\u001b[0m \u001b[0masyncio\u001b[0m\u001b[1;33m.\u001b[0m\u001b[0mget_event_loop\u001b[0m\u001b[1;33m(\u001b[0m\u001b[1;33m)\u001b[0m\u001b[1;33m.\u001b[0m\u001b[0mrun_until_complete\u001b[0m\u001b[1;33m(\u001b[0m\u001b[0mmain\u001b[0m\u001b[1;33m(\u001b[0m\u001b[0mpages\u001b[0m\u001b[1;33m)\u001b[0m\u001b[1;33m)\u001b[0m\u001b[1;33m\u001b[0m\u001b[1;33m\u001b[0m\u001b[0m\n\u001b[0m\u001b[0;32m     16\u001b[0m \u001b[0mloop\u001b[0m\u001b[1;33m.\u001b[0m\u001b[0mclose\u001b[0m\u001b[1;33m(\u001b[0m\u001b[1;33m)\u001b[0m\u001b[1;33m\u001b[0m\u001b[1;33m\u001b[0m\u001b[0m\n\u001b[0;32m     17\u001b[0m \u001b[1;33m\u001b[0m\u001b[0m\n",
      "\u001b[1;32mc:\\Users\\user\\AppData\\Local\\Programs\\Python\\Python38\\lib\\asyncio\\base_events.py\u001b[0m in \u001b[0;36mrun_until_complete\u001b[1;34m(self, future)\u001b[0m\n\u001b[0;32m    590\u001b[0m         \"\"\"\n\u001b[0;32m    591\u001b[0m         \u001b[0mself\u001b[0m\u001b[1;33m.\u001b[0m\u001b[0m_check_closed\u001b[0m\u001b[1;33m(\u001b[0m\u001b[1;33m)\u001b[0m\u001b[1;33m\u001b[0m\u001b[1;33m\u001b[0m\u001b[0m\n\u001b[1;32m--> 592\u001b[1;33m         \u001b[0mself\u001b[0m\u001b[1;33m.\u001b[0m\u001b[0m_check_running\u001b[0m\u001b[1;33m(\u001b[0m\u001b[1;33m)\u001b[0m\u001b[1;33m\u001b[0m\u001b[1;33m\u001b[0m\u001b[0m\n\u001b[0m\u001b[0;32m    593\u001b[0m \u001b[1;33m\u001b[0m\u001b[0m\n\u001b[0;32m    594\u001b[0m         \u001b[0mnew_task\u001b[0m \u001b[1;33m=\u001b[0m \u001b[1;32mnot\u001b[0m \u001b[0mfutures\u001b[0m\u001b[1;33m.\u001b[0m\u001b[0misfuture\u001b[0m\u001b[1;33m(\u001b[0m\u001b[0mfuture\u001b[0m\u001b[1;33m)\u001b[0m\u001b[1;33m\u001b[0m\u001b[1;33m\u001b[0m\u001b[0m\n",
      "\u001b[1;32mc:\\Users\\user\\AppData\\Local\\Programs\\Python\\Python38\\lib\\asyncio\\base_events.py\u001b[0m in \u001b[0;36m_check_running\u001b[1;34m(self)\u001b[0m\n\u001b[0;32m    550\u001b[0m     \u001b[1;32mdef\u001b[0m \u001b[0m_check_running\u001b[0m\u001b[1;33m(\u001b[0m\u001b[0mself\u001b[0m\u001b[1;33m)\u001b[0m\u001b[1;33m:\u001b[0m\u001b[1;33m\u001b[0m\u001b[1;33m\u001b[0m\u001b[0m\n\u001b[0;32m    551\u001b[0m         \u001b[1;32mif\u001b[0m \u001b[0mself\u001b[0m\u001b[1;33m.\u001b[0m\u001b[0mis_running\u001b[0m\u001b[1;33m(\u001b[0m\u001b[1;33m)\u001b[0m\u001b[1;33m:\u001b[0m\u001b[1;33m\u001b[0m\u001b[1;33m\u001b[0m\u001b[0m\n\u001b[1;32m--> 552\u001b[1;33m             \u001b[1;32mraise\u001b[0m \u001b[0mRuntimeError\u001b[0m\u001b[1;33m(\u001b[0m\u001b[1;34m'This event loop is already running'\u001b[0m\u001b[1;33m)\u001b[0m\u001b[1;33m\u001b[0m\u001b[1;33m\u001b[0m\u001b[0m\n\u001b[0m\u001b[0;32m    553\u001b[0m         \u001b[1;32mif\u001b[0m \u001b[0mevents\u001b[0m\u001b[1;33m.\u001b[0m\u001b[0m_get_running_loop\u001b[0m\u001b[1;33m(\u001b[0m\u001b[1;33m)\u001b[0m \u001b[1;32mis\u001b[0m \u001b[1;32mnot\u001b[0m \u001b[1;32mNone\u001b[0m\u001b[1;33m:\u001b[0m\u001b[1;33m\u001b[0m\u001b[1;33m\u001b[0m\u001b[0m\n\u001b[0;32m    554\u001b[0m             raise RuntimeError(\n",
      "\u001b[1;31mRuntimeError\u001b[0m: This event loop is already running"
     ]
    }
   ],
   "source": [
    "import asyncio\n",
    "\n",
    "\n",
    "\n",
    "async def main(pages):\n",
    "    url_list = [\n",
    "        \"http://example.com/1\",\n",
    "        \"http://example.com/2\",\n",
    "        \"http://example.com/3\",\n",
    "    ]\n",
    "    data_list = await data_dict_index(pages)\n",
    "    return data_list\n",
    "\n",
    "loop = asyncio.get_event_loop()\n",
    "result = asyncio.get_event_loop().run_until_complete(main(pages))\n",
    "loop.close()\n",
    "\n",
    "print(result)  # This will print the data_list to the console\n"
   ]
  },
  {
   "cell_type": "code",
   "execution_count": 2,
   "metadata": {},
   "outputs": [],
   "source": [
    "import asyncio\n",
    "import aiohttp\n",
    "from bs4 import BeautifulSoup\n",
    "\n",
    "async def fetch_page(session, url):\n",
    "    async with session.get(url) as response:\n",
    "        return await response.text()\n",
    "\n",
    "async def catch_links_all_pages(session, url):\n",
    "    oglasi = []\n",
    "    page1 = await fetch_page(session, url)\n",
    "    soup1 = BeautifulSoup(page1, \"lxml\")\n",
    "\n",
    "    # Get all pages with results\n",
    "    page_nav_class = soup1.find_all(\"ul\", attrs={\"class\": \"pagination\"})\n",
    "    page_nav = page_nav_class[0].find_all(\"li\")\n",
    "    pages = []\n",
    "    for item in page_nav:\n",
    "        try:\n",
    "            link = item.find(\"a\").get(\"href\")\n",
    "            if link is not None:\n",
    "                prefix = \"https://www.index.hr\"\n",
    "                link = prefix + link\n",
    "                pages.append(link)\n",
    "        except:\n",
    "            pass\n",
    "\n",
    "    pages = list(set(pages))\n",
    "\n",
    "    # Scrape all results from every page\n",
    "    for page in pages:\n",
    "        web_page = await fetch_page(session, page)\n",
    "        soup1 = BeautifulSoup(web_page, \"lxml\")\n",
    "        results = soup1.find_all(\"div\", attrs={\"class\": \"OglasiRezHolder\"})\n",
    "        for result in results:\n",
    "            try:\n",
    "                link = result.find(\"a\").get(\"href\")\n",
    "                oglasi.append(link)\n",
    "            except:\n",
    "                pass\n",
    "\n",
    "    return oglasi\n",
    "\n",
    "async def data_dict_index(session, url):\n",
    "    page = await fetch_page(session, url)\n",
    "\n",
    "    soup = BeautifulSoup(page, \"lxml\")\n",
    "\n",
    "    my_dict = {}\n",
    "    osnovno = soup.find_all(\"li\", attrs={\"class\": \"labela\"})\n",
    "    for row in osnovno:\n",
    "        a = row.text\n",
    "        b = row.findNextSibling().get_text().replace(\"\\r\\n\", \"\")\n",
    "        my_dict[a] = b\n",
    "    my_dict[\"Cijena\"] = soup.find(\"div\", attrs={\"class\": \"price\"}).find(\"span\").text\n",
    "    my_dict[\"Link\"] = url\n",
    "\n",
    "    datum = soup.find_all(\"div\", attrs={\"class\": \"published\"})\n",
    "    regex = r\"\\d{2}\\.\\d{2}\\.\\d{4}\"\n",
    "    date = re.findall(regex, datum[1].get_text())[0]\n",
    "    my_dict[\"Datum\"] = date\n",
    "\n",
    "    return my_dict\n",
    "\n",
    "async def scrape(url):\n",
    "    async with aiohttp.ClientSession() as session:\n",
    "        pages = await catch_links_all_pages(session, url)\n",
    "\n",
    "        data_list = []\n",
    "        for page in pages:\n",
    "            try:\n",
    "                data_list.append(await data_dict_index(session, page))\n",
    "            except:\n",
    "                pass\n",
    "\n",
    "        return data_list\n"
   ]
  },
  {
   "cell_type": "code",
   "execution_count": 4,
   "metadata": {},
   "outputs": [
    {
     "ename": "RuntimeError",
     "evalue": "This event loop is already running",
     "output_type": "error",
     "traceback": [
      "\u001b[1;31m---------------------------------------------------------------------------\u001b[0m",
      "\u001b[1;31mRuntimeError\u001b[0m                              Traceback (most recent call last)",
      "\u001b[1;32m<ipython-input-4-0825d336289d>\u001b[0m in \u001b[0;36m<module>\u001b[1;34m\u001b[0m\n\u001b[0;32m     19\u001b[0m \u001b[1;33m\u001b[0m\u001b[0m\n\u001b[0;32m     20\u001b[0m \u001b[0mloop\u001b[0m \u001b[1;33m=\u001b[0m \u001b[0masyncio\u001b[0m\u001b[1;33m.\u001b[0m\u001b[0mget_event_loop\u001b[0m\u001b[1;33m(\u001b[0m\u001b[1;33m)\u001b[0m\u001b[1;33m\u001b[0m\u001b[1;33m\u001b[0m\u001b[0m\n\u001b[1;32m---> 21\u001b[1;33m \u001b[0mdf\u001b[0m \u001b[1;33m=\u001b[0m \u001b[0mloop\u001b[0m\u001b[1;33m.\u001b[0m\u001b[0mrun_until_complete\u001b[0m\u001b[1;33m(\u001b[0m\u001b[0mmain\u001b[0m\u001b[1;33m(\u001b[0m\u001b[0murl\u001b[0m\u001b[1;33m)\u001b[0m\u001b[1;33m)\u001b[0m\u001b[1;33m\u001b[0m\u001b[1;33m\u001b[0m\u001b[0m\n\u001b[0m\u001b[0;32m     22\u001b[0m \u001b[1;33m\u001b[0m\u001b[0m\n\u001b[0;32m     23\u001b[0m \u001b[1;33m\u001b[0m\u001b[0m\n",
      "\u001b[1;32mc:\\Users\\user\\AppData\\Local\\Programs\\Python\\Python38\\lib\\asyncio\\base_events.py\u001b[0m in \u001b[0;36mrun_until_complete\u001b[1;34m(self, future)\u001b[0m\n\u001b[0;32m    590\u001b[0m         \"\"\"\n\u001b[0;32m    591\u001b[0m         \u001b[0mself\u001b[0m\u001b[1;33m.\u001b[0m\u001b[0m_check_closed\u001b[0m\u001b[1;33m(\u001b[0m\u001b[1;33m)\u001b[0m\u001b[1;33m\u001b[0m\u001b[1;33m\u001b[0m\u001b[0m\n\u001b[1;32m--> 592\u001b[1;33m         \u001b[0mself\u001b[0m\u001b[1;33m.\u001b[0m\u001b[0m_check_running\u001b[0m\u001b[1;33m(\u001b[0m\u001b[1;33m)\u001b[0m\u001b[1;33m\u001b[0m\u001b[1;33m\u001b[0m\u001b[0m\n\u001b[0m\u001b[0;32m    593\u001b[0m \u001b[1;33m\u001b[0m\u001b[0m\n\u001b[0;32m    594\u001b[0m         \u001b[0mnew_task\u001b[0m \u001b[1;33m=\u001b[0m \u001b[1;32mnot\u001b[0m \u001b[0mfutures\u001b[0m\u001b[1;33m.\u001b[0m\u001b[0misfuture\u001b[0m\u001b[1;33m(\u001b[0m\u001b[0mfuture\u001b[0m\u001b[1;33m)\u001b[0m\u001b[1;33m\u001b[0m\u001b[1;33m\u001b[0m\u001b[0m\n",
      "\u001b[1;32mc:\\Users\\user\\AppData\\Local\\Programs\\Python\\Python38\\lib\\asyncio\\base_events.py\u001b[0m in \u001b[0;36m_check_running\u001b[1;34m(self)\u001b[0m\n\u001b[0;32m    550\u001b[0m     \u001b[1;32mdef\u001b[0m \u001b[0m_check_running\u001b[0m\u001b[1;33m(\u001b[0m\u001b[0mself\u001b[0m\u001b[1;33m)\u001b[0m\u001b[1;33m:\u001b[0m\u001b[1;33m\u001b[0m\u001b[1;33m\u001b[0m\u001b[0m\n\u001b[0;32m    551\u001b[0m         \u001b[1;32mif\u001b[0m \u001b[0mself\u001b[0m\u001b[1;33m.\u001b[0m\u001b[0mis_running\u001b[0m\u001b[1;33m(\u001b[0m\u001b[1;33m)\u001b[0m\u001b[1;33m:\u001b[0m\u001b[1;33m\u001b[0m\u001b[1;33m\u001b[0m\u001b[0m\n\u001b[1;32m--> 552\u001b[1;33m             \u001b[1;32mraise\u001b[0m \u001b[0mRuntimeError\u001b[0m\u001b[1;33m(\u001b[0m\u001b[1;34m'This event loop is already running'\u001b[0m\u001b[1;33m)\u001b[0m\u001b[1;33m\u001b[0m\u001b[1;33m\u001b[0m\u001b[0m\n\u001b[0m\u001b[0;32m    553\u001b[0m         \u001b[1;32mif\u001b[0m \u001b[0mevents\u001b[0m\u001b[1;33m.\u001b[0m\u001b[0m_get_running_loop\u001b[0m\u001b[1;33m(\u001b[0m\u001b[1;33m)\u001b[0m \u001b[1;32mis\u001b[0m \u001b[1;32mnot\u001b[0m \u001b[1;32mNone\u001b[0m\u001b[1;33m:\u001b[0m\u001b[1;33m\u001b[0m\u001b[1;33m\u001b[0m\u001b[0m\n\u001b[0;32m    554\u001b[0m             raise RuntimeError(\n",
      "\u001b[1;31mRuntimeError\u001b[0m: This event loop is already running"
     ]
    }
   ],
   "source": [
    "import asyncio\n",
    "\n",
    "\n",
    "url = \"https://www.index.hr/oglasi/prodaja-stanova/gid/3278?pojam=&sortby=1&elementsNum=100&cijenaod=0&cijenado=21000000&tipoglasa=1&pojamZup=1164&grad=1578&naselje=&attr_Int_988=&attr_Int_887=&attr_bit_stan=&attr_bit_brojEtaza=&attr_gr_93_1=&attr_gr_93_2=&attr_Int_978=&attr_Int_1334=&attr_bit_eneregetskiCertifikat=&vezani_na=988-887_562-563_978-1334\"\n",
    "   \n",
    "\n",
    "import asyncio\n",
    "import pandas as pd\n",
    "\n",
    "async def main(url):\n",
    "    # Scrape the data\n",
    "    data = await scrape(url)\n",
    "    \n",
    "    # Create the data frame\n",
    "    df = pd.DataFrame(data)\n",
    "    \n",
    "    # Print the data frame\n",
    "    print(df)\n",
    "\n",
    "loop = asyncio.get_event_loop()\n",
    "df = loop.run_until_complete(main(url))\n",
    "\n",
    "\n",
    "print(df)\n",
    "\n",
    "loop.close()"
   ]
  },
  {
   "cell_type": "code",
   "execution_count": 5,
   "metadata": {},
   "outputs": [
    {
     "ename": "RuntimeError",
     "evalue": "This event loop is already running",
     "output_type": "error",
     "traceback": [
      "\u001b[1;31m---------------------------------------------------------------------------\u001b[0m",
      "\u001b[1;31mRuntimeError\u001b[0m                              Traceback (most recent call last)",
      "\u001b[1;32m<ipython-input-5-8afbbc48f12d>\u001b[0m in \u001b[0;36m<module>\u001b[1;34m\u001b[0m\n\u001b[0;32m     21\u001b[0m     \u001b[0mloop\u001b[0m\u001b[1;33m.\u001b[0m\u001b[0mclose\u001b[0m\u001b[1;33m(\u001b[0m\u001b[1;33m)\u001b[0m\u001b[1;33m\u001b[0m\u001b[1;33m\u001b[0m\u001b[0m\n\u001b[0;32m     22\u001b[0m \u001b[1;33m\u001b[0m\u001b[0m\n\u001b[1;32m---> 23\u001b[1;33m \u001b[0mrun_event_loop\u001b[0m\u001b[1;33m(\u001b[0m\u001b[0murl\u001b[0m\u001b[1;33m)\u001b[0m\u001b[1;33m\u001b[0m\u001b[1;33m\u001b[0m\u001b[0m\n\u001b[0m",
      "\u001b[1;32m<ipython-input-5-8afbbc48f12d>\u001b[0m in \u001b[0;36mrun_event_loop\u001b[1;34m(url)\u001b[0m\n\u001b[0;32m     17\u001b[0m \u001b[1;32mdef\u001b[0m \u001b[0mrun_event_loop\u001b[0m\u001b[1;33m(\u001b[0m\u001b[0murl\u001b[0m\u001b[1;33m)\u001b[0m\u001b[1;33m:\u001b[0m\u001b[1;33m\u001b[0m\u001b[1;33m\u001b[0m\u001b[0m\n\u001b[0;32m     18\u001b[0m     \u001b[0mloop\u001b[0m \u001b[1;33m=\u001b[0m \u001b[0masyncio\u001b[0m\u001b[1;33m.\u001b[0m\u001b[0mget_event_loop\u001b[0m\u001b[1;33m(\u001b[0m\u001b[1;33m)\u001b[0m\u001b[1;33m\u001b[0m\u001b[1;33m\u001b[0m\u001b[0m\n\u001b[1;32m---> 19\u001b[1;33m     \u001b[0mdf\u001b[0m \u001b[1;33m=\u001b[0m \u001b[0mloop\u001b[0m\u001b[1;33m.\u001b[0m\u001b[0mrun_until_complete\u001b[0m\u001b[1;33m(\u001b[0m\u001b[0mmain\u001b[0m\u001b[1;33m(\u001b[0m\u001b[0murl\u001b[0m\u001b[1;33m)\u001b[0m\u001b[1;33m)\u001b[0m\u001b[1;33m\u001b[0m\u001b[1;33m\u001b[0m\u001b[0m\n\u001b[0m\u001b[0;32m     20\u001b[0m     \u001b[0mprint\u001b[0m\u001b[1;33m(\u001b[0m\u001b[0mdf\u001b[0m\u001b[1;33m)\u001b[0m\u001b[1;33m\u001b[0m\u001b[1;33m\u001b[0m\u001b[0m\n\u001b[0;32m     21\u001b[0m     \u001b[0mloop\u001b[0m\u001b[1;33m.\u001b[0m\u001b[0mclose\u001b[0m\u001b[1;33m(\u001b[0m\u001b[1;33m)\u001b[0m\u001b[1;33m\u001b[0m\u001b[1;33m\u001b[0m\u001b[0m\n",
      "\u001b[1;32mc:\\Users\\user\\AppData\\Local\\Programs\\Python\\Python38\\lib\\asyncio\\base_events.py\u001b[0m in \u001b[0;36mrun_until_complete\u001b[1;34m(self, future)\u001b[0m\n\u001b[0;32m    590\u001b[0m         \"\"\"\n\u001b[0;32m    591\u001b[0m         \u001b[0mself\u001b[0m\u001b[1;33m.\u001b[0m\u001b[0m_check_closed\u001b[0m\u001b[1;33m(\u001b[0m\u001b[1;33m)\u001b[0m\u001b[1;33m\u001b[0m\u001b[1;33m\u001b[0m\u001b[0m\n\u001b[1;32m--> 592\u001b[1;33m         \u001b[0mself\u001b[0m\u001b[1;33m.\u001b[0m\u001b[0m_check_running\u001b[0m\u001b[1;33m(\u001b[0m\u001b[1;33m)\u001b[0m\u001b[1;33m\u001b[0m\u001b[1;33m\u001b[0m\u001b[0m\n\u001b[0m\u001b[0;32m    593\u001b[0m \u001b[1;33m\u001b[0m\u001b[0m\n\u001b[0;32m    594\u001b[0m         \u001b[0mnew_task\u001b[0m \u001b[1;33m=\u001b[0m \u001b[1;32mnot\u001b[0m \u001b[0mfutures\u001b[0m\u001b[1;33m.\u001b[0m\u001b[0misfuture\u001b[0m\u001b[1;33m(\u001b[0m\u001b[0mfuture\u001b[0m\u001b[1;33m)\u001b[0m\u001b[1;33m\u001b[0m\u001b[1;33m\u001b[0m\u001b[0m\n",
      "\u001b[1;32mc:\\Users\\user\\AppData\\Local\\Programs\\Python\\Python38\\lib\\asyncio\\base_events.py\u001b[0m in \u001b[0;36m_check_running\u001b[1;34m(self)\u001b[0m\n\u001b[0;32m    550\u001b[0m     \u001b[1;32mdef\u001b[0m \u001b[0m_check_running\u001b[0m\u001b[1;33m(\u001b[0m\u001b[0mself\u001b[0m\u001b[1;33m)\u001b[0m\u001b[1;33m:\u001b[0m\u001b[1;33m\u001b[0m\u001b[1;33m\u001b[0m\u001b[0m\n\u001b[0;32m    551\u001b[0m         \u001b[1;32mif\u001b[0m \u001b[0mself\u001b[0m\u001b[1;33m.\u001b[0m\u001b[0mis_running\u001b[0m\u001b[1;33m(\u001b[0m\u001b[1;33m)\u001b[0m\u001b[1;33m:\u001b[0m\u001b[1;33m\u001b[0m\u001b[1;33m\u001b[0m\u001b[0m\n\u001b[1;32m--> 552\u001b[1;33m             \u001b[1;32mraise\u001b[0m \u001b[0mRuntimeError\u001b[0m\u001b[1;33m(\u001b[0m\u001b[1;34m'This event loop is already running'\u001b[0m\u001b[1;33m)\u001b[0m\u001b[1;33m\u001b[0m\u001b[1;33m\u001b[0m\u001b[0m\n\u001b[0m\u001b[0;32m    553\u001b[0m         \u001b[1;32mif\u001b[0m \u001b[0mevents\u001b[0m\u001b[1;33m.\u001b[0m\u001b[0m_get_running_loop\u001b[0m\u001b[1;33m(\u001b[0m\u001b[1;33m)\u001b[0m \u001b[1;32mis\u001b[0m \u001b[1;32mnot\u001b[0m \u001b[1;32mNone\u001b[0m\u001b[1;33m:\u001b[0m\u001b[1;33m\u001b[0m\u001b[1;33m\u001b[0m\u001b[0m\n\u001b[0;32m    554\u001b[0m             raise RuntimeError(\n",
      "\u001b[1;31mRuntimeError\u001b[0m: This event loop is already running"
     ]
    }
   ],
   "source": [
    "import asyncio\n",
    "import pandas as pd\n",
    "\n",
    "url = \"https://www.index.hr/oglasi/prodaja-stanova/gid/3278?pojam=&sortby=1&elementsNum=100&cijenaod=0&cijenado=21000000&tipoglasa=1&pojamZup=1164&grad=1578&naselje=&attr_Int_988=&attr_Int_887=&attr_bit_stan=&attr_bit_brojEtaza=&attr_gr_93_1=&attr_gr_93_2=&attr_Int_978=&attr_Int_1334=&attr_bit_eneregetskiCertifikat=&vezani_na=988-887_562-563_978-1334\"\n",
    "\n",
    "\n",
    "async def main(url):\n",
    "    # Scrape the data\n",
    "    data = await scrape(url)\n",
    "    \n",
    "    # Create the data frame\n",
    "    df = pd.DataFrame(data)\n",
    "    \n",
    "    # Return the data frame\n",
    "    return df\n",
    "\n",
    "def run_event_loop(url):\n",
    "    loop = asyncio.get_event_loop()\n",
    "    df = loop.run_until_complete(main(url))\n",
    "    print(df)\n",
    "    loop.close()\n",
    "\n",
    "run_event_loop(url)\n"
   ]
  },
  {
   "cell_type": "code",
   "execution_count": 3,
   "metadata": {},
   "outputs": [
    {
     "name": "stdout",
     "output_type": "stream",
     "text": [
      "Running event loop\n"
     ]
    },
    {
     "ename": "RuntimeError",
     "evalue": "This event loop is already running",
     "output_type": "error",
     "traceback": [
      "\u001b[1;31m---------------------------------------------------------------------------\u001b[0m",
      "\u001b[1;31mRuntimeError\u001b[0m                              Traceback (most recent call last)",
      "\u001b[1;32m<ipython-input-3-07a23a05dc75>\u001b[0m in \u001b[0;36m<module>\u001b[1;34m\u001b[0m\n\u001b[0;32m     23\u001b[0m     \u001b[0mloop\u001b[0m\u001b[1;33m.\u001b[0m\u001b[0mclose\u001b[0m\u001b[1;33m(\u001b[0m\u001b[1;33m)\u001b[0m\u001b[1;33m\u001b[0m\u001b[1;33m\u001b[0m\u001b[0m\n\u001b[0;32m     24\u001b[0m \u001b[1;33m\u001b[0m\u001b[0m\n\u001b[1;32m---> 25\u001b[1;33m \u001b[0mrun_event_loop\u001b[0m\u001b[1;33m(\u001b[0m\u001b[0murl\u001b[0m\u001b[1;33m)\u001b[0m\u001b[1;33m\u001b[0m\u001b[1;33m\u001b[0m\u001b[0m\n\u001b[0m",
      "\u001b[1;32m<ipython-input-3-07a23a05dc75>\u001b[0m in \u001b[0;36mrun_event_loop\u001b[1;34m(url)\u001b[0m\n\u001b[0;32m     19\u001b[0m     \u001b[0mprint\u001b[0m\u001b[1;33m(\u001b[0m\u001b[1;34m\"Running event loop\"\u001b[0m\u001b[1;33m)\u001b[0m\u001b[1;33m\u001b[0m\u001b[1;33m\u001b[0m\u001b[0m\n\u001b[0;32m     20\u001b[0m     \u001b[0mloop\u001b[0m \u001b[1;33m=\u001b[0m \u001b[0masyncio\u001b[0m\u001b[1;33m.\u001b[0m\u001b[0mget_event_loop\u001b[0m\u001b[1;33m(\u001b[0m\u001b[1;33m)\u001b[0m\u001b[1;33m\u001b[0m\u001b[1;33m\u001b[0m\u001b[0m\n\u001b[1;32m---> 21\u001b[1;33m     \u001b[0mdf\u001b[0m \u001b[1;33m=\u001b[0m \u001b[0mloop\u001b[0m\u001b[1;33m.\u001b[0m\u001b[0mrun_until_complete\u001b[0m\u001b[1;33m(\u001b[0m\u001b[0mmain\u001b[0m\u001b[1;33m(\u001b[0m\u001b[0murl\u001b[0m\u001b[1;33m)\u001b[0m\u001b[1;33m)\u001b[0m\u001b[1;33m\u001b[0m\u001b[1;33m\u001b[0m\u001b[0m\n\u001b[0m\u001b[0;32m     22\u001b[0m     \u001b[0mprint\u001b[0m\u001b[1;33m(\u001b[0m\u001b[0mdf\u001b[0m\u001b[1;33m)\u001b[0m\u001b[1;33m\u001b[0m\u001b[1;33m\u001b[0m\u001b[0m\n\u001b[0;32m     23\u001b[0m     \u001b[0mloop\u001b[0m\u001b[1;33m.\u001b[0m\u001b[0mclose\u001b[0m\u001b[1;33m(\u001b[0m\u001b[1;33m)\u001b[0m\u001b[1;33m\u001b[0m\u001b[1;33m\u001b[0m\u001b[0m\n",
      "\u001b[1;32mc:\\Users\\user\\AppData\\Local\\Programs\\Python\\Python38\\lib\\asyncio\\base_events.py\u001b[0m in \u001b[0;36mrun_until_complete\u001b[1;34m(self, future)\u001b[0m\n\u001b[0;32m    590\u001b[0m         \"\"\"\n\u001b[0;32m    591\u001b[0m         \u001b[0mself\u001b[0m\u001b[1;33m.\u001b[0m\u001b[0m_check_closed\u001b[0m\u001b[1;33m(\u001b[0m\u001b[1;33m)\u001b[0m\u001b[1;33m\u001b[0m\u001b[1;33m\u001b[0m\u001b[0m\n\u001b[1;32m--> 592\u001b[1;33m         \u001b[0mself\u001b[0m\u001b[1;33m.\u001b[0m\u001b[0m_check_running\u001b[0m\u001b[1;33m(\u001b[0m\u001b[1;33m)\u001b[0m\u001b[1;33m\u001b[0m\u001b[1;33m\u001b[0m\u001b[0m\n\u001b[0m\u001b[0;32m    593\u001b[0m \u001b[1;33m\u001b[0m\u001b[0m\n\u001b[0;32m    594\u001b[0m         \u001b[0mnew_task\u001b[0m \u001b[1;33m=\u001b[0m \u001b[1;32mnot\u001b[0m \u001b[0mfutures\u001b[0m\u001b[1;33m.\u001b[0m\u001b[0misfuture\u001b[0m\u001b[1;33m(\u001b[0m\u001b[0mfuture\u001b[0m\u001b[1;33m)\u001b[0m\u001b[1;33m\u001b[0m\u001b[1;33m\u001b[0m\u001b[0m\n",
      "\u001b[1;32mc:\\Users\\user\\AppData\\Local\\Programs\\Python\\Python38\\lib\\asyncio\\base_events.py\u001b[0m in \u001b[0;36m_check_running\u001b[1;34m(self)\u001b[0m\n\u001b[0;32m    550\u001b[0m     \u001b[1;32mdef\u001b[0m \u001b[0m_check_running\u001b[0m\u001b[1;33m(\u001b[0m\u001b[0mself\u001b[0m\u001b[1;33m)\u001b[0m\u001b[1;33m:\u001b[0m\u001b[1;33m\u001b[0m\u001b[1;33m\u001b[0m\u001b[0m\n\u001b[0;32m    551\u001b[0m         \u001b[1;32mif\u001b[0m \u001b[0mself\u001b[0m\u001b[1;33m.\u001b[0m\u001b[0mis_running\u001b[0m\u001b[1;33m(\u001b[0m\u001b[1;33m)\u001b[0m\u001b[1;33m:\u001b[0m\u001b[1;33m\u001b[0m\u001b[1;33m\u001b[0m\u001b[0m\n\u001b[1;32m--> 552\u001b[1;33m             \u001b[1;32mraise\u001b[0m \u001b[0mRuntimeError\u001b[0m\u001b[1;33m(\u001b[0m\u001b[1;34m'This event loop is already running'\u001b[0m\u001b[1;33m)\u001b[0m\u001b[1;33m\u001b[0m\u001b[1;33m\u001b[0m\u001b[0m\n\u001b[0m\u001b[0;32m    553\u001b[0m         \u001b[1;32mif\u001b[0m \u001b[0mevents\u001b[0m\u001b[1;33m.\u001b[0m\u001b[0m_get_running_loop\u001b[0m\u001b[1;33m(\u001b[0m\u001b[1;33m)\u001b[0m \u001b[1;32mis\u001b[0m \u001b[1;32mnot\u001b[0m \u001b[1;32mNone\u001b[0m\u001b[1;33m:\u001b[0m\u001b[1;33m\u001b[0m\u001b[1;33m\u001b[0m\u001b[0m\n\u001b[0;32m    554\u001b[0m             raise RuntimeError(\n",
      "\u001b[1;31mRuntimeError\u001b[0m: This event loop is already running"
     ]
    }
   ],
   "source": [
    "import asyncio\n",
    "import pandas as pd\n",
    "\n",
    "url = \"https://www.index.hr/oglasi/prodaja-stanova/gid/3278?pojam=&sortby=1&elementsNum=100&cijenaod=0&cijenado=21000000&tipoglasa=1&pojamZup=1164&grad=1578&naselje=&attr_Int_988=&attr_Int_887=&attr_bit_stan=&attr_bit_brojEtaza=&attr_gr_93_1=&attr_gr_93_2=&attr_Int_978=&attr_Int_1334=&attr_bit_eneregetskiCertifikat=&vezani_na=988-887_562-563_978-1334\"\n",
    "\n",
    "\n",
    "async def main(url):\n",
    "    print(\"Running main function\")\n",
    "    # Scrape the data\n",
    "    data = await scrape(url)\n",
    "    \n",
    "    # Create the data frame\n",
    "    df = pd.DataFrame(data)\n",
    "    \n",
    "    # Return the data frame\n",
    "    return df\n",
    "\n",
    "def run_event_loop(url):\n",
    "    print(\"Running event loop\")\n",
    "    loop = asyncio.get_event_loop()\n",
    "    df = loop.run_until_complete(main(url))\n",
    "    print(df)\n",
    "    loop.close()\n",
    "\n",
    "run_event_loop(url)\n"
   ]
  },
  {
   "cell_type": "code",
   "execution_count": 3,
   "metadata": {},
   "outputs": [],
   "source": [
    "\n",
    "#Data Scraping Functions\n",
    "\n",
    "def catch_links_all_pages(url):\n",
    "    oglasi = []\n",
    "    page1 = requests.get(url)\n",
    "    soup1 = BeautifulSoup(page1.content, \"html.parser\")\n",
    "\n",
    "    #Extract the number of pages from navigation bar\n",
    "    page_nav_class = soup1.find_all('ul', attrs={'class':\"pagination\"}) \n",
    "    page_nav = page_nav_class[0].find_all('li')\n",
    "    #Take the last navigation element\n",
    "    last = page_nav[-1]\n",
    "    #Extract the number and clean data\n",
    "    page_number = last.find('a').get('href')[-3:]\n",
    "    page_number = re.sub(\"[^0-9]\", \"\", page_number)\n",
    "    fix = \"&num=\"\n",
    "    \n",
    "    #Create a list of all pages with links\n",
    "    pages = []\n",
    "    pages.append(url)\n",
    "    for i in range(2,int(page_number)+1):\n",
    "            link = url + fix + str(i)\n",
    "            pages.append(link)\n",
    "    \n",
    "    pages = list(set(pages))\n",
    "       \n",
    "    #Scrape all resluts from every page\n",
    "    for page in pages:        \n",
    "        web_page = requests.get(page)\n",
    "        soup1 = BeautifulSoup(web_page.content, \"html.parser\")\n",
    "        results = soup1.find_all('div', attrs={'class':\"OglasiRezHolder\"}) \n",
    "        for result in results:\n",
    "            try:\n",
    "                link = result.find('a').get('href')\n",
    "                oglasi.append(link)\n",
    "            except:\n",
    "                pass\n",
    "\n",
    "    oglasi = list(set(oglasi))\n",
    "\n",
    "    return oglasi\n",
    "\n",
    "def data_dict_index(url):\n",
    "    page = requests.get(url)    \n",
    "\n",
    "    soup = BeautifulSoup(page.content, \"html.parser\")\n",
    "\n",
    "    my_dict = {}\n",
    "    osnovno = soup.find_all('li', attrs={'class':'labela'})\n",
    "    for row in osnovno:\n",
    "        a = row.text\n",
    "        b = row.findNextSibling().get_text().replace(\"\\r\\n\", \"\")\n",
    "\n",
    "        if a in my_dict.keys():\n",
    "            if b < my_dict[a]:\n",
    "                my_dict[a] = b\n",
    "            else:\n",
    "                pass\n",
    "        else:\n",
    "            my_dict[a] = b\n",
    "    \n",
    "    my_dict[\"Cijena\"] = soup.find('div', attrs={'class':'price'}).find('span').text\n",
    "    my_dict[\"Link\"] = url\n",
    "\n",
    "    datum = soup.find_all('div', attrs={'class':'published'})\n",
    "    regex = r\"\\d{2}.\\d{2}.\\d{4}\"\n",
    "    date = re.findall(regex,datum[1].get_text())[0]\n",
    "    my_dict[\"Datum\"] = date\n",
    "    return my_dict\n",
    "\n",
    "def dataframe_cleaner(df):\n",
    "    #df = pd.DataFrame(data_list)\n",
    "\n",
    "    #Data Cleaning\n",
    "\n",
    "    #Drop rows w/o sqm, convert sqm to float\n",
    "    df = df[df['Stambena površina u m2'].notna()]\n",
    "    df[\"Stambena površina u m2\"] = df[\"Stambena površina u m2\"].str.replace(\",\",\".\")\n",
    "    df[\"Stambena površina u m2\"] = df[\"Stambena površina u m2\"].astype('float')\n",
    "\n",
    "    #Convert price to float, remove no price rows, rempve unrealistic low prices\n",
    "    df[\"Cijena\"] = df[\"Cijena\"].str.replace(\"€\",\"\")\n",
    "\n",
    "    df[\"Cijena\"] = df[\"Cijena\"].str.replace(\".\",\"\")\n",
    "    df[\"Cijena\"] = df[\"Cijena\"].str.replace(\",\",\".\")\n",
    "\n",
    "    df[\"Cijena\"] = df[\"Cijena\"].str.replace(\" \",\"\")\n",
    "\n",
    "    df = df[df[\"Cijena\"] != \"0,00 \"]\n",
    "    df[\"Cijena\"] = df[\"Cijena\"].astype('float')\n",
    "    df = df[df[\"Cijena\"] > 10000]\n",
    "\n",
    "    #Replace Nan with \"No info\"\n",
    "    df['Godina izgradnje'].fillna('No INFO', inplace=True)\n",
    "\n",
    "    #Remove where m2 == 0\n",
    "    df = df[df[\"Stambena površina u m2\"] > 10]\n",
    "    df = df[df[\"Stambena površina u m2\"] < 10000]\n",
    "\n",
    "\n",
    "\n",
    "\n",
    "    #Add a price per sqm meter column\n",
    "    df[\"€/m²\"] = round(df[\"Cijena\"] / df[\"Stambena površina u m2\"],2)\n",
    "\n",
    "    #Convert Datum to datetime\n",
    "    df[\"Datum\"] = pd.to_datetime(df[\"Datum\"], format=\"%d.%m.%Y\")\n",
    "\n",
    "    #Calculate days online\n",
    "    df['Days Online'] = ( pd.Timestamp('now') - df['Datum']).dt.days\n",
    "\n",
    "    return df"
   ]
  },
  {
   "cell_type": "code",
   "execution_count": 17,
   "metadata": {},
   "outputs": [
    {
     "name": "stdout",
     "output_type": "stream",
     "text": [
      "589\n"
     ]
    }
   ],
   "source": [
    "url = \"https://www.index.hr/oglasi/prodaja-stanova/gid/3278?pojam=&sortby=1&elementsNum=100&cijenaod=0&cijenado=21000000&tipoglasa=1&pojamZup=1154&grad=1294&naselje=&attr_Int_988=&attr_Int_887=&attr_bit_stan=&attr_bit_brojEtaza=&attr_gr_93_1=&attr_gr_93_2=&attr_Int_978=&attr_Int_1334=&attr_bit_eneregetskiCertifikat=&vezani_na=988-887_562-563_978-1334\"\n",
    "oglasi = []\n",
    "page1 = requests.get(url)\n",
    "soup1 = BeautifulSoup(page1.content, \"html.parser\")\n",
    "\n",
    "#Extract the number of pages from navigation bar\n",
    "page_nav_class = soup1.find_all('ul', attrs={'class':\"pagination\"}) \n",
    "page_nav = page_nav_class[0].find_all('li')\n",
    "\n",
    "\n",
    "pages = []\n",
    "\n",
    "if not page_nav:\n",
    "    pages.append(url)\n",
    "\n",
    "else:\n",
    "    #Take the last navigation element\n",
    "    last = page_nav[-1]\n",
    "    #Extract the number and clean data\n",
    "    page_number = last.find('a').get('href')[-3:]\n",
    "    page_number = re.sub(\"[^0-9]\", \"\", page_number)\n",
    "    fix = \"&num=\"\n",
    "    # print(page_number)\n",
    "\n",
    "    #Create a list of all pages with links\n",
    "    pages.append(url)\n",
    "    for i in range(2,int(page_number)+1):\n",
    "            link = url + fix + str(i)\n",
    "            pages.append(link)\n",
    "\n",
    "    pages = list(set(pages))\n",
    "\n",
    "#Scrape all resluts from every page\n",
    "for page in pages:        \n",
    "    web_page = requests.get(page)\n",
    "    soup1 = BeautifulSoup(web_page.content, \"html.parser\")\n",
    "    results = soup1.find_all('div', attrs={'class':\"OglasiRezHolder\"}) \n",
    "    # print(len(results))\n",
    "    for result in results:\n",
    "        try:\n",
    "            link = result.find('a').get('href')\n",
    "            oglasi.append(link)\n",
    "        except:\n",
    "            pass\n",
    "\n",
    "print(len(oglasi))"
   ]
  },
  {
   "cell_type": "code",
   "execution_count": 12,
   "metadata": {},
   "outputs": [
    {
     "ename": "IndexError",
     "evalue": "list index out of range",
     "output_type": "error",
     "traceback": [
      "\u001b[1;31m---------------------------------------------------------------------------\u001b[0m",
      "\u001b[1;31mIndexError\u001b[0m                                Traceback (most recent call last)",
      "\u001b[1;32mc:\\Users\\borna.molnar-erhatic\\OneDrive - Swietelsky AG\\Dokumente\\06 Real Estate\\RealEstateApp\\Tester.ipynb Zelle 4\u001b[0m in \u001b[0;36m<module>\u001b[1;34m\u001b[0m\n\u001b[0;32m      <a href='vscode-notebook-cell:/c%3A/Users/borna.molnar-erhatic/OneDrive%20-%20Swietelsky%20AG/Dokumente/06%20Real%20Estate/RealEstateApp/Tester.ipynb#X40sZmlsZQ%3D%3D?line=3'>4</a>\u001b[0m ime \u001b[39m=\u001b[39m \u001b[39m\"\u001b[39m\u001b[39m_varazdin\u001b[39m\u001b[39m\"\u001b[39m\n\u001b[0;32m      <a href='vscode-notebook-cell:/c%3A/Users/borna.molnar-erhatic/OneDrive%20-%20Swietelsky%20AG/Dokumente/06%20Real%20Estate/RealEstateApp/Tester.ipynb#X40sZmlsZQ%3D%3D?line=7'>8</a>\u001b[0m \u001b[39m#find all pages\u001b[39;00m\n\u001b[1;32m----> <a href='vscode-notebook-cell:/c%3A/Users/borna.molnar-erhatic/OneDrive%20-%20Swietelsky%20AG/Dokumente/06%20Real%20Estate/RealEstateApp/Tester.ipynb#X40sZmlsZQ%3D%3D?line=8'>9</a>\u001b[0m pages \u001b[39m=\u001b[39m catch_links_all_pages(url)\n\u001b[0;32m     <a href='vscode-notebook-cell:/c%3A/Users/borna.molnar-erhatic/OneDrive%20-%20Swietelsky%20AG/Dokumente/06%20Real%20Estate/RealEstateApp/Tester.ipynb#X40sZmlsZQ%3D%3D?line=9'>10</a>\u001b[0m \u001b[39mlen\u001b[39m(pages)\n",
      "\u001b[1;32mc:\\Users\\borna.molnar-erhatic\\OneDrive - Swietelsky AG\\Dokumente\\06 Real Estate\\RealEstateApp\\Tester.ipynb Zelle 4\u001b[0m in \u001b[0;36mcatch_links_all_pages\u001b[1;34m(url)\u001b[0m\n\u001b[0;32m     <a href='vscode-notebook-cell:/c%3A/Users/borna.molnar-erhatic/OneDrive%20-%20Swietelsky%20AG/Dokumente/06%20Real%20Estate/RealEstateApp/Tester.ipynb#X40sZmlsZQ%3D%3D?line=9'>10</a>\u001b[0m page_nav \u001b[39m=\u001b[39m page_nav_class[\u001b[39m0\u001b[39m]\u001b[39m.\u001b[39mfind_all(\u001b[39m'\u001b[39m\u001b[39mli\u001b[39m\u001b[39m'\u001b[39m)\n\u001b[0;32m     <a href='vscode-notebook-cell:/c%3A/Users/borna.molnar-erhatic/OneDrive%20-%20Swietelsky%20AG/Dokumente/06%20Real%20Estate/RealEstateApp/Tester.ipynb#X40sZmlsZQ%3D%3D?line=10'>11</a>\u001b[0m \u001b[39m#Take the last navigation element\u001b[39;00m\n\u001b[1;32m---> <a href='vscode-notebook-cell:/c%3A/Users/borna.molnar-erhatic/OneDrive%20-%20Swietelsky%20AG/Dokumente/06%20Real%20Estate/RealEstateApp/Tester.ipynb#X40sZmlsZQ%3D%3D?line=11'>12</a>\u001b[0m last \u001b[39m=\u001b[39m page_nav[\u001b[39m-\u001b[39;49m\u001b[39m1\u001b[39;49m]\n\u001b[0;32m     <a href='vscode-notebook-cell:/c%3A/Users/borna.molnar-erhatic/OneDrive%20-%20Swietelsky%20AG/Dokumente/06%20Real%20Estate/RealEstateApp/Tester.ipynb#X40sZmlsZQ%3D%3D?line=12'>13</a>\u001b[0m \u001b[39m#Extract the number and clean data\u001b[39;00m\n\u001b[0;32m     <a href='vscode-notebook-cell:/c%3A/Users/borna.molnar-erhatic/OneDrive%20-%20Swietelsky%20AG/Dokumente/06%20Real%20Estate/RealEstateApp/Tester.ipynb#X40sZmlsZQ%3D%3D?line=13'>14</a>\u001b[0m page_number \u001b[39m=\u001b[39m last\u001b[39m.\u001b[39mfind(\u001b[39m'\u001b[39m\u001b[39ma\u001b[39m\u001b[39m'\u001b[39m)\u001b[39m.\u001b[39mget(\u001b[39m'\u001b[39m\u001b[39mhref\u001b[39m\u001b[39m'\u001b[39m)[\u001b[39m-\u001b[39m\u001b[39m3\u001b[39m:]\n",
      "\u001b[1;31mIndexError\u001b[0m: list index out of range"
     ]
    }
   ],
   "source": [
    "\n",
    "url = \"https://www.index.hr/oglasi/najam-stanova/gid/3279?pojam=&sortby=1&elementsNum=100&cijenaod=0&cijenado=21000000&tipoglasa=1&pojamZup=1166&grad=0&naselje=&attr_Int_988=&attr_Int_887=&attr_bit_stan=&attr_bit_brojEtaza=&attr_gr_93_1=&attr_gr_93_2=&attr_Int_978=&attr_Int_1334=&attr_bit_eneregetskiCertifikat=&vezani_na=988-887_562-563_978-1334\"\n",
    "\n",
    "city_name = \"Varazdin\"\n",
    "ime = \"_varazdin\"\n",
    "\n",
    "\n",
    "\n",
    "#find all pages\n",
    "pages = catch_links_all_pages(url)\n",
    "len(pages)"
   ]
  },
  {
   "cell_type": "code",
   "execution_count": 4,
   "metadata": {},
   "outputs": [],
   "source": [
    "url = 'https://www.index.hr/oglasi/najam-stanova/gid/3279?pojam=&sortby=1&elementsNum=100&cijenaod=0&cijenado=21000000&tipoglasa=1&pojamZup=1162&grad=1511&naselje=&attr_Int_988=&attr_Int_887=&attr_bit_stan=&attr_bit_brojEtaza=&attr_gr_93_1=&attr_gr_93_2=&attr_Int_978=&attr_Int_1334=&attr_bit_eneregetskiCertifikat=&vezani_na=988-887_562-563_978-1334'\n",
    "\n",
    "url_ro = \"https://www.index.hr/oglasi/prodaja-stanova/gid/3278?pojam=&sortby=1&elementsNum=100&cijenaod=0&cijenado=21000000&tipoglasa=1&pojamZup=1154&grad=1294&naselje=&attr_Int_988=&attr_Int_887=&attr_bit_stan=&attr_bit_brojEtaza=&attr_gr_93_1=&attr_gr_93_2=&attr_Int_978=&attr_Int_1334=&attr_bit_eneregetskiCertifikat=&vezani_na=988-887_562-563_978-1334\"\n",
    "pages = catch_links_all_pages(url_ro)\n",
    "\n",
    "\n",
    "\n",
    "\n",
    "#scrape all pages\n",
    "data_list = []\n",
    "for page in pages:\n",
    "    try:\n",
    "        data_list.append(data_dict_index(page))\n",
    "    except:\n",
    "        pass\n",
    "\n",
    "#create dataframe\n",
    "df = pd.DataFrame(data_list)"
   ]
  },
  {
   "cell_type": "code",
   "execution_count": 18,
   "metadata": {},
   "outputs": [
    {
     "data": {
      "text/plain": [
       "2692"
      ]
     },
     "execution_count": 18,
     "metadata": {},
     "output_type": "execute_result"
    }
   ],
   "source": [
    "len(df_raw.index)"
   ]
  },
  {
   "cell_type": "code",
   "execution_count": 24,
   "metadata": {},
   "outputs": [
    {
     "data": {
      "text/html": [
       "<div>\n",
       "<style scoped>\n",
       "    .dataframe tbody tr th:only-of-type {\n",
       "        vertical-align: middle;\n",
       "    }\n",
       "\n",
       "    .dataframe tbody tr th {\n",
       "        vertical-align: top;\n",
       "    }\n",
       "\n",
       "    .dataframe thead th {\n",
       "        text-align: right;\n",
       "    }\n",
       "</style>\n",
       "<table border=\"1\" class=\"dataframe\">\n",
       "  <thead>\n",
       "    <tr style=\"text-align: right;\">\n",
       "      <th></th>\n",
       "      <th>Županija</th>\n",
       "      <th>Grad/općina</th>\n",
       "      <th>Naselje</th>\n",
       "      <th>Stambena površina u m2</th>\n",
       "      <th>Broj soba</th>\n",
       "      <th>Kat</th>\n",
       "      <th>Zamjena</th>\n",
       "      <th>Tip oglasa</th>\n",
       "      <th>Prodavač</th>\n",
       "      <th>Broj etaža stana</th>\n",
       "      <th>...</th>\n",
       "      <th>Površina balkona u m2</th>\n",
       "      <th>Grijanje</th>\n",
       "      <th>email</th>\n",
       "      <th>Tip kuće</th>\n",
       "      <th>Broj etaža kuće</th>\n",
       "      <th>Površina okućnice u m2</th>\n",
       "      <th>Tip nekretnine za odmor</th>\n",
       "      <th>Provizija</th>\n",
       "      <th>Pozicija poslovnog prostora</th>\n",
       "      <th>Namjena poslovnog prostora</th>\n",
       "    </tr>\n",
       "  </thead>\n",
       "  <tbody>\n",
       "    <tr>\n",
       "      <th>0</th>\n",
       "      <td>Primorsko-goranska</td>\n",
       "      <td>Rijeka</td>\n",
       "      <td>Podmurvice</td>\n",
       "      <td>72</td>\n",
       "      <td>3-3.5 sobni\\n</td>\n",
       "      <td>3\\n</td>\n",
       "      <td>ne</td>\n",
       "      <td>ponuda</td>\n",
       "      <td>pravna osoba</td>\n",
       "      <td>Jednoetažni\\n</td>\n",
       "      <td>...</td>\n",
       "      <td>NaN</td>\n",
       "      <td>NaN</td>\n",
       "      <td>NaN</td>\n",
       "      <td>NaN</td>\n",
       "      <td>NaN</td>\n",
       "      <td>NaN</td>\n",
       "      <td>NaN</td>\n",
       "      <td>NaN</td>\n",
       "      <td>NaN</td>\n",
       "      <td>NaN</td>\n",
       "    </tr>\n",
       "    <tr>\n",
       "      <th>1</th>\n",
       "      <td>Primorsko-goranska</td>\n",
       "      <td>Rijeka</td>\n",
       "      <td>Centar</td>\n",
       "      <td>48</td>\n",
       "      <td>2</td>\n",
       "      <td>NaN</td>\n",
       "      <td>ne</td>\n",
       "      <td>ponuda</td>\n",
       "      <td>pravna osoba</td>\n",
       "      <td>NaN</td>\n",
       "      <td>...</td>\n",
       "      <td>NaN</td>\n",
       "      <td>NaN</td>\n",
       "      <td>NaN</td>\n",
       "      <td>NaN</td>\n",
       "      <td>NaN</td>\n",
       "      <td>NaN</td>\n",
       "      <td>NaN</td>\n",
       "      <td>NaN</td>\n",
       "      <td>NaN</td>\n",
       "      <td>NaN</td>\n",
       "    </tr>\n",
       "    <tr>\n",
       "      <th>2</th>\n",
       "      <td>Primorsko-goranska</td>\n",
       "      <td>Rijeka</td>\n",
       "      <td>Pećine</td>\n",
       "      <td>42</td>\n",
       "      <td>Garsonijera\\n</td>\n",
       "      <td>NaN</td>\n",
       "      <td>ne</td>\n",
       "      <td>ponuda</td>\n",
       "      <td>pravna osoba</td>\n",
       "      <td>Jednoetažni\\n</td>\n",
       "      <td>...</td>\n",
       "      <td>NaN</td>\n",
       "      <td>NaN</td>\n",
       "      <td>NaN</td>\n",
       "      <td>NaN</td>\n",
       "      <td>NaN</td>\n",
       "      <td>NaN</td>\n",
       "      <td>NaN</td>\n",
       "      <td>NaN</td>\n",
       "      <td>NaN</td>\n",
       "      <td>NaN</td>\n",
       "    </tr>\n",
       "    <tr>\n",
       "      <th>3</th>\n",
       "      <td>Primorsko-goranska</td>\n",
       "      <td>Rijeka</td>\n",
       "      <td>Centar</td>\n",
       "      <td>100</td>\n",
       "      <td>4+\\n</td>\n",
       "      <td>NaN</td>\n",
       "      <td>ne</td>\n",
       "      <td>ponuda</td>\n",
       "      <td>privatna osoba</td>\n",
       "      <td>Jednoetažni\\n</td>\n",
       "      <td>...</td>\n",
       "      <td>NaN</td>\n",
       "      <td>NaN</td>\n",
       "      <td>NaN</td>\n",
       "      <td>NaN</td>\n",
       "      <td>NaN</td>\n",
       "      <td>NaN</td>\n",
       "      <td>NaN</td>\n",
       "      <td>NaN</td>\n",
       "      <td>NaN</td>\n",
       "      <td>NaN</td>\n",
       "    </tr>\n",
       "    <tr>\n",
       "      <th>4</th>\n",
       "      <td>Primorsko-goranska</td>\n",
       "      <td>Rijeka</td>\n",
       "      <td>Zamet</td>\n",
       "      <td>70</td>\n",
       "      <td>4+\\n</td>\n",
       "      <td>NaN</td>\n",
       "      <td>ne</td>\n",
       "      <td>ponuda</td>\n",
       "      <td>privatna osoba</td>\n",
       "      <td>Jednoetažni\\n</td>\n",
       "      <td>...</td>\n",
       "      <td>NaN</td>\n",
       "      <td>NaN</td>\n",
       "      <td>NaN</td>\n",
       "      <td>NaN</td>\n",
       "      <td>NaN</td>\n",
       "      <td>NaN</td>\n",
       "      <td>NaN</td>\n",
       "      <td>NaN</td>\n",
       "      <td>NaN</td>\n",
       "      <td>NaN</td>\n",
       "    </tr>\n",
       "    <tr>\n",
       "      <th>...</th>\n",
       "      <td>...</td>\n",
       "      <td>...</td>\n",
       "      <td>...</td>\n",
       "      <td>...</td>\n",
       "      <td>...</td>\n",
       "      <td>...</td>\n",
       "      <td>...</td>\n",
       "      <td>...</td>\n",
       "      <td>...</td>\n",
       "      <td>...</td>\n",
       "      <td>...</td>\n",
       "      <td>...</td>\n",
       "      <td>...</td>\n",
       "      <td>...</td>\n",
       "      <td>...</td>\n",
       "      <td>...</td>\n",
       "      <td>...</td>\n",
       "      <td>...</td>\n",
       "      <td>...</td>\n",
       "      <td>...</td>\n",
       "      <td>...</td>\n",
       "    </tr>\n",
       "    <tr>\n",
       "      <th>2687</th>\n",
       "      <td>Primorsko-goranska</td>\n",
       "      <td>Rijeka</td>\n",
       "      <td>Zamet</td>\n",
       "      <td>82</td>\n",
       "      <td>4+\\n</td>\n",
       "      <td>NaN</td>\n",
       "      <td>ne</td>\n",
       "      <td>ponuda</td>\n",
       "      <td>privatna osoba</td>\n",
       "      <td>Jednoetažni\\n</td>\n",
       "      <td>...</td>\n",
       "      <td>NaN</td>\n",
       "      <td>NaN</td>\n",
       "      <td>NaN</td>\n",
       "      <td>NaN</td>\n",
       "      <td>NaN</td>\n",
       "      <td>NaN</td>\n",
       "      <td>NaN</td>\n",
       "      <td>NaN</td>\n",
       "      <td>NaN</td>\n",
       "      <td>NaN</td>\n",
       "    </tr>\n",
       "    <tr>\n",
       "      <th>2688</th>\n",
       "      <td>Primorsko-goranska</td>\n",
       "      <td>Rijeka</td>\n",
       "      <td>Pećine</td>\n",
       "      <td>50</td>\n",
       "      <td>1-1.5 sobni\\n</td>\n",
       "      <td>NaN</td>\n",
       "      <td>ne</td>\n",
       "      <td>ponuda</td>\n",
       "      <td>pravna osoba</td>\n",
       "      <td>Jednoetažni\\n</td>\n",
       "      <td>...</td>\n",
       "      <td>NaN</td>\n",
       "      <td>NaN</td>\n",
       "      <td>NaN</td>\n",
       "      <td>NaN</td>\n",
       "      <td>NaN</td>\n",
       "      <td>NaN</td>\n",
       "      <td>NaN</td>\n",
       "      <td>NaN</td>\n",
       "      <td>NaN</td>\n",
       "      <td>NaN</td>\n",
       "    </tr>\n",
       "    <tr>\n",
       "      <th>2689</th>\n",
       "      <td>Primorsko-goranska</td>\n",
       "      <td>Rijeka</td>\n",
       "      <td>Centar</td>\n",
       "      <td>296</td>\n",
       "      <td>4+\\n</td>\n",
       "      <td>NaN</td>\n",
       "      <td>ne</td>\n",
       "      <td>ponuda</td>\n",
       "      <td>pravna osoba</td>\n",
       "      <td>Jednoetažni\\n</td>\n",
       "      <td>...</td>\n",
       "      <td>NaN</td>\n",
       "      <td>NaN</td>\n",
       "      <td>NaN</td>\n",
       "      <td>NaN</td>\n",
       "      <td>NaN</td>\n",
       "      <td>NaN</td>\n",
       "      <td>NaN</td>\n",
       "      <td>NaN</td>\n",
       "      <td>NaN</td>\n",
       "      <td>NaN</td>\n",
       "    </tr>\n",
       "    <tr>\n",
       "      <th>2690</th>\n",
       "      <td>Primorsko-goranska</td>\n",
       "      <td>Rijeka</td>\n",
       "      <td>Belveder</td>\n",
       "      <td>60</td>\n",
       "      <td>2-2.5 sobni\\n</td>\n",
       "      <td>NaN</td>\n",
       "      <td>ne</td>\n",
       "      <td>ponuda</td>\n",
       "      <td>pravna osoba</td>\n",
       "      <td>Jednoetažni\\n</td>\n",
       "      <td>...</td>\n",
       "      <td>NaN</td>\n",
       "      <td>NaN</td>\n",
       "      <td>NaN</td>\n",
       "      <td>NaN</td>\n",
       "      <td>NaN</td>\n",
       "      <td>NaN</td>\n",
       "      <td>NaN</td>\n",
       "      <td>NaN</td>\n",
       "      <td>NaN</td>\n",
       "      <td>NaN</td>\n",
       "    </tr>\n",
       "    <tr>\n",
       "      <th>2691</th>\n",
       "      <td>Primorsko-goranska</td>\n",
       "      <td>Rijeka</td>\n",
       "      <td>Centar</td>\n",
       "      <td>NaN</td>\n",
       "      <td>2-2.5 sobni\\n</td>\n",
       "      <td>NaN</td>\n",
       "      <td>ne</td>\n",
       "      <td>ponuda</td>\n",
       "      <td>pravna osoba</td>\n",
       "      <td>Jednoetažni\\n</td>\n",
       "      <td>...</td>\n",
       "      <td>NaN</td>\n",
       "      <td>NaN</td>\n",
       "      <td>NaN</td>\n",
       "      <td>NaN</td>\n",
       "      <td>NaN</td>\n",
       "      <td>NaN</td>\n",
       "      <td>NaN</td>\n",
       "      <td>NaN</td>\n",
       "      <td>NaN</td>\n",
       "      <td>NaN</td>\n",
       "    </tr>\n",
       "  </tbody>\n",
       "</table>\n",
       "<p>2692 rows × 43 columns</p>\n",
       "</div>"
      ],
      "text/plain": [
       "                Županija Grad/općina     Naselje Stambena površina u m2  \\\n",
       "0     Primorsko-goranska      Rijeka  Podmurvice                     72   \n",
       "1     Primorsko-goranska      Rijeka      Centar                     48   \n",
       "2     Primorsko-goranska      Rijeka      Pećine                     42   \n",
       "3     Primorsko-goranska      Rijeka      Centar                    100   \n",
       "4     Primorsko-goranska      Rijeka       Zamet                     70   \n",
       "...                  ...         ...         ...                    ...   \n",
       "2687  Primorsko-goranska      Rijeka       Zamet                     82   \n",
       "2688  Primorsko-goranska      Rijeka      Pećine                     50   \n",
       "2689  Primorsko-goranska      Rijeka      Centar                    296   \n",
       "2690  Primorsko-goranska      Rijeka    Belveder                     60   \n",
       "2691  Primorsko-goranska      Rijeka      Centar                    NaN   \n",
       "\n",
       "          Broj soba  Kat Zamjena Tip oglasa        Prodavač Broj etaža stana  \\\n",
       "0     3-3.5 sobni\\n  3\\n      ne     ponuda    pravna osoba    Jednoetažni\\n   \n",
       "1                 2  NaN      ne     ponuda    pravna osoba              NaN   \n",
       "2     Garsonijera\\n  NaN      ne     ponuda    pravna osoba    Jednoetažni\\n   \n",
       "3              4+\\n  NaN      ne     ponuda  privatna osoba    Jednoetažni\\n   \n",
       "4              4+\\n  NaN      ne     ponuda  privatna osoba    Jednoetažni\\n   \n",
       "...             ...  ...     ...        ...             ...              ...   \n",
       "2687           4+\\n  NaN      ne     ponuda  privatna osoba    Jednoetažni\\n   \n",
       "2688  1-1.5 sobni\\n  NaN      ne     ponuda    pravna osoba    Jednoetažni\\n   \n",
       "2689           4+\\n  NaN      ne     ponuda    pravna osoba    Jednoetažni\\n   \n",
       "2690  2-2.5 sobni\\n  NaN      ne     ponuda    pravna osoba    Jednoetažni\\n   \n",
       "2691  2-2.5 sobni\\n  NaN      ne     ponuda    pravna osoba    Jednoetažni\\n   \n",
       "\n",
       "      ... Površina balkona u m2 Grijanje email Tip kuće Broj etaža kuće  \\\n",
       "0     ...                   NaN      NaN   NaN      NaN             NaN   \n",
       "1     ...                   NaN      NaN   NaN      NaN             NaN   \n",
       "2     ...                   NaN      NaN   NaN      NaN             NaN   \n",
       "3     ...                   NaN      NaN   NaN      NaN             NaN   \n",
       "4     ...                   NaN      NaN   NaN      NaN             NaN   \n",
       "...   ...                   ...      ...   ...      ...             ...   \n",
       "2687  ...                   NaN      NaN   NaN      NaN             NaN   \n",
       "2688  ...                   NaN      NaN   NaN      NaN             NaN   \n",
       "2689  ...                   NaN      NaN   NaN      NaN             NaN   \n",
       "2690  ...                   NaN      NaN   NaN      NaN             NaN   \n",
       "2691  ...                   NaN      NaN   NaN      NaN             NaN   \n",
       "\n",
       "     Površina okućnice u m2 Tip nekretnine za odmor Provizija  \\\n",
       "0                       NaN                     NaN       NaN   \n",
       "1                       NaN                     NaN       NaN   \n",
       "2                       NaN                     NaN       NaN   \n",
       "3                       NaN                     NaN       NaN   \n",
       "4                       NaN                     NaN       NaN   \n",
       "...                     ...                     ...       ...   \n",
       "2687                    NaN                     NaN       NaN   \n",
       "2688                    NaN                     NaN       NaN   \n",
       "2689                    NaN                     NaN       NaN   \n",
       "2690                    NaN                     NaN       NaN   \n",
       "2691                    NaN                     NaN       NaN   \n",
       "\n",
       "     Pozicija poslovnog prostora Namjena poslovnog prostora  \n",
       "0                            NaN                        NaN  \n",
       "1                            NaN                        NaN  \n",
       "2                            NaN                        NaN  \n",
       "3                            NaN                        NaN  \n",
       "4                            NaN                        NaN  \n",
       "...                          ...                        ...  \n",
       "2687                         NaN                        NaN  \n",
       "2688                         NaN                        NaN  \n",
       "2689                         NaN                        NaN  \n",
       "2690                         NaN                        NaN  \n",
       "2691                         NaN                        NaN  \n",
       "\n",
       "[2692 rows x 43 columns]"
      ]
     },
     "execution_count": 24,
     "metadata": {},
     "output_type": "execute_result"
    }
   ],
   "source": [
    "df_raw"
   ]
  },
  {
   "cell_type": "code",
   "execution_count": 25,
   "metadata": {},
   "outputs": [],
   "source": [
    "df_raw.to_excel(\"RENT PRICES RIJEKA.xlsx\")\n"
   ]
  },
  {
   "cell_type": "code",
   "execution_count": 30,
   "metadata": {},
   "outputs": [
    {
     "name": "stdout",
     "output_type": "stream",
     "text": [
      "2692\n",
      "1854\n"
     ]
    }
   ],
   "source": [
    "#CLEANING TEST\n",
    "\n",
    "df_test = df_raw\n",
    "\n",
    "print(len(df_test.index))\n",
    "\n",
    "df_test = df_test[df_test['Stambena površina u m2'].notna()]\n",
    "\n",
    "print(len(df_test.index))\n",
    "\n"
   ]
  },
  {
   "cell_type": "code",
   "execution_count": 16,
   "metadata": {},
   "outputs": [
    {
     "ename": "AttributeError",
     "evalue": "Can only use .str accessor with string values!",
     "output_type": "error",
     "traceback": [
      "\u001b[1;31m---------------------------------------------------------------------------\u001b[0m",
      "\u001b[1;31mAttributeError\u001b[0m                            Traceback (most recent call last)",
      "\u001b[1;32mc:\\Users\\borna.molnar-erhatic\\OneDrive - Swietelsky AG\\Dokumente\\06 Real Estate\\RealEstateApp\\Tester.ipynb Zelle 5\u001b[0m in \u001b[0;36m<module>\u001b[1;34m\u001b[0m\n\u001b[0;32m      <a href='vscode-notebook-cell:/c%3A/Users/borna.molnar-erhatic/OneDrive%20-%20Swietelsky%20AG/Dokumente/06%20Real%20Estate/RealEstateApp/Tester.ipynb#X32sZmlsZQ%3D%3D?line=0'>1</a>\u001b[0m pd\u001b[39m.\u001b[39moptions\u001b[39m.\u001b[39mmode\u001b[39m.\u001b[39mchained_assignment \u001b[39m=\u001b[39m \u001b[39mNone\u001b[39;00m \n\u001b[0;32m      <a href='vscode-notebook-cell:/c%3A/Users/borna.molnar-erhatic/OneDrive%20-%20Swietelsky%20AG/Dokumente/06%20Real%20Estate/RealEstateApp/Tester.ipynb#X32sZmlsZQ%3D%3D?line=2'>3</a>\u001b[0m df \u001b[39m=\u001b[39m df[df[\u001b[39m'\u001b[39m\u001b[39mStambena površina u m2\u001b[39m\u001b[39m'\u001b[39m]\u001b[39m.\u001b[39mnotna()]\n\u001b[1;32m----> <a href='vscode-notebook-cell:/c%3A/Users/borna.molnar-erhatic/OneDrive%20-%20Swietelsky%20AG/Dokumente/06%20Real%20Estate/RealEstateApp/Tester.ipynb#X32sZmlsZQ%3D%3D?line=3'>4</a>\u001b[0m df[\u001b[39m\"\u001b[39m\u001b[39mStambena površina u m2\u001b[39m\u001b[39m\"\u001b[39m] \u001b[39m=\u001b[39m df[\u001b[39m\"\u001b[39;49m\u001b[39mStambena površina u m2\u001b[39;49m\u001b[39m\"\u001b[39;49m]\u001b[39m.\u001b[39;49mstr\u001b[39m.\u001b[39mreplace(\u001b[39m\"\u001b[39m\u001b[39m,\u001b[39m\u001b[39m\"\u001b[39m,\u001b[39m\"\u001b[39m\u001b[39m.\u001b[39m\u001b[39m\"\u001b[39m)\n\u001b[0;32m      <a href='vscode-notebook-cell:/c%3A/Users/borna.molnar-erhatic/OneDrive%20-%20Swietelsky%20AG/Dokumente/06%20Real%20Estate/RealEstateApp/Tester.ipynb#X32sZmlsZQ%3D%3D?line=4'>5</a>\u001b[0m df[\u001b[39m\"\u001b[39m\u001b[39mStambena površina u m2\u001b[39m\u001b[39m\"\u001b[39m] \u001b[39m=\u001b[39m df[\u001b[39m\"\u001b[39m\u001b[39mStambena površina u m2\u001b[39m\u001b[39m\"\u001b[39m]\u001b[39m.\u001b[39mastype(\u001b[39m'\u001b[39m\u001b[39mfloat\u001b[39m\u001b[39m'\u001b[39m)\n\u001b[0;32m      <a href='vscode-notebook-cell:/c%3A/Users/borna.molnar-erhatic/OneDrive%20-%20Swietelsky%20AG/Dokumente/06%20Real%20Estate/RealEstateApp/Tester.ipynb#X32sZmlsZQ%3D%3D?line=6'>7</a>\u001b[0m \u001b[39m#Convert price to float, remove no price rows, rempve unrealistic low prices\u001b[39;00m\n",
      "File \u001b[1;32m~\\AppData\\Roaming\\Python\\Python38\\site-packages\\pandas\\core\\generic.py:5583\u001b[0m, in \u001b[0;36mNDFrame.__getattr__\u001b[1;34m(self, name)\u001b[0m\n\u001b[0;32m   5576\u001b[0m \u001b[39mif\u001b[39;00m (\n\u001b[0;32m   5577\u001b[0m     name \u001b[39mnot\u001b[39;00m \u001b[39min\u001b[39;00m \u001b[39mself\u001b[39m\u001b[39m.\u001b[39m_internal_names_set\n\u001b[0;32m   5578\u001b[0m     \u001b[39mand\u001b[39;00m name \u001b[39mnot\u001b[39;00m \u001b[39min\u001b[39;00m \u001b[39mself\u001b[39m\u001b[39m.\u001b[39m_metadata\n\u001b[0;32m   5579\u001b[0m     \u001b[39mand\u001b[39;00m name \u001b[39mnot\u001b[39;00m \u001b[39min\u001b[39;00m \u001b[39mself\u001b[39m\u001b[39m.\u001b[39m_accessors\n\u001b[0;32m   5580\u001b[0m     \u001b[39mand\u001b[39;00m \u001b[39mself\u001b[39m\u001b[39m.\u001b[39m_info_axis\u001b[39m.\u001b[39m_can_hold_identifiers_and_holds_name(name)\n\u001b[0;32m   5581\u001b[0m ):\n\u001b[0;32m   5582\u001b[0m     \u001b[39mreturn\u001b[39;00m \u001b[39mself\u001b[39m[name]\n\u001b[1;32m-> 5583\u001b[0m \u001b[39mreturn\u001b[39;00m \u001b[39mobject\u001b[39;49m\u001b[39m.\u001b[39;49m\u001b[39m__getattribute__\u001b[39;49m(\u001b[39mself\u001b[39;49m, name)\n",
      "File \u001b[1;32m~\\AppData\\Roaming\\Python\\Python38\\site-packages\\pandas\\core\\accessor.py:182\u001b[0m, in \u001b[0;36mCachedAccessor.__get__\u001b[1;34m(self, obj, cls)\u001b[0m\n\u001b[0;32m    179\u001b[0m \u001b[39mif\u001b[39;00m obj \u001b[39mis\u001b[39;00m \u001b[39mNone\u001b[39;00m:\n\u001b[0;32m    180\u001b[0m     \u001b[39m# we're accessing the attribute of the class, i.e., Dataset.geo\u001b[39;00m\n\u001b[0;32m    181\u001b[0m     \u001b[39mreturn\u001b[39;00m \u001b[39mself\u001b[39m\u001b[39m.\u001b[39m_accessor\n\u001b[1;32m--> 182\u001b[0m accessor_obj \u001b[39m=\u001b[39m \u001b[39mself\u001b[39;49m\u001b[39m.\u001b[39;49m_accessor(obj)\n\u001b[0;32m    183\u001b[0m \u001b[39m# Replace the property with the accessor object. Inspired by:\u001b[39;00m\n\u001b[0;32m    184\u001b[0m \u001b[39m# https://www.pydanny.com/cached-property.html\u001b[39;00m\n\u001b[0;32m    185\u001b[0m \u001b[39m# We need to use object.__setattr__ because we overwrite __setattr__ on\u001b[39;00m\n\u001b[0;32m    186\u001b[0m \u001b[39m# NDFrame\u001b[39;00m\n\u001b[0;32m    187\u001b[0m \u001b[39mobject\u001b[39m\u001b[39m.\u001b[39m\u001b[39m__setattr__\u001b[39m(obj, \u001b[39mself\u001b[39m\u001b[39m.\u001b[39m_name, accessor_obj)\n",
      "File \u001b[1;32m~\\AppData\\Roaming\\Python\\Python38\\site-packages\\pandas\\core\\strings\\accessor.py:177\u001b[0m, in \u001b[0;36mStringMethods.__init__\u001b[1;34m(self, data)\u001b[0m\n\u001b[0;32m    174\u001b[0m \u001b[39mdef\u001b[39;00m \u001b[39m__init__\u001b[39m(\u001b[39mself\u001b[39m, data):\n\u001b[0;32m    175\u001b[0m     \u001b[39mfrom\u001b[39;00m \u001b[39mpandas\u001b[39;00m\u001b[39m.\u001b[39;00m\u001b[39mcore\u001b[39;00m\u001b[39m.\u001b[39;00m\u001b[39marrays\u001b[39;00m\u001b[39m.\u001b[39;00m\u001b[39mstring_\u001b[39;00m \u001b[39mimport\u001b[39;00m StringDtype\n\u001b[1;32m--> 177\u001b[0m     \u001b[39mself\u001b[39m\u001b[39m.\u001b[39m_inferred_dtype \u001b[39m=\u001b[39m \u001b[39mself\u001b[39;49m\u001b[39m.\u001b[39;49m_validate(data)\n\u001b[0;32m    178\u001b[0m     \u001b[39mself\u001b[39m\u001b[39m.\u001b[39m_is_categorical \u001b[39m=\u001b[39m is_categorical_dtype(data\u001b[39m.\u001b[39mdtype)\n\u001b[0;32m    179\u001b[0m     \u001b[39mself\u001b[39m\u001b[39m.\u001b[39m_is_string \u001b[39m=\u001b[39m \u001b[39misinstance\u001b[39m(data\u001b[39m.\u001b[39mdtype, StringDtype)\n",
      "File \u001b[1;32m~\\AppData\\Roaming\\Python\\Python38\\site-packages\\pandas\\core\\strings\\accessor.py:231\u001b[0m, in \u001b[0;36mStringMethods._validate\u001b[1;34m(data)\u001b[0m\n\u001b[0;32m    228\u001b[0m inferred_dtype \u001b[39m=\u001b[39m lib\u001b[39m.\u001b[39minfer_dtype(values, skipna\u001b[39m=\u001b[39m\u001b[39mTrue\u001b[39;00m)\n\u001b[0;32m    230\u001b[0m \u001b[39mif\u001b[39;00m inferred_dtype \u001b[39mnot\u001b[39;00m \u001b[39min\u001b[39;00m allowed_types:\n\u001b[1;32m--> 231\u001b[0m     \u001b[39mraise\u001b[39;00m \u001b[39mAttributeError\u001b[39;00m(\u001b[39m\"\u001b[39m\u001b[39mCan only use .str accessor with string values!\u001b[39m\u001b[39m\"\u001b[39m)\n\u001b[0;32m    232\u001b[0m \u001b[39mreturn\u001b[39;00m inferred_dtype\n",
      "\u001b[1;31mAttributeError\u001b[0m: Can only use .str accessor with string values!"
     ]
    }
   ],
   "source": [
    "pd.options.mode.chained_assignment = None \n",
    "\n",
    "df = df[df['Stambena površina u m2'].notna()]\n",
    "df[\"Stambena površina u m2\"] = df[\"Stambena površina u m2\"].str.replace(\",\",\".\")\n",
    "df[\"Stambena površina u m2\"] = df[\"Stambena površina u m2\"].astype('float')\n",
    "\n",
    "#Convert price to float, remove no price rows, rempve unrealistic low prices\n",
    "df[\"Cijena\"] = df[\"Cijena\"].str.replace(\"€\",\"\")\n",
    "\n",
    "df[\"Cijena\"] = df[\"Cijena\"].str.replace(\".\",\"\")\n",
    "df[\"Cijena\"] = df[\"Cijena\"].str.replace(\",\",\".\")\n",
    "\n",
    "df[\"Cijena\"] = df[\"Cijena\"].str.replace(\" \",\"\")\n",
    "\n",
    "df = df[df[\"Cijena\"] != \"0,00 \"]\n",
    "df[\"Cijena\"] = df[\"Cijena\"].astype('float')"
   ]
  },
  {
   "cell_type": "code",
   "execution_count": 26,
   "metadata": {},
   "outputs": [],
   "source": [
    "df.to_excel(\"RENT PRICES RIJEKA_CLEAN.xlsx\")\n"
   ]
  },
  {
   "cell_type": "code",
   "execution_count": 19,
   "metadata": {},
   "outputs": [
    {
     "data": {
      "text/plain": [
       "1854"
      ]
     },
     "execution_count": 19,
     "metadata": {},
     "output_type": "execute_result"
    }
   ],
   "source": [
    "len(df.index)"
   ]
  },
  {
   "cell_type": "code",
   "execution_count": 4,
   "metadata": {},
   "outputs": [
    {
     "data": {
      "text/plain": [
       "0    63.0\n",
       "1    80.0\n",
       "Name: Stambena površina u m2, dtype: float64"
      ]
     },
     "execution_count": 4,
     "metadata": {},
     "output_type": "execute_result"
    }
   ],
   "source": [
    "df = pd.read_excel(\"media/2022-07-27_zagreb.xlsx\")\n",
    "\n",
    "df[\"Stambena površina u m2\"].mean()\n",
    "df[\"Stambena površina u m2\"].mode()\n",
    "\n",
    "# dj_avg_size = round(df[\"Stambena površina u m2\"].mean(),2)\n",
    "\n"
   ]
  },
  {
   "cell_type": "code",
   "execution_count": 12,
   "metadata": {},
   "outputs": [
    {
     "ename": "TypeError",
     "evalue": "Object of type Interval is not JSON serializable",
     "output_type": "error",
     "traceback": [
      "\u001b[1;31m---------------------------------------------------------------------------\u001b[0m",
      "\u001b[1;31mTypeError\u001b[0m                                 Traceback (most recent call last)",
      "File \u001b[1;32m~\\AppData\\Roaming\\Python\\Python38\\site-packages\\IPython\\core\\formatters.py:921\u001b[0m, in \u001b[0;36mIPythonDisplayFormatter.__call__\u001b[1;34m(self, obj)\u001b[0m\n\u001b[0;32m    919\u001b[0m method \u001b[39m=\u001b[39m get_real_method(obj, \u001b[39mself\u001b[39m\u001b[39m.\u001b[39mprint_method)\n\u001b[0;32m    920\u001b[0m \u001b[39mif\u001b[39;00m method \u001b[39mis\u001b[39;00m \u001b[39mnot\u001b[39;00m \u001b[39mNone\u001b[39;00m:\n\u001b[1;32m--> 921\u001b[0m     method()\n\u001b[0;32m    922\u001b[0m     \u001b[39mreturn\u001b[39;00m \u001b[39mTrue\u001b[39;00m\n",
      "File \u001b[1;32m~\\AppData\\Roaming\\Python\\Python38\\site-packages\\plotly\\basedatatypes.py:844\u001b[0m, in \u001b[0;36mBaseFigure._ipython_display_\u001b[1;34m(self)\u001b[0m\n\u001b[0;32m    841\u001b[0m \u001b[39mimport\u001b[39;00m \u001b[39mplotly\u001b[39;00m\u001b[39m.\u001b[39;00m\u001b[39mio\u001b[39;00m \u001b[39mas\u001b[39;00m \u001b[39mpio\u001b[39;00m\n\u001b[0;32m    843\u001b[0m \u001b[39mif\u001b[39;00m pio\u001b[39m.\u001b[39mrenderers\u001b[39m.\u001b[39mrender_on_display \u001b[39mand\u001b[39;00m pio\u001b[39m.\u001b[39mrenderers\u001b[39m.\u001b[39mdefault:\n\u001b[1;32m--> 844\u001b[0m     pio\u001b[39m.\u001b[39;49mshow(\u001b[39mself\u001b[39;49m)\n\u001b[0;32m    845\u001b[0m \u001b[39melse\u001b[39;00m:\n\u001b[0;32m    846\u001b[0m     \u001b[39mprint\u001b[39m(\u001b[39mrepr\u001b[39m(\u001b[39mself\u001b[39m))\n",
      "File \u001b[1;32m~\\AppData\\Roaming\\Python\\Python38\\site-packages\\plotly\\io\\_renderers.py:389\u001b[0m, in \u001b[0;36mshow\u001b[1;34m(fig, renderer, validate, **kwargs)\u001b[0m\n\u001b[0;32m    386\u001b[0m fig_dict \u001b[39m=\u001b[39m validate_coerce_fig_to_dict(fig, validate)\n\u001b[0;32m    388\u001b[0m \u001b[39m# Mimetype renderers\u001b[39;00m\n\u001b[1;32m--> 389\u001b[0m bundle \u001b[39m=\u001b[39m renderers\u001b[39m.\u001b[39;49m_build_mime_bundle(fig_dict, renderers_string\u001b[39m=\u001b[39;49mrenderer, \u001b[39m*\u001b[39;49m\u001b[39m*\u001b[39;49mkwargs)\n\u001b[0;32m    390\u001b[0m \u001b[39mif\u001b[39;00m bundle:\n\u001b[0;32m    391\u001b[0m     \u001b[39mif\u001b[39;00m \u001b[39mnot\u001b[39;00m ipython_display:\n",
      "File \u001b[1;32m~\\AppData\\Roaming\\Python\\Python38\\site-packages\\plotly\\io\\_renderers.py:297\u001b[0m, in \u001b[0;36mRenderersConfig._build_mime_bundle\u001b[1;34m(self, fig_dict, renderers_string, **kwargs)\u001b[0m\n\u001b[0;32m    294\u001b[0m             \u001b[39mif\u001b[39;00m \u001b[39mhasattr\u001b[39m(renderer, k):\n\u001b[0;32m    295\u001b[0m                 \u001b[39msetattr\u001b[39m(renderer, k, v)\n\u001b[1;32m--> 297\u001b[0m         bundle\u001b[39m.\u001b[39mupdate(renderer\u001b[39m.\u001b[39;49mto_mimebundle(fig_dict))\n\u001b[0;32m    299\u001b[0m \u001b[39mreturn\u001b[39;00m bundle\n",
      "File \u001b[1;32m~\\AppData\\Roaming\\Python\\Python38\\site-packages\\plotly\\io\\_base_renderers.py:96\u001b[0m, in \u001b[0;36mPlotlyRenderer.to_mimebundle\u001b[1;34m(self, fig_dict)\u001b[0m\n\u001b[0;32m     92\u001b[0m \u001b[39mif\u001b[39;00m config:\n\u001b[0;32m     93\u001b[0m     fig_dict[\u001b[39m\"\u001b[39m\u001b[39mconfig\u001b[39m\u001b[39m\"\u001b[39m] \u001b[39m=\u001b[39m config\n\u001b[0;32m     95\u001b[0m json_compatible_fig_dict \u001b[39m=\u001b[39m json\u001b[39m.\u001b[39mloads(\n\u001b[1;32m---> 96\u001b[0m     to_json(fig_dict, validate\u001b[39m=\u001b[39;49m\u001b[39mFalse\u001b[39;49;00m, remove_uids\u001b[39m=\u001b[39;49m\u001b[39mFalse\u001b[39;49;00m)\n\u001b[0;32m     97\u001b[0m )\n\u001b[0;32m     99\u001b[0m \u001b[39mreturn\u001b[39;00m {\u001b[39m\"\u001b[39m\u001b[39mapplication/vnd.plotly.v1+json\u001b[39m\u001b[39m\"\u001b[39m: json_compatible_fig_dict}\n",
      "File \u001b[1;32m~\\AppData\\Roaming\\Python\\Python38\\site-packages\\plotly\\io\\_json.py:197\u001b[0m, in \u001b[0;36mto_json\u001b[1;34m(fig, validate, pretty, remove_uids, engine)\u001b[0m\n\u001b[0;32m    194\u001b[0m     \u001b[39mfor\u001b[39;00m trace \u001b[39min\u001b[39;00m fig_dict\u001b[39m.\u001b[39mget(\u001b[39m\"\u001b[39m\u001b[39mdata\u001b[39m\u001b[39m\"\u001b[39m, []):\n\u001b[0;32m    195\u001b[0m         trace\u001b[39m.\u001b[39mpop(\u001b[39m\"\u001b[39m\u001b[39muid\u001b[39m\u001b[39m\"\u001b[39m, \u001b[39mNone\u001b[39;00m)\n\u001b[1;32m--> 197\u001b[0m \u001b[39mreturn\u001b[39;00m to_json_plotly(fig_dict, pretty\u001b[39m=\u001b[39;49mpretty, engine\u001b[39m=\u001b[39;49mengine)\n",
      "File \u001b[1;32m~\\AppData\\Roaming\\Python\\Python38\\site-packages\\plotly\\io\\_json.py:124\u001b[0m, in \u001b[0;36mto_json_plotly\u001b[1;34m(plotly_object, pretty, engine)\u001b[0m\n\u001b[0;32m    120\u001b[0m         opts[\u001b[39m\"\u001b[39m\u001b[39mseparators\u001b[39m\u001b[39m\"\u001b[39m] \u001b[39m=\u001b[39m (\u001b[39m\"\u001b[39m\u001b[39m,\u001b[39m\u001b[39m\"\u001b[39m, \u001b[39m\"\u001b[39m\u001b[39m:\u001b[39m\u001b[39m\"\u001b[39m)\n\u001b[0;32m    122\u001b[0m     \u001b[39mfrom\u001b[39;00m \u001b[39m_plotly_utils\u001b[39;00m\u001b[39m.\u001b[39;00m\u001b[39mutils\u001b[39;00m \u001b[39mimport\u001b[39;00m PlotlyJSONEncoder\n\u001b[1;32m--> 124\u001b[0m     \u001b[39mreturn\u001b[39;00m json\u001b[39m.\u001b[39;49mdumps(plotly_object, \u001b[39mcls\u001b[39;49m\u001b[39m=\u001b[39;49mPlotlyJSONEncoder, \u001b[39m*\u001b[39;49m\u001b[39m*\u001b[39;49mopts)\n\u001b[0;32m    125\u001b[0m \u001b[39melif\u001b[39;00m engine \u001b[39m==\u001b[39m \u001b[39m\"\u001b[39m\u001b[39morjson\u001b[39m\u001b[39m\"\u001b[39m:\n\u001b[0;32m    126\u001b[0m     JsonConfig\u001b[39m.\u001b[39mvalidate_orjson()\n",
      "File \u001b[1;32mc:\\Program Files\\Python38\\lib\\json\\__init__.py:234\u001b[0m, in \u001b[0;36mdumps\u001b[1;34m(obj, skipkeys, ensure_ascii, check_circular, allow_nan, cls, indent, separators, default, sort_keys, **kw)\u001b[0m\n\u001b[0;32m    232\u001b[0m \u001b[39mif\u001b[39;00m \u001b[39mcls\u001b[39m \u001b[39mis\u001b[39;00m \u001b[39mNone\u001b[39;00m:\n\u001b[0;32m    233\u001b[0m     \u001b[39mcls\u001b[39m \u001b[39m=\u001b[39m JSONEncoder\n\u001b[1;32m--> 234\u001b[0m \u001b[39mreturn\u001b[39;00m \u001b[39mcls\u001b[39;49m(\n\u001b[0;32m    235\u001b[0m     skipkeys\u001b[39m=\u001b[39;49mskipkeys, ensure_ascii\u001b[39m=\u001b[39;49mensure_ascii,\n\u001b[0;32m    236\u001b[0m     check_circular\u001b[39m=\u001b[39;49mcheck_circular, allow_nan\u001b[39m=\u001b[39;49mallow_nan, indent\u001b[39m=\u001b[39;49mindent,\n\u001b[0;32m    237\u001b[0m     separators\u001b[39m=\u001b[39;49mseparators, default\u001b[39m=\u001b[39;49mdefault, sort_keys\u001b[39m=\u001b[39;49msort_keys,\n\u001b[0;32m    238\u001b[0m     \u001b[39m*\u001b[39;49m\u001b[39m*\u001b[39;49mkw)\u001b[39m.\u001b[39;49mencode(obj)\n",
      "File \u001b[1;32m~\\AppData\\Roaming\\Python\\Python38\\site-packages\\_plotly_utils\\utils.py:59\u001b[0m, in \u001b[0;36mPlotlyJSONEncoder.encode\u001b[1;34m(self, o)\u001b[0m\n\u001b[0;32m     52\u001b[0m \u001b[39m\"\"\"\u001b[39;00m\n\u001b[0;32m     53\u001b[0m \u001b[39mLoad and then dump the result using parse_constant kwarg\u001b[39;00m\n\u001b[0;32m     54\u001b[0m \n\u001b[0;32m     55\u001b[0m \u001b[39mNote that setting invalid separators will cause a failure at this step.\u001b[39;00m\n\u001b[0;32m     56\u001b[0m \n\u001b[0;32m     57\u001b[0m \u001b[39m\"\"\"\u001b[39;00m\n\u001b[0;32m     58\u001b[0m \u001b[39m# this will raise errors in a normal-expected way\u001b[39;00m\n\u001b[1;32m---> 59\u001b[0m encoded_o \u001b[39m=\u001b[39m \u001b[39msuper\u001b[39;49m(PlotlyJSONEncoder, \u001b[39mself\u001b[39;49m)\u001b[39m.\u001b[39;49mencode(o)\n\u001b[0;32m     60\u001b[0m \u001b[39m# Brute force guessing whether NaN or Infinity values are in the string\u001b[39;00m\n\u001b[0;32m     61\u001b[0m \u001b[39m# We catch false positive cases (e.g. strings such as titles, labels etc.)\u001b[39;00m\n\u001b[0;32m     62\u001b[0m \u001b[39m# but this is ok since the intention is to skip the decoding / reencoding\u001b[39;00m\n\u001b[0;32m     63\u001b[0m \u001b[39m# step when it's completely safe\u001b[39;00m\n\u001b[0;32m     65\u001b[0m \u001b[39mif\u001b[39;00m \u001b[39mnot\u001b[39;00m (\u001b[39m\"\u001b[39m\u001b[39mNaN\u001b[39m\u001b[39m\"\u001b[39m \u001b[39min\u001b[39;00m encoded_o \u001b[39mor\u001b[39;00m \u001b[39m\"\u001b[39m\u001b[39mInfinity\u001b[39m\u001b[39m\"\u001b[39m \u001b[39min\u001b[39;00m encoded_o):\n",
      "File \u001b[1;32mc:\\Program Files\\Python38\\lib\\json\\encoder.py:199\u001b[0m, in \u001b[0;36mJSONEncoder.encode\u001b[1;34m(self, o)\u001b[0m\n\u001b[0;32m    195\u001b[0m         \u001b[39mreturn\u001b[39;00m encode_basestring(o)\n\u001b[0;32m    196\u001b[0m \u001b[39m# This doesn't pass the iterator directly to ''.join() because the\u001b[39;00m\n\u001b[0;32m    197\u001b[0m \u001b[39m# exceptions aren't as detailed.  The list call should be roughly\u001b[39;00m\n\u001b[0;32m    198\u001b[0m \u001b[39m# equivalent to the PySequence_Fast that ''.join() would do.\u001b[39;00m\n\u001b[1;32m--> 199\u001b[0m chunks \u001b[39m=\u001b[39m \u001b[39mself\u001b[39;49m\u001b[39m.\u001b[39;49miterencode(o, _one_shot\u001b[39m=\u001b[39;49m\u001b[39mTrue\u001b[39;49;00m)\n\u001b[0;32m    200\u001b[0m \u001b[39mif\u001b[39;00m \u001b[39mnot\u001b[39;00m \u001b[39misinstance\u001b[39m(chunks, (\u001b[39mlist\u001b[39m, \u001b[39mtuple\u001b[39m)):\n\u001b[0;32m    201\u001b[0m     chunks \u001b[39m=\u001b[39m \u001b[39mlist\u001b[39m(chunks)\n",
      "File \u001b[1;32mc:\\Program Files\\Python38\\lib\\json\\encoder.py:257\u001b[0m, in \u001b[0;36mJSONEncoder.iterencode\u001b[1;34m(self, o, _one_shot)\u001b[0m\n\u001b[0;32m    252\u001b[0m \u001b[39melse\u001b[39;00m:\n\u001b[0;32m    253\u001b[0m     _iterencode \u001b[39m=\u001b[39m _make_iterencode(\n\u001b[0;32m    254\u001b[0m         markers, \u001b[39mself\u001b[39m\u001b[39m.\u001b[39mdefault, _encoder, \u001b[39mself\u001b[39m\u001b[39m.\u001b[39mindent, floatstr,\n\u001b[0;32m    255\u001b[0m         \u001b[39mself\u001b[39m\u001b[39m.\u001b[39mkey_separator, \u001b[39mself\u001b[39m\u001b[39m.\u001b[39mitem_separator, \u001b[39mself\u001b[39m\u001b[39m.\u001b[39msort_keys,\n\u001b[0;32m    256\u001b[0m         \u001b[39mself\u001b[39m\u001b[39m.\u001b[39mskipkeys, _one_shot)\n\u001b[1;32m--> 257\u001b[0m \u001b[39mreturn\u001b[39;00m _iterencode(o, \u001b[39m0\u001b[39;49m)\n",
      "File \u001b[1;32m~\\AppData\\Roaming\\Python\\Python38\\site-packages\\_plotly_utils\\utils.py:136\u001b[0m, in \u001b[0;36mPlotlyJSONEncoder.default\u001b[1;34m(self, obj)\u001b[0m\n\u001b[0;32m    134\u001b[0m     \u001b[39mexcept\u001b[39;00m NotEncodable:\n\u001b[0;32m    135\u001b[0m         \u001b[39mpass\u001b[39;00m\n\u001b[1;32m--> 136\u001b[0m \u001b[39mreturn\u001b[39;00m _json\u001b[39m.\u001b[39;49mJSONEncoder\u001b[39m.\u001b[39;49mdefault(\u001b[39mself\u001b[39;49m, obj)\n",
      "File \u001b[1;32mc:\\Program Files\\Python38\\lib\\json\\encoder.py:179\u001b[0m, in \u001b[0;36mJSONEncoder.default\u001b[1;34m(self, o)\u001b[0m\n\u001b[0;32m    160\u001b[0m \u001b[39mdef\u001b[39;00m \u001b[39mdefault\u001b[39m(\u001b[39mself\u001b[39m, o):\n\u001b[0;32m    161\u001b[0m     \u001b[39m\"\"\"Implement this method in a subclass such that it returns\u001b[39;00m\n\u001b[0;32m    162\u001b[0m \u001b[39m    a serializable object for ``o``, or calls the base implementation\u001b[39;00m\n\u001b[0;32m    163\u001b[0m \u001b[39m    (to raise a ``TypeError``).\u001b[39;00m\n\u001b[1;32m   (...)\u001b[0m\n\u001b[0;32m    177\u001b[0m \n\u001b[0;32m    178\u001b[0m \u001b[39m    \"\"\"\u001b[39;00m\n\u001b[1;32m--> 179\u001b[0m     \u001b[39mraise\u001b[39;00m \u001b[39mTypeError\u001b[39;00m(\u001b[39mf\u001b[39m\u001b[39m'\u001b[39m\u001b[39mObject of type \u001b[39m\u001b[39m{\u001b[39;00mo\u001b[39m.\u001b[39m\u001b[39m__class__\u001b[39m\u001b[39m.\u001b[39m\u001b[39m__name__\u001b[39m\u001b[39m}\u001b[39;00m\u001b[39m \u001b[39m\u001b[39m'\u001b[39m\n\u001b[0;32m    180\u001b[0m                     \u001b[39mf\u001b[39m\u001b[39m'\u001b[39m\u001b[39mis not JSON serializable\u001b[39m\u001b[39m'\u001b[39m)\n",
      "\u001b[1;31mTypeError\u001b[0m: Object of type Interval is not JSON serializable"
     ]
    },
    {
     "ename": "TypeError",
     "evalue": "Object of type Interval is not JSON serializable",
     "output_type": "error",
     "traceback": [
      "\u001b[1;31m---------------------------------------------------------------------------\u001b[0m",
      "\u001b[1;31mTypeError\u001b[0m                                 Traceback (most recent call last)",
      "File \u001b[1;32m~\\AppData\\Roaming\\Python\\Python38\\site-packages\\IPython\\core\\formatters.py:973\u001b[0m, in \u001b[0;36mMimeBundleFormatter.__call__\u001b[1;34m(self, obj, include, exclude)\u001b[0m\n\u001b[0;32m    970\u001b[0m     method \u001b[39m=\u001b[39m get_real_method(obj, \u001b[39mself\u001b[39m\u001b[39m.\u001b[39mprint_method)\n\u001b[0;32m    972\u001b[0m     \u001b[39mif\u001b[39;00m method \u001b[39mis\u001b[39;00m \u001b[39mnot\u001b[39;00m \u001b[39mNone\u001b[39;00m:\n\u001b[1;32m--> 973\u001b[0m         \u001b[39mreturn\u001b[39;00m method(include\u001b[39m=\u001b[39;49minclude, exclude\u001b[39m=\u001b[39;49mexclude)\n\u001b[0;32m    974\u001b[0m     \u001b[39mreturn\u001b[39;00m \u001b[39mNone\u001b[39;00m\n\u001b[0;32m    975\u001b[0m \u001b[39melse\u001b[39;00m:\n",
      "File \u001b[1;32m~\\AppData\\Roaming\\Python\\Python38\\site-packages\\plotly\\basedatatypes.py:834\u001b[0m, in \u001b[0;36mBaseFigure._repr_mimebundle_\u001b[1;34m(self, include, exclude, validate, **kwargs)\u001b[0m\n\u001b[0;32m    832\u001b[0m \u001b[39mfor\u001b[39;00m renderer \u001b[39min\u001b[39;00m renderers_list:\n\u001b[0;32m    833\u001b[0m     \u001b[39mif\u001b[39;00m \u001b[39misinstance\u001b[39m(renderer, MimetypeRenderer):\n\u001b[1;32m--> 834\u001b[0m         bundle\u001b[39m.\u001b[39mupdate(renderer\u001b[39m.\u001b[39;49mto_mimebundle(fig_dict))\n\u001b[0;32m    835\u001b[0m \u001b[39mreturn\u001b[39;00m bundle\n",
      "File \u001b[1;32m~\\AppData\\Roaming\\Python\\Python38\\site-packages\\plotly\\io\\_base_renderers.py:96\u001b[0m, in \u001b[0;36mPlotlyRenderer.to_mimebundle\u001b[1;34m(self, fig_dict)\u001b[0m\n\u001b[0;32m     92\u001b[0m \u001b[39mif\u001b[39;00m config:\n\u001b[0;32m     93\u001b[0m     fig_dict[\u001b[39m\"\u001b[39m\u001b[39mconfig\u001b[39m\u001b[39m\"\u001b[39m] \u001b[39m=\u001b[39m config\n\u001b[0;32m     95\u001b[0m json_compatible_fig_dict \u001b[39m=\u001b[39m json\u001b[39m.\u001b[39mloads(\n\u001b[1;32m---> 96\u001b[0m     to_json(fig_dict, validate\u001b[39m=\u001b[39;49m\u001b[39mFalse\u001b[39;49;00m, remove_uids\u001b[39m=\u001b[39;49m\u001b[39mFalse\u001b[39;49;00m)\n\u001b[0;32m     97\u001b[0m )\n\u001b[0;32m     99\u001b[0m \u001b[39mreturn\u001b[39;00m {\u001b[39m\"\u001b[39m\u001b[39mapplication/vnd.plotly.v1+json\u001b[39m\u001b[39m\"\u001b[39m: json_compatible_fig_dict}\n",
      "File \u001b[1;32m~\\AppData\\Roaming\\Python\\Python38\\site-packages\\plotly\\io\\_json.py:197\u001b[0m, in \u001b[0;36mto_json\u001b[1;34m(fig, validate, pretty, remove_uids, engine)\u001b[0m\n\u001b[0;32m    194\u001b[0m     \u001b[39mfor\u001b[39;00m trace \u001b[39min\u001b[39;00m fig_dict\u001b[39m.\u001b[39mget(\u001b[39m\"\u001b[39m\u001b[39mdata\u001b[39m\u001b[39m\"\u001b[39m, []):\n\u001b[0;32m    195\u001b[0m         trace\u001b[39m.\u001b[39mpop(\u001b[39m\"\u001b[39m\u001b[39muid\u001b[39m\u001b[39m\"\u001b[39m, \u001b[39mNone\u001b[39;00m)\n\u001b[1;32m--> 197\u001b[0m \u001b[39mreturn\u001b[39;00m to_json_plotly(fig_dict, pretty\u001b[39m=\u001b[39;49mpretty, engine\u001b[39m=\u001b[39;49mengine)\n",
      "File \u001b[1;32m~\\AppData\\Roaming\\Python\\Python38\\site-packages\\plotly\\io\\_json.py:124\u001b[0m, in \u001b[0;36mto_json_plotly\u001b[1;34m(plotly_object, pretty, engine)\u001b[0m\n\u001b[0;32m    120\u001b[0m         opts[\u001b[39m\"\u001b[39m\u001b[39mseparators\u001b[39m\u001b[39m\"\u001b[39m] \u001b[39m=\u001b[39m (\u001b[39m\"\u001b[39m\u001b[39m,\u001b[39m\u001b[39m\"\u001b[39m, \u001b[39m\"\u001b[39m\u001b[39m:\u001b[39m\u001b[39m\"\u001b[39m)\n\u001b[0;32m    122\u001b[0m     \u001b[39mfrom\u001b[39;00m \u001b[39m_plotly_utils\u001b[39;00m\u001b[39m.\u001b[39;00m\u001b[39mutils\u001b[39;00m \u001b[39mimport\u001b[39;00m PlotlyJSONEncoder\n\u001b[1;32m--> 124\u001b[0m     \u001b[39mreturn\u001b[39;00m json\u001b[39m.\u001b[39;49mdumps(plotly_object, \u001b[39mcls\u001b[39;49m\u001b[39m=\u001b[39;49mPlotlyJSONEncoder, \u001b[39m*\u001b[39;49m\u001b[39m*\u001b[39;49mopts)\n\u001b[0;32m    125\u001b[0m \u001b[39melif\u001b[39;00m engine \u001b[39m==\u001b[39m \u001b[39m\"\u001b[39m\u001b[39morjson\u001b[39m\u001b[39m\"\u001b[39m:\n\u001b[0;32m    126\u001b[0m     JsonConfig\u001b[39m.\u001b[39mvalidate_orjson()\n",
      "File \u001b[1;32mc:\\Program Files\\Python38\\lib\\json\\__init__.py:234\u001b[0m, in \u001b[0;36mdumps\u001b[1;34m(obj, skipkeys, ensure_ascii, check_circular, allow_nan, cls, indent, separators, default, sort_keys, **kw)\u001b[0m\n\u001b[0;32m    232\u001b[0m \u001b[39mif\u001b[39;00m \u001b[39mcls\u001b[39m \u001b[39mis\u001b[39;00m \u001b[39mNone\u001b[39;00m:\n\u001b[0;32m    233\u001b[0m     \u001b[39mcls\u001b[39m \u001b[39m=\u001b[39m JSONEncoder\n\u001b[1;32m--> 234\u001b[0m \u001b[39mreturn\u001b[39;00m \u001b[39mcls\u001b[39;49m(\n\u001b[0;32m    235\u001b[0m     skipkeys\u001b[39m=\u001b[39;49mskipkeys, ensure_ascii\u001b[39m=\u001b[39;49mensure_ascii,\n\u001b[0;32m    236\u001b[0m     check_circular\u001b[39m=\u001b[39;49mcheck_circular, allow_nan\u001b[39m=\u001b[39;49mallow_nan, indent\u001b[39m=\u001b[39;49mindent,\n\u001b[0;32m    237\u001b[0m     separators\u001b[39m=\u001b[39;49mseparators, default\u001b[39m=\u001b[39;49mdefault, sort_keys\u001b[39m=\u001b[39;49msort_keys,\n\u001b[0;32m    238\u001b[0m     \u001b[39m*\u001b[39;49m\u001b[39m*\u001b[39;49mkw)\u001b[39m.\u001b[39;49mencode(obj)\n",
      "File \u001b[1;32m~\\AppData\\Roaming\\Python\\Python38\\site-packages\\_plotly_utils\\utils.py:59\u001b[0m, in \u001b[0;36mPlotlyJSONEncoder.encode\u001b[1;34m(self, o)\u001b[0m\n\u001b[0;32m     52\u001b[0m \u001b[39m\"\"\"\u001b[39;00m\n\u001b[0;32m     53\u001b[0m \u001b[39mLoad and then dump the result using parse_constant kwarg\u001b[39;00m\n\u001b[0;32m     54\u001b[0m \n\u001b[0;32m     55\u001b[0m \u001b[39mNote that setting invalid separators will cause a failure at this step.\u001b[39;00m\n\u001b[0;32m     56\u001b[0m \n\u001b[0;32m     57\u001b[0m \u001b[39m\"\"\"\u001b[39;00m\n\u001b[0;32m     58\u001b[0m \u001b[39m# this will raise errors in a normal-expected way\u001b[39;00m\n\u001b[1;32m---> 59\u001b[0m encoded_o \u001b[39m=\u001b[39m \u001b[39msuper\u001b[39;49m(PlotlyJSONEncoder, \u001b[39mself\u001b[39;49m)\u001b[39m.\u001b[39;49mencode(o)\n\u001b[0;32m     60\u001b[0m \u001b[39m# Brute force guessing whether NaN or Infinity values are in the string\u001b[39;00m\n\u001b[0;32m     61\u001b[0m \u001b[39m# We catch false positive cases (e.g. strings such as titles, labels etc.)\u001b[39;00m\n\u001b[0;32m     62\u001b[0m \u001b[39m# but this is ok since the intention is to skip the decoding / reencoding\u001b[39;00m\n\u001b[0;32m     63\u001b[0m \u001b[39m# step when it's completely safe\u001b[39;00m\n\u001b[0;32m     65\u001b[0m \u001b[39mif\u001b[39;00m \u001b[39mnot\u001b[39;00m (\u001b[39m\"\u001b[39m\u001b[39mNaN\u001b[39m\u001b[39m\"\u001b[39m \u001b[39min\u001b[39;00m encoded_o \u001b[39mor\u001b[39;00m \u001b[39m\"\u001b[39m\u001b[39mInfinity\u001b[39m\u001b[39m\"\u001b[39m \u001b[39min\u001b[39;00m encoded_o):\n",
      "File \u001b[1;32mc:\\Program Files\\Python38\\lib\\json\\encoder.py:199\u001b[0m, in \u001b[0;36mJSONEncoder.encode\u001b[1;34m(self, o)\u001b[0m\n\u001b[0;32m    195\u001b[0m         \u001b[39mreturn\u001b[39;00m encode_basestring(o)\n\u001b[0;32m    196\u001b[0m \u001b[39m# This doesn't pass the iterator directly to ''.join() because the\u001b[39;00m\n\u001b[0;32m    197\u001b[0m \u001b[39m# exceptions aren't as detailed.  The list call should be roughly\u001b[39;00m\n\u001b[0;32m    198\u001b[0m \u001b[39m# equivalent to the PySequence_Fast that ''.join() would do.\u001b[39;00m\n\u001b[1;32m--> 199\u001b[0m chunks \u001b[39m=\u001b[39m \u001b[39mself\u001b[39;49m\u001b[39m.\u001b[39;49miterencode(o, _one_shot\u001b[39m=\u001b[39;49m\u001b[39mTrue\u001b[39;49;00m)\n\u001b[0;32m    200\u001b[0m \u001b[39mif\u001b[39;00m \u001b[39mnot\u001b[39;00m \u001b[39misinstance\u001b[39m(chunks, (\u001b[39mlist\u001b[39m, \u001b[39mtuple\u001b[39m)):\n\u001b[0;32m    201\u001b[0m     chunks \u001b[39m=\u001b[39m \u001b[39mlist\u001b[39m(chunks)\n",
      "File \u001b[1;32mc:\\Program Files\\Python38\\lib\\json\\encoder.py:257\u001b[0m, in \u001b[0;36mJSONEncoder.iterencode\u001b[1;34m(self, o, _one_shot)\u001b[0m\n\u001b[0;32m    252\u001b[0m \u001b[39melse\u001b[39;00m:\n\u001b[0;32m    253\u001b[0m     _iterencode \u001b[39m=\u001b[39m _make_iterencode(\n\u001b[0;32m    254\u001b[0m         markers, \u001b[39mself\u001b[39m\u001b[39m.\u001b[39mdefault, _encoder, \u001b[39mself\u001b[39m\u001b[39m.\u001b[39mindent, floatstr,\n\u001b[0;32m    255\u001b[0m         \u001b[39mself\u001b[39m\u001b[39m.\u001b[39mkey_separator, \u001b[39mself\u001b[39m\u001b[39m.\u001b[39mitem_separator, \u001b[39mself\u001b[39m\u001b[39m.\u001b[39msort_keys,\n\u001b[0;32m    256\u001b[0m         \u001b[39mself\u001b[39m\u001b[39m.\u001b[39mskipkeys, _one_shot)\n\u001b[1;32m--> 257\u001b[0m \u001b[39mreturn\u001b[39;00m _iterencode(o, \u001b[39m0\u001b[39;49m)\n",
      "File \u001b[1;32m~\\AppData\\Roaming\\Python\\Python38\\site-packages\\_plotly_utils\\utils.py:136\u001b[0m, in \u001b[0;36mPlotlyJSONEncoder.default\u001b[1;34m(self, obj)\u001b[0m\n\u001b[0;32m    134\u001b[0m     \u001b[39mexcept\u001b[39;00m NotEncodable:\n\u001b[0;32m    135\u001b[0m         \u001b[39mpass\u001b[39;00m\n\u001b[1;32m--> 136\u001b[0m \u001b[39mreturn\u001b[39;00m _json\u001b[39m.\u001b[39;49mJSONEncoder\u001b[39m.\u001b[39;49mdefault(\u001b[39mself\u001b[39;49m, obj)\n",
      "File \u001b[1;32mc:\\Program Files\\Python38\\lib\\json\\encoder.py:179\u001b[0m, in \u001b[0;36mJSONEncoder.default\u001b[1;34m(self, o)\u001b[0m\n\u001b[0;32m    160\u001b[0m \u001b[39mdef\u001b[39;00m \u001b[39mdefault\u001b[39m(\u001b[39mself\u001b[39m, o):\n\u001b[0;32m    161\u001b[0m     \u001b[39m\"\"\"Implement this method in a subclass such that it returns\u001b[39;00m\n\u001b[0;32m    162\u001b[0m \u001b[39m    a serializable object for ``o``, or calls the base implementation\u001b[39;00m\n\u001b[0;32m    163\u001b[0m \u001b[39m    (to raise a ``TypeError``).\u001b[39;00m\n\u001b[1;32m   (...)\u001b[0m\n\u001b[0;32m    177\u001b[0m \n\u001b[0;32m    178\u001b[0m \u001b[39m    \"\"\"\u001b[39;00m\n\u001b[1;32m--> 179\u001b[0m     \u001b[39mraise\u001b[39;00m \u001b[39mTypeError\u001b[39;00m(\u001b[39mf\u001b[39m\u001b[39m'\u001b[39m\u001b[39mObject of type \u001b[39m\u001b[39m{\u001b[39;00mo\u001b[39m.\u001b[39m\u001b[39m__class__\u001b[39m\u001b[39m.\u001b[39m\u001b[39m__name__\u001b[39m\u001b[39m}\u001b[39;00m\u001b[39m \u001b[39m\u001b[39m'\u001b[39m\n\u001b[0;32m    180\u001b[0m                     \u001b[39mf\u001b[39m\u001b[39m'\u001b[39m\u001b[39mis not JSON serializable\u001b[39m\u001b[39m'\u001b[39m)\n",
      "\u001b[1;31mTypeError\u001b[0m: Object of type Interval is not JSON serializable"
     ]
    },
    {
     "ename": "TypeError",
     "evalue": "Object of type Interval is not JSON serializable",
     "output_type": "error",
     "traceback": [
      "\u001b[1;31m---------------------------------------------------------------------------\u001b[0m",
      "\u001b[1;31mTypeError\u001b[0m                                 Traceback (most recent call last)",
      "File \u001b[1;32m~\\AppData\\Roaming\\Python\\Python38\\site-packages\\IPython\\core\\formatters.py:343\u001b[0m, in \u001b[0;36mBaseFormatter.__call__\u001b[1;34m(self, obj)\u001b[0m\n\u001b[0;32m    341\u001b[0m     method \u001b[39m=\u001b[39m get_real_method(obj, \u001b[39mself\u001b[39m\u001b[39m.\u001b[39mprint_method)\n\u001b[0;32m    342\u001b[0m     \u001b[39mif\u001b[39;00m method \u001b[39mis\u001b[39;00m \u001b[39mnot\u001b[39;00m \u001b[39mNone\u001b[39;00m:\n\u001b[1;32m--> 343\u001b[0m         \u001b[39mreturn\u001b[39;00m method()\n\u001b[0;32m    344\u001b[0m     \u001b[39mreturn\u001b[39;00m \u001b[39mNone\u001b[39;00m\n\u001b[0;32m    345\u001b[0m \u001b[39melse\u001b[39;00m:\n",
      "File \u001b[1;32m~\\AppData\\Roaming\\Python\\Python38\\site-packages\\plotly\\basedatatypes.py:810\u001b[0m, in \u001b[0;36mBaseFigure._repr_html_\u001b[1;34m(self)\u001b[0m\n\u001b[0;32m    806\u001b[0m \u001b[39mdef\u001b[39;00m \u001b[39m_repr_html_\u001b[39m(\u001b[39mself\u001b[39m):\n\u001b[0;32m    807\u001b[0m     \u001b[39m\"\"\"\u001b[39;00m\n\u001b[0;32m    808\u001b[0m \u001b[39m    Customize html representation\u001b[39;00m\n\u001b[0;32m    809\u001b[0m \u001b[39m    \"\"\"\u001b[39;00m\n\u001b[1;32m--> 810\u001b[0m     bundle \u001b[39m=\u001b[39m \u001b[39mself\u001b[39;49m\u001b[39m.\u001b[39;49m_repr_mimebundle_()\n\u001b[0;32m    811\u001b[0m     \u001b[39mif\u001b[39;00m \u001b[39m\"\u001b[39m\u001b[39mtext/html\u001b[39m\u001b[39m\"\u001b[39m \u001b[39min\u001b[39;00m bundle:\n\u001b[0;32m    812\u001b[0m         \u001b[39mreturn\u001b[39;00m bundle[\u001b[39m\"\u001b[39m\u001b[39mtext/html\u001b[39m\u001b[39m\"\u001b[39m]\n",
      "File \u001b[1;32m~\\AppData\\Roaming\\Python\\Python38\\site-packages\\plotly\\basedatatypes.py:834\u001b[0m, in \u001b[0;36mBaseFigure._repr_mimebundle_\u001b[1;34m(self, include, exclude, validate, **kwargs)\u001b[0m\n\u001b[0;32m    832\u001b[0m \u001b[39mfor\u001b[39;00m renderer \u001b[39min\u001b[39;00m renderers_list:\n\u001b[0;32m    833\u001b[0m     \u001b[39mif\u001b[39;00m \u001b[39misinstance\u001b[39m(renderer, MimetypeRenderer):\n\u001b[1;32m--> 834\u001b[0m         bundle\u001b[39m.\u001b[39mupdate(renderer\u001b[39m.\u001b[39;49mto_mimebundle(fig_dict))\n\u001b[0;32m    835\u001b[0m \u001b[39mreturn\u001b[39;00m bundle\n",
      "File \u001b[1;32m~\\AppData\\Roaming\\Python\\Python38\\site-packages\\plotly\\io\\_base_renderers.py:96\u001b[0m, in \u001b[0;36mPlotlyRenderer.to_mimebundle\u001b[1;34m(self, fig_dict)\u001b[0m\n\u001b[0;32m     92\u001b[0m \u001b[39mif\u001b[39;00m config:\n\u001b[0;32m     93\u001b[0m     fig_dict[\u001b[39m\"\u001b[39m\u001b[39mconfig\u001b[39m\u001b[39m\"\u001b[39m] \u001b[39m=\u001b[39m config\n\u001b[0;32m     95\u001b[0m json_compatible_fig_dict \u001b[39m=\u001b[39m json\u001b[39m.\u001b[39mloads(\n\u001b[1;32m---> 96\u001b[0m     to_json(fig_dict, validate\u001b[39m=\u001b[39;49m\u001b[39mFalse\u001b[39;49;00m, remove_uids\u001b[39m=\u001b[39;49m\u001b[39mFalse\u001b[39;49;00m)\n\u001b[0;32m     97\u001b[0m )\n\u001b[0;32m     99\u001b[0m \u001b[39mreturn\u001b[39;00m {\u001b[39m\"\u001b[39m\u001b[39mapplication/vnd.plotly.v1+json\u001b[39m\u001b[39m\"\u001b[39m: json_compatible_fig_dict}\n",
      "File \u001b[1;32m~\\AppData\\Roaming\\Python\\Python38\\site-packages\\plotly\\io\\_json.py:197\u001b[0m, in \u001b[0;36mto_json\u001b[1;34m(fig, validate, pretty, remove_uids, engine)\u001b[0m\n\u001b[0;32m    194\u001b[0m     \u001b[39mfor\u001b[39;00m trace \u001b[39min\u001b[39;00m fig_dict\u001b[39m.\u001b[39mget(\u001b[39m\"\u001b[39m\u001b[39mdata\u001b[39m\u001b[39m\"\u001b[39m, []):\n\u001b[0;32m    195\u001b[0m         trace\u001b[39m.\u001b[39mpop(\u001b[39m\"\u001b[39m\u001b[39muid\u001b[39m\u001b[39m\"\u001b[39m, \u001b[39mNone\u001b[39;00m)\n\u001b[1;32m--> 197\u001b[0m \u001b[39mreturn\u001b[39;00m to_json_plotly(fig_dict, pretty\u001b[39m=\u001b[39;49mpretty, engine\u001b[39m=\u001b[39;49mengine)\n",
      "File \u001b[1;32m~\\AppData\\Roaming\\Python\\Python38\\site-packages\\plotly\\io\\_json.py:124\u001b[0m, in \u001b[0;36mto_json_plotly\u001b[1;34m(plotly_object, pretty, engine)\u001b[0m\n\u001b[0;32m    120\u001b[0m         opts[\u001b[39m\"\u001b[39m\u001b[39mseparators\u001b[39m\u001b[39m\"\u001b[39m] \u001b[39m=\u001b[39m (\u001b[39m\"\u001b[39m\u001b[39m,\u001b[39m\u001b[39m\"\u001b[39m, \u001b[39m\"\u001b[39m\u001b[39m:\u001b[39m\u001b[39m\"\u001b[39m)\n\u001b[0;32m    122\u001b[0m     \u001b[39mfrom\u001b[39;00m \u001b[39m_plotly_utils\u001b[39;00m\u001b[39m.\u001b[39;00m\u001b[39mutils\u001b[39;00m \u001b[39mimport\u001b[39;00m PlotlyJSONEncoder\n\u001b[1;32m--> 124\u001b[0m     \u001b[39mreturn\u001b[39;00m json\u001b[39m.\u001b[39;49mdumps(plotly_object, \u001b[39mcls\u001b[39;49m\u001b[39m=\u001b[39;49mPlotlyJSONEncoder, \u001b[39m*\u001b[39;49m\u001b[39m*\u001b[39;49mopts)\n\u001b[0;32m    125\u001b[0m \u001b[39melif\u001b[39;00m engine \u001b[39m==\u001b[39m \u001b[39m\"\u001b[39m\u001b[39morjson\u001b[39m\u001b[39m\"\u001b[39m:\n\u001b[0;32m    126\u001b[0m     JsonConfig\u001b[39m.\u001b[39mvalidate_orjson()\n",
      "File \u001b[1;32mc:\\Program Files\\Python38\\lib\\json\\__init__.py:234\u001b[0m, in \u001b[0;36mdumps\u001b[1;34m(obj, skipkeys, ensure_ascii, check_circular, allow_nan, cls, indent, separators, default, sort_keys, **kw)\u001b[0m\n\u001b[0;32m    232\u001b[0m \u001b[39mif\u001b[39;00m \u001b[39mcls\u001b[39m \u001b[39mis\u001b[39;00m \u001b[39mNone\u001b[39;00m:\n\u001b[0;32m    233\u001b[0m     \u001b[39mcls\u001b[39m \u001b[39m=\u001b[39m JSONEncoder\n\u001b[1;32m--> 234\u001b[0m \u001b[39mreturn\u001b[39;00m \u001b[39mcls\u001b[39;49m(\n\u001b[0;32m    235\u001b[0m     skipkeys\u001b[39m=\u001b[39;49mskipkeys, ensure_ascii\u001b[39m=\u001b[39;49mensure_ascii,\n\u001b[0;32m    236\u001b[0m     check_circular\u001b[39m=\u001b[39;49mcheck_circular, allow_nan\u001b[39m=\u001b[39;49mallow_nan, indent\u001b[39m=\u001b[39;49mindent,\n\u001b[0;32m    237\u001b[0m     separators\u001b[39m=\u001b[39;49mseparators, default\u001b[39m=\u001b[39;49mdefault, sort_keys\u001b[39m=\u001b[39;49msort_keys,\n\u001b[0;32m    238\u001b[0m     \u001b[39m*\u001b[39;49m\u001b[39m*\u001b[39;49mkw)\u001b[39m.\u001b[39;49mencode(obj)\n",
      "File \u001b[1;32m~\\AppData\\Roaming\\Python\\Python38\\site-packages\\_plotly_utils\\utils.py:59\u001b[0m, in \u001b[0;36mPlotlyJSONEncoder.encode\u001b[1;34m(self, o)\u001b[0m\n\u001b[0;32m     52\u001b[0m \u001b[39m\"\"\"\u001b[39;00m\n\u001b[0;32m     53\u001b[0m \u001b[39mLoad and then dump the result using parse_constant kwarg\u001b[39;00m\n\u001b[0;32m     54\u001b[0m \n\u001b[0;32m     55\u001b[0m \u001b[39mNote that setting invalid separators will cause a failure at this step.\u001b[39;00m\n\u001b[0;32m     56\u001b[0m \n\u001b[0;32m     57\u001b[0m \u001b[39m\"\"\"\u001b[39;00m\n\u001b[0;32m     58\u001b[0m \u001b[39m# this will raise errors in a normal-expected way\u001b[39;00m\n\u001b[1;32m---> 59\u001b[0m encoded_o \u001b[39m=\u001b[39m \u001b[39msuper\u001b[39;49m(PlotlyJSONEncoder, \u001b[39mself\u001b[39;49m)\u001b[39m.\u001b[39;49mencode(o)\n\u001b[0;32m     60\u001b[0m \u001b[39m# Brute force guessing whether NaN or Infinity values are in the string\u001b[39;00m\n\u001b[0;32m     61\u001b[0m \u001b[39m# We catch false positive cases (e.g. strings such as titles, labels etc.)\u001b[39;00m\n\u001b[0;32m     62\u001b[0m \u001b[39m# but this is ok since the intention is to skip the decoding / reencoding\u001b[39;00m\n\u001b[0;32m     63\u001b[0m \u001b[39m# step when it's completely safe\u001b[39;00m\n\u001b[0;32m     65\u001b[0m \u001b[39mif\u001b[39;00m \u001b[39mnot\u001b[39;00m (\u001b[39m\"\u001b[39m\u001b[39mNaN\u001b[39m\u001b[39m\"\u001b[39m \u001b[39min\u001b[39;00m encoded_o \u001b[39mor\u001b[39;00m \u001b[39m\"\u001b[39m\u001b[39mInfinity\u001b[39m\u001b[39m\"\u001b[39m \u001b[39min\u001b[39;00m encoded_o):\n",
      "File \u001b[1;32mc:\\Program Files\\Python38\\lib\\json\\encoder.py:199\u001b[0m, in \u001b[0;36mJSONEncoder.encode\u001b[1;34m(self, o)\u001b[0m\n\u001b[0;32m    195\u001b[0m         \u001b[39mreturn\u001b[39;00m encode_basestring(o)\n\u001b[0;32m    196\u001b[0m \u001b[39m# This doesn't pass the iterator directly to ''.join() because the\u001b[39;00m\n\u001b[0;32m    197\u001b[0m \u001b[39m# exceptions aren't as detailed.  The list call should be roughly\u001b[39;00m\n\u001b[0;32m    198\u001b[0m \u001b[39m# equivalent to the PySequence_Fast that ''.join() would do.\u001b[39;00m\n\u001b[1;32m--> 199\u001b[0m chunks \u001b[39m=\u001b[39m \u001b[39mself\u001b[39;49m\u001b[39m.\u001b[39;49miterencode(o, _one_shot\u001b[39m=\u001b[39;49m\u001b[39mTrue\u001b[39;49;00m)\n\u001b[0;32m    200\u001b[0m \u001b[39mif\u001b[39;00m \u001b[39mnot\u001b[39;00m \u001b[39misinstance\u001b[39m(chunks, (\u001b[39mlist\u001b[39m, \u001b[39mtuple\u001b[39m)):\n\u001b[0;32m    201\u001b[0m     chunks \u001b[39m=\u001b[39m \u001b[39mlist\u001b[39m(chunks)\n",
      "File \u001b[1;32mc:\\Program Files\\Python38\\lib\\json\\encoder.py:257\u001b[0m, in \u001b[0;36mJSONEncoder.iterencode\u001b[1;34m(self, o, _one_shot)\u001b[0m\n\u001b[0;32m    252\u001b[0m \u001b[39melse\u001b[39;00m:\n\u001b[0;32m    253\u001b[0m     _iterencode \u001b[39m=\u001b[39m _make_iterencode(\n\u001b[0;32m    254\u001b[0m         markers, \u001b[39mself\u001b[39m\u001b[39m.\u001b[39mdefault, _encoder, \u001b[39mself\u001b[39m\u001b[39m.\u001b[39mindent, floatstr,\n\u001b[0;32m    255\u001b[0m         \u001b[39mself\u001b[39m\u001b[39m.\u001b[39mkey_separator, \u001b[39mself\u001b[39m\u001b[39m.\u001b[39mitem_separator, \u001b[39mself\u001b[39m\u001b[39m.\u001b[39msort_keys,\n\u001b[0;32m    256\u001b[0m         \u001b[39mself\u001b[39m\u001b[39m.\u001b[39mskipkeys, _one_shot)\n\u001b[1;32m--> 257\u001b[0m \u001b[39mreturn\u001b[39;00m _iterencode(o, \u001b[39m0\u001b[39;49m)\n",
      "File \u001b[1;32m~\\AppData\\Roaming\\Python\\Python38\\site-packages\\_plotly_utils\\utils.py:136\u001b[0m, in \u001b[0;36mPlotlyJSONEncoder.default\u001b[1;34m(self, obj)\u001b[0m\n\u001b[0;32m    134\u001b[0m     \u001b[39mexcept\u001b[39;00m NotEncodable:\n\u001b[0;32m    135\u001b[0m         \u001b[39mpass\u001b[39;00m\n\u001b[1;32m--> 136\u001b[0m \u001b[39mreturn\u001b[39;00m _json\u001b[39m.\u001b[39;49mJSONEncoder\u001b[39m.\u001b[39;49mdefault(\u001b[39mself\u001b[39;49m, obj)\n",
      "File \u001b[1;32mc:\\Program Files\\Python38\\lib\\json\\encoder.py:179\u001b[0m, in \u001b[0;36mJSONEncoder.default\u001b[1;34m(self, o)\u001b[0m\n\u001b[0;32m    160\u001b[0m \u001b[39mdef\u001b[39;00m \u001b[39mdefault\u001b[39m(\u001b[39mself\u001b[39m, o):\n\u001b[0;32m    161\u001b[0m     \u001b[39m\"\"\"Implement this method in a subclass such that it returns\u001b[39;00m\n\u001b[0;32m    162\u001b[0m \u001b[39m    a serializable object for ``o``, or calls the base implementation\u001b[39;00m\n\u001b[0;32m    163\u001b[0m \u001b[39m    (to raise a ``TypeError``).\u001b[39;00m\n\u001b[1;32m   (...)\u001b[0m\n\u001b[0;32m    177\u001b[0m \n\u001b[0;32m    178\u001b[0m \u001b[39m    \"\"\"\u001b[39;00m\n\u001b[1;32m--> 179\u001b[0m     \u001b[39mraise\u001b[39;00m \u001b[39mTypeError\u001b[39;00m(\u001b[39mf\u001b[39m\u001b[39m'\u001b[39m\u001b[39mObject of type \u001b[39m\u001b[39m{\u001b[39;00mo\u001b[39m.\u001b[39m\u001b[39m__class__\u001b[39m\u001b[39m.\u001b[39m\u001b[39m__name__\u001b[39m\u001b[39m}\u001b[39;00m\u001b[39m \u001b[39m\u001b[39m'\u001b[39m\n\u001b[0;32m    180\u001b[0m                     \u001b[39mf\u001b[39m\u001b[39m'\u001b[39m\u001b[39mis not JSON serializable\u001b[39m\u001b[39m'\u001b[39m)\n",
      "\u001b[1;31mTypeError\u001b[0m: Object of type Interval is not JSON serializable"
     ]
    },
    {
     "data": {
      "text/plain": [
       "Figure({\n",
       "    'data': [{'alignmentgroup': 'True',\n",
       "              'hovertemplate': 'index=%{x}<br>Stambena površina u m2=%{y}<extra></extra>',\n",
       "              'legendgroup': '',\n",
       "              'marker': {'color': '#636efa', 'pattern': {'shape': ''}},\n",
       "              'name': '',\n",
       "              'offsetgroup': '',\n",
       "              'orientation': 'v',\n",
       "              'showlegend': False,\n",
       "              'textposition': 'auto',\n",
       "              'type': 'bar',\n",
       "              'x': array([Interval(53.55, 62.06, closed='right'),\n",
       "                          Interval(62.06, 70.57, closed='right'),\n",
       "                          Interval(70.57, 79.08, closed='right'),\n",
       "                          Interval(79.08, 87.59, closed='right'),\n",
       "                          Interval(45.04, 53.55, closed='right'),\n",
       "                          Interval(87.59, 96.1, closed='right'),\n",
       "                          Interval(96.1, 104.61, closed='right'),\n",
       "                          Interval(36.53, 45.04, closed='right'),\n",
       "                          Interval(28.02, 36.53, closed='right'),\n",
       "                          Interval(104.61, 113.12, closed='right'),\n",
       "                          Interval(113.12, 121.63, closed='right'),\n",
       "                          Interval(121.63, 130.14, closed='right'),\n",
       "                          Interval(130.14, 138.65, closed='right'),\n",
       "                          Interval(147.16, 155.67, closed='right'),\n",
       "                          Interval(138.65, 147.16, closed='right'),\n",
       "                          Interval(19.51, 28.02, closed='right'),\n",
       "                          Interval(155.67, 164.18, closed='right'),\n",
       "                          Interval(172.69, 181.2, closed='right'),\n",
       "                          Interval(164.18, 172.69, closed='right'),\n",
       "                          Interval(189.71, 198.22, closed='right'),\n",
       "                          Interval(181.2, 189.71, closed='right'),\n",
       "                          Interval(198.22, 206.73, closed='right'),\n",
       "                          Interval(206.73, 215.24, closed='right'),\n",
       "                          Interval(249.28, 257.79, closed='right'),\n",
       "                          Interval(223.75, 232.26, closed='right'),\n",
       "                          Interval(10.148, 19.51, closed='right'),\n",
       "                          Interval(317.36, 325.87, closed='right'),\n",
       "                          Interval(215.24, 223.75, closed='right'),\n",
       "                          Interval(232.26, 240.77, closed='right'),\n",
       "                          Interval(240.77, 249.28, closed='right'),\n",
       "                          Interval(334.38, 342.89, closed='right'),\n",
       "                          Interval(342.89, 351.4, closed='right'),\n",
       "                          Interval(291.83, 300.34, closed='right'),\n",
       "                          Interval(274.81, 283.32, closed='right'),\n",
       "                          Interval(300.34, 308.85, closed='right'),\n",
       "                          Interval(496.07, 504.58, closed='right'),\n",
       "                          Interval(266.3, 274.81, closed='right'),\n",
       "                          Interval(325.87, 334.38, closed='right'),\n",
       "                          Interval(257.79, 266.3, closed='right'),\n",
       "                          Interval(351.4, 359.91, closed='right'),\n",
       "                          Interval(308.85, 317.36, closed='right'),\n",
       "                          Interval(793.92, 802.43, closed='right'),\n",
       "                          Interval(776.9, 785.41, closed='right'),\n",
       "                          Interval(751.37, 759.88, closed='right'),\n",
       "                          Interval(691.8, 700.31, closed='right'),\n",
       "                          Interval(657.76, 666.27, closed='right'),\n",
       "                          Interval(564.15, 572.66, closed='right'),\n",
       "                          Interval(547.13, 555.64, closed='right'),\n",
       "                          Interval(453.52, 462.03, closed='right'),\n",
       "                          Interval(853.49, 862.0, closed='right'),\n",
       "                          Interval(427.99, 436.5, closed='right'),\n",
       "                          Interval(419.48, 427.99, closed='right'),\n",
       "                          Interval(283.32, 291.83, closed='right'),\n",
       "                          Interval(359.91, 368.42, closed='right'),\n",
       "                          Interval(368.42, 376.93, closed='right'),\n",
       "                          Interval(674.78, 683.29, closed='right'),\n",
       "                          Interval(683.29, 691.8, closed='right'),\n",
       "                          Interval(376.93, 385.44, closed='right'),\n",
       "                          Interval(700.31, 708.82, closed='right'),\n",
       "                          Interval(708.82, 717.33, closed='right'),\n",
       "                          Interval(717.33, 725.84, closed='right'),\n",
       "                          Interval(725.84, 734.35, closed='right'),\n",
       "                          Interval(734.35, 742.86, closed='right'),\n",
       "                          Interval(742.86, 751.37, closed='right'),\n",
       "                          Interval(768.39, 776.9, closed='right'),\n",
       "                          Interval(759.88, 768.39, closed='right'),\n",
       "                          Interval(385.44, 393.95, closed='right'),\n",
       "                          Interval(785.41, 793.92, closed='right'),\n",
       "                          Interval(802.43, 810.94, closed='right'),\n",
       "                          Interval(810.94, 819.45, closed='right'),\n",
       "                          Interval(819.45, 827.96, closed='right'),\n",
       "                          Interval(827.96, 836.47, closed='right'),\n",
       "                          Interval(836.47, 844.98, closed='right'),\n",
       "                          Interval(844.98, 853.49, closed='right'),\n",
       "                          Interval(666.27, 674.78, closed='right'),\n",
       "                          Interval(649.25, 657.76, closed='right'),\n",
       "                          Interval(445.01, 453.52, closed='right'),\n",
       "                          Interval(640.74, 649.25, closed='right'),\n",
       "                          Interval(462.03, 470.54, closed='right'),\n",
       "                          Interval(470.54, 479.05, closed='right'),\n",
       "                          Interval(479.05, 487.56, closed='right'),\n",
       "                          Interval(487.56, 496.07, closed='right'),\n",
       "                          Interval(410.97, 419.48, closed='right'),\n",
       "                          Interval(504.58, 513.09, closed='right'),\n",
       "                          Interval(513.09, 521.6, closed='right'),\n",
       "                          Interval(521.6, 530.11, closed='right'),\n",
       "                          Interval(530.11, 538.62, closed='right'),\n",
       "                          Interval(538.62, 547.13, closed='right'),\n",
       "                          Interval(402.46, 410.97, closed='right'),\n",
       "                          Interval(555.64, 564.15, closed='right'),\n",
       "                          Interval(393.95, 402.46, closed='right'),\n",
       "                          Interval(572.66, 581.17, closed='right'),\n",
       "                          Interval(581.17, 589.68, closed='right'),\n",
       "                          Interval(589.68, 598.19, closed='right'),\n",
       "                          Interval(598.19, 606.7, closed='right'),\n",
       "                          Interval(606.7, 615.21, closed='right'),\n",
       "                          Interval(615.21, 623.72, closed='right'),\n",
       "                          Interval(623.72, 632.23, closed='right'),\n",
       "                          Interval(632.23, 640.74, closed='right'),\n",
       "                          Interval(436.5, 445.01, closed='right')], dtype=object),\n",
       "              'xaxis': 'x',\n",
       "              'y': array([438, 401, 394, 381, 309, 285, 244, 229, 188, 184, 163, 157, 104,  98,\n",
       "                           81,  70,  62,  44,  39,  38,  36,  27,  25,  19,  14,  11,  10,  10,\n",
       "                            7,   6,   5,   4,   4,   3,   3,   3,   3,   3,   3,   2,   2,   1,\n",
       "                            1,   1,   1,   1,   1,   1,   1,   1,   1,   1,   1,   1,   0,   0,\n",
       "                            0,   0,   0,   0,   0,   0,   0,   0,   0,   0,   0,   0,   0,   0,\n",
       "                            0,   0,   0,   0,   0,   0,   0,   0,   0,   0,   0,   0,   0,   0,\n",
       "                            0,   0,   0,   0,   0,   0,   0,   0,   0,   0,   0,   0,   0,   0,\n",
       "                            0,   0], dtype=int64),\n",
       "              'yaxis': 'y'}],\n",
       "    'layout': {'barmode': 'relative',\n",
       "               'legend': {'tracegroupgap': 0},\n",
       "               'margin': {'t': 60},\n",
       "               'template': '...',\n",
       "               'xaxis': {'anchor': 'y', 'domain': [0.0, 1.0], 'title': {'text': 'index'}},\n",
       "               'yaxis': {'anchor': 'x', 'domain': [0.0, 1.0], 'title': {'text': 'Stambena površina u m2'}}}\n",
       "})"
      ]
     },
     "execution_count": 12,
     "metadata": {},
     "output_type": "execute_result"
    }
   ],
   "source": [
    "df[\"Stambena površina u m2\"].value_counts(bins = 100).reset_index()\n",
    "fig = px.bar(df[\"Stambena površina u m2\"].value_counts(bins = 100).reset_index(), x=\"index\", y=\"Stambena površina u m2\")\n",
    "fig"
   ]
  },
  {
   "cell_type": "code",
   "execution_count": 4,
   "metadata": {},
   "outputs": [
    {
     "data": {
      "application/vnd.plotly.v1+json": {
       "config": {
        "plotlyServerURL": "https://plot.ly"
       },
       "data": [
        {
         "alignmentgroup": "True",
         "bingroup": "x",
         "hovertemplate": "Stambena površina u m2=%{x}<br>count=%{y}<extra></extra>",
         "legendgroup": "",
         "marker": {
          "color": "#636efa",
          "pattern": {
           "shape": ""
          }
         },
         "name": "",
         "offsetgroup": "",
         "orientation": "v",
         "showlegend": false,
         "type": "histogram",
         "x": [
          40,
          84,
          96,
          71,
          74,
          95,
          83,
          69,
          23,
          50,
          34,
          160,
          74,
          45,
          68,
          39.9,
          56.5,
          21,
          63,
          87,
          87,
          30,
          101,
          92,
          55.26,
          63.2,
          45.95,
          98.89,
          57,
          59,
          84,
          58,
          54,
          63,
          49.19,
          76.5,
          80,
          58,
          126.15,
          74,
          40.27,
          70,
          140,
          72,
          106,
          67,
          47,
          84.65,
          114,
          65,
          37.54,
          77.38,
          91.1,
          62.89,
          92.54,
          74.2,
          37,
          74,
          83,
          64,
          83,
          67,
          80,
          93,
          192,
          780,
          55,
          105,
          77.38,
          44.9,
          78,
          65,
          121,
          47,
          84,
          55,
          54,
          100,
          214,
          136,
          84.7,
          57.35,
          92.84,
          31,
          199,
          106,
          80,
          80,
          77,
          31,
          31,
          85,
          107,
          35,
          97,
          123,
          109,
          72,
          122,
          72,
          139,
          76,
          45,
          93,
          63,
          61,
          130,
          123,
          64,
          147,
          75,
          150,
          115,
          44,
          54,
          39,
          83,
          77,
          31,
          62.18,
          29,
          77,
          130,
          95,
          96,
          125,
          103,
          169,
          34,
          46,
          96,
          53,
          122,
          90.46,
          66.4,
          120,
          117.59,
          80,
          61,
          29,
          111,
          69,
          79,
          88,
          85,
          60,
          35,
          60,
          116,
          41,
          95,
          99,
          95,
          63,
          99,
          126,
          36,
          22,
          56,
          70,
          25,
          30,
          92,
          49,
          107,
          75,
          101,
          63,
          55,
          21,
          79,
          72,
          206,
          43,
          64,
          67,
          80,
          68,
          136,
          112,
          77.52,
          161.65,
          167,
          110,
          70,
          78,
          64,
          121,
          81,
          57,
          80,
          64,
          80,
          78,
          92,
          78,
          78,
          58.18,
          40,
          76.5,
          116,
          63,
          121,
          81,
          103,
          63,
          73,
          109,
          43.97,
          58,
          110.4,
          85.18,
          47.29,
          35.17,
          110.2,
          82,
          41,
          74,
          35,
          100,
          37,
          120,
          88.5,
          64,
          51.21,
          72.11,
          154,
          185,
          109,
          43.92,
          73,
          94,
          89.88,
          80,
          94,
          118,
          139,
          70.3,
          60,
          61,
          78,
          136,
          54,
          80,
          86.94,
          71,
          133,
          106,
          118,
          140,
          59,
          52,
          33.23,
          170,
          50,
          56,
          39,
          85,
          71,
          77,
          118,
          123,
          91,
          74,
          70,
          74,
          56,
          56,
          147,
          93,
          198,
          95,
          54,
          324,
          234,
          58,
          160,
          172,
          52,
          168,
          132,
          84,
          47,
          95,
          95,
          155,
          227,
          31,
          181,
          66,
          47,
          63,
          55,
          55,
          50,
          58,
          59,
          99,
          63,
          132,
          86,
          80,
          87,
          128,
          119,
          108,
          108,
          82,
          40,
          80.45,
          58.87,
          77.14,
          78.35,
          38,
          82.2,
          60,
          80,
          86,
          93,
          56,
          40,
          80,
          94,
          56,
          21,
          157,
          36,
          60,
          78,
          100,
          50,
          128,
          145,
          90,
          43,
          72,
          68,
          71.92,
          52,
          52.3,
          100,
          33,
          87.59,
          53,
          122,
          44,
          60,
          31.85,
          55,
          55,
          51,
          51,
          97,
          71,
          30,
          75,
          63,
          32.71,
          47.4,
          93,
          108,
          57.49,
          90,
          64,
          48,
          67,
          90,
          47.54,
          40,
          63,
          35,
          100,
          195,
          78,
          41,
          69,
          80,
          63,
          86,
          106,
          70,
          122,
          118,
          106,
          61,
          35,
          150,
          85,
          78,
          68,
          67,
          71,
          54,
          73,
          67,
          68,
          84,
          126,
          74,
          70.26,
          96,
          65,
          64,
          53,
          31,
          97,
          65,
          69,
          133,
          63,
          200,
          138,
          120,
          59,
          74,
          114,
          185,
          104,
          41,
          110,
          54,
          46,
          35,
          122,
          150,
          70.57,
          45,
          53,
          118,
          56,
          81,
          70,
          71.69,
          75,
          163,
          147,
          136,
          92,
          119,
          74,
          57.98,
          55,
          68,
          84,
          70,
          100,
          57,
          71,
          184,
          101,
          145,
          40,
          74,
          85,
          190,
          116,
          70,
          81,
          79,
          98,
          65,
          171,
          141,
          30,
          96,
          43.95,
          36,
          56,
          61.52,
          31,
          78,
          72,
          72,
          62,
          74,
          57,
          88.4,
          130,
          56.75,
          129,
          94,
          203,
          59,
          83,
          69,
          51,
          69,
          90,
          90,
          244,
          108,
          78,
          63,
          71,
          260,
          100,
          82,
          85,
          118,
          74,
          90,
          65,
          110,
          56.5,
          60,
          30,
          93,
          70,
          149,
          54,
          33,
          74,
          314,
          29,
          59,
          59,
          207,
          62,
          131,
          85,
          111,
          79,
          55,
          130,
          61,
          123,
          118,
          102,
          114,
          59,
          85,
          45,
          220,
          152,
          59,
          79,
          59,
          164,
          37,
          156,
          138,
          102,
          146,
          146,
          72,
          135,
          70.5,
          108,
          88,
          117,
          82,
          225,
          128,
          102,
          59,
          99,
          59,
          101,
          34.44,
          61,
          84,
          82,
          59,
          102,
          32,
          102,
          76,
          67.2,
          50,
          159,
          150,
          49,
          82,
          60,
          125,
          97,
          186,
          212,
          213,
          89,
          102,
          50,
          68,
          107,
          59,
          127,
          33.17,
          98,
          67,
          78,
          76,
          96,
          87,
          34,
          60,
          137,
          65,
          90,
          58,
          91,
          30,
          47,
          109,
          50,
          76,
          66,
          108,
          92,
          54,
          145,
          177,
          30,
          42,
          76,
          78.2,
          102.87,
          47,
          78,
          63,
          80,
          77,
          85,
          78,
          66,
          78,
          181,
          341,
          70,
          20,
          48.3,
          62.47,
          58.96,
          60,
          61,
          91,
          50,
          98,
          48,
          160,
          53,
          62,
          40.19,
          55,
          178,
          49,
          83.38,
          112,
          34,
          52,
          41,
          25,
          80,
          68,
          105,
          80,
          80,
          74,
          55,
          69,
          128,
          91,
          45,
          70,
          60,
          70,
          83,
          80,
          106,
          56,
          94,
          149,
          122,
          92,
          75,
          62,
          68.68,
          75,
          57,
          64,
          255,
          74,
          104,
          251,
          192,
          149,
          93,
          145,
          84,
          93,
          25,
          179,
          128,
          67,
          109,
          65,
          224,
          130,
          111,
          69,
          94,
          154,
          157,
          122,
          225,
          201,
          133,
          20,
          32,
          248,
          45,
          89,
          79,
          107,
          170,
          93,
          121,
          86,
          102,
          72,
          46,
          196,
          131,
          134,
          140,
          126,
          94,
          256,
          95,
          77,
          70,
          249,
          48,
          106,
          85,
          270,
          132,
          210,
          119,
          110,
          130,
          40,
          54,
          82,
          107,
          138.44,
          110,
          214,
          150,
          120,
          153,
          120,
          115,
          29,
          87,
          85,
          210,
          173,
          102,
          102,
          115,
          255,
          48,
          755,
          128,
          249,
          80,
          200,
          130,
          106,
          55,
          83,
          130,
          124,
          83,
          171,
          77,
          32,
          75,
          70,
          127,
          177,
          99,
          154,
          45,
          92,
          87,
          80,
          194,
          42,
          100,
          125,
          100,
          160,
          55,
          93,
          120,
          155,
          186,
          30,
          50,
          15.195,
          800,
          178,
          89,
          38,
          49,
          73,
          117,
          145.48,
          194,
          50,
          171,
          65,
          94,
          98,
          51,
          55,
          104,
          155,
          163,
          120,
          120,
          76,
          153.16,
          59,
          129,
          126,
          143,
          116,
          68,
          50,
          68,
          195,
          109,
          100,
          59,
          65,
          106,
          72,
          124,
          33,
          45,
          40,
          97,
          40,
          95,
          40,
          46,
          43,
          96,
          45,
          66,
          45,
          41,
          133,
          144,
          77,
          117,
          125,
          82,
          103,
          62,
          50,
          98,
          107,
          44.3,
          95.75,
          65,
          124,
          68,
          73,
          137,
          94,
          83,
          66,
          96,
          102,
          55,
          78,
          79,
          186,
          38.91,
          100,
          90,
          93,
          75,
          118,
          103,
          78,
          208,
          93,
          28,
          148,
          70,
          114,
          131,
          107,
          110,
          186,
          136,
          16,
          80,
          548,
          125,
          100,
          47,
          71,
          96,
          39,
          76,
          63,
          90,
          125,
          151,
          97,
          108,
          78,
          91,
          104,
          75,
          60,
          64,
          55,
          108,
          173,
          120,
          44,
          101.43,
          69,
          52.15,
          67,
          87,
          121,
          100,
          88,
          123,
          108,
          54,
          54.4,
          62,
          53.3,
          45,
          110,
          90.63,
          110,
          67,
          40,
          52,
          180,
          139,
          33,
          33,
          62,
          93,
          40,
          94,
          60,
          55,
          97,
          33,
          94,
          49,
          106,
          44.12,
          83,
          97,
          61,
          56,
          79,
          82,
          33,
          61,
          68,
          40,
          150,
          94,
          89,
          65,
          100,
          47,
          85,
          63,
          78,
          78,
          100,
          116,
          33,
          124,
          35,
          82,
          50,
          94,
          46,
          146,
          145,
          50,
          86.75,
          110,
          66,
          120,
          98,
          43.33,
          100.99,
          141.69,
          132.48,
          109,
          125,
          67,
          67,
          65,
          80,
          99,
          129,
          63,
          115,
          54,
          59,
          45,
          53,
          106,
          54,
          100,
          85,
          87,
          89,
          63,
          64,
          79,
          54,
          137,
          107,
          204,
          138,
          130,
          167,
          149.87,
          24,
          75,
          48,
          97,
          33,
          55,
          74,
          127,
          63,
          145,
          216,
          98,
          186,
          59,
          74,
          65,
          93,
          62,
          67,
          80,
          113,
          140,
          54.46,
          58,
          46,
          24.93,
          32.61,
          36,
          75,
          38.2,
          50.76,
          97,
          64,
          57,
          80,
          64,
          63,
          80,
          57,
          63,
          81,
          121,
          103,
          121,
          63,
          81,
          63,
          116,
          42,
          36,
          70,
          190,
          53,
          105,
          54,
          65,
          61,
          83,
          86,
          79,
          92,
          65,
          94,
          75.11,
          80,
          80,
          43,
          49,
          63,
          54,
          59,
          119,
          83,
          88,
          53,
          121,
          108,
          24,
          24,
          34,
          32.33,
          86.53,
          73.84,
          74,
          17,
          140,
          29,
          112,
          35,
          130,
          82,
          28.56,
          111,
          56,
          214,
          107,
          84,
          84,
          126,
          99,
          140,
          193,
          165,
          120,
          661,
          53,
          101,
          144,
          148,
          118,
          240,
          86,
          106,
          160,
          138,
          175,
          330,
          215,
          107,
          90,
          248,
          260,
          150,
          240,
          257,
          221,
          150,
          136,
          81,
          207,
          130,
          130,
          155,
          53,
          150,
          130,
          82,
          102,
          80,
          47,
          85,
          100,
          40,
          28,
          88,
          118,
          137,
          140,
          55,
          129.8,
          200,
          85,
          234,
          97,
          86,
          79,
          94.41,
          143,
          85,
          129,
          180,
          300,
          200,
          48,
          72,
          85,
          85,
          271,
          73,
          29,
          185,
          155,
          46,
          56,
          220,
          205,
          150,
          50,
          350,
          150,
          65,
          82,
          40,
          74,
          112,
          197,
          106,
          80,
          436,
          256,
          126,
          145,
          145,
          100,
          93,
          155,
          107,
          110,
          250,
          245,
          250,
          162,
          84,
          93,
          104,
          42,
          91,
          84,
          862,
          139,
          108,
          139,
          70,
          90,
          40,
          93,
          110,
          68,
          99,
          123,
          48,
          74,
          130,
          35,
          226,
          145,
          103,
          82,
          180,
          180,
          70,
          86,
          144,
          56,
          111,
          60,
          130,
          83,
          455,
          80,
          50,
          161,
          99,
          76,
          50,
          79,
          700,
          42,
          104,
          572,
          112,
          130,
          87,
          87,
          50,
          60,
          133,
          134,
          134,
          205,
          76,
          156,
          63,
          133,
          124,
          98,
          100,
          172,
          144,
          117,
          102,
          92,
          312,
          55,
          301,
          95,
          96,
          92,
          82,
          153,
          80,
          67.68,
          71.63,
          35.47,
          80,
          118,
          77,
          38,
          66,
          56,
          82,
          115,
          61,
          61,
          100,
          90,
          150,
          166,
          131,
          42.52,
          115,
          66.72,
          161,
          44,
          160,
          192.47,
          78,
          42,
          108.36,
          87,
          83,
          110,
          120,
          120,
          135.87,
          92,
          48,
          77,
          47.84,
          88,
          32.75,
          97,
          62,
          72,
          57,
          140,
          70,
          66,
          91,
          153,
          43,
          88,
          88.3,
          49.95,
          44.85,
          42.65,
          104,
          59,
          63,
          85,
          78,
          48,
          88,
          64,
          66,
          85,
          64,
          85,
          52,
          85,
          26.35,
          49.4,
          66,
          65,
          49,
          47.44,
          48,
          35,
          127,
          88,
          98,
          82,
          57.33,
          154,
          103,
          133,
          70.26,
          75,
          56,
          20,
          74,
          84,
          186,
          79,
          53,
          145,
          122,
          77,
          73,
          78,
          63,
          64,
          122,
          26,
          119,
          100.42,
          150,
          65,
          137,
          101,
          76,
          89,
          64,
          57.7,
          73,
          73,
          28,
          57,
          59,
          61.9,
          85.48,
          76,
          150,
          78,
          73,
          131,
          133,
          128,
          61,
          182,
          45,
          118,
          150,
          74,
          74,
          95,
          92,
          64,
          65,
          161.68,
          75,
          43,
          110,
          200,
          162,
          105,
          122,
          213,
          38,
          40.7,
          137,
          100,
          100,
          123,
          145,
          103,
          68,
          175,
          77,
          73.88,
          97,
          94,
          45,
          45,
          126,
          100,
          173,
          32,
          97,
          34,
          92,
          324,
          69.64,
          60,
          95,
          77,
          150,
          340,
          91,
          130,
          68,
          99,
          75,
          54,
          90,
          107,
          115,
          62.39,
          105,
          90,
          90,
          68.7,
          107,
          130,
          110,
          92,
          159,
          140,
          45,
          122,
          85,
          35,
          72,
          90,
          131,
          32,
          142,
          64,
          59,
          88,
          76,
          126,
          83,
          89,
          106,
          71,
          149,
          134,
          254,
          95,
          87,
          95,
          41,
          107,
          195,
          162,
          112,
          132,
          149,
          116,
          126,
          187,
          87,
          90,
          270,
          27,
          24,
          282,
          55,
          63,
          53,
          39,
          55,
          98,
          101,
          88,
          83,
          252,
          280,
          165,
          164,
          145,
          62,
          100,
          62,
          67,
          161,
          198,
          41,
          45,
          42,
          73,
          70,
          150,
          231,
          189,
          60,
          301,
          177,
          150,
          129,
          54,
          140,
          62,
          83,
          156,
          65,
          55,
          80,
          174,
          73,
          117,
          324,
          85,
          90,
          59,
          85,
          68,
          135,
          45,
          86,
          121,
          22,
          59.3,
          95.21,
          62,
          32.22,
          80.66,
          73.65,
          87,
          46,
          74,
          70,
          95,
          45,
          83,
          41,
          87,
          61,
          20,
          85,
          51.16,
          42,
          64,
          54,
          35,
          43,
          36.12,
          78,
          75.96,
          31,
          85,
          63,
          62,
          85,
          64,
          83,
          59,
          56,
          56,
          87,
          93,
          90,
          59,
          59,
          63,
          63,
          74,
          64,
          188,
          119,
          62,
          40,
          44,
          44,
          92,
          61,
          40,
          110,
          97,
          46,
          61,
          86,
          37,
          79,
          55,
          29,
          41,
          49.35,
          71,
          68,
          215,
          49.6,
          87,
          185,
          64,
          117,
          58.23,
          76,
          40,
          51,
          52,
          117,
          38,
          33,
          36,
          52.28,
          54,
          88.87,
          95,
          51,
          167,
          155,
          250,
          61,
          155,
          95,
          95,
          94,
          70,
          102,
          39,
          94,
          83,
          54,
          100,
          126,
          84,
          56,
          93,
          58,
          134,
          115,
          76,
          82,
          51,
          50.73,
          54,
          222,
          53,
          56.76,
          93,
          31,
          65,
          74,
          93,
          56,
          44,
          96.66,
          200,
          56.73,
          62,
          173.62,
          52,
          60,
          62,
          78,
          64,
          78,
          100,
          63,
          66,
          61,
          60,
          49,
          49,
          62,
          62,
          90,
          74,
          87.92,
          58,
          49,
          50,
          70,
          94,
          64,
          72,
          51,
          49,
          84,
          29,
          36,
          135,
          94.59,
          74.71,
          57.21,
          80,
          72.81,
          79.85,
          72,
          324,
          162,
          34,
          52,
          110,
          39,
          48,
          48,
          82,
          87,
          84,
          146,
          97,
          122,
          75,
          157,
          200,
          72,
          134,
          73,
          132,
          84,
          95,
          39.5,
          78.34,
          58,
          40,
          27,
          77,
          35,
          58,
          105,
          118,
          34.19,
          42.93,
          42.93,
          58.57,
          142,
          117,
          157,
          125,
          126,
          63,
          98,
          100,
          106,
          86,
          72,
          42,
          41.23,
          57,
          178,
          82,
          80,
          98,
          92,
          92,
          50,
          31.64,
          77.93,
          54,
          58,
          20,
          130,
          26,
          20,
          63,
          76,
          89,
          70.3,
          99,
          71,
          41,
          132,
          86,
          61,
          70,
          70,
          53,
          70,
          55,
          139,
          36,
          79,
          40,
          61.15,
          47.65,
          71,
          54,
          87,
          200,
          63,
          70,
          30,
          138,
          30,
          96,
          109,
          155,
          155,
          111,
          120,
          56,
          208,
          95,
          57,
          46,
          142,
          105,
          105,
          74,
          103,
          87,
          87,
          56.41,
          87.46,
          150,
          101,
          33,
          33,
          72,
          48,
          52,
          95,
          132,
          56,
          68,
          53,
          61,
          66,
          63,
          55,
          82,
          68,
          82,
          50,
          122.74,
          98,
          112,
          141,
          56,
          57,
          54,
          57,
          176,
          61,
          77,
          90,
          56,
          164,
          214,
          110,
          110,
          118,
          110,
          109,
          154,
          99,
          65,
          150,
          25,
          32,
          29,
          136,
          32,
          116,
          143.61,
          156,
          34,
          28,
          40.87,
          105,
          85,
          79,
          31.4,
          34,
          145,
          150,
          154,
          343,
          24,
          102,
          119,
          48,
          115,
          78.33,
          65,
          71,
          42,
          45,
          102,
          84,
          86,
          57,
          58.47,
          51.32,
          35,
          42,
          39,
          74,
          120,
          184,
          216,
          121,
          72,
          35.43,
          47,
          52,
          59,
          57.96,
          121,
          49,
          73,
          111,
          44,
          55,
          96,
          47,
          76,
          62,
          33,
          41,
          48,
          75,
          122,
          52,
          49,
          166,
          125,
          165,
          169,
          101,
          84,
          69,
          50,
          234,
          53,
          136,
          69,
          40,
          47.25,
          20,
          51,
          84,
          176,
          134,
          40,
          54,
          99,
          87,
          45,
          57,
          101,
          82,
          65,
          51,
          82,
          118,
          53,
          97,
          51,
          124,
          96,
          77,
          72,
          254,
          41,
          107,
          119,
          44,
          356,
          73,
          101,
          34,
          73,
          159,
          138,
          74,
          63,
          145,
          83,
          228,
          142,
          190,
          104,
          156,
          38,
          80,
          80,
          167,
          99,
          114,
          122,
          83,
          193,
          193,
          54,
          47,
          47,
          96,
          109,
          77,
          87,
          87,
          115,
          207,
          160,
          115,
          89,
          82,
          51,
          73,
          165,
          165,
          53,
          56,
          57,
          57,
          84,
          79,
          75.93,
          59.46,
          94,
          103,
          102,
          41,
          45,
          69,
          186,
          87,
          175,
          77,
          49.5,
          125,
          86,
          80,
          111,
          140,
          103,
          253,
          169,
          125,
          83,
          153,
          165,
          114,
          143,
          103,
          102,
          97,
          136,
          124,
          165,
          169,
          102,
          125,
          121,
          79,
          255,
          200,
          99,
          60,
          50,
          100,
          80,
          78,
          110,
          49,
          63,
          49,
          89,
          98,
          56,
          62,
          86,
          116,
          82,
          69,
          53,
          52,
          52,
          53,
          52,
          53,
          49,
          63,
          63,
          60,
          63,
          61,
          49,
          49,
          49,
          49,
          42,
          41,
          41,
          102,
          96.65,
          56.86,
          70,
          60,
          119,
          107,
          292,
          53,
          108,
          94,
          115,
          90,
          103,
          30,
          30,
          120,
          47,
          54,
          156,
          28.23,
          70.15,
          48,
          63,
          175,
          156,
          63,
          96,
          123,
          122,
          40,
          61.24,
          87.5,
          65,
          66,
          85,
          56.87,
          91.87,
          165,
          25,
          127,
          160,
          44,
          64,
          84,
          77,
          100,
          80,
          51.4,
          161,
          200,
          181,
          133,
          110,
          20,
          64,
          70.3,
          126,
          92,
          56,
          110,
          78.34,
          26,
          85,
          43,
          62,
          48.5,
          70.3,
          114.28,
          44.99,
          66,
          74,
          120,
          71,
          41,
          88,
          77,
          83,
          38,
          50,
          135.25,
          77.57,
          146,
          42,
          47,
          150,
          61,
          135,
          53.8,
          40,
          47.48,
          135.16,
          130,
          104.48,
          68,
          37,
          87.59,
          74,
          424.61,
          96,
          185,
          75,
          117,
          127,
          100,
          120,
          58,
          39,
          111,
          70,
          60,
          47.67,
          70,
          20,
          63,
          32,
          57,
          130,
          84,
          50,
          69,
          56,
          70,
          95,
          93,
          68,
          155,
          130,
          152,
          69,
          110,
          157,
          215,
          125,
          101,
          90,
          123,
          126,
          160,
          137,
          153,
          118,
          41,
          45,
          165,
          45,
          68,
          87,
          60,
          29,
          72,
          182,
          60,
          106,
          129,
          71,
          50,
          101,
          127,
          45,
          112,
          24,
          45,
          100,
          124,
          78,
          100,
          177,
          112,
          89,
          130,
          120,
          67,
          156,
          96,
          95,
          50.79,
          208.61,
          85,
          43,
          125,
          59,
          52,
          117,
          50,
          150,
          77,
          109,
          60,
          107,
          56.15,
          100,
          98,
          55,
          81,
          97,
          97,
          68,
          145,
          72,
          89,
          53,
          77,
          107,
          36,
          104,
          128,
          54,
          89,
          133,
          68,
          119,
          77,
          69,
          143,
          92,
          38,
          45,
          74,
          160,
          31,
          186,
          33,
          67,
          150,
          132,
          40,
          36,
          198,
          65,
          87,
          59,
          84,
          49,
          127,
          76,
          70,
          120,
          118,
          72,
          128,
          76,
          96,
          61,
          198,
          139,
          165,
          149,
          33,
          105,
          74,
          341,
          75,
          64,
          94,
          265,
          74,
          67.42,
          98,
          36,
          33.42,
          93,
          137,
          57,
          81,
          64,
          63,
          80,
          228,
          56,
          64,
          57,
          106,
          80,
          73,
          121,
          21,
          98,
          58,
          77,
          105,
          101,
          63,
          123,
          68,
          130,
          254,
          37,
          100,
          75,
          58,
          99,
          124,
          102,
          68,
          35,
          120,
          121,
          85,
          95,
          197,
          54,
          105,
          83,
          150,
          136.5,
          92.52,
          75,
          112.13,
          72,
          46,
          100,
          35,
          125,
          82,
          67,
          59,
          55,
          112,
          152,
          31,
          76,
          44,
          93,
          58,
          504,
          93,
          40,
          100,
          60,
          143,
          186,
          94,
          107,
          78,
          75,
          60,
          74.33,
          112.5,
          85,
          157,
          57.54,
          61.4,
          52,
          64,
          57.48,
          95,
          36,
          52,
          126,
          171,
          107,
          44,
          72.72,
          87.86,
          68.61,
          96.5,
          67,
          113,
          65,
          34,
          210,
          62,
          34,
          154,
          43,
          107,
          54,
          27,
          324,
          49,
          49,
          49,
          49,
          49,
          63,
          49,
          49,
          63,
          63,
          49,
          60,
          53,
          51,
          49,
          63,
          66,
          63,
          62,
          66,
          72,
          49,
          72,
          62,
          63,
          66,
          60,
          49,
          62,
          60,
          77,
          74,
          138,
          52.4,
          40,
          175,
          175,
          74,
          80,
          58,
          106,
          103,
          93,
          78,
          102,
          119,
          151,
          162,
          63,
          155,
          153,
          28,
          126,
          116,
          51,
          116,
          42,
          75,
          94,
          68,
          77,
          85,
          110,
          54,
          110,
          49,
          127,
          64,
          60,
          189,
          122,
          51,
          45,
          87,
          83,
          86,
          120,
          173,
          162,
          95,
          66,
          52,
          50,
          100,
          70.71,
          141,
          24,
          186,
          75,
          74,
          127,
          48,
          60,
          200,
          102,
          70,
          59,
          33,
          63,
          94,
          86,
          77.14,
          90,
          79.72,
          54,
          100,
          106,
          54,
          117,
          52,
          80,
          88,
          126,
          34,
          64,
          63,
          49,
          92,
          83,
          49,
          78,
          186,
          84,
          67,
          160,
          102,
          105,
          77,
          88.91,
          102,
          56,
          96,
          150,
          95,
          254,
          102,
          113.6,
          202,
          85,
          99,
          103,
          61.43,
          61,
          108,
          121,
          30,
          84,
          60,
          60,
          63,
          75.32,
          50,
          72.65,
          34.18,
          147,
          331,
          53,
          51,
          76,
          73.82,
          62,
          80,
          88,
          59,
          37,
          98,
          87,
          84,
          98,
          28,
          11,
          166,
          46,
          121,
          76,
          102,
          69,
          64,
          107,
          188.34,
          102,
          62,
          76,
          46,
          95,
          80,
          78,
          80,
          74,
          62,
          46,
          76,
          44,
          53,
          33,
          71,
          76,
          93,
          93,
          54,
          141,
          72,
          78,
          80,
          68,
          58,
          29,
          36,
          74,
          106,
          107,
          121,
          64,
          68,
          49,
          186,
          53,
          87,
          67,
          65,
          47,
          54,
          122,
          126,
          117,
          52,
          77.19,
          65.17,
          76,
          74,
          122,
          150,
          127,
          135,
          114,
          47,
          78.34,
          55,
          134,
          65,
          89,
          43,
          70,
          72,
          49,
          350,
          160,
          70,
          86,
          157,
          81,
          80,
          85,
          14,
          170,
          137,
          86.31,
          121,
          250,
          48,
          77,
          360,
          225,
          147,
          187,
          200,
          80,
          125,
          93,
          133,
          83,
          27,
          207,
          124,
          82,
          40,
          119,
          100,
          100,
          80,
          56.71,
          86,
          160,
          55,
          74,
          195,
          96,
          130,
          111,
          108,
          60,
          69,
          110,
          32,
          65,
          60,
          33,
          140,
          50,
          70,
          70,
          227,
          115,
          114,
          62,
          92,
          78,
          64,
          14,
          59.83,
          66.77,
          62,
          44,
          101,
          150,
          74,
          160,
          62,
          62,
          80,
          90,
          92,
          136,
          53.71,
          129,
          70,
          116,
          35,
          77.42,
          101.13,
          84,
          146,
          150,
          119,
          55,
          107,
          153,
          43,
          49,
          154,
          65,
          122,
          73.62,
          80,
          31,
          80,
          108,
          96,
          82,
          35,
          117,
          52,
          41,
          45,
          199,
          95,
          136,
          23,
          87,
          85,
          75,
          151,
          96,
          109,
          122,
          34.37,
          108.4,
          80,
          43,
          80,
          61.5,
          50,
          85,
          324,
          84,
          88,
          187,
          112,
          26,
          71,
          52,
          109,
          28,
          110,
          46,
          83,
          93,
          62,
          110,
          28,
          91,
          65,
          65.13,
          57,
          63,
          64.5,
          141,
          148,
          67,
          170,
          67,
          81,
          64,
          66,
          92,
          62,
          67,
          101,
          27,
          69,
          53,
          82,
          53,
          63,
          66,
          92,
          100,
          88,
          74,
          60,
          72,
          86,
          100,
          117,
          113,
          71.43,
          114,
          86,
          67,
          159,
          64,
          79,
          63,
          60,
          122,
          147,
          136,
          150,
          62,
          30,
          82.31,
          41,
          26,
          81.27,
          32.81,
          134,
          140,
          43.5,
          116.31,
          31,
          233,
          54,
          240,
          63,
          117.93,
          80.63,
          300,
          74,
          77,
          120,
          24,
          24,
          40,
          60,
          67,
          131,
          71,
          30,
          59.53,
          135,
          100.55,
          95.8,
          101.73,
          101.73,
          42.5,
          51,
          32.81,
          32.48,
          47,
          64.99,
          50.96,
          32.81,
          88,
          80,
          116,
          64.99,
          35.8,
          42.5,
          50.96,
          33,
          116,
          32.81,
          68,
          48.2,
          92,
          122,
          150,
          43.78,
          32.81,
          53,
          92,
          122,
          140,
          64.99,
          100,
          165,
          100,
          68,
          87,
          74,
          85,
          57,
          122.18,
          39,
          220,
          110,
          32,
          110,
          110,
          340,
          217,
          203,
          184,
          51.25,
          49.84,
          36.85,
          55,
          66.5,
          105,
          36,
          45,
          190.36,
          47,
          67,
          78,
          230,
          95,
          78,
          29.5,
          28.5,
          60.13,
          156,
          76.18,
          179,
          73,
          40,
          24,
          62,
          25,
          79,
          64,
          79,
          17,
          46.37,
          31,
          54.68,
          26.4,
          63,
          29.56,
          47,
          50.87,
          21,
          50,
          80.29,
          47.61,
          74,
          63,
          58.6,
          50.72,
          60,
          50,
          39,
          104,
          35,
          131,
          81,
          87,
          45,
          58,
          58,
          76,
          230,
          48.9,
          47,
          58.5,
          52,
          40,
          41.6,
          53,
          40.54,
          35,
          35,
          32,
          23,
          63,
          92,
          50,
          42,
          91,
          103,
          53,
          84,
          65,
          85,
          64,
          56,
          88.5,
          135,
          57,
          72,
          75,
          175,
          107,
          120,
          62,
          41,
          74.45,
          58.86,
          167,
          47,
          61,
          50,
          42.52,
          80,
          118,
          137,
          91,
          128,
          60,
          35,
          73,
          56,
          32,
          72,
          27,
          67,
          109,
          110,
          97,
          45,
          84,
          108,
          80,
          106,
          110,
          99,
          65,
          29,
          42,
          56,
          90,
          142,
          115,
          80,
          71,
          80,
          26,
          116,
          101,
          67,
          67,
          74,
          73,
          73,
          74,
          111,
          80.2,
          85,
          95,
          75,
          78,
          85,
          72,
          112,
          132,
          72,
          73,
          78,
          70,
          53,
          53,
          70,
          188,
          64,
          78,
          63,
          43,
          43,
          66.13,
          89,
          81,
          90.41,
          80,
          67,
          118,
          107,
          61,
          122,
          74,
          88,
          114,
          93,
          74,
          136.95,
          136.66,
          135.25,
          98,
          104.11,
          114.56,
          53,
          122,
          106,
          110,
          49,
          86,
          51.2,
          111,
          79,
          35,
          96,
          89,
          60,
          120,
          83,
          140,
          96.6,
          66.71,
          77,
          55,
          73,
          73,
          55,
          104.84,
          37,
          156,
          93,
          58,
          178,
          70,
          57,
          58,
          92,
          104,
          31,
          127,
          74,
          98.5,
          84,
          78.37,
          75.78,
          75,
          90,
          83,
          50,
          149,
          190,
          62,
          85,
          175,
          73,
          190,
          33,
          58,
          103,
          38,
          51,
          80,
          82,
          60,
          101,
          25,
          120,
          150,
          144,
          93,
          46,
          120,
          141,
          71,
          60,
          83,
          83,
          67,
          125,
          70,
          82.5,
          138,
          87,
          87,
          38,
          82,
          110,
          43,
          166,
          200,
          153,
          124,
          80,
          100,
          45,
          41,
          45,
          42,
          54,
          111,
          150,
          145,
          229,
          85,
          61.15,
          65,
          150,
          52,
          121,
          68,
          45,
          41,
          44,
          55,
          73,
          96.65,
          90,
          157,
          54,
          140,
          50.85,
          101,
          307,
          98,
          63.41,
          36,
          94,
          51,
          175,
          94,
          90,
          90,
          99,
          114,
          55,
          110,
          171,
          60.5,
          130,
          55,
          77,
          63,
          40,
          74,
          63,
          74,
          48,
          57,
          64,
          80,
          155,
          63,
          97,
          130,
          63,
          52,
          41,
          83,
          44,
          79.39,
          74.37,
          156.32,
          118.1,
          62.29,
          87,
          61,
          48.96,
          47,
          59.13,
          58,
          60,
          55,
          70,
          33,
          33,
          190,
          290,
          140,
          108,
          106,
          207,
          80,
          353,
          176,
          64,
          138,
          133,
          112,
          75,
          75,
          90,
          85,
          64,
          75,
          72,
          90,
          65,
          95,
          77,
          56,
          95,
          60,
          79.7,
          170,
          137,
          194.5,
          102,
          76,
          320,
          118,
          90,
          107,
          215,
          36.87,
          56,
          56,
          29.95,
          56,
          55,
          146,
          210,
          138,
          100,
          199,
          134,
          106,
          117,
          54,
          88,
          126,
          125,
          196,
          60,
          186,
          49.29,
          20,
          58,
          76,
          77,
          148,
          127,
          127,
          81.6,
          104,
          103,
          65,
          92,
          46,
          103,
          110,
          350,
          54,
          48,
          150,
          150,
          158,
          103,
          73,
          114,
          163,
          57,
          155,
          120,
          100,
          55,
          80,
          80,
          58,
          56,
          163,
          80,
          122,
          98,
          137,
          220,
          149,
          93,
          80,
          86,
          95,
          98,
          72,
          82,
          151,
          46,
          75,
          33,
          79,
          155,
          55,
          75,
          151,
          64,
          47,
          64,
          196,
          199,
          102,
          70,
          70,
          80,
          93,
          71,
          173,
          70,
          83,
          100,
          179,
          190,
          83,
          97,
          73,
          170,
          26,
          80,
          64,
          182,
          108,
          85,
          154,
          46,
          65,
          95,
          82,
          52,
          68,
          80,
          130,
          324,
          85,
          100,
          86,
          323,
          71,
          98,
          130,
          118,
          84,
          60,
          17,
          51.56,
          51.68,
          57,
          186,
          151.2,
          36.4,
          57.87,
          72,
          89.96,
          43,
          70,
          81,
          106,
          341,
          77,
          186,
          151,
          152,
          58.97,
          68,
          85,
          81,
          136,
          100,
          81,
          110,
          84,
          82,
          99,
          196,
          35,
          87,
          52,
          22,
          43,
          118,
          136,
          136,
          114,
          86,
          85,
          117,
          89,
          17.5,
          69,
          69,
          45,
          206,
          60,
          64,
          112,
          104,
          196,
          54,
          14,
          54,
          74,
          118,
          500,
          52,
          65.13,
          156,
          115,
          131,
          58,
          32,
          86.9,
          32,
          46,
          81,
          74,
          156,
          68,
          58,
          57,
          64,
          121,
          63,
          228,
          71,
          81,
          116,
          103,
          51,
          49,
          27,
          66,
          73,
          73,
          100,
          140.46,
          40,
          71.46,
          17.26,
          67.13,
          107,
          83.25,
          58.6,
          49,
          53,
          60,
          70,
          41,
          63,
          81,
          95,
          121,
          198,
          95,
          84,
          73,
          78,
          67,
          51.43,
          50,
          34.66,
          29.56,
          48,
          67.5,
          56,
          161,
          149,
          45,
          68,
          75,
          48.29,
          63,
          79,
          77.35,
          27,
          54.23,
          72,
          140.97,
          35,
          103.25,
          129,
          161,
          94,
          34.71,
          47.54,
          58,
          53,
          42,
          28,
          130,
          64,
          80,
          57,
          72,
          72,
          57,
          90,
          64,
          280,
          72,
          128,
          81,
          72,
          81,
          104,
          104,
          66,
          58,
          33.23,
          40,
          66,
          73.48,
          68,
          56.87,
          117,
          77,
          93,
          54.13,
          37,
          86.92,
          43.84,
          72.8,
          64,
          47,
          116,
          136,
          193,
          74,
          174,
          115,
          98,
          106,
          135,
          53,
          64,
          58,
          51,
          73.54,
          85,
          93,
          79,
          91,
          82,
          62,
          51,
          20.74,
          91.44,
          49,
          84,
          68,
          39,
          56,
          65,
          81,
          81,
          101,
          94,
          56,
          89,
          76,
          48.57,
          106,
          89,
          30,
          56,
          63,
          68,
          118,
          56,
          60.82,
          68,
          83,
          59,
          118.8,
          57,
          165,
          63,
          63,
          98,
          73.2,
          47.45,
          84,
          121,
          96,
          95,
          88,
          85,
          88,
          60,
          85,
          96,
          82,
          83,
          50.35,
          55,
          50,
          104,
          74,
          164,
          75,
          70,
          60,
          71,
          83,
          57,
          155,
          56,
          55,
          58.63,
          92.68,
          68,
          143,
          76,
          185,
          69,
          40.4,
          49.9,
          92,
          96,
          29,
          154,
          194,
          72,
          53,
          31,
          122,
          64,
          61,
          64,
          82,
          82,
          76,
          48,
          177,
          80,
          58,
          35,
          35,
          60,
          100,
          120,
          85,
          49,
          209,
          62,
          222,
          120,
          75,
          44,
          250,
          80,
          63,
          100,
          73.12,
          41,
          40,
          110,
          61,
          74,
          122,
          80,
          39,
          142,
          90.24,
          53.18,
          63,
          82,
          58,
          55,
          66,
          59,
          59,
          66,
          50,
          74,
          33,
          50.8,
          53,
          83,
          80,
          33,
          51,
          63,
          98,
          58,
          68,
          49,
          102,
          85,
          62,
          75,
          75,
          48,
          87,
          75,
          50,
          100,
          62,
          43,
          70,
          45,
          136,
          137,
          138,
          56,
          173,
          105,
          137,
          175,
          103,
          98,
          130,
          135,
          70,
          136,
          195,
          208,
          68,
          128,
          180,
          138,
          55,
          44,
          40,
          32,
          60,
          56.73,
          324,
          73,
          252,
          98,
          199,
          35,
          55,
          130.96,
          502,
          21,
          92,
          21,
          196,
          100,
          65,
          80,
          59,
          100,
          180,
          100,
          90,
          56.77,
          75,
          79,
          196,
          54,
          93,
          174,
          35,
          84,
          117,
          107,
          55,
          95,
          49,
          94,
          107,
          93,
          43,
          103.63,
          150,
          189,
          49.19,
          100,
          54,
          50,
          42,
          64,
          49,
          121,
          35,
          100,
          126,
          40.5,
          75,
          69,
          102,
          31,
          21,
          62,
          49,
          99,
          104,
          61,
          83,
          80,
          115,
          95,
          64,
          63,
          104,
          92,
          72,
          70,
          34,
          93,
          75,
          35,
          81,
          94,
          292,
          85,
          60,
          77,
          75,
          130,
          71,
          58,
          102,
          63,
          79,
          63,
          63,
          85,
          102,
          125,
          73,
          61,
          67,
          67,
          133,
          108,
          55,
          94,
          53,
          32,
          29,
          56,
          80,
          85.25,
          86,
          85,
          107,
          110,
          65,
          65,
          48.4,
          53,
          82,
          62.91,
          58.23,
          71.46,
          70.5,
          34.66,
          56,
          90,
          50,
          330,
          35,
          26,
          52,
          66,
          36,
          82.6,
          38.77,
          41.75,
          153,
          42,
          55,
          108,
          58,
          38,
          78,
          81,
          76,
          90,
          75,
          57,
          95,
          44,
          64.19
         ],
         "xaxis": "x",
         "yaxis": "y"
        }
       ],
       "layout": {
        "barmode": "relative",
        "legend": {
         "tracegroupgap": 0
        },
        "margin": {
         "t": 60
        },
        "template": {
         "data": {
          "bar": [
           {
            "error_x": {
             "color": "#2a3f5f"
            },
            "error_y": {
             "color": "#2a3f5f"
            },
            "marker": {
             "line": {
              "color": "#E5ECF6",
              "width": 0.5
             },
             "pattern": {
              "fillmode": "overlay",
              "size": 10,
              "solidity": 0.2
             }
            },
            "type": "bar"
           }
          ],
          "barpolar": [
           {
            "marker": {
             "line": {
              "color": "#E5ECF6",
              "width": 0.5
             },
             "pattern": {
              "fillmode": "overlay",
              "size": 10,
              "solidity": 0.2
             }
            },
            "type": "barpolar"
           }
          ],
          "carpet": [
           {
            "aaxis": {
             "endlinecolor": "#2a3f5f",
             "gridcolor": "white",
             "linecolor": "white",
             "minorgridcolor": "white",
             "startlinecolor": "#2a3f5f"
            },
            "baxis": {
             "endlinecolor": "#2a3f5f",
             "gridcolor": "white",
             "linecolor": "white",
             "minorgridcolor": "white",
             "startlinecolor": "#2a3f5f"
            },
            "type": "carpet"
           }
          ],
          "choropleth": [
           {
            "colorbar": {
             "outlinewidth": 0,
             "ticks": ""
            },
            "type": "choropleth"
           }
          ],
          "contour": [
           {
            "colorbar": {
             "outlinewidth": 0,
             "ticks": ""
            },
            "colorscale": [
             [
              0,
              "#0d0887"
             ],
             [
              0.1111111111111111,
              "#46039f"
             ],
             [
              0.2222222222222222,
              "#7201a8"
             ],
             [
              0.3333333333333333,
              "#9c179e"
             ],
             [
              0.4444444444444444,
              "#bd3786"
             ],
             [
              0.5555555555555556,
              "#d8576b"
             ],
             [
              0.6666666666666666,
              "#ed7953"
             ],
             [
              0.7777777777777778,
              "#fb9f3a"
             ],
             [
              0.8888888888888888,
              "#fdca26"
             ],
             [
              1,
              "#f0f921"
             ]
            ],
            "type": "contour"
           }
          ],
          "contourcarpet": [
           {
            "colorbar": {
             "outlinewidth": 0,
             "ticks": ""
            },
            "type": "contourcarpet"
           }
          ],
          "heatmap": [
           {
            "colorbar": {
             "outlinewidth": 0,
             "ticks": ""
            },
            "colorscale": [
             [
              0,
              "#0d0887"
             ],
             [
              0.1111111111111111,
              "#46039f"
             ],
             [
              0.2222222222222222,
              "#7201a8"
             ],
             [
              0.3333333333333333,
              "#9c179e"
             ],
             [
              0.4444444444444444,
              "#bd3786"
             ],
             [
              0.5555555555555556,
              "#d8576b"
             ],
             [
              0.6666666666666666,
              "#ed7953"
             ],
             [
              0.7777777777777778,
              "#fb9f3a"
             ],
             [
              0.8888888888888888,
              "#fdca26"
             ],
             [
              1,
              "#f0f921"
             ]
            ],
            "type": "heatmap"
           }
          ],
          "heatmapgl": [
           {
            "colorbar": {
             "outlinewidth": 0,
             "ticks": ""
            },
            "colorscale": [
             [
              0,
              "#0d0887"
             ],
             [
              0.1111111111111111,
              "#46039f"
             ],
             [
              0.2222222222222222,
              "#7201a8"
             ],
             [
              0.3333333333333333,
              "#9c179e"
             ],
             [
              0.4444444444444444,
              "#bd3786"
             ],
             [
              0.5555555555555556,
              "#d8576b"
             ],
             [
              0.6666666666666666,
              "#ed7953"
             ],
             [
              0.7777777777777778,
              "#fb9f3a"
             ],
             [
              0.8888888888888888,
              "#fdca26"
             ],
             [
              1,
              "#f0f921"
             ]
            ],
            "type": "heatmapgl"
           }
          ],
          "histogram": [
           {
            "marker": {
             "pattern": {
              "fillmode": "overlay",
              "size": 10,
              "solidity": 0.2
             }
            },
            "type": "histogram"
           }
          ],
          "histogram2d": [
           {
            "colorbar": {
             "outlinewidth": 0,
             "ticks": ""
            },
            "colorscale": [
             [
              0,
              "#0d0887"
             ],
             [
              0.1111111111111111,
              "#46039f"
             ],
             [
              0.2222222222222222,
              "#7201a8"
             ],
             [
              0.3333333333333333,
              "#9c179e"
             ],
             [
              0.4444444444444444,
              "#bd3786"
             ],
             [
              0.5555555555555556,
              "#d8576b"
             ],
             [
              0.6666666666666666,
              "#ed7953"
             ],
             [
              0.7777777777777778,
              "#fb9f3a"
             ],
             [
              0.8888888888888888,
              "#fdca26"
             ],
             [
              1,
              "#f0f921"
             ]
            ],
            "type": "histogram2d"
           }
          ],
          "histogram2dcontour": [
           {
            "colorbar": {
             "outlinewidth": 0,
             "ticks": ""
            },
            "colorscale": [
             [
              0,
              "#0d0887"
             ],
             [
              0.1111111111111111,
              "#46039f"
             ],
             [
              0.2222222222222222,
              "#7201a8"
             ],
             [
              0.3333333333333333,
              "#9c179e"
             ],
             [
              0.4444444444444444,
              "#bd3786"
             ],
             [
              0.5555555555555556,
              "#d8576b"
             ],
             [
              0.6666666666666666,
              "#ed7953"
             ],
             [
              0.7777777777777778,
              "#fb9f3a"
             ],
             [
              0.8888888888888888,
              "#fdca26"
             ],
             [
              1,
              "#f0f921"
             ]
            ],
            "type": "histogram2dcontour"
           }
          ],
          "mesh3d": [
           {
            "colorbar": {
             "outlinewidth": 0,
             "ticks": ""
            },
            "type": "mesh3d"
           }
          ],
          "parcoords": [
           {
            "line": {
             "colorbar": {
              "outlinewidth": 0,
              "ticks": ""
             }
            },
            "type": "parcoords"
           }
          ],
          "pie": [
           {
            "automargin": true,
            "type": "pie"
           }
          ],
          "scatter": [
           {
            "marker": {
             "colorbar": {
              "outlinewidth": 0,
              "ticks": ""
             }
            },
            "type": "scatter"
           }
          ],
          "scatter3d": [
           {
            "line": {
             "colorbar": {
              "outlinewidth": 0,
              "ticks": ""
             }
            },
            "marker": {
             "colorbar": {
              "outlinewidth": 0,
              "ticks": ""
             }
            },
            "type": "scatter3d"
           }
          ],
          "scattercarpet": [
           {
            "marker": {
             "colorbar": {
              "outlinewidth": 0,
              "ticks": ""
             }
            },
            "type": "scattercarpet"
           }
          ],
          "scattergeo": [
           {
            "marker": {
             "colorbar": {
              "outlinewidth": 0,
              "ticks": ""
             }
            },
            "type": "scattergeo"
           }
          ],
          "scattergl": [
           {
            "marker": {
             "colorbar": {
              "outlinewidth": 0,
              "ticks": ""
             }
            },
            "type": "scattergl"
           }
          ],
          "scattermapbox": [
           {
            "marker": {
             "colorbar": {
              "outlinewidth": 0,
              "ticks": ""
             }
            },
            "type": "scattermapbox"
           }
          ],
          "scatterpolar": [
           {
            "marker": {
             "colorbar": {
              "outlinewidth": 0,
              "ticks": ""
             }
            },
            "type": "scatterpolar"
           }
          ],
          "scatterpolargl": [
           {
            "marker": {
             "colorbar": {
              "outlinewidth": 0,
              "ticks": ""
             }
            },
            "type": "scatterpolargl"
           }
          ],
          "scatterternary": [
           {
            "marker": {
             "colorbar": {
              "outlinewidth": 0,
              "ticks": ""
             }
            },
            "type": "scatterternary"
           }
          ],
          "surface": [
           {
            "colorbar": {
             "outlinewidth": 0,
             "ticks": ""
            },
            "colorscale": [
             [
              0,
              "#0d0887"
             ],
             [
              0.1111111111111111,
              "#46039f"
             ],
             [
              0.2222222222222222,
              "#7201a8"
             ],
             [
              0.3333333333333333,
              "#9c179e"
             ],
             [
              0.4444444444444444,
              "#bd3786"
             ],
             [
              0.5555555555555556,
              "#d8576b"
             ],
             [
              0.6666666666666666,
              "#ed7953"
             ],
             [
              0.7777777777777778,
              "#fb9f3a"
             ],
             [
              0.8888888888888888,
              "#fdca26"
             ],
             [
              1,
              "#f0f921"
             ]
            ],
            "type": "surface"
           }
          ],
          "table": [
           {
            "cells": {
             "fill": {
              "color": "#EBF0F8"
             },
             "line": {
              "color": "white"
             }
            },
            "header": {
             "fill": {
              "color": "#C8D4E3"
             },
             "line": {
              "color": "white"
             }
            },
            "type": "table"
           }
          ]
         },
         "layout": {
          "annotationdefaults": {
           "arrowcolor": "#2a3f5f",
           "arrowhead": 0,
           "arrowwidth": 1
          },
          "autotypenumbers": "strict",
          "coloraxis": {
           "colorbar": {
            "outlinewidth": 0,
            "ticks": ""
           }
          },
          "colorscale": {
           "diverging": [
            [
             0,
             "#8e0152"
            ],
            [
             0.1,
             "#c51b7d"
            ],
            [
             0.2,
             "#de77ae"
            ],
            [
             0.3,
             "#f1b6da"
            ],
            [
             0.4,
             "#fde0ef"
            ],
            [
             0.5,
             "#f7f7f7"
            ],
            [
             0.6,
             "#e6f5d0"
            ],
            [
             0.7,
             "#b8e186"
            ],
            [
             0.8,
             "#7fbc41"
            ],
            [
             0.9,
             "#4d9221"
            ],
            [
             1,
             "#276419"
            ]
           ],
           "sequential": [
            [
             0,
             "#0d0887"
            ],
            [
             0.1111111111111111,
             "#46039f"
            ],
            [
             0.2222222222222222,
             "#7201a8"
            ],
            [
             0.3333333333333333,
             "#9c179e"
            ],
            [
             0.4444444444444444,
             "#bd3786"
            ],
            [
             0.5555555555555556,
             "#d8576b"
            ],
            [
             0.6666666666666666,
             "#ed7953"
            ],
            [
             0.7777777777777778,
             "#fb9f3a"
            ],
            [
             0.8888888888888888,
             "#fdca26"
            ],
            [
             1,
             "#f0f921"
            ]
           ],
           "sequentialminus": [
            [
             0,
             "#0d0887"
            ],
            [
             0.1111111111111111,
             "#46039f"
            ],
            [
             0.2222222222222222,
             "#7201a8"
            ],
            [
             0.3333333333333333,
             "#9c179e"
            ],
            [
             0.4444444444444444,
             "#bd3786"
            ],
            [
             0.5555555555555556,
             "#d8576b"
            ],
            [
             0.6666666666666666,
             "#ed7953"
            ],
            [
             0.7777777777777778,
             "#fb9f3a"
            ],
            [
             0.8888888888888888,
             "#fdca26"
            ],
            [
             1,
             "#f0f921"
            ]
           ]
          },
          "colorway": [
           "#636efa",
           "#EF553B",
           "#00cc96",
           "#ab63fa",
           "#FFA15A",
           "#19d3f3",
           "#FF6692",
           "#B6E880",
           "#FF97FF",
           "#FECB52"
          ],
          "font": {
           "color": "#2a3f5f"
          },
          "geo": {
           "bgcolor": "white",
           "lakecolor": "white",
           "landcolor": "#E5ECF6",
           "showlakes": true,
           "showland": true,
           "subunitcolor": "white"
          },
          "hoverlabel": {
           "align": "left"
          },
          "hovermode": "closest",
          "mapbox": {
           "style": "light"
          },
          "paper_bgcolor": "white",
          "plot_bgcolor": "#E5ECF6",
          "polar": {
           "angularaxis": {
            "gridcolor": "white",
            "linecolor": "white",
            "ticks": ""
           },
           "bgcolor": "#E5ECF6",
           "radialaxis": {
            "gridcolor": "white",
            "linecolor": "white",
            "ticks": ""
           }
          },
          "scene": {
           "xaxis": {
            "backgroundcolor": "#E5ECF6",
            "gridcolor": "white",
            "gridwidth": 2,
            "linecolor": "white",
            "showbackground": true,
            "ticks": "",
            "zerolinecolor": "white"
           },
           "yaxis": {
            "backgroundcolor": "#E5ECF6",
            "gridcolor": "white",
            "gridwidth": 2,
            "linecolor": "white",
            "showbackground": true,
            "ticks": "",
            "zerolinecolor": "white"
           },
           "zaxis": {
            "backgroundcolor": "#E5ECF6",
            "gridcolor": "white",
            "gridwidth": 2,
            "linecolor": "white",
            "showbackground": true,
            "ticks": "",
            "zerolinecolor": "white"
           }
          },
          "shapedefaults": {
           "line": {
            "color": "#2a3f5f"
           }
          },
          "ternary": {
           "aaxis": {
            "gridcolor": "white",
            "linecolor": "white",
            "ticks": ""
           },
           "baxis": {
            "gridcolor": "white",
            "linecolor": "white",
            "ticks": ""
           },
           "bgcolor": "#E5ECF6",
           "caxis": {
            "gridcolor": "white",
            "linecolor": "white",
            "ticks": ""
           }
          },
          "title": {
           "x": 0.05
          },
          "xaxis": {
           "automargin": true,
           "gridcolor": "white",
           "linecolor": "white",
           "ticks": "",
           "title": {
            "standoff": 15
           },
           "zerolinecolor": "white",
           "zerolinewidth": 2
          },
          "yaxis": {
           "automargin": true,
           "gridcolor": "white",
           "linecolor": "white",
           "ticks": "",
           "title": {
            "standoff": 15
           },
           "zerolinecolor": "white",
           "zerolinewidth": 2
          }
         }
        },
        "xaxis": {
         "anchor": "y",
         "domain": [
          0,
          1
         ],
         "title": {
          "text": "Stambena površina u m2"
         }
        },
        "yaxis": {
         "anchor": "x",
         "domain": [
          0,
          1
         ],
         "title": {
          "text": "count"
         }
        }
       }
      }
     },
     "metadata": {},
     "output_type": "display_data"
    }
   ],
   "source": [
    "fig = px.histogram(df, x=\"Stambena površina u m2\")\n",
    "fig"
   ]
  },
  {
   "cell_type": "code",
   "execution_count": 9,
   "metadata": {},
   "outputs": [
    {
     "data": {
      "application/vnd.plotly.v1+json": {
       "config": {
        "plotlyServerURL": "https://plot.ly"
       },
       "data": [
        {
         "alignmentgroup": "True",
         "bingroup": "x",
         "hovertemplate": "Godina izgradnje=%{x}<br>count=%{y}<extra></extra>",
         "legendgroup": "",
         "marker": {
          "color": "#636efa",
          "pattern": {
           "shape": ""
          }
         },
         "name": "",
         "offsetgroup": "",
         "orientation": "v",
         "showlegend": false,
         "type": "histogram",
         "x": [
          1970,
          1996,
          1923,
          2013,
          2022,
          1960,
          1990,
          2022,
          "No INFO",
          2022,
          "No INFO",
          1930,
          2008,
          1960,
          "No INFO",
          2008,
          1985,
          2000,
          "No INFO",
          1938,
          1938,
          2005,
          2015,
          2011,
          1991,
          1968,
          1995,
          1973,
          2022,
          2022,
          2022,
          2022,
          2022,
          2017,
          1964,
          1988,
          1954,
          1,
          1980,
          1966,
          1968,
          1998,
          1998,
          1940,
          2018,
          1990,
          1965,
          2022,
          2005,
          "No INFO",
          2010,
          1937,
          1995,
          1978,
          2002,
          2013,
          1960,
          1985,
          "No INFO",
          2007,
          2014,
          1965,
          2008,
          1937,
          1992,
          2022,
          1980,
          2013,
          1972,
          1935,
          1937,
          2000,
          1932,
          1960,
          1938,
          1971,
          1964,
          2022,
          2003,
          "No INFO",
          2009,
          1984,
          1951,
          1938,
          2010,
          2022,
          2022,
          2022,
          1966,
          1938,
          1938,
          "No INFO",
          2021,
          "No INFO",
          2006,
          2002,
          2018,
          "No INFO",
          "No INFO",
          "No INFO",
          2023,
          2023,
          "No INFO",
          1995,
          2022,
          1929,
          2004,
          "No INFO",
          2002,
          1923,
          "No INFO",
          "No INFO",
          2021,
          "No INFO",
          1986,
          2001,
          2009,
          1975,
          2000,
          2000,
          1956,
          "No INFO",
          "No INFO",
          "No INFO",
          2008,
          2022,
          2022,
          1996,
          1964,
          "No INFO",
          "No INFO",
          1932,
          "No INFO",
          2006,
          2011,
          2000,
          1980,
          2021,
          1929,
          1956,
          2008,
          2008,
          1828,
          "No INFO",
          1963,
          "No INFO",
          2009,
          1970,
          1928,
          2014,
          2022,
          2022,
          2022,
          2005,
          2022,
          1970,
          1940,
          2021,
          2006,
          2014,
          1960,
          1968,
          1995,
          "No INFO",
          2011,
          "No INFO",
          1918,
          "No INFO",
          "No INFO",
          2009,
          2021,
          1988,
          2000,
          1989,
          2008,
          2011,
          1942,
          1964,
          2003,
          1968,
          1945,
          2006,
          2012,
          2000,
          1940,
          "No INFO",
          2022,
          2022,
          2022,
          2022,
          2022,
          2022,
          2022,
          1946,
          2020,
          "No INFO",
          "No INFO",
          1977,
          1980,
          1968,
          2022,
          2022,
          2022,
          2022,
          2022,
          2022,
          "No INFO",
          1968,
          1974,
          1976,
          1879,
          2011,
          1962,
          1917,
          2008,
          2003,
          "No INFO",
          2022,
          1938,
          1939,
          1970,
          1970,
          1977,
          2018,
          1950,
          2005,
          1970,
          1903,
          2007,
          1970,
          2002,
          2008,
          2007,
          1997,
          1980,
          2004,
          2021,
          2004,
          1937,
          2022,
          "No INFO",
          2018,
          1968,
          1974,
          2019,
          2022,
          "No INFO",
          2022,
          2022,
          2006,
          1920,
          1967,
          2003,
          2007,
          1937,
          "No INFO",
          1935,
          "No INFO",
          "No INFO",
          "No INFO",
          1913,
          2007,
          2022,
          2022,
          "No INFO",
          2022,
          "No INFO",
          "No INFO",
          "No INFO",
          1935,
          "No INFO",
          1998,
          1950,
          "No INFO",
          1996,
          1974,
          2021,
          2020,
          "No INFO",
          2022,
          2022,
          "No INFO",
          1928,
          2010,
          2010,
          2010,
          1996,
          1968,
          "No INFO",
          1930,
          2022,
          2022,
          2022,
          2022,
          2022,
          2022,
          2022,
          2022,
          2022,
          1909,
          2022,
          "No INFO",
          2022,
          1987,
          1991,
          2006,
          2006,
          "No INFO",
          1990,
          1970,
          2011,
          2013,
          2013,
          2013,
          2013,
          1937,
          2022,
          2022,
          "No INFO",
          2022,
          2022,
          2022,
          2022,
          1998,
          1936,
          1974,
          1978,
          2021,
          1964,
          "No INFO",
          2009,
          "No INFO",
          2018,
          1918,
          1960,
          "No INFO",
          1977,
          1972,
          1986,
          2006,
          1930,
          2015,
          2007,
          1967,
          1903,
          2006,
          2022,
          1965,
          1902,
          2010,
          2022,
          2022,
          1984,
          1978,
          "No INFO",
          1960,
          2010,
          1971,
          1950,
          2009,
          1968,
          2023,
          2022,
          1965,
          1970,
          2012,
          2005,
          1,
          1,
          1960,
          2017,
          1940,
          2001,
          1911,
          "No INFO",
          1938,
          1920,
          1935,
          "No INFO",
          1897,
          1927,
          1903,
          2021,
          2021,
          "No INFO",
          1936,
          "No INFO",
          2022,
          1991,
          2022,
          2022,
          2022,
          2022,
          2022,
          2022,
          1974,
          "No INFO",
          1992,
          "No INFO",
          2014,
          1982,
          1920,
          1980,
          "No INFO",
          "No INFO",
          "No INFO",
          1964,
          2008,
          "No INFO",
          "No INFO",
          2018,
          "No INFO",
          "No INFO",
          "No INFO",
          "No INFO",
          1990,
          "No INFO",
          1905,
          2009,
          "No INFO",
          "No INFO",
          "No INFO",
          1936,
          "No INFO",
          1876,
          1975,
          "No INFO",
          "No INFO",
          1968,
          2022,
          2022,
          2022,
          2021,
          1972,
          "No INFO",
          "No INFO",
          "No INFO",
          1992,
          1928,
          1968,
          1984,
          1970,
          "No INFO",
          1992,
          1950,
          1980,
          "No INFO",
          "No INFO",
          "No INFO",
          1935,
          2000,
          "No INFO",
          1977,
          2008,
          1964,
          1996,
          1964,
          1983,
          1923,
          "No INFO",
          "No INFO",
          1980,
          2004,
          1940,
          1947,
          2006,
          1930,
          2009,
          1980,
          1939,
          2021,
          1892,
          1892,
          1965,
          1958,
          1977,
          1930,
          1990,
          2012,
          1991,
          "No INFO",
          "No INFO",
          "No INFO",
          "No INFO",
          2008,
          1940,
          2008,
          1992,
          1931,
          2008,
          1968,
          1946,
          1974,
          1989,
          2008,
          2000,
          1970,
          1995,
          2016,
          1939,
          2020,
          "No INFO",
          1964,
          2001,
          "No INFO",
          2011,
          1994,
          "No INFO",
          1970,
          2022,
          1905,
          "No INFO",
          1968,
          1975,
          "No INFO",
          "No INFO",
          2011,
          "No INFO",
          1905,
          "No INFO",
          "No INFO",
          2012,
          "No INFO",
          "No INFO",
          2021,
          2021,
          2000,
          1936,
          1972,
          2000,
          "No INFO",
          1930,
          2021,
          2021,
          1952,
          2000,
          1929,
          2018,
          1960,
          "No INFO",
          "No INFO",
          1893,
          2021,
          2021,
          1980,
          1905,
          1976,
          "No INFO",
          1965,
          2000,
          1935,
          1996,
          "No INFO",
          "No INFO",
          2022,
          2022,
          2022,
          2022,
          2008,
          2009,
          2008,
          1970,
          1999,
          1885,
          1936,
          "No INFO",
          2008,
          1910,
          1951,
          1874,
          1878,
          "No INFO",
          "No INFO",
          1990,
          2021,
          1867,
          2023,
          2023,
          2023,
          1956,
          1974,
          "No INFO",
          2022,
          1930,
          2011,
          1920,
          1970,
          2007,
          2011,
          1996,
          "No INFO",
          "No INFO",
          1983,
          1945,
          1970,
          1899,
          1978,
          1956,
          1968,
          2008,
          1973,
          2001,
          1937,
          2006,
          1983,
          "No INFO",
          2003,
          2005,
          "No INFO",
          1999,
          "No INFO",
          2000,
          2005,
          1932,
          1983,
          2020,
          1977,
          1990,
          1974,
          "No INFO",
          "No INFO",
          "No INFO",
          "No INFO",
          1997,
          "No INFO",
          2002,
          2010,
          1964,
          "No INFO",
          1966,
          1966,
          1966,
          2000,
          2000,
          2008,
          "No INFO",
          "No INFO",
          "No INFO",
          1930,
          1970,
          1973,
          2015,
          "No INFO",
          "No INFO",
          1960,
          2005,
          2006,
          1967,
          1898,
          1968,
          1941,
          1960,
          1929,
          2005,
          1968,
          "No INFO",
          "No INFO",
          1920,
          1970,
          1968,
          1936,
          2008,
          "No INFO",
          2022,
          "No INFO",
          2006,
          1957,
          1949,
          1963,
          1980,
          2011,
          "No INFO",
          1936,
          1930,
          "No INFO",
          1900,
          1937,
          1900,
          1920,
          1919,
          1946,
          1998,
          2007,
          "No INFO",
          1868,
          1936,
          1927,
          1938,
          "No INFO",
          1870,
          "No INFO",
          1920,
          1895,
          1911,
          1992,
          2008,
          "No INFO",
          1920,
          "No INFO",
          2010,
          1970,
          "No INFO",
          "No INFO",
          "No INFO",
          "No INFO",
          2005,
          2000,
          1998,
          2017,
          1970,
          1930,
          "No INFO",
          1940,
          "No INFO",
          2020,
          "No INFO",
          "No INFO",
          "No INFO",
          1927,
          2000,
          "No INFO",
          "No INFO",
          1995,
          "No INFO",
          "No INFO",
          2008,
          2005,
          1935,
          1936,
          "No INFO",
          "No INFO",
          "No INFO",
          1933,
          "No INFO",
          1890,
          "No INFO",
          2012,
          "No INFO",
          "No INFO",
          1927,
          1865,
          "No INFO",
          "No INFO",
          "No INFO",
          1922,
          2010,
          "No INFO",
          1912,
          1940,
          "No INFO",
          "No INFO",
          "No INFO",
          1970,
          "No INFO",
          1963,
          2009,
          2018,
          1930,
          1930,
          2002,
          "No INFO",
          "No INFO",
          "No INFO",
          2019,
          1860,
          1850,
          2018,
          "No INFO",
          "No INFO",
          1940,
          2019,
          1987,
          "No INFO",
          1929,
          2011,
          1939,
          "No INFO",
          "No INFO",
          1910,
          "No INFO",
          2005,
          "No INFO",
          "No INFO",
          2005,
          "No INFO",
          "No INFO",
          1980,
          "No INFO",
          1924,
          1930,
          2005,
          1905,
          "No INFO",
          "No INFO",
          2008,
          1993,
          "No INFO",
          "No INFO",
          1960,
          1960,
          "No INFO",
          2022,
          2011,
          "No INFO",
          1970,
          2021,
          "No INFO",
          2005,
          2002,
          1939,
          1980,
          1990,
          1962,
          "No INFO",
          1960,
          "No INFO",
          2021,
          2008,
          2005,
          "No INFO",
          1929,
          1929,
          2007,
          2000,
          2011,
          1979,
          "No INFO",
          "No INFO",
          1928,
          "No INFO",
          1980,
          "No INFO",
          2011,
          1906,
          "No INFO",
          1939,
          1999,
          "No INFO",
          1969,
          1926,
          1990,
          1890,
          "No INFO",
          "No INFO",
          "No INFO",
          "No INFO",
          "No INFO",
          "No INFO",
          "No INFO",
          "No INFO",
          2008,
          1932,
          2008,
          2008,
          1979,
          1970,
          2021,
          2005,
          1985,
          "No INFO",
          1936,
          2009,
          2008,
          "No INFO",
          "No INFO",
          2002,
          1999,
          2022,
          2000,
          2022,
          "No INFO",
          1940,
          2005,
          1995,
          1964,
          1926,
          1936,
          2022,
          1929,
          2004,
          1929,
          2001,
          2018,
          1950,
          1975,
          1982,
          "No INFO",
          1974,
          1964,
          2002,
          2008,
          "No INFO",
          2008,
          1963,
          1890,
          2022,
          1991,
          1991,
          1929,
          "No INFO",
          1995,
          2014,
          1878,
          1886,
          "No INFO",
          "No INFO",
          1980,
          "No INFO",
          1920,
          "No INFO",
          "No INFO",
          1993,
          1895,
          2022,
          "No INFO",
          1968,
          2021,
          2000,
          2022,
          2022,
          2022,
          2022,
          2022,
          2012,
          "No INFO",
          2022,
          1978,
          2005,
          1971,
          1970,
          1972,
          1995,
          "No INFO",
          1937,
          2007,
          1984,
          1930,
          1970,
          2022,
          2022,
          2022,
          2022,
          1950,
          2014,
          2021,
          1972,
          "No INFO",
          "No INFO",
          1929,
          "No INFO",
          1936,
          1936,
          2022,
          1932,
          "No INFO",
          "No INFO",
          2000,
          "No INFO",
          "No INFO",
          1979,
          2000,
          1935,
          1936,
          2011,
          2022,
          2022,
          "No INFO",
          2000,
          2022,
          1971,
          "No INFO",
          1930,
          1967,
          1972,
          1981,
          2022,
          2000,
          2021,
          "No INFO",
          2009,
          1995,
          2020,
          2020,
          2020,
          1940,
          "No INFO",
          1958,
          2022,
          1936,
          2022,
          2009,
          1996,
          2023,
          2023,
          2023,
          1903,
          2021,
          1991,
          1938,
          "No INFO",
          1998,
          1939,
          1939,
          1900,
          2005,
          2021,
          2021,
          2021,
          2021,
          2021,
          2021,
          1936,
          1937,
          "No INFO",
          1900,
          1998,
          2010,
          2005,
          2009,
          "No INFO",
          1935,
          1953,
          2021,
          "No INFO",
          "No INFO",
          2022,
          2022,
          2022,
          1910,
          1909,
          1968,
          "No INFO",
          "No INFO",
          1936,
          2022,
          2008,
          1968,
          1935,
          1903,
          2009,
          2003,
          "No INFO",
          "No INFO",
          1962,
          2022,
          1930,
          1959,
          1977,
          "No INFO",
          2002,
          1895,
          "No INFO",
          "No INFO",
          "No INFO",
          "No INFO",
          1930,
          2010,
          1900,
          1964,
          2008,
          1963,
          1920,
          1920,
          1980,
          1980,
          1899,
          2010,
          2014,
          2022,
          2022,
          2022,
          2022,
          2022,
          2022,
          2022,
          2022,
          2022,
          2022,
          2022,
          2022,
          2022,
          2022,
          2022,
          2022,
          1870,
          1965,
          2012,
          1920,
          2022,
          2022,
          2022,
          2022,
          2022,
          2022,
          2022,
          2022,
          2022,
          2022,
          2022,
          1985,
          2006,
          2006,
          1991,
          1962,
          1968,
          2012,
          1967,
          2000,
          2022,
          2022,
          2008,
          1930,
          2010,
          1,
          1,
          1964,
          2000,
          2023,
          2023,
          1930,
          1900,
          1895,
          "No INFO",
          1985,
          1970,
          "No INFO",
          "No INFO",
          1930,
          1923,
          1900,
          1989,
          1997,
          "No INFO",
          "No INFO",
          1910,
          1900,
          "No INFO",
          1930,
          "No INFO",
          "No INFO",
          "No INFO",
          1825,
          1923,
          1908,
          1913,
          1915,
          1926,
          1996,
          "No INFO",
          1921,
          1934,
          "No INFO",
          2015,
          "No INFO",
          2006,
          "No INFO",
          "No INFO",
          "No INFO",
          "No INFO",
          "No INFO",
          "No INFO",
          1998,
          "No INFO",
          "No INFO",
          "No INFO",
          1933,
          "No INFO",
          1929,
          1993,
          1825,
          1800,
          "No INFO",
          "No INFO",
          1955,
          "No INFO",
          1867,
          2011,
          2008,
          2008,
          1935,
          1938,
          "No INFO",
          2004,
          "No INFO",
          "No INFO",
          1929,
          "No INFO",
          1898,
          "No INFO",
          2006,
          1976,
          "No INFO",
          1995,
          1930,
          2017,
          "No INFO",
          2014,
          2014,
          "No INFO",
          1900,
          1792,
          1898,
          2017,
          "No INFO",
          2008,
          1968,
          "No INFO",
          "No INFO",
          "No INFO",
          "No INFO",
          "No INFO",
          "No INFO",
          "No INFO",
          "No INFO",
          "No INFO",
          "No INFO",
          1985,
          "No INFO",
          "No INFO",
          1974,
          2008,
          2008,
          1980,
          "No INFO",
          1927,
          1927,
          "No INFO",
          1978,
          2000,
          "No INFO",
          2000,
          1990,
          "No INFO",
          "No INFO",
          "No INFO",
          "No INFO",
          "No INFO",
          1931,
          1910,
          1920,
          "No INFO",
          1998,
          2009,
          "No INFO",
          "No INFO",
          2016,
          2015,
          2019,
          "No INFO",
          1895,
          "No INFO",
          1934,
          2019,
          "No INFO",
          "No INFO",
          1988,
          1890,
          2015,
          "No INFO",
          1922,
          "No INFO",
          "No INFO",
          1929,
          1930,
          1966,
          "No INFO",
          1960,
          "No INFO",
          "No INFO",
          1912,
          1932,
          2011,
          "No INFO",
          1937,
          1920,
          1850,
          1995,
          1930,
          1944,
          1913,
          1950,
          1936,
          1970,
          1920,
          2012,
          1935,
          1922,
          1899,
          1980,
          1913,
          1947,
          1960,
          1933,
          "No INFO",
          "No INFO",
          "No INFO",
          1995,
          1988,
          2011,
          1900,
          1996,
          2002,
          "No INFO",
          "No INFO",
          "No INFO",
          1918,
          "No INFO",
          1997,
          "No INFO",
          1968,
          "No INFO",
          "No INFO",
          1912,
          2007,
          "No INFO",
          2009,
          1918,
          2023,
          2023,
          1930,
          "No INFO",
          1968,
          1923,
          "No INFO",
          1960,
          "No INFO",
          1977,
          1900,
          1970,
          1929,
          2022,
          "No INFO",
          "No INFO",
          "No INFO",
          1930,
          2002,
          2000,
          1970,
          2000,
          2005,
          1980,
          1860,
          1944,
          2010,
          2008,
          1938,
          1984,
          1937,
          1937,
          1937,
          2022,
          1906,
          2000,
          1984,
          1974,
          1997,
          1936,
          1980,
          1996,
          2018,
          1966,
          1999,
          1999,
          1978,
          2011,
          1936,
          2000,
          1998,
          2022,
          2022,
          2022,
          2006,
          2022,
          2008,
          2007,
          1932,
          2022,
          1973,
          2022,
          2022,
          2022,
          2022,
          2022,
          2022,
          2022,
          2006,
          2001,
          1975,
          2022,
          1981,
          1987,
          2022,
          1940,
          1930,
          2022,
          1930,
          1938,
          "No INFO",
          1986,
          1970,
          2004,
          "No INFO",
          2014,
          1940,
          1953,
          "No INFO",
          2020,
          1996,
          1929,
          2021,
          "No INFO",
          2008,
          2008,
          1933,
          2004,
          2022,
          2022,
          2022,
          2010,
          "No INFO",
          2005,
          1983,
          1900,
          1893,
          1900,
          "No INFO",
          1978,
          1991,
          1968,
          1910,
          2004,
          1920,
          1906,
          1926,
          2011,
          1972,
          2009,
          "No INFO",
          "No INFO",
          2022,
          2021,
          "No INFO",
          "No INFO",
          2009,
          1982,
          2000,
          2008,
          1968,
          1920,
          "No INFO",
          "No INFO",
          2009,
          "No INFO",
          "No INFO",
          "No INFO",
          2005,
          2000,
          2006,
          "No INFO",
          "No INFO",
          2005,
          2021,
          2021,
          "No INFO",
          1933,
          1999,
          "No INFO",
          "No INFO",
          "No INFO",
          "No INFO",
          "No INFO",
          1939,
          "No INFO",
          1929,
          1972,
          2020,
          2009,
          1936,
          1939,
          1939,
          1995,
          1946,
          1929,
          2021,
          1890,
          "No INFO",
          2021,
          1965,
          1998,
          1889,
          2009,
          "No INFO",
          1982,
          2009,
          "No INFO",
          1,
          1975,
          1967,
          2000,
          1965,
          1931,
          "No INFO",
          1967,
          1940,
          "No INFO",
          1968,
          1941,
          1934,
          "No INFO",
          "No INFO",
          1923,
          "No INFO",
          1921,
          2007,
          "No INFO",
          2000,
          "No INFO",
          1915,
          2004,
          1934,
          1938,
          "No INFO",
          2003,
          "No INFO",
          1960,
          1895,
          1926,
          2004,
          1905,
          1920,
          1897,
          1905,
          "No INFO",
          "No INFO",
          "No INFO",
          2010,
          1895,
          1925,
          1905,
          1967,
          2012,
          "No INFO",
          2021,
          "No INFO",
          "No INFO",
          "No INFO",
          "No INFO",
          1934,
          "No INFO",
          "No INFO",
          "No INFO",
          1964,
          1921,
          2019,
          1920,
          "No INFO",
          "No INFO",
          1971,
          1925,
          1980,
          1980,
          "No INFO",
          2010,
          "No INFO",
          "No INFO",
          2005,
          "No INFO",
          2022,
          "No INFO",
          "No INFO",
          "No INFO",
          "No INFO",
          1926,
          2003,
          2009,
          2008,
          2008,
          2022,
          1961,
          "No INFO",
          "No INFO",
          "No INFO",
          1951,
          2000,
          2004,
          1932,
          2008,
          1926,
          "No INFO",
          1976,
          1999,
          "No INFO",
          1968,
          1989,
          1994,
          1929,
          1935,
          2021,
          1968,
          "No INFO",
          1998,
          1965,
          2010,
          1964,
          2000,
          1932,
          1967,
          2006,
          1,
          2022,
          1936,
          1968,
          2002,
          1984,
          2005,
          2020,
          2006,
          2009,
          1911,
          2012,
          2007,
          1986,
          1986,
          1938,
          1989,
          1991,
          1980,
          1963,
          2012,
          2010,
          1960,
          1965,
          2004,
          1956,
          1986,
          1890,
          1930,
          2009,
          2000,
          1958,
          1963,
          "No INFO",
          1984,
          2002,
          2007,
          2000,
          1929,
          1994,
          1998,
          "No INFO",
          1963,
          1928,
          1974,
          "No INFO",
          1960,
          2004,
          2010,
          1965,
          1900,
          2005,
          2005,
          2008,
          1930,
          2015,
          1890,
          2022,
          1983,
          1965,
          1890,
          1890,
          1975,
          2007,
          1964,
          1995,
          1940,
          1960,
          1978,
          1920,
          1963,
          2000,
          1928,
          1981,
          1980,
          1965,
          1976,
          1942,
          2022,
          2022,
          2022,
          1,
          2008,
          2001,
          2011,
          1962,
          2006,
          1999,
          2016,
          2009,
          1930,
          2010,
          1929,
          2010,
          2010,
          2010,
          1910,
          1978,
          1974,
          1920,
          1992,
          1994,
          1979,
          "No INFO",
          "No INFO",
          "No INFO",
          "No INFO",
          2008,
          1974,
          "No INFO",
          "No INFO",
          1988,
          "No INFO",
          1966,
          1997,
          1980,
          2000,
          1963,
          1982,
          1922,
          2004,
          2008,
          1979,
          2008,
          1968,
          2005,
          1982,
          2022,
          2012,
          2010,
          1929,
          1949,
          "No INFO",
          "No INFO",
          "No INFO",
          "No INFO",
          "No INFO",
          1930,
          2022,
          2022,
          2022,
          2022,
          2022,
          2022,
          2022,
          2022,
          "No INFO",
          1905,
          2000,
          2000,
          2013,
          "No INFO",
          1937,
          1936,
          "No INFO",
          2022,
          2022,
          2022,
          1980,
          1975,
          1968,
          2000,
          2022,
          2008,
          2005,
          1936,
          1989,
          1982,
          1977,
          1968,
          1994,
          "No INFO",
          "No INFO",
          1965,
          "No INFO",
          1903,
          1928,
          "No INFO",
          2006,
          2022,
          2022,
          "No INFO",
          1903,
          1936,
          1939,
          "No INFO",
          "No INFO",
          1913,
          1939,
          2002,
          2001,
          1965,
          1988,
          1929,
          1974,
          1990,
          "No INFO",
          "No INFO",
          1990,
          1998,
          2007,
          1937,
          2022,
          2022,
          2022,
          2009,
          1895,
          1939,
          "No INFO",
          "No INFO",
          "No INFO",
          1974,
          2006,
          1930,
          2021,
          2000,
          1870,
          2010,
          1937,
          1900,
          1980,
          2020,
          2022,
          2022,
          "No INFO",
          "No INFO",
          2020,
          2022,
          1964,
          1970,
          1974,
          1990,
          "No INFO",
          1964,
          1980,
          2006,
          1976,
          2017,
          2004,
          2008,
          2020,
          1940,
          "No INFO",
          2022,
          2022,
          2022,
          2022,
          2022,
          2022,
          2008,
          2018,
          1995,
          2023,
          2010,
          1930,
          2019,
          "No INFO",
          "No INFO",
          "No INFO",
          2000,
          "No INFO",
          1998,
          1928,
          "No INFO",
          1928,
          2010,
          "No INFO",
          "No INFO",
          "No INFO",
          1830,
          1960,
          1987,
          "No INFO",
          2022,
          1945,
          2000,
          2009,
          "No INFO",
          "No INFO",
          1927,
          "No INFO",
          "No INFO",
          1930,
          1899,
          1899,
          "No INFO",
          1918,
          1913,
          1913,
          "No INFO",
          1930,
          1997,
          "No INFO",
          2008,
          1930,
          "No INFO",
          "No INFO",
          "No INFO",
          "No INFO",
          "No INFO",
          "No INFO",
          "No INFO",
          "No INFO",
          1985,
          1970,
          2010,
          1930,
          "No INFO",
          2010,
          1967,
          "No INFO",
          1970,
          2009,
          2010,
          1930,
          "No INFO",
          "No INFO",
          1983,
          1992,
          1992,
          2004,
          "No INFO",
          2013,
          "No INFO",
          1929,
          "No INFO",
          1928,
          1920,
          1960,
          1950,
          1930,
          1960,
          "No INFO",
          1939,
          2008,
          2000,
          2013,
          1967,
          1903,
          2005,
          "No INFO",
          1968,
          2008,
          1939,
          "No INFO",
          2002,
          1930,
          "No INFO",
          2007,
          "No INFO",
          1929,
          2010,
          1991,
          1998,
          1925,
          1970,
          2004,
          2021,
          1936,
          "No INFO",
          "No INFO",
          2022,
          2021,
          1969,
          1969,
          1980,
          1940,
          2022,
          2007,
          2000,
          2022,
          2022,
          1933,
          1900,
          1987,
          1977,
          1960,
          1965,
          2022,
          1933,
          1993,
          2009,
          1911,
          1986,
          "No INFO",
          1968,
          1964,
          2001,
          1964,
          1912,
          "No INFO",
          "No INFO",
          "No INFO",
          2000,
          2020,
          1950,
          2013,
          "No INFO",
          "No INFO",
          "No INFO",
          1997,
          "No INFO",
          1963,
          2014,
          2012,
          1968,
          1968,
          1960,
          1965,
          1964,
          1980,
          1966,
          1937,
          "No INFO",
          "No INFO",
          1933,
          1960,
          "No INFO",
          1988,
          1905,
          "No INFO",
          "No INFO",
          1922,
          1970,
          1938,
          1930,
          "No INFO",
          1960,
          1867,
          1920,
          "No INFO",
          "No INFO",
          2008,
          "No INFO",
          2000,
          1905,
          2018,
          2018,
          2005,
          "No INFO",
          "No INFO",
          1997,
          1930,
          1956,
          2021,
          "No INFO",
          2008,
          "No INFO",
          "No INFO",
          1900,
          "No INFO",
          "No INFO",
          1918,
          "No INFO",
          "No INFO",
          "No INFO",
          2021,
          2021,
          "No INFO",
          1936,
          2000,
          "No INFO",
          "No INFO",
          "No INFO",
          "No INFO",
          2009,
          1970,
          1970,
          1929,
          1920,
          1986,
          "No INFO",
          1987,
          2006,
          2012,
          1930,
          "No INFO",
          1880,
          2021,
          1960,
          1936,
          1934,
          1934,
          2021,
          2021,
          2021,
          2021,
          2021,
          2021,
          1930,
          2002,
          1992,
          1973,
          "No INFO",
          2009,
          2008,
          2010,
          1928,
          "No INFO",
          2008,
          1996,
          1956,
          "No INFO",
          "No INFO",
          "No INFO",
          "No INFO",
          "No INFO",
          "No INFO",
          "No INFO",
          "No INFO",
          "No INFO",
          "No INFO",
          "No INFO",
          "No INFO",
          "No INFO",
          "No INFO",
          "No INFO",
          "No INFO",
          "No INFO",
          "No INFO",
          "No INFO",
          "No INFO",
          "No INFO",
          "No INFO",
          "No INFO",
          "No INFO",
          "No INFO",
          "No INFO",
          "No INFO",
          "No INFO",
          1967,
          "No INFO",
          1960,
          2000,
          2021,
          "No INFO",
          2022,
          2022,
          2022,
          "No INFO",
          2008,
          2022,
          1968,
          2022,
          "No INFO",
          2022,
          2022,
          2022,
          2022,
          2022,
          2022,
          2022,
          2022,
          2022,
          2022,
          2022,
          2022,
          2022,
          2022,
          2022,
          2022,
          2022,
          2022,
          2008,
          2008,
          2009,
          1920,
          2020,
          1985,
          2006,
          1950,
          2015,
          2008,
          1969,
          1937,
          "No INFO",
          1975,
          1990,
          1966,
          1998,
          1945,
          1945,
          1903,
          1960,
          1973,
          2005,
          1970,
          2016,
          1952,
          1971,
          2010,
          "No INFO",
          1974,
          1929,
          1982,
          1999,
          1988,
          1984,
          2009,
          1940,
          1960,
          2006,
          1965,
          1995,
          2005,
          1965,
          "No INFO",
          "No INFO",
          2015,
          1980,
          2004,
          1996,
          1973,
          1979,
          1966,
          1927,
          2011,
          2000,
          2000,
          1991,
          2001,
          2000,
          2004,
          1991,
          2000,
          1967,
          1950,
          1929,
          1982,
          1932,
          2009,
          "No INFO",
          1968,
          2004,
          2022,
          1989,
          1970,
          1980,
          1910,
          2007,
          1928,
          2008,
          1984,
          1920,
          1940,
          2009,
          2022,
          1980,
          1935,
          2006,
          1977,
          2000,
          1970,
          2022,
          1962,
          1942,
          1963,
          1960,
          1937,
          2007,
          1964,
          2000,
          2007,
          1980,
          2010,
          2011,
          1903,
          1930,
          "No INFO",
          "No INFO",
          2021,
          1990,
          1976,
          1970,
          2005,
          2000,
          2000,
          1990,
          1982,
          1,
          2000,
          2000,
          1988,
          "No INFO",
          1938,
          1971,
          2007,
          2006,
          1938,
          2010,
          2010,
          1940,
          "No INFO",
          "No INFO",
          "No INFO",
          "No INFO",
          "No INFO",
          "No INFO",
          "No INFO",
          "No INFO",
          "No INFO",
          "No INFO",
          "No INFO",
          "No INFO",
          2014,
          1930,
          1936,
          1968,
          2009,
          2008,
          1972,
          2008,
          1940,
          1895,
          1974,
          1905,
          "No INFO",
          1898,
          "No INFO",
          "No INFO",
          "No INFO",
          "No INFO",
          "No INFO",
          2010,
          "No INFO",
          "No INFO",
          1938,
          "No INFO",
          1970,
          "No INFO",
          1978,
          2021,
          "No INFO",
          2005,
          2010,
          1905,
          1890,
          1992,
          2012,
          1981,
          1974,
          1939,
          1938,
          2001,
          1968,
          1980,
          1910,
          1971,
          1964,
          "No INFO",
          "No INFO",
          "No INFO",
          1936,
          1920,
          "No INFO",
          1955,
          1969,
          "No INFO",
          "No INFO",
          "No INFO",
          "No INFO",
          "No INFO",
          "No INFO",
          1940,
          2022,
          "No INFO",
          "No INFO",
          1965,
          1980,
          "No INFO",
          "No INFO",
          1950,
          1987,
          1900,
          "No INFO",
          "No INFO",
          1977,
          "No INFO",
          1978,
          "No INFO",
          2016,
          "No INFO",
          1971,
          2005,
          1895,
          "No INFO",
          1939,
          1929,
          1974,
          "No INFO",
          "No INFO",
          1930,
          1930,
          1978,
          1930,
          1966,
          2022,
          2022,
          2022,
          2000,
          1965,
          1967,
          1986,
          1965,
          1968,
          1952,
          "No INFO",
          "No INFO",
          "No INFO",
          "No INFO",
          "No INFO",
          "No INFO",
          "No INFO",
          "No INFO",
          1975,
          "No INFO",
          2009,
          2009,
          1940,
          "No INFO",
          1926,
          2020,
          2019,
          1967,
          2007,
          1968,
          2018,
          2022,
          1927,
          "No INFO",
          "No INFO",
          "No INFO",
          "No INFO",
          "No INFO",
          "No INFO",
          "No INFO",
          "No INFO",
          "No INFO",
          "No INFO",
          "No INFO",
          "No INFO",
          "No INFO",
          "No INFO",
          "No INFO",
          "No INFO",
          "No INFO",
          "No INFO",
          "No INFO",
          "No INFO",
          2008,
          "No INFO",
          "No INFO",
          2000,
          1957,
          1939,
          1940,
          2000,
          2010,
          1900,
          1936,
          2011,
          1940,
          1985,
          1933,
          1980,
          2008,
          "No INFO",
          "No INFO",
          "No INFO",
          1930,
          1930,
          1930,
          1995,
          2018,
          2006,
          2020,
          1937,
          1936,
          "No INFO",
          "No INFO",
          2022,
          2022,
          "No INFO",
          1910,
          2022,
          2022,
          1925,
          1968,
          2000,
          2008,
          1984,
          1996,
          2008,
          "No INFO",
          "No INFO",
          2001,
          2009,
          1929,
          "No INFO",
          "No INFO",
          "No INFO",
          "No INFO",
          1987,
          1968,
          1934,
          1983,
          1974,
          1977,
          2008,
          1964,
          2006,
          1960,
          1998,
          1930,
          "No INFO",
          2007,
          1990,
          2005,
          2005,
          2022,
          2022,
          2022,
          1930,
          1964,
          "No INFO",
          "No INFO",
          1964,
          "No INFO",
          1920,
          "No INFO",
          1970,
          1985,
          1997,
          "No INFO",
          1964,
          1968,
          2022,
          2022,
          2022,
          2022,
          2022,
          2022,
          2022,
          2022,
          2022,
          2022,
          2022,
          2022,
          2022,
          2022,
          2022,
          2022,
          2022,
          2022,
          2022,
          2022,
          2022,
          2022,
          2022,
          2022,
          2022,
          2022,
          2022,
          2022,
          2022,
          2022,
          2022,
          2022,
          2003,
          1979,
          1936,
          1975,
          2006,
          2012,
          1968,
          "No INFO",
          "No INFO",
          "No INFO",
          "No INFO",
          "No INFO",
          "No INFO",
          "No INFO",
          "No INFO",
          "No INFO",
          2011,
          1970,
          "No INFO",
          2000,
          2000,
          2005,
          2006,
          "No INFO",
          2018,
          1982,
          1936,
          1964,
          1911,
          2009,
          1991,
          2000,
          1920,
          2000,
          "No INFO",
          1968,
          "No INFO",
          2014,
          1998,
          "No INFO",
          1957,
          1987,
          1999,
          1999,
          "No INFO",
          1929,
          1936,
          1936,
          1936,
          1940,
          1900,
          1941,
          1927,
          1940,
          1968,
          1929,
          "No INFO",
          "No INFO",
          2013,
          2018,
          1940,
          "No INFO",
          2000,
          2000,
          1974,
          "No INFO",
          2011,
          2022,
          2022,
          2013,
          1926,
          1991,
          "No INFO",
          2005,
          2000,
          "No INFO",
          1997,
          1960,
          1999,
          "No INFO",
          "No INFO",
          1964,
          1967,
          2007,
          1930,
          2010,
          "No INFO",
          "No INFO",
          "No INFO",
          1929,
          1983,
          1968,
          "No INFO",
          2010,
          2010,
          2022,
          1937,
          "No INFO",
          1965,
          1926,
          "No INFO",
          1940,
          2000,
          2010,
          2008,
          1948,
          1978,
          1986,
          2003,
          1979,
          1970,
          2021,
          1928,
          1950,
          2004,
          2011,
          "No INFO",
          "No INFO",
          1984,
          1970,
          1988,
          2011,
          "No INFO",
          2009,
          2002,
          1957,
          1975,
          1987,
          1920,
          1937,
          1986,
          2006,
          "No INFO",
          1904,
          1903,
          2000,
          "No INFO",
          1964,
          "No INFO",
          "No INFO",
          1978,
          1999,
          1974,
          1940,
          2002,
          2005,
          1960,
          2000,
          1908,
          "No INFO",
          "No INFO",
          "No INFO",
          "No INFO",
          "No INFO",
          "No INFO",
          "No INFO",
          "No INFO",
          "No INFO",
          "No INFO",
          "No INFO",
          2011,
          2011,
          2011,
          2011,
          1980,
          "No INFO",
          "No INFO",
          2009,
          2000,
          1870,
          1929,
          "No INFO",
          1964,
          2011,
          "No INFO",
          1938,
          1968,
          "No INFO",
          2007,
          2022,
          2022,
          2022,
          2000,
          "No INFO",
          2022,
          1938,
          "No INFO",
          "No INFO",
          "No INFO",
          "No INFO",
          "No INFO",
          "No INFO",
          1939,
          1956,
          2022,
          2015,
          2002,
          "No INFO",
          "No INFO",
          "No INFO",
          "No INFO",
          2022,
          2022,
          1980,
          1929,
          1969,
          2000,
          1965,
          2018,
          "No INFO",
          "No INFO",
          "No INFO",
          1880,
          1940,
          2002,
          2014,
          1988,
          1890,
          1990,
          2000,
          1980,
          2000,
          1997,
          1930,
          1980,
          1944,
          "No INFO",
          1910,
          1935,
          2010,
          "No INFO",
          "No INFO",
          "No INFO",
          2005,
          "No INFO",
          "No INFO",
          1919,
          "No INFO",
          "No INFO",
          1964,
          1933,
          2019,
          1930,
          1920,
          1937,
          1998,
          1941,
          2010,
          1972,
          2000,
          1995,
          "No INFO",
          1984,
          2007,
          "No INFO",
          "No INFO",
          "No INFO",
          "No INFO",
          1968,
          1973,
          2000,
          1965,
          "No INFO",
          2009,
          "No INFO",
          "No INFO",
          "No INFO",
          "No INFO",
          "No INFO",
          1996,
          1999,
          "No INFO",
          2021,
          "No INFO",
          "No INFO",
          2021,
          2000,
          2022,
          2022,
          2022,
          2022,
          1938,
          1900,
          "No INFO",
          "No INFO",
          2021,
          2021,
          1950,
          2004,
          "No INFO",
          1920,
          1968,
          1932,
          2014,
          2020,
          1987,
          1996,
          2005,
          2002,
          1995,
          2009,
          1991,
          "No INFO",
          2011,
          2008,
          2002,
          "No INFO",
          1985,
          1939,
          1998,
          1921,
          2014,
          "No INFO",
          "No INFO",
          1928,
          1998,
          1977,
          "No INFO",
          2004,
          2000,
          2009,
          1940,
          2008,
          2007,
          1929,
          "No INFO",
          1986,
          1963,
          1930,
          2022,
          "No INFO",
          1960,
          1903,
          1965,
          1928,
          1930,
          1980,
          "No INFO",
          2005,
          1975,
          2010,
          1968,
          "No INFO",
          2009,
          1936,
          1930,
          1964,
          1928,
          2022,
          "No INFO",
          1930,
          1940,
          2002,
          2019,
          1977,
          1957,
          1967,
          "No INFO",
          1977,
          2008,
          2008,
          1968,
          2022,
          1900,
          2010,
          2022,
          2007,
          1990,
          "No INFO",
          "No INFO",
          "No INFO",
          "No INFO",
          "No INFO",
          "No INFO",
          1972,
          2007,
          1940,
          2022,
          2022,
          2022,
          2022,
          2022,
          2022,
          1964,
          1991,
          1965,
          "No INFO",
          1937,
          1987,
          1999,
          1984,
          1930,
          2000,
          2007,
          "No INFO",
          2001,
          2009,
          "No INFO",
          2021,
          2021,
          2021,
          2021,
          1902,
          "No INFO",
          "No INFO",
          2014,
          2010,
          1959,
          2004,
          2009,
          1940,
          1887,
          2022,
          2004,
          1994,
          1970,
          2021,
          "No INFO",
          2000,
          1970,
          2010,
          2000,
          2000,
          1984,
          1945,
          "No INFO",
          2004,
          2019,
          1970,
          "No INFO",
          "No INFO",
          1900,
          1968,
          1938,
          2021,
          1980,
          1900,
          2012,
          1998,
          1981,
          2022,
          2022,
          2022,
          2022,
          2022,
          2022,
          1965,
          2022,
          2022,
          2022,
          "No INFO",
          1978,
          1900,
          2022,
          2022,
          2022,
          2022,
          1975,
          2008,
          2022,
          2021,
          2016,
          2007,
          1902,
          "No INFO",
          2022,
          2022,
          "No INFO",
          "No INFO",
          1903,
          1997,
          2022,
          1900,
          2010,
          1910,
          "No INFO",
          "No INFO",
          1998,
          1930,
          2003,
          1903,
          2017,
          1970,
          1965,
          2003,
          1929,
          2000,
          "No INFO",
          "No INFO",
          "No INFO",
          "No INFO",
          1966,
          1965,
          1966,
          1990,
          1990,
          1984,
          1969,
          1,
          1960,
          1965,
          1918,
          2021,
          2000,
          1910,
          2021,
          1890,
          1972,
          1920,
          1907,
          1974,
          1980,
          1964,
          1972,
          1964,
          1978,
          1930,
          1991,
          "No INFO",
          "No INFO",
          1930,
          2022,
          1967,
          2013,
          2000,
          2006,
          1968,
          1965,
          2000,
          2000,
          1968,
          1986,
          1996,
          1966,
          2023,
          1967,
          1965,
          2005,
          1964,
          "No INFO",
          "No INFO",
          "No INFO",
          1997,
          1938,
          1938,
          1988,
          1934,
          1934,
          1976,
          2008,
          2010,
          2000,
          1985,
          1983,
          2011,
          1984,
          1980,
          1969,
          1936,
          1936,
          2000,
          2000,
          1990,
          2014,
          1038,
          2012,
          1982,
          1974,
          1971,
          1938,
          1950,
          2006,
          1981,
          1980,
          2007,
          1970,
          1979,
          2022,
          2022,
          2010,
          "No INFO",
          "No INFO",
          2022,
          2009,
          1981,
          2006,
          "No INFO",
          1927,
          1964,
          2008,
          2002,
          1918,
          2015,
          2015,
          2014,
          1988,
          1980,
          1990,
          2014,
          1967,
          1961,
          1974,
          1964,
          2021,
          2022,
          2022,
          2022,
          "No INFO",
          2007,
          2010,
          1977,
          2008,
          1927,
          2007,
          2008,
          2017,
          "No INFO",
          2002,
          2010,
          1993,
          "No INFO",
          "No INFO",
          "No INFO",
          "No INFO",
          1939,
          1970,
          "No INFO",
          "No INFO",
          "No INFO",
          "No INFO",
          "No INFO",
          "No INFO",
          "No INFO",
          "No INFO",
          1996,
          2000,
          2008,
          2000,
          "No INFO",
          "No INFO",
          "No INFO",
          "No INFO",
          2022,
          1970,
          "No INFO",
          1929,
          2022,
          2022,
          2022,
          2022,
          2005,
          "No INFO",
          "No INFO",
          "No INFO",
          2008,
          2008,
          2008,
          2015,
          1932,
          2022,
          1985,
          1972,
          "No INFO",
          1968,
          1984,
          1934,
          2022,
          "No INFO",
          2022,
          2022,
          1959,
          2022,
          2022,
          2022,
          1939,
          2017,
          2022,
          "No INFO",
          2022,
          "No INFO",
          1937,
          1932,
          1930,
          1970,
          1911,
          1936,
          1990,
          1999,
          1986,
          1960,
          1967,
          1984,
          2022,
          1976,
          1958,
          2022,
          2022,
          2022,
          2022,
          2022,
          2003,
          1964,
          1907,
          1951,
          2011,
          "No INFO",
          1937,
          1974,
          1974,
          2008,
          1908,
          "No INFO",
          2022,
          1920,
          2004,
          2022,
          2022,
          2022,
          1974,
          "No INFO",
          1930,
          1913,
          1928,
          "No INFO",
          1963,
          "No INFO",
          1925,
          "No INFO",
          2008,
          "No INFO",
          1956,
          2020,
          "No INFO",
          1961,
          "No INFO",
          1936,
          1976,
          "No INFO",
          1900,
          1960,
          1912,
          2022,
          2000,
          2021,
          1938,
          2002,
          1938,
          1900,
          1938,
          1938,
          1900,
          "No INFO",
          2007,
          1985,
          "No INFO",
          "No INFO",
          1903,
          1930,
          "No INFO",
          "No INFO",
          1927,
          2015,
          2005,
          2005,
          "No INFO",
          "No INFO",
          2006,
          2008,
          2009,
          2008,
          "No INFO",
          2021,
          "No INFO",
          1885,
          "No INFO",
          "No INFO",
          "No INFO",
          1950,
          1958,
          1965,
          "No INFO",
          1950,
          1630,
          2008,
          2009,
          2005,
          1900,
          2000,
          1992,
          2001,
          "No INFO",
          "No INFO",
          1903,
          1930,
          "No INFO",
          1988,
          "No INFO",
          1930,
          2008,
          1937,
          "No INFO",
          1925,
          "No INFO",
          "No INFO",
          "No INFO",
          "No INFO",
          "No INFO",
          1985,
          "No INFO",
          1898,
          2000,
          "No INFO",
          1933,
          1930,
          2022,
          2022,
          2022,
          2022,
          2022,
          2022,
          "No INFO",
          "No INFO",
          2023,
          2022,
          "No INFO",
          2023,
          1900,
          1930,
          2004,
          2022,
          1935,
          2011,
          1959,
          2010,
          1995,
          2018,
          1965,
          1938,
          "No INFO",
          2000,
          2008,
          1972,
          1977,
          1,
          1971,
          2020,
          2020,
          "No INFO",
          "No INFO",
          "No INFO",
          "No INFO",
          "No INFO",
          "No INFO",
          "No INFO",
          "No INFO",
          "No INFO",
          "No INFO",
          1892,
          1930,
          2009,
          1985,
          1918,
          2000,
          1940,
          2011,
          "No INFO",
          1963,
          1940,
          "No INFO",
          1842,
          1937,
          1937,
          1960,
          "No INFO",
          1782,
          1953,
          2008,
          "No INFO",
          1987,
          1920,
          1880,
          2009,
          2010,
          1918,
          2020,
          2018,
          1941,
          2020,
          2021,
          2003,
          1943,
          "No INFO",
          "No INFO",
          "No INFO",
          1997,
          1968,
          2011,
          1995,
          1937,
          "No INFO",
          "No INFO",
          "No INFO",
          "No INFO",
          "No INFO",
          2004,
          1955,
          "No INFO",
          1900,
          1940,
          1956,
          "No INFO",
          1966,
          1930,
          1863,
          1932,
          2008,
          1950,
          "No INFO",
          2010,
          1956,
          1929,
          "No INFO",
          1923,
          2006,
          "No INFO",
          2000,
          "No INFO",
          "No INFO",
          1989,
          1939,
          1936,
          "No INFO",
          "No INFO",
          1945,
          1994,
          1980,
          1990,
          1964,
          1930,
          "No INFO",
          "No INFO",
          2020,
          1922,
          1930,
          2006,
          1850,
          1920,
          "No INFO",
          1880,
          "No INFO",
          "No INFO",
          1926,
          1934,
          1980,
          1964,
          "No INFO",
          "No INFO",
          2010,
          1937,
          1978,
          "No INFO",
          1960,
          "No INFO",
          1986,
          "No INFO",
          1896,
          1890,
          "No INFO",
          2019,
          "No INFO",
          "No INFO",
          "No INFO",
          "No INFO",
          1933,
          2008,
          "No INFO",
          "No INFO",
          2006,
          1960,
          2000,
          1992,
          2014,
          "No INFO",
          "No INFO",
          2004,
          1997,
          "No INFO",
          "No INFO",
          "No INFO",
          1898,
          1928,
          1963,
          2009,
          1900,
          "No INFO",
          "No INFO",
          2006,
          "No INFO",
          "No INFO",
          1889,
          "No INFO",
          1968,
          1980,
          2021,
          2022,
          2022,
          2022,
          2005,
          "No INFO",
          "No INFO",
          2009,
          1970,
          1965,
          2010,
          2010,
          1975,
          1929,
          2009,
          1970,
          2010,
          1945,
          1967,
          1905,
          2014,
          2008,
          "No INFO",
          "No INFO",
          1988,
          1929,
          "No INFO",
          "No INFO",
          1965,
          1998,
          1963,
          "No INFO",
          2022,
          2021,
          1975,
          "No INFO",
          2022,
          2022,
          2022,
          2008,
          1920,
          2022,
          2022,
          1996,
          1900,
          "No INFO",
          1930,
          2021,
          2021,
          2021,
          2021,
          1980,
          2021,
          1913,
          1968,
          2000,
          2005,
          1933,
          2022,
          2022,
          2003,
          1930,
          2003,
          1903,
          2000,
          1903,
          2022,
          2022,
          2022,
          "No INFO",
          2008,
          1992,
          2012,
          "No INFO",
          2010,
          1967,
          1987,
          1965,
          "No INFO",
          2019,
          2010,
          1907,
          2022,
          1972,
          2023,
          2023,
          2023,
          2023,
          2023,
          2001,
          2023,
          2023,
          2023,
          1965,
          2005,
          1975,
          1981,
          "No INFO",
          "No INFO",
          "No INFO",
          2001,
          1987,
          1958,
          2000,
          1967,
          1960,
          1960,
          1967,
          1971,
          1963,
          1950,
          1929,
          1968,
          2023,
          2023,
          2022,
          2023,
          "No INFO",
          2000,
          1938,
          "No INFO",
          1929,
          "No INFO",
          1967,
          1962,
          2009,
          1968,
          2005,
          2005,
          2009,
          "No INFO",
          1928,
          "No INFO",
          2000,
          1976,
          1997,
          1975,
          2008,
          2022,
          2008,
          1975,
          1984,
          2010,
          1939,
          1936,
          2008,
          "No INFO",
          2022,
          1972,
          1940,
          1976,
          1968,
          1987,
          1950,
          2022,
          2022,
          2022,
          2022,
          2022,
          2022,
          2022,
          2022,
          "No INFO",
          2022,
          2022,
          2022,
          "No INFO",
          2022,
          2022,
          2020,
          2020,
          1986,
          1976,
          2006,
          1970,
          1968,
          2009,
          1964,
          1965,
          2022,
          2022,
          1921,
          2022,
          1983,
          2006,
          1988,
          1958,
          "No INFO",
          1935,
          1895,
          1987,
          "No INFO",
          1939,
          1929,
          "No INFO",
          2006,
          "No INFO",
          "No INFO",
          2000,
          1970,
          1984,
          1969,
          1972,
          1905,
          2002,
          2000,
          1978,
          2022,
          1998,
          1964,
          2003,
          2007,
          1965,
          2021,
          1969,
          1930,
          1978,
          1938,
          1932,
          1932,
          2007,
          1970,
          1974,
          2012,
          1931,
          1965,
          1930,
          2012,
          1896,
          2009,
          1987,
          1964,
          2016,
          2000,
          2020,
          1958,
          1998,
          1965,
          1952,
          1964,
          2007,
          1974,
          1974,
          2007,
          1980,
          2000,
          2022,
          1933,
          2022,
          2022,
          2022,
          2022,
          2022,
          2022,
          2022,
          2022,
          1997,
          1994,
          1968,
          1940,
          2008,
          "No INFO",
          "No INFO",
          "No INFO",
          "No INFO",
          "No INFO",
          "No INFO",
          "No INFO",
          "No INFO",
          "No INFO",
          1930,
          2009,
          1968,
          1970,
          1974,
          1978,
          2000,
          2007,
          1928,
          2022,
          2000,
          1980,
          2000,
          2002,
          1956,
          1970,
          "No INFO",
          1978,
          1968,
          1938,
          "No INFO",
          1936,
          "No INFO",
          2022,
          2022,
          2022,
          2022,
          1999,
          "No INFO",
          1918,
          2003,
          1955,
          1940,
          1980,
          1941,
          1960,
          "No INFO",
          1920,
          2011,
          "No INFO",
          1942,
          1930,
          2000,
          1975,
          2000,
          1932,
          1931,
          2006,
          1974,
          1938,
          2000,
          2018,
          "No INFO",
          1972,
          1903,
          "No INFO",
          1907,
          1910,
          2021,
          1920,
          "No INFO",
          1930,
          "No INFO",
          1930,
          2021,
          2021,
          2021,
          2021,
          "No INFO",
          1967,
          1940,
          1964,
          2004,
          "No INFO",
          1975,
          1974,
          1936,
          1950,
          2014,
          "No INFO",
          1910,
          1935,
          1893,
          "No INFO",
          2000,
          1929,
          1929,
          1930,
          1938,
          1930,
          1920,
          1941,
          "No INFO",
          "No INFO",
          2006,
          "No INFO",
          "No INFO",
          2021,
          "No INFO",
          1957,
          1929,
          1930,
          2021,
          "No INFO",
          1918,
          2008,
          2021,
          2021,
          1930,
          2021,
          2011,
          2011,
          "No INFO",
          1931,
          2008,
          2021,
          "No INFO",
          1950,
          "No INFO",
          2010,
          1895,
          1998,
          1968,
          "No INFO",
          "No INFO",
          2006,
          "No INFO",
          1936,
          1945,
          1890,
          2007,
          1950,
          2008,
          "No INFO",
          "No INFO",
          "No INFO",
          1980,
          "No INFO",
          1960,
          2000,
          "No INFO",
          1941,
          "No INFO",
          1988,
          1930,
          2022,
          "No INFO",
          "No INFO",
          "No INFO",
          1939,
          1920,
          2004,
          1980,
          1941,
          1930,
          "No INFO",
          "No INFO",
          "No INFO",
          "No INFO",
          "No INFO",
          1990,
          2010,
          1960,
          1950,
          1960,
          1946,
          "No INFO",
          "No INFO",
          "No INFO",
          2022,
          "No INFO",
          1939,
          1933,
          "No INFO",
          1900,
          1980,
          2008,
          "No INFO",
          2010,
          1950,
          1940,
          "No INFO",
          "No INFO",
          "No INFO",
          "No INFO",
          "No INFO",
          1930,
          1933,
          "No INFO",
          1971,
          1964,
          1935,
          2003,
          2021,
          1976,
          1976,
          "No INFO",
          2009,
          "No INFO",
          1936,
          1887,
          2005,
          "No INFO",
          "No INFO",
          2022,
          2022,
          "No INFO",
          2010,
          1928,
          1920,
          "No INFO",
          2022,
          2022,
          2022,
          2022,
          "No INFO",
          1974,
          "No INFO",
          "No INFO",
          1998,
          "No INFO",
          "No INFO",
          2021,
          1963,
          1999,
          1998,
          1970,
          1936,
          1936,
          2008,
          1983,
          2006,
          1939,
          2006,
          1991,
          1991,
          1925,
          2000,
          1987,
          1978,
          1968,
          1977,
          1965,
          2012,
          1987,
          2009,
          2010,
          2022,
          1998,
          "No INFO",
          2008,
          1969,
          1960,
          2009,
          2002,
          2006,
          1950,
          2022,
          2008,
          1930,
          1968,
          2022,
          "No INFO",
          1940,
          2022,
          2022,
          2022,
          1928,
          1978,
          1966,
          1940,
          1980,
          1978
         ],
         "xaxis": "x",
         "yaxis": "y"
        }
       ],
       "layout": {
        "barmode": "relative",
        "legend": {
         "tracegroupgap": 0
        },
        "margin": {
         "t": 60
        },
        "template": {
         "data": {
          "bar": [
           {
            "error_x": {
             "color": "#2a3f5f"
            },
            "error_y": {
             "color": "#2a3f5f"
            },
            "marker": {
             "line": {
              "color": "#E5ECF6",
              "width": 0.5
             },
             "pattern": {
              "fillmode": "overlay",
              "size": 10,
              "solidity": 0.2
             }
            },
            "type": "bar"
           }
          ],
          "barpolar": [
           {
            "marker": {
             "line": {
              "color": "#E5ECF6",
              "width": 0.5
             },
             "pattern": {
              "fillmode": "overlay",
              "size": 10,
              "solidity": 0.2
             }
            },
            "type": "barpolar"
           }
          ],
          "carpet": [
           {
            "aaxis": {
             "endlinecolor": "#2a3f5f",
             "gridcolor": "white",
             "linecolor": "white",
             "minorgridcolor": "white",
             "startlinecolor": "#2a3f5f"
            },
            "baxis": {
             "endlinecolor": "#2a3f5f",
             "gridcolor": "white",
             "linecolor": "white",
             "minorgridcolor": "white",
             "startlinecolor": "#2a3f5f"
            },
            "type": "carpet"
           }
          ],
          "choropleth": [
           {
            "colorbar": {
             "outlinewidth": 0,
             "ticks": ""
            },
            "type": "choropleth"
           }
          ],
          "contour": [
           {
            "colorbar": {
             "outlinewidth": 0,
             "ticks": ""
            },
            "colorscale": [
             [
              0,
              "#0d0887"
             ],
             [
              0.1111111111111111,
              "#46039f"
             ],
             [
              0.2222222222222222,
              "#7201a8"
             ],
             [
              0.3333333333333333,
              "#9c179e"
             ],
             [
              0.4444444444444444,
              "#bd3786"
             ],
             [
              0.5555555555555556,
              "#d8576b"
             ],
             [
              0.6666666666666666,
              "#ed7953"
             ],
             [
              0.7777777777777778,
              "#fb9f3a"
             ],
             [
              0.8888888888888888,
              "#fdca26"
             ],
             [
              1,
              "#f0f921"
             ]
            ],
            "type": "contour"
           }
          ],
          "contourcarpet": [
           {
            "colorbar": {
             "outlinewidth": 0,
             "ticks": ""
            },
            "type": "contourcarpet"
           }
          ],
          "heatmap": [
           {
            "colorbar": {
             "outlinewidth": 0,
             "ticks": ""
            },
            "colorscale": [
             [
              0,
              "#0d0887"
             ],
             [
              0.1111111111111111,
              "#46039f"
             ],
             [
              0.2222222222222222,
              "#7201a8"
             ],
             [
              0.3333333333333333,
              "#9c179e"
             ],
             [
              0.4444444444444444,
              "#bd3786"
             ],
             [
              0.5555555555555556,
              "#d8576b"
             ],
             [
              0.6666666666666666,
              "#ed7953"
             ],
             [
              0.7777777777777778,
              "#fb9f3a"
             ],
             [
              0.8888888888888888,
              "#fdca26"
             ],
             [
              1,
              "#f0f921"
             ]
            ],
            "type": "heatmap"
           }
          ],
          "heatmapgl": [
           {
            "colorbar": {
             "outlinewidth": 0,
             "ticks": ""
            },
            "colorscale": [
             [
              0,
              "#0d0887"
             ],
             [
              0.1111111111111111,
              "#46039f"
             ],
             [
              0.2222222222222222,
              "#7201a8"
             ],
             [
              0.3333333333333333,
              "#9c179e"
             ],
             [
              0.4444444444444444,
              "#bd3786"
             ],
             [
              0.5555555555555556,
              "#d8576b"
             ],
             [
              0.6666666666666666,
              "#ed7953"
             ],
             [
              0.7777777777777778,
              "#fb9f3a"
             ],
             [
              0.8888888888888888,
              "#fdca26"
             ],
             [
              1,
              "#f0f921"
             ]
            ],
            "type": "heatmapgl"
           }
          ],
          "histogram": [
           {
            "marker": {
             "pattern": {
              "fillmode": "overlay",
              "size": 10,
              "solidity": 0.2
             }
            },
            "type": "histogram"
           }
          ],
          "histogram2d": [
           {
            "colorbar": {
             "outlinewidth": 0,
             "ticks": ""
            },
            "colorscale": [
             [
              0,
              "#0d0887"
             ],
             [
              0.1111111111111111,
              "#46039f"
             ],
             [
              0.2222222222222222,
              "#7201a8"
             ],
             [
              0.3333333333333333,
              "#9c179e"
             ],
             [
              0.4444444444444444,
              "#bd3786"
             ],
             [
              0.5555555555555556,
              "#d8576b"
             ],
             [
              0.6666666666666666,
              "#ed7953"
             ],
             [
              0.7777777777777778,
              "#fb9f3a"
             ],
             [
              0.8888888888888888,
              "#fdca26"
             ],
             [
              1,
              "#f0f921"
             ]
            ],
            "type": "histogram2d"
           }
          ],
          "histogram2dcontour": [
           {
            "colorbar": {
             "outlinewidth": 0,
             "ticks": ""
            },
            "colorscale": [
             [
              0,
              "#0d0887"
             ],
             [
              0.1111111111111111,
              "#46039f"
             ],
             [
              0.2222222222222222,
              "#7201a8"
             ],
             [
              0.3333333333333333,
              "#9c179e"
             ],
             [
              0.4444444444444444,
              "#bd3786"
             ],
             [
              0.5555555555555556,
              "#d8576b"
             ],
             [
              0.6666666666666666,
              "#ed7953"
             ],
             [
              0.7777777777777778,
              "#fb9f3a"
             ],
             [
              0.8888888888888888,
              "#fdca26"
             ],
             [
              1,
              "#f0f921"
             ]
            ],
            "type": "histogram2dcontour"
           }
          ],
          "mesh3d": [
           {
            "colorbar": {
             "outlinewidth": 0,
             "ticks": ""
            },
            "type": "mesh3d"
           }
          ],
          "parcoords": [
           {
            "line": {
             "colorbar": {
              "outlinewidth": 0,
              "ticks": ""
             }
            },
            "type": "parcoords"
           }
          ],
          "pie": [
           {
            "automargin": true,
            "type": "pie"
           }
          ],
          "scatter": [
           {
            "marker": {
             "colorbar": {
              "outlinewidth": 0,
              "ticks": ""
             }
            },
            "type": "scatter"
           }
          ],
          "scatter3d": [
           {
            "line": {
             "colorbar": {
              "outlinewidth": 0,
              "ticks": ""
             }
            },
            "marker": {
             "colorbar": {
              "outlinewidth": 0,
              "ticks": ""
             }
            },
            "type": "scatter3d"
           }
          ],
          "scattercarpet": [
           {
            "marker": {
             "colorbar": {
              "outlinewidth": 0,
              "ticks": ""
             }
            },
            "type": "scattercarpet"
           }
          ],
          "scattergeo": [
           {
            "marker": {
             "colorbar": {
              "outlinewidth": 0,
              "ticks": ""
             }
            },
            "type": "scattergeo"
           }
          ],
          "scattergl": [
           {
            "marker": {
             "colorbar": {
              "outlinewidth": 0,
              "ticks": ""
             }
            },
            "type": "scattergl"
           }
          ],
          "scattermapbox": [
           {
            "marker": {
             "colorbar": {
              "outlinewidth": 0,
              "ticks": ""
             }
            },
            "type": "scattermapbox"
           }
          ],
          "scatterpolar": [
           {
            "marker": {
             "colorbar": {
              "outlinewidth": 0,
              "ticks": ""
             }
            },
            "type": "scatterpolar"
           }
          ],
          "scatterpolargl": [
           {
            "marker": {
             "colorbar": {
              "outlinewidth": 0,
              "ticks": ""
             }
            },
            "type": "scatterpolargl"
           }
          ],
          "scatterternary": [
           {
            "marker": {
             "colorbar": {
              "outlinewidth": 0,
              "ticks": ""
             }
            },
            "type": "scatterternary"
           }
          ],
          "surface": [
           {
            "colorbar": {
             "outlinewidth": 0,
             "ticks": ""
            },
            "colorscale": [
             [
              0,
              "#0d0887"
             ],
             [
              0.1111111111111111,
              "#46039f"
             ],
             [
              0.2222222222222222,
              "#7201a8"
             ],
             [
              0.3333333333333333,
              "#9c179e"
             ],
             [
              0.4444444444444444,
              "#bd3786"
             ],
             [
              0.5555555555555556,
              "#d8576b"
             ],
             [
              0.6666666666666666,
              "#ed7953"
             ],
             [
              0.7777777777777778,
              "#fb9f3a"
             ],
             [
              0.8888888888888888,
              "#fdca26"
             ],
             [
              1,
              "#f0f921"
             ]
            ],
            "type": "surface"
           }
          ],
          "table": [
           {
            "cells": {
             "fill": {
              "color": "#EBF0F8"
             },
             "line": {
              "color": "white"
             }
            },
            "header": {
             "fill": {
              "color": "#C8D4E3"
             },
             "line": {
              "color": "white"
             }
            },
            "type": "table"
           }
          ]
         },
         "layout": {
          "annotationdefaults": {
           "arrowcolor": "#2a3f5f",
           "arrowhead": 0,
           "arrowwidth": 1
          },
          "autotypenumbers": "strict",
          "coloraxis": {
           "colorbar": {
            "outlinewidth": 0,
            "ticks": ""
           }
          },
          "colorscale": {
           "diverging": [
            [
             0,
             "#8e0152"
            ],
            [
             0.1,
             "#c51b7d"
            ],
            [
             0.2,
             "#de77ae"
            ],
            [
             0.3,
             "#f1b6da"
            ],
            [
             0.4,
             "#fde0ef"
            ],
            [
             0.5,
             "#f7f7f7"
            ],
            [
             0.6,
             "#e6f5d0"
            ],
            [
             0.7,
             "#b8e186"
            ],
            [
             0.8,
             "#7fbc41"
            ],
            [
             0.9,
             "#4d9221"
            ],
            [
             1,
             "#276419"
            ]
           ],
           "sequential": [
            [
             0,
             "#0d0887"
            ],
            [
             0.1111111111111111,
             "#46039f"
            ],
            [
             0.2222222222222222,
             "#7201a8"
            ],
            [
             0.3333333333333333,
             "#9c179e"
            ],
            [
             0.4444444444444444,
             "#bd3786"
            ],
            [
             0.5555555555555556,
             "#d8576b"
            ],
            [
             0.6666666666666666,
             "#ed7953"
            ],
            [
             0.7777777777777778,
             "#fb9f3a"
            ],
            [
             0.8888888888888888,
             "#fdca26"
            ],
            [
             1,
             "#f0f921"
            ]
           ],
           "sequentialminus": [
            [
             0,
             "#0d0887"
            ],
            [
             0.1111111111111111,
             "#46039f"
            ],
            [
             0.2222222222222222,
             "#7201a8"
            ],
            [
             0.3333333333333333,
             "#9c179e"
            ],
            [
             0.4444444444444444,
             "#bd3786"
            ],
            [
             0.5555555555555556,
             "#d8576b"
            ],
            [
             0.6666666666666666,
             "#ed7953"
            ],
            [
             0.7777777777777778,
             "#fb9f3a"
            ],
            [
             0.8888888888888888,
             "#fdca26"
            ],
            [
             1,
             "#f0f921"
            ]
           ]
          },
          "colorway": [
           "#636efa",
           "#EF553B",
           "#00cc96",
           "#ab63fa",
           "#FFA15A",
           "#19d3f3",
           "#FF6692",
           "#B6E880",
           "#FF97FF",
           "#FECB52"
          ],
          "font": {
           "color": "#2a3f5f"
          },
          "geo": {
           "bgcolor": "white",
           "lakecolor": "white",
           "landcolor": "#E5ECF6",
           "showlakes": true,
           "showland": true,
           "subunitcolor": "white"
          },
          "hoverlabel": {
           "align": "left"
          },
          "hovermode": "closest",
          "mapbox": {
           "style": "light"
          },
          "paper_bgcolor": "white",
          "plot_bgcolor": "#E5ECF6",
          "polar": {
           "angularaxis": {
            "gridcolor": "white",
            "linecolor": "white",
            "ticks": ""
           },
           "bgcolor": "#E5ECF6",
           "radialaxis": {
            "gridcolor": "white",
            "linecolor": "white",
            "ticks": ""
           }
          },
          "scene": {
           "xaxis": {
            "backgroundcolor": "#E5ECF6",
            "gridcolor": "white",
            "gridwidth": 2,
            "linecolor": "white",
            "showbackground": true,
            "ticks": "",
            "zerolinecolor": "white"
           },
           "yaxis": {
            "backgroundcolor": "#E5ECF6",
            "gridcolor": "white",
            "gridwidth": 2,
            "linecolor": "white",
            "showbackground": true,
            "ticks": "",
            "zerolinecolor": "white"
           },
           "zaxis": {
            "backgroundcolor": "#E5ECF6",
            "gridcolor": "white",
            "gridwidth": 2,
            "linecolor": "white",
            "showbackground": true,
            "ticks": "",
            "zerolinecolor": "white"
           }
          },
          "shapedefaults": {
           "line": {
            "color": "#2a3f5f"
           }
          },
          "ternary": {
           "aaxis": {
            "gridcolor": "white",
            "linecolor": "white",
            "ticks": ""
           },
           "baxis": {
            "gridcolor": "white",
            "linecolor": "white",
            "ticks": ""
           },
           "bgcolor": "#E5ECF6",
           "caxis": {
            "gridcolor": "white",
            "linecolor": "white",
            "ticks": ""
           }
          },
          "title": {
           "x": 0.05
          },
          "xaxis": {
           "automargin": true,
           "gridcolor": "white",
           "linecolor": "white",
           "ticks": "",
           "title": {
            "standoff": 15
           },
           "zerolinecolor": "white",
           "zerolinewidth": 2
          },
          "yaxis": {
           "automargin": true,
           "gridcolor": "white",
           "linecolor": "white",
           "ticks": "",
           "title": {
            "standoff": 15
           },
           "zerolinecolor": "white",
           "zerolinewidth": 2
          }
         }
        },
        "xaxis": {
         "anchor": "y",
         "domain": [
          0,
          1
         ],
         "title": {
          "text": "Godina izgradnje"
         }
        },
        "yaxis": {
         "anchor": "x",
         "domain": [
          0,
          1
         ],
         "title": {
          "text": "count"
         }
        }
       }
      }
     },
     "metadata": {},
     "output_type": "display_data"
    }
   ],
   "source": [
    "fig = px.histogram(df, x=\"Godina izgradnje\")\n",
    "fig"
   ]
  },
  {
   "cell_type": "code",
   "execution_count": 10,
   "metadata": {},
   "outputs": [
    {
     "data": {
      "application/vnd.plotly.v1+json": {
       "config": {
        "plotlyServerURL": "https://plot.ly"
       },
       "data": [
        {
         "alignmentgroup": "True",
         "bingroup": "x",
         "hovertemplate": "Cijena=%{x}<br>count=%{y}<extra></extra>",
         "legendgroup": "",
         "marker": {
          "color": "#636efa",
          "pattern": {
           "shape": ""
          }
         },
         "name": "",
         "offsetgroup": "",
         "orientation": "v",
         "showlegend": false,
         "type": "histogram",
         "x": [
          135000,
          240000,
          265000,
          130000,
          166592,
          230000,
          169000,
          138548,
          78000,
          120744,
          86000,
          496000,
          147000,
          119000,
          195000,
          135000,
          121500,
          68000,
          160000,
          245000,
          245000,
          62000,
          385000,
          220000,
          200000,
          167650,
          95000,
          170000,
          199900,
          206300,
          292600,
          204500,
          165000,
          340000,
          85000,
          172000,
          91900,
          155000,
          357000,
          150000,
          82000,
          120000,
          210000,
          140000,
          333000,
          150000,
          174000,
          186000,
          102600,
          207392,
          82000,
          170000,
          245000,
          124500,
          192000,
          243000,
          59000,
          237000,
          125000,
          165000,
          155000,
          174000,
          210000,
          325000,
          345000,
          750000,
          119000,
          285000,
          170000,
          140000,
          234000,
          150000,
          299000,
          145000,
          265000,
          102000,
          115000,
          355000,
          499000,
          370000,
          235000,
          152000,
          167000,
          59500,
          990000,
          266275,
          201250,
          201250,
          195000,
          59500,
          59800,
          175000,
          278200,
          99000,
          240000,
          299000,
          250792,
          190000,
          300000,
          190000,
          456948,
          258962,
          87000,
          238000,
          144590,
          125000,
          249900,
          319000,
          150000,
          545000,
          270000,
          399000,
          299598,
          87000,
          97000,
          110000,
          205000,
          180000,
          59500,
          193000,
          48000,
          115000,
          338000,
          250000,
          167000,
          400000,
          309000,
          379000,
          80000,
          140000,
          195000,
          119000,
          300000,
          217000,
          151000,
          220000,
          180000,
          240000,
          125000,
          48000,
          339000,
          175000,
          198000,
          222000,
          154000,
          150000,
          80000,
          139000,
          320000,
          187000,
          208912,
          216678,
          208912,
          150000,
          216678,
          328000,
          79000,
          61000,
          220000,
          175000,
          54000,
          120000,
          238000,
          119000,
          245000,
          190000,
          325000,
          408720,
          140000,
          59000,
          189504,
          165000,
          150000,
          105000,
          184000,
          195000,
          219655,
          155000,
          219000,
          249900,
          143000,
          362000,
          750000,
          275000,
          126000,
          140000,
          417755,
          807484,
          544509,
          350734,
          493892,
          398474,
          517790,
          312000,
          310000,
          133000,
          133000,
          132000,
          107000,
          140000,
          800745,
          433872,
          956295,
          560763,
          809908,
          421296,
          138700,
          175000,
          95000,
          108000,
          353280,
          309000,
          97000,
          120000,
          365000,
          279000,
          105000,
          170430,
          126000,
          320000,
          98000,
          165000,
          200000,
          139000,
          143000,
          201908,
          316000,
          450000,
          319000,
          133000,
          160000,
          350000,
          261000,
          255000,
          440000,
          353400,
          420000,
          170000,
          200000,
          139232,
          115000,
          380000,
          120000,
          249000,
          170000,
          162633,
          370000,
          412659,
          460629,
          290000,
          280000,
          82000,
          83075,
          374550,
          205000,
          149000,
          159000,
          295285,
          246330,
          267237,
          305000,
          259999,
          200232,
          162892,
          153738,
          162892,
          123231,
          121764,
          379000,
          175000,
          395000,
          115000,
          143000,
          500000,
          450000,
          120000,
          420000,
          342280,
          82000,
          387000,
          310000,
          170000,
          169000,
          114000,
          114000,
          124000,
          450000,
          120000,
          200000,
          152000,
          112000,
          150000,
          131000,
          132000,
          118000,
          137000,
          141000,
          234000,
          150000,
          317500,
          188625,
          174149,
          189588,
          185000,
          210000,
          450000,
          450000,
          225000,
          120000,
          225000,
          75000,
          210525,
          188200,
          113200,
          221130,
          170000,
          176010,
          188274,
          204042,
          123231,
          87425,
          175134,
          206189,
          93000,
          85000,
          250000,
          76000,
          134400,
          135000,
          320000,
          127000,
          294000,
          375000,
          155000,
          135000,
          245000,
          150000,
          164000,
          66000,
          145000,
          400000,
          105000,
          240000,
          129000,
          310000,
          105000,
          144840,
          90000,
          111400,
          145000,
          112325,
          112325,
          330000,
          195000,
          90000,
          140000,
          250000,
          79000,
          95000,
          198000,
          297000,
          244322,
          299000,
          129000,
          122000,
          159000,
          195000,
          125000,
          109000,
          300000,
          147000,
          230000,
          300000,
          248000,
          105000,
          127650,
          192000,
          107000,
          250000,
          276000,
          150000,
          300000,
          460629,
          412659,
          125000,
          78000,
          590000,
          170060,
          119900,
          150348,
          146960,
          155672,
          119042,
          161128,
          147642,
          133000,
          186000,
          190000,
          185000,
          215000,
          200000,
          175000,
          129000,
          225000,
          90000,
          312000,
          180000,
          175000,
          332000,
          132000,
          500000,
          483000,
          265000,
          103000,
          250000,
          400000,
          390000,
          150000,
          120000,
          235000,
          107000,
          78000,
          78000,
          300000,
          320000,
          117000,
          89760,
          105000,
          310000,
          123232,
          177631,
          153738,
          189000,
          165000,
          600000,
          515000,
          477155,
          185000,
          340000,
          179000,
          111000,
          100000,
          138000,
          199000,
          175000,
          209000,
          210000,
          135000,
          559000,
          260000,
          210000,
          80000,
          122100,
          198000,
          150000,
          110000,
          69000,
          187000,
          260000,
          229000,
          120000,
          260000,
          420000,
          84000,
          360000,
          105000,
          108000,
          168000,
          150000,
          55000,
          211695,
          105000,
          105000,
          199000,
          235000,
          135000,
          223000,
          250000,
          136200,
          215000,
          220000,
          300000,
          185000,
          236550,
          270000,
          158000,
          270000,
          225000,
          180000,
          430000,
          297000,
          312000,
          133000,
          135000,
          900000,
          100000,
          129900,
          148000,
          580000,
          178000,
          225000,
          159900,
          242000,
          100000,
          115000,
          56000,
          380000,
          159000,
          149000,
          128616,
          80000,
          115000,
          485000,
          87000,
          174000,
          174000,
          340000,
          185000,
          250000,
          230000,
          266000,
          186214,
          190000,
          365000,
          165402,
          332451,
          265000,
          196000,
          389000,
          95000,
          140000,
          90000,
          425000,
          340000,
          95000,
          195000,
          159300,
          410000,
          78000,
          330000,
          372600,
          380000,
          802670,
          862226,
          77000,
          255000,
          155000,
          349000,
          255200,
          234000,
          170000,
          450000,
          460000,
          379000,
          134849,
          227585,
          134849,
          231334,
          102800,
          121500,
          164000,
          129900,
          138000,
          380000,
          90000,
          485000,
          136800,
          134000,
          125000,
          380000,
          320000,
          167042,
          280194,
          78000,
          400960,
          260275,
          557070,
          634940,
          637935,
          125000,
          349000,
          119000,
          150600,
          810000,
          75000,
          358000,
          99900,
          330000,
          190000,
          169000,
          150000,
          190000,
          240000,
          65000,
          125000,
          256500,
          156000,
          236500,
          140000,
          129000,
          70000,
          118000,
          339000,
          127600,
          145000,
          150000,
          150000,
          290000,
          106000,
          210000,
          388000,
          79000,
          127000,
          170000,
          187000,
          199000,
          125000,
          220000,
          125000,
          232000,
          234200,
          198000,
          234200,
          125000,
          199000,
          388000,
          1200000,
          165000,
          98000,
          135200,
          174900,
          159500,
          150000,
          125000,
          129000,
          149000,
          295000,
          105000,
          645000,
          140000,
          103000,
          120000,
          99990,
          422000,
          150000,
          165000,
          214000,
          95000,
          130000,
          80000,
          70000,
          188000,
          155000,
          275000,
          184000,
          112900,
          169000,
          146000,
          269000,
          185000,
          240000,
          130000,
          135000,
          179857,
          126000,
          258000,
          180000,
          318000,
          140000,
          450000,
          395000,
          330000,
          210000,
          165000,
          213000,
          151096,
          130000,
          160000,
          160000,
          970000,
          155000,
          155385,
          700000,
          768240,
          375000,
          206000,
          359000,
          250000,
          210000,
          75000,
          305000,
          268000,
          170000,
          220000,
          165000,
          890000,
          270000,
          360000,
          151096,
          185000,
          298000,
          680000,
          355000,
          690000,
          530000,
          210000,
          70000,
          59000,
          690000,
          145000,
          209000,
          135000,
          218000,
          765000,
          273000,
          64000,
          330000,
          285000,
          215000,
          115000,
          490000,
          235000,
          227800,
          380000,
          300000,
          188400,
          500000,
          275000,
          180000,
          350000,
          771032,
          106000,
          280000,
          290000,
          1000000,
          279900,
          670000,
          550000,
          360000,
          326000,
          107000,
          216000,
          215000,
          260000,
          276000,
          320000,
          365000,
          400000,
          247000,
          379000,
          225000,
          495000,
          95000,
          349000,
          154000,
          286000,
          480000,
          195000,
          195000,
          300000,
          999000,
          145000,
          82000,
          293000,
          771032,
          95000,
          520000,
          310000,
          459000,
          130000,
          125000,
          195000,
          360000,
          207500,
          395000,
          165000,
          42000,
          150000,
          250000,
          320000,
          305000,
          180000,
          345000,
          87000,
          330000,
          220000,
          200000,
          768000,
          120000,
          350000,
          250000,
          350000,
          640000,
          150000,
          295000,
          160000,
          229000,
          685000,
          42000,
          60000,
          100000,
          307000,
          299000,
          231250,
          326000,
          85000,
          174000,
          309999,
          240000,
          800000,
          36000,
          189300,
          144000,
          218500,
          269990,
          82000,
          131500,
          250500,
          330000,
          330000,
          450000,
          450000,
          234000,
          330000,
          77000,
          255000,
          345600,
          128000,
          320000,
          138000,
          210000,
          160000,
          340000,
          185300,
          107000,
          249000,
          240000,
          218000,
          160000,
          243000,
          239000,
          180000,
          254784,
          575250,
          234348,
          610304,
          254976,
          231600,
          222352,
          613568,
          142000,
          175000,
          142000,
          125000,
          255000,
          345000,
          360000,
          250000,
          243750,
          230000,
          185000,
          120000,
          130000,
          270000,
          220000,
          125000,
          160000,
          182493,
          180000,
          189720,
          177000,
          620000,
          270000,
          120000,
          115000,
          420000,
          249000,
          145575,
          199000,
          316000,
          380000,
          110000,
          160000,
          100000,
          202400,
          161000,
          195000,
          363000,
          135000,
          495000,
          350000,
          68000,
          369400,
          133500,
          269000,
          216232,
          354156,
          363858,
          380000,
          365000,
          45000,
          200000,
          850000,
          350000,
          305000,
          171100,
          200000,
          225000,
          94000,
          85000,
          135000,
          294000,
          300000,
          395000,
          210000,
          297000,
          214839,
          149000,
          260000,
          172178,
          138989,
          146993,
          126523,
          419000,
          410000,
          199000,
          81000,
          349000,
          68000,
          140000,
          140000,
          174000,
          482280,
          200000,
          212000,
          330000,
          323500,
          103000,
          126321,
          146960,
          126321,
          105271,
          275000,
          223000,
          349000,
          200000,
          85000,
          90000,
          380000,
          310000,
          107000,
          107000,
          142140,
          180000,
          88000,
          150000,
          115000,
          248000,
          350000,
          66000,
          246000,
          118800,
          239900,
          135000,
          190923,
          222019,
          149000,
          85000,
          168861,
          129900,
          66000,
          159000,
          145000,
          98000,
          149000,
          216269,
          159000,
          210000,
          290000,
          105000,
          158000,
          161000,
          197000,
          197000,
          265000,
          299999,
          89900,
          396800,
          180000,
          210553,
          127000,
          216000,
          226968,
          862226,
          802670,
          120000,
          208200,
          385000,
          170000,
          219900,
          328000,
          85000,
          200000,
          350000,
          239000,
          385686,
          433480,
          219240,
          217040,
          212120,
          270640,
          295740,
          283800,
          120000,
          220000,
          91000,
          125000,
          98000,
          130000,
          225000,
          114400,
          260000,
          170000,
          175000,
          167000,
          135751,
          138546,
          168861,
          118800,
          365000,
          297000,
          620000,
          270000,
          390000,
          450000,
          449000,
          67000,
          165000,
          114400,
          350000,
          79000,
          99000,
          175000,
          178000,
          149310,
          480000,
          649000,
          193000,
          685000,
          154000,
          175000,
          161420,
          220244,
          153471,
          167500,
          195000,
          195000,
          185000,
          163000,
          165000,
          82000,
          133000,
          147000,
          76500,
          97000,
          128000,
          116000,
          179900,
          417755,
          350734,
          517790,
          398474,
          389856,
          493892,
          367705,
          421296,
          544509,
          807484,
          809908,
          956295,
          408720,
          560763,
          433872,
          800745,
          190000,
          115000,
          240000,
          500000,
          122935,
          241960,
          123625,
          150075,
          140507,
          191406,
          197156,
          181677,
          211600,
          150374,
          213693,
          165000,
          169000,
          169000,
          108000,
          120000,
          142000,
          207000,
          155000,
          395000,
          231700,
          259000,
          135000,
          299000,
          419000,
          65000,
          40000,
          98000,
          78000,
          203345,
          173524,
          207200,
          77000,
          330000,
          77000,
          160000,
          59000,
          270000,
          300000,
          71400,
          342000,
          94990,
          365000,
          300000,
          200000,
          200000,
          290000,
          210000,
          280000,
          460000,
          489000,
          150000,
          230000,
          180000,
          339000,
          432000,
          600000,
          200600,
          550000,
          200000,
          320000,
          386000,
          406000,
          549000,
          580000,
          480000,
          254250,
          400000,
          690000,
          410000,
          450000,
          480000,
          464000,
          365000,
          590000,
          350000,
          280000,
          440000,
          400000,
          324600,
          380000,
          300000,
          450000,
          600000,
          246000,
          200000,
          242500,
          140000,
          250000,
          300000,
          150000,
          450000,
          229000,
          330000,
          220000,
          330000,
          80000,
          324600,
          498500,
          204000,
          750000,
          240000,
          129000,
          714000,
          300000,
          460000,
          154000,
          309000,
          288000,
          250000,
          800000,
          159000,
          170000,
          240000,
          138000,
          595000,
          177000,
          45000,
          310000,
          380000,
          200000,
          265000,
          450000,
          1000000,
          400000,
          130000,
          749000,
          752241,
          69000,
          164000,
          250000,
          135000,
          320000,
          370000,
          210000,
          240000,
          935589,
          521175,
          300000,
          155000,
          160000,
          300000,
          189000,
          250000,
          165000,
          305000,
          420000,
          720000,
          740000,
          460000,
          240000,
          350000,
          215000,
          170000,
          419000,
          179000,
          761200,
          766150,
          597300,
          696000,
          695000,
          596750,
          697000,
          230000,
          350000,
          306450,
          237600,
          246000,
          159000,
          1050000,
          550000,
          115000,
          440000,
          350000,
          250000,
          189000,
          166000,
          360000,
          210000,
          200000,
          432000,
          100000,
          359000,
          340000,
          110000,
          290000,
          1123850,
          93000,
          157000,
          460000,
          140000,
          160000,
          100000,
          179000,
          199500,
          139000,
          235000,
          165000,
          295000,
          260000,
          235000,
          160000,
          75000,
          120000,
          280000,
          255000,
          255000,
          512500,
          95000,
          290000,
          287750,
          260000,
          426600,
          265000,
          250000,
          395000,
          330000,
          330000,
          306000,
          235000,
          435000,
          137500,
          695000,
          305000,
          305000,
          199990,
          145000,
          330000,
          228000,
          169200,
          179075,
          95000,
          205000,
          310000,
          185000,
          99000,
          160000,
          140000,
          218000,
          220000,
          220000,
          125000,
          355000,
          310000,
          525000,
          550000,
          219000,
          87000,
          170000,
          115000,
          370000,
          115000,
          180000,
          399000,
          312000,
          105000,
          199000,
          220000,
          243000,
          275000,
          306000,
          306000,
          285330,
          219000,
          125000,
          179000,
          105000,
          180000,
          95250,
          199900,
          140000,
          125000,
          135000,
          224000,
          119000,
          145000,
          419000,
          350000,
          100000,
          206800,
          238410,
          134865,
          121095,
          140000,
          399360,
          151000,
          100000,
          260000,
          172524,
          105000,
          192742,
          140646,
          145530,
          186318,
          140624,
          186318,
          114620,
          210000,
          77000,
          92500,
          145970,
          119000,
          163000,
          181000,
          99000,
          93000,
          475725,
          223000,
          245000,
          145000,
          160000,
          326000,
          253000,
          331550,
          215000,
          190000,
          149000,
          107000,
          216245,
          105000,
          380000,
          261000,
          160000,
          375000,
          390000,
          123000,
          123000,
          179857,
          144591,
          147568,
          218300,
          79000,
          250000,
          278000,
          590000,
          139900,
          350000,
          300000,
          200000,
          285000,
          135000,
          190000,
          119000,
          180000,
          80000,
          120000,
          123000,
          125000,
          200000,
          95000,
          320000,
          189504,
          179000,
          260000,
          299000,
          192000,
          125000,
          239000,
          130000,
          310000,
          310000,
          155000,
          155000,
          350000,
          120000,
          131200,
          277500,
          404200,
          149000,
          130000,
          255000,
          390000,
          317000,
          283122,
          328941,
          890000,
          95000,
          162000,
          365000,
          200990,
          170700,
          220000,
          153000,
          245000,
          210000,
          386000,
          200000,
          169500,
          350000,
          220000,
          120000,
          130000,
          315000,
          220000,
          380000,
          107943,
          350000,
          113520,
          460000,
          500000,
          160000,
          200000,
          440000,
          250016,
          196000,
          1200000,
          240000,
          250000,
          198000,
          247000,
          150000,
          125000,
          235000,
          160000,
          315000,
          150000,
          365000,
          199990,
          205000,
          197000,
          298000,
          312000,
          359000,
          350000,
          370000,
          242000,
          135000,
          392960,
          154000,
          78000,
          170000,
          226000,
          750000,
          92300,
          200000,
          100000,
          95000,
          265000,
          190000,
          290000,
          195000,
          236000,
          230000,
          210000,
          230000,
          361746,
          750000,
          99750,
          349001,
          118001,
          88001,
          224700,
          340000,
          371887,
          195000,
          320000,
          495000,
          407085,
          377130,
          299000,
          199500,
          240000,
          520000,
          73000,
          59000,
          410000,
          142000,
          151920,
          127680,
          85000,
          145000,
          170700,
          199990,
          325000,
          249000,
          435000,
          970000,
          462252,
          1700000,
          850000,
          102300,
          175000,
          230000,
          205000,
          260000,
          249000,
          125000,
          142000,
          142000,
          168981,
          133000,
          449000,
          499000,
          430000,
          140000,
          699000,
          290000,
          579000,
          310000,
          104000,
          429000,
          135000,
          125000,
          375000,
          170000,
          150000,
          170000,
          380000,
          155000,
          210986,
          500000,
          135000,
          185000,
          110000,
          160000,
          155000,
          210000,
          69000,
          228000,
          510000,
          57000,
          189000,
          296000,
          125000,
          83000,
          169000,
          197000,
          210000,
          100000,
          154000,
          218000,
          220000,
          155000,
          158800,
          92000,
          245000,
          130000,
          34000,
          193000,
          77900,
          147000,
          200000,
          140000,
          109000,
          125000,
          95000,
          218000,
          225000,
          79000,
          200000,
          150000,
          142000,
          154000,
          150000,
          243000,
          147000,
          179000,
          111000,
          245000,
          184000,
          185000,
          165000,
          190000,
          118000,
          125000,
          333000,
          122400,
          270000,
          165000,
          210000,
          122000,
          97000,
          135000,
          129000,
          152500,
          120000,
          287000,
          376296,
          143000,
          159000,
          240000,
          120000,
          215000,
          150000,
          93000,
          90000,
          149000,
          185000,
          160000,
          539000,
          135000,
          280000,
          399000,
          140000,
          160000,
          110000,
          160500,
          120000,
          132236,
          155220,
          317115,
          95000,
          99000,
          82000,
          145000,
          132000,
          325000,
          280000,
          140000,
          299000,
          349000,
          300000,
          125000,
          124000,
          114000,
          114000,
          135000,
          125000,
          269000,
          159000,
          300000,
          165000,
          108000,
          189000,
          328000,
          260000,
          120000,
          350000,
          120000,
          290000,
          330000,
          165000,
          145000,
          82000,
          100000,
          167000,
          353000,
          156000,
          155000,
          232500,
          74900,
          196000,
          155000,
          350000,
          112000,
          135000,
          200000,
          350000,
          189921,
          260000,
          380000,
          156000,
          115000,
          143720,
          179857,
          147568,
          179857,
          249000,
          148646,
          156230,
          143764,
          143030,
          117360,
          117360,
          147840,
          147840,
          207000,
          110000,
          280000,
          145000,
          155000,
          130000,
          165000,
          235000,
          147568,
          169502,
          121131,
          117360,
          186000,
          82500,
          98000,
          215000,
          224178,
          350000,
          170000,
          185000,
          170000,
          255000,
          130000,
          500000,
          250000,
          120000,
          82000,
          237000,
          157000,
          114400,
          149000,
          298000,
          195750,
          279900,
          474000,
          324000,
          309000,
          165000,
          415000,
          500000,
          150000,
          290000,
          165000,
          290000,
          239000,
          200000,
          80000,
          220000,
          120000,
          120000,
          75000,
          135000,
          120000,
          126000,
          128000,
          500000,
          92313,
          115911,
          115911,
          175000,
          350000,
          395000,
          460000,
          288000,
          290000,
          138000,
          240000,
          300000,
          316800,
          199000,
          190000,
          113000,
          109000,
          199000,
          459000,
          221400,
          100000,
          115000,
          195000,
          195000,
          100000,
          85428,
          135000,
          99990,
          130000,
          36000,
          253500,
          75000,
          55000,
          100000,
          160500,
          195000,
          182000,
          218000,
          159750,
          142000,
          395250,
          257910,
          182310,
          211260,
          211260,
          132325,
          161782,
          135000,
          379000,
          65000,
          268500,
          115065,
          124000,
          175000,
          123000,
          189000,
          235000,
          298000,
          118000,
          170000,
          92000,
          365000,
          90000,
          185000,
          400000,
          883500,
          899000,
          330000,
          275000,
          140000,
          585000,
          356175,
          115000,
          125000,
          240000,
          295000,
          295000,
          150000,
          289000,
          235000,
          350000,
          215000,
          350000,
          300000,
          310000,
          90000,
          90000,
          143000,
          123000,
          119000,
          360000,
          204000,
          215000,
          162696,
          127680,
          145590,
          175350,
          137678,
          142818,
          195696,
          157141,
          180400,
          69000,
          325000,
          270000,
          230000,
          450000,
          115000,
          138000,
          115000,
          190000,
          265000,
          134500,
          200000,
          210000,
          138000,
          279000,
          365400,
          230000,
          319000,
          400000,
          319000,
          460000,
          390000,
          265000,
          230000,
          149000,
          59000,
          55000,
          45000,
          420000,
          150000,
          295000,
          330000,
          235000,
          49990,
          149000,
          92000,
          275000,
          212000,
          220000,
          83000,
          130000,
          435000,
          380000,
          345000,
          250000,
          63000,
          247000,
          140000,
          144000,
          325000,
          132000,
          189000,
          204900,
          114500,
          139000,
          249000,
          265000,
          205632,
          205000,
          100000,
          109000,
          105000,
          96000,
          118000,
          240000,
          234000,
          700000,
          750000,
          299000,
          230000,
          83000,
          120000,
          115000,
          115000,
          110000,
          299000,
          160000,
          187000,
          318000,
          141000,
          130000,
          140000,
          61100,
          126800,
          153000,
          42000,
          105000,
          92000,
          150000,
          198999,
          99000,
          130000,
          549999,
          450540,
          593460,
          608220,
          213000,
          210000,
          150000,
          120000,
          455000,
          59900,
          130000,
          150000,
          90000,
          75000,
          58000,
          82000,
          260000,
          399000,
          300000,
          55000,
          105000,
          175000,
          163000,
          88000,
          155000,
          370000,
          165000,
          147000,
          97000,
          145000,
          283000,
          105000,
          250000,
          150000,
          399000,
          179000,
          273000,
          250000,
          557000,
          73000,
          310000,
          299000,
          87000,
          712000,
          165000,
          206000,
          65000,
          95000,
          446488,
          179000,
          139000,
          184000,
          450000,
          187000,
          900000,
          350000,
          359500,
          435240,
          320000,
          110000,
          136000,
          200000,
          699000,
          250000,
          165000,
          395000,
          161421,
          340000,
          340000,
          162000,
          139000,
          139000,
          210000,
          400000,
          130000,
          240000,
          199500,
          185000,
          340000,
          450000,
          288000,
          200000,
          299000,
          82000,
          179000,
          379000,
          379000,
          127123,
          135447,
          135999,
          135711,
          201420,
          189928,
          142100,
          154000,
          165000,
          235000,
          285000,
          134000,
          130000,
          172000,
          380000,
          191000,
          348000,
          150000,
          120000,
          450540,
          199000,
          299000,
          220000,
          364000,
          400000,
          890000,
          608220,
          450540,
          165000,
          330000,
          593460,
          230000,
          255000,
          309900,
          260000,
          338250,
          335000,
          396800,
          593460,
          608220,
          380000,
          400960,
          419000,
          235000,
          549000,
          535000,
          270000,
          100000,
          71000,
          185000,
          175000,
          195500,
          225000,
          115893,
          148646,
          117360,
          185000,
          240000,
          141000,
          150000,
          216000,
          287000,
          193629,
          163435,
          125444,
          123501,
          123501,
          125776,
          123501,
          125705,
          115893,
          149666,
          148646,
          143030,
          148646,
          143764,
          115893,
          115893,
          115893,
          115893,
          154000,
          154000,
          140000,
          240000,
          236792,
          120000,
          119500,
          72000,
          165000,
          294000,
          504000,
          130000,
          205000,
          165000,
          220000,
          215000,
          330000,
          149000,
          149000,
          300000,
          145000,
          162000,
          375000,
          78000,
          195000,
          80000,
          157000,
          330000,
          414000,
          145000,
          219000,
          210000,
          330000,
          110000,
          135000,
          155000,
          162500,
          210000,
          210000,
          93000,
          175000,
          299000,
          130000,
          300000,
          790000,
          115000,
          127500,
          250000,
          229000,
          330000,
          250000,
          90000,
          369000,
          530000,
          380000,
          210000,
          352000,
          42000,
          137600,
          182000,
          270000,
          249900,
          119000,
          260000,
          199000,
          88000,
          260000,
          125000,
          145000,
          103000,
          182000,
          239400,
          112000,
          194000,
          155000,
          275000,
          220000,
          123000,
          212000,
          194000,
          182000,
          95000,
          132000,
          285000,
          200000,
          280000,
          140000,
          125000,
          330000,
          170000,
          299000,
          116000,
          62000,
          75000,
          195750,
          286000,
          250000,
          155000,
          127000,
          270000,
          200000,
          499100,
          477000,
          450000,
          160000,
          349800,
          382500,
          170000,
          210000,
          108000,
          103000,
          170600,
          190000,
          190000,
          110000,
          80000,
          29000,
          125500,
          65000,
          120000,
          390000,
          265000,
          145000,
          175000,
          160000,
          70000,
          99000,
          103000,
          138000,
          308000,
          650000,
          490000,
          150000,
          400000,
          460000,
          1150000,
          350000,
          157992,
          205000,
          249000,
          246597,
          640000,
          670000,
          350000,
          310000,
          134000,
          148000,
          200000,
          148000,
          138000,
          349000,
          200000,
          92000,
          160000,
          516000,
          120000,
          200000,
          170000,
          152000,
          76000,
          199900,
          320000,
          75000,
          235000,
          60500,
          113000,
          330000,
          250000,
          209685,
          345000,
          320000,
          259000,
          350000,
          400000,
          165000,
          140000,
          196000,
          130000,
          249000,
          105000,
          255000,
          212000,
          65000,
          270000,
          66000,
          82000,
          260000,
          104000,
          320000,
          189900,
          400000,
          155000,
          260000,
          172000,
          230000,
          170000,
          189000,
          175000,
          175000,
          223100,
          138000,
          936000,
          209000,
          300000,
          130000,
          200000,
          270000,
          123600,
          220000,
          185000,
          175000,
          420000,
          350000,
          198000,
          390000,
          200000,
          185000,
          360000,
          250000,
          80000,
          98000,
          175000,
          640000,
          90000,
          380000,
          69000,
          120000,
          590000,
          350000,
          140000,
          106900,
          450000,
          122000,
          200214,
          220012,
          193756,
          106000,
          300000,
          157500,
          170000,
          161000,
          310000,
          129000,
          208000,
          258960,
          219000,
          183000,
          992600,
          456948,
          825000,
          745000,
          65900,
          290000,
          250000,
          1200000,
          190000,
          150000,
          200000,
          550000,
          290000,
          189000,
          330000,
          89000,
          105000,
          238732,
          505000,
          350734,
          544509,
          417755,
          421296,
          517790,
          1802464,
          129605,
          398474,
          367705,
          244329,
          493892,
          167463,
          807484,
          54000,
          225009,
          134481,
          177652,
          240718,
          232001,
          389856,
          360000,
          140000,
          325000,
          557000,
          105000,
          270000,
          155000,
          150000,
          295000,
          195000,
          260000,
          139000,
          66000,
          240000,
          299000,
          200000,
          167000,
          380000,
          105000,
          276000,
          180000,
          470000,
          420000,
          238000,
          240000,
          196000,
          172800,
          170000,
          230000,
          105000,
          695000,
          549500,
          449750,
          125000,
          140000,
          346000,
          250000,
          70000,
          90000,
          195000,
          350000,
          90000,
          500000,
          350000,
          129500,
          219500,
          200000,
          250000,
          380000,
          290625,
          331390,
          240777,
          231136,
          165000,
          221000,
          370000,
          180000,
          250000,
          98000,
          118000,
          135000,
          170000,
          123500,
          160000,
          125000,
          158000,
          125000,
          189300,
          159000,
          98000,
          254500,
          307500,
          240000,
          185000,
          178000,
          159000,
          135000,
          80000,
          980000,
          149000,
          92000,
          326000,
          60000,
          280000,
          216000,
          75000,
          500000,
          115893,
          115893,
          115893,
          117360,
          117360,
          150528,
          115893,
          117360,
          150528,
          150528,
          115893,
          143030,
          126084,
          121226,
          115893,
          148860,
          156183,
          148860,
          145992,
          156183,
          169502,
          115893,
          169502,
          145992,
          148860,
          156183,
          144840,
          115893,
          145992,
          143030,
          239000,
          230000,
          145000,
          99500,
          124000,
          180000,
          367000,
          230000,
          184000,
          120000,
          310000,
          365000,
          239000,
          165000,
          250000,
          299000,
          290000,
          590000,
          114900,
          326000,
          330000,
          83000,
          300000,
          309999,
          114900,
          348000,
          88000,
          123000,
          250000,
          155000,
          189000,
          195000,
          363000,
          99900,
          288000,
          147000,
          320000,
          200000,
          147000,
          349000,
          299000,
          248000,
          99000,
          209000,
          120000,
          125000,
          315000,
          380000,
          320000,
          170000,
          150000,
          150000,
          95000,
          315000,
          150000,
          340000,
          35000,
          380000,
          170000,
          181300,
          389000,
          240000,
          119000,
          360000,
          285000,
          100000,
          120000,
          66000,
          119900,
          206188,
          188274,
          220550,
          199000,
          200000,
          200000,
          159000,
          233200,
          225000,
          268870,
          80000,
          125000,
          114000,
          160000,
          68000,
          159000,
          114900,
          55000,
          185000,
          174500,
          147000,
          195125,
          380000,
          195000,
          127500,
          410000,
          190500,
          194250,
          240000,
          180000,
          380000,
          134900,
          425000,
          450000,
          265000,
          557000,
          169800,
          284000,
          400000,
          259000,
          189000,
          249000,
          140000,
          89500,
          260000,
          365001,
          135000,
          129000,
          230000,
          220000,
          144591,
          159000,
          90000,
          165000,
          120000,
          379000,
          1210000,
          115000,
          140000,
          200000,
          209000,
          250000,
          209000,
          240000,
          185000,
          99000,
          210000,
          219000,
          155000,
          265000,
          48000,
          38500,
          480000,
          106666,
          199000,
          200000,
          230000,
          117500,
          115000,
          224000,
          255000,
          218400,
          186000,
          202274,
          136500,
          370000,
          199000,
          200000,
          215325,
          201126,
          220000,
          136500,
          202274,
          102304,
          124177,
          83675,
          179800,
          200000,
          199000,
          199000,
          172000,
          330000,
          190000,
          199000,
          265000,
          159000,
          75000,
          73000,
          75400,
          221000,
          265000,
          399000,
          199000,
          141060,
          150600,
          105000,
          380000,
          130340,
          207930,
          209925,
          201825,
          156600,
          172125,
          469000,
          315675,
          395000,
          117000,
          240000,
          175500,
          190000,
          176000,
          238400,
          525000,
          247544,
          284000,
          240000,
          79000,
          199000,
          159000,
          320000,
          120000,
          320000,
          82130,
          135000,
          79500,
          150000,
          2400000,
          280000,
          215000,
          185000,
          900000,
          283000,
          180000,
          219000,
          38000,
          190000,
          750000,
          185000,
          269000,
          775000,
          87499,
          192500,
          520000,
          650000,
          470000,
          638044,
          601770,
          248000,
          300000,
          360000,
          333000,
          420000,
          75000,
          440000,
          250000,
          145000,
          105000,
          340000,
          195000,
          310000,
          309000,
          110000,
          140000,
          90000,
          142000,
          160000,
          360000,
          250000,
          299000,
          410000,
          230000,
          126000,
          65000,
          235000,
          97000,
          250000,
          210000,
          90000,
          420000,
          150000,
          210000,
          210000,
          450000,
          257000,
          269000,
          140995,
          211687,
          184871,
          145483,
          38000,
          125643,
          140217,
          131833,
          101292,
          280000,
          320000,
          155000,
          390000,
          140995,
          140995,
          240000,
          270000,
          190000,
          265000,
          115000,
          290000,
          215000,
          406000,
          80000,
          150000,
          278000,
          238000,
          229000,
          330000,
          210000,
          120144,
          245000,
          330000,
          85000,
          118000,
          268000,
          126900,
          310000,
          169000,
          200000,
          65000,
          218000,
          230000,
          328000,
          222360,
          100000,
          250000,
          77850,
          122999,
          87000,
          990000,
          350000,
          399000,
          83000,
          199500,
          154000,
          195000,
          250000,
          260000,
          305000,
          300000,
          69000,
          230000,
          156000,
          80000,
          300000,
          246000,
          110000,
          160000,
          500000,
          79900,
          143000,
          299000,
          333000,
          75000,
          250000,
          123619,
          275000,
          83000,
          270000,
          120000,
          209000,
          220000,
          138000,
          237000,
          83000,
          177000,
          196000,
          196000,
          125000,
          144270,
          180000,
          287000,
          450000,
          49000,
          269000,
          159628,
          184872,
          145484,
          143620,
          220932,
          147152,
          123000,
          199000,
          60000,
          168560,
          130340,
          199773,
          130340,
          155085,
          175350,
          145000,
          220000,
          215000,
          220000,
          170000,
          170000,
          123000,
          205000,
          513000,
          565000,
          125000,
          270000,
          145000,
          175000,
          380000,
          138546,
          168861,
          135751,
          129172,
          300000,
          515000,
          477155,
          345000,
          251500,
          69000,
          190000,
          123000,
          79000,
          199900,
          78700,
          265000,
          280000,
          89000,
          406000,
          65000,
          327000,
          103000,
          455000,
          150000,
          170000,
          145000,
          90000,
          145000,
          159000,
          250000,
          69000,
          69000,
          90000,
          140000,
          169000,
          650000,
          155862,
          25000,
          180000,
          380000,
          350000,
          180000,
          213600,
          213600,
          102000,
          107000,
          78700,
          77900,
          78000,
          136400,
          107000,
          78700,
          255200,
          149000,
          300000,
          136400,
          85900,
          102000,
          107000,
          66000,
          310000,
          78700,
          188000,
          105000,
          175000,
          300000,
          590000,
          105000,
          78700,
          147000,
          330000,
          300000,
          255000,
          136400,
          200000,
          445000,
          175000,
          138000,
          160000,
          175000,
          175000,
          98000,
          300000,
          55000,
          550000,
          242000,
          79000,
          235000,
          200000,
          677775,
          750000,
          750000,
          700000,
          129000,
          116000,
          93000,
          123000,
          113000,
          185000,
          79000,
          124000,
          250000,
          180000,
          228000,
          209685,
          320000,
          237000,
          211695,
          115000,
          70000,
          180000,
          280000,
          210000,
          329000,
          165000,
          115000,
          44000,
          118000,
          51000,
          225000,
          133000,
          78000,
          55000,
          129836,
          89000,
          175000,
          100000,
          126000,
          62000,
          108000,
          100000,
          68000,
          134000,
          209000,
          103000,
          140000,
          408720,
          155000,
          154000,
          187000,
          98000,
          110000,
          165000,
          99000,
          255000,
          160000,
          245000,
          90000,
          165000,
          165000,
          160500,
          450000,
          130000,
          108000,
          119000,
          107000,
          110000,
          112000,
          130000,
          95000,
          74900,
          74900,
          70400,
          78000,
          160000,
          419000,
          137000,
          143000,
          155000,
          350000,
          140000,
          250000,
          156000,
          180000,
          140000,
          135000,
          212400,
          179000,
          103000,
          172700,
          181000,
          330000,
          350000,
          185000,
          141910,
          125000,
          148900,
          155000,
          651378,
          145000,
          174000,
          165000,
          87000,
          228000,
          389000,
          320000,
          223000,
          315000,
          135000,
          120000,
          223000,
          115000,
          75000,
          151000,
          75000,
          159000,
          369308,
          385000,
          339675,
          115000,
          180000,
          419000,
          225000,
          285000,
          225000,
          240000,
          165000,
          77000,
          250000,
          139000,
          219000,
          128000,
          336000,
          234200,
          205900,
          203000,
          59000,
          309000,
          213591,
          142128,
          142128,
          156471,
          155379,
          155379,
          156471,
          233436,
          180000,
          140000,
          170000,
          39000,
          195200,
          226643,
          180080,
          350000,
          292204,
          218000,
          140000,
          199000,
          161667,
          126307,
          126592,
          160057,
          399000,
          147568,
          179857,
          144591,
          90510,
          90510,
          125000,
          230000,
          214000,
          180000,
          194000,
          200000,
          389000,
          297000,
          189000,
          350000,
          169855,
          264000,
          375000,
          288000,
          260000,
          287600,
          286990,
          284000,
          230000,
          385000,
          240576,
          175000,
          425000,
          310000,
          275000,
          130000,
          206400,
          97000,
          244000,
          180000,
          120000,
          160000,
          240000,
          150000,
          222000,
          255000,
          523913,
          198000,
          150000,
          176893,
          130091,
          168804,
          167463,
          131590,
          280000,
          89000,
          280000,
          167000,
          75000,
          410000,
          158000,
          110000,
          120000,
          129000,
          218400,
          103500,
          475725,
          180000,
          295000,
          221760,
          206897,
          200053,
          135000,
          270000,
          200000,
          622500,
          320000,
          800000,
          169000,
          259000,
          527000,
          239943,
          500000,
          66000,
          90000,
          252200,
          80000,
          82000,
          350000,
          350000,
          150000,
          370000,
          75000,
          130000,
          400000,
          346800,
          120000,
          198435,
          250000,
          475000,
          167560,
          150000,
          260000,
          260000,
          260000,
          350000,
          140000,
          189000,
          692000,
          391500,
          261000,
          107999,
          210000,
          350000,
          59900,
          290000,
          600000,
          450000,
          285660,
          205000,
          199000,
          144999,
          134000,
          144999,
          87000,
          173024,
          120000,
          480000,
          435000,
          719000,
          267000,
          125000,
          139000,
          290000,
          82000,
          125000,
          138000,
          145000,
          130000,
          87000,
          189000,
          157000,
          190000,
          248000,
          249000,
          219000,
          269000,
          150000,
          188000,
          1290000,
          240000,
          129000,
          80000,
          830000,
          105000,
          527000,
          159000,
          360000,
          360000,
          225000,
          350000,
          142000,
          350000,
          516000,
          120000,
          570000,
          149000,
          170000,
          137379,
          87819,
          161907,
          137379,
          161907,
          104901,
          350734,
          398474,
          493892,
          510180,
          389856,
          339675,
          420000,
          142000,
          135000,
          95000,
          200000,
          170000,
          250000,
          240000,
          375000,
          330000,
          205000,
          245000,
          145000,
          125000,
          130000,
          165000,
          100000,
          155000,
          105000,
          180000,
          166500,
          80000,
          725000,
          464000,
          225000,
          250000,
          320000,
          440000,
          250000,
          520000,
          299900,
          139900,
          260000,
          215000,
          245000,
          130000,
          176500,
          157000,
          310000,
          150000,
          130000,
          140000,
          350000,
          139000,
          240000,
          200000,
          89000,
          115000,
          160000,
          182000,
          385000,
          230000,
          390000,
          215000,
          130000,
          520000,
          195000,
          210000,
          249000,
          649000,
          80000,
          128700,
          128800,
          79000,
          115000,
          121000,
          450000,
          670000,
          179000,
          130000,
          299000,
          214000,
          200000,
          256500,
          216000,
          225000,
          290000,
          288000,
          397000,
          149000,
          372560,
          119000,
          69500,
          115000,
          95000,
          200000,
          380000,
          228000,
          290000,
          285000,
          215000,
          289000,
          208000,
          185000,
          120000,
          244000,
          343000,
          900000,
          175000,
          106000,
          275000,
          275000,
          164000,
          290000,
          157000,
          269000,
          470000,
          115000,
          410000,
          145000,
          180000,
          125000,
          349000,
          179000,
          145100,
          156000,
          420000,
          144000,
          279000,
          250000,
          288000,
          500000,
          300000,
          220000,
          199000,
          115000,
          250000,
          119000,
          95000,
          205000,
          349000,
          105000,
          155000,
          66000,
          198000,
          326000,
          99000,
          170000,
          330000,
          145000,
          225000,
          139900,
          319000,
          340000,
          247000,
          155000,
          155000,
          159000,
          180000,
          275000,
          270000,
          119500,
          239900,
          135000,
          345000,
          349000,
          121000,
          180000,
          119000,
          210000,
          79000,
          215000,
          150000,
          516000,
          230000,
          154000,
          180000,
          125000,
          135000,
          210000,
          150000,
          82000,
          138000,
          180000,
          189000,
          500000,
          205000,
          307000,
          350000,
          1265000,
          302000,
          235200,
          460000,
          209000,
          264000,
          84000,
          75000,
          152100,
          152450,
          95000,
          380000,
          350000,
          94000,
          170700,
          150000,
          175000,
          75000,
          215000,
          290000,
          259000,
          1200000,
          162000,
          380000,
          250000,
          250000,
          140000,
          112000,
          154000,
          259000,
          295000,
          218000,
          141750,
          299000,
          252000,
          255000,
          297000,
          950000,
          115000,
          261000,
          166000,
          44000,
          120000,
          310000,
          295000,
          230400,
          245702,
          186384,
          168900,
          100000,
          191372,
          49000,
          109000,
          154000,
          98000,
          590000,
          129172,
          138546,
          212000,
          260000,
          489250,
          118800,
          25000,
          114400,
          320000,
          920000,
          4860000,
          82000,
          196000,
          375000,
          419000,
          320000,
          200000,
          85000,
          145000,
          85000,
          85000,
          186530,
          163000,
          280000,
          149358,
          145000,
          367705,
          417755,
          956295,
          433872,
          1802464,
          227256,
          560763,
          800745,
          809908,
          93000,
          155000,
          68000,
          139500,
          139000,
          139000,
          285000,
          225000,
          126000,
          200000,
          50000,
          129000,
          224000,
          225000,
          155000,
          143000,
          125000,
          103000,
          218000,
          112000,
          421296,
          544509,
          356175,
          807484,
          520000,
          199000,
          250000,
          200000,
          199000,
          134400,
          130000,
          133000,
          80000,
          62000,
          150000,
          197000,
          140000,
          379000,
          275000,
          139000,
          157000,
          169000,
          120000,
          123000,
          167000,
          170000,
          75000,
          123000,
          140000,
          450000,
          70000,
          200000,
          285000,
          450000,
          299000,
          70000,
          125000,
          108000,
          160000,
          77000,
          88000,
          807484,
          398474,
          493892,
          350734,
          408720,
          433872,
          367705,
          517790,
          417755,
          1802464,
          389856,
          800745,
          544509,
          421296,
          560763,
          299000,
          299000,
          235000,
          108000,
          83000,
          115000,
          150000,
          206000,
          155000,
          93000,
          217000,
          170000,
          199000,
          146151,
          99900,
          189000,
          139990,
          203840,
          145000,
          140000,
          300000,
          229000,
          539048,
          165000,
          380000,
          240000,
          240000,
          310000,
          200000,
          120000,
          127000,
          165000,
          144000,
          185000,
          250000,
          192000,
          315000,
          138000,
          221000,
          280000,
          115000,
          53000,
          280000,
          122000,
          271000,
          155000,
          124000,
          183000,
          230000,
          205000,
          205000,
          189000,
          213000,
          135000,
          240000,
          170000,
          122000,
          307000,
          240000,
          79000,
          169000,
          160000,
          155000,
          580000,
          105000,
          163000,
          150000,
          257300,
          115000,
          337000,
          140000,
          270000,
          149000,
          149000,
          330000,
          140000,
          118700,
          299000,
          299000,
          239450,
          237525,
          220500,
          211350,
          220500,
          149125,
          211350,
          239450,
          125000,
          270000,
          136800,
          160000,
          120000,
          399000,
          163284,
          410000,
          140000,
          188730,
          118000,
          158000,
          237000,
          150000,
          370000,
          170000,
          130000,
          120000,
          220000,
          160000,
          330000,
          175000,
          399000,
          173575,
          114000,
          35800,
          137500,
          225000,
          48000,
          326000,
          330000,
          135000,
          120000,
          63000,
          320000,
          191000,
          159000,
          140206,
          180818,
          180818,
          167200,
          115000,
          388000,
          260000,
          147000,
          115500,
          70000,
          150000,
          310000,
          280000,
          200000,
          125000,
          650000,
          100000,
          555000,
          200000,
          200000,
          99000,
          480000,
          145000,
          160000,
          260000,
          205000,
          89000,
          96000,
          255000,
          115000,
          140000,
          300000,
          299000,
          140000,
          330000,
          344000,
          122000,
          118000,
          230000,
          147000,
          129000,
          169900,
          149900,
          149900,
          169900,
          148625,
          175000,
          70000,
          100000,
          99000,
          177000,
          167000,
          68000,
          150000,
          155500,
          185000,
          105000,
          260000,
          107000,
          380000,
          162773,
          150000,
          229000,
          229000,
          125000,
          220000,
          165000,
          125000,
          310000,
          152630,
          111590,
          119900,
          125000,
          349000,
          190000,
          180000,
          149000,
          380000,
          195000,
          190000,
          750000,
          490000,
          239000,
          180000,
          190000,
          160000,
          230400,
          340000,
          340000,
          155000,
          460000,
          500000,
          190000,
          148000,
          105000,
          107000,
          77500,
          156000,
          97000,
          500000,
          197000,
          425000,
          220500,
          990000,
          78000,
          130000,
          299000,
          590000,
          49900,
          266800,
          90000,
          990000,
          219000,
          135000,
          218000,
          90000,
          290000,
          380000,
          310000,
          270000,
          113540,
          169000,
          168861,
          990000,
          216000,
          189000,
          380000,
          98000,
          250000,
          170000,
          310000,
          129000,
          209058,
          150526,
          226023,
          212415,
          224613,
          123000,
          295000,
          250000,
          260000,
          73000,
          150000,
          155000,
          93000,
          125000,
          138546,
          119000,
          370000,
          95000,
          250000,
          499000,
          95500,
          177000,
          158700,
          285000,
          120000,
          45000,
          149900,
          125000,
          260000,
          240000,
          140000,
          283000,
          144000,
          175000,
          264000,
          187000,
          112000,
          145500,
          460000,
          155000,
          180000,
          105000,
          273000,
          237000,
          78000,
          199900,
          270000,
          500000,
          150000,
          133000,
          172800,
          157500,
          294000,
          275000,
          170000,
          285000,
          135751,
          168861,
          135751,
          135751,
          160000,
          350000,
          375000,
          210000,
          130000,
          134000,
          134000,
          292204,
          180000,
          128000,
          185000,
          140000,
          66000,
          29900,
          160000,
          179500,
          180000,
          320000,
          180000,
          343400,
          352800,
          160000,
          195000,
          110000,
          125000,
          181500,
          154350,
          115000,
          240000,
          155000,
          80000,
          125000,
          270000,
          115000,
          250000,
          99000,
          85000,
          120000,
          161250,
          83000,
          159000,
          120000,
          163200,
          330000,
          99000,
          59000,
          449000,
          121500,
          95000,
          206896,
          213708,
          199980,
          155000,
          185000,
          151000,
          220000,
          140000,
          105000
         ],
         "xaxis": "x",
         "yaxis": "y"
        }
       ],
       "layout": {
        "barmode": "relative",
        "legend": {
         "tracegroupgap": 0
        },
        "margin": {
         "t": 60
        },
        "template": {
         "data": {
          "bar": [
           {
            "error_x": {
             "color": "#2a3f5f"
            },
            "error_y": {
             "color": "#2a3f5f"
            },
            "marker": {
             "line": {
              "color": "#E5ECF6",
              "width": 0.5
             },
             "pattern": {
              "fillmode": "overlay",
              "size": 10,
              "solidity": 0.2
             }
            },
            "type": "bar"
           }
          ],
          "barpolar": [
           {
            "marker": {
             "line": {
              "color": "#E5ECF6",
              "width": 0.5
             },
             "pattern": {
              "fillmode": "overlay",
              "size": 10,
              "solidity": 0.2
             }
            },
            "type": "barpolar"
           }
          ],
          "carpet": [
           {
            "aaxis": {
             "endlinecolor": "#2a3f5f",
             "gridcolor": "white",
             "linecolor": "white",
             "minorgridcolor": "white",
             "startlinecolor": "#2a3f5f"
            },
            "baxis": {
             "endlinecolor": "#2a3f5f",
             "gridcolor": "white",
             "linecolor": "white",
             "minorgridcolor": "white",
             "startlinecolor": "#2a3f5f"
            },
            "type": "carpet"
           }
          ],
          "choropleth": [
           {
            "colorbar": {
             "outlinewidth": 0,
             "ticks": ""
            },
            "type": "choropleth"
           }
          ],
          "contour": [
           {
            "colorbar": {
             "outlinewidth": 0,
             "ticks": ""
            },
            "colorscale": [
             [
              0,
              "#0d0887"
             ],
             [
              0.1111111111111111,
              "#46039f"
             ],
             [
              0.2222222222222222,
              "#7201a8"
             ],
             [
              0.3333333333333333,
              "#9c179e"
             ],
             [
              0.4444444444444444,
              "#bd3786"
             ],
             [
              0.5555555555555556,
              "#d8576b"
             ],
             [
              0.6666666666666666,
              "#ed7953"
             ],
             [
              0.7777777777777778,
              "#fb9f3a"
             ],
             [
              0.8888888888888888,
              "#fdca26"
             ],
             [
              1,
              "#f0f921"
             ]
            ],
            "type": "contour"
           }
          ],
          "contourcarpet": [
           {
            "colorbar": {
             "outlinewidth": 0,
             "ticks": ""
            },
            "type": "contourcarpet"
           }
          ],
          "heatmap": [
           {
            "colorbar": {
             "outlinewidth": 0,
             "ticks": ""
            },
            "colorscale": [
             [
              0,
              "#0d0887"
             ],
             [
              0.1111111111111111,
              "#46039f"
             ],
             [
              0.2222222222222222,
              "#7201a8"
             ],
             [
              0.3333333333333333,
              "#9c179e"
             ],
             [
              0.4444444444444444,
              "#bd3786"
             ],
             [
              0.5555555555555556,
              "#d8576b"
             ],
             [
              0.6666666666666666,
              "#ed7953"
             ],
             [
              0.7777777777777778,
              "#fb9f3a"
             ],
             [
              0.8888888888888888,
              "#fdca26"
             ],
             [
              1,
              "#f0f921"
             ]
            ],
            "type": "heatmap"
           }
          ],
          "heatmapgl": [
           {
            "colorbar": {
             "outlinewidth": 0,
             "ticks": ""
            },
            "colorscale": [
             [
              0,
              "#0d0887"
             ],
             [
              0.1111111111111111,
              "#46039f"
             ],
             [
              0.2222222222222222,
              "#7201a8"
             ],
             [
              0.3333333333333333,
              "#9c179e"
             ],
             [
              0.4444444444444444,
              "#bd3786"
             ],
             [
              0.5555555555555556,
              "#d8576b"
             ],
             [
              0.6666666666666666,
              "#ed7953"
             ],
             [
              0.7777777777777778,
              "#fb9f3a"
             ],
             [
              0.8888888888888888,
              "#fdca26"
             ],
             [
              1,
              "#f0f921"
             ]
            ],
            "type": "heatmapgl"
           }
          ],
          "histogram": [
           {
            "marker": {
             "pattern": {
              "fillmode": "overlay",
              "size": 10,
              "solidity": 0.2
             }
            },
            "type": "histogram"
           }
          ],
          "histogram2d": [
           {
            "colorbar": {
             "outlinewidth": 0,
             "ticks": ""
            },
            "colorscale": [
             [
              0,
              "#0d0887"
             ],
             [
              0.1111111111111111,
              "#46039f"
             ],
             [
              0.2222222222222222,
              "#7201a8"
             ],
             [
              0.3333333333333333,
              "#9c179e"
             ],
             [
              0.4444444444444444,
              "#bd3786"
             ],
             [
              0.5555555555555556,
              "#d8576b"
             ],
             [
              0.6666666666666666,
              "#ed7953"
             ],
             [
              0.7777777777777778,
              "#fb9f3a"
             ],
             [
              0.8888888888888888,
              "#fdca26"
             ],
             [
              1,
              "#f0f921"
             ]
            ],
            "type": "histogram2d"
           }
          ],
          "histogram2dcontour": [
           {
            "colorbar": {
             "outlinewidth": 0,
             "ticks": ""
            },
            "colorscale": [
             [
              0,
              "#0d0887"
             ],
             [
              0.1111111111111111,
              "#46039f"
             ],
             [
              0.2222222222222222,
              "#7201a8"
             ],
             [
              0.3333333333333333,
              "#9c179e"
             ],
             [
              0.4444444444444444,
              "#bd3786"
             ],
             [
              0.5555555555555556,
              "#d8576b"
             ],
             [
              0.6666666666666666,
              "#ed7953"
             ],
             [
              0.7777777777777778,
              "#fb9f3a"
             ],
             [
              0.8888888888888888,
              "#fdca26"
             ],
             [
              1,
              "#f0f921"
             ]
            ],
            "type": "histogram2dcontour"
           }
          ],
          "mesh3d": [
           {
            "colorbar": {
             "outlinewidth": 0,
             "ticks": ""
            },
            "type": "mesh3d"
           }
          ],
          "parcoords": [
           {
            "line": {
             "colorbar": {
              "outlinewidth": 0,
              "ticks": ""
             }
            },
            "type": "parcoords"
           }
          ],
          "pie": [
           {
            "automargin": true,
            "type": "pie"
           }
          ],
          "scatter": [
           {
            "marker": {
             "colorbar": {
              "outlinewidth": 0,
              "ticks": ""
             }
            },
            "type": "scatter"
           }
          ],
          "scatter3d": [
           {
            "line": {
             "colorbar": {
              "outlinewidth": 0,
              "ticks": ""
             }
            },
            "marker": {
             "colorbar": {
              "outlinewidth": 0,
              "ticks": ""
             }
            },
            "type": "scatter3d"
           }
          ],
          "scattercarpet": [
           {
            "marker": {
             "colorbar": {
              "outlinewidth": 0,
              "ticks": ""
             }
            },
            "type": "scattercarpet"
           }
          ],
          "scattergeo": [
           {
            "marker": {
             "colorbar": {
              "outlinewidth": 0,
              "ticks": ""
             }
            },
            "type": "scattergeo"
           }
          ],
          "scattergl": [
           {
            "marker": {
             "colorbar": {
              "outlinewidth": 0,
              "ticks": ""
             }
            },
            "type": "scattergl"
           }
          ],
          "scattermapbox": [
           {
            "marker": {
             "colorbar": {
              "outlinewidth": 0,
              "ticks": ""
             }
            },
            "type": "scattermapbox"
           }
          ],
          "scatterpolar": [
           {
            "marker": {
             "colorbar": {
              "outlinewidth": 0,
              "ticks": ""
             }
            },
            "type": "scatterpolar"
           }
          ],
          "scatterpolargl": [
           {
            "marker": {
             "colorbar": {
              "outlinewidth": 0,
              "ticks": ""
             }
            },
            "type": "scatterpolargl"
           }
          ],
          "scatterternary": [
           {
            "marker": {
             "colorbar": {
              "outlinewidth": 0,
              "ticks": ""
             }
            },
            "type": "scatterternary"
           }
          ],
          "surface": [
           {
            "colorbar": {
             "outlinewidth": 0,
             "ticks": ""
            },
            "colorscale": [
             [
              0,
              "#0d0887"
             ],
             [
              0.1111111111111111,
              "#46039f"
             ],
             [
              0.2222222222222222,
              "#7201a8"
             ],
             [
              0.3333333333333333,
              "#9c179e"
             ],
             [
              0.4444444444444444,
              "#bd3786"
             ],
             [
              0.5555555555555556,
              "#d8576b"
             ],
             [
              0.6666666666666666,
              "#ed7953"
             ],
             [
              0.7777777777777778,
              "#fb9f3a"
             ],
             [
              0.8888888888888888,
              "#fdca26"
             ],
             [
              1,
              "#f0f921"
             ]
            ],
            "type": "surface"
           }
          ],
          "table": [
           {
            "cells": {
             "fill": {
              "color": "#EBF0F8"
             },
             "line": {
              "color": "white"
             }
            },
            "header": {
             "fill": {
              "color": "#C8D4E3"
             },
             "line": {
              "color": "white"
             }
            },
            "type": "table"
           }
          ]
         },
         "layout": {
          "annotationdefaults": {
           "arrowcolor": "#2a3f5f",
           "arrowhead": 0,
           "arrowwidth": 1
          },
          "autotypenumbers": "strict",
          "coloraxis": {
           "colorbar": {
            "outlinewidth": 0,
            "ticks": ""
           }
          },
          "colorscale": {
           "diverging": [
            [
             0,
             "#8e0152"
            ],
            [
             0.1,
             "#c51b7d"
            ],
            [
             0.2,
             "#de77ae"
            ],
            [
             0.3,
             "#f1b6da"
            ],
            [
             0.4,
             "#fde0ef"
            ],
            [
             0.5,
             "#f7f7f7"
            ],
            [
             0.6,
             "#e6f5d0"
            ],
            [
             0.7,
             "#b8e186"
            ],
            [
             0.8,
             "#7fbc41"
            ],
            [
             0.9,
             "#4d9221"
            ],
            [
             1,
             "#276419"
            ]
           ],
           "sequential": [
            [
             0,
             "#0d0887"
            ],
            [
             0.1111111111111111,
             "#46039f"
            ],
            [
             0.2222222222222222,
             "#7201a8"
            ],
            [
             0.3333333333333333,
             "#9c179e"
            ],
            [
             0.4444444444444444,
             "#bd3786"
            ],
            [
             0.5555555555555556,
             "#d8576b"
            ],
            [
             0.6666666666666666,
             "#ed7953"
            ],
            [
             0.7777777777777778,
             "#fb9f3a"
            ],
            [
             0.8888888888888888,
             "#fdca26"
            ],
            [
             1,
             "#f0f921"
            ]
           ],
           "sequentialminus": [
            [
             0,
             "#0d0887"
            ],
            [
             0.1111111111111111,
             "#46039f"
            ],
            [
             0.2222222222222222,
             "#7201a8"
            ],
            [
             0.3333333333333333,
             "#9c179e"
            ],
            [
             0.4444444444444444,
             "#bd3786"
            ],
            [
             0.5555555555555556,
             "#d8576b"
            ],
            [
             0.6666666666666666,
             "#ed7953"
            ],
            [
             0.7777777777777778,
             "#fb9f3a"
            ],
            [
             0.8888888888888888,
             "#fdca26"
            ],
            [
             1,
             "#f0f921"
            ]
           ]
          },
          "colorway": [
           "#636efa",
           "#EF553B",
           "#00cc96",
           "#ab63fa",
           "#FFA15A",
           "#19d3f3",
           "#FF6692",
           "#B6E880",
           "#FF97FF",
           "#FECB52"
          ],
          "font": {
           "color": "#2a3f5f"
          },
          "geo": {
           "bgcolor": "white",
           "lakecolor": "white",
           "landcolor": "#E5ECF6",
           "showlakes": true,
           "showland": true,
           "subunitcolor": "white"
          },
          "hoverlabel": {
           "align": "left"
          },
          "hovermode": "closest",
          "mapbox": {
           "style": "light"
          },
          "paper_bgcolor": "white",
          "plot_bgcolor": "#E5ECF6",
          "polar": {
           "angularaxis": {
            "gridcolor": "white",
            "linecolor": "white",
            "ticks": ""
           },
           "bgcolor": "#E5ECF6",
           "radialaxis": {
            "gridcolor": "white",
            "linecolor": "white",
            "ticks": ""
           }
          },
          "scene": {
           "xaxis": {
            "backgroundcolor": "#E5ECF6",
            "gridcolor": "white",
            "gridwidth": 2,
            "linecolor": "white",
            "showbackground": true,
            "ticks": "",
            "zerolinecolor": "white"
           },
           "yaxis": {
            "backgroundcolor": "#E5ECF6",
            "gridcolor": "white",
            "gridwidth": 2,
            "linecolor": "white",
            "showbackground": true,
            "ticks": "",
            "zerolinecolor": "white"
           },
           "zaxis": {
            "backgroundcolor": "#E5ECF6",
            "gridcolor": "white",
            "gridwidth": 2,
            "linecolor": "white",
            "showbackground": true,
            "ticks": "",
            "zerolinecolor": "white"
           }
          },
          "shapedefaults": {
           "line": {
            "color": "#2a3f5f"
           }
          },
          "ternary": {
           "aaxis": {
            "gridcolor": "white",
            "linecolor": "white",
            "ticks": ""
           },
           "baxis": {
            "gridcolor": "white",
            "linecolor": "white",
            "ticks": ""
           },
           "bgcolor": "#E5ECF6",
           "caxis": {
            "gridcolor": "white",
            "linecolor": "white",
            "ticks": ""
           }
          },
          "title": {
           "x": 0.05
          },
          "xaxis": {
           "automargin": true,
           "gridcolor": "white",
           "linecolor": "white",
           "ticks": "",
           "title": {
            "standoff": 15
           },
           "zerolinecolor": "white",
           "zerolinewidth": 2
          },
          "yaxis": {
           "automargin": true,
           "gridcolor": "white",
           "linecolor": "white",
           "ticks": "",
           "title": {
            "standoff": 15
           },
           "zerolinecolor": "white",
           "zerolinewidth": 2
          }
         }
        },
        "xaxis": {
         "anchor": "y",
         "domain": [
          0,
          1
         ],
         "title": {
          "text": "Cijena"
         }
        },
        "yaxis": {
         "anchor": "x",
         "domain": [
          0,
          1
         ],
         "title": {
          "text": "count"
         }
        }
       }
      }
     },
     "metadata": {},
     "output_type": "display_data"
    }
   ],
   "source": [
    "fig = px.histogram(df, x=\"Cijena\")\n",
    "fig"
   ]
  },
  {
   "cell_type": "code",
   "execution_count": 2,
   "metadata": {},
   "outputs": [
    {
     "data": {
      "text/html": [
       "<div>\n",
       "<style scoped>\n",
       "    .dataframe tbody tr th:only-of-type {\n",
       "        vertical-align: middle;\n",
       "    }\n",
       "\n",
       "    .dataframe tbody tr th {\n",
       "        vertical-align: top;\n",
       "    }\n",
       "\n",
       "    .dataframe thead th {\n",
       "        text-align: right;\n",
       "    }\n",
       "</style>\n",
       "<table border=\"1\" class=\"dataframe\">\n",
       "  <thead>\n",
       "    <tr style=\"text-align: right;\">\n",
       "      <th></th>\n",
       "      <th>Unnamed: 0</th>\n",
       "      <th>city</th>\n",
       "      <th>calendar_week</th>\n",
       "      <th>raw_entries</th>\n",
       "      <th>clean_entries</th>\n",
       "      <th>avg_price_sqrm</th>\n",
       "      <th>avg_size</th>\n",
       "      <th>avg_year</th>\n",
       "    </tr>\n",
       "  </thead>\n",
       "  <tbody>\n",
       "    <tr>\n",
       "      <th>0</th>\n",
       "      <td>0</td>\n",
       "      <td>Rovinj</td>\n",
       "      <td>30</td>\n",
       "      <td>544</td>\n",
       "      <td>337</td>\n",
       "      <td>4279</td>\n",
       "      <td>91</td>\n",
       "      <td>1900</td>\n",
       "    </tr>\n",
       "    <tr>\n",
       "      <th>1</th>\n",
       "      <td>1</td>\n",
       "      <td>Zagreb</td>\n",
       "      <td>30</td>\n",
       "      <td>5836</td>\n",
       "      <td>4122</td>\n",
       "      <td>2616</td>\n",
       "      <td>92</td>\n",
       "      <td>2022</td>\n",
       "    </tr>\n",
       "    <tr>\n",
       "      <th>2</th>\n",
       "      <td>2</td>\n",
       "      <td>Varazdin</td>\n",
       "      <td>31</td>\n",
       "      <td>100</td>\n",
       "      <td>54</td>\n",
       "      <td>1735</td>\n",
       "      <td>66</td>\n",
       "      <td>1968</td>\n",
       "    </tr>\n",
       "    <tr>\n",
       "      <th>3</th>\n",
       "      <td>3</td>\n",
       "      <td>Varazdin</td>\n",
       "      <td>32</td>\n",
       "      <td>100</td>\n",
       "      <td>56</td>\n",
       "      <td>1740</td>\n",
       "      <td>67</td>\n",
       "      <td>1968</td>\n",
       "    </tr>\n",
       "    <tr>\n",
       "      <th>4</th>\n",
       "      <td>4</td>\n",
       "      <td>Zagreb</td>\n",
       "      <td>32</td>\n",
       "      <td>5966</td>\n",
       "      <td>4138</td>\n",
       "      <td>2635</td>\n",
       "      <td>92</td>\n",
       "      <td>2022</td>\n",
       "    </tr>\n",
       "    <tr>\n",
       "      <th>5</th>\n",
       "      <td>5</td>\n",
       "      <td>Varazdin</td>\n",
       "      <td>32</td>\n",
       "      <td>100</td>\n",
       "      <td>53</td>\n",
       "      <td>1737</td>\n",
       "      <td>67</td>\n",
       "      <td>1968</td>\n",
       "    </tr>\n",
       "    <tr>\n",
       "      <th>6</th>\n",
       "      <td>6</td>\n",
       "      <td>Rijeka</td>\n",
       "      <td>33</td>\n",
       "      <td>1779</td>\n",
       "      <td>1319</td>\n",
       "      <td>1996</td>\n",
       "      <td>92</td>\n",
       "      <td>2020</td>\n",
       "    </tr>\n",
       "    <tr>\n",
       "      <th>7</th>\n",
       "      <td>7</td>\n",
       "      <td>Rovinj</td>\n",
       "      <td>33</td>\n",
       "      <td>569</td>\n",
       "      <td>337</td>\n",
       "      <td>4240</td>\n",
       "      <td>94</td>\n",
       "      <td>1900</td>\n",
       "    </tr>\n",
       "    <tr>\n",
       "      <th>8</th>\n",
       "      <td>8</td>\n",
       "      <td>Split</td>\n",
       "      <td>33</td>\n",
       "      <td>656</td>\n",
       "      <td>570</td>\n",
       "      <td>3616</td>\n",
       "      <td>85</td>\n",
       "      <td>2000</td>\n",
       "    </tr>\n",
       "    <tr>\n",
       "      <th>9</th>\n",
       "      <td>9</td>\n",
       "      <td>Varazdin</td>\n",
       "      <td>33</td>\n",
       "      <td>100</td>\n",
       "      <td>51</td>\n",
       "      <td>1813</td>\n",
       "      <td>77</td>\n",
       "      <td>2023</td>\n",
       "    </tr>\n",
       "    <tr>\n",
       "      <th>10</th>\n",
       "      <td>10</td>\n",
       "      <td>Zagreb</td>\n",
       "      <td>33</td>\n",
       "      <td>2317</td>\n",
       "      <td>1617</td>\n",
       "      <td>2651</td>\n",
       "      <td>92</td>\n",
       "      <td>2022</td>\n",
       "    </tr>\n",
       "    <tr>\n",
       "      <th>11</th>\n",
       "      <td>11</td>\n",
       "      <td>Rovinj</td>\n",
       "      <td>34</td>\n",
       "      <td>572</td>\n",
       "      <td>329</td>\n",
       "      <td>4240</td>\n",
       "      <td>94</td>\n",
       "      <td>1900</td>\n",
       "    </tr>\n",
       "    <tr>\n",
       "      <th>12</th>\n",
       "      <td>12</td>\n",
       "      <td>Split</td>\n",
       "      <td>34</td>\n",
       "      <td>661</td>\n",
       "      <td>570</td>\n",
       "      <td>3647</td>\n",
       "      <td>85</td>\n",
       "      <td>2000</td>\n",
       "    </tr>\n",
       "    <tr>\n",
       "      <th>13</th>\n",
       "      <td>13</td>\n",
       "      <td>Varazdin</td>\n",
       "      <td>34</td>\n",
       "      <td>100</td>\n",
       "      <td>51</td>\n",
       "      <td>1816</td>\n",
       "      <td>77</td>\n",
       "      <td>2023</td>\n",
       "    </tr>\n",
       "    <tr>\n",
       "      <th>14</th>\n",
       "      <td>14</td>\n",
       "      <td>Zagreb</td>\n",
       "      <td>34</td>\n",
       "      <td>5939</td>\n",
       "      <td>4082</td>\n",
       "      <td>2660</td>\n",
       "      <td>92</td>\n",
       "      <td>2022</td>\n",
       "    </tr>\n",
       "    <tr>\n",
       "      <th>15</th>\n",
       "      <td>15</td>\n",
       "      <td>Rovinj</td>\n",
       "      <td>35</td>\n",
       "      <td>562</td>\n",
       "      <td>325</td>\n",
       "      <td>4275</td>\n",
       "      <td>94</td>\n",
       "      <td>1900</td>\n",
       "    </tr>\n",
       "    <tr>\n",
       "      <th>16</th>\n",
       "      <td>16</td>\n",
       "      <td>Varazdin</td>\n",
       "      <td>35</td>\n",
       "      <td>100</td>\n",
       "      <td>53</td>\n",
       "      <td>1799</td>\n",
       "      <td>76</td>\n",
       "      <td>2023</td>\n",
       "    </tr>\n",
       "    <tr>\n",
       "      <th>17</th>\n",
       "      <td>17</td>\n",
       "      <td>Rijeka</td>\n",
       "      <td>35</td>\n",
       "      <td>5151</td>\n",
       "      <td>3732</td>\n",
       "      <td>2002</td>\n",
       "      <td>92</td>\n",
       "      <td>2020</td>\n",
       "    </tr>\n",
       "    <tr>\n",
       "      <th>18</th>\n",
       "      <td>18</td>\n",
       "      <td>Rovinj</td>\n",
       "      <td>35</td>\n",
       "      <td>565</td>\n",
       "      <td>322</td>\n",
       "      <td>4276</td>\n",
       "      <td>94</td>\n",
       "      <td>1900</td>\n",
       "    </tr>\n",
       "    <tr>\n",
       "      <th>19</th>\n",
       "      <td>19</td>\n",
       "      <td>Split</td>\n",
       "      <td>35</td>\n",
       "      <td>630</td>\n",
       "      <td>550</td>\n",
       "      <td>3678</td>\n",
       "      <td>85</td>\n",
       "      <td>2000</td>\n",
       "    </tr>\n",
       "    <tr>\n",
       "      <th>20</th>\n",
       "      <td>20</td>\n",
       "      <td>Varazdin</td>\n",
       "      <td>35</td>\n",
       "      <td>100</td>\n",
       "      <td>50</td>\n",
       "      <td>1816</td>\n",
       "      <td>78</td>\n",
       "      <td>2023</td>\n",
       "    </tr>\n",
       "    <tr>\n",
       "      <th>21</th>\n",
       "      <td>21</td>\n",
       "      <td>Rijeka</td>\n",
       "      <td>36</td>\n",
       "      <td>5127</td>\n",
       "      <td>3666</td>\n",
       "      <td>2008</td>\n",
       "      <td>92</td>\n",
       "      <td>2020</td>\n",
       "    </tr>\n",
       "    <tr>\n",
       "      <th>22</th>\n",
       "      <td>22</td>\n",
       "      <td>Split</td>\n",
       "      <td>36</td>\n",
       "      <td>616</td>\n",
       "      <td>532</td>\n",
       "      <td>3684</td>\n",
       "      <td>86</td>\n",
       "      <td>2000</td>\n",
       "    </tr>\n",
       "    <tr>\n",
       "      <th>23</th>\n",
       "      <td>23</td>\n",
       "      <td>Varazdin</td>\n",
       "      <td>36</td>\n",
       "      <td>100</td>\n",
       "      <td>56</td>\n",
       "      <td>1876</td>\n",
       "      <td>79</td>\n",
       "      <td>2022</td>\n",
       "    </tr>\n",
       "    <tr>\n",
       "      <th>24</th>\n",
       "      <td>24</td>\n",
       "      <td>Zagreb</td>\n",
       "      <td>36</td>\n",
       "      <td>5915</td>\n",
       "      <td>3940</td>\n",
       "      <td>2681</td>\n",
       "      <td>92</td>\n",
       "      <td>2022</td>\n",
       "    </tr>\n",
       "    <tr>\n",
       "      <th>25</th>\n",
       "      <td>25</td>\n",
       "      <td>Rovinj</td>\n",
       "      <td>36</td>\n",
       "      <td>427</td>\n",
       "      <td>234</td>\n",
       "      <td>4393</td>\n",
       "      <td>92</td>\n",
       "      <td>1900</td>\n",
       "    </tr>\n",
       "    <tr>\n",
       "      <th>26</th>\n",
       "      <td>26</td>\n",
       "      <td>Varazdin</td>\n",
       "      <td>37</td>\n",
       "      <td>100</td>\n",
       "      <td>52</td>\n",
       "      <td>1773</td>\n",
       "      <td>79</td>\n",
       "      <td>2022</td>\n",
       "    </tr>\n",
       "    <tr>\n",
       "      <th>27</th>\n",
       "      <td>27</td>\n",
       "      <td>Split</td>\n",
       "      <td>37</td>\n",
       "      <td>608</td>\n",
       "      <td>524</td>\n",
       "      <td>3696</td>\n",
       "      <td>86</td>\n",
       "      <td>2000</td>\n",
       "    </tr>\n",
       "    <tr>\n",
       "      <th>28</th>\n",
       "      <td>28</td>\n",
       "      <td>Rovinj</td>\n",
       "      <td>37</td>\n",
       "      <td>571</td>\n",
       "      <td>319</td>\n",
       "      <td>4315</td>\n",
       "      <td>94</td>\n",
       "      <td>1900</td>\n",
       "    </tr>\n",
       "    <tr>\n",
       "      <th>29</th>\n",
       "      <td>29</td>\n",
       "      <td>Rijeka</td>\n",
       "      <td>37</td>\n",
       "      <td>5054</td>\n",
       "      <td>3569</td>\n",
       "      <td>2017</td>\n",
       "      <td>92</td>\n",
       "      <td>2020</td>\n",
       "    </tr>\n",
       "    <tr>\n",
       "      <th>30</th>\n",
       "      <td>30</td>\n",
       "      <td>Zagreb</td>\n",
       "      <td>37</td>\n",
       "      <td>5977</td>\n",
       "      <td>3930</td>\n",
       "      <td>2688</td>\n",
       "      <td>92</td>\n",
       "      <td>2022</td>\n",
       "    </tr>\n",
       "    <tr>\n",
       "      <th>31</th>\n",
       "      <td>31</td>\n",
       "      <td>Varazdin</td>\n",
       "      <td>38</td>\n",
       "      <td>100</td>\n",
       "      <td>57</td>\n",
       "      <td>2167</td>\n",
       "      <td>89</td>\n",
       "      <td>2023</td>\n",
       "    </tr>\n",
       "    <tr>\n",
       "      <th>32</th>\n",
       "      <td>32</td>\n",
       "      <td>Rovinj</td>\n",
       "      <td>38</td>\n",
       "      <td>570</td>\n",
       "      <td>310</td>\n",
       "      <td>4351</td>\n",
       "      <td>94</td>\n",
       "      <td>1900</td>\n",
       "    </tr>\n",
       "    <tr>\n",
       "      <th>33</th>\n",
       "      <td>33</td>\n",
       "      <td>Varazdin</td>\n",
       "      <td>39</td>\n",
       "      <td>100</td>\n",
       "      <td>53</td>\n",
       "      <td>2099</td>\n",
       "      <td>84</td>\n",
       "      <td>1965</td>\n",
       "    </tr>\n",
       "    <tr>\n",
       "      <th>34</th>\n",
       "      <td>34</td>\n",
       "      <td>Split</td>\n",
       "      <td>39</td>\n",
       "      <td>582</td>\n",
       "      <td>498</td>\n",
       "      <td>3684</td>\n",
       "      <td>86</td>\n",
       "      <td>2000</td>\n",
       "    </tr>\n",
       "    <tr>\n",
       "      <th>35</th>\n",
       "      <td>35</td>\n",
       "      <td>Rovinj</td>\n",
       "      <td>39</td>\n",
       "      <td>555</td>\n",
       "      <td>299</td>\n",
       "      <td>4370</td>\n",
       "      <td>95</td>\n",
       "      <td>2023</td>\n",
       "    </tr>\n",
       "  </tbody>\n",
       "</table>\n",
       "</div>"
      ],
      "text/plain": [
       "    Unnamed: 0      city  calendar_week  raw_entries  clean_entries  \\\n",
       "0            0    Rovinj             30          544            337   \n",
       "1            1    Zagreb             30         5836           4122   \n",
       "2            2  Varazdin             31          100             54   \n",
       "3            3  Varazdin             32          100             56   \n",
       "4            4    Zagreb             32         5966           4138   \n",
       "5            5  Varazdin             32          100             53   \n",
       "6            6    Rijeka             33         1779           1319   \n",
       "7            7    Rovinj             33          569            337   \n",
       "8            8     Split             33          656            570   \n",
       "9            9  Varazdin             33          100             51   \n",
       "10          10    Zagreb             33         2317           1617   \n",
       "11          11    Rovinj             34          572            329   \n",
       "12          12     Split             34          661            570   \n",
       "13          13  Varazdin             34          100             51   \n",
       "14          14    Zagreb             34         5939           4082   \n",
       "15          15    Rovinj             35          562            325   \n",
       "16          16  Varazdin             35          100             53   \n",
       "17          17    Rijeka             35         5151           3732   \n",
       "18          18    Rovinj             35          565            322   \n",
       "19          19     Split             35          630            550   \n",
       "20          20  Varazdin             35          100             50   \n",
       "21          21    Rijeka             36         5127           3666   \n",
       "22          22     Split             36          616            532   \n",
       "23          23  Varazdin             36          100             56   \n",
       "24          24    Zagreb             36         5915           3940   \n",
       "25          25    Rovinj             36          427            234   \n",
       "26          26  Varazdin             37          100             52   \n",
       "27          27     Split             37          608            524   \n",
       "28          28    Rovinj             37          571            319   \n",
       "29          29    Rijeka             37         5054           3569   \n",
       "30          30    Zagreb             37         5977           3930   \n",
       "31          31  Varazdin             38          100             57   \n",
       "32          32    Rovinj             38          570            310   \n",
       "33          33  Varazdin             39          100             53   \n",
       "34          34     Split             39          582            498   \n",
       "35          35    Rovinj             39          555            299   \n",
       "\n",
       "    avg_price_sqrm  avg_size  avg_year  \n",
       "0             4279        91      1900  \n",
       "1             2616        92      2022  \n",
       "2             1735        66      1968  \n",
       "3             1740        67      1968  \n",
       "4             2635        92      2022  \n",
       "5             1737        67      1968  \n",
       "6             1996        92      2020  \n",
       "7             4240        94      1900  \n",
       "8             3616        85      2000  \n",
       "9             1813        77      2023  \n",
       "10            2651        92      2022  \n",
       "11            4240        94      1900  \n",
       "12            3647        85      2000  \n",
       "13            1816        77      2023  \n",
       "14            2660        92      2022  \n",
       "15            4275        94      1900  \n",
       "16            1799        76      2023  \n",
       "17            2002        92      2020  \n",
       "18            4276        94      1900  \n",
       "19            3678        85      2000  \n",
       "20            1816        78      2023  \n",
       "21            2008        92      2020  \n",
       "22            3684        86      2000  \n",
       "23            1876        79      2022  \n",
       "24            2681        92      2022  \n",
       "25            4393        92      1900  \n",
       "26            1773        79      2022  \n",
       "27            3696        86      2000  \n",
       "28            4315        94      1900  \n",
       "29            2017        92      2020  \n",
       "30            2688        92      2022  \n",
       "31            2167        89      2023  \n",
       "32            4351        94      1900  \n",
       "33            2099        84      1965  \n",
       "34            3684        86      2000  \n",
       "35            4370        95      2023  "
      ]
     },
     "execution_count": 2,
     "metadata": {},
     "output_type": "execute_result"
    }
   ],
   "source": [
    "df = pd.read_excel(\"Django_Objects.xlsx\")\n",
    "df"
   ]
  },
  {
   "cell_type": "code",
   "execution_count": null,
   "metadata": {},
   "outputs": [],
   "source": [
    "fig = px.line(df, x=\"calendar_week\", y=\"avg_price_sqrm\", color = 'city', markers=True, height=600)\n",
    "fig"
   ]
  },
  {
   "cell_type": "code",
   "execution_count": null,
   "metadata": {},
   "outputs": [],
   "source": []
  },
  {
   "cell_type": "code",
   "execution_count": 5,
   "metadata": {},
   "outputs": [
    {
     "data": {
      "application/vnd.plotly.v1+json": {
       "config": {
        "plotlyServerURL": "https://plot.ly"
       },
       "data": [
        {
         "hovertemplate": "city=Rovinj<br>calendar_week=%{x}<br>avg_size=%{y}<extra></extra>",
         "legendgroup": "Rovinj",
         "line": {
          "color": "#636efa",
          "dash": "solid"
         },
         "marker": {
          "symbol": "circle"
         },
         "mode": "lines+markers",
         "name": "Rovinj",
         "orientation": "v",
         "showlegend": true,
         "type": "scatter",
         "x": [
          30,
          33,
          34,
          35,
          35,
          36,
          37,
          38,
          39
         ],
         "xaxis": "x",
         "y": [
          91,
          94,
          94,
          94,
          94,
          92,
          94,
          94,
          95
         ],
         "yaxis": "y"
        },
        {
         "hovertemplate": "city=Zagreb<br>calendar_week=%{x}<br>avg_size=%{y}<extra></extra>",
         "legendgroup": "Zagreb",
         "line": {
          "color": "#EF553B",
          "dash": "solid"
         },
         "marker": {
          "symbol": "circle"
         },
         "mode": "lines+markers",
         "name": "Zagreb",
         "orientation": "v",
         "showlegend": true,
         "type": "scatter",
         "x": [
          30,
          32,
          33,
          34,
          36,
          37
         ],
         "xaxis": "x",
         "y": [
          92,
          92,
          92,
          92,
          92,
          92
         ],
         "yaxis": "y"
        },
        {
         "hovertemplate": "city=Varazdin<br>calendar_week=%{x}<br>avg_size=%{y}<extra></extra>",
         "legendgroup": "Varazdin",
         "line": {
          "color": "#00cc96",
          "dash": "solid"
         },
         "marker": {
          "symbol": "circle"
         },
         "mode": "lines+markers",
         "name": "Varazdin",
         "orientation": "v",
         "showlegend": true,
         "type": "scatter",
         "x": [
          31,
          32,
          32,
          33,
          34,
          35,
          35,
          36,
          37,
          38,
          39
         ],
         "xaxis": "x",
         "y": [
          66,
          67,
          67,
          77,
          77,
          76,
          78,
          79,
          79,
          89,
          84
         ],
         "yaxis": "y"
        },
        {
         "hovertemplate": "city=Rijeka<br>calendar_week=%{x}<br>avg_size=%{y}<extra></extra>",
         "legendgroup": "Rijeka",
         "line": {
          "color": "#ab63fa",
          "dash": "solid"
         },
         "marker": {
          "symbol": "circle"
         },
         "mode": "lines+markers",
         "name": "Rijeka",
         "orientation": "v",
         "showlegend": true,
         "type": "scatter",
         "x": [
          33,
          35,
          36,
          37
         ],
         "xaxis": "x",
         "y": [
          92,
          92,
          92,
          92
         ],
         "yaxis": "y"
        },
        {
         "hovertemplate": "city=Split<br>calendar_week=%{x}<br>avg_size=%{y}<extra></extra>",
         "legendgroup": "Split",
         "line": {
          "color": "#FFA15A",
          "dash": "solid"
         },
         "marker": {
          "symbol": "circle"
         },
         "mode": "lines+markers",
         "name": "Split",
         "orientation": "v",
         "showlegend": true,
         "type": "scatter",
         "x": [
          33,
          34,
          35,
          36,
          37,
          39
         ],
         "xaxis": "x",
         "y": [
          85,
          85,
          85,
          86,
          86,
          86
         ],
         "yaxis": "y"
        }
       ],
       "layout": {
        "height": 600,
        "legend": {
         "title": {
          "text": "city"
         },
         "tracegroupgap": 0
        },
        "margin": {
         "t": 60
        },
        "template": {
         "data": {
          "bar": [
           {
            "error_x": {
             "color": "#2a3f5f"
            },
            "error_y": {
             "color": "#2a3f5f"
            },
            "marker": {
             "line": {
              "color": "#E5ECF6",
              "width": 0.5
             },
             "pattern": {
              "fillmode": "overlay",
              "size": 10,
              "solidity": 0.2
             }
            },
            "type": "bar"
           }
          ],
          "barpolar": [
           {
            "marker": {
             "line": {
              "color": "#E5ECF6",
              "width": 0.5
             },
             "pattern": {
              "fillmode": "overlay",
              "size": 10,
              "solidity": 0.2
             }
            },
            "type": "barpolar"
           }
          ],
          "carpet": [
           {
            "aaxis": {
             "endlinecolor": "#2a3f5f",
             "gridcolor": "white",
             "linecolor": "white",
             "minorgridcolor": "white",
             "startlinecolor": "#2a3f5f"
            },
            "baxis": {
             "endlinecolor": "#2a3f5f",
             "gridcolor": "white",
             "linecolor": "white",
             "minorgridcolor": "white",
             "startlinecolor": "#2a3f5f"
            },
            "type": "carpet"
           }
          ],
          "choropleth": [
           {
            "colorbar": {
             "outlinewidth": 0,
             "ticks": ""
            },
            "type": "choropleth"
           }
          ],
          "contour": [
           {
            "colorbar": {
             "outlinewidth": 0,
             "ticks": ""
            },
            "colorscale": [
             [
              0,
              "#0d0887"
             ],
             [
              0.1111111111111111,
              "#46039f"
             ],
             [
              0.2222222222222222,
              "#7201a8"
             ],
             [
              0.3333333333333333,
              "#9c179e"
             ],
             [
              0.4444444444444444,
              "#bd3786"
             ],
             [
              0.5555555555555556,
              "#d8576b"
             ],
             [
              0.6666666666666666,
              "#ed7953"
             ],
             [
              0.7777777777777778,
              "#fb9f3a"
             ],
             [
              0.8888888888888888,
              "#fdca26"
             ],
             [
              1,
              "#f0f921"
             ]
            ],
            "type": "contour"
           }
          ],
          "contourcarpet": [
           {
            "colorbar": {
             "outlinewidth": 0,
             "ticks": ""
            },
            "type": "contourcarpet"
           }
          ],
          "heatmap": [
           {
            "colorbar": {
             "outlinewidth": 0,
             "ticks": ""
            },
            "colorscale": [
             [
              0,
              "#0d0887"
             ],
             [
              0.1111111111111111,
              "#46039f"
             ],
             [
              0.2222222222222222,
              "#7201a8"
             ],
             [
              0.3333333333333333,
              "#9c179e"
             ],
             [
              0.4444444444444444,
              "#bd3786"
             ],
             [
              0.5555555555555556,
              "#d8576b"
             ],
             [
              0.6666666666666666,
              "#ed7953"
             ],
             [
              0.7777777777777778,
              "#fb9f3a"
             ],
             [
              0.8888888888888888,
              "#fdca26"
             ],
             [
              1,
              "#f0f921"
             ]
            ],
            "type": "heatmap"
           }
          ],
          "heatmapgl": [
           {
            "colorbar": {
             "outlinewidth": 0,
             "ticks": ""
            },
            "colorscale": [
             [
              0,
              "#0d0887"
             ],
             [
              0.1111111111111111,
              "#46039f"
             ],
             [
              0.2222222222222222,
              "#7201a8"
             ],
             [
              0.3333333333333333,
              "#9c179e"
             ],
             [
              0.4444444444444444,
              "#bd3786"
             ],
             [
              0.5555555555555556,
              "#d8576b"
             ],
             [
              0.6666666666666666,
              "#ed7953"
             ],
             [
              0.7777777777777778,
              "#fb9f3a"
             ],
             [
              0.8888888888888888,
              "#fdca26"
             ],
             [
              1,
              "#f0f921"
             ]
            ],
            "type": "heatmapgl"
           }
          ],
          "histogram": [
           {
            "marker": {
             "pattern": {
              "fillmode": "overlay",
              "size": 10,
              "solidity": 0.2
             }
            },
            "type": "histogram"
           }
          ],
          "histogram2d": [
           {
            "colorbar": {
             "outlinewidth": 0,
             "ticks": ""
            },
            "colorscale": [
             [
              0,
              "#0d0887"
             ],
             [
              0.1111111111111111,
              "#46039f"
             ],
             [
              0.2222222222222222,
              "#7201a8"
             ],
             [
              0.3333333333333333,
              "#9c179e"
             ],
             [
              0.4444444444444444,
              "#bd3786"
             ],
             [
              0.5555555555555556,
              "#d8576b"
             ],
             [
              0.6666666666666666,
              "#ed7953"
             ],
             [
              0.7777777777777778,
              "#fb9f3a"
             ],
             [
              0.8888888888888888,
              "#fdca26"
             ],
             [
              1,
              "#f0f921"
             ]
            ],
            "type": "histogram2d"
           }
          ],
          "histogram2dcontour": [
           {
            "colorbar": {
             "outlinewidth": 0,
             "ticks": ""
            },
            "colorscale": [
             [
              0,
              "#0d0887"
             ],
             [
              0.1111111111111111,
              "#46039f"
             ],
             [
              0.2222222222222222,
              "#7201a8"
             ],
             [
              0.3333333333333333,
              "#9c179e"
             ],
             [
              0.4444444444444444,
              "#bd3786"
             ],
             [
              0.5555555555555556,
              "#d8576b"
             ],
             [
              0.6666666666666666,
              "#ed7953"
             ],
             [
              0.7777777777777778,
              "#fb9f3a"
             ],
             [
              0.8888888888888888,
              "#fdca26"
             ],
             [
              1,
              "#f0f921"
             ]
            ],
            "type": "histogram2dcontour"
           }
          ],
          "mesh3d": [
           {
            "colorbar": {
             "outlinewidth": 0,
             "ticks": ""
            },
            "type": "mesh3d"
           }
          ],
          "parcoords": [
           {
            "line": {
             "colorbar": {
              "outlinewidth": 0,
              "ticks": ""
             }
            },
            "type": "parcoords"
           }
          ],
          "pie": [
           {
            "automargin": true,
            "type": "pie"
           }
          ],
          "scatter": [
           {
            "marker": {
             "colorbar": {
              "outlinewidth": 0,
              "ticks": ""
             }
            },
            "type": "scatter"
           }
          ],
          "scatter3d": [
           {
            "line": {
             "colorbar": {
              "outlinewidth": 0,
              "ticks": ""
             }
            },
            "marker": {
             "colorbar": {
              "outlinewidth": 0,
              "ticks": ""
             }
            },
            "type": "scatter3d"
           }
          ],
          "scattercarpet": [
           {
            "marker": {
             "colorbar": {
              "outlinewidth": 0,
              "ticks": ""
             }
            },
            "type": "scattercarpet"
           }
          ],
          "scattergeo": [
           {
            "marker": {
             "colorbar": {
              "outlinewidth": 0,
              "ticks": ""
             }
            },
            "type": "scattergeo"
           }
          ],
          "scattergl": [
           {
            "marker": {
             "colorbar": {
              "outlinewidth": 0,
              "ticks": ""
             }
            },
            "type": "scattergl"
           }
          ],
          "scattermapbox": [
           {
            "marker": {
             "colorbar": {
              "outlinewidth": 0,
              "ticks": ""
             }
            },
            "type": "scattermapbox"
           }
          ],
          "scatterpolar": [
           {
            "marker": {
             "colorbar": {
              "outlinewidth": 0,
              "ticks": ""
             }
            },
            "type": "scatterpolar"
           }
          ],
          "scatterpolargl": [
           {
            "marker": {
             "colorbar": {
              "outlinewidth": 0,
              "ticks": ""
             }
            },
            "type": "scatterpolargl"
           }
          ],
          "scatterternary": [
           {
            "marker": {
             "colorbar": {
              "outlinewidth": 0,
              "ticks": ""
             }
            },
            "type": "scatterternary"
           }
          ],
          "surface": [
           {
            "colorbar": {
             "outlinewidth": 0,
             "ticks": ""
            },
            "colorscale": [
             [
              0,
              "#0d0887"
             ],
             [
              0.1111111111111111,
              "#46039f"
             ],
             [
              0.2222222222222222,
              "#7201a8"
             ],
             [
              0.3333333333333333,
              "#9c179e"
             ],
             [
              0.4444444444444444,
              "#bd3786"
             ],
             [
              0.5555555555555556,
              "#d8576b"
             ],
             [
              0.6666666666666666,
              "#ed7953"
             ],
             [
              0.7777777777777778,
              "#fb9f3a"
             ],
             [
              0.8888888888888888,
              "#fdca26"
             ],
             [
              1,
              "#f0f921"
             ]
            ],
            "type": "surface"
           }
          ],
          "table": [
           {
            "cells": {
             "fill": {
              "color": "#EBF0F8"
             },
             "line": {
              "color": "white"
             }
            },
            "header": {
             "fill": {
              "color": "#C8D4E3"
             },
             "line": {
              "color": "white"
             }
            },
            "type": "table"
           }
          ]
         },
         "layout": {
          "annotationdefaults": {
           "arrowcolor": "#2a3f5f",
           "arrowhead": 0,
           "arrowwidth": 1
          },
          "autotypenumbers": "strict",
          "coloraxis": {
           "colorbar": {
            "outlinewidth": 0,
            "ticks": ""
           }
          },
          "colorscale": {
           "diverging": [
            [
             0,
             "#8e0152"
            ],
            [
             0.1,
             "#c51b7d"
            ],
            [
             0.2,
             "#de77ae"
            ],
            [
             0.3,
             "#f1b6da"
            ],
            [
             0.4,
             "#fde0ef"
            ],
            [
             0.5,
             "#f7f7f7"
            ],
            [
             0.6,
             "#e6f5d0"
            ],
            [
             0.7,
             "#b8e186"
            ],
            [
             0.8,
             "#7fbc41"
            ],
            [
             0.9,
             "#4d9221"
            ],
            [
             1,
             "#276419"
            ]
           ],
           "sequential": [
            [
             0,
             "#0d0887"
            ],
            [
             0.1111111111111111,
             "#46039f"
            ],
            [
             0.2222222222222222,
             "#7201a8"
            ],
            [
             0.3333333333333333,
             "#9c179e"
            ],
            [
             0.4444444444444444,
             "#bd3786"
            ],
            [
             0.5555555555555556,
             "#d8576b"
            ],
            [
             0.6666666666666666,
             "#ed7953"
            ],
            [
             0.7777777777777778,
             "#fb9f3a"
            ],
            [
             0.8888888888888888,
             "#fdca26"
            ],
            [
             1,
             "#f0f921"
            ]
           ],
           "sequentialminus": [
            [
             0,
             "#0d0887"
            ],
            [
             0.1111111111111111,
             "#46039f"
            ],
            [
             0.2222222222222222,
             "#7201a8"
            ],
            [
             0.3333333333333333,
             "#9c179e"
            ],
            [
             0.4444444444444444,
             "#bd3786"
            ],
            [
             0.5555555555555556,
             "#d8576b"
            ],
            [
             0.6666666666666666,
             "#ed7953"
            ],
            [
             0.7777777777777778,
             "#fb9f3a"
            ],
            [
             0.8888888888888888,
             "#fdca26"
            ],
            [
             1,
             "#f0f921"
            ]
           ]
          },
          "colorway": [
           "#636efa",
           "#EF553B",
           "#00cc96",
           "#ab63fa",
           "#FFA15A",
           "#19d3f3",
           "#FF6692",
           "#B6E880",
           "#FF97FF",
           "#FECB52"
          ],
          "font": {
           "color": "#2a3f5f"
          },
          "geo": {
           "bgcolor": "white",
           "lakecolor": "white",
           "landcolor": "#E5ECF6",
           "showlakes": true,
           "showland": true,
           "subunitcolor": "white"
          },
          "hoverlabel": {
           "align": "left"
          },
          "hovermode": "closest",
          "mapbox": {
           "style": "light"
          },
          "paper_bgcolor": "white",
          "plot_bgcolor": "#E5ECF6",
          "polar": {
           "angularaxis": {
            "gridcolor": "white",
            "linecolor": "white",
            "ticks": ""
           },
           "bgcolor": "#E5ECF6",
           "radialaxis": {
            "gridcolor": "white",
            "linecolor": "white",
            "ticks": ""
           }
          },
          "scene": {
           "xaxis": {
            "backgroundcolor": "#E5ECF6",
            "gridcolor": "white",
            "gridwidth": 2,
            "linecolor": "white",
            "showbackground": true,
            "ticks": "",
            "zerolinecolor": "white"
           },
           "yaxis": {
            "backgroundcolor": "#E5ECF6",
            "gridcolor": "white",
            "gridwidth": 2,
            "linecolor": "white",
            "showbackground": true,
            "ticks": "",
            "zerolinecolor": "white"
           },
           "zaxis": {
            "backgroundcolor": "#E5ECF6",
            "gridcolor": "white",
            "gridwidth": 2,
            "linecolor": "white",
            "showbackground": true,
            "ticks": "",
            "zerolinecolor": "white"
           }
          },
          "shapedefaults": {
           "line": {
            "color": "#2a3f5f"
           }
          },
          "ternary": {
           "aaxis": {
            "gridcolor": "white",
            "linecolor": "white",
            "ticks": ""
           },
           "baxis": {
            "gridcolor": "white",
            "linecolor": "white",
            "ticks": ""
           },
           "bgcolor": "#E5ECF6",
           "caxis": {
            "gridcolor": "white",
            "linecolor": "white",
            "ticks": ""
           }
          },
          "title": {
           "x": 0.05
          },
          "xaxis": {
           "automargin": true,
           "gridcolor": "white",
           "linecolor": "white",
           "ticks": "",
           "title": {
            "standoff": 15
           },
           "zerolinecolor": "white",
           "zerolinewidth": 2
          },
          "yaxis": {
           "automargin": true,
           "gridcolor": "white",
           "linecolor": "white",
           "ticks": "",
           "title": {
            "standoff": 15
           },
           "zerolinecolor": "white",
           "zerolinewidth": 2
          }
         }
        },
        "xaxis": {
         "anchor": "y",
         "domain": [
          0,
          1
         ],
         "title": {
          "text": "calendar_week"
         }
        },
        "yaxis": {
         "anchor": "x",
         "domain": [
          0,
          1
         ],
         "title": {
          "text": "avg_size"
         }
        }
       }
      }
     },
     "metadata": {},
     "output_type": "display_data"
    }
   ],
   "source": [
    "fig = px.line(df, x=\"calendar_week\", y=\"avg_size\", color = 'city', markers=True, height=600)\n",
    "fig\n"
   ]
  },
  {
   "cell_type": "code",
   "execution_count": 3,
   "metadata": {},
   "outputs": [
    {
     "data": {
      "application/vnd.plotly.v1+json": {
       "config": {
        "plotlyServerURL": "https://plot.ly"
       },
       "data": [
        {
         "hovertemplate": "city=Rovinj<br>calendar_week=%{x}<br>avg_price_sqrm=%{y}<extra></extra>",
         "legendgroup": "Rovinj",
         "line": {
          "color": "#636efa",
          "dash": "solid"
         },
         "marker": {
          "symbol": "circle"
         },
         "mode": "lines+markers",
         "name": "Rovinj",
         "orientation": "v",
         "showlegend": true,
         "type": "scatter",
         "x": [
          30,
          33,
          34,
          35,
          35,
          36,
          37
         ],
         "xaxis": "x",
         "y": [
          4279,
          4240,
          4240,
          4275,
          4276,
          4393,
          4315
         ],
         "yaxis": "y"
        }
       ],
       "layout": {
        "legend": {
         "title": {
          "text": "city"
         },
         "tracegroupgap": 0
        },
        "template": {
         "data": {
          "bar": [
           {
            "error_x": {
             "color": "#2a3f5f"
            },
            "error_y": {
             "color": "#2a3f5f"
            },
            "marker": {
             "line": {
              "color": "#E5ECF6",
              "width": 0.5
             },
             "pattern": {
              "fillmode": "overlay",
              "size": 10,
              "solidity": 0.2
             }
            },
            "type": "bar"
           }
          ],
          "barpolar": [
           {
            "marker": {
             "line": {
              "color": "#E5ECF6",
              "width": 0.5
             },
             "pattern": {
              "fillmode": "overlay",
              "size": 10,
              "solidity": 0.2
             }
            },
            "type": "barpolar"
           }
          ],
          "carpet": [
           {
            "aaxis": {
             "endlinecolor": "#2a3f5f",
             "gridcolor": "white",
             "linecolor": "white",
             "minorgridcolor": "white",
             "startlinecolor": "#2a3f5f"
            },
            "baxis": {
             "endlinecolor": "#2a3f5f",
             "gridcolor": "white",
             "linecolor": "white",
             "minorgridcolor": "white",
             "startlinecolor": "#2a3f5f"
            },
            "type": "carpet"
           }
          ],
          "choropleth": [
           {
            "colorbar": {
             "outlinewidth": 0,
             "ticks": ""
            },
            "type": "choropleth"
           }
          ],
          "contour": [
           {
            "colorbar": {
             "outlinewidth": 0,
             "ticks": ""
            },
            "colorscale": [
             [
              0,
              "#0d0887"
             ],
             [
              0.1111111111111111,
              "#46039f"
             ],
             [
              0.2222222222222222,
              "#7201a8"
             ],
             [
              0.3333333333333333,
              "#9c179e"
             ],
             [
              0.4444444444444444,
              "#bd3786"
             ],
             [
              0.5555555555555556,
              "#d8576b"
             ],
             [
              0.6666666666666666,
              "#ed7953"
             ],
             [
              0.7777777777777778,
              "#fb9f3a"
             ],
             [
              0.8888888888888888,
              "#fdca26"
             ],
             [
              1,
              "#f0f921"
             ]
            ],
            "type": "contour"
           }
          ],
          "contourcarpet": [
           {
            "colorbar": {
             "outlinewidth": 0,
             "ticks": ""
            },
            "type": "contourcarpet"
           }
          ],
          "heatmap": [
           {
            "colorbar": {
             "outlinewidth": 0,
             "ticks": ""
            },
            "colorscale": [
             [
              0,
              "#0d0887"
             ],
             [
              0.1111111111111111,
              "#46039f"
             ],
             [
              0.2222222222222222,
              "#7201a8"
             ],
             [
              0.3333333333333333,
              "#9c179e"
             ],
             [
              0.4444444444444444,
              "#bd3786"
             ],
             [
              0.5555555555555556,
              "#d8576b"
             ],
             [
              0.6666666666666666,
              "#ed7953"
             ],
             [
              0.7777777777777778,
              "#fb9f3a"
             ],
             [
              0.8888888888888888,
              "#fdca26"
             ],
             [
              1,
              "#f0f921"
             ]
            ],
            "type": "heatmap"
           }
          ],
          "heatmapgl": [
           {
            "colorbar": {
             "outlinewidth": 0,
             "ticks": ""
            },
            "colorscale": [
             [
              0,
              "#0d0887"
             ],
             [
              0.1111111111111111,
              "#46039f"
             ],
             [
              0.2222222222222222,
              "#7201a8"
             ],
             [
              0.3333333333333333,
              "#9c179e"
             ],
             [
              0.4444444444444444,
              "#bd3786"
             ],
             [
              0.5555555555555556,
              "#d8576b"
             ],
             [
              0.6666666666666666,
              "#ed7953"
             ],
             [
              0.7777777777777778,
              "#fb9f3a"
             ],
             [
              0.8888888888888888,
              "#fdca26"
             ],
             [
              1,
              "#f0f921"
             ]
            ],
            "type": "heatmapgl"
           }
          ],
          "histogram": [
           {
            "marker": {
             "pattern": {
              "fillmode": "overlay",
              "size": 10,
              "solidity": 0.2
             }
            },
            "type": "histogram"
           }
          ],
          "histogram2d": [
           {
            "colorbar": {
             "outlinewidth": 0,
             "ticks": ""
            },
            "colorscale": [
             [
              0,
              "#0d0887"
             ],
             [
              0.1111111111111111,
              "#46039f"
             ],
             [
              0.2222222222222222,
              "#7201a8"
             ],
             [
              0.3333333333333333,
              "#9c179e"
             ],
             [
              0.4444444444444444,
              "#bd3786"
             ],
             [
              0.5555555555555556,
              "#d8576b"
             ],
             [
              0.6666666666666666,
              "#ed7953"
             ],
             [
              0.7777777777777778,
              "#fb9f3a"
             ],
             [
              0.8888888888888888,
              "#fdca26"
             ],
             [
              1,
              "#f0f921"
             ]
            ],
            "type": "histogram2d"
           }
          ],
          "histogram2dcontour": [
           {
            "colorbar": {
             "outlinewidth": 0,
             "ticks": ""
            },
            "colorscale": [
             [
              0,
              "#0d0887"
             ],
             [
              0.1111111111111111,
              "#46039f"
             ],
             [
              0.2222222222222222,
              "#7201a8"
             ],
             [
              0.3333333333333333,
              "#9c179e"
             ],
             [
              0.4444444444444444,
              "#bd3786"
             ],
             [
              0.5555555555555556,
              "#d8576b"
             ],
             [
              0.6666666666666666,
              "#ed7953"
             ],
             [
              0.7777777777777778,
              "#fb9f3a"
             ],
             [
              0.8888888888888888,
              "#fdca26"
             ],
             [
              1,
              "#f0f921"
             ]
            ],
            "type": "histogram2dcontour"
           }
          ],
          "mesh3d": [
           {
            "colorbar": {
             "outlinewidth": 0,
             "ticks": ""
            },
            "type": "mesh3d"
           }
          ],
          "parcoords": [
           {
            "line": {
             "colorbar": {
              "outlinewidth": 0,
              "ticks": ""
             }
            },
            "type": "parcoords"
           }
          ],
          "pie": [
           {
            "automargin": true,
            "type": "pie"
           }
          ],
          "scatter": [
           {
            "marker": {
             "colorbar": {
              "outlinewidth": 0,
              "ticks": ""
             }
            },
            "type": "scatter"
           }
          ],
          "scatter3d": [
           {
            "line": {
             "colorbar": {
              "outlinewidth": 0,
              "ticks": ""
             }
            },
            "marker": {
             "colorbar": {
              "outlinewidth": 0,
              "ticks": ""
             }
            },
            "type": "scatter3d"
           }
          ],
          "scattercarpet": [
           {
            "marker": {
             "colorbar": {
              "outlinewidth": 0,
              "ticks": ""
             }
            },
            "type": "scattercarpet"
           }
          ],
          "scattergeo": [
           {
            "marker": {
             "colorbar": {
              "outlinewidth": 0,
              "ticks": ""
             }
            },
            "type": "scattergeo"
           }
          ],
          "scattergl": [
           {
            "marker": {
             "colorbar": {
              "outlinewidth": 0,
              "ticks": ""
             }
            },
            "type": "scattergl"
           }
          ],
          "scattermapbox": [
           {
            "marker": {
             "colorbar": {
              "outlinewidth": 0,
              "ticks": ""
             }
            },
            "type": "scattermapbox"
           }
          ],
          "scatterpolar": [
           {
            "marker": {
             "colorbar": {
              "outlinewidth": 0,
              "ticks": ""
             }
            },
            "type": "scatterpolar"
           }
          ],
          "scatterpolargl": [
           {
            "marker": {
             "colorbar": {
              "outlinewidth": 0,
              "ticks": ""
             }
            },
            "type": "scatterpolargl"
           }
          ],
          "scatterternary": [
           {
            "marker": {
             "colorbar": {
              "outlinewidth": 0,
              "ticks": ""
             }
            },
            "type": "scatterternary"
           }
          ],
          "surface": [
           {
            "colorbar": {
             "outlinewidth": 0,
             "ticks": ""
            },
            "colorscale": [
             [
              0,
              "#0d0887"
             ],
             [
              0.1111111111111111,
              "#46039f"
             ],
             [
              0.2222222222222222,
              "#7201a8"
             ],
             [
              0.3333333333333333,
              "#9c179e"
             ],
             [
              0.4444444444444444,
              "#bd3786"
             ],
             [
              0.5555555555555556,
              "#d8576b"
             ],
             [
              0.6666666666666666,
              "#ed7953"
             ],
             [
              0.7777777777777778,
              "#fb9f3a"
             ],
             [
              0.8888888888888888,
              "#fdca26"
             ],
             [
              1,
              "#f0f921"
             ]
            ],
            "type": "surface"
           }
          ],
          "table": [
           {
            "cells": {
             "fill": {
              "color": "#EBF0F8"
             },
             "line": {
              "color": "white"
             }
            },
            "header": {
             "fill": {
              "color": "#C8D4E3"
             },
             "line": {
              "color": "white"
             }
            },
            "type": "table"
           }
          ]
         },
         "layout": {
          "annotationdefaults": {
           "arrowcolor": "#2a3f5f",
           "arrowhead": 0,
           "arrowwidth": 1
          },
          "autotypenumbers": "strict",
          "coloraxis": {
           "colorbar": {
            "outlinewidth": 0,
            "ticks": ""
           }
          },
          "colorscale": {
           "diverging": [
            [
             0,
             "#8e0152"
            ],
            [
             0.1,
             "#c51b7d"
            ],
            [
             0.2,
             "#de77ae"
            ],
            [
             0.3,
             "#f1b6da"
            ],
            [
             0.4,
             "#fde0ef"
            ],
            [
             0.5,
             "#f7f7f7"
            ],
            [
             0.6,
             "#e6f5d0"
            ],
            [
             0.7,
             "#b8e186"
            ],
            [
             0.8,
             "#7fbc41"
            ],
            [
             0.9,
             "#4d9221"
            ],
            [
             1,
             "#276419"
            ]
           ],
           "sequential": [
            [
             0,
             "#0d0887"
            ],
            [
             0.1111111111111111,
             "#46039f"
            ],
            [
             0.2222222222222222,
             "#7201a8"
            ],
            [
             0.3333333333333333,
             "#9c179e"
            ],
            [
             0.4444444444444444,
             "#bd3786"
            ],
            [
             0.5555555555555556,
             "#d8576b"
            ],
            [
             0.6666666666666666,
             "#ed7953"
            ],
            [
             0.7777777777777778,
             "#fb9f3a"
            ],
            [
             0.8888888888888888,
             "#fdca26"
            ],
            [
             1,
             "#f0f921"
            ]
           ],
           "sequentialminus": [
            [
             0,
             "#0d0887"
            ],
            [
             0.1111111111111111,
             "#46039f"
            ],
            [
             0.2222222222222222,
             "#7201a8"
            ],
            [
             0.3333333333333333,
             "#9c179e"
            ],
            [
             0.4444444444444444,
             "#bd3786"
            ],
            [
             0.5555555555555556,
             "#d8576b"
            ],
            [
             0.6666666666666666,
             "#ed7953"
            ],
            [
             0.7777777777777778,
             "#fb9f3a"
            ],
            [
             0.8888888888888888,
             "#fdca26"
            ],
            [
             1,
             "#f0f921"
            ]
           ]
          },
          "colorway": [
           "#636efa",
           "#EF553B",
           "#00cc96",
           "#ab63fa",
           "#FFA15A",
           "#19d3f3",
           "#FF6692",
           "#B6E880",
           "#FF97FF",
           "#FECB52"
          ],
          "font": {
           "color": "#2a3f5f"
          },
          "geo": {
           "bgcolor": "white",
           "lakecolor": "white",
           "landcolor": "#E5ECF6",
           "showlakes": true,
           "showland": true,
           "subunitcolor": "white"
          },
          "hoverlabel": {
           "align": "left"
          },
          "hovermode": "closest",
          "mapbox": {
           "style": "light"
          },
          "paper_bgcolor": "white",
          "plot_bgcolor": "#E5ECF6",
          "polar": {
           "angularaxis": {
            "gridcolor": "white",
            "linecolor": "white",
            "ticks": ""
           },
           "bgcolor": "#E5ECF6",
           "radialaxis": {
            "gridcolor": "white",
            "linecolor": "white",
            "ticks": ""
           }
          },
          "scene": {
           "xaxis": {
            "backgroundcolor": "#E5ECF6",
            "gridcolor": "white",
            "gridwidth": 2,
            "linecolor": "white",
            "showbackground": true,
            "ticks": "",
            "zerolinecolor": "white"
           },
           "yaxis": {
            "backgroundcolor": "#E5ECF6",
            "gridcolor": "white",
            "gridwidth": 2,
            "linecolor": "white",
            "showbackground": true,
            "ticks": "",
            "zerolinecolor": "white"
           },
           "zaxis": {
            "backgroundcolor": "#E5ECF6",
            "gridcolor": "white",
            "gridwidth": 2,
            "linecolor": "white",
            "showbackground": true,
            "ticks": "",
            "zerolinecolor": "white"
           }
          },
          "shapedefaults": {
           "line": {
            "color": "#2a3f5f"
           }
          },
          "ternary": {
           "aaxis": {
            "gridcolor": "white",
            "linecolor": "white",
            "ticks": ""
           },
           "baxis": {
            "gridcolor": "white",
            "linecolor": "white",
            "ticks": ""
           },
           "bgcolor": "#E5ECF6",
           "caxis": {
            "gridcolor": "white",
            "linecolor": "white",
            "ticks": ""
           }
          },
          "title": {
           "x": 0.05
          },
          "xaxis": {
           "automargin": true,
           "gridcolor": "white",
           "linecolor": "white",
           "ticks": "",
           "title": {
            "standoff": 15
           },
           "zerolinecolor": "white",
           "zerolinewidth": 2
          },
          "yaxis": {
           "automargin": true,
           "gridcolor": "white",
           "linecolor": "white",
           "ticks": "",
           "title": {
            "standoff": 15
           },
           "zerolinecolor": "white",
           "zerolinewidth": 2
          }
         }
        },
        "title": {
         "text": "Rovinj"
        },
        "xaxis": {
         "anchor": "y",
         "domain": [
          0,
          1
         ],
         "title": {
          "text": "calendar_week"
         }
        },
        "yaxis": {
         "anchor": "x",
         "domain": [
          0,
          1
         ],
         "title": {
          "text": "avg_price_sqrm"
         }
        }
       }
      }
     },
     "metadata": {},
     "output_type": "display_data"
    },
    {
     "data": {
      "application/vnd.plotly.v1+json": {
       "config": {
        "plotlyServerURL": "https://plot.ly"
       },
       "data": [
        {
         "hovertemplate": "city=Zagreb<br>calendar_week=%{x}<br>avg_price_sqrm=%{y}<extra></extra>",
         "legendgroup": "Zagreb",
         "line": {
          "color": "#636efa",
          "dash": "solid"
         },
         "marker": {
          "symbol": "circle"
         },
         "mode": "lines+markers",
         "name": "Zagreb",
         "orientation": "v",
         "showlegend": true,
         "type": "scatter",
         "x": [
          30,
          32,
          33,
          34,
          36,
          37
         ],
         "xaxis": "x",
         "y": [
          2616,
          2635,
          2651,
          2660,
          2681,
          2688
         ],
         "yaxis": "y"
        }
       ],
       "layout": {
        "legend": {
         "title": {
          "text": "city"
         },
         "tracegroupgap": 0
        },
        "template": {
         "data": {
          "bar": [
           {
            "error_x": {
             "color": "#2a3f5f"
            },
            "error_y": {
             "color": "#2a3f5f"
            },
            "marker": {
             "line": {
              "color": "#E5ECF6",
              "width": 0.5
             },
             "pattern": {
              "fillmode": "overlay",
              "size": 10,
              "solidity": 0.2
             }
            },
            "type": "bar"
           }
          ],
          "barpolar": [
           {
            "marker": {
             "line": {
              "color": "#E5ECF6",
              "width": 0.5
             },
             "pattern": {
              "fillmode": "overlay",
              "size": 10,
              "solidity": 0.2
             }
            },
            "type": "barpolar"
           }
          ],
          "carpet": [
           {
            "aaxis": {
             "endlinecolor": "#2a3f5f",
             "gridcolor": "white",
             "linecolor": "white",
             "minorgridcolor": "white",
             "startlinecolor": "#2a3f5f"
            },
            "baxis": {
             "endlinecolor": "#2a3f5f",
             "gridcolor": "white",
             "linecolor": "white",
             "minorgridcolor": "white",
             "startlinecolor": "#2a3f5f"
            },
            "type": "carpet"
           }
          ],
          "choropleth": [
           {
            "colorbar": {
             "outlinewidth": 0,
             "ticks": ""
            },
            "type": "choropleth"
           }
          ],
          "contour": [
           {
            "colorbar": {
             "outlinewidth": 0,
             "ticks": ""
            },
            "colorscale": [
             [
              0,
              "#0d0887"
             ],
             [
              0.1111111111111111,
              "#46039f"
             ],
             [
              0.2222222222222222,
              "#7201a8"
             ],
             [
              0.3333333333333333,
              "#9c179e"
             ],
             [
              0.4444444444444444,
              "#bd3786"
             ],
             [
              0.5555555555555556,
              "#d8576b"
             ],
             [
              0.6666666666666666,
              "#ed7953"
             ],
             [
              0.7777777777777778,
              "#fb9f3a"
             ],
             [
              0.8888888888888888,
              "#fdca26"
             ],
             [
              1,
              "#f0f921"
             ]
            ],
            "type": "contour"
           }
          ],
          "contourcarpet": [
           {
            "colorbar": {
             "outlinewidth": 0,
             "ticks": ""
            },
            "type": "contourcarpet"
           }
          ],
          "heatmap": [
           {
            "colorbar": {
             "outlinewidth": 0,
             "ticks": ""
            },
            "colorscale": [
             [
              0,
              "#0d0887"
             ],
             [
              0.1111111111111111,
              "#46039f"
             ],
             [
              0.2222222222222222,
              "#7201a8"
             ],
             [
              0.3333333333333333,
              "#9c179e"
             ],
             [
              0.4444444444444444,
              "#bd3786"
             ],
             [
              0.5555555555555556,
              "#d8576b"
             ],
             [
              0.6666666666666666,
              "#ed7953"
             ],
             [
              0.7777777777777778,
              "#fb9f3a"
             ],
             [
              0.8888888888888888,
              "#fdca26"
             ],
             [
              1,
              "#f0f921"
             ]
            ],
            "type": "heatmap"
           }
          ],
          "heatmapgl": [
           {
            "colorbar": {
             "outlinewidth": 0,
             "ticks": ""
            },
            "colorscale": [
             [
              0,
              "#0d0887"
             ],
             [
              0.1111111111111111,
              "#46039f"
             ],
             [
              0.2222222222222222,
              "#7201a8"
             ],
             [
              0.3333333333333333,
              "#9c179e"
             ],
             [
              0.4444444444444444,
              "#bd3786"
             ],
             [
              0.5555555555555556,
              "#d8576b"
             ],
             [
              0.6666666666666666,
              "#ed7953"
             ],
             [
              0.7777777777777778,
              "#fb9f3a"
             ],
             [
              0.8888888888888888,
              "#fdca26"
             ],
             [
              1,
              "#f0f921"
             ]
            ],
            "type": "heatmapgl"
           }
          ],
          "histogram": [
           {
            "marker": {
             "pattern": {
              "fillmode": "overlay",
              "size": 10,
              "solidity": 0.2
             }
            },
            "type": "histogram"
           }
          ],
          "histogram2d": [
           {
            "colorbar": {
             "outlinewidth": 0,
             "ticks": ""
            },
            "colorscale": [
             [
              0,
              "#0d0887"
             ],
             [
              0.1111111111111111,
              "#46039f"
             ],
             [
              0.2222222222222222,
              "#7201a8"
             ],
             [
              0.3333333333333333,
              "#9c179e"
             ],
             [
              0.4444444444444444,
              "#bd3786"
             ],
             [
              0.5555555555555556,
              "#d8576b"
             ],
             [
              0.6666666666666666,
              "#ed7953"
             ],
             [
              0.7777777777777778,
              "#fb9f3a"
             ],
             [
              0.8888888888888888,
              "#fdca26"
             ],
             [
              1,
              "#f0f921"
             ]
            ],
            "type": "histogram2d"
           }
          ],
          "histogram2dcontour": [
           {
            "colorbar": {
             "outlinewidth": 0,
             "ticks": ""
            },
            "colorscale": [
             [
              0,
              "#0d0887"
             ],
             [
              0.1111111111111111,
              "#46039f"
             ],
             [
              0.2222222222222222,
              "#7201a8"
             ],
             [
              0.3333333333333333,
              "#9c179e"
             ],
             [
              0.4444444444444444,
              "#bd3786"
             ],
             [
              0.5555555555555556,
              "#d8576b"
             ],
             [
              0.6666666666666666,
              "#ed7953"
             ],
             [
              0.7777777777777778,
              "#fb9f3a"
             ],
             [
              0.8888888888888888,
              "#fdca26"
             ],
             [
              1,
              "#f0f921"
             ]
            ],
            "type": "histogram2dcontour"
           }
          ],
          "mesh3d": [
           {
            "colorbar": {
             "outlinewidth": 0,
             "ticks": ""
            },
            "type": "mesh3d"
           }
          ],
          "parcoords": [
           {
            "line": {
             "colorbar": {
              "outlinewidth": 0,
              "ticks": ""
             }
            },
            "type": "parcoords"
           }
          ],
          "pie": [
           {
            "automargin": true,
            "type": "pie"
           }
          ],
          "scatter": [
           {
            "marker": {
             "colorbar": {
              "outlinewidth": 0,
              "ticks": ""
             }
            },
            "type": "scatter"
           }
          ],
          "scatter3d": [
           {
            "line": {
             "colorbar": {
              "outlinewidth": 0,
              "ticks": ""
             }
            },
            "marker": {
             "colorbar": {
              "outlinewidth": 0,
              "ticks": ""
             }
            },
            "type": "scatter3d"
           }
          ],
          "scattercarpet": [
           {
            "marker": {
             "colorbar": {
              "outlinewidth": 0,
              "ticks": ""
             }
            },
            "type": "scattercarpet"
           }
          ],
          "scattergeo": [
           {
            "marker": {
             "colorbar": {
              "outlinewidth": 0,
              "ticks": ""
             }
            },
            "type": "scattergeo"
           }
          ],
          "scattergl": [
           {
            "marker": {
             "colorbar": {
              "outlinewidth": 0,
              "ticks": ""
             }
            },
            "type": "scattergl"
           }
          ],
          "scattermapbox": [
           {
            "marker": {
             "colorbar": {
              "outlinewidth": 0,
              "ticks": ""
             }
            },
            "type": "scattermapbox"
           }
          ],
          "scatterpolar": [
           {
            "marker": {
             "colorbar": {
              "outlinewidth": 0,
              "ticks": ""
             }
            },
            "type": "scatterpolar"
           }
          ],
          "scatterpolargl": [
           {
            "marker": {
             "colorbar": {
              "outlinewidth": 0,
              "ticks": ""
             }
            },
            "type": "scatterpolargl"
           }
          ],
          "scatterternary": [
           {
            "marker": {
             "colorbar": {
              "outlinewidth": 0,
              "ticks": ""
             }
            },
            "type": "scatterternary"
           }
          ],
          "surface": [
           {
            "colorbar": {
             "outlinewidth": 0,
             "ticks": ""
            },
            "colorscale": [
             [
              0,
              "#0d0887"
             ],
             [
              0.1111111111111111,
              "#46039f"
             ],
             [
              0.2222222222222222,
              "#7201a8"
             ],
             [
              0.3333333333333333,
              "#9c179e"
             ],
             [
              0.4444444444444444,
              "#bd3786"
             ],
             [
              0.5555555555555556,
              "#d8576b"
             ],
             [
              0.6666666666666666,
              "#ed7953"
             ],
             [
              0.7777777777777778,
              "#fb9f3a"
             ],
             [
              0.8888888888888888,
              "#fdca26"
             ],
             [
              1,
              "#f0f921"
             ]
            ],
            "type": "surface"
           }
          ],
          "table": [
           {
            "cells": {
             "fill": {
              "color": "#EBF0F8"
             },
             "line": {
              "color": "white"
             }
            },
            "header": {
             "fill": {
              "color": "#C8D4E3"
             },
             "line": {
              "color": "white"
             }
            },
            "type": "table"
           }
          ]
         },
         "layout": {
          "annotationdefaults": {
           "arrowcolor": "#2a3f5f",
           "arrowhead": 0,
           "arrowwidth": 1
          },
          "autotypenumbers": "strict",
          "coloraxis": {
           "colorbar": {
            "outlinewidth": 0,
            "ticks": ""
           }
          },
          "colorscale": {
           "diverging": [
            [
             0,
             "#8e0152"
            ],
            [
             0.1,
             "#c51b7d"
            ],
            [
             0.2,
             "#de77ae"
            ],
            [
             0.3,
             "#f1b6da"
            ],
            [
             0.4,
             "#fde0ef"
            ],
            [
             0.5,
             "#f7f7f7"
            ],
            [
             0.6,
             "#e6f5d0"
            ],
            [
             0.7,
             "#b8e186"
            ],
            [
             0.8,
             "#7fbc41"
            ],
            [
             0.9,
             "#4d9221"
            ],
            [
             1,
             "#276419"
            ]
           ],
           "sequential": [
            [
             0,
             "#0d0887"
            ],
            [
             0.1111111111111111,
             "#46039f"
            ],
            [
             0.2222222222222222,
             "#7201a8"
            ],
            [
             0.3333333333333333,
             "#9c179e"
            ],
            [
             0.4444444444444444,
             "#bd3786"
            ],
            [
             0.5555555555555556,
             "#d8576b"
            ],
            [
             0.6666666666666666,
             "#ed7953"
            ],
            [
             0.7777777777777778,
             "#fb9f3a"
            ],
            [
             0.8888888888888888,
             "#fdca26"
            ],
            [
             1,
             "#f0f921"
            ]
           ],
           "sequentialminus": [
            [
             0,
             "#0d0887"
            ],
            [
             0.1111111111111111,
             "#46039f"
            ],
            [
             0.2222222222222222,
             "#7201a8"
            ],
            [
             0.3333333333333333,
             "#9c179e"
            ],
            [
             0.4444444444444444,
             "#bd3786"
            ],
            [
             0.5555555555555556,
             "#d8576b"
            ],
            [
             0.6666666666666666,
             "#ed7953"
            ],
            [
             0.7777777777777778,
             "#fb9f3a"
            ],
            [
             0.8888888888888888,
             "#fdca26"
            ],
            [
             1,
             "#f0f921"
            ]
           ]
          },
          "colorway": [
           "#636efa",
           "#EF553B",
           "#00cc96",
           "#ab63fa",
           "#FFA15A",
           "#19d3f3",
           "#FF6692",
           "#B6E880",
           "#FF97FF",
           "#FECB52"
          ],
          "font": {
           "color": "#2a3f5f"
          },
          "geo": {
           "bgcolor": "white",
           "lakecolor": "white",
           "landcolor": "#E5ECF6",
           "showlakes": true,
           "showland": true,
           "subunitcolor": "white"
          },
          "hoverlabel": {
           "align": "left"
          },
          "hovermode": "closest",
          "mapbox": {
           "style": "light"
          },
          "paper_bgcolor": "white",
          "plot_bgcolor": "#E5ECF6",
          "polar": {
           "angularaxis": {
            "gridcolor": "white",
            "linecolor": "white",
            "ticks": ""
           },
           "bgcolor": "#E5ECF6",
           "radialaxis": {
            "gridcolor": "white",
            "linecolor": "white",
            "ticks": ""
           }
          },
          "scene": {
           "xaxis": {
            "backgroundcolor": "#E5ECF6",
            "gridcolor": "white",
            "gridwidth": 2,
            "linecolor": "white",
            "showbackground": true,
            "ticks": "",
            "zerolinecolor": "white"
           },
           "yaxis": {
            "backgroundcolor": "#E5ECF6",
            "gridcolor": "white",
            "gridwidth": 2,
            "linecolor": "white",
            "showbackground": true,
            "ticks": "",
            "zerolinecolor": "white"
           },
           "zaxis": {
            "backgroundcolor": "#E5ECF6",
            "gridcolor": "white",
            "gridwidth": 2,
            "linecolor": "white",
            "showbackground": true,
            "ticks": "",
            "zerolinecolor": "white"
           }
          },
          "shapedefaults": {
           "line": {
            "color": "#2a3f5f"
           }
          },
          "ternary": {
           "aaxis": {
            "gridcolor": "white",
            "linecolor": "white",
            "ticks": ""
           },
           "baxis": {
            "gridcolor": "white",
            "linecolor": "white",
            "ticks": ""
           },
           "bgcolor": "#E5ECF6",
           "caxis": {
            "gridcolor": "white",
            "linecolor": "white",
            "ticks": ""
           }
          },
          "title": {
           "x": 0.05
          },
          "xaxis": {
           "automargin": true,
           "gridcolor": "white",
           "linecolor": "white",
           "ticks": "",
           "title": {
            "standoff": 15
           },
           "zerolinecolor": "white",
           "zerolinewidth": 2
          },
          "yaxis": {
           "automargin": true,
           "gridcolor": "white",
           "linecolor": "white",
           "ticks": "",
           "title": {
            "standoff": 15
           },
           "zerolinecolor": "white",
           "zerolinewidth": 2
          }
         }
        },
        "title": {
         "text": "Zagreb"
        },
        "xaxis": {
         "anchor": "y",
         "domain": [
          0,
          1
         ],
         "title": {
          "text": "calendar_week"
         }
        },
        "yaxis": {
         "anchor": "x",
         "domain": [
          0,
          1
         ],
         "title": {
          "text": "avg_price_sqrm"
         }
        }
       }
      }
     },
     "metadata": {},
     "output_type": "display_data"
    },
    {
     "data": {
      "application/vnd.plotly.v1+json": {
       "config": {
        "plotlyServerURL": "https://plot.ly"
       },
       "data": [
        {
         "hovertemplate": "city=Varazdin<br>calendar_week=%{x}<br>avg_price_sqrm=%{y}<extra></extra>",
         "legendgroup": "Varazdin",
         "line": {
          "color": "#636efa",
          "dash": "solid"
         },
         "marker": {
          "symbol": "circle"
         },
         "mode": "lines+markers",
         "name": "Varazdin",
         "orientation": "v",
         "showlegend": true,
         "type": "scatter",
         "x": [
          31,
          32,
          32,
          33,
          34,
          35,
          35,
          36,
          37
         ],
         "xaxis": "x",
         "y": [
          1735,
          1740,
          1737,
          1813,
          1816,
          1799,
          1816,
          1876,
          1773
         ],
         "yaxis": "y"
        }
       ],
       "layout": {
        "legend": {
         "title": {
          "text": "city"
         },
         "tracegroupgap": 0
        },
        "template": {
         "data": {
          "bar": [
           {
            "error_x": {
             "color": "#2a3f5f"
            },
            "error_y": {
             "color": "#2a3f5f"
            },
            "marker": {
             "line": {
              "color": "#E5ECF6",
              "width": 0.5
             },
             "pattern": {
              "fillmode": "overlay",
              "size": 10,
              "solidity": 0.2
             }
            },
            "type": "bar"
           }
          ],
          "barpolar": [
           {
            "marker": {
             "line": {
              "color": "#E5ECF6",
              "width": 0.5
             },
             "pattern": {
              "fillmode": "overlay",
              "size": 10,
              "solidity": 0.2
             }
            },
            "type": "barpolar"
           }
          ],
          "carpet": [
           {
            "aaxis": {
             "endlinecolor": "#2a3f5f",
             "gridcolor": "white",
             "linecolor": "white",
             "minorgridcolor": "white",
             "startlinecolor": "#2a3f5f"
            },
            "baxis": {
             "endlinecolor": "#2a3f5f",
             "gridcolor": "white",
             "linecolor": "white",
             "minorgridcolor": "white",
             "startlinecolor": "#2a3f5f"
            },
            "type": "carpet"
           }
          ],
          "choropleth": [
           {
            "colorbar": {
             "outlinewidth": 0,
             "ticks": ""
            },
            "type": "choropleth"
           }
          ],
          "contour": [
           {
            "colorbar": {
             "outlinewidth": 0,
             "ticks": ""
            },
            "colorscale": [
             [
              0,
              "#0d0887"
             ],
             [
              0.1111111111111111,
              "#46039f"
             ],
             [
              0.2222222222222222,
              "#7201a8"
             ],
             [
              0.3333333333333333,
              "#9c179e"
             ],
             [
              0.4444444444444444,
              "#bd3786"
             ],
             [
              0.5555555555555556,
              "#d8576b"
             ],
             [
              0.6666666666666666,
              "#ed7953"
             ],
             [
              0.7777777777777778,
              "#fb9f3a"
             ],
             [
              0.8888888888888888,
              "#fdca26"
             ],
             [
              1,
              "#f0f921"
             ]
            ],
            "type": "contour"
           }
          ],
          "contourcarpet": [
           {
            "colorbar": {
             "outlinewidth": 0,
             "ticks": ""
            },
            "type": "contourcarpet"
           }
          ],
          "heatmap": [
           {
            "colorbar": {
             "outlinewidth": 0,
             "ticks": ""
            },
            "colorscale": [
             [
              0,
              "#0d0887"
             ],
             [
              0.1111111111111111,
              "#46039f"
             ],
             [
              0.2222222222222222,
              "#7201a8"
             ],
             [
              0.3333333333333333,
              "#9c179e"
             ],
             [
              0.4444444444444444,
              "#bd3786"
             ],
             [
              0.5555555555555556,
              "#d8576b"
             ],
             [
              0.6666666666666666,
              "#ed7953"
             ],
             [
              0.7777777777777778,
              "#fb9f3a"
             ],
             [
              0.8888888888888888,
              "#fdca26"
             ],
             [
              1,
              "#f0f921"
             ]
            ],
            "type": "heatmap"
           }
          ],
          "heatmapgl": [
           {
            "colorbar": {
             "outlinewidth": 0,
             "ticks": ""
            },
            "colorscale": [
             [
              0,
              "#0d0887"
             ],
             [
              0.1111111111111111,
              "#46039f"
             ],
             [
              0.2222222222222222,
              "#7201a8"
             ],
             [
              0.3333333333333333,
              "#9c179e"
             ],
             [
              0.4444444444444444,
              "#bd3786"
             ],
             [
              0.5555555555555556,
              "#d8576b"
             ],
             [
              0.6666666666666666,
              "#ed7953"
             ],
             [
              0.7777777777777778,
              "#fb9f3a"
             ],
             [
              0.8888888888888888,
              "#fdca26"
             ],
             [
              1,
              "#f0f921"
             ]
            ],
            "type": "heatmapgl"
           }
          ],
          "histogram": [
           {
            "marker": {
             "pattern": {
              "fillmode": "overlay",
              "size": 10,
              "solidity": 0.2
             }
            },
            "type": "histogram"
           }
          ],
          "histogram2d": [
           {
            "colorbar": {
             "outlinewidth": 0,
             "ticks": ""
            },
            "colorscale": [
             [
              0,
              "#0d0887"
             ],
             [
              0.1111111111111111,
              "#46039f"
             ],
             [
              0.2222222222222222,
              "#7201a8"
             ],
             [
              0.3333333333333333,
              "#9c179e"
             ],
             [
              0.4444444444444444,
              "#bd3786"
             ],
             [
              0.5555555555555556,
              "#d8576b"
             ],
             [
              0.6666666666666666,
              "#ed7953"
             ],
             [
              0.7777777777777778,
              "#fb9f3a"
             ],
             [
              0.8888888888888888,
              "#fdca26"
             ],
             [
              1,
              "#f0f921"
             ]
            ],
            "type": "histogram2d"
           }
          ],
          "histogram2dcontour": [
           {
            "colorbar": {
             "outlinewidth": 0,
             "ticks": ""
            },
            "colorscale": [
             [
              0,
              "#0d0887"
             ],
             [
              0.1111111111111111,
              "#46039f"
             ],
             [
              0.2222222222222222,
              "#7201a8"
             ],
             [
              0.3333333333333333,
              "#9c179e"
             ],
             [
              0.4444444444444444,
              "#bd3786"
             ],
             [
              0.5555555555555556,
              "#d8576b"
             ],
             [
              0.6666666666666666,
              "#ed7953"
             ],
             [
              0.7777777777777778,
              "#fb9f3a"
             ],
             [
              0.8888888888888888,
              "#fdca26"
             ],
             [
              1,
              "#f0f921"
             ]
            ],
            "type": "histogram2dcontour"
           }
          ],
          "mesh3d": [
           {
            "colorbar": {
             "outlinewidth": 0,
             "ticks": ""
            },
            "type": "mesh3d"
           }
          ],
          "parcoords": [
           {
            "line": {
             "colorbar": {
              "outlinewidth": 0,
              "ticks": ""
             }
            },
            "type": "parcoords"
           }
          ],
          "pie": [
           {
            "automargin": true,
            "type": "pie"
           }
          ],
          "scatter": [
           {
            "marker": {
             "colorbar": {
              "outlinewidth": 0,
              "ticks": ""
             }
            },
            "type": "scatter"
           }
          ],
          "scatter3d": [
           {
            "line": {
             "colorbar": {
              "outlinewidth": 0,
              "ticks": ""
             }
            },
            "marker": {
             "colorbar": {
              "outlinewidth": 0,
              "ticks": ""
             }
            },
            "type": "scatter3d"
           }
          ],
          "scattercarpet": [
           {
            "marker": {
             "colorbar": {
              "outlinewidth": 0,
              "ticks": ""
             }
            },
            "type": "scattercarpet"
           }
          ],
          "scattergeo": [
           {
            "marker": {
             "colorbar": {
              "outlinewidth": 0,
              "ticks": ""
             }
            },
            "type": "scattergeo"
           }
          ],
          "scattergl": [
           {
            "marker": {
             "colorbar": {
              "outlinewidth": 0,
              "ticks": ""
             }
            },
            "type": "scattergl"
           }
          ],
          "scattermapbox": [
           {
            "marker": {
             "colorbar": {
              "outlinewidth": 0,
              "ticks": ""
             }
            },
            "type": "scattermapbox"
           }
          ],
          "scatterpolar": [
           {
            "marker": {
             "colorbar": {
              "outlinewidth": 0,
              "ticks": ""
             }
            },
            "type": "scatterpolar"
           }
          ],
          "scatterpolargl": [
           {
            "marker": {
             "colorbar": {
              "outlinewidth": 0,
              "ticks": ""
             }
            },
            "type": "scatterpolargl"
           }
          ],
          "scatterternary": [
           {
            "marker": {
             "colorbar": {
              "outlinewidth": 0,
              "ticks": ""
             }
            },
            "type": "scatterternary"
           }
          ],
          "surface": [
           {
            "colorbar": {
             "outlinewidth": 0,
             "ticks": ""
            },
            "colorscale": [
             [
              0,
              "#0d0887"
             ],
             [
              0.1111111111111111,
              "#46039f"
             ],
             [
              0.2222222222222222,
              "#7201a8"
             ],
             [
              0.3333333333333333,
              "#9c179e"
             ],
             [
              0.4444444444444444,
              "#bd3786"
             ],
             [
              0.5555555555555556,
              "#d8576b"
             ],
             [
              0.6666666666666666,
              "#ed7953"
             ],
             [
              0.7777777777777778,
              "#fb9f3a"
             ],
             [
              0.8888888888888888,
              "#fdca26"
             ],
             [
              1,
              "#f0f921"
             ]
            ],
            "type": "surface"
           }
          ],
          "table": [
           {
            "cells": {
             "fill": {
              "color": "#EBF0F8"
             },
             "line": {
              "color": "white"
             }
            },
            "header": {
             "fill": {
              "color": "#C8D4E3"
             },
             "line": {
              "color": "white"
             }
            },
            "type": "table"
           }
          ]
         },
         "layout": {
          "annotationdefaults": {
           "arrowcolor": "#2a3f5f",
           "arrowhead": 0,
           "arrowwidth": 1
          },
          "autotypenumbers": "strict",
          "coloraxis": {
           "colorbar": {
            "outlinewidth": 0,
            "ticks": ""
           }
          },
          "colorscale": {
           "diverging": [
            [
             0,
             "#8e0152"
            ],
            [
             0.1,
             "#c51b7d"
            ],
            [
             0.2,
             "#de77ae"
            ],
            [
             0.3,
             "#f1b6da"
            ],
            [
             0.4,
             "#fde0ef"
            ],
            [
             0.5,
             "#f7f7f7"
            ],
            [
             0.6,
             "#e6f5d0"
            ],
            [
             0.7,
             "#b8e186"
            ],
            [
             0.8,
             "#7fbc41"
            ],
            [
             0.9,
             "#4d9221"
            ],
            [
             1,
             "#276419"
            ]
           ],
           "sequential": [
            [
             0,
             "#0d0887"
            ],
            [
             0.1111111111111111,
             "#46039f"
            ],
            [
             0.2222222222222222,
             "#7201a8"
            ],
            [
             0.3333333333333333,
             "#9c179e"
            ],
            [
             0.4444444444444444,
             "#bd3786"
            ],
            [
             0.5555555555555556,
             "#d8576b"
            ],
            [
             0.6666666666666666,
             "#ed7953"
            ],
            [
             0.7777777777777778,
             "#fb9f3a"
            ],
            [
             0.8888888888888888,
             "#fdca26"
            ],
            [
             1,
             "#f0f921"
            ]
           ],
           "sequentialminus": [
            [
             0,
             "#0d0887"
            ],
            [
             0.1111111111111111,
             "#46039f"
            ],
            [
             0.2222222222222222,
             "#7201a8"
            ],
            [
             0.3333333333333333,
             "#9c179e"
            ],
            [
             0.4444444444444444,
             "#bd3786"
            ],
            [
             0.5555555555555556,
             "#d8576b"
            ],
            [
             0.6666666666666666,
             "#ed7953"
            ],
            [
             0.7777777777777778,
             "#fb9f3a"
            ],
            [
             0.8888888888888888,
             "#fdca26"
            ],
            [
             1,
             "#f0f921"
            ]
           ]
          },
          "colorway": [
           "#636efa",
           "#EF553B",
           "#00cc96",
           "#ab63fa",
           "#FFA15A",
           "#19d3f3",
           "#FF6692",
           "#B6E880",
           "#FF97FF",
           "#FECB52"
          ],
          "font": {
           "color": "#2a3f5f"
          },
          "geo": {
           "bgcolor": "white",
           "lakecolor": "white",
           "landcolor": "#E5ECF6",
           "showlakes": true,
           "showland": true,
           "subunitcolor": "white"
          },
          "hoverlabel": {
           "align": "left"
          },
          "hovermode": "closest",
          "mapbox": {
           "style": "light"
          },
          "paper_bgcolor": "white",
          "plot_bgcolor": "#E5ECF6",
          "polar": {
           "angularaxis": {
            "gridcolor": "white",
            "linecolor": "white",
            "ticks": ""
           },
           "bgcolor": "#E5ECF6",
           "radialaxis": {
            "gridcolor": "white",
            "linecolor": "white",
            "ticks": ""
           }
          },
          "scene": {
           "xaxis": {
            "backgroundcolor": "#E5ECF6",
            "gridcolor": "white",
            "gridwidth": 2,
            "linecolor": "white",
            "showbackground": true,
            "ticks": "",
            "zerolinecolor": "white"
           },
           "yaxis": {
            "backgroundcolor": "#E5ECF6",
            "gridcolor": "white",
            "gridwidth": 2,
            "linecolor": "white",
            "showbackground": true,
            "ticks": "",
            "zerolinecolor": "white"
           },
           "zaxis": {
            "backgroundcolor": "#E5ECF6",
            "gridcolor": "white",
            "gridwidth": 2,
            "linecolor": "white",
            "showbackground": true,
            "ticks": "",
            "zerolinecolor": "white"
           }
          },
          "shapedefaults": {
           "line": {
            "color": "#2a3f5f"
           }
          },
          "ternary": {
           "aaxis": {
            "gridcolor": "white",
            "linecolor": "white",
            "ticks": ""
           },
           "baxis": {
            "gridcolor": "white",
            "linecolor": "white",
            "ticks": ""
           },
           "bgcolor": "#E5ECF6",
           "caxis": {
            "gridcolor": "white",
            "linecolor": "white",
            "ticks": ""
           }
          },
          "title": {
           "x": 0.05
          },
          "xaxis": {
           "automargin": true,
           "gridcolor": "white",
           "linecolor": "white",
           "ticks": "",
           "title": {
            "standoff": 15
           },
           "zerolinecolor": "white",
           "zerolinewidth": 2
          },
          "yaxis": {
           "automargin": true,
           "gridcolor": "white",
           "linecolor": "white",
           "ticks": "",
           "title": {
            "standoff": 15
           },
           "zerolinecolor": "white",
           "zerolinewidth": 2
          }
         }
        },
        "title": {
         "text": "Varazdin"
        },
        "xaxis": {
         "anchor": "y",
         "domain": [
          0,
          1
         ],
         "title": {
          "text": "calendar_week"
         }
        },
        "yaxis": {
         "anchor": "x",
         "domain": [
          0,
          1
         ],
         "title": {
          "text": "avg_price_sqrm"
         }
        }
       }
      }
     },
     "metadata": {},
     "output_type": "display_data"
    },
    {
     "data": {
      "application/vnd.plotly.v1+json": {
       "config": {
        "plotlyServerURL": "https://plot.ly"
       },
       "data": [
        {
         "hovertemplate": "city=Rijeka<br>calendar_week=%{x}<br>avg_price_sqrm=%{y}<extra></extra>",
         "legendgroup": "Rijeka",
         "line": {
          "color": "#636efa",
          "dash": "solid"
         },
         "marker": {
          "symbol": "circle"
         },
         "mode": "lines+markers",
         "name": "Rijeka",
         "orientation": "v",
         "showlegend": true,
         "type": "scatter",
         "x": [
          33,
          35,
          36,
          37
         ],
         "xaxis": "x",
         "y": [
          1996,
          2002,
          2008,
          2017
         ],
         "yaxis": "y"
        }
       ],
       "layout": {
        "legend": {
         "title": {
          "text": "city"
         },
         "tracegroupgap": 0
        },
        "template": {
         "data": {
          "bar": [
           {
            "error_x": {
             "color": "#2a3f5f"
            },
            "error_y": {
             "color": "#2a3f5f"
            },
            "marker": {
             "line": {
              "color": "#E5ECF6",
              "width": 0.5
             },
             "pattern": {
              "fillmode": "overlay",
              "size": 10,
              "solidity": 0.2
             }
            },
            "type": "bar"
           }
          ],
          "barpolar": [
           {
            "marker": {
             "line": {
              "color": "#E5ECF6",
              "width": 0.5
             },
             "pattern": {
              "fillmode": "overlay",
              "size": 10,
              "solidity": 0.2
             }
            },
            "type": "barpolar"
           }
          ],
          "carpet": [
           {
            "aaxis": {
             "endlinecolor": "#2a3f5f",
             "gridcolor": "white",
             "linecolor": "white",
             "minorgridcolor": "white",
             "startlinecolor": "#2a3f5f"
            },
            "baxis": {
             "endlinecolor": "#2a3f5f",
             "gridcolor": "white",
             "linecolor": "white",
             "minorgridcolor": "white",
             "startlinecolor": "#2a3f5f"
            },
            "type": "carpet"
           }
          ],
          "choropleth": [
           {
            "colorbar": {
             "outlinewidth": 0,
             "ticks": ""
            },
            "type": "choropleth"
           }
          ],
          "contour": [
           {
            "colorbar": {
             "outlinewidth": 0,
             "ticks": ""
            },
            "colorscale": [
             [
              0,
              "#0d0887"
             ],
             [
              0.1111111111111111,
              "#46039f"
             ],
             [
              0.2222222222222222,
              "#7201a8"
             ],
             [
              0.3333333333333333,
              "#9c179e"
             ],
             [
              0.4444444444444444,
              "#bd3786"
             ],
             [
              0.5555555555555556,
              "#d8576b"
             ],
             [
              0.6666666666666666,
              "#ed7953"
             ],
             [
              0.7777777777777778,
              "#fb9f3a"
             ],
             [
              0.8888888888888888,
              "#fdca26"
             ],
             [
              1,
              "#f0f921"
             ]
            ],
            "type": "contour"
           }
          ],
          "contourcarpet": [
           {
            "colorbar": {
             "outlinewidth": 0,
             "ticks": ""
            },
            "type": "contourcarpet"
           }
          ],
          "heatmap": [
           {
            "colorbar": {
             "outlinewidth": 0,
             "ticks": ""
            },
            "colorscale": [
             [
              0,
              "#0d0887"
             ],
             [
              0.1111111111111111,
              "#46039f"
             ],
             [
              0.2222222222222222,
              "#7201a8"
             ],
             [
              0.3333333333333333,
              "#9c179e"
             ],
             [
              0.4444444444444444,
              "#bd3786"
             ],
             [
              0.5555555555555556,
              "#d8576b"
             ],
             [
              0.6666666666666666,
              "#ed7953"
             ],
             [
              0.7777777777777778,
              "#fb9f3a"
             ],
             [
              0.8888888888888888,
              "#fdca26"
             ],
             [
              1,
              "#f0f921"
             ]
            ],
            "type": "heatmap"
           }
          ],
          "heatmapgl": [
           {
            "colorbar": {
             "outlinewidth": 0,
             "ticks": ""
            },
            "colorscale": [
             [
              0,
              "#0d0887"
             ],
             [
              0.1111111111111111,
              "#46039f"
             ],
             [
              0.2222222222222222,
              "#7201a8"
             ],
             [
              0.3333333333333333,
              "#9c179e"
             ],
             [
              0.4444444444444444,
              "#bd3786"
             ],
             [
              0.5555555555555556,
              "#d8576b"
             ],
             [
              0.6666666666666666,
              "#ed7953"
             ],
             [
              0.7777777777777778,
              "#fb9f3a"
             ],
             [
              0.8888888888888888,
              "#fdca26"
             ],
             [
              1,
              "#f0f921"
             ]
            ],
            "type": "heatmapgl"
           }
          ],
          "histogram": [
           {
            "marker": {
             "pattern": {
              "fillmode": "overlay",
              "size": 10,
              "solidity": 0.2
             }
            },
            "type": "histogram"
           }
          ],
          "histogram2d": [
           {
            "colorbar": {
             "outlinewidth": 0,
             "ticks": ""
            },
            "colorscale": [
             [
              0,
              "#0d0887"
             ],
             [
              0.1111111111111111,
              "#46039f"
             ],
             [
              0.2222222222222222,
              "#7201a8"
             ],
             [
              0.3333333333333333,
              "#9c179e"
             ],
             [
              0.4444444444444444,
              "#bd3786"
             ],
             [
              0.5555555555555556,
              "#d8576b"
             ],
             [
              0.6666666666666666,
              "#ed7953"
             ],
             [
              0.7777777777777778,
              "#fb9f3a"
             ],
             [
              0.8888888888888888,
              "#fdca26"
             ],
             [
              1,
              "#f0f921"
             ]
            ],
            "type": "histogram2d"
           }
          ],
          "histogram2dcontour": [
           {
            "colorbar": {
             "outlinewidth": 0,
             "ticks": ""
            },
            "colorscale": [
             [
              0,
              "#0d0887"
             ],
             [
              0.1111111111111111,
              "#46039f"
             ],
             [
              0.2222222222222222,
              "#7201a8"
             ],
             [
              0.3333333333333333,
              "#9c179e"
             ],
             [
              0.4444444444444444,
              "#bd3786"
             ],
             [
              0.5555555555555556,
              "#d8576b"
             ],
             [
              0.6666666666666666,
              "#ed7953"
             ],
             [
              0.7777777777777778,
              "#fb9f3a"
             ],
             [
              0.8888888888888888,
              "#fdca26"
             ],
             [
              1,
              "#f0f921"
             ]
            ],
            "type": "histogram2dcontour"
           }
          ],
          "mesh3d": [
           {
            "colorbar": {
             "outlinewidth": 0,
             "ticks": ""
            },
            "type": "mesh3d"
           }
          ],
          "parcoords": [
           {
            "line": {
             "colorbar": {
              "outlinewidth": 0,
              "ticks": ""
             }
            },
            "type": "parcoords"
           }
          ],
          "pie": [
           {
            "automargin": true,
            "type": "pie"
           }
          ],
          "scatter": [
           {
            "marker": {
             "colorbar": {
              "outlinewidth": 0,
              "ticks": ""
             }
            },
            "type": "scatter"
           }
          ],
          "scatter3d": [
           {
            "line": {
             "colorbar": {
              "outlinewidth": 0,
              "ticks": ""
             }
            },
            "marker": {
             "colorbar": {
              "outlinewidth": 0,
              "ticks": ""
             }
            },
            "type": "scatter3d"
           }
          ],
          "scattercarpet": [
           {
            "marker": {
             "colorbar": {
              "outlinewidth": 0,
              "ticks": ""
             }
            },
            "type": "scattercarpet"
           }
          ],
          "scattergeo": [
           {
            "marker": {
             "colorbar": {
              "outlinewidth": 0,
              "ticks": ""
             }
            },
            "type": "scattergeo"
           }
          ],
          "scattergl": [
           {
            "marker": {
             "colorbar": {
              "outlinewidth": 0,
              "ticks": ""
             }
            },
            "type": "scattergl"
           }
          ],
          "scattermapbox": [
           {
            "marker": {
             "colorbar": {
              "outlinewidth": 0,
              "ticks": ""
             }
            },
            "type": "scattermapbox"
           }
          ],
          "scatterpolar": [
           {
            "marker": {
             "colorbar": {
              "outlinewidth": 0,
              "ticks": ""
             }
            },
            "type": "scatterpolar"
           }
          ],
          "scatterpolargl": [
           {
            "marker": {
             "colorbar": {
              "outlinewidth": 0,
              "ticks": ""
             }
            },
            "type": "scatterpolargl"
           }
          ],
          "scatterternary": [
           {
            "marker": {
             "colorbar": {
              "outlinewidth": 0,
              "ticks": ""
             }
            },
            "type": "scatterternary"
           }
          ],
          "surface": [
           {
            "colorbar": {
             "outlinewidth": 0,
             "ticks": ""
            },
            "colorscale": [
             [
              0,
              "#0d0887"
             ],
             [
              0.1111111111111111,
              "#46039f"
             ],
             [
              0.2222222222222222,
              "#7201a8"
             ],
             [
              0.3333333333333333,
              "#9c179e"
             ],
             [
              0.4444444444444444,
              "#bd3786"
             ],
             [
              0.5555555555555556,
              "#d8576b"
             ],
             [
              0.6666666666666666,
              "#ed7953"
             ],
             [
              0.7777777777777778,
              "#fb9f3a"
             ],
             [
              0.8888888888888888,
              "#fdca26"
             ],
             [
              1,
              "#f0f921"
             ]
            ],
            "type": "surface"
           }
          ],
          "table": [
           {
            "cells": {
             "fill": {
              "color": "#EBF0F8"
             },
             "line": {
              "color": "white"
             }
            },
            "header": {
             "fill": {
              "color": "#C8D4E3"
             },
             "line": {
              "color": "white"
             }
            },
            "type": "table"
           }
          ]
         },
         "layout": {
          "annotationdefaults": {
           "arrowcolor": "#2a3f5f",
           "arrowhead": 0,
           "arrowwidth": 1
          },
          "autotypenumbers": "strict",
          "coloraxis": {
           "colorbar": {
            "outlinewidth": 0,
            "ticks": ""
           }
          },
          "colorscale": {
           "diverging": [
            [
             0,
             "#8e0152"
            ],
            [
             0.1,
             "#c51b7d"
            ],
            [
             0.2,
             "#de77ae"
            ],
            [
             0.3,
             "#f1b6da"
            ],
            [
             0.4,
             "#fde0ef"
            ],
            [
             0.5,
             "#f7f7f7"
            ],
            [
             0.6,
             "#e6f5d0"
            ],
            [
             0.7,
             "#b8e186"
            ],
            [
             0.8,
             "#7fbc41"
            ],
            [
             0.9,
             "#4d9221"
            ],
            [
             1,
             "#276419"
            ]
           ],
           "sequential": [
            [
             0,
             "#0d0887"
            ],
            [
             0.1111111111111111,
             "#46039f"
            ],
            [
             0.2222222222222222,
             "#7201a8"
            ],
            [
             0.3333333333333333,
             "#9c179e"
            ],
            [
             0.4444444444444444,
             "#bd3786"
            ],
            [
             0.5555555555555556,
             "#d8576b"
            ],
            [
             0.6666666666666666,
             "#ed7953"
            ],
            [
             0.7777777777777778,
             "#fb9f3a"
            ],
            [
             0.8888888888888888,
             "#fdca26"
            ],
            [
             1,
             "#f0f921"
            ]
           ],
           "sequentialminus": [
            [
             0,
             "#0d0887"
            ],
            [
             0.1111111111111111,
             "#46039f"
            ],
            [
             0.2222222222222222,
             "#7201a8"
            ],
            [
             0.3333333333333333,
             "#9c179e"
            ],
            [
             0.4444444444444444,
             "#bd3786"
            ],
            [
             0.5555555555555556,
             "#d8576b"
            ],
            [
             0.6666666666666666,
             "#ed7953"
            ],
            [
             0.7777777777777778,
             "#fb9f3a"
            ],
            [
             0.8888888888888888,
             "#fdca26"
            ],
            [
             1,
             "#f0f921"
            ]
           ]
          },
          "colorway": [
           "#636efa",
           "#EF553B",
           "#00cc96",
           "#ab63fa",
           "#FFA15A",
           "#19d3f3",
           "#FF6692",
           "#B6E880",
           "#FF97FF",
           "#FECB52"
          ],
          "font": {
           "color": "#2a3f5f"
          },
          "geo": {
           "bgcolor": "white",
           "lakecolor": "white",
           "landcolor": "#E5ECF6",
           "showlakes": true,
           "showland": true,
           "subunitcolor": "white"
          },
          "hoverlabel": {
           "align": "left"
          },
          "hovermode": "closest",
          "mapbox": {
           "style": "light"
          },
          "paper_bgcolor": "white",
          "plot_bgcolor": "#E5ECF6",
          "polar": {
           "angularaxis": {
            "gridcolor": "white",
            "linecolor": "white",
            "ticks": ""
           },
           "bgcolor": "#E5ECF6",
           "radialaxis": {
            "gridcolor": "white",
            "linecolor": "white",
            "ticks": ""
           }
          },
          "scene": {
           "xaxis": {
            "backgroundcolor": "#E5ECF6",
            "gridcolor": "white",
            "gridwidth": 2,
            "linecolor": "white",
            "showbackground": true,
            "ticks": "",
            "zerolinecolor": "white"
           },
           "yaxis": {
            "backgroundcolor": "#E5ECF6",
            "gridcolor": "white",
            "gridwidth": 2,
            "linecolor": "white",
            "showbackground": true,
            "ticks": "",
            "zerolinecolor": "white"
           },
           "zaxis": {
            "backgroundcolor": "#E5ECF6",
            "gridcolor": "white",
            "gridwidth": 2,
            "linecolor": "white",
            "showbackground": true,
            "ticks": "",
            "zerolinecolor": "white"
           }
          },
          "shapedefaults": {
           "line": {
            "color": "#2a3f5f"
           }
          },
          "ternary": {
           "aaxis": {
            "gridcolor": "white",
            "linecolor": "white",
            "ticks": ""
           },
           "baxis": {
            "gridcolor": "white",
            "linecolor": "white",
            "ticks": ""
           },
           "bgcolor": "#E5ECF6",
           "caxis": {
            "gridcolor": "white",
            "linecolor": "white",
            "ticks": ""
           }
          },
          "title": {
           "x": 0.05
          },
          "xaxis": {
           "automargin": true,
           "gridcolor": "white",
           "linecolor": "white",
           "ticks": "",
           "title": {
            "standoff": 15
           },
           "zerolinecolor": "white",
           "zerolinewidth": 2
          },
          "yaxis": {
           "automargin": true,
           "gridcolor": "white",
           "linecolor": "white",
           "ticks": "",
           "title": {
            "standoff": 15
           },
           "zerolinecolor": "white",
           "zerolinewidth": 2
          }
         }
        },
        "title": {
         "text": "Rijeka"
        },
        "xaxis": {
         "anchor": "y",
         "domain": [
          0,
          1
         ],
         "title": {
          "text": "calendar_week"
         }
        },
        "yaxis": {
         "anchor": "x",
         "domain": [
          0,
          1
         ],
         "title": {
          "text": "avg_price_sqrm"
         }
        }
       }
      }
     },
     "metadata": {},
     "output_type": "display_data"
    },
    {
     "data": {
      "application/vnd.plotly.v1+json": {
       "config": {
        "plotlyServerURL": "https://plot.ly"
       },
       "data": [
        {
         "hovertemplate": "city=Split<br>calendar_week=%{x}<br>avg_price_sqrm=%{y}<extra></extra>",
         "legendgroup": "Split",
         "line": {
          "color": "#636efa",
          "dash": "solid"
         },
         "marker": {
          "symbol": "circle"
         },
         "mode": "lines+markers",
         "name": "Split",
         "orientation": "v",
         "showlegend": true,
         "type": "scatter",
         "x": [
          33,
          34,
          35,
          36,
          37
         ],
         "xaxis": "x",
         "y": [
          3616,
          3647,
          3678,
          3684,
          3696
         ],
         "yaxis": "y"
        }
       ],
       "layout": {
        "legend": {
         "title": {
          "text": "city"
         },
         "tracegroupgap": 0
        },
        "template": {
         "data": {
          "bar": [
           {
            "error_x": {
             "color": "#2a3f5f"
            },
            "error_y": {
             "color": "#2a3f5f"
            },
            "marker": {
             "line": {
              "color": "#E5ECF6",
              "width": 0.5
             },
             "pattern": {
              "fillmode": "overlay",
              "size": 10,
              "solidity": 0.2
             }
            },
            "type": "bar"
           }
          ],
          "barpolar": [
           {
            "marker": {
             "line": {
              "color": "#E5ECF6",
              "width": 0.5
             },
             "pattern": {
              "fillmode": "overlay",
              "size": 10,
              "solidity": 0.2
             }
            },
            "type": "barpolar"
           }
          ],
          "carpet": [
           {
            "aaxis": {
             "endlinecolor": "#2a3f5f",
             "gridcolor": "white",
             "linecolor": "white",
             "minorgridcolor": "white",
             "startlinecolor": "#2a3f5f"
            },
            "baxis": {
             "endlinecolor": "#2a3f5f",
             "gridcolor": "white",
             "linecolor": "white",
             "minorgridcolor": "white",
             "startlinecolor": "#2a3f5f"
            },
            "type": "carpet"
           }
          ],
          "choropleth": [
           {
            "colorbar": {
             "outlinewidth": 0,
             "ticks": ""
            },
            "type": "choropleth"
           }
          ],
          "contour": [
           {
            "colorbar": {
             "outlinewidth": 0,
             "ticks": ""
            },
            "colorscale": [
             [
              0,
              "#0d0887"
             ],
             [
              0.1111111111111111,
              "#46039f"
             ],
             [
              0.2222222222222222,
              "#7201a8"
             ],
             [
              0.3333333333333333,
              "#9c179e"
             ],
             [
              0.4444444444444444,
              "#bd3786"
             ],
             [
              0.5555555555555556,
              "#d8576b"
             ],
             [
              0.6666666666666666,
              "#ed7953"
             ],
             [
              0.7777777777777778,
              "#fb9f3a"
             ],
             [
              0.8888888888888888,
              "#fdca26"
             ],
             [
              1,
              "#f0f921"
             ]
            ],
            "type": "contour"
           }
          ],
          "contourcarpet": [
           {
            "colorbar": {
             "outlinewidth": 0,
             "ticks": ""
            },
            "type": "contourcarpet"
           }
          ],
          "heatmap": [
           {
            "colorbar": {
             "outlinewidth": 0,
             "ticks": ""
            },
            "colorscale": [
             [
              0,
              "#0d0887"
             ],
             [
              0.1111111111111111,
              "#46039f"
             ],
             [
              0.2222222222222222,
              "#7201a8"
             ],
             [
              0.3333333333333333,
              "#9c179e"
             ],
             [
              0.4444444444444444,
              "#bd3786"
             ],
             [
              0.5555555555555556,
              "#d8576b"
             ],
             [
              0.6666666666666666,
              "#ed7953"
             ],
             [
              0.7777777777777778,
              "#fb9f3a"
             ],
             [
              0.8888888888888888,
              "#fdca26"
             ],
             [
              1,
              "#f0f921"
             ]
            ],
            "type": "heatmap"
           }
          ],
          "heatmapgl": [
           {
            "colorbar": {
             "outlinewidth": 0,
             "ticks": ""
            },
            "colorscale": [
             [
              0,
              "#0d0887"
             ],
             [
              0.1111111111111111,
              "#46039f"
             ],
             [
              0.2222222222222222,
              "#7201a8"
             ],
             [
              0.3333333333333333,
              "#9c179e"
             ],
             [
              0.4444444444444444,
              "#bd3786"
             ],
             [
              0.5555555555555556,
              "#d8576b"
             ],
             [
              0.6666666666666666,
              "#ed7953"
             ],
             [
              0.7777777777777778,
              "#fb9f3a"
             ],
             [
              0.8888888888888888,
              "#fdca26"
             ],
             [
              1,
              "#f0f921"
             ]
            ],
            "type": "heatmapgl"
           }
          ],
          "histogram": [
           {
            "marker": {
             "pattern": {
              "fillmode": "overlay",
              "size": 10,
              "solidity": 0.2
             }
            },
            "type": "histogram"
           }
          ],
          "histogram2d": [
           {
            "colorbar": {
             "outlinewidth": 0,
             "ticks": ""
            },
            "colorscale": [
             [
              0,
              "#0d0887"
             ],
             [
              0.1111111111111111,
              "#46039f"
             ],
             [
              0.2222222222222222,
              "#7201a8"
             ],
             [
              0.3333333333333333,
              "#9c179e"
             ],
             [
              0.4444444444444444,
              "#bd3786"
             ],
             [
              0.5555555555555556,
              "#d8576b"
             ],
             [
              0.6666666666666666,
              "#ed7953"
             ],
             [
              0.7777777777777778,
              "#fb9f3a"
             ],
             [
              0.8888888888888888,
              "#fdca26"
             ],
             [
              1,
              "#f0f921"
             ]
            ],
            "type": "histogram2d"
           }
          ],
          "histogram2dcontour": [
           {
            "colorbar": {
             "outlinewidth": 0,
             "ticks": ""
            },
            "colorscale": [
             [
              0,
              "#0d0887"
             ],
             [
              0.1111111111111111,
              "#46039f"
             ],
             [
              0.2222222222222222,
              "#7201a8"
             ],
             [
              0.3333333333333333,
              "#9c179e"
             ],
             [
              0.4444444444444444,
              "#bd3786"
             ],
             [
              0.5555555555555556,
              "#d8576b"
             ],
             [
              0.6666666666666666,
              "#ed7953"
             ],
             [
              0.7777777777777778,
              "#fb9f3a"
             ],
             [
              0.8888888888888888,
              "#fdca26"
             ],
             [
              1,
              "#f0f921"
             ]
            ],
            "type": "histogram2dcontour"
           }
          ],
          "mesh3d": [
           {
            "colorbar": {
             "outlinewidth": 0,
             "ticks": ""
            },
            "type": "mesh3d"
           }
          ],
          "parcoords": [
           {
            "line": {
             "colorbar": {
              "outlinewidth": 0,
              "ticks": ""
             }
            },
            "type": "parcoords"
           }
          ],
          "pie": [
           {
            "automargin": true,
            "type": "pie"
           }
          ],
          "scatter": [
           {
            "marker": {
             "colorbar": {
              "outlinewidth": 0,
              "ticks": ""
             }
            },
            "type": "scatter"
           }
          ],
          "scatter3d": [
           {
            "line": {
             "colorbar": {
              "outlinewidth": 0,
              "ticks": ""
             }
            },
            "marker": {
             "colorbar": {
              "outlinewidth": 0,
              "ticks": ""
             }
            },
            "type": "scatter3d"
           }
          ],
          "scattercarpet": [
           {
            "marker": {
             "colorbar": {
              "outlinewidth": 0,
              "ticks": ""
             }
            },
            "type": "scattercarpet"
           }
          ],
          "scattergeo": [
           {
            "marker": {
             "colorbar": {
              "outlinewidth": 0,
              "ticks": ""
             }
            },
            "type": "scattergeo"
           }
          ],
          "scattergl": [
           {
            "marker": {
             "colorbar": {
              "outlinewidth": 0,
              "ticks": ""
             }
            },
            "type": "scattergl"
           }
          ],
          "scattermapbox": [
           {
            "marker": {
             "colorbar": {
              "outlinewidth": 0,
              "ticks": ""
             }
            },
            "type": "scattermapbox"
           }
          ],
          "scatterpolar": [
           {
            "marker": {
             "colorbar": {
              "outlinewidth": 0,
              "ticks": ""
             }
            },
            "type": "scatterpolar"
           }
          ],
          "scatterpolargl": [
           {
            "marker": {
             "colorbar": {
              "outlinewidth": 0,
              "ticks": ""
             }
            },
            "type": "scatterpolargl"
           }
          ],
          "scatterternary": [
           {
            "marker": {
             "colorbar": {
              "outlinewidth": 0,
              "ticks": ""
             }
            },
            "type": "scatterternary"
           }
          ],
          "surface": [
           {
            "colorbar": {
             "outlinewidth": 0,
             "ticks": ""
            },
            "colorscale": [
             [
              0,
              "#0d0887"
             ],
             [
              0.1111111111111111,
              "#46039f"
             ],
             [
              0.2222222222222222,
              "#7201a8"
             ],
             [
              0.3333333333333333,
              "#9c179e"
             ],
             [
              0.4444444444444444,
              "#bd3786"
             ],
             [
              0.5555555555555556,
              "#d8576b"
             ],
             [
              0.6666666666666666,
              "#ed7953"
             ],
             [
              0.7777777777777778,
              "#fb9f3a"
             ],
             [
              0.8888888888888888,
              "#fdca26"
             ],
             [
              1,
              "#f0f921"
             ]
            ],
            "type": "surface"
           }
          ],
          "table": [
           {
            "cells": {
             "fill": {
              "color": "#EBF0F8"
             },
             "line": {
              "color": "white"
             }
            },
            "header": {
             "fill": {
              "color": "#C8D4E3"
             },
             "line": {
              "color": "white"
             }
            },
            "type": "table"
           }
          ]
         },
         "layout": {
          "annotationdefaults": {
           "arrowcolor": "#2a3f5f",
           "arrowhead": 0,
           "arrowwidth": 1
          },
          "autotypenumbers": "strict",
          "coloraxis": {
           "colorbar": {
            "outlinewidth": 0,
            "ticks": ""
           }
          },
          "colorscale": {
           "diverging": [
            [
             0,
             "#8e0152"
            ],
            [
             0.1,
             "#c51b7d"
            ],
            [
             0.2,
             "#de77ae"
            ],
            [
             0.3,
             "#f1b6da"
            ],
            [
             0.4,
             "#fde0ef"
            ],
            [
             0.5,
             "#f7f7f7"
            ],
            [
             0.6,
             "#e6f5d0"
            ],
            [
             0.7,
             "#b8e186"
            ],
            [
             0.8,
             "#7fbc41"
            ],
            [
             0.9,
             "#4d9221"
            ],
            [
             1,
             "#276419"
            ]
           ],
           "sequential": [
            [
             0,
             "#0d0887"
            ],
            [
             0.1111111111111111,
             "#46039f"
            ],
            [
             0.2222222222222222,
             "#7201a8"
            ],
            [
             0.3333333333333333,
             "#9c179e"
            ],
            [
             0.4444444444444444,
             "#bd3786"
            ],
            [
             0.5555555555555556,
             "#d8576b"
            ],
            [
             0.6666666666666666,
             "#ed7953"
            ],
            [
             0.7777777777777778,
             "#fb9f3a"
            ],
            [
             0.8888888888888888,
             "#fdca26"
            ],
            [
             1,
             "#f0f921"
            ]
           ],
           "sequentialminus": [
            [
             0,
             "#0d0887"
            ],
            [
             0.1111111111111111,
             "#46039f"
            ],
            [
             0.2222222222222222,
             "#7201a8"
            ],
            [
             0.3333333333333333,
             "#9c179e"
            ],
            [
             0.4444444444444444,
             "#bd3786"
            ],
            [
             0.5555555555555556,
             "#d8576b"
            ],
            [
             0.6666666666666666,
             "#ed7953"
            ],
            [
             0.7777777777777778,
             "#fb9f3a"
            ],
            [
             0.8888888888888888,
             "#fdca26"
            ],
            [
             1,
             "#f0f921"
            ]
           ]
          },
          "colorway": [
           "#636efa",
           "#EF553B",
           "#00cc96",
           "#ab63fa",
           "#FFA15A",
           "#19d3f3",
           "#FF6692",
           "#B6E880",
           "#FF97FF",
           "#FECB52"
          ],
          "font": {
           "color": "#2a3f5f"
          },
          "geo": {
           "bgcolor": "white",
           "lakecolor": "white",
           "landcolor": "#E5ECF6",
           "showlakes": true,
           "showland": true,
           "subunitcolor": "white"
          },
          "hoverlabel": {
           "align": "left"
          },
          "hovermode": "closest",
          "mapbox": {
           "style": "light"
          },
          "paper_bgcolor": "white",
          "plot_bgcolor": "#E5ECF6",
          "polar": {
           "angularaxis": {
            "gridcolor": "white",
            "linecolor": "white",
            "ticks": ""
           },
           "bgcolor": "#E5ECF6",
           "radialaxis": {
            "gridcolor": "white",
            "linecolor": "white",
            "ticks": ""
           }
          },
          "scene": {
           "xaxis": {
            "backgroundcolor": "#E5ECF6",
            "gridcolor": "white",
            "gridwidth": 2,
            "linecolor": "white",
            "showbackground": true,
            "ticks": "",
            "zerolinecolor": "white"
           },
           "yaxis": {
            "backgroundcolor": "#E5ECF6",
            "gridcolor": "white",
            "gridwidth": 2,
            "linecolor": "white",
            "showbackground": true,
            "ticks": "",
            "zerolinecolor": "white"
           },
           "zaxis": {
            "backgroundcolor": "#E5ECF6",
            "gridcolor": "white",
            "gridwidth": 2,
            "linecolor": "white",
            "showbackground": true,
            "ticks": "",
            "zerolinecolor": "white"
           }
          },
          "shapedefaults": {
           "line": {
            "color": "#2a3f5f"
           }
          },
          "ternary": {
           "aaxis": {
            "gridcolor": "white",
            "linecolor": "white",
            "ticks": ""
           },
           "baxis": {
            "gridcolor": "white",
            "linecolor": "white",
            "ticks": ""
           },
           "bgcolor": "#E5ECF6",
           "caxis": {
            "gridcolor": "white",
            "linecolor": "white",
            "ticks": ""
           }
          },
          "title": {
           "x": 0.05
          },
          "xaxis": {
           "automargin": true,
           "gridcolor": "white",
           "linecolor": "white",
           "ticks": "",
           "title": {
            "standoff": 15
           },
           "zerolinecolor": "white",
           "zerolinewidth": 2
          },
          "yaxis": {
           "automargin": true,
           "gridcolor": "white",
           "linecolor": "white",
           "ticks": "",
           "title": {
            "standoff": 15
           },
           "zerolinecolor": "white",
           "zerolinewidth": 2
          }
         }
        },
        "title": {
         "text": "Split"
        },
        "xaxis": {
         "anchor": "y",
         "domain": [
          0,
          1
         ],
         "title": {
          "text": "calendar_week"
         }
        },
        "yaxis": {
         "anchor": "x",
         "domain": [
          0,
          1
         ],
         "title": {
          "text": "avg_price_sqrm"
         }
        }
       }
      }
     },
     "metadata": {},
     "output_type": "display_data"
    }
   ],
   "source": [
    "#PLOTLY FOR DJANGO OBJECTS\n",
    "df = pd.read_excel(\"Django_Objects.xlsx\")\n",
    "\n",
    "for grad in list(df[\"city\"].unique()):\n",
    "    fig = px.line(df[df[\"city\"] == grad], x=\"calendar_week\", y=\"avg_price_sqrm\", color = 'city', markers=True, title=grad)\n",
    "    fig.show()"
   ]
  },
  {
   "cell_type": "code",
   "execution_count": 4,
   "metadata": {},
   "outputs": [
    {
     "data": {
      "application/vnd.plotly.v1+json": {
       "config": {
        "plotlyServerURL": "https://plot.ly"
       },
       "data": [
        {
         "hovertemplate": "city=Rovinj<br>calendar_week=%{x}<br>raw_entries=%{y}<extra></extra>",
         "legendgroup": "Rovinj",
         "line": {
          "color": "#636efa",
          "dash": "solid"
         },
         "marker": {
          "symbol": "circle"
         },
         "mode": "lines+markers",
         "name": "Rovinj",
         "orientation": "v",
         "showlegend": true,
         "type": "scatter",
         "x": [
          30,
          33,
          34,
          35,
          35,
          36,
          37
         ],
         "xaxis": "x",
         "y": [
          544,
          569,
          572,
          562,
          565,
          427,
          571
         ],
         "yaxis": "y"
        }
       ],
       "layout": {
        "legend": {
         "title": {
          "text": "city"
         },
         "tracegroupgap": 0
        },
        "template": {
         "data": {
          "bar": [
           {
            "error_x": {
             "color": "#2a3f5f"
            },
            "error_y": {
             "color": "#2a3f5f"
            },
            "marker": {
             "line": {
              "color": "#E5ECF6",
              "width": 0.5
             },
             "pattern": {
              "fillmode": "overlay",
              "size": 10,
              "solidity": 0.2
             }
            },
            "type": "bar"
           }
          ],
          "barpolar": [
           {
            "marker": {
             "line": {
              "color": "#E5ECF6",
              "width": 0.5
             },
             "pattern": {
              "fillmode": "overlay",
              "size": 10,
              "solidity": 0.2
             }
            },
            "type": "barpolar"
           }
          ],
          "carpet": [
           {
            "aaxis": {
             "endlinecolor": "#2a3f5f",
             "gridcolor": "white",
             "linecolor": "white",
             "minorgridcolor": "white",
             "startlinecolor": "#2a3f5f"
            },
            "baxis": {
             "endlinecolor": "#2a3f5f",
             "gridcolor": "white",
             "linecolor": "white",
             "minorgridcolor": "white",
             "startlinecolor": "#2a3f5f"
            },
            "type": "carpet"
           }
          ],
          "choropleth": [
           {
            "colorbar": {
             "outlinewidth": 0,
             "ticks": ""
            },
            "type": "choropleth"
           }
          ],
          "contour": [
           {
            "colorbar": {
             "outlinewidth": 0,
             "ticks": ""
            },
            "colorscale": [
             [
              0,
              "#0d0887"
             ],
             [
              0.1111111111111111,
              "#46039f"
             ],
             [
              0.2222222222222222,
              "#7201a8"
             ],
             [
              0.3333333333333333,
              "#9c179e"
             ],
             [
              0.4444444444444444,
              "#bd3786"
             ],
             [
              0.5555555555555556,
              "#d8576b"
             ],
             [
              0.6666666666666666,
              "#ed7953"
             ],
             [
              0.7777777777777778,
              "#fb9f3a"
             ],
             [
              0.8888888888888888,
              "#fdca26"
             ],
             [
              1,
              "#f0f921"
             ]
            ],
            "type": "contour"
           }
          ],
          "contourcarpet": [
           {
            "colorbar": {
             "outlinewidth": 0,
             "ticks": ""
            },
            "type": "contourcarpet"
           }
          ],
          "heatmap": [
           {
            "colorbar": {
             "outlinewidth": 0,
             "ticks": ""
            },
            "colorscale": [
             [
              0,
              "#0d0887"
             ],
             [
              0.1111111111111111,
              "#46039f"
             ],
             [
              0.2222222222222222,
              "#7201a8"
             ],
             [
              0.3333333333333333,
              "#9c179e"
             ],
             [
              0.4444444444444444,
              "#bd3786"
             ],
             [
              0.5555555555555556,
              "#d8576b"
             ],
             [
              0.6666666666666666,
              "#ed7953"
             ],
             [
              0.7777777777777778,
              "#fb9f3a"
             ],
             [
              0.8888888888888888,
              "#fdca26"
             ],
             [
              1,
              "#f0f921"
             ]
            ],
            "type": "heatmap"
           }
          ],
          "heatmapgl": [
           {
            "colorbar": {
             "outlinewidth": 0,
             "ticks": ""
            },
            "colorscale": [
             [
              0,
              "#0d0887"
             ],
             [
              0.1111111111111111,
              "#46039f"
             ],
             [
              0.2222222222222222,
              "#7201a8"
             ],
             [
              0.3333333333333333,
              "#9c179e"
             ],
             [
              0.4444444444444444,
              "#bd3786"
             ],
             [
              0.5555555555555556,
              "#d8576b"
             ],
             [
              0.6666666666666666,
              "#ed7953"
             ],
             [
              0.7777777777777778,
              "#fb9f3a"
             ],
             [
              0.8888888888888888,
              "#fdca26"
             ],
             [
              1,
              "#f0f921"
             ]
            ],
            "type": "heatmapgl"
           }
          ],
          "histogram": [
           {
            "marker": {
             "pattern": {
              "fillmode": "overlay",
              "size": 10,
              "solidity": 0.2
             }
            },
            "type": "histogram"
           }
          ],
          "histogram2d": [
           {
            "colorbar": {
             "outlinewidth": 0,
             "ticks": ""
            },
            "colorscale": [
             [
              0,
              "#0d0887"
             ],
             [
              0.1111111111111111,
              "#46039f"
             ],
             [
              0.2222222222222222,
              "#7201a8"
             ],
             [
              0.3333333333333333,
              "#9c179e"
             ],
             [
              0.4444444444444444,
              "#bd3786"
             ],
             [
              0.5555555555555556,
              "#d8576b"
             ],
             [
              0.6666666666666666,
              "#ed7953"
             ],
             [
              0.7777777777777778,
              "#fb9f3a"
             ],
             [
              0.8888888888888888,
              "#fdca26"
             ],
             [
              1,
              "#f0f921"
             ]
            ],
            "type": "histogram2d"
           }
          ],
          "histogram2dcontour": [
           {
            "colorbar": {
             "outlinewidth": 0,
             "ticks": ""
            },
            "colorscale": [
             [
              0,
              "#0d0887"
             ],
             [
              0.1111111111111111,
              "#46039f"
             ],
             [
              0.2222222222222222,
              "#7201a8"
             ],
             [
              0.3333333333333333,
              "#9c179e"
             ],
             [
              0.4444444444444444,
              "#bd3786"
             ],
             [
              0.5555555555555556,
              "#d8576b"
             ],
             [
              0.6666666666666666,
              "#ed7953"
             ],
             [
              0.7777777777777778,
              "#fb9f3a"
             ],
             [
              0.8888888888888888,
              "#fdca26"
             ],
             [
              1,
              "#f0f921"
             ]
            ],
            "type": "histogram2dcontour"
           }
          ],
          "mesh3d": [
           {
            "colorbar": {
             "outlinewidth": 0,
             "ticks": ""
            },
            "type": "mesh3d"
           }
          ],
          "parcoords": [
           {
            "line": {
             "colorbar": {
              "outlinewidth": 0,
              "ticks": ""
             }
            },
            "type": "parcoords"
           }
          ],
          "pie": [
           {
            "automargin": true,
            "type": "pie"
           }
          ],
          "scatter": [
           {
            "marker": {
             "colorbar": {
              "outlinewidth": 0,
              "ticks": ""
             }
            },
            "type": "scatter"
           }
          ],
          "scatter3d": [
           {
            "line": {
             "colorbar": {
              "outlinewidth": 0,
              "ticks": ""
             }
            },
            "marker": {
             "colorbar": {
              "outlinewidth": 0,
              "ticks": ""
             }
            },
            "type": "scatter3d"
           }
          ],
          "scattercarpet": [
           {
            "marker": {
             "colorbar": {
              "outlinewidth": 0,
              "ticks": ""
             }
            },
            "type": "scattercarpet"
           }
          ],
          "scattergeo": [
           {
            "marker": {
             "colorbar": {
              "outlinewidth": 0,
              "ticks": ""
             }
            },
            "type": "scattergeo"
           }
          ],
          "scattergl": [
           {
            "marker": {
             "colorbar": {
              "outlinewidth": 0,
              "ticks": ""
             }
            },
            "type": "scattergl"
           }
          ],
          "scattermapbox": [
           {
            "marker": {
             "colorbar": {
              "outlinewidth": 0,
              "ticks": ""
             }
            },
            "type": "scattermapbox"
           }
          ],
          "scatterpolar": [
           {
            "marker": {
             "colorbar": {
              "outlinewidth": 0,
              "ticks": ""
             }
            },
            "type": "scatterpolar"
           }
          ],
          "scatterpolargl": [
           {
            "marker": {
             "colorbar": {
              "outlinewidth": 0,
              "ticks": ""
             }
            },
            "type": "scatterpolargl"
           }
          ],
          "scatterternary": [
           {
            "marker": {
             "colorbar": {
              "outlinewidth": 0,
              "ticks": ""
             }
            },
            "type": "scatterternary"
           }
          ],
          "surface": [
           {
            "colorbar": {
             "outlinewidth": 0,
             "ticks": ""
            },
            "colorscale": [
             [
              0,
              "#0d0887"
             ],
             [
              0.1111111111111111,
              "#46039f"
             ],
             [
              0.2222222222222222,
              "#7201a8"
             ],
             [
              0.3333333333333333,
              "#9c179e"
             ],
             [
              0.4444444444444444,
              "#bd3786"
             ],
             [
              0.5555555555555556,
              "#d8576b"
             ],
             [
              0.6666666666666666,
              "#ed7953"
             ],
             [
              0.7777777777777778,
              "#fb9f3a"
             ],
             [
              0.8888888888888888,
              "#fdca26"
             ],
             [
              1,
              "#f0f921"
             ]
            ],
            "type": "surface"
           }
          ],
          "table": [
           {
            "cells": {
             "fill": {
              "color": "#EBF0F8"
             },
             "line": {
              "color": "white"
             }
            },
            "header": {
             "fill": {
              "color": "#C8D4E3"
             },
             "line": {
              "color": "white"
             }
            },
            "type": "table"
           }
          ]
         },
         "layout": {
          "annotationdefaults": {
           "arrowcolor": "#2a3f5f",
           "arrowhead": 0,
           "arrowwidth": 1
          },
          "autotypenumbers": "strict",
          "coloraxis": {
           "colorbar": {
            "outlinewidth": 0,
            "ticks": ""
           }
          },
          "colorscale": {
           "diverging": [
            [
             0,
             "#8e0152"
            ],
            [
             0.1,
             "#c51b7d"
            ],
            [
             0.2,
             "#de77ae"
            ],
            [
             0.3,
             "#f1b6da"
            ],
            [
             0.4,
             "#fde0ef"
            ],
            [
             0.5,
             "#f7f7f7"
            ],
            [
             0.6,
             "#e6f5d0"
            ],
            [
             0.7,
             "#b8e186"
            ],
            [
             0.8,
             "#7fbc41"
            ],
            [
             0.9,
             "#4d9221"
            ],
            [
             1,
             "#276419"
            ]
           ],
           "sequential": [
            [
             0,
             "#0d0887"
            ],
            [
             0.1111111111111111,
             "#46039f"
            ],
            [
             0.2222222222222222,
             "#7201a8"
            ],
            [
             0.3333333333333333,
             "#9c179e"
            ],
            [
             0.4444444444444444,
             "#bd3786"
            ],
            [
             0.5555555555555556,
             "#d8576b"
            ],
            [
             0.6666666666666666,
             "#ed7953"
            ],
            [
             0.7777777777777778,
             "#fb9f3a"
            ],
            [
             0.8888888888888888,
             "#fdca26"
            ],
            [
             1,
             "#f0f921"
            ]
           ],
           "sequentialminus": [
            [
             0,
             "#0d0887"
            ],
            [
             0.1111111111111111,
             "#46039f"
            ],
            [
             0.2222222222222222,
             "#7201a8"
            ],
            [
             0.3333333333333333,
             "#9c179e"
            ],
            [
             0.4444444444444444,
             "#bd3786"
            ],
            [
             0.5555555555555556,
             "#d8576b"
            ],
            [
             0.6666666666666666,
             "#ed7953"
            ],
            [
             0.7777777777777778,
             "#fb9f3a"
            ],
            [
             0.8888888888888888,
             "#fdca26"
            ],
            [
             1,
             "#f0f921"
            ]
           ]
          },
          "colorway": [
           "#636efa",
           "#EF553B",
           "#00cc96",
           "#ab63fa",
           "#FFA15A",
           "#19d3f3",
           "#FF6692",
           "#B6E880",
           "#FF97FF",
           "#FECB52"
          ],
          "font": {
           "color": "#2a3f5f"
          },
          "geo": {
           "bgcolor": "white",
           "lakecolor": "white",
           "landcolor": "#E5ECF6",
           "showlakes": true,
           "showland": true,
           "subunitcolor": "white"
          },
          "hoverlabel": {
           "align": "left"
          },
          "hovermode": "closest",
          "mapbox": {
           "style": "light"
          },
          "paper_bgcolor": "white",
          "plot_bgcolor": "#E5ECF6",
          "polar": {
           "angularaxis": {
            "gridcolor": "white",
            "linecolor": "white",
            "ticks": ""
           },
           "bgcolor": "#E5ECF6",
           "radialaxis": {
            "gridcolor": "white",
            "linecolor": "white",
            "ticks": ""
           }
          },
          "scene": {
           "xaxis": {
            "backgroundcolor": "#E5ECF6",
            "gridcolor": "white",
            "gridwidth": 2,
            "linecolor": "white",
            "showbackground": true,
            "ticks": "",
            "zerolinecolor": "white"
           },
           "yaxis": {
            "backgroundcolor": "#E5ECF6",
            "gridcolor": "white",
            "gridwidth": 2,
            "linecolor": "white",
            "showbackground": true,
            "ticks": "",
            "zerolinecolor": "white"
           },
           "zaxis": {
            "backgroundcolor": "#E5ECF6",
            "gridcolor": "white",
            "gridwidth": 2,
            "linecolor": "white",
            "showbackground": true,
            "ticks": "",
            "zerolinecolor": "white"
           }
          },
          "shapedefaults": {
           "line": {
            "color": "#2a3f5f"
           }
          },
          "ternary": {
           "aaxis": {
            "gridcolor": "white",
            "linecolor": "white",
            "ticks": ""
           },
           "baxis": {
            "gridcolor": "white",
            "linecolor": "white",
            "ticks": ""
           },
           "bgcolor": "#E5ECF6",
           "caxis": {
            "gridcolor": "white",
            "linecolor": "white",
            "ticks": ""
           }
          },
          "title": {
           "x": 0.05
          },
          "xaxis": {
           "automargin": true,
           "gridcolor": "white",
           "linecolor": "white",
           "ticks": "",
           "title": {
            "standoff": 15
           },
           "zerolinecolor": "white",
           "zerolinewidth": 2
          },
          "yaxis": {
           "automargin": true,
           "gridcolor": "white",
           "linecolor": "white",
           "ticks": "",
           "title": {
            "standoff": 15
           },
           "zerolinecolor": "white",
           "zerolinewidth": 2
          }
         }
        },
        "title": {
         "text": "Rovinj"
        },
        "xaxis": {
         "anchor": "y",
         "domain": [
          0,
          1
         ],
         "title": {
          "text": "calendar_week"
         }
        },
        "yaxis": {
         "anchor": "x",
         "domain": [
          0,
          1
         ],
         "title": {
          "text": "raw_entries"
         }
        }
       }
      }
     },
     "metadata": {},
     "output_type": "display_data"
    },
    {
     "data": {
      "application/vnd.plotly.v1+json": {
       "config": {
        "plotlyServerURL": "https://plot.ly"
       },
       "data": [
        {
         "hovertemplate": "city=Zagreb<br>calendar_week=%{x}<br>raw_entries=%{y}<extra></extra>",
         "legendgroup": "Zagreb",
         "line": {
          "color": "#636efa",
          "dash": "solid"
         },
         "marker": {
          "symbol": "circle"
         },
         "mode": "lines+markers",
         "name": "Zagreb",
         "orientation": "v",
         "showlegend": true,
         "type": "scatter",
         "x": [
          30,
          32,
          33,
          34,
          36,
          37
         ],
         "xaxis": "x",
         "y": [
          5836,
          5966,
          2317,
          5939,
          5915,
          5977
         ],
         "yaxis": "y"
        }
       ],
       "layout": {
        "legend": {
         "title": {
          "text": "city"
         },
         "tracegroupgap": 0
        },
        "template": {
         "data": {
          "bar": [
           {
            "error_x": {
             "color": "#2a3f5f"
            },
            "error_y": {
             "color": "#2a3f5f"
            },
            "marker": {
             "line": {
              "color": "#E5ECF6",
              "width": 0.5
             },
             "pattern": {
              "fillmode": "overlay",
              "size": 10,
              "solidity": 0.2
             }
            },
            "type": "bar"
           }
          ],
          "barpolar": [
           {
            "marker": {
             "line": {
              "color": "#E5ECF6",
              "width": 0.5
             },
             "pattern": {
              "fillmode": "overlay",
              "size": 10,
              "solidity": 0.2
             }
            },
            "type": "barpolar"
           }
          ],
          "carpet": [
           {
            "aaxis": {
             "endlinecolor": "#2a3f5f",
             "gridcolor": "white",
             "linecolor": "white",
             "minorgridcolor": "white",
             "startlinecolor": "#2a3f5f"
            },
            "baxis": {
             "endlinecolor": "#2a3f5f",
             "gridcolor": "white",
             "linecolor": "white",
             "minorgridcolor": "white",
             "startlinecolor": "#2a3f5f"
            },
            "type": "carpet"
           }
          ],
          "choropleth": [
           {
            "colorbar": {
             "outlinewidth": 0,
             "ticks": ""
            },
            "type": "choropleth"
           }
          ],
          "contour": [
           {
            "colorbar": {
             "outlinewidth": 0,
             "ticks": ""
            },
            "colorscale": [
             [
              0,
              "#0d0887"
             ],
             [
              0.1111111111111111,
              "#46039f"
             ],
             [
              0.2222222222222222,
              "#7201a8"
             ],
             [
              0.3333333333333333,
              "#9c179e"
             ],
             [
              0.4444444444444444,
              "#bd3786"
             ],
             [
              0.5555555555555556,
              "#d8576b"
             ],
             [
              0.6666666666666666,
              "#ed7953"
             ],
             [
              0.7777777777777778,
              "#fb9f3a"
             ],
             [
              0.8888888888888888,
              "#fdca26"
             ],
             [
              1,
              "#f0f921"
             ]
            ],
            "type": "contour"
           }
          ],
          "contourcarpet": [
           {
            "colorbar": {
             "outlinewidth": 0,
             "ticks": ""
            },
            "type": "contourcarpet"
           }
          ],
          "heatmap": [
           {
            "colorbar": {
             "outlinewidth": 0,
             "ticks": ""
            },
            "colorscale": [
             [
              0,
              "#0d0887"
             ],
             [
              0.1111111111111111,
              "#46039f"
             ],
             [
              0.2222222222222222,
              "#7201a8"
             ],
             [
              0.3333333333333333,
              "#9c179e"
             ],
             [
              0.4444444444444444,
              "#bd3786"
             ],
             [
              0.5555555555555556,
              "#d8576b"
             ],
             [
              0.6666666666666666,
              "#ed7953"
             ],
             [
              0.7777777777777778,
              "#fb9f3a"
             ],
             [
              0.8888888888888888,
              "#fdca26"
             ],
             [
              1,
              "#f0f921"
             ]
            ],
            "type": "heatmap"
           }
          ],
          "heatmapgl": [
           {
            "colorbar": {
             "outlinewidth": 0,
             "ticks": ""
            },
            "colorscale": [
             [
              0,
              "#0d0887"
             ],
             [
              0.1111111111111111,
              "#46039f"
             ],
             [
              0.2222222222222222,
              "#7201a8"
             ],
             [
              0.3333333333333333,
              "#9c179e"
             ],
             [
              0.4444444444444444,
              "#bd3786"
             ],
             [
              0.5555555555555556,
              "#d8576b"
             ],
             [
              0.6666666666666666,
              "#ed7953"
             ],
             [
              0.7777777777777778,
              "#fb9f3a"
             ],
             [
              0.8888888888888888,
              "#fdca26"
             ],
             [
              1,
              "#f0f921"
             ]
            ],
            "type": "heatmapgl"
           }
          ],
          "histogram": [
           {
            "marker": {
             "pattern": {
              "fillmode": "overlay",
              "size": 10,
              "solidity": 0.2
             }
            },
            "type": "histogram"
           }
          ],
          "histogram2d": [
           {
            "colorbar": {
             "outlinewidth": 0,
             "ticks": ""
            },
            "colorscale": [
             [
              0,
              "#0d0887"
             ],
             [
              0.1111111111111111,
              "#46039f"
             ],
             [
              0.2222222222222222,
              "#7201a8"
             ],
             [
              0.3333333333333333,
              "#9c179e"
             ],
             [
              0.4444444444444444,
              "#bd3786"
             ],
             [
              0.5555555555555556,
              "#d8576b"
             ],
             [
              0.6666666666666666,
              "#ed7953"
             ],
             [
              0.7777777777777778,
              "#fb9f3a"
             ],
             [
              0.8888888888888888,
              "#fdca26"
             ],
             [
              1,
              "#f0f921"
             ]
            ],
            "type": "histogram2d"
           }
          ],
          "histogram2dcontour": [
           {
            "colorbar": {
             "outlinewidth": 0,
             "ticks": ""
            },
            "colorscale": [
             [
              0,
              "#0d0887"
             ],
             [
              0.1111111111111111,
              "#46039f"
             ],
             [
              0.2222222222222222,
              "#7201a8"
             ],
             [
              0.3333333333333333,
              "#9c179e"
             ],
             [
              0.4444444444444444,
              "#bd3786"
             ],
             [
              0.5555555555555556,
              "#d8576b"
             ],
             [
              0.6666666666666666,
              "#ed7953"
             ],
             [
              0.7777777777777778,
              "#fb9f3a"
             ],
             [
              0.8888888888888888,
              "#fdca26"
             ],
             [
              1,
              "#f0f921"
             ]
            ],
            "type": "histogram2dcontour"
           }
          ],
          "mesh3d": [
           {
            "colorbar": {
             "outlinewidth": 0,
             "ticks": ""
            },
            "type": "mesh3d"
           }
          ],
          "parcoords": [
           {
            "line": {
             "colorbar": {
              "outlinewidth": 0,
              "ticks": ""
             }
            },
            "type": "parcoords"
           }
          ],
          "pie": [
           {
            "automargin": true,
            "type": "pie"
           }
          ],
          "scatter": [
           {
            "marker": {
             "colorbar": {
              "outlinewidth": 0,
              "ticks": ""
             }
            },
            "type": "scatter"
           }
          ],
          "scatter3d": [
           {
            "line": {
             "colorbar": {
              "outlinewidth": 0,
              "ticks": ""
             }
            },
            "marker": {
             "colorbar": {
              "outlinewidth": 0,
              "ticks": ""
             }
            },
            "type": "scatter3d"
           }
          ],
          "scattercarpet": [
           {
            "marker": {
             "colorbar": {
              "outlinewidth": 0,
              "ticks": ""
             }
            },
            "type": "scattercarpet"
           }
          ],
          "scattergeo": [
           {
            "marker": {
             "colorbar": {
              "outlinewidth": 0,
              "ticks": ""
             }
            },
            "type": "scattergeo"
           }
          ],
          "scattergl": [
           {
            "marker": {
             "colorbar": {
              "outlinewidth": 0,
              "ticks": ""
             }
            },
            "type": "scattergl"
           }
          ],
          "scattermapbox": [
           {
            "marker": {
             "colorbar": {
              "outlinewidth": 0,
              "ticks": ""
             }
            },
            "type": "scattermapbox"
           }
          ],
          "scatterpolar": [
           {
            "marker": {
             "colorbar": {
              "outlinewidth": 0,
              "ticks": ""
             }
            },
            "type": "scatterpolar"
           }
          ],
          "scatterpolargl": [
           {
            "marker": {
             "colorbar": {
              "outlinewidth": 0,
              "ticks": ""
             }
            },
            "type": "scatterpolargl"
           }
          ],
          "scatterternary": [
           {
            "marker": {
             "colorbar": {
              "outlinewidth": 0,
              "ticks": ""
             }
            },
            "type": "scatterternary"
           }
          ],
          "surface": [
           {
            "colorbar": {
             "outlinewidth": 0,
             "ticks": ""
            },
            "colorscale": [
             [
              0,
              "#0d0887"
             ],
             [
              0.1111111111111111,
              "#46039f"
             ],
             [
              0.2222222222222222,
              "#7201a8"
             ],
             [
              0.3333333333333333,
              "#9c179e"
             ],
             [
              0.4444444444444444,
              "#bd3786"
             ],
             [
              0.5555555555555556,
              "#d8576b"
             ],
             [
              0.6666666666666666,
              "#ed7953"
             ],
             [
              0.7777777777777778,
              "#fb9f3a"
             ],
             [
              0.8888888888888888,
              "#fdca26"
             ],
             [
              1,
              "#f0f921"
             ]
            ],
            "type": "surface"
           }
          ],
          "table": [
           {
            "cells": {
             "fill": {
              "color": "#EBF0F8"
             },
             "line": {
              "color": "white"
             }
            },
            "header": {
             "fill": {
              "color": "#C8D4E3"
             },
             "line": {
              "color": "white"
             }
            },
            "type": "table"
           }
          ]
         },
         "layout": {
          "annotationdefaults": {
           "arrowcolor": "#2a3f5f",
           "arrowhead": 0,
           "arrowwidth": 1
          },
          "autotypenumbers": "strict",
          "coloraxis": {
           "colorbar": {
            "outlinewidth": 0,
            "ticks": ""
           }
          },
          "colorscale": {
           "diverging": [
            [
             0,
             "#8e0152"
            ],
            [
             0.1,
             "#c51b7d"
            ],
            [
             0.2,
             "#de77ae"
            ],
            [
             0.3,
             "#f1b6da"
            ],
            [
             0.4,
             "#fde0ef"
            ],
            [
             0.5,
             "#f7f7f7"
            ],
            [
             0.6,
             "#e6f5d0"
            ],
            [
             0.7,
             "#b8e186"
            ],
            [
             0.8,
             "#7fbc41"
            ],
            [
             0.9,
             "#4d9221"
            ],
            [
             1,
             "#276419"
            ]
           ],
           "sequential": [
            [
             0,
             "#0d0887"
            ],
            [
             0.1111111111111111,
             "#46039f"
            ],
            [
             0.2222222222222222,
             "#7201a8"
            ],
            [
             0.3333333333333333,
             "#9c179e"
            ],
            [
             0.4444444444444444,
             "#bd3786"
            ],
            [
             0.5555555555555556,
             "#d8576b"
            ],
            [
             0.6666666666666666,
             "#ed7953"
            ],
            [
             0.7777777777777778,
             "#fb9f3a"
            ],
            [
             0.8888888888888888,
             "#fdca26"
            ],
            [
             1,
             "#f0f921"
            ]
           ],
           "sequentialminus": [
            [
             0,
             "#0d0887"
            ],
            [
             0.1111111111111111,
             "#46039f"
            ],
            [
             0.2222222222222222,
             "#7201a8"
            ],
            [
             0.3333333333333333,
             "#9c179e"
            ],
            [
             0.4444444444444444,
             "#bd3786"
            ],
            [
             0.5555555555555556,
             "#d8576b"
            ],
            [
             0.6666666666666666,
             "#ed7953"
            ],
            [
             0.7777777777777778,
             "#fb9f3a"
            ],
            [
             0.8888888888888888,
             "#fdca26"
            ],
            [
             1,
             "#f0f921"
            ]
           ]
          },
          "colorway": [
           "#636efa",
           "#EF553B",
           "#00cc96",
           "#ab63fa",
           "#FFA15A",
           "#19d3f3",
           "#FF6692",
           "#B6E880",
           "#FF97FF",
           "#FECB52"
          ],
          "font": {
           "color": "#2a3f5f"
          },
          "geo": {
           "bgcolor": "white",
           "lakecolor": "white",
           "landcolor": "#E5ECF6",
           "showlakes": true,
           "showland": true,
           "subunitcolor": "white"
          },
          "hoverlabel": {
           "align": "left"
          },
          "hovermode": "closest",
          "mapbox": {
           "style": "light"
          },
          "paper_bgcolor": "white",
          "plot_bgcolor": "#E5ECF6",
          "polar": {
           "angularaxis": {
            "gridcolor": "white",
            "linecolor": "white",
            "ticks": ""
           },
           "bgcolor": "#E5ECF6",
           "radialaxis": {
            "gridcolor": "white",
            "linecolor": "white",
            "ticks": ""
           }
          },
          "scene": {
           "xaxis": {
            "backgroundcolor": "#E5ECF6",
            "gridcolor": "white",
            "gridwidth": 2,
            "linecolor": "white",
            "showbackground": true,
            "ticks": "",
            "zerolinecolor": "white"
           },
           "yaxis": {
            "backgroundcolor": "#E5ECF6",
            "gridcolor": "white",
            "gridwidth": 2,
            "linecolor": "white",
            "showbackground": true,
            "ticks": "",
            "zerolinecolor": "white"
           },
           "zaxis": {
            "backgroundcolor": "#E5ECF6",
            "gridcolor": "white",
            "gridwidth": 2,
            "linecolor": "white",
            "showbackground": true,
            "ticks": "",
            "zerolinecolor": "white"
           }
          },
          "shapedefaults": {
           "line": {
            "color": "#2a3f5f"
           }
          },
          "ternary": {
           "aaxis": {
            "gridcolor": "white",
            "linecolor": "white",
            "ticks": ""
           },
           "baxis": {
            "gridcolor": "white",
            "linecolor": "white",
            "ticks": ""
           },
           "bgcolor": "#E5ECF6",
           "caxis": {
            "gridcolor": "white",
            "linecolor": "white",
            "ticks": ""
           }
          },
          "title": {
           "x": 0.05
          },
          "xaxis": {
           "automargin": true,
           "gridcolor": "white",
           "linecolor": "white",
           "ticks": "",
           "title": {
            "standoff": 15
           },
           "zerolinecolor": "white",
           "zerolinewidth": 2
          },
          "yaxis": {
           "automargin": true,
           "gridcolor": "white",
           "linecolor": "white",
           "ticks": "",
           "title": {
            "standoff": 15
           },
           "zerolinecolor": "white",
           "zerolinewidth": 2
          }
         }
        },
        "title": {
         "text": "Zagreb"
        },
        "xaxis": {
         "anchor": "y",
         "domain": [
          0,
          1
         ],
         "title": {
          "text": "calendar_week"
         }
        },
        "yaxis": {
         "anchor": "x",
         "domain": [
          0,
          1
         ],
         "title": {
          "text": "raw_entries"
         }
        }
       }
      }
     },
     "metadata": {},
     "output_type": "display_data"
    },
    {
     "data": {
      "application/vnd.plotly.v1+json": {
       "config": {
        "plotlyServerURL": "https://plot.ly"
       },
       "data": [
        {
         "hovertemplate": "city=Varazdin<br>calendar_week=%{x}<br>raw_entries=%{y}<extra></extra>",
         "legendgroup": "Varazdin",
         "line": {
          "color": "#636efa",
          "dash": "solid"
         },
         "marker": {
          "symbol": "circle"
         },
         "mode": "lines+markers",
         "name": "Varazdin",
         "orientation": "v",
         "showlegend": true,
         "type": "scatter",
         "x": [
          31,
          32,
          32,
          33,
          34,
          35,
          35,
          36,
          37
         ],
         "xaxis": "x",
         "y": [
          100,
          100,
          100,
          100,
          100,
          100,
          100,
          100,
          100
         ],
         "yaxis": "y"
        }
       ],
       "layout": {
        "legend": {
         "title": {
          "text": "city"
         },
         "tracegroupgap": 0
        },
        "template": {
         "data": {
          "bar": [
           {
            "error_x": {
             "color": "#2a3f5f"
            },
            "error_y": {
             "color": "#2a3f5f"
            },
            "marker": {
             "line": {
              "color": "#E5ECF6",
              "width": 0.5
             },
             "pattern": {
              "fillmode": "overlay",
              "size": 10,
              "solidity": 0.2
             }
            },
            "type": "bar"
           }
          ],
          "barpolar": [
           {
            "marker": {
             "line": {
              "color": "#E5ECF6",
              "width": 0.5
             },
             "pattern": {
              "fillmode": "overlay",
              "size": 10,
              "solidity": 0.2
             }
            },
            "type": "barpolar"
           }
          ],
          "carpet": [
           {
            "aaxis": {
             "endlinecolor": "#2a3f5f",
             "gridcolor": "white",
             "linecolor": "white",
             "minorgridcolor": "white",
             "startlinecolor": "#2a3f5f"
            },
            "baxis": {
             "endlinecolor": "#2a3f5f",
             "gridcolor": "white",
             "linecolor": "white",
             "minorgridcolor": "white",
             "startlinecolor": "#2a3f5f"
            },
            "type": "carpet"
           }
          ],
          "choropleth": [
           {
            "colorbar": {
             "outlinewidth": 0,
             "ticks": ""
            },
            "type": "choropleth"
           }
          ],
          "contour": [
           {
            "colorbar": {
             "outlinewidth": 0,
             "ticks": ""
            },
            "colorscale": [
             [
              0,
              "#0d0887"
             ],
             [
              0.1111111111111111,
              "#46039f"
             ],
             [
              0.2222222222222222,
              "#7201a8"
             ],
             [
              0.3333333333333333,
              "#9c179e"
             ],
             [
              0.4444444444444444,
              "#bd3786"
             ],
             [
              0.5555555555555556,
              "#d8576b"
             ],
             [
              0.6666666666666666,
              "#ed7953"
             ],
             [
              0.7777777777777778,
              "#fb9f3a"
             ],
             [
              0.8888888888888888,
              "#fdca26"
             ],
             [
              1,
              "#f0f921"
             ]
            ],
            "type": "contour"
           }
          ],
          "contourcarpet": [
           {
            "colorbar": {
             "outlinewidth": 0,
             "ticks": ""
            },
            "type": "contourcarpet"
           }
          ],
          "heatmap": [
           {
            "colorbar": {
             "outlinewidth": 0,
             "ticks": ""
            },
            "colorscale": [
             [
              0,
              "#0d0887"
             ],
             [
              0.1111111111111111,
              "#46039f"
             ],
             [
              0.2222222222222222,
              "#7201a8"
             ],
             [
              0.3333333333333333,
              "#9c179e"
             ],
             [
              0.4444444444444444,
              "#bd3786"
             ],
             [
              0.5555555555555556,
              "#d8576b"
             ],
             [
              0.6666666666666666,
              "#ed7953"
             ],
             [
              0.7777777777777778,
              "#fb9f3a"
             ],
             [
              0.8888888888888888,
              "#fdca26"
             ],
             [
              1,
              "#f0f921"
             ]
            ],
            "type": "heatmap"
           }
          ],
          "heatmapgl": [
           {
            "colorbar": {
             "outlinewidth": 0,
             "ticks": ""
            },
            "colorscale": [
             [
              0,
              "#0d0887"
             ],
             [
              0.1111111111111111,
              "#46039f"
             ],
             [
              0.2222222222222222,
              "#7201a8"
             ],
             [
              0.3333333333333333,
              "#9c179e"
             ],
             [
              0.4444444444444444,
              "#bd3786"
             ],
             [
              0.5555555555555556,
              "#d8576b"
             ],
             [
              0.6666666666666666,
              "#ed7953"
             ],
             [
              0.7777777777777778,
              "#fb9f3a"
             ],
             [
              0.8888888888888888,
              "#fdca26"
             ],
             [
              1,
              "#f0f921"
             ]
            ],
            "type": "heatmapgl"
           }
          ],
          "histogram": [
           {
            "marker": {
             "pattern": {
              "fillmode": "overlay",
              "size": 10,
              "solidity": 0.2
             }
            },
            "type": "histogram"
           }
          ],
          "histogram2d": [
           {
            "colorbar": {
             "outlinewidth": 0,
             "ticks": ""
            },
            "colorscale": [
             [
              0,
              "#0d0887"
             ],
             [
              0.1111111111111111,
              "#46039f"
             ],
             [
              0.2222222222222222,
              "#7201a8"
             ],
             [
              0.3333333333333333,
              "#9c179e"
             ],
             [
              0.4444444444444444,
              "#bd3786"
             ],
             [
              0.5555555555555556,
              "#d8576b"
             ],
             [
              0.6666666666666666,
              "#ed7953"
             ],
             [
              0.7777777777777778,
              "#fb9f3a"
             ],
             [
              0.8888888888888888,
              "#fdca26"
             ],
             [
              1,
              "#f0f921"
             ]
            ],
            "type": "histogram2d"
           }
          ],
          "histogram2dcontour": [
           {
            "colorbar": {
             "outlinewidth": 0,
             "ticks": ""
            },
            "colorscale": [
             [
              0,
              "#0d0887"
             ],
             [
              0.1111111111111111,
              "#46039f"
             ],
             [
              0.2222222222222222,
              "#7201a8"
             ],
             [
              0.3333333333333333,
              "#9c179e"
             ],
             [
              0.4444444444444444,
              "#bd3786"
             ],
             [
              0.5555555555555556,
              "#d8576b"
             ],
             [
              0.6666666666666666,
              "#ed7953"
             ],
             [
              0.7777777777777778,
              "#fb9f3a"
             ],
             [
              0.8888888888888888,
              "#fdca26"
             ],
             [
              1,
              "#f0f921"
             ]
            ],
            "type": "histogram2dcontour"
           }
          ],
          "mesh3d": [
           {
            "colorbar": {
             "outlinewidth": 0,
             "ticks": ""
            },
            "type": "mesh3d"
           }
          ],
          "parcoords": [
           {
            "line": {
             "colorbar": {
              "outlinewidth": 0,
              "ticks": ""
             }
            },
            "type": "parcoords"
           }
          ],
          "pie": [
           {
            "automargin": true,
            "type": "pie"
           }
          ],
          "scatter": [
           {
            "marker": {
             "colorbar": {
              "outlinewidth": 0,
              "ticks": ""
             }
            },
            "type": "scatter"
           }
          ],
          "scatter3d": [
           {
            "line": {
             "colorbar": {
              "outlinewidth": 0,
              "ticks": ""
             }
            },
            "marker": {
             "colorbar": {
              "outlinewidth": 0,
              "ticks": ""
             }
            },
            "type": "scatter3d"
           }
          ],
          "scattercarpet": [
           {
            "marker": {
             "colorbar": {
              "outlinewidth": 0,
              "ticks": ""
             }
            },
            "type": "scattercarpet"
           }
          ],
          "scattergeo": [
           {
            "marker": {
             "colorbar": {
              "outlinewidth": 0,
              "ticks": ""
             }
            },
            "type": "scattergeo"
           }
          ],
          "scattergl": [
           {
            "marker": {
             "colorbar": {
              "outlinewidth": 0,
              "ticks": ""
             }
            },
            "type": "scattergl"
           }
          ],
          "scattermapbox": [
           {
            "marker": {
             "colorbar": {
              "outlinewidth": 0,
              "ticks": ""
             }
            },
            "type": "scattermapbox"
           }
          ],
          "scatterpolar": [
           {
            "marker": {
             "colorbar": {
              "outlinewidth": 0,
              "ticks": ""
             }
            },
            "type": "scatterpolar"
           }
          ],
          "scatterpolargl": [
           {
            "marker": {
             "colorbar": {
              "outlinewidth": 0,
              "ticks": ""
             }
            },
            "type": "scatterpolargl"
           }
          ],
          "scatterternary": [
           {
            "marker": {
             "colorbar": {
              "outlinewidth": 0,
              "ticks": ""
             }
            },
            "type": "scatterternary"
           }
          ],
          "surface": [
           {
            "colorbar": {
             "outlinewidth": 0,
             "ticks": ""
            },
            "colorscale": [
             [
              0,
              "#0d0887"
             ],
             [
              0.1111111111111111,
              "#46039f"
             ],
             [
              0.2222222222222222,
              "#7201a8"
             ],
             [
              0.3333333333333333,
              "#9c179e"
             ],
             [
              0.4444444444444444,
              "#bd3786"
             ],
             [
              0.5555555555555556,
              "#d8576b"
             ],
             [
              0.6666666666666666,
              "#ed7953"
             ],
             [
              0.7777777777777778,
              "#fb9f3a"
             ],
             [
              0.8888888888888888,
              "#fdca26"
             ],
             [
              1,
              "#f0f921"
             ]
            ],
            "type": "surface"
           }
          ],
          "table": [
           {
            "cells": {
             "fill": {
              "color": "#EBF0F8"
             },
             "line": {
              "color": "white"
             }
            },
            "header": {
             "fill": {
              "color": "#C8D4E3"
             },
             "line": {
              "color": "white"
             }
            },
            "type": "table"
           }
          ]
         },
         "layout": {
          "annotationdefaults": {
           "arrowcolor": "#2a3f5f",
           "arrowhead": 0,
           "arrowwidth": 1
          },
          "autotypenumbers": "strict",
          "coloraxis": {
           "colorbar": {
            "outlinewidth": 0,
            "ticks": ""
           }
          },
          "colorscale": {
           "diverging": [
            [
             0,
             "#8e0152"
            ],
            [
             0.1,
             "#c51b7d"
            ],
            [
             0.2,
             "#de77ae"
            ],
            [
             0.3,
             "#f1b6da"
            ],
            [
             0.4,
             "#fde0ef"
            ],
            [
             0.5,
             "#f7f7f7"
            ],
            [
             0.6,
             "#e6f5d0"
            ],
            [
             0.7,
             "#b8e186"
            ],
            [
             0.8,
             "#7fbc41"
            ],
            [
             0.9,
             "#4d9221"
            ],
            [
             1,
             "#276419"
            ]
           ],
           "sequential": [
            [
             0,
             "#0d0887"
            ],
            [
             0.1111111111111111,
             "#46039f"
            ],
            [
             0.2222222222222222,
             "#7201a8"
            ],
            [
             0.3333333333333333,
             "#9c179e"
            ],
            [
             0.4444444444444444,
             "#bd3786"
            ],
            [
             0.5555555555555556,
             "#d8576b"
            ],
            [
             0.6666666666666666,
             "#ed7953"
            ],
            [
             0.7777777777777778,
             "#fb9f3a"
            ],
            [
             0.8888888888888888,
             "#fdca26"
            ],
            [
             1,
             "#f0f921"
            ]
           ],
           "sequentialminus": [
            [
             0,
             "#0d0887"
            ],
            [
             0.1111111111111111,
             "#46039f"
            ],
            [
             0.2222222222222222,
             "#7201a8"
            ],
            [
             0.3333333333333333,
             "#9c179e"
            ],
            [
             0.4444444444444444,
             "#bd3786"
            ],
            [
             0.5555555555555556,
             "#d8576b"
            ],
            [
             0.6666666666666666,
             "#ed7953"
            ],
            [
             0.7777777777777778,
             "#fb9f3a"
            ],
            [
             0.8888888888888888,
             "#fdca26"
            ],
            [
             1,
             "#f0f921"
            ]
           ]
          },
          "colorway": [
           "#636efa",
           "#EF553B",
           "#00cc96",
           "#ab63fa",
           "#FFA15A",
           "#19d3f3",
           "#FF6692",
           "#B6E880",
           "#FF97FF",
           "#FECB52"
          ],
          "font": {
           "color": "#2a3f5f"
          },
          "geo": {
           "bgcolor": "white",
           "lakecolor": "white",
           "landcolor": "#E5ECF6",
           "showlakes": true,
           "showland": true,
           "subunitcolor": "white"
          },
          "hoverlabel": {
           "align": "left"
          },
          "hovermode": "closest",
          "mapbox": {
           "style": "light"
          },
          "paper_bgcolor": "white",
          "plot_bgcolor": "#E5ECF6",
          "polar": {
           "angularaxis": {
            "gridcolor": "white",
            "linecolor": "white",
            "ticks": ""
           },
           "bgcolor": "#E5ECF6",
           "radialaxis": {
            "gridcolor": "white",
            "linecolor": "white",
            "ticks": ""
           }
          },
          "scene": {
           "xaxis": {
            "backgroundcolor": "#E5ECF6",
            "gridcolor": "white",
            "gridwidth": 2,
            "linecolor": "white",
            "showbackground": true,
            "ticks": "",
            "zerolinecolor": "white"
           },
           "yaxis": {
            "backgroundcolor": "#E5ECF6",
            "gridcolor": "white",
            "gridwidth": 2,
            "linecolor": "white",
            "showbackground": true,
            "ticks": "",
            "zerolinecolor": "white"
           },
           "zaxis": {
            "backgroundcolor": "#E5ECF6",
            "gridcolor": "white",
            "gridwidth": 2,
            "linecolor": "white",
            "showbackground": true,
            "ticks": "",
            "zerolinecolor": "white"
           }
          },
          "shapedefaults": {
           "line": {
            "color": "#2a3f5f"
           }
          },
          "ternary": {
           "aaxis": {
            "gridcolor": "white",
            "linecolor": "white",
            "ticks": ""
           },
           "baxis": {
            "gridcolor": "white",
            "linecolor": "white",
            "ticks": ""
           },
           "bgcolor": "#E5ECF6",
           "caxis": {
            "gridcolor": "white",
            "linecolor": "white",
            "ticks": ""
           }
          },
          "title": {
           "x": 0.05
          },
          "xaxis": {
           "automargin": true,
           "gridcolor": "white",
           "linecolor": "white",
           "ticks": "",
           "title": {
            "standoff": 15
           },
           "zerolinecolor": "white",
           "zerolinewidth": 2
          },
          "yaxis": {
           "automargin": true,
           "gridcolor": "white",
           "linecolor": "white",
           "ticks": "",
           "title": {
            "standoff": 15
           },
           "zerolinecolor": "white",
           "zerolinewidth": 2
          }
         }
        },
        "title": {
         "text": "Varazdin"
        },
        "xaxis": {
         "anchor": "y",
         "domain": [
          0,
          1
         ],
         "title": {
          "text": "calendar_week"
         }
        },
        "yaxis": {
         "anchor": "x",
         "domain": [
          0,
          1
         ],
         "title": {
          "text": "raw_entries"
         }
        }
       }
      }
     },
     "metadata": {},
     "output_type": "display_data"
    },
    {
     "data": {
      "application/vnd.plotly.v1+json": {
       "config": {
        "plotlyServerURL": "https://plot.ly"
       },
       "data": [
        {
         "hovertemplate": "city=Rijeka<br>calendar_week=%{x}<br>raw_entries=%{y}<extra></extra>",
         "legendgroup": "Rijeka",
         "line": {
          "color": "#636efa",
          "dash": "solid"
         },
         "marker": {
          "symbol": "circle"
         },
         "mode": "lines+markers",
         "name": "Rijeka",
         "orientation": "v",
         "showlegend": true,
         "type": "scatter",
         "x": [
          33,
          35,
          36,
          37
         ],
         "xaxis": "x",
         "y": [
          1779,
          5151,
          5127,
          5054
         ],
         "yaxis": "y"
        }
       ],
       "layout": {
        "legend": {
         "title": {
          "text": "city"
         },
         "tracegroupgap": 0
        },
        "template": {
         "data": {
          "bar": [
           {
            "error_x": {
             "color": "#2a3f5f"
            },
            "error_y": {
             "color": "#2a3f5f"
            },
            "marker": {
             "line": {
              "color": "#E5ECF6",
              "width": 0.5
             },
             "pattern": {
              "fillmode": "overlay",
              "size": 10,
              "solidity": 0.2
             }
            },
            "type": "bar"
           }
          ],
          "barpolar": [
           {
            "marker": {
             "line": {
              "color": "#E5ECF6",
              "width": 0.5
             },
             "pattern": {
              "fillmode": "overlay",
              "size": 10,
              "solidity": 0.2
             }
            },
            "type": "barpolar"
           }
          ],
          "carpet": [
           {
            "aaxis": {
             "endlinecolor": "#2a3f5f",
             "gridcolor": "white",
             "linecolor": "white",
             "minorgridcolor": "white",
             "startlinecolor": "#2a3f5f"
            },
            "baxis": {
             "endlinecolor": "#2a3f5f",
             "gridcolor": "white",
             "linecolor": "white",
             "minorgridcolor": "white",
             "startlinecolor": "#2a3f5f"
            },
            "type": "carpet"
           }
          ],
          "choropleth": [
           {
            "colorbar": {
             "outlinewidth": 0,
             "ticks": ""
            },
            "type": "choropleth"
           }
          ],
          "contour": [
           {
            "colorbar": {
             "outlinewidth": 0,
             "ticks": ""
            },
            "colorscale": [
             [
              0,
              "#0d0887"
             ],
             [
              0.1111111111111111,
              "#46039f"
             ],
             [
              0.2222222222222222,
              "#7201a8"
             ],
             [
              0.3333333333333333,
              "#9c179e"
             ],
             [
              0.4444444444444444,
              "#bd3786"
             ],
             [
              0.5555555555555556,
              "#d8576b"
             ],
             [
              0.6666666666666666,
              "#ed7953"
             ],
             [
              0.7777777777777778,
              "#fb9f3a"
             ],
             [
              0.8888888888888888,
              "#fdca26"
             ],
             [
              1,
              "#f0f921"
             ]
            ],
            "type": "contour"
           }
          ],
          "contourcarpet": [
           {
            "colorbar": {
             "outlinewidth": 0,
             "ticks": ""
            },
            "type": "contourcarpet"
           }
          ],
          "heatmap": [
           {
            "colorbar": {
             "outlinewidth": 0,
             "ticks": ""
            },
            "colorscale": [
             [
              0,
              "#0d0887"
             ],
             [
              0.1111111111111111,
              "#46039f"
             ],
             [
              0.2222222222222222,
              "#7201a8"
             ],
             [
              0.3333333333333333,
              "#9c179e"
             ],
             [
              0.4444444444444444,
              "#bd3786"
             ],
             [
              0.5555555555555556,
              "#d8576b"
             ],
             [
              0.6666666666666666,
              "#ed7953"
             ],
             [
              0.7777777777777778,
              "#fb9f3a"
             ],
             [
              0.8888888888888888,
              "#fdca26"
             ],
             [
              1,
              "#f0f921"
             ]
            ],
            "type": "heatmap"
           }
          ],
          "heatmapgl": [
           {
            "colorbar": {
             "outlinewidth": 0,
             "ticks": ""
            },
            "colorscale": [
             [
              0,
              "#0d0887"
             ],
             [
              0.1111111111111111,
              "#46039f"
             ],
             [
              0.2222222222222222,
              "#7201a8"
             ],
             [
              0.3333333333333333,
              "#9c179e"
             ],
             [
              0.4444444444444444,
              "#bd3786"
             ],
             [
              0.5555555555555556,
              "#d8576b"
             ],
             [
              0.6666666666666666,
              "#ed7953"
             ],
             [
              0.7777777777777778,
              "#fb9f3a"
             ],
             [
              0.8888888888888888,
              "#fdca26"
             ],
             [
              1,
              "#f0f921"
             ]
            ],
            "type": "heatmapgl"
           }
          ],
          "histogram": [
           {
            "marker": {
             "pattern": {
              "fillmode": "overlay",
              "size": 10,
              "solidity": 0.2
             }
            },
            "type": "histogram"
           }
          ],
          "histogram2d": [
           {
            "colorbar": {
             "outlinewidth": 0,
             "ticks": ""
            },
            "colorscale": [
             [
              0,
              "#0d0887"
             ],
             [
              0.1111111111111111,
              "#46039f"
             ],
             [
              0.2222222222222222,
              "#7201a8"
             ],
             [
              0.3333333333333333,
              "#9c179e"
             ],
             [
              0.4444444444444444,
              "#bd3786"
             ],
             [
              0.5555555555555556,
              "#d8576b"
             ],
             [
              0.6666666666666666,
              "#ed7953"
             ],
             [
              0.7777777777777778,
              "#fb9f3a"
             ],
             [
              0.8888888888888888,
              "#fdca26"
             ],
             [
              1,
              "#f0f921"
             ]
            ],
            "type": "histogram2d"
           }
          ],
          "histogram2dcontour": [
           {
            "colorbar": {
             "outlinewidth": 0,
             "ticks": ""
            },
            "colorscale": [
             [
              0,
              "#0d0887"
             ],
             [
              0.1111111111111111,
              "#46039f"
             ],
             [
              0.2222222222222222,
              "#7201a8"
             ],
             [
              0.3333333333333333,
              "#9c179e"
             ],
             [
              0.4444444444444444,
              "#bd3786"
             ],
             [
              0.5555555555555556,
              "#d8576b"
             ],
             [
              0.6666666666666666,
              "#ed7953"
             ],
             [
              0.7777777777777778,
              "#fb9f3a"
             ],
             [
              0.8888888888888888,
              "#fdca26"
             ],
             [
              1,
              "#f0f921"
             ]
            ],
            "type": "histogram2dcontour"
           }
          ],
          "mesh3d": [
           {
            "colorbar": {
             "outlinewidth": 0,
             "ticks": ""
            },
            "type": "mesh3d"
           }
          ],
          "parcoords": [
           {
            "line": {
             "colorbar": {
              "outlinewidth": 0,
              "ticks": ""
             }
            },
            "type": "parcoords"
           }
          ],
          "pie": [
           {
            "automargin": true,
            "type": "pie"
           }
          ],
          "scatter": [
           {
            "marker": {
             "colorbar": {
              "outlinewidth": 0,
              "ticks": ""
             }
            },
            "type": "scatter"
           }
          ],
          "scatter3d": [
           {
            "line": {
             "colorbar": {
              "outlinewidth": 0,
              "ticks": ""
             }
            },
            "marker": {
             "colorbar": {
              "outlinewidth": 0,
              "ticks": ""
             }
            },
            "type": "scatter3d"
           }
          ],
          "scattercarpet": [
           {
            "marker": {
             "colorbar": {
              "outlinewidth": 0,
              "ticks": ""
             }
            },
            "type": "scattercarpet"
           }
          ],
          "scattergeo": [
           {
            "marker": {
             "colorbar": {
              "outlinewidth": 0,
              "ticks": ""
             }
            },
            "type": "scattergeo"
           }
          ],
          "scattergl": [
           {
            "marker": {
             "colorbar": {
              "outlinewidth": 0,
              "ticks": ""
             }
            },
            "type": "scattergl"
           }
          ],
          "scattermapbox": [
           {
            "marker": {
             "colorbar": {
              "outlinewidth": 0,
              "ticks": ""
             }
            },
            "type": "scattermapbox"
           }
          ],
          "scatterpolar": [
           {
            "marker": {
             "colorbar": {
              "outlinewidth": 0,
              "ticks": ""
             }
            },
            "type": "scatterpolar"
           }
          ],
          "scatterpolargl": [
           {
            "marker": {
             "colorbar": {
              "outlinewidth": 0,
              "ticks": ""
             }
            },
            "type": "scatterpolargl"
           }
          ],
          "scatterternary": [
           {
            "marker": {
             "colorbar": {
              "outlinewidth": 0,
              "ticks": ""
             }
            },
            "type": "scatterternary"
           }
          ],
          "surface": [
           {
            "colorbar": {
             "outlinewidth": 0,
             "ticks": ""
            },
            "colorscale": [
             [
              0,
              "#0d0887"
             ],
             [
              0.1111111111111111,
              "#46039f"
             ],
             [
              0.2222222222222222,
              "#7201a8"
             ],
             [
              0.3333333333333333,
              "#9c179e"
             ],
             [
              0.4444444444444444,
              "#bd3786"
             ],
             [
              0.5555555555555556,
              "#d8576b"
             ],
             [
              0.6666666666666666,
              "#ed7953"
             ],
             [
              0.7777777777777778,
              "#fb9f3a"
             ],
             [
              0.8888888888888888,
              "#fdca26"
             ],
             [
              1,
              "#f0f921"
             ]
            ],
            "type": "surface"
           }
          ],
          "table": [
           {
            "cells": {
             "fill": {
              "color": "#EBF0F8"
             },
             "line": {
              "color": "white"
             }
            },
            "header": {
             "fill": {
              "color": "#C8D4E3"
             },
             "line": {
              "color": "white"
             }
            },
            "type": "table"
           }
          ]
         },
         "layout": {
          "annotationdefaults": {
           "arrowcolor": "#2a3f5f",
           "arrowhead": 0,
           "arrowwidth": 1
          },
          "autotypenumbers": "strict",
          "coloraxis": {
           "colorbar": {
            "outlinewidth": 0,
            "ticks": ""
           }
          },
          "colorscale": {
           "diverging": [
            [
             0,
             "#8e0152"
            ],
            [
             0.1,
             "#c51b7d"
            ],
            [
             0.2,
             "#de77ae"
            ],
            [
             0.3,
             "#f1b6da"
            ],
            [
             0.4,
             "#fde0ef"
            ],
            [
             0.5,
             "#f7f7f7"
            ],
            [
             0.6,
             "#e6f5d0"
            ],
            [
             0.7,
             "#b8e186"
            ],
            [
             0.8,
             "#7fbc41"
            ],
            [
             0.9,
             "#4d9221"
            ],
            [
             1,
             "#276419"
            ]
           ],
           "sequential": [
            [
             0,
             "#0d0887"
            ],
            [
             0.1111111111111111,
             "#46039f"
            ],
            [
             0.2222222222222222,
             "#7201a8"
            ],
            [
             0.3333333333333333,
             "#9c179e"
            ],
            [
             0.4444444444444444,
             "#bd3786"
            ],
            [
             0.5555555555555556,
             "#d8576b"
            ],
            [
             0.6666666666666666,
             "#ed7953"
            ],
            [
             0.7777777777777778,
             "#fb9f3a"
            ],
            [
             0.8888888888888888,
             "#fdca26"
            ],
            [
             1,
             "#f0f921"
            ]
           ],
           "sequentialminus": [
            [
             0,
             "#0d0887"
            ],
            [
             0.1111111111111111,
             "#46039f"
            ],
            [
             0.2222222222222222,
             "#7201a8"
            ],
            [
             0.3333333333333333,
             "#9c179e"
            ],
            [
             0.4444444444444444,
             "#bd3786"
            ],
            [
             0.5555555555555556,
             "#d8576b"
            ],
            [
             0.6666666666666666,
             "#ed7953"
            ],
            [
             0.7777777777777778,
             "#fb9f3a"
            ],
            [
             0.8888888888888888,
             "#fdca26"
            ],
            [
             1,
             "#f0f921"
            ]
           ]
          },
          "colorway": [
           "#636efa",
           "#EF553B",
           "#00cc96",
           "#ab63fa",
           "#FFA15A",
           "#19d3f3",
           "#FF6692",
           "#B6E880",
           "#FF97FF",
           "#FECB52"
          ],
          "font": {
           "color": "#2a3f5f"
          },
          "geo": {
           "bgcolor": "white",
           "lakecolor": "white",
           "landcolor": "#E5ECF6",
           "showlakes": true,
           "showland": true,
           "subunitcolor": "white"
          },
          "hoverlabel": {
           "align": "left"
          },
          "hovermode": "closest",
          "mapbox": {
           "style": "light"
          },
          "paper_bgcolor": "white",
          "plot_bgcolor": "#E5ECF6",
          "polar": {
           "angularaxis": {
            "gridcolor": "white",
            "linecolor": "white",
            "ticks": ""
           },
           "bgcolor": "#E5ECF6",
           "radialaxis": {
            "gridcolor": "white",
            "linecolor": "white",
            "ticks": ""
           }
          },
          "scene": {
           "xaxis": {
            "backgroundcolor": "#E5ECF6",
            "gridcolor": "white",
            "gridwidth": 2,
            "linecolor": "white",
            "showbackground": true,
            "ticks": "",
            "zerolinecolor": "white"
           },
           "yaxis": {
            "backgroundcolor": "#E5ECF6",
            "gridcolor": "white",
            "gridwidth": 2,
            "linecolor": "white",
            "showbackground": true,
            "ticks": "",
            "zerolinecolor": "white"
           },
           "zaxis": {
            "backgroundcolor": "#E5ECF6",
            "gridcolor": "white",
            "gridwidth": 2,
            "linecolor": "white",
            "showbackground": true,
            "ticks": "",
            "zerolinecolor": "white"
           }
          },
          "shapedefaults": {
           "line": {
            "color": "#2a3f5f"
           }
          },
          "ternary": {
           "aaxis": {
            "gridcolor": "white",
            "linecolor": "white",
            "ticks": ""
           },
           "baxis": {
            "gridcolor": "white",
            "linecolor": "white",
            "ticks": ""
           },
           "bgcolor": "#E5ECF6",
           "caxis": {
            "gridcolor": "white",
            "linecolor": "white",
            "ticks": ""
           }
          },
          "title": {
           "x": 0.05
          },
          "xaxis": {
           "automargin": true,
           "gridcolor": "white",
           "linecolor": "white",
           "ticks": "",
           "title": {
            "standoff": 15
           },
           "zerolinecolor": "white",
           "zerolinewidth": 2
          },
          "yaxis": {
           "automargin": true,
           "gridcolor": "white",
           "linecolor": "white",
           "ticks": "",
           "title": {
            "standoff": 15
           },
           "zerolinecolor": "white",
           "zerolinewidth": 2
          }
         }
        },
        "title": {
         "text": "Rijeka"
        },
        "xaxis": {
         "anchor": "y",
         "domain": [
          0,
          1
         ],
         "title": {
          "text": "calendar_week"
         }
        },
        "yaxis": {
         "anchor": "x",
         "domain": [
          0,
          1
         ],
         "title": {
          "text": "raw_entries"
         }
        }
       }
      }
     },
     "metadata": {},
     "output_type": "display_data"
    },
    {
     "data": {
      "application/vnd.plotly.v1+json": {
       "config": {
        "plotlyServerURL": "https://plot.ly"
       },
       "data": [
        {
         "hovertemplate": "city=Split<br>calendar_week=%{x}<br>raw_entries=%{y}<extra></extra>",
         "legendgroup": "Split",
         "line": {
          "color": "#636efa",
          "dash": "solid"
         },
         "marker": {
          "symbol": "circle"
         },
         "mode": "lines+markers",
         "name": "Split",
         "orientation": "v",
         "showlegend": true,
         "type": "scatter",
         "x": [
          33,
          34,
          35,
          36,
          37
         ],
         "xaxis": "x",
         "y": [
          656,
          661,
          630,
          616,
          608
         ],
         "yaxis": "y"
        }
       ],
       "layout": {
        "legend": {
         "title": {
          "text": "city"
         },
         "tracegroupgap": 0
        },
        "template": {
         "data": {
          "bar": [
           {
            "error_x": {
             "color": "#2a3f5f"
            },
            "error_y": {
             "color": "#2a3f5f"
            },
            "marker": {
             "line": {
              "color": "#E5ECF6",
              "width": 0.5
             },
             "pattern": {
              "fillmode": "overlay",
              "size": 10,
              "solidity": 0.2
             }
            },
            "type": "bar"
           }
          ],
          "barpolar": [
           {
            "marker": {
             "line": {
              "color": "#E5ECF6",
              "width": 0.5
             },
             "pattern": {
              "fillmode": "overlay",
              "size": 10,
              "solidity": 0.2
             }
            },
            "type": "barpolar"
           }
          ],
          "carpet": [
           {
            "aaxis": {
             "endlinecolor": "#2a3f5f",
             "gridcolor": "white",
             "linecolor": "white",
             "minorgridcolor": "white",
             "startlinecolor": "#2a3f5f"
            },
            "baxis": {
             "endlinecolor": "#2a3f5f",
             "gridcolor": "white",
             "linecolor": "white",
             "minorgridcolor": "white",
             "startlinecolor": "#2a3f5f"
            },
            "type": "carpet"
           }
          ],
          "choropleth": [
           {
            "colorbar": {
             "outlinewidth": 0,
             "ticks": ""
            },
            "type": "choropleth"
           }
          ],
          "contour": [
           {
            "colorbar": {
             "outlinewidth": 0,
             "ticks": ""
            },
            "colorscale": [
             [
              0,
              "#0d0887"
             ],
             [
              0.1111111111111111,
              "#46039f"
             ],
             [
              0.2222222222222222,
              "#7201a8"
             ],
             [
              0.3333333333333333,
              "#9c179e"
             ],
             [
              0.4444444444444444,
              "#bd3786"
             ],
             [
              0.5555555555555556,
              "#d8576b"
             ],
             [
              0.6666666666666666,
              "#ed7953"
             ],
             [
              0.7777777777777778,
              "#fb9f3a"
             ],
             [
              0.8888888888888888,
              "#fdca26"
             ],
             [
              1,
              "#f0f921"
             ]
            ],
            "type": "contour"
           }
          ],
          "contourcarpet": [
           {
            "colorbar": {
             "outlinewidth": 0,
             "ticks": ""
            },
            "type": "contourcarpet"
           }
          ],
          "heatmap": [
           {
            "colorbar": {
             "outlinewidth": 0,
             "ticks": ""
            },
            "colorscale": [
             [
              0,
              "#0d0887"
             ],
             [
              0.1111111111111111,
              "#46039f"
             ],
             [
              0.2222222222222222,
              "#7201a8"
             ],
             [
              0.3333333333333333,
              "#9c179e"
             ],
             [
              0.4444444444444444,
              "#bd3786"
             ],
             [
              0.5555555555555556,
              "#d8576b"
             ],
             [
              0.6666666666666666,
              "#ed7953"
             ],
             [
              0.7777777777777778,
              "#fb9f3a"
             ],
             [
              0.8888888888888888,
              "#fdca26"
             ],
             [
              1,
              "#f0f921"
             ]
            ],
            "type": "heatmap"
           }
          ],
          "heatmapgl": [
           {
            "colorbar": {
             "outlinewidth": 0,
             "ticks": ""
            },
            "colorscale": [
             [
              0,
              "#0d0887"
             ],
             [
              0.1111111111111111,
              "#46039f"
             ],
             [
              0.2222222222222222,
              "#7201a8"
             ],
             [
              0.3333333333333333,
              "#9c179e"
             ],
             [
              0.4444444444444444,
              "#bd3786"
             ],
             [
              0.5555555555555556,
              "#d8576b"
             ],
             [
              0.6666666666666666,
              "#ed7953"
             ],
             [
              0.7777777777777778,
              "#fb9f3a"
             ],
             [
              0.8888888888888888,
              "#fdca26"
             ],
             [
              1,
              "#f0f921"
             ]
            ],
            "type": "heatmapgl"
           }
          ],
          "histogram": [
           {
            "marker": {
             "pattern": {
              "fillmode": "overlay",
              "size": 10,
              "solidity": 0.2
             }
            },
            "type": "histogram"
           }
          ],
          "histogram2d": [
           {
            "colorbar": {
             "outlinewidth": 0,
             "ticks": ""
            },
            "colorscale": [
             [
              0,
              "#0d0887"
             ],
             [
              0.1111111111111111,
              "#46039f"
             ],
             [
              0.2222222222222222,
              "#7201a8"
             ],
             [
              0.3333333333333333,
              "#9c179e"
             ],
             [
              0.4444444444444444,
              "#bd3786"
             ],
             [
              0.5555555555555556,
              "#d8576b"
             ],
             [
              0.6666666666666666,
              "#ed7953"
             ],
             [
              0.7777777777777778,
              "#fb9f3a"
             ],
             [
              0.8888888888888888,
              "#fdca26"
             ],
             [
              1,
              "#f0f921"
             ]
            ],
            "type": "histogram2d"
           }
          ],
          "histogram2dcontour": [
           {
            "colorbar": {
             "outlinewidth": 0,
             "ticks": ""
            },
            "colorscale": [
             [
              0,
              "#0d0887"
             ],
             [
              0.1111111111111111,
              "#46039f"
             ],
             [
              0.2222222222222222,
              "#7201a8"
             ],
             [
              0.3333333333333333,
              "#9c179e"
             ],
             [
              0.4444444444444444,
              "#bd3786"
             ],
             [
              0.5555555555555556,
              "#d8576b"
             ],
             [
              0.6666666666666666,
              "#ed7953"
             ],
             [
              0.7777777777777778,
              "#fb9f3a"
             ],
             [
              0.8888888888888888,
              "#fdca26"
             ],
             [
              1,
              "#f0f921"
             ]
            ],
            "type": "histogram2dcontour"
           }
          ],
          "mesh3d": [
           {
            "colorbar": {
             "outlinewidth": 0,
             "ticks": ""
            },
            "type": "mesh3d"
           }
          ],
          "parcoords": [
           {
            "line": {
             "colorbar": {
              "outlinewidth": 0,
              "ticks": ""
             }
            },
            "type": "parcoords"
           }
          ],
          "pie": [
           {
            "automargin": true,
            "type": "pie"
           }
          ],
          "scatter": [
           {
            "marker": {
             "colorbar": {
              "outlinewidth": 0,
              "ticks": ""
             }
            },
            "type": "scatter"
           }
          ],
          "scatter3d": [
           {
            "line": {
             "colorbar": {
              "outlinewidth": 0,
              "ticks": ""
             }
            },
            "marker": {
             "colorbar": {
              "outlinewidth": 0,
              "ticks": ""
             }
            },
            "type": "scatter3d"
           }
          ],
          "scattercarpet": [
           {
            "marker": {
             "colorbar": {
              "outlinewidth": 0,
              "ticks": ""
             }
            },
            "type": "scattercarpet"
           }
          ],
          "scattergeo": [
           {
            "marker": {
             "colorbar": {
              "outlinewidth": 0,
              "ticks": ""
             }
            },
            "type": "scattergeo"
           }
          ],
          "scattergl": [
           {
            "marker": {
             "colorbar": {
              "outlinewidth": 0,
              "ticks": ""
             }
            },
            "type": "scattergl"
           }
          ],
          "scattermapbox": [
           {
            "marker": {
             "colorbar": {
              "outlinewidth": 0,
              "ticks": ""
             }
            },
            "type": "scattermapbox"
           }
          ],
          "scatterpolar": [
           {
            "marker": {
             "colorbar": {
              "outlinewidth": 0,
              "ticks": ""
             }
            },
            "type": "scatterpolar"
           }
          ],
          "scatterpolargl": [
           {
            "marker": {
             "colorbar": {
              "outlinewidth": 0,
              "ticks": ""
             }
            },
            "type": "scatterpolargl"
           }
          ],
          "scatterternary": [
           {
            "marker": {
             "colorbar": {
              "outlinewidth": 0,
              "ticks": ""
             }
            },
            "type": "scatterternary"
           }
          ],
          "surface": [
           {
            "colorbar": {
             "outlinewidth": 0,
             "ticks": ""
            },
            "colorscale": [
             [
              0,
              "#0d0887"
             ],
             [
              0.1111111111111111,
              "#46039f"
             ],
             [
              0.2222222222222222,
              "#7201a8"
             ],
             [
              0.3333333333333333,
              "#9c179e"
             ],
             [
              0.4444444444444444,
              "#bd3786"
             ],
             [
              0.5555555555555556,
              "#d8576b"
             ],
             [
              0.6666666666666666,
              "#ed7953"
             ],
             [
              0.7777777777777778,
              "#fb9f3a"
             ],
             [
              0.8888888888888888,
              "#fdca26"
             ],
             [
              1,
              "#f0f921"
             ]
            ],
            "type": "surface"
           }
          ],
          "table": [
           {
            "cells": {
             "fill": {
              "color": "#EBF0F8"
             },
             "line": {
              "color": "white"
             }
            },
            "header": {
             "fill": {
              "color": "#C8D4E3"
             },
             "line": {
              "color": "white"
             }
            },
            "type": "table"
           }
          ]
         },
         "layout": {
          "annotationdefaults": {
           "arrowcolor": "#2a3f5f",
           "arrowhead": 0,
           "arrowwidth": 1
          },
          "autotypenumbers": "strict",
          "coloraxis": {
           "colorbar": {
            "outlinewidth": 0,
            "ticks": ""
           }
          },
          "colorscale": {
           "diverging": [
            [
             0,
             "#8e0152"
            ],
            [
             0.1,
             "#c51b7d"
            ],
            [
             0.2,
             "#de77ae"
            ],
            [
             0.3,
             "#f1b6da"
            ],
            [
             0.4,
             "#fde0ef"
            ],
            [
             0.5,
             "#f7f7f7"
            ],
            [
             0.6,
             "#e6f5d0"
            ],
            [
             0.7,
             "#b8e186"
            ],
            [
             0.8,
             "#7fbc41"
            ],
            [
             0.9,
             "#4d9221"
            ],
            [
             1,
             "#276419"
            ]
           ],
           "sequential": [
            [
             0,
             "#0d0887"
            ],
            [
             0.1111111111111111,
             "#46039f"
            ],
            [
             0.2222222222222222,
             "#7201a8"
            ],
            [
             0.3333333333333333,
             "#9c179e"
            ],
            [
             0.4444444444444444,
             "#bd3786"
            ],
            [
             0.5555555555555556,
             "#d8576b"
            ],
            [
             0.6666666666666666,
             "#ed7953"
            ],
            [
             0.7777777777777778,
             "#fb9f3a"
            ],
            [
             0.8888888888888888,
             "#fdca26"
            ],
            [
             1,
             "#f0f921"
            ]
           ],
           "sequentialminus": [
            [
             0,
             "#0d0887"
            ],
            [
             0.1111111111111111,
             "#46039f"
            ],
            [
             0.2222222222222222,
             "#7201a8"
            ],
            [
             0.3333333333333333,
             "#9c179e"
            ],
            [
             0.4444444444444444,
             "#bd3786"
            ],
            [
             0.5555555555555556,
             "#d8576b"
            ],
            [
             0.6666666666666666,
             "#ed7953"
            ],
            [
             0.7777777777777778,
             "#fb9f3a"
            ],
            [
             0.8888888888888888,
             "#fdca26"
            ],
            [
             1,
             "#f0f921"
            ]
           ]
          },
          "colorway": [
           "#636efa",
           "#EF553B",
           "#00cc96",
           "#ab63fa",
           "#FFA15A",
           "#19d3f3",
           "#FF6692",
           "#B6E880",
           "#FF97FF",
           "#FECB52"
          ],
          "font": {
           "color": "#2a3f5f"
          },
          "geo": {
           "bgcolor": "white",
           "lakecolor": "white",
           "landcolor": "#E5ECF6",
           "showlakes": true,
           "showland": true,
           "subunitcolor": "white"
          },
          "hoverlabel": {
           "align": "left"
          },
          "hovermode": "closest",
          "mapbox": {
           "style": "light"
          },
          "paper_bgcolor": "white",
          "plot_bgcolor": "#E5ECF6",
          "polar": {
           "angularaxis": {
            "gridcolor": "white",
            "linecolor": "white",
            "ticks": ""
           },
           "bgcolor": "#E5ECF6",
           "radialaxis": {
            "gridcolor": "white",
            "linecolor": "white",
            "ticks": ""
           }
          },
          "scene": {
           "xaxis": {
            "backgroundcolor": "#E5ECF6",
            "gridcolor": "white",
            "gridwidth": 2,
            "linecolor": "white",
            "showbackground": true,
            "ticks": "",
            "zerolinecolor": "white"
           },
           "yaxis": {
            "backgroundcolor": "#E5ECF6",
            "gridcolor": "white",
            "gridwidth": 2,
            "linecolor": "white",
            "showbackground": true,
            "ticks": "",
            "zerolinecolor": "white"
           },
           "zaxis": {
            "backgroundcolor": "#E5ECF6",
            "gridcolor": "white",
            "gridwidth": 2,
            "linecolor": "white",
            "showbackground": true,
            "ticks": "",
            "zerolinecolor": "white"
           }
          },
          "shapedefaults": {
           "line": {
            "color": "#2a3f5f"
           }
          },
          "ternary": {
           "aaxis": {
            "gridcolor": "white",
            "linecolor": "white",
            "ticks": ""
           },
           "baxis": {
            "gridcolor": "white",
            "linecolor": "white",
            "ticks": ""
           },
           "bgcolor": "#E5ECF6",
           "caxis": {
            "gridcolor": "white",
            "linecolor": "white",
            "ticks": ""
           }
          },
          "title": {
           "x": 0.05
          },
          "xaxis": {
           "automargin": true,
           "gridcolor": "white",
           "linecolor": "white",
           "ticks": "",
           "title": {
            "standoff": 15
           },
           "zerolinecolor": "white",
           "zerolinewidth": 2
          },
          "yaxis": {
           "automargin": true,
           "gridcolor": "white",
           "linecolor": "white",
           "ticks": "",
           "title": {
            "standoff": 15
           },
           "zerolinecolor": "white",
           "zerolinewidth": 2
          }
         }
        },
        "title": {
         "text": "Split"
        },
        "xaxis": {
         "anchor": "y",
         "domain": [
          0,
          1
         ],
         "title": {
          "text": "calendar_week"
         }
        },
        "yaxis": {
         "anchor": "x",
         "domain": [
          0,
          1
         ],
         "title": {
          "text": "raw_entries"
         }
        }
       }
      }
     },
     "metadata": {},
     "output_type": "display_data"
    }
   ],
   "source": [
    "for grad in list(df[\"city\"].unique()):\n",
    "    fig = px.line(df[df[\"city\"] == grad], x=\"calendar_week\", y=\"raw_entries\", color = 'city', markers=True, title=grad)\n",
    "    fig.show()"
   ]
  },
  {
   "cell_type": "code",
   "execution_count": 6,
   "metadata": {},
   "outputs": [
    {
     "data": {
      "application/vnd.plotly.v1+json": {
       "config": {
        "plotlyServerURL": "https://plot.ly"
       },
       "data": [
        {
         "hovertemplate": "city=Rovinj<br>calendar_week=%{x}<br>clean_entries=%{y}<extra></extra>",
         "legendgroup": "Rovinj",
         "line": {
          "color": "#636efa",
          "dash": "solid"
         },
         "marker": {
          "symbol": "circle"
         },
         "mode": "lines+markers",
         "name": "Rovinj",
         "orientation": "v",
         "showlegend": true,
         "type": "scatter",
         "x": [
          30,
          33,
          34,
          35,
          35,
          36,
          37
         ],
         "xaxis": "x",
         "y": [
          337,
          337,
          329,
          325,
          322,
          234,
          319
         ],
         "yaxis": "y"
        }
       ],
       "layout": {
        "legend": {
         "title": {
          "text": "city"
         },
         "tracegroupgap": 0
        },
        "template": {
         "data": {
          "bar": [
           {
            "error_x": {
             "color": "#2a3f5f"
            },
            "error_y": {
             "color": "#2a3f5f"
            },
            "marker": {
             "line": {
              "color": "#E5ECF6",
              "width": 0.5
             },
             "pattern": {
              "fillmode": "overlay",
              "size": 10,
              "solidity": 0.2
             }
            },
            "type": "bar"
           }
          ],
          "barpolar": [
           {
            "marker": {
             "line": {
              "color": "#E5ECF6",
              "width": 0.5
             },
             "pattern": {
              "fillmode": "overlay",
              "size": 10,
              "solidity": 0.2
             }
            },
            "type": "barpolar"
           }
          ],
          "carpet": [
           {
            "aaxis": {
             "endlinecolor": "#2a3f5f",
             "gridcolor": "white",
             "linecolor": "white",
             "minorgridcolor": "white",
             "startlinecolor": "#2a3f5f"
            },
            "baxis": {
             "endlinecolor": "#2a3f5f",
             "gridcolor": "white",
             "linecolor": "white",
             "minorgridcolor": "white",
             "startlinecolor": "#2a3f5f"
            },
            "type": "carpet"
           }
          ],
          "choropleth": [
           {
            "colorbar": {
             "outlinewidth": 0,
             "ticks": ""
            },
            "type": "choropleth"
           }
          ],
          "contour": [
           {
            "colorbar": {
             "outlinewidth": 0,
             "ticks": ""
            },
            "colorscale": [
             [
              0,
              "#0d0887"
             ],
             [
              0.1111111111111111,
              "#46039f"
             ],
             [
              0.2222222222222222,
              "#7201a8"
             ],
             [
              0.3333333333333333,
              "#9c179e"
             ],
             [
              0.4444444444444444,
              "#bd3786"
             ],
             [
              0.5555555555555556,
              "#d8576b"
             ],
             [
              0.6666666666666666,
              "#ed7953"
             ],
             [
              0.7777777777777778,
              "#fb9f3a"
             ],
             [
              0.8888888888888888,
              "#fdca26"
             ],
             [
              1,
              "#f0f921"
             ]
            ],
            "type": "contour"
           }
          ],
          "contourcarpet": [
           {
            "colorbar": {
             "outlinewidth": 0,
             "ticks": ""
            },
            "type": "contourcarpet"
           }
          ],
          "heatmap": [
           {
            "colorbar": {
             "outlinewidth": 0,
             "ticks": ""
            },
            "colorscale": [
             [
              0,
              "#0d0887"
             ],
             [
              0.1111111111111111,
              "#46039f"
             ],
             [
              0.2222222222222222,
              "#7201a8"
             ],
             [
              0.3333333333333333,
              "#9c179e"
             ],
             [
              0.4444444444444444,
              "#bd3786"
             ],
             [
              0.5555555555555556,
              "#d8576b"
             ],
             [
              0.6666666666666666,
              "#ed7953"
             ],
             [
              0.7777777777777778,
              "#fb9f3a"
             ],
             [
              0.8888888888888888,
              "#fdca26"
             ],
             [
              1,
              "#f0f921"
             ]
            ],
            "type": "heatmap"
           }
          ],
          "heatmapgl": [
           {
            "colorbar": {
             "outlinewidth": 0,
             "ticks": ""
            },
            "colorscale": [
             [
              0,
              "#0d0887"
             ],
             [
              0.1111111111111111,
              "#46039f"
             ],
             [
              0.2222222222222222,
              "#7201a8"
             ],
             [
              0.3333333333333333,
              "#9c179e"
             ],
             [
              0.4444444444444444,
              "#bd3786"
             ],
             [
              0.5555555555555556,
              "#d8576b"
             ],
             [
              0.6666666666666666,
              "#ed7953"
             ],
             [
              0.7777777777777778,
              "#fb9f3a"
             ],
             [
              0.8888888888888888,
              "#fdca26"
             ],
             [
              1,
              "#f0f921"
             ]
            ],
            "type": "heatmapgl"
           }
          ],
          "histogram": [
           {
            "marker": {
             "pattern": {
              "fillmode": "overlay",
              "size": 10,
              "solidity": 0.2
             }
            },
            "type": "histogram"
           }
          ],
          "histogram2d": [
           {
            "colorbar": {
             "outlinewidth": 0,
             "ticks": ""
            },
            "colorscale": [
             [
              0,
              "#0d0887"
             ],
             [
              0.1111111111111111,
              "#46039f"
             ],
             [
              0.2222222222222222,
              "#7201a8"
             ],
             [
              0.3333333333333333,
              "#9c179e"
             ],
             [
              0.4444444444444444,
              "#bd3786"
             ],
             [
              0.5555555555555556,
              "#d8576b"
             ],
             [
              0.6666666666666666,
              "#ed7953"
             ],
             [
              0.7777777777777778,
              "#fb9f3a"
             ],
             [
              0.8888888888888888,
              "#fdca26"
             ],
             [
              1,
              "#f0f921"
             ]
            ],
            "type": "histogram2d"
           }
          ],
          "histogram2dcontour": [
           {
            "colorbar": {
             "outlinewidth": 0,
             "ticks": ""
            },
            "colorscale": [
             [
              0,
              "#0d0887"
             ],
             [
              0.1111111111111111,
              "#46039f"
             ],
             [
              0.2222222222222222,
              "#7201a8"
             ],
             [
              0.3333333333333333,
              "#9c179e"
             ],
             [
              0.4444444444444444,
              "#bd3786"
             ],
             [
              0.5555555555555556,
              "#d8576b"
             ],
             [
              0.6666666666666666,
              "#ed7953"
             ],
             [
              0.7777777777777778,
              "#fb9f3a"
             ],
             [
              0.8888888888888888,
              "#fdca26"
             ],
             [
              1,
              "#f0f921"
             ]
            ],
            "type": "histogram2dcontour"
           }
          ],
          "mesh3d": [
           {
            "colorbar": {
             "outlinewidth": 0,
             "ticks": ""
            },
            "type": "mesh3d"
           }
          ],
          "parcoords": [
           {
            "line": {
             "colorbar": {
              "outlinewidth": 0,
              "ticks": ""
             }
            },
            "type": "parcoords"
           }
          ],
          "pie": [
           {
            "automargin": true,
            "type": "pie"
           }
          ],
          "scatter": [
           {
            "marker": {
             "colorbar": {
              "outlinewidth": 0,
              "ticks": ""
             }
            },
            "type": "scatter"
           }
          ],
          "scatter3d": [
           {
            "line": {
             "colorbar": {
              "outlinewidth": 0,
              "ticks": ""
             }
            },
            "marker": {
             "colorbar": {
              "outlinewidth": 0,
              "ticks": ""
             }
            },
            "type": "scatter3d"
           }
          ],
          "scattercarpet": [
           {
            "marker": {
             "colorbar": {
              "outlinewidth": 0,
              "ticks": ""
             }
            },
            "type": "scattercarpet"
           }
          ],
          "scattergeo": [
           {
            "marker": {
             "colorbar": {
              "outlinewidth": 0,
              "ticks": ""
             }
            },
            "type": "scattergeo"
           }
          ],
          "scattergl": [
           {
            "marker": {
             "colorbar": {
              "outlinewidth": 0,
              "ticks": ""
             }
            },
            "type": "scattergl"
           }
          ],
          "scattermapbox": [
           {
            "marker": {
             "colorbar": {
              "outlinewidth": 0,
              "ticks": ""
             }
            },
            "type": "scattermapbox"
           }
          ],
          "scatterpolar": [
           {
            "marker": {
             "colorbar": {
              "outlinewidth": 0,
              "ticks": ""
             }
            },
            "type": "scatterpolar"
           }
          ],
          "scatterpolargl": [
           {
            "marker": {
             "colorbar": {
              "outlinewidth": 0,
              "ticks": ""
             }
            },
            "type": "scatterpolargl"
           }
          ],
          "scatterternary": [
           {
            "marker": {
             "colorbar": {
              "outlinewidth": 0,
              "ticks": ""
             }
            },
            "type": "scatterternary"
           }
          ],
          "surface": [
           {
            "colorbar": {
             "outlinewidth": 0,
             "ticks": ""
            },
            "colorscale": [
             [
              0,
              "#0d0887"
             ],
             [
              0.1111111111111111,
              "#46039f"
             ],
             [
              0.2222222222222222,
              "#7201a8"
             ],
             [
              0.3333333333333333,
              "#9c179e"
             ],
             [
              0.4444444444444444,
              "#bd3786"
             ],
             [
              0.5555555555555556,
              "#d8576b"
             ],
             [
              0.6666666666666666,
              "#ed7953"
             ],
             [
              0.7777777777777778,
              "#fb9f3a"
             ],
             [
              0.8888888888888888,
              "#fdca26"
             ],
             [
              1,
              "#f0f921"
             ]
            ],
            "type": "surface"
           }
          ],
          "table": [
           {
            "cells": {
             "fill": {
              "color": "#EBF0F8"
             },
             "line": {
              "color": "white"
             }
            },
            "header": {
             "fill": {
              "color": "#C8D4E3"
             },
             "line": {
              "color": "white"
             }
            },
            "type": "table"
           }
          ]
         },
         "layout": {
          "annotationdefaults": {
           "arrowcolor": "#2a3f5f",
           "arrowhead": 0,
           "arrowwidth": 1
          },
          "autotypenumbers": "strict",
          "coloraxis": {
           "colorbar": {
            "outlinewidth": 0,
            "ticks": ""
           }
          },
          "colorscale": {
           "diverging": [
            [
             0,
             "#8e0152"
            ],
            [
             0.1,
             "#c51b7d"
            ],
            [
             0.2,
             "#de77ae"
            ],
            [
             0.3,
             "#f1b6da"
            ],
            [
             0.4,
             "#fde0ef"
            ],
            [
             0.5,
             "#f7f7f7"
            ],
            [
             0.6,
             "#e6f5d0"
            ],
            [
             0.7,
             "#b8e186"
            ],
            [
             0.8,
             "#7fbc41"
            ],
            [
             0.9,
             "#4d9221"
            ],
            [
             1,
             "#276419"
            ]
           ],
           "sequential": [
            [
             0,
             "#0d0887"
            ],
            [
             0.1111111111111111,
             "#46039f"
            ],
            [
             0.2222222222222222,
             "#7201a8"
            ],
            [
             0.3333333333333333,
             "#9c179e"
            ],
            [
             0.4444444444444444,
             "#bd3786"
            ],
            [
             0.5555555555555556,
             "#d8576b"
            ],
            [
             0.6666666666666666,
             "#ed7953"
            ],
            [
             0.7777777777777778,
             "#fb9f3a"
            ],
            [
             0.8888888888888888,
             "#fdca26"
            ],
            [
             1,
             "#f0f921"
            ]
           ],
           "sequentialminus": [
            [
             0,
             "#0d0887"
            ],
            [
             0.1111111111111111,
             "#46039f"
            ],
            [
             0.2222222222222222,
             "#7201a8"
            ],
            [
             0.3333333333333333,
             "#9c179e"
            ],
            [
             0.4444444444444444,
             "#bd3786"
            ],
            [
             0.5555555555555556,
             "#d8576b"
            ],
            [
             0.6666666666666666,
             "#ed7953"
            ],
            [
             0.7777777777777778,
             "#fb9f3a"
            ],
            [
             0.8888888888888888,
             "#fdca26"
            ],
            [
             1,
             "#f0f921"
            ]
           ]
          },
          "colorway": [
           "#636efa",
           "#EF553B",
           "#00cc96",
           "#ab63fa",
           "#FFA15A",
           "#19d3f3",
           "#FF6692",
           "#B6E880",
           "#FF97FF",
           "#FECB52"
          ],
          "font": {
           "color": "#2a3f5f"
          },
          "geo": {
           "bgcolor": "white",
           "lakecolor": "white",
           "landcolor": "#E5ECF6",
           "showlakes": true,
           "showland": true,
           "subunitcolor": "white"
          },
          "hoverlabel": {
           "align": "left"
          },
          "hovermode": "closest",
          "mapbox": {
           "style": "light"
          },
          "paper_bgcolor": "white",
          "plot_bgcolor": "#E5ECF6",
          "polar": {
           "angularaxis": {
            "gridcolor": "white",
            "linecolor": "white",
            "ticks": ""
           },
           "bgcolor": "#E5ECF6",
           "radialaxis": {
            "gridcolor": "white",
            "linecolor": "white",
            "ticks": ""
           }
          },
          "scene": {
           "xaxis": {
            "backgroundcolor": "#E5ECF6",
            "gridcolor": "white",
            "gridwidth": 2,
            "linecolor": "white",
            "showbackground": true,
            "ticks": "",
            "zerolinecolor": "white"
           },
           "yaxis": {
            "backgroundcolor": "#E5ECF6",
            "gridcolor": "white",
            "gridwidth": 2,
            "linecolor": "white",
            "showbackground": true,
            "ticks": "",
            "zerolinecolor": "white"
           },
           "zaxis": {
            "backgroundcolor": "#E5ECF6",
            "gridcolor": "white",
            "gridwidth": 2,
            "linecolor": "white",
            "showbackground": true,
            "ticks": "",
            "zerolinecolor": "white"
           }
          },
          "shapedefaults": {
           "line": {
            "color": "#2a3f5f"
           }
          },
          "ternary": {
           "aaxis": {
            "gridcolor": "white",
            "linecolor": "white",
            "ticks": ""
           },
           "baxis": {
            "gridcolor": "white",
            "linecolor": "white",
            "ticks": ""
           },
           "bgcolor": "#E5ECF6",
           "caxis": {
            "gridcolor": "white",
            "linecolor": "white",
            "ticks": ""
           }
          },
          "title": {
           "x": 0.05
          },
          "xaxis": {
           "automargin": true,
           "gridcolor": "white",
           "linecolor": "white",
           "ticks": "",
           "title": {
            "standoff": 15
           },
           "zerolinecolor": "white",
           "zerolinewidth": 2
          },
          "yaxis": {
           "automargin": true,
           "gridcolor": "white",
           "linecolor": "white",
           "ticks": "",
           "title": {
            "standoff": 15
           },
           "zerolinecolor": "white",
           "zerolinewidth": 2
          }
         }
        },
        "title": {
         "text": "Rovinj"
        },
        "xaxis": {
         "anchor": "y",
         "domain": [
          0,
          1
         ],
         "title": {
          "text": "calendar_week"
         }
        },
        "yaxis": {
         "anchor": "x",
         "domain": [
          0,
          1
         ],
         "title": {
          "text": "clean_entries"
         }
        }
       }
      }
     },
     "metadata": {},
     "output_type": "display_data"
    },
    {
     "data": {
      "application/vnd.plotly.v1+json": {
       "config": {
        "plotlyServerURL": "https://plot.ly"
       },
       "data": [
        {
         "hovertemplate": "city=Zagreb<br>calendar_week=%{x}<br>clean_entries=%{y}<extra></extra>",
         "legendgroup": "Zagreb",
         "line": {
          "color": "#636efa",
          "dash": "solid"
         },
         "marker": {
          "symbol": "circle"
         },
         "mode": "lines+markers",
         "name": "Zagreb",
         "orientation": "v",
         "showlegend": true,
         "type": "scatter",
         "x": [
          30,
          32,
          33,
          34,
          36,
          37
         ],
         "xaxis": "x",
         "y": [
          4122,
          4138,
          1617,
          4082,
          3940,
          3930
         ],
         "yaxis": "y"
        }
       ],
       "layout": {
        "legend": {
         "title": {
          "text": "city"
         },
         "tracegroupgap": 0
        },
        "template": {
         "data": {
          "bar": [
           {
            "error_x": {
             "color": "#2a3f5f"
            },
            "error_y": {
             "color": "#2a3f5f"
            },
            "marker": {
             "line": {
              "color": "#E5ECF6",
              "width": 0.5
             },
             "pattern": {
              "fillmode": "overlay",
              "size": 10,
              "solidity": 0.2
             }
            },
            "type": "bar"
           }
          ],
          "barpolar": [
           {
            "marker": {
             "line": {
              "color": "#E5ECF6",
              "width": 0.5
             },
             "pattern": {
              "fillmode": "overlay",
              "size": 10,
              "solidity": 0.2
             }
            },
            "type": "barpolar"
           }
          ],
          "carpet": [
           {
            "aaxis": {
             "endlinecolor": "#2a3f5f",
             "gridcolor": "white",
             "linecolor": "white",
             "minorgridcolor": "white",
             "startlinecolor": "#2a3f5f"
            },
            "baxis": {
             "endlinecolor": "#2a3f5f",
             "gridcolor": "white",
             "linecolor": "white",
             "minorgridcolor": "white",
             "startlinecolor": "#2a3f5f"
            },
            "type": "carpet"
           }
          ],
          "choropleth": [
           {
            "colorbar": {
             "outlinewidth": 0,
             "ticks": ""
            },
            "type": "choropleth"
           }
          ],
          "contour": [
           {
            "colorbar": {
             "outlinewidth": 0,
             "ticks": ""
            },
            "colorscale": [
             [
              0,
              "#0d0887"
             ],
             [
              0.1111111111111111,
              "#46039f"
             ],
             [
              0.2222222222222222,
              "#7201a8"
             ],
             [
              0.3333333333333333,
              "#9c179e"
             ],
             [
              0.4444444444444444,
              "#bd3786"
             ],
             [
              0.5555555555555556,
              "#d8576b"
             ],
             [
              0.6666666666666666,
              "#ed7953"
             ],
             [
              0.7777777777777778,
              "#fb9f3a"
             ],
             [
              0.8888888888888888,
              "#fdca26"
             ],
             [
              1,
              "#f0f921"
             ]
            ],
            "type": "contour"
           }
          ],
          "contourcarpet": [
           {
            "colorbar": {
             "outlinewidth": 0,
             "ticks": ""
            },
            "type": "contourcarpet"
           }
          ],
          "heatmap": [
           {
            "colorbar": {
             "outlinewidth": 0,
             "ticks": ""
            },
            "colorscale": [
             [
              0,
              "#0d0887"
             ],
             [
              0.1111111111111111,
              "#46039f"
             ],
             [
              0.2222222222222222,
              "#7201a8"
             ],
             [
              0.3333333333333333,
              "#9c179e"
             ],
             [
              0.4444444444444444,
              "#bd3786"
             ],
             [
              0.5555555555555556,
              "#d8576b"
             ],
             [
              0.6666666666666666,
              "#ed7953"
             ],
             [
              0.7777777777777778,
              "#fb9f3a"
             ],
             [
              0.8888888888888888,
              "#fdca26"
             ],
             [
              1,
              "#f0f921"
             ]
            ],
            "type": "heatmap"
           }
          ],
          "heatmapgl": [
           {
            "colorbar": {
             "outlinewidth": 0,
             "ticks": ""
            },
            "colorscale": [
             [
              0,
              "#0d0887"
             ],
             [
              0.1111111111111111,
              "#46039f"
             ],
             [
              0.2222222222222222,
              "#7201a8"
             ],
             [
              0.3333333333333333,
              "#9c179e"
             ],
             [
              0.4444444444444444,
              "#bd3786"
             ],
             [
              0.5555555555555556,
              "#d8576b"
             ],
             [
              0.6666666666666666,
              "#ed7953"
             ],
             [
              0.7777777777777778,
              "#fb9f3a"
             ],
             [
              0.8888888888888888,
              "#fdca26"
             ],
             [
              1,
              "#f0f921"
             ]
            ],
            "type": "heatmapgl"
           }
          ],
          "histogram": [
           {
            "marker": {
             "pattern": {
              "fillmode": "overlay",
              "size": 10,
              "solidity": 0.2
             }
            },
            "type": "histogram"
           }
          ],
          "histogram2d": [
           {
            "colorbar": {
             "outlinewidth": 0,
             "ticks": ""
            },
            "colorscale": [
             [
              0,
              "#0d0887"
             ],
             [
              0.1111111111111111,
              "#46039f"
             ],
             [
              0.2222222222222222,
              "#7201a8"
             ],
             [
              0.3333333333333333,
              "#9c179e"
             ],
             [
              0.4444444444444444,
              "#bd3786"
             ],
             [
              0.5555555555555556,
              "#d8576b"
             ],
             [
              0.6666666666666666,
              "#ed7953"
             ],
             [
              0.7777777777777778,
              "#fb9f3a"
             ],
             [
              0.8888888888888888,
              "#fdca26"
             ],
             [
              1,
              "#f0f921"
             ]
            ],
            "type": "histogram2d"
           }
          ],
          "histogram2dcontour": [
           {
            "colorbar": {
             "outlinewidth": 0,
             "ticks": ""
            },
            "colorscale": [
             [
              0,
              "#0d0887"
             ],
             [
              0.1111111111111111,
              "#46039f"
             ],
             [
              0.2222222222222222,
              "#7201a8"
             ],
             [
              0.3333333333333333,
              "#9c179e"
             ],
             [
              0.4444444444444444,
              "#bd3786"
             ],
             [
              0.5555555555555556,
              "#d8576b"
             ],
             [
              0.6666666666666666,
              "#ed7953"
             ],
             [
              0.7777777777777778,
              "#fb9f3a"
             ],
             [
              0.8888888888888888,
              "#fdca26"
             ],
             [
              1,
              "#f0f921"
             ]
            ],
            "type": "histogram2dcontour"
           }
          ],
          "mesh3d": [
           {
            "colorbar": {
             "outlinewidth": 0,
             "ticks": ""
            },
            "type": "mesh3d"
           }
          ],
          "parcoords": [
           {
            "line": {
             "colorbar": {
              "outlinewidth": 0,
              "ticks": ""
             }
            },
            "type": "parcoords"
           }
          ],
          "pie": [
           {
            "automargin": true,
            "type": "pie"
           }
          ],
          "scatter": [
           {
            "marker": {
             "colorbar": {
              "outlinewidth": 0,
              "ticks": ""
             }
            },
            "type": "scatter"
           }
          ],
          "scatter3d": [
           {
            "line": {
             "colorbar": {
              "outlinewidth": 0,
              "ticks": ""
             }
            },
            "marker": {
             "colorbar": {
              "outlinewidth": 0,
              "ticks": ""
             }
            },
            "type": "scatter3d"
           }
          ],
          "scattercarpet": [
           {
            "marker": {
             "colorbar": {
              "outlinewidth": 0,
              "ticks": ""
             }
            },
            "type": "scattercarpet"
           }
          ],
          "scattergeo": [
           {
            "marker": {
             "colorbar": {
              "outlinewidth": 0,
              "ticks": ""
             }
            },
            "type": "scattergeo"
           }
          ],
          "scattergl": [
           {
            "marker": {
             "colorbar": {
              "outlinewidth": 0,
              "ticks": ""
             }
            },
            "type": "scattergl"
           }
          ],
          "scattermapbox": [
           {
            "marker": {
             "colorbar": {
              "outlinewidth": 0,
              "ticks": ""
             }
            },
            "type": "scattermapbox"
           }
          ],
          "scatterpolar": [
           {
            "marker": {
             "colorbar": {
              "outlinewidth": 0,
              "ticks": ""
             }
            },
            "type": "scatterpolar"
           }
          ],
          "scatterpolargl": [
           {
            "marker": {
             "colorbar": {
              "outlinewidth": 0,
              "ticks": ""
             }
            },
            "type": "scatterpolargl"
           }
          ],
          "scatterternary": [
           {
            "marker": {
             "colorbar": {
              "outlinewidth": 0,
              "ticks": ""
             }
            },
            "type": "scatterternary"
           }
          ],
          "surface": [
           {
            "colorbar": {
             "outlinewidth": 0,
             "ticks": ""
            },
            "colorscale": [
             [
              0,
              "#0d0887"
             ],
             [
              0.1111111111111111,
              "#46039f"
             ],
             [
              0.2222222222222222,
              "#7201a8"
             ],
             [
              0.3333333333333333,
              "#9c179e"
             ],
             [
              0.4444444444444444,
              "#bd3786"
             ],
             [
              0.5555555555555556,
              "#d8576b"
             ],
             [
              0.6666666666666666,
              "#ed7953"
             ],
             [
              0.7777777777777778,
              "#fb9f3a"
             ],
             [
              0.8888888888888888,
              "#fdca26"
             ],
             [
              1,
              "#f0f921"
             ]
            ],
            "type": "surface"
           }
          ],
          "table": [
           {
            "cells": {
             "fill": {
              "color": "#EBF0F8"
             },
             "line": {
              "color": "white"
             }
            },
            "header": {
             "fill": {
              "color": "#C8D4E3"
             },
             "line": {
              "color": "white"
             }
            },
            "type": "table"
           }
          ]
         },
         "layout": {
          "annotationdefaults": {
           "arrowcolor": "#2a3f5f",
           "arrowhead": 0,
           "arrowwidth": 1
          },
          "autotypenumbers": "strict",
          "coloraxis": {
           "colorbar": {
            "outlinewidth": 0,
            "ticks": ""
           }
          },
          "colorscale": {
           "diverging": [
            [
             0,
             "#8e0152"
            ],
            [
             0.1,
             "#c51b7d"
            ],
            [
             0.2,
             "#de77ae"
            ],
            [
             0.3,
             "#f1b6da"
            ],
            [
             0.4,
             "#fde0ef"
            ],
            [
             0.5,
             "#f7f7f7"
            ],
            [
             0.6,
             "#e6f5d0"
            ],
            [
             0.7,
             "#b8e186"
            ],
            [
             0.8,
             "#7fbc41"
            ],
            [
             0.9,
             "#4d9221"
            ],
            [
             1,
             "#276419"
            ]
           ],
           "sequential": [
            [
             0,
             "#0d0887"
            ],
            [
             0.1111111111111111,
             "#46039f"
            ],
            [
             0.2222222222222222,
             "#7201a8"
            ],
            [
             0.3333333333333333,
             "#9c179e"
            ],
            [
             0.4444444444444444,
             "#bd3786"
            ],
            [
             0.5555555555555556,
             "#d8576b"
            ],
            [
             0.6666666666666666,
             "#ed7953"
            ],
            [
             0.7777777777777778,
             "#fb9f3a"
            ],
            [
             0.8888888888888888,
             "#fdca26"
            ],
            [
             1,
             "#f0f921"
            ]
           ],
           "sequentialminus": [
            [
             0,
             "#0d0887"
            ],
            [
             0.1111111111111111,
             "#46039f"
            ],
            [
             0.2222222222222222,
             "#7201a8"
            ],
            [
             0.3333333333333333,
             "#9c179e"
            ],
            [
             0.4444444444444444,
             "#bd3786"
            ],
            [
             0.5555555555555556,
             "#d8576b"
            ],
            [
             0.6666666666666666,
             "#ed7953"
            ],
            [
             0.7777777777777778,
             "#fb9f3a"
            ],
            [
             0.8888888888888888,
             "#fdca26"
            ],
            [
             1,
             "#f0f921"
            ]
           ]
          },
          "colorway": [
           "#636efa",
           "#EF553B",
           "#00cc96",
           "#ab63fa",
           "#FFA15A",
           "#19d3f3",
           "#FF6692",
           "#B6E880",
           "#FF97FF",
           "#FECB52"
          ],
          "font": {
           "color": "#2a3f5f"
          },
          "geo": {
           "bgcolor": "white",
           "lakecolor": "white",
           "landcolor": "#E5ECF6",
           "showlakes": true,
           "showland": true,
           "subunitcolor": "white"
          },
          "hoverlabel": {
           "align": "left"
          },
          "hovermode": "closest",
          "mapbox": {
           "style": "light"
          },
          "paper_bgcolor": "white",
          "plot_bgcolor": "#E5ECF6",
          "polar": {
           "angularaxis": {
            "gridcolor": "white",
            "linecolor": "white",
            "ticks": ""
           },
           "bgcolor": "#E5ECF6",
           "radialaxis": {
            "gridcolor": "white",
            "linecolor": "white",
            "ticks": ""
           }
          },
          "scene": {
           "xaxis": {
            "backgroundcolor": "#E5ECF6",
            "gridcolor": "white",
            "gridwidth": 2,
            "linecolor": "white",
            "showbackground": true,
            "ticks": "",
            "zerolinecolor": "white"
           },
           "yaxis": {
            "backgroundcolor": "#E5ECF6",
            "gridcolor": "white",
            "gridwidth": 2,
            "linecolor": "white",
            "showbackground": true,
            "ticks": "",
            "zerolinecolor": "white"
           },
           "zaxis": {
            "backgroundcolor": "#E5ECF6",
            "gridcolor": "white",
            "gridwidth": 2,
            "linecolor": "white",
            "showbackground": true,
            "ticks": "",
            "zerolinecolor": "white"
           }
          },
          "shapedefaults": {
           "line": {
            "color": "#2a3f5f"
           }
          },
          "ternary": {
           "aaxis": {
            "gridcolor": "white",
            "linecolor": "white",
            "ticks": ""
           },
           "baxis": {
            "gridcolor": "white",
            "linecolor": "white",
            "ticks": ""
           },
           "bgcolor": "#E5ECF6",
           "caxis": {
            "gridcolor": "white",
            "linecolor": "white",
            "ticks": ""
           }
          },
          "title": {
           "x": 0.05
          },
          "xaxis": {
           "automargin": true,
           "gridcolor": "white",
           "linecolor": "white",
           "ticks": "",
           "title": {
            "standoff": 15
           },
           "zerolinecolor": "white",
           "zerolinewidth": 2
          },
          "yaxis": {
           "automargin": true,
           "gridcolor": "white",
           "linecolor": "white",
           "ticks": "",
           "title": {
            "standoff": 15
           },
           "zerolinecolor": "white",
           "zerolinewidth": 2
          }
         }
        },
        "title": {
         "text": "Zagreb"
        },
        "xaxis": {
         "anchor": "y",
         "domain": [
          0,
          1
         ],
         "title": {
          "text": "calendar_week"
         }
        },
        "yaxis": {
         "anchor": "x",
         "domain": [
          0,
          1
         ],
         "title": {
          "text": "clean_entries"
         }
        }
       }
      }
     },
     "metadata": {},
     "output_type": "display_data"
    },
    {
     "data": {
      "application/vnd.plotly.v1+json": {
       "config": {
        "plotlyServerURL": "https://plot.ly"
       },
       "data": [
        {
         "hovertemplate": "city=Varazdin<br>calendar_week=%{x}<br>clean_entries=%{y}<extra></extra>",
         "legendgroup": "Varazdin",
         "line": {
          "color": "#636efa",
          "dash": "solid"
         },
         "marker": {
          "symbol": "circle"
         },
         "mode": "lines+markers",
         "name": "Varazdin",
         "orientation": "v",
         "showlegend": true,
         "type": "scatter",
         "x": [
          31,
          32,
          32,
          33,
          34,
          35,
          35,
          36,
          37
         ],
         "xaxis": "x",
         "y": [
          54,
          56,
          53,
          51,
          51,
          53,
          50,
          56,
          52
         ],
         "yaxis": "y"
        }
       ],
       "layout": {
        "legend": {
         "title": {
          "text": "city"
         },
         "tracegroupgap": 0
        },
        "template": {
         "data": {
          "bar": [
           {
            "error_x": {
             "color": "#2a3f5f"
            },
            "error_y": {
             "color": "#2a3f5f"
            },
            "marker": {
             "line": {
              "color": "#E5ECF6",
              "width": 0.5
             },
             "pattern": {
              "fillmode": "overlay",
              "size": 10,
              "solidity": 0.2
             }
            },
            "type": "bar"
           }
          ],
          "barpolar": [
           {
            "marker": {
             "line": {
              "color": "#E5ECF6",
              "width": 0.5
             },
             "pattern": {
              "fillmode": "overlay",
              "size": 10,
              "solidity": 0.2
             }
            },
            "type": "barpolar"
           }
          ],
          "carpet": [
           {
            "aaxis": {
             "endlinecolor": "#2a3f5f",
             "gridcolor": "white",
             "linecolor": "white",
             "minorgridcolor": "white",
             "startlinecolor": "#2a3f5f"
            },
            "baxis": {
             "endlinecolor": "#2a3f5f",
             "gridcolor": "white",
             "linecolor": "white",
             "minorgridcolor": "white",
             "startlinecolor": "#2a3f5f"
            },
            "type": "carpet"
           }
          ],
          "choropleth": [
           {
            "colorbar": {
             "outlinewidth": 0,
             "ticks": ""
            },
            "type": "choropleth"
           }
          ],
          "contour": [
           {
            "colorbar": {
             "outlinewidth": 0,
             "ticks": ""
            },
            "colorscale": [
             [
              0,
              "#0d0887"
             ],
             [
              0.1111111111111111,
              "#46039f"
             ],
             [
              0.2222222222222222,
              "#7201a8"
             ],
             [
              0.3333333333333333,
              "#9c179e"
             ],
             [
              0.4444444444444444,
              "#bd3786"
             ],
             [
              0.5555555555555556,
              "#d8576b"
             ],
             [
              0.6666666666666666,
              "#ed7953"
             ],
             [
              0.7777777777777778,
              "#fb9f3a"
             ],
             [
              0.8888888888888888,
              "#fdca26"
             ],
             [
              1,
              "#f0f921"
             ]
            ],
            "type": "contour"
           }
          ],
          "contourcarpet": [
           {
            "colorbar": {
             "outlinewidth": 0,
             "ticks": ""
            },
            "type": "contourcarpet"
           }
          ],
          "heatmap": [
           {
            "colorbar": {
             "outlinewidth": 0,
             "ticks": ""
            },
            "colorscale": [
             [
              0,
              "#0d0887"
             ],
             [
              0.1111111111111111,
              "#46039f"
             ],
             [
              0.2222222222222222,
              "#7201a8"
             ],
             [
              0.3333333333333333,
              "#9c179e"
             ],
             [
              0.4444444444444444,
              "#bd3786"
             ],
             [
              0.5555555555555556,
              "#d8576b"
             ],
             [
              0.6666666666666666,
              "#ed7953"
             ],
             [
              0.7777777777777778,
              "#fb9f3a"
             ],
             [
              0.8888888888888888,
              "#fdca26"
             ],
             [
              1,
              "#f0f921"
             ]
            ],
            "type": "heatmap"
           }
          ],
          "heatmapgl": [
           {
            "colorbar": {
             "outlinewidth": 0,
             "ticks": ""
            },
            "colorscale": [
             [
              0,
              "#0d0887"
             ],
             [
              0.1111111111111111,
              "#46039f"
             ],
             [
              0.2222222222222222,
              "#7201a8"
             ],
             [
              0.3333333333333333,
              "#9c179e"
             ],
             [
              0.4444444444444444,
              "#bd3786"
             ],
             [
              0.5555555555555556,
              "#d8576b"
             ],
             [
              0.6666666666666666,
              "#ed7953"
             ],
             [
              0.7777777777777778,
              "#fb9f3a"
             ],
             [
              0.8888888888888888,
              "#fdca26"
             ],
             [
              1,
              "#f0f921"
             ]
            ],
            "type": "heatmapgl"
           }
          ],
          "histogram": [
           {
            "marker": {
             "pattern": {
              "fillmode": "overlay",
              "size": 10,
              "solidity": 0.2
             }
            },
            "type": "histogram"
           }
          ],
          "histogram2d": [
           {
            "colorbar": {
             "outlinewidth": 0,
             "ticks": ""
            },
            "colorscale": [
             [
              0,
              "#0d0887"
             ],
             [
              0.1111111111111111,
              "#46039f"
             ],
             [
              0.2222222222222222,
              "#7201a8"
             ],
             [
              0.3333333333333333,
              "#9c179e"
             ],
             [
              0.4444444444444444,
              "#bd3786"
             ],
             [
              0.5555555555555556,
              "#d8576b"
             ],
             [
              0.6666666666666666,
              "#ed7953"
             ],
             [
              0.7777777777777778,
              "#fb9f3a"
             ],
             [
              0.8888888888888888,
              "#fdca26"
             ],
             [
              1,
              "#f0f921"
             ]
            ],
            "type": "histogram2d"
           }
          ],
          "histogram2dcontour": [
           {
            "colorbar": {
             "outlinewidth": 0,
             "ticks": ""
            },
            "colorscale": [
             [
              0,
              "#0d0887"
             ],
             [
              0.1111111111111111,
              "#46039f"
             ],
             [
              0.2222222222222222,
              "#7201a8"
             ],
             [
              0.3333333333333333,
              "#9c179e"
             ],
             [
              0.4444444444444444,
              "#bd3786"
             ],
             [
              0.5555555555555556,
              "#d8576b"
             ],
             [
              0.6666666666666666,
              "#ed7953"
             ],
             [
              0.7777777777777778,
              "#fb9f3a"
             ],
             [
              0.8888888888888888,
              "#fdca26"
             ],
             [
              1,
              "#f0f921"
             ]
            ],
            "type": "histogram2dcontour"
           }
          ],
          "mesh3d": [
           {
            "colorbar": {
             "outlinewidth": 0,
             "ticks": ""
            },
            "type": "mesh3d"
           }
          ],
          "parcoords": [
           {
            "line": {
             "colorbar": {
              "outlinewidth": 0,
              "ticks": ""
             }
            },
            "type": "parcoords"
           }
          ],
          "pie": [
           {
            "automargin": true,
            "type": "pie"
           }
          ],
          "scatter": [
           {
            "marker": {
             "colorbar": {
              "outlinewidth": 0,
              "ticks": ""
             }
            },
            "type": "scatter"
           }
          ],
          "scatter3d": [
           {
            "line": {
             "colorbar": {
              "outlinewidth": 0,
              "ticks": ""
             }
            },
            "marker": {
             "colorbar": {
              "outlinewidth": 0,
              "ticks": ""
             }
            },
            "type": "scatter3d"
           }
          ],
          "scattercarpet": [
           {
            "marker": {
             "colorbar": {
              "outlinewidth": 0,
              "ticks": ""
             }
            },
            "type": "scattercarpet"
           }
          ],
          "scattergeo": [
           {
            "marker": {
             "colorbar": {
              "outlinewidth": 0,
              "ticks": ""
             }
            },
            "type": "scattergeo"
           }
          ],
          "scattergl": [
           {
            "marker": {
             "colorbar": {
              "outlinewidth": 0,
              "ticks": ""
             }
            },
            "type": "scattergl"
           }
          ],
          "scattermapbox": [
           {
            "marker": {
             "colorbar": {
              "outlinewidth": 0,
              "ticks": ""
             }
            },
            "type": "scattermapbox"
           }
          ],
          "scatterpolar": [
           {
            "marker": {
             "colorbar": {
              "outlinewidth": 0,
              "ticks": ""
             }
            },
            "type": "scatterpolar"
           }
          ],
          "scatterpolargl": [
           {
            "marker": {
             "colorbar": {
              "outlinewidth": 0,
              "ticks": ""
             }
            },
            "type": "scatterpolargl"
           }
          ],
          "scatterternary": [
           {
            "marker": {
             "colorbar": {
              "outlinewidth": 0,
              "ticks": ""
             }
            },
            "type": "scatterternary"
           }
          ],
          "surface": [
           {
            "colorbar": {
             "outlinewidth": 0,
             "ticks": ""
            },
            "colorscale": [
             [
              0,
              "#0d0887"
             ],
             [
              0.1111111111111111,
              "#46039f"
             ],
             [
              0.2222222222222222,
              "#7201a8"
             ],
             [
              0.3333333333333333,
              "#9c179e"
             ],
             [
              0.4444444444444444,
              "#bd3786"
             ],
             [
              0.5555555555555556,
              "#d8576b"
             ],
             [
              0.6666666666666666,
              "#ed7953"
             ],
             [
              0.7777777777777778,
              "#fb9f3a"
             ],
             [
              0.8888888888888888,
              "#fdca26"
             ],
             [
              1,
              "#f0f921"
             ]
            ],
            "type": "surface"
           }
          ],
          "table": [
           {
            "cells": {
             "fill": {
              "color": "#EBF0F8"
             },
             "line": {
              "color": "white"
             }
            },
            "header": {
             "fill": {
              "color": "#C8D4E3"
             },
             "line": {
              "color": "white"
             }
            },
            "type": "table"
           }
          ]
         },
         "layout": {
          "annotationdefaults": {
           "arrowcolor": "#2a3f5f",
           "arrowhead": 0,
           "arrowwidth": 1
          },
          "autotypenumbers": "strict",
          "coloraxis": {
           "colorbar": {
            "outlinewidth": 0,
            "ticks": ""
           }
          },
          "colorscale": {
           "diverging": [
            [
             0,
             "#8e0152"
            ],
            [
             0.1,
             "#c51b7d"
            ],
            [
             0.2,
             "#de77ae"
            ],
            [
             0.3,
             "#f1b6da"
            ],
            [
             0.4,
             "#fde0ef"
            ],
            [
             0.5,
             "#f7f7f7"
            ],
            [
             0.6,
             "#e6f5d0"
            ],
            [
             0.7,
             "#b8e186"
            ],
            [
             0.8,
             "#7fbc41"
            ],
            [
             0.9,
             "#4d9221"
            ],
            [
             1,
             "#276419"
            ]
           ],
           "sequential": [
            [
             0,
             "#0d0887"
            ],
            [
             0.1111111111111111,
             "#46039f"
            ],
            [
             0.2222222222222222,
             "#7201a8"
            ],
            [
             0.3333333333333333,
             "#9c179e"
            ],
            [
             0.4444444444444444,
             "#bd3786"
            ],
            [
             0.5555555555555556,
             "#d8576b"
            ],
            [
             0.6666666666666666,
             "#ed7953"
            ],
            [
             0.7777777777777778,
             "#fb9f3a"
            ],
            [
             0.8888888888888888,
             "#fdca26"
            ],
            [
             1,
             "#f0f921"
            ]
           ],
           "sequentialminus": [
            [
             0,
             "#0d0887"
            ],
            [
             0.1111111111111111,
             "#46039f"
            ],
            [
             0.2222222222222222,
             "#7201a8"
            ],
            [
             0.3333333333333333,
             "#9c179e"
            ],
            [
             0.4444444444444444,
             "#bd3786"
            ],
            [
             0.5555555555555556,
             "#d8576b"
            ],
            [
             0.6666666666666666,
             "#ed7953"
            ],
            [
             0.7777777777777778,
             "#fb9f3a"
            ],
            [
             0.8888888888888888,
             "#fdca26"
            ],
            [
             1,
             "#f0f921"
            ]
           ]
          },
          "colorway": [
           "#636efa",
           "#EF553B",
           "#00cc96",
           "#ab63fa",
           "#FFA15A",
           "#19d3f3",
           "#FF6692",
           "#B6E880",
           "#FF97FF",
           "#FECB52"
          ],
          "font": {
           "color": "#2a3f5f"
          },
          "geo": {
           "bgcolor": "white",
           "lakecolor": "white",
           "landcolor": "#E5ECF6",
           "showlakes": true,
           "showland": true,
           "subunitcolor": "white"
          },
          "hoverlabel": {
           "align": "left"
          },
          "hovermode": "closest",
          "mapbox": {
           "style": "light"
          },
          "paper_bgcolor": "white",
          "plot_bgcolor": "#E5ECF6",
          "polar": {
           "angularaxis": {
            "gridcolor": "white",
            "linecolor": "white",
            "ticks": ""
           },
           "bgcolor": "#E5ECF6",
           "radialaxis": {
            "gridcolor": "white",
            "linecolor": "white",
            "ticks": ""
           }
          },
          "scene": {
           "xaxis": {
            "backgroundcolor": "#E5ECF6",
            "gridcolor": "white",
            "gridwidth": 2,
            "linecolor": "white",
            "showbackground": true,
            "ticks": "",
            "zerolinecolor": "white"
           },
           "yaxis": {
            "backgroundcolor": "#E5ECF6",
            "gridcolor": "white",
            "gridwidth": 2,
            "linecolor": "white",
            "showbackground": true,
            "ticks": "",
            "zerolinecolor": "white"
           },
           "zaxis": {
            "backgroundcolor": "#E5ECF6",
            "gridcolor": "white",
            "gridwidth": 2,
            "linecolor": "white",
            "showbackground": true,
            "ticks": "",
            "zerolinecolor": "white"
           }
          },
          "shapedefaults": {
           "line": {
            "color": "#2a3f5f"
           }
          },
          "ternary": {
           "aaxis": {
            "gridcolor": "white",
            "linecolor": "white",
            "ticks": ""
           },
           "baxis": {
            "gridcolor": "white",
            "linecolor": "white",
            "ticks": ""
           },
           "bgcolor": "#E5ECF6",
           "caxis": {
            "gridcolor": "white",
            "linecolor": "white",
            "ticks": ""
           }
          },
          "title": {
           "x": 0.05
          },
          "xaxis": {
           "automargin": true,
           "gridcolor": "white",
           "linecolor": "white",
           "ticks": "",
           "title": {
            "standoff": 15
           },
           "zerolinecolor": "white",
           "zerolinewidth": 2
          },
          "yaxis": {
           "automargin": true,
           "gridcolor": "white",
           "linecolor": "white",
           "ticks": "",
           "title": {
            "standoff": 15
           },
           "zerolinecolor": "white",
           "zerolinewidth": 2
          }
         }
        },
        "title": {
         "text": "Varazdin"
        },
        "xaxis": {
         "anchor": "y",
         "domain": [
          0,
          1
         ],
         "title": {
          "text": "calendar_week"
         }
        },
        "yaxis": {
         "anchor": "x",
         "domain": [
          0,
          1
         ],
         "title": {
          "text": "clean_entries"
         }
        }
       }
      }
     },
     "metadata": {},
     "output_type": "display_data"
    },
    {
     "data": {
      "application/vnd.plotly.v1+json": {
       "config": {
        "plotlyServerURL": "https://plot.ly"
       },
       "data": [
        {
         "hovertemplate": "city=Rijeka<br>calendar_week=%{x}<br>clean_entries=%{y}<extra></extra>",
         "legendgroup": "Rijeka",
         "line": {
          "color": "#636efa",
          "dash": "solid"
         },
         "marker": {
          "symbol": "circle"
         },
         "mode": "lines+markers",
         "name": "Rijeka",
         "orientation": "v",
         "showlegend": true,
         "type": "scatter",
         "x": [
          33,
          35,
          36,
          37
         ],
         "xaxis": "x",
         "y": [
          1319,
          3732,
          3666,
          3569
         ],
         "yaxis": "y"
        }
       ],
       "layout": {
        "legend": {
         "title": {
          "text": "city"
         },
         "tracegroupgap": 0
        },
        "template": {
         "data": {
          "bar": [
           {
            "error_x": {
             "color": "#2a3f5f"
            },
            "error_y": {
             "color": "#2a3f5f"
            },
            "marker": {
             "line": {
              "color": "#E5ECF6",
              "width": 0.5
             },
             "pattern": {
              "fillmode": "overlay",
              "size": 10,
              "solidity": 0.2
             }
            },
            "type": "bar"
           }
          ],
          "barpolar": [
           {
            "marker": {
             "line": {
              "color": "#E5ECF6",
              "width": 0.5
             },
             "pattern": {
              "fillmode": "overlay",
              "size": 10,
              "solidity": 0.2
             }
            },
            "type": "barpolar"
           }
          ],
          "carpet": [
           {
            "aaxis": {
             "endlinecolor": "#2a3f5f",
             "gridcolor": "white",
             "linecolor": "white",
             "minorgridcolor": "white",
             "startlinecolor": "#2a3f5f"
            },
            "baxis": {
             "endlinecolor": "#2a3f5f",
             "gridcolor": "white",
             "linecolor": "white",
             "minorgridcolor": "white",
             "startlinecolor": "#2a3f5f"
            },
            "type": "carpet"
           }
          ],
          "choropleth": [
           {
            "colorbar": {
             "outlinewidth": 0,
             "ticks": ""
            },
            "type": "choropleth"
           }
          ],
          "contour": [
           {
            "colorbar": {
             "outlinewidth": 0,
             "ticks": ""
            },
            "colorscale": [
             [
              0,
              "#0d0887"
             ],
             [
              0.1111111111111111,
              "#46039f"
             ],
             [
              0.2222222222222222,
              "#7201a8"
             ],
             [
              0.3333333333333333,
              "#9c179e"
             ],
             [
              0.4444444444444444,
              "#bd3786"
             ],
             [
              0.5555555555555556,
              "#d8576b"
             ],
             [
              0.6666666666666666,
              "#ed7953"
             ],
             [
              0.7777777777777778,
              "#fb9f3a"
             ],
             [
              0.8888888888888888,
              "#fdca26"
             ],
             [
              1,
              "#f0f921"
             ]
            ],
            "type": "contour"
           }
          ],
          "contourcarpet": [
           {
            "colorbar": {
             "outlinewidth": 0,
             "ticks": ""
            },
            "type": "contourcarpet"
           }
          ],
          "heatmap": [
           {
            "colorbar": {
             "outlinewidth": 0,
             "ticks": ""
            },
            "colorscale": [
             [
              0,
              "#0d0887"
             ],
             [
              0.1111111111111111,
              "#46039f"
             ],
             [
              0.2222222222222222,
              "#7201a8"
             ],
             [
              0.3333333333333333,
              "#9c179e"
             ],
             [
              0.4444444444444444,
              "#bd3786"
             ],
             [
              0.5555555555555556,
              "#d8576b"
             ],
             [
              0.6666666666666666,
              "#ed7953"
             ],
             [
              0.7777777777777778,
              "#fb9f3a"
             ],
             [
              0.8888888888888888,
              "#fdca26"
             ],
             [
              1,
              "#f0f921"
             ]
            ],
            "type": "heatmap"
           }
          ],
          "heatmapgl": [
           {
            "colorbar": {
             "outlinewidth": 0,
             "ticks": ""
            },
            "colorscale": [
             [
              0,
              "#0d0887"
             ],
             [
              0.1111111111111111,
              "#46039f"
             ],
             [
              0.2222222222222222,
              "#7201a8"
             ],
             [
              0.3333333333333333,
              "#9c179e"
             ],
             [
              0.4444444444444444,
              "#bd3786"
             ],
             [
              0.5555555555555556,
              "#d8576b"
             ],
             [
              0.6666666666666666,
              "#ed7953"
             ],
             [
              0.7777777777777778,
              "#fb9f3a"
             ],
             [
              0.8888888888888888,
              "#fdca26"
             ],
             [
              1,
              "#f0f921"
             ]
            ],
            "type": "heatmapgl"
           }
          ],
          "histogram": [
           {
            "marker": {
             "pattern": {
              "fillmode": "overlay",
              "size": 10,
              "solidity": 0.2
             }
            },
            "type": "histogram"
           }
          ],
          "histogram2d": [
           {
            "colorbar": {
             "outlinewidth": 0,
             "ticks": ""
            },
            "colorscale": [
             [
              0,
              "#0d0887"
             ],
             [
              0.1111111111111111,
              "#46039f"
             ],
             [
              0.2222222222222222,
              "#7201a8"
             ],
             [
              0.3333333333333333,
              "#9c179e"
             ],
             [
              0.4444444444444444,
              "#bd3786"
             ],
             [
              0.5555555555555556,
              "#d8576b"
             ],
             [
              0.6666666666666666,
              "#ed7953"
             ],
             [
              0.7777777777777778,
              "#fb9f3a"
             ],
             [
              0.8888888888888888,
              "#fdca26"
             ],
             [
              1,
              "#f0f921"
             ]
            ],
            "type": "histogram2d"
           }
          ],
          "histogram2dcontour": [
           {
            "colorbar": {
             "outlinewidth": 0,
             "ticks": ""
            },
            "colorscale": [
             [
              0,
              "#0d0887"
             ],
             [
              0.1111111111111111,
              "#46039f"
             ],
             [
              0.2222222222222222,
              "#7201a8"
             ],
             [
              0.3333333333333333,
              "#9c179e"
             ],
             [
              0.4444444444444444,
              "#bd3786"
             ],
             [
              0.5555555555555556,
              "#d8576b"
             ],
             [
              0.6666666666666666,
              "#ed7953"
             ],
             [
              0.7777777777777778,
              "#fb9f3a"
             ],
             [
              0.8888888888888888,
              "#fdca26"
             ],
             [
              1,
              "#f0f921"
             ]
            ],
            "type": "histogram2dcontour"
           }
          ],
          "mesh3d": [
           {
            "colorbar": {
             "outlinewidth": 0,
             "ticks": ""
            },
            "type": "mesh3d"
           }
          ],
          "parcoords": [
           {
            "line": {
             "colorbar": {
              "outlinewidth": 0,
              "ticks": ""
             }
            },
            "type": "parcoords"
           }
          ],
          "pie": [
           {
            "automargin": true,
            "type": "pie"
           }
          ],
          "scatter": [
           {
            "marker": {
             "colorbar": {
              "outlinewidth": 0,
              "ticks": ""
             }
            },
            "type": "scatter"
           }
          ],
          "scatter3d": [
           {
            "line": {
             "colorbar": {
              "outlinewidth": 0,
              "ticks": ""
             }
            },
            "marker": {
             "colorbar": {
              "outlinewidth": 0,
              "ticks": ""
             }
            },
            "type": "scatter3d"
           }
          ],
          "scattercarpet": [
           {
            "marker": {
             "colorbar": {
              "outlinewidth": 0,
              "ticks": ""
             }
            },
            "type": "scattercarpet"
           }
          ],
          "scattergeo": [
           {
            "marker": {
             "colorbar": {
              "outlinewidth": 0,
              "ticks": ""
             }
            },
            "type": "scattergeo"
           }
          ],
          "scattergl": [
           {
            "marker": {
             "colorbar": {
              "outlinewidth": 0,
              "ticks": ""
             }
            },
            "type": "scattergl"
           }
          ],
          "scattermapbox": [
           {
            "marker": {
             "colorbar": {
              "outlinewidth": 0,
              "ticks": ""
             }
            },
            "type": "scattermapbox"
           }
          ],
          "scatterpolar": [
           {
            "marker": {
             "colorbar": {
              "outlinewidth": 0,
              "ticks": ""
             }
            },
            "type": "scatterpolar"
           }
          ],
          "scatterpolargl": [
           {
            "marker": {
             "colorbar": {
              "outlinewidth": 0,
              "ticks": ""
             }
            },
            "type": "scatterpolargl"
           }
          ],
          "scatterternary": [
           {
            "marker": {
             "colorbar": {
              "outlinewidth": 0,
              "ticks": ""
             }
            },
            "type": "scatterternary"
           }
          ],
          "surface": [
           {
            "colorbar": {
             "outlinewidth": 0,
             "ticks": ""
            },
            "colorscale": [
             [
              0,
              "#0d0887"
             ],
             [
              0.1111111111111111,
              "#46039f"
             ],
             [
              0.2222222222222222,
              "#7201a8"
             ],
             [
              0.3333333333333333,
              "#9c179e"
             ],
             [
              0.4444444444444444,
              "#bd3786"
             ],
             [
              0.5555555555555556,
              "#d8576b"
             ],
             [
              0.6666666666666666,
              "#ed7953"
             ],
             [
              0.7777777777777778,
              "#fb9f3a"
             ],
             [
              0.8888888888888888,
              "#fdca26"
             ],
             [
              1,
              "#f0f921"
             ]
            ],
            "type": "surface"
           }
          ],
          "table": [
           {
            "cells": {
             "fill": {
              "color": "#EBF0F8"
             },
             "line": {
              "color": "white"
             }
            },
            "header": {
             "fill": {
              "color": "#C8D4E3"
             },
             "line": {
              "color": "white"
             }
            },
            "type": "table"
           }
          ]
         },
         "layout": {
          "annotationdefaults": {
           "arrowcolor": "#2a3f5f",
           "arrowhead": 0,
           "arrowwidth": 1
          },
          "autotypenumbers": "strict",
          "coloraxis": {
           "colorbar": {
            "outlinewidth": 0,
            "ticks": ""
           }
          },
          "colorscale": {
           "diverging": [
            [
             0,
             "#8e0152"
            ],
            [
             0.1,
             "#c51b7d"
            ],
            [
             0.2,
             "#de77ae"
            ],
            [
             0.3,
             "#f1b6da"
            ],
            [
             0.4,
             "#fde0ef"
            ],
            [
             0.5,
             "#f7f7f7"
            ],
            [
             0.6,
             "#e6f5d0"
            ],
            [
             0.7,
             "#b8e186"
            ],
            [
             0.8,
             "#7fbc41"
            ],
            [
             0.9,
             "#4d9221"
            ],
            [
             1,
             "#276419"
            ]
           ],
           "sequential": [
            [
             0,
             "#0d0887"
            ],
            [
             0.1111111111111111,
             "#46039f"
            ],
            [
             0.2222222222222222,
             "#7201a8"
            ],
            [
             0.3333333333333333,
             "#9c179e"
            ],
            [
             0.4444444444444444,
             "#bd3786"
            ],
            [
             0.5555555555555556,
             "#d8576b"
            ],
            [
             0.6666666666666666,
             "#ed7953"
            ],
            [
             0.7777777777777778,
             "#fb9f3a"
            ],
            [
             0.8888888888888888,
             "#fdca26"
            ],
            [
             1,
             "#f0f921"
            ]
           ],
           "sequentialminus": [
            [
             0,
             "#0d0887"
            ],
            [
             0.1111111111111111,
             "#46039f"
            ],
            [
             0.2222222222222222,
             "#7201a8"
            ],
            [
             0.3333333333333333,
             "#9c179e"
            ],
            [
             0.4444444444444444,
             "#bd3786"
            ],
            [
             0.5555555555555556,
             "#d8576b"
            ],
            [
             0.6666666666666666,
             "#ed7953"
            ],
            [
             0.7777777777777778,
             "#fb9f3a"
            ],
            [
             0.8888888888888888,
             "#fdca26"
            ],
            [
             1,
             "#f0f921"
            ]
           ]
          },
          "colorway": [
           "#636efa",
           "#EF553B",
           "#00cc96",
           "#ab63fa",
           "#FFA15A",
           "#19d3f3",
           "#FF6692",
           "#B6E880",
           "#FF97FF",
           "#FECB52"
          ],
          "font": {
           "color": "#2a3f5f"
          },
          "geo": {
           "bgcolor": "white",
           "lakecolor": "white",
           "landcolor": "#E5ECF6",
           "showlakes": true,
           "showland": true,
           "subunitcolor": "white"
          },
          "hoverlabel": {
           "align": "left"
          },
          "hovermode": "closest",
          "mapbox": {
           "style": "light"
          },
          "paper_bgcolor": "white",
          "plot_bgcolor": "#E5ECF6",
          "polar": {
           "angularaxis": {
            "gridcolor": "white",
            "linecolor": "white",
            "ticks": ""
           },
           "bgcolor": "#E5ECF6",
           "radialaxis": {
            "gridcolor": "white",
            "linecolor": "white",
            "ticks": ""
           }
          },
          "scene": {
           "xaxis": {
            "backgroundcolor": "#E5ECF6",
            "gridcolor": "white",
            "gridwidth": 2,
            "linecolor": "white",
            "showbackground": true,
            "ticks": "",
            "zerolinecolor": "white"
           },
           "yaxis": {
            "backgroundcolor": "#E5ECF6",
            "gridcolor": "white",
            "gridwidth": 2,
            "linecolor": "white",
            "showbackground": true,
            "ticks": "",
            "zerolinecolor": "white"
           },
           "zaxis": {
            "backgroundcolor": "#E5ECF6",
            "gridcolor": "white",
            "gridwidth": 2,
            "linecolor": "white",
            "showbackground": true,
            "ticks": "",
            "zerolinecolor": "white"
           }
          },
          "shapedefaults": {
           "line": {
            "color": "#2a3f5f"
           }
          },
          "ternary": {
           "aaxis": {
            "gridcolor": "white",
            "linecolor": "white",
            "ticks": ""
           },
           "baxis": {
            "gridcolor": "white",
            "linecolor": "white",
            "ticks": ""
           },
           "bgcolor": "#E5ECF6",
           "caxis": {
            "gridcolor": "white",
            "linecolor": "white",
            "ticks": ""
           }
          },
          "title": {
           "x": 0.05
          },
          "xaxis": {
           "automargin": true,
           "gridcolor": "white",
           "linecolor": "white",
           "ticks": "",
           "title": {
            "standoff": 15
           },
           "zerolinecolor": "white",
           "zerolinewidth": 2
          },
          "yaxis": {
           "automargin": true,
           "gridcolor": "white",
           "linecolor": "white",
           "ticks": "",
           "title": {
            "standoff": 15
           },
           "zerolinecolor": "white",
           "zerolinewidth": 2
          }
         }
        },
        "title": {
         "text": "Rijeka"
        },
        "xaxis": {
         "anchor": "y",
         "domain": [
          0,
          1
         ],
         "title": {
          "text": "calendar_week"
         }
        },
        "yaxis": {
         "anchor": "x",
         "domain": [
          0,
          1
         ],
         "title": {
          "text": "clean_entries"
         }
        }
       }
      }
     },
     "metadata": {},
     "output_type": "display_data"
    },
    {
     "data": {
      "application/vnd.plotly.v1+json": {
       "config": {
        "plotlyServerURL": "https://plot.ly"
       },
       "data": [
        {
         "hovertemplate": "city=Split<br>calendar_week=%{x}<br>clean_entries=%{y}<extra></extra>",
         "legendgroup": "Split",
         "line": {
          "color": "#636efa",
          "dash": "solid"
         },
         "marker": {
          "symbol": "circle"
         },
         "mode": "lines+markers",
         "name": "Split",
         "orientation": "v",
         "showlegend": true,
         "type": "scatter",
         "x": [
          33,
          34,
          35,
          36,
          37
         ],
         "xaxis": "x",
         "y": [
          570,
          570,
          550,
          532,
          524
         ],
         "yaxis": "y"
        }
       ],
       "layout": {
        "legend": {
         "title": {
          "text": "city"
         },
         "tracegroupgap": 0
        },
        "template": {
         "data": {
          "bar": [
           {
            "error_x": {
             "color": "#2a3f5f"
            },
            "error_y": {
             "color": "#2a3f5f"
            },
            "marker": {
             "line": {
              "color": "#E5ECF6",
              "width": 0.5
             },
             "pattern": {
              "fillmode": "overlay",
              "size": 10,
              "solidity": 0.2
             }
            },
            "type": "bar"
           }
          ],
          "barpolar": [
           {
            "marker": {
             "line": {
              "color": "#E5ECF6",
              "width": 0.5
             },
             "pattern": {
              "fillmode": "overlay",
              "size": 10,
              "solidity": 0.2
             }
            },
            "type": "barpolar"
           }
          ],
          "carpet": [
           {
            "aaxis": {
             "endlinecolor": "#2a3f5f",
             "gridcolor": "white",
             "linecolor": "white",
             "minorgridcolor": "white",
             "startlinecolor": "#2a3f5f"
            },
            "baxis": {
             "endlinecolor": "#2a3f5f",
             "gridcolor": "white",
             "linecolor": "white",
             "minorgridcolor": "white",
             "startlinecolor": "#2a3f5f"
            },
            "type": "carpet"
           }
          ],
          "choropleth": [
           {
            "colorbar": {
             "outlinewidth": 0,
             "ticks": ""
            },
            "type": "choropleth"
           }
          ],
          "contour": [
           {
            "colorbar": {
             "outlinewidth": 0,
             "ticks": ""
            },
            "colorscale": [
             [
              0,
              "#0d0887"
             ],
             [
              0.1111111111111111,
              "#46039f"
             ],
             [
              0.2222222222222222,
              "#7201a8"
             ],
             [
              0.3333333333333333,
              "#9c179e"
             ],
             [
              0.4444444444444444,
              "#bd3786"
             ],
             [
              0.5555555555555556,
              "#d8576b"
             ],
             [
              0.6666666666666666,
              "#ed7953"
             ],
             [
              0.7777777777777778,
              "#fb9f3a"
             ],
             [
              0.8888888888888888,
              "#fdca26"
             ],
             [
              1,
              "#f0f921"
             ]
            ],
            "type": "contour"
           }
          ],
          "contourcarpet": [
           {
            "colorbar": {
             "outlinewidth": 0,
             "ticks": ""
            },
            "type": "contourcarpet"
           }
          ],
          "heatmap": [
           {
            "colorbar": {
             "outlinewidth": 0,
             "ticks": ""
            },
            "colorscale": [
             [
              0,
              "#0d0887"
             ],
             [
              0.1111111111111111,
              "#46039f"
             ],
             [
              0.2222222222222222,
              "#7201a8"
             ],
             [
              0.3333333333333333,
              "#9c179e"
             ],
             [
              0.4444444444444444,
              "#bd3786"
             ],
             [
              0.5555555555555556,
              "#d8576b"
             ],
             [
              0.6666666666666666,
              "#ed7953"
             ],
             [
              0.7777777777777778,
              "#fb9f3a"
             ],
             [
              0.8888888888888888,
              "#fdca26"
             ],
             [
              1,
              "#f0f921"
             ]
            ],
            "type": "heatmap"
           }
          ],
          "heatmapgl": [
           {
            "colorbar": {
             "outlinewidth": 0,
             "ticks": ""
            },
            "colorscale": [
             [
              0,
              "#0d0887"
             ],
             [
              0.1111111111111111,
              "#46039f"
             ],
             [
              0.2222222222222222,
              "#7201a8"
             ],
             [
              0.3333333333333333,
              "#9c179e"
             ],
             [
              0.4444444444444444,
              "#bd3786"
             ],
             [
              0.5555555555555556,
              "#d8576b"
             ],
             [
              0.6666666666666666,
              "#ed7953"
             ],
             [
              0.7777777777777778,
              "#fb9f3a"
             ],
             [
              0.8888888888888888,
              "#fdca26"
             ],
             [
              1,
              "#f0f921"
             ]
            ],
            "type": "heatmapgl"
           }
          ],
          "histogram": [
           {
            "marker": {
             "pattern": {
              "fillmode": "overlay",
              "size": 10,
              "solidity": 0.2
             }
            },
            "type": "histogram"
           }
          ],
          "histogram2d": [
           {
            "colorbar": {
             "outlinewidth": 0,
             "ticks": ""
            },
            "colorscale": [
             [
              0,
              "#0d0887"
             ],
             [
              0.1111111111111111,
              "#46039f"
             ],
             [
              0.2222222222222222,
              "#7201a8"
             ],
             [
              0.3333333333333333,
              "#9c179e"
             ],
             [
              0.4444444444444444,
              "#bd3786"
             ],
             [
              0.5555555555555556,
              "#d8576b"
             ],
             [
              0.6666666666666666,
              "#ed7953"
             ],
             [
              0.7777777777777778,
              "#fb9f3a"
             ],
             [
              0.8888888888888888,
              "#fdca26"
             ],
             [
              1,
              "#f0f921"
             ]
            ],
            "type": "histogram2d"
           }
          ],
          "histogram2dcontour": [
           {
            "colorbar": {
             "outlinewidth": 0,
             "ticks": ""
            },
            "colorscale": [
             [
              0,
              "#0d0887"
             ],
             [
              0.1111111111111111,
              "#46039f"
             ],
             [
              0.2222222222222222,
              "#7201a8"
             ],
             [
              0.3333333333333333,
              "#9c179e"
             ],
             [
              0.4444444444444444,
              "#bd3786"
             ],
             [
              0.5555555555555556,
              "#d8576b"
             ],
             [
              0.6666666666666666,
              "#ed7953"
             ],
             [
              0.7777777777777778,
              "#fb9f3a"
             ],
             [
              0.8888888888888888,
              "#fdca26"
             ],
             [
              1,
              "#f0f921"
             ]
            ],
            "type": "histogram2dcontour"
           }
          ],
          "mesh3d": [
           {
            "colorbar": {
             "outlinewidth": 0,
             "ticks": ""
            },
            "type": "mesh3d"
           }
          ],
          "parcoords": [
           {
            "line": {
             "colorbar": {
              "outlinewidth": 0,
              "ticks": ""
             }
            },
            "type": "parcoords"
           }
          ],
          "pie": [
           {
            "automargin": true,
            "type": "pie"
           }
          ],
          "scatter": [
           {
            "marker": {
             "colorbar": {
              "outlinewidth": 0,
              "ticks": ""
             }
            },
            "type": "scatter"
           }
          ],
          "scatter3d": [
           {
            "line": {
             "colorbar": {
              "outlinewidth": 0,
              "ticks": ""
             }
            },
            "marker": {
             "colorbar": {
              "outlinewidth": 0,
              "ticks": ""
             }
            },
            "type": "scatter3d"
           }
          ],
          "scattercarpet": [
           {
            "marker": {
             "colorbar": {
              "outlinewidth": 0,
              "ticks": ""
             }
            },
            "type": "scattercarpet"
           }
          ],
          "scattergeo": [
           {
            "marker": {
             "colorbar": {
              "outlinewidth": 0,
              "ticks": ""
             }
            },
            "type": "scattergeo"
           }
          ],
          "scattergl": [
           {
            "marker": {
             "colorbar": {
              "outlinewidth": 0,
              "ticks": ""
             }
            },
            "type": "scattergl"
           }
          ],
          "scattermapbox": [
           {
            "marker": {
             "colorbar": {
              "outlinewidth": 0,
              "ticks": ""
             }
            },
            "type": "scattermapbox"
           }
          ],
          "scatterpolar": [
           {
            "marker": {
             "colorbar": {
              "outlinewidth": 0,
              "ticks": ""
             }
            },
            "type": "scatterpolar"
           }
          ],
          "scatterpolargl": [
           {
            "marker": {
             "colorbar": {
              "outlinewidth": 0,
              "ticks": ""
             }
            },
            "type": "scatterpolargl"
           }
          ],
          "scatterternary": [
           {
            "marker": {
             "colorbar": {
              "outlinewidth": 0,
              "ticks": ""
             }
            },
            "type": "scatterternary"
           }
          ],
          "surface": [
           {
            "colorbar": {
             "outlinewidth": 0,
             "ticks": ""
            },
            "colorscale": [
             [
              0,
              "#0d0887"
             ],
             [
              0.1111111111111111,
              "#46039f"
             ],
             [
              0.2222222222222222,
              "#7201a8"
             ],
             [
              0.3333333333333333,
              "#9c179e"
             ],
             [
              0.4444444444444444,
              "#bd3786"
             ],
             [
              0.5555555555555556,
              "#d8576b"
             ],
             [
              0.6666666666666666,
              "#ed7953"
             ],
             [
              0.7777777777777778,
              "#fb9f3a"
             ],
             [
              0.8888888888888888,
              "#fdca26"
             ],
             [
              1,
              "#f0f921"
             ]
            ],
            "type": "surface"
           }
          ],
          "table": [
           {
            "cells": {
             "fill": {
              "color": "#EBF0F8"
             },
             "line": {
              "color": "white"
             }
            },
            "header": {
             "fill": {
              "color": "#C8D4E3"
             },
             "line": {
              "color": "white"
             }
            },
            "type": "table"
           }
          ]
         },
         "layout": {
          "annotationdefaults": {
           "arrowcolor": "#2a3f5f",
           "arrowhead": 0,
           "arrowwidth": 1
          },
          "autotypenumbers": "strict",
          "coloraxis": {
           "colorbar": {
            "outlinewidth": 0,
            "ticks": ""
           }
          },
          "colorscale": {
           "diverging": [
            [
             0,
             "#8e0152"
            ],
            [
             0.1,
             "#c51b7d"
            ],
            [
             0.2,
             "#de77ae"
            ],
            [
             0.3,
             "#f1b6da"
            ],
            [
             0.4,
             "#fde0ef"
            ],
            [
             0.5,
             "#f7f7f7"
            ],
            [
             0.6,
             "#e6f5d0"
            ],
            [
             0.7,
             "#b8e186"
            ],
            [
             0.8,
             "#7fbc41"
            ],
            [
             0.9,
             "#4d9221"
            ],
            [
             1,
             "#276419"
            ]
           ],
           "sequential": [
            [
             0,
             "#0d0887"
            ],
            [
             0.1111111111111111,
             "#46039f"
            ],
            [
             0.2222222222222222,
             "#7201a8"
            ],
            [
             0.3333333333333333,
             "#9c179e"
            ],
            [
             0.4444444444444444,
             "#bd3786"
            ],
            [
             0.5555555555555556,
             "#d8576b"
            ],
            [
             0.6666666666666666,
             "#ed7953"
            ],
            [
             0.7777777777777778,
             "#fb9f3a"
            ],
            [
             0.8888888888888888,
             "#fdca26"
            ],
            [
             1,
             "#f0f921"
            ]
           ],
           "sequentialminus": [
            [
             0,
             "#0d0887"
            ],
            [
             0.1111111111111111,
             "#46039f"
            ],
            [
             0.2222222222222222,
             "#7201a8"
            ],
            [
             0.3333333333333333,
             "#9c179e"
            ],
            [
             0.4444444444444444,
             "#bd3786"
            ],
            [
             0.5555555555555556,
             "#d8576b"
            ],
            [
             0.6666666666666666,
             "#ed7953"
            ],
            [
             0.7777777777777778,
             "#fb9f3a"
            ],
            [
             0.8888888888888888,
             "#fdca26"
            ],
            [
             1,
             "#f0f921"
            ]
           ]
          },
          "colorway": [
           "#636efa",
           "#EF553B",
           "#00cc96",
           "#ab63fa",
           "#FFA15A",
           "#19d3f3",
           "#FF6692",
           "#B6E880",
           "#FF97FF",
           "#FECB52"
          ],
          "font": {
           "color": "#2a3f5f"
          },
          "geo": {
           "bgcolor": "white",
           "lakecolor": "white",
           "landcolor": "#E5ECF6",
           "showlakes": true,
           "showland": true,
           "subunitcolor": "white"
          },
          "hoverlabel": {
           "align": "left"
          },
          "hovermode": "closest",
          "mapbox": {
           "style": "light"
          },
          "paper_bgcolor": "white",
          "plot_bgcolor": "#E5ECF6",
          "polar": {
           "angularaxis": {
            "gridcolor": "white",
            "linecolor": "white",
            "ticks": ""
           },
           "bgcolor": "#E5ECF6",
           "radialaxis": {
            "gridcolor": "white",
            "linecolor": "white",
            "ticks": ""
           }
          },
          "scene": {
           "xaxis": {
            "backgroundcolor": "#E5ECF6",
            "gridcolor": "white",
            "gridwidth": 2,
            "linecolor": "white",
            "showbackground": true,
            "ticks": "",
            "zerolinecolor": "white"
           },
           "yaxis": {
            "backgroundcolor": "#E5ECF6",
            "gridcolor": "white",
            "gridwidth": 2,
            "linecolor": "white",
            "showbackground": true,
            "ticks": "",
            "zerolinecolor": "white"
           },
           "zaxis": {
            "backgroundcolor": "#E5ECF6",
            "gridcolor": "white",
            "gridwidth": 2,
            "linecolor": "white",
            "showbackground": true,
            "ticks": "",
            "zerolinecolor": "white"
           }
          },
          "shapedefaults": {
           "line": {
            "color": "#2a3f5f"
           }
          },
          "ternary": {
           "aaxis": {
            "gridcolor": "white",
            "linecolor": "white",
            "ticks": ""
           },
           "baxis": {
            "gridcolor": "white",
            "linecolor": "white",
            "ticks": ""
           },
           "bgcolor": "#E5ECF6",
           "caxis": {
            "gridcolor": "white",
            "linecolor": "white",
            "ticks": ""
           }
          },
          "title": {
           "x": 0.05
          },
          "xaxis": {
           "automargin": true,
           "gridcolor": "white",
           "linecolor": "white",
           "ticks": "",
           "title": {
            "standoff": 15
           },
           "zerolinecolor": "white",
           "zerolinewidth": 2
          },
          "yaxis": {
           "automargin": true,
           "gridcolor": "white",
           "linecolor": "white",
           "ticks": "",
           "title": {
            "standoff": 15
           },
           "zerolinecolor": "white",
           "zerolinewidth": 2
          }
         }
        },
        "title": {
         "text": "Split"
        },
        "xaxis": {
         "anchor": "y",
         "domain": [
          0,
          1
         ],
         "title": {
          "text": "calendar_week"
         }
        },
        "yaxis": {
         "anchor": "x",
         "domain": [
          0,
          1
         ],
         "title": {
          "text": "clean_entries"
         }
        }
       }
      }
     },
     "metadata": {},
     "output_type": "display_data"
    }
   ],
   "source": [
    "for grad in list(df[\"city\"].unique()):\n",
    "    fig = px.line(df[df[\"city\"] == grad], x=\"calendar_week\", y=\"clean_entries\", color = 'city', markers=True, title=grad)\n",
    "    fig.show()"
   ]
  },
  {
   "cell_type": "code",
   "execution_count": 20,
   "metadata": {},
   "outputs": [
    {
     "data": {
      "application/vnd.plotly.v1+json": {
       "config": {
        "plotlyServerURL": "https://plot.ly"
       },
       "data": [
        {
         "hovertemplate": "city=Rovinj<br>calendar_week=%{x}<br>avg_price_sqrm=%{y}<extra></extra>",
         "legendgroup": "Rovinj",
         "line": {
          "color": "#636efa",
          "dash": "solid"
         },
         "marker": {
          "symbol": "circle"
         },
         "mode": "lines+markers",
         "name": "Rovinj",
         "orientation": "v",
         "showlegend": true,
         "type": "scatter",
         "x": [
          30,
          33,
          34,
          35,
          35,
          36
         ],
         "xaxis": "x",
         "y": [
          4279,
          4240,
          4240,
          4275,
          4276,
          4393
         ],
         "yaxis": "y"
        },
        {
         "hovertemplate": "city=Zagreb<br>calendar_week=%{x}<br>avg_price_sqrm=%{y}<extra></extra>",
         "legendgroup": "Zagreb",
         "line": {
          "color": "#EF553B",
          "dash": "solid"
         },
         "marker": {
          "symbol": "circle"
         },
         "mode": "lines+markers",
         "name": "Zagreb",
         "orientation": "v",
         "showlegend": true,
         "type": "scatter",
         "x": [
          30,
          32,
          33,
          34,
          36
         ],
         "xaxis": "x",
         "y": [
          2616,
          2635,
          2651,
          2660,
          2681
         ],
         "yaxis": "y"
        },
        {
         "hovertemplate": "city=Varazdin<br>calendar_week=%{x}<br>avg_price_sqrm=%{y}<extra></extra>",
         "legendgroup": "Varazdin",
         "line": {
          "color": "#00cc96",
          "dash": "solid"
         },
         "marker": {
          "symbol": "circle"
         },
         "mode": "lines+markers",
         "name": "Varazdin",
         "orientation": "v",
         "showlegend": true,
         "type": "scatter",
         "x": [
          31,
          32,
          32,
          33,
          34,
          35,
          35,
          36
         ],
         "xaxis": "x",
         "y": [
          1735,
          1740,
          1737,
          1813,
          1816,
          1799,
          1816,
          1876
         ],
         "yaxis": "y"
        },
        {
         "hovertemplate": "city=Rijeka<br>calendar_week=%{x}<br>avg_price_sqrm=%{y}<extra></extra>",
         "legendgroup": "Rijeka",
         "line": {
          "color": "#ab63fa",
          "dash": "solid"
         },
         "marker": {
          "symbol": "circle"
         },
         "mode": "lines+markers",
         "name": "Rijeka",
         "orientation": "v",
         "showlegend": true,
         "type": "scatter",
         "x": [
          33,
          35,
          35,
          36
         ],
         "xaxis": "x",
         "y": [
          1996,
          1999,
          2002,
          2008
         ],
         "yaxis": "y"
        },
        {
         "hovertemplate": "city=Split<br>calendar_week=%{x}<br>avg_price_sqrm=%{y}<extra></extra>",
         "legendgroup": "Split",
         "line": {
          "color": "#FFA15A",
          "dash": "solid"
         },
         "marker": {
          "symbol": "circle"
         },
         "mode": "lines+markers",
         "name": "Split",
         "orientation": "v",
         "showlegend": true,
         "type": "scatter",
         "x": [
          33,
          34,
          35,
          36
         ],
         "xaxis": "x",
         "y": [
          3616,
          3647,
          3678,
          3684
         ],
         "yaxis": "y"
        }
       ],
       "layout": {
        "height": 600,
        "legend": {
         "title": {
          "text": "city"
         },
         "tracegroupgap": 0
        },
        "template": {
         "data": {
          "bar": [
           {
            "error_x": {
             "color": "#2a3f5f"
            },
            "error_y": {
             "color": "#2a3f5f"
            },
            "marker": {
             "line": {
              "color": "#E5ECF6",
              "width": 0.5
             },
             "pattern": {
              "fillmode": "overlay",
              "size": 10,
              "solidity": 0.2
             }
            },
            "type": "bar"
           }
          ],
          "barpolar": [
           {
            "marker": {
             "line": {
              "color": "#E5ECF6",
              "width": 0.5
             },
             "pattern": {
              "fillmode": "overlay",
              "size": 10,
              "solidity": 0.2
             }
            },
            "type": "barpolar"
           }
          ],
          "carpet": [
           {
            "aaxis": {
             "endlinecolor": "#2a3f5f",
             "gridcolor": "white",
             "linecolor": "white",
             "minorgridcolor": "white",
             "startlinecolor": "#2a3f5f"
            },
            "baxis": {
             "endlinecolor": "#2a3f5f",
             "gridcolor": "white",
             "linecolor": "white",
             "minorgridcolor": "white",
             "startlinecolor": "#2a3f5f"
            },
            "type": "carpet"
           }
          ],
          "choropleth": [
           {
            "colorbar": {
             "outlinewidth": 0,
             "ticks": ""
            },
            "type": "choropleth"
           }
          ],
          "contour": [
           {
            "colorbar": {
             "outlinewidth": 0,
             "ticks": ""
            },
            "colorscale": [
             [
              0,
              "#0d0887"
             ],
             [
              0.1111111111111111,
              "#46039f"
             ],
             [
              0.2222222222222222,
              "#7201a8"
             ],
             [
              0.3333333333333333,
              "#9c179e"
             ],
             [
              0.4444444444444444,
              "#bd3786"
             ],
             [
              0.5555555555555556,
              "#d8576b"
             ],
             [
              0.6666666666666666,
              "#ed7953"
             ],
             [
              0.7777777777777778,
              "#fb9f3a"
             ],
             [
              0.8888888888888888,
              "#fdca26"
             ],
             [
              1,
              "#f0f921"
             ]
            ],
            "type": "contour"
           }
          ],
          "contourcarpet": [
           {
            "colorbar": {
             "outlinewidth": 0,
             "ticks": ""
            },
            "type": "contourcarpet"
           }
          ],
          "heatmap": [
           {
            "colorbar": {
             "outlinewidth": 0,
             "ticks": ""
            },
            "colorscale": [
             [
              0,
              "#0d0887"
             ],
             [
              0.1111111111111111,
              "#46039f"
             ],
             [
              0.2222222222222222,
              "#7201a8"
             ],
             [
              0.3333333333333333,
              "#9c179e"
             ],
             [
              0.4444444444444444,
              "#bd3786"
             ],
             [
              0.5555555555555556,
              "#d8576b"
             ],
             [
              0.6666666666666666,
              "#ed7953"
             ],
             [
              0.7777777777777778,
              "#fb9f3a"
             ],
             [
              0.8888888888888888,
              "#fdca26"
             ],
             [
              1,
              "#f0f921"
             ]
            ],
            "type": "heatmap"
           }
          ],
          "heatmapgl": [
           {
            "colorbar": {
             "outlinewidth": 0,
             "ticks": ""
            },
            "colorscale": [
             [
              0,
              "#0d0887"
             ],
             [
              0.1111111111111111,
              "#46039f"
             ],
             [
              0.2222222222222222,
              "#7201a8"
             ],
             [
              0.3333333333333333,
              "#9c179e"
             ],
             [
              0.4444444444444444,
              "#bd3786"
             ],
             [
              0.5555555555555556,
              "#d8576b"
             ],
             [
              0.6666666666666666,
              "#ed7953"
             ],
             [
              0.7777777777777778,
              "#fb9f3a"
             ],
             [
              0.8888888888888888,
              "#fdca26"
             ],
             [
              1,
              "#f0f921"
             ]
            ],
            "type": "heatmapgl"
           }
          ],
          "histogram": [
           {
            "marker": {
             "pattern": {
              "fillmode": "overlay",
              "size": 10,
              "solidity": 0.2
             }
            },
            "type": "histogram"
           }
          ],
          "histogram2d": [
           {
            "colorbar": {
             "outlinewidth": 0,
             "ticks": ""
            },
            "colorscale": [
             [
              0,
              "#0d0887"
             ],
             [
              0.1111111111111111,
              "#46039f"
             ],
             [
              0.2222222222222222,
              "#7201a8"
             ],
             [
              0.3333333333333333,
              "#9c179e"
             ],
             [
              0.4444444444444444,
              "#bd3786"
             ],
             [
              0.5555555555555556,
              "#d8576b"
             ],
             [
              0.6666666666666666,
              "#ed7953"
             ],
             [
              0.7777777777777778,
              "#fb9f3a"
             ],
             [
              0.8888888888888888,
              "#fdca26"
             ],
             [
              1,
              "#f0f921"
             ]
            ],
            "type": "histogram2d"
           }
          ],
          "histogram2dcontour": [
           {
            "colorbar": {
             "outlinewidth": 0,
             "ticks": ""
            },
            "colorscale": [
             [
              0,
              "#0d0887"
             ],
             [
              0.1111111111111111,
              "#46039f"
             ],
             [
              0.2222222222222222,
              "#7201a8"
             ],
             [
              0.3333333333333333,
              "#9c179e"
             ],
             [
              0.4444444444444444,
              "#bd3786"
             ],
             [
              0.5555555555555556,
              "#d8576b"
             ],
             [
              0.6666666666666666,
              "#ed7953"
             ],
             [
              0.7777777777777778,
              "#fb9f3a"
             ],
             [
              0.8888888888888888,
              "#fdca26"
             ],
             [
              1,
              "#f0f921"
             ]
            ],
            "type": "histogram2dcontour"
           }
          ],
          "mesh3d": [
           {
            "colorbar": {
             "outlinewidth": 0,
             "ticks": ""
            },
            "type": "mesh3d"
           }
          ],
          "parcoords": [
           {
            "line": {
             "colorbar": {
              "outlinewidth": 0,
              "ticks": ""
             }
            },
            "type": "parcoords"
           }
          ],
          "pie": [
           {
            "automargin": true,
            "type": "pie"
           }
          ],
          "scatter": [
           {
            "marker": {
             "colorbar": {
              "outlinewidth": 0,
              "ticks": ""
             }
            },
            "type": "scatter"
           }
          ],
          "scatter3d": [
           {
            "line": {
             "colorbar": {
              "outlinewidth": 0,
              "ticks": ""
             }
            },
            "marker": {
             "colorbar": {
              "outlinewidth": 0,
              "ticks": ""
             }
            },
            "type": "scatter3d"
           }
          ],
          "scattercarpet": [
           {
            "marker": {
             "colorbar": {
              "outlinewidth": 0,
              "ticks": ""
             }
            },
            "type": "scattercarpet"
           }
          ],
          "scattergeo": [
           {
            "marker": {
             "colorbar": {
              "outlinewidth": 0,
              "ticks": ""
             }
            },
            "type": "scattergeo"
           }
          ],
          "scattergl": [
           {
            "marker": {
             "colorbar": {
              "outlinewidth": 0,
              "ticks": ""
             }
            },
            "type": "scattergl"
           }
          ],
          "scattermapbox": [
           {
            "marker": {
             "colorbar": {
              "outlinewidth": 0,
              "ticks": ""
             }
            },
            "type": "scattermapbox"
           }
          ],
          "scatterpolar": [
           {
            "marker": {
             "colorbar": {
              "outlinewidth": 0,
              "ticks": ""
             }
            },
            "type": "scatterpolar"
           }
          ],
          "scatterpolargl": [
           {
            "marker": {
             "colorbar": {
              "outlinewidth": 0,
              "ticks": ""
             }
            },
            "type": "scatterpolargl"
           }
          ],
          "scatterternary": [
           {
            "marker": {
             "colorbar": {
              "outlinewidth": 0,
              "ticks": ""
             }
            },
            "type": "scatterternary"
           }
          ],
          "surface": [
           {
            "colorbar": {
             "outlinewidth": 0,
             "ticks": ""
            },
            "colorscale": [
             [
              0,
              "#0d0887"
             ],
             [
              0.1111111111111111,
              "#46039f"
             ],
             [
              0.2222222222222222,
              "#7201a8"
             ],
             [
              0.3333333333333333,
              "#9c179e"
             ],
             [
              0.4444444444444444,
              "#bd3786"
             ],
             [
              0.5555555555555556,
              "#d8576b"
             ],
             [
              0.6666666666666666,
              "#ed7953"
             ],
             [
              0.7777777777777778,
              "#fb9f3a"
             ],
             [
              0.8888888888888888,
              "#fdca26"
             ],
             [
              1,
              "#f0f921"
             ]
            ],
            "type": "surface"
           }
          ],
          "table": [
           {
            "cells": {
             "fill": {
              "color": "#EBF0F8"
             },
             "line": {
              "color": "white"
             }
            },
            "header": {
             "fill": {
              "color": "#C8D4E3"
             },
             "line": {
              "color": "white"
             }
            },
            "type": "table"
           }
          ]
         },
         "layout": {
          "annotationdefaults": {
           "arrowcolor": "#2a3f5f",
           "arrowhead": 0,
           "arrowwidth": 1
          },
          "autotypenumbers": "strict",
          "coloraxis": {
           "colorbar": {
            "outlinewidth": 0,
            "ticks": ""
           }
          },
          "colorscale": {
           "diverging": [
            [
             0,
             "#8e0152"
            ],
            [
             0.1,
             "#c51b7d"
            ],
            [
             0.2,
             "#de77ae"
            ],
            [
             0.3,
             "#f1b6da"
            ],
            [
             0.4,
             "#fde0ef"
            ],
            [
             0.5,
             "#f7f7f7"
            ],
            [
             0.6,
             "#e6f5d0"
            ],
            [
             0.7,
             "#b8e186"
            ],
            [
             0.8,
             "#7fbc41"
            ],
            [
             0.9,
             "#4d9221"
            ],
            [
             1,
             "#276419"
            ]
           ],
           "sequential": [
            [
             0,
             "#0d0887"
            ],
            [
             0.1111111111111111,
             "#46039f"
            ],
            [
             0.2222222222222222,
             "#7201a8"
            ],
            [
             0.3333333333333333,
             "#9c179e"
            ],
            [
             0.4444444444444444,
             "#bd3786"
            ],
            [
             0.5555555555555556,
             "#d8576b"
            ],
            [
             0.6666666666666666,
             "#ed7953"
            ],
            [
             0.7777777777777778,
             "#fb9f3a"
            ],
            [
             0.8888888888888888,
             "#fdca26"
            ],
            [
             1,
             "#f0f921"
            ]
           ],
           "sequentialminus": [
            [
             0,
             "#0d0887"
            ],
            [
             0.1111111111111111,
             "#46039f"
            ],
            [
             0.2222222222222222,
             "#7201a8"
            ],
            [
             0.3333333333333333,
             "#9c179e"
            ],
            [
             0.4444444444444444,
             "#bd3786"
            ],
            [
             0.5555555555555556,
             "#d8576b"
            ],
            [
             0.6666666666666666,
             "#ed7953"
            ],
            [
             0.7777777777777778,
             "#fb9f3a"
            ],
            [
             0.8888888888888888,
             "#fdca26"
            ],
            [
             1,
             "#f0f921"
            ]
           ]
          },
          "colorway": [
           "#636efa",
           "#EF553B",
           "#00cc96",
           "#ab63fa",
           "#FFA15A",
           "#19d3f3",
           "#FF6692",
           "#B6E880",
           "#FF97FF",
           "#FECB52"
          ],
          "font": {
           "color": "#2a3f5f"
          },
          "geo": {
           "bgcolor": "white",
           "lakecolor": "white",
           "landcolor": "#E5ECF6",
           "showlakes": true,
           "showland": true,
           "subunitcolor": "white"
          },
          "hoverlabel": {
           "align": "left"
          },
          "hovermode": "closest",
          "mapbox": {
           "style": "light"
          },
          "paper_bgcolor": "white",
          "plot_bgcolor": "#E5ECF6",
          "polar": {
           "angularaxis": {
            "gridcolor": "white",
            "linecolor": "white",
            "ticks": ""
           },
           "bgcolor": "#E5ECF6",
           "radialaxis": {
            "gridcolor": "white",
            "linecolor": "white",
            "ticks": ""
           }
          },
          "scene": {
           "xaxis": {
            "backgroundcolor": "#E5ECF6",
            "gridcolor": "white",
            "gridwidth": 2,
            "linecolor": "white",
            "showbackground": true,
            "ticks": "",
            "zerolinecolor": "white"
           },
           "yaxis": {
            "backgroundcolor": "#E5ECF6",
            "gridcolor": "white",
            "gridwidth": 2,
            "linecolor": "white",
            "showbackground": true,
            "ticks": "",
            "zerolinecolor": "white"
           },
           "zaxis": {
            "backgroundcolor": "#E5ECF6",
            "gridcolor": "white",
            "gridwidth": 2,
            "linecolor": "white",
            "showbackground": true,
            "ticks": "",
            "zerolinecolor": "white"
           }
          },
          "shapedefaults": {
           "line": {
            "color": "#2a3f5f"
           }
          },
          "ternary": {
           "aaxis": {
            "gridcolor": "white",
            "linecolor": "white",
            "ticks": ""
           },
           "baxis": {
            "gridcolor": "white",
            "linecolor": "white",
            "ticks": ""
           },
           "bgcolor": "#E5ECF6",
           "caxis": {
            "gridcolor": "white",
            "linecolor": "white",
            "ticks": ""
           }
          },
          "title": {
           "x": 0.05
          },
          "xaxis": {
           "automargin": true,
           "gridcolor": "white",
           "linecolor": "white",
           "ticks": "",
           "title": {
            "standoff": 15
           },
           "zerolinecolor": "white",
           "zerolinewidth": 2
          },
          "yaxis": {
           "automargin": true,
           "gridcolor": "white",
           "linecolor": "white",
           "ticks": "",
           "title": {
            "standoff": 15
           },
           "zerolinecolor": "white",
           "zerolinewidth": 2
          }
         }
        },
        "title": {
         "text": "Split"
        },
        "width": 1000,
        "xaxis": {
         "anchor": "y",
         "domain": [
          0,
          1
         ],
         "title": {
          "text": "calendar_week"
         }
        },
        "yaxis": {
         "anchor": "x",
         "domain": [
          0,
          1
         ],
         "title": {
          "text": "avg_price_sqrm"
         }
        }
       }
      }
     },
     "metadata": {},
     "output_type": "display_data"
    }
   ],
   "source": [
    "#PLOTLY FOR DJANGO OBJECTS\n",
    "df = pd.read_excel(\"Django_Objects.xlsx\")\n",
    "\n",
    "fig = px.line(df, x=\"calendar_week\", y=\"avg_price_sqrm\", color = 'city', markers=True, title=grad, width=1000, height=600)\n",
    "fig.show()"
   ]
  },
  {
   "cell_type": "code",
   "execution_count": 19,
   "metadata": {},
   "outputs": [
    {
     "data": {
      "text/plain": [
       "['dashboard',\n",
       " 'db.sqlite3',\n",
       " 'manage.py',\n",
       " 'media',\n",
       " 'raw',\n",
       " 'RealEstateApp',\n",
       " 'RealEstateApp.code-workspace',\n",
       " 'static']"
      ]
     },
     "execution_count": 19,
     "metadata": {},
     "output_type": "execute_result"
    }
   ],
   "source": [
    "import os\n",
    "cwd = os.getcwd()\n",
    "onlyfiles = [f for f in listdir(cwd) ]\n",
    "onlyfiles\n"
   ]
  },
  {
   "cell_type": "code",
   "execution_count": 4,
   "metadata": {},
   "outputs": [
    {
     "name": "stdout",
     "output_type": "stream",
     "text": [
      "c:\\Users\\borna.molnar-erhatic\\OneDrive - Swietelsky AG\\Dokumente\\06 Real Estate\\RealEstateApp\\raw\\2022-07-22_RAW_varazdin.xlsx\n",
      "c:\\Users\\borna.molnar-erhatic\\OneDrive - Swietelsky AG\\Dokumente\\06 Real Estate\\RealEstateApp\\raw\\2022-07-27_RAW_rovinj.xlsx\n",
      "c:\\Users\\borna.molnar-erhatic\\OneDrive - Swietelsky AG\\Dokumente\\06 Real Estate\\RealEstateApp\\raw\\2022-07-27_RAW_varazdin.xlsx\n",
      "c:\\Users\\borna.molnar-erhatic\\OneDrive - Swietelsky AG\\Dokumente\\06 Real Estate\\RealEstateApp\\raw\\2022-07-27_RAW_zagreb.xlsx\n",
      "c:\\Users\\borna.molnar-erhatic\\OneDrive - Swietelsky AG\\Dokumente\\06 Real Estate\\RealEstateApp\\raw\\2022-08-05_RAW_varazdin.xlsx\n",
      "c:\\Users\\borna.molnar-erhatic\\OneDrive - Swietelsky AG\\Dokumente\\06 Real Estate\\RealEstateApp\\raw\\2022-08-07_RAW_rovinj.xlsx\n",
      "c:\\Users\\borna.molnar-erhatic\\OneDrive - Swietelsky AG\\Dokumente\\06 Real Estate\\RealEstateApp\\raw\\2022-08-07_RAW_varazdin.xlsx\n",
      "c:\\Users\\borna.molnar-erhatic\\OneDrive - Swietelsky AG\\Dokumente\\06 Real Estate\\RealEstateApp\\raw\\2022-08-08_RAW_rovinj.xlsx\n",
      "c:\\Users\\borna.molnar-erhatic\\OneDrive - Swietelsky AG\\Dokumente\\06 Real Estate\\RealEstateApp\\raw\\2022-08-11_RAW_rovinj.xlsx\n",
      "c:\\Users\\borna.molnar-erhatic\\OneDrive - Swietelsky AG\\Dokumente\\06 Real Estate\\RealEstateApp\\raw\\2022-08-11_RAW_varazdin.xlsx\n",
      "c:\\Users\\borna.molnar-erhatic\\OneDrive - Swietelsky AG\\Dokumente\\06 Real Estate\\RealEstateApp\\raw\\2022-08-12_RAW_rovinj.xlsx\n",
      "c:\\Users\\borna.molnar-erhatic\\OneDrive - Swietelsky AG\\Dokumente\\06 Real Estate\\RealEstateApp\\raw\\2022-08-12_RAW_zagreb.xlsx\n",
      "c:\\Users\\borna.molnar-erhatic\\OneDrive - Swietelsky AG\\Dokumente\\06 Real Estate\\RealEstateApp\\raw\\2022-08-14_RAW_varazdin.xlsx\n",
      "c:\\Users\\borna.molnar-erhatic\\OneDrive - Swietelsky AG\\Dokumente\\06 Real Estate\\RealEstateApp\\raw\\2022-08-15_RAW_rijeka.xlsx\n",
      "c:\\Users\\borna.molnar-erhatic\\OneDrive - Swietelsky AG\\Dokumente\\06 Real Estate\\RealEstateApp\\raw\\2022-08-15_RAW_rovinj.xlsx\n",
      "c:\\Users\\borna.molnar-erhatic\\OneDrive - Swietelsky AG\\Dokumente\\06 Real Estate\\RealEstateApp\\raw\\2022-08-15_RAW_split.xlsx\n",
      "c:\\Users\\borna.molnar-erhatic\\OneDrive - Swietelsky AG\\Dokumente\\06 Real Estate\\RealEstateApp\\raw\\2022-08-19_RAW_varazdin.xlsx\n",
      "c:\\Users\\borna.molnar-erhatic\\OneDrive - Swietelsky AG\\Dokumente\\06 Real Estate\\RealEstateApp\\raw\\2022-08-19_RAW_zagreb.xlsx\n",
      "c:\\Users\\borna.molnar-erhatic\\OneDrive - Swietelsky AG\\Dokumente\\06 Real Estate\\RealEstateApp\\raw\\2022-08-24_RAW_rijeka.xlsx\n",
      "c:\\Users\\borna.molnar-erhatic\\OneDrive - Swietelsky AG\\Dokumente\\06 Real Estate\\RealEstateApp\\raw\\2022-08-24_RAW_rovinj.xlsx\n",
      "c:\\Users\\borna.molnar-erhatic\\OneDrive - Swietelsky AG\\Dokumente\\06 Real Estate\\RealEstateApp\\raw\\2022-08-24_RAW_split.xlsx\n",
      "c:\\Users\\borna.molnar-erhatic\\OneDrive - Swietelsky AG\\Dokumente\\06 Real Estate\\RealEstateApp\\raw\\2022-08-24_RAW_varazdin.xlsx\n",
      "c:\\Users\\borna.molnar-erhatic\\OneDrive - Swietelsky AG\\Dokumente\\06 Real Estate\\RealEstateApp\\raw\\2022-08-24_RAW_zagreb.xlsx\n",
      "c:\\Users\\borna.molnar-erhatic\\OneDrive - Swietelsky AG\\Dokumente\\06 Real Estate\\RealEstateApp\\raw\\2022-08-30_RAW_rijeka.xlsx\n",
      "c:\\Users\\borna.molnar-erhatic\\OneDrive - Swietelsky AG\\Dokumente\\06 Real Estate\\RealEstateApp\\raw\\2022-08-30_RAW_rovinj.xlsx\n",
      "c:\\Users\\borna.molnar-erhatic\\OneDrive - Swietelsky AG\\Dokumente\\06 Real Estate\\RealEstateApp\\raw\\2022-08-30_RAW_split.xlsx\n",
      "c:\\Users\\borna.molnar-erhatic\\OneDrive - Swietelsky AG\\Dokumente\\06 Real Estate\\RealEstateApp\\raw\\2022-08-30_RAW_varazdin.xlsx\n",
      "c:\\Users\\borna.molnar-erhatic\\OneDrive - Swietelsky AG\\Dokumente\\06 Real Estate\\RealEstateApp\\raw\\2022-08-30_RAW_zagreb.xlsx\n",
      "c:\\Users\\borna.molnar-erhatic\\OneDrive - Swietelsky AG\\Dokumente\\06 Real Estate\\RealEstateApp\\raw\\2022-09-04_RAW_rijeka.xlsx\n",
      "c:\\Users\\borna.molnar-erhatic\\OneDrive - Swietelsky AG\\Dokumente\\06 Real Estate\\RealEstateApp\\raw\\2022-09-04_RAW_rovinj.xlsx\n",
      "c:\\Users\\borna.molnar-erhatic\\OneDrive - Swietelsky AG\\Dokumente\\06 Real Estate\\RealEstateApp\\raw\\2022-09-04_RAW_split.xlsx\n",
      "c:\\Users\\borna.molnar-erhatic\\OneDrive - Swietelsky AG\\Dokumente\\06 Real Estate\\RealEstateApp\\raw\\2022-09-04_RAW_varazdin.xlsx\n",
      "c:\\Users\\borna.molnar-erhatic\\OneDrive - Swietelsky AG\\Dokumente\\06 Real Estate\\RealEstateApp\\raw\\2022-09-04_RAW_zagreb.xlsx\n",
      "c:\\Users\\borna.molnar-erhatic\\OneDrive - Swietelsky AG\\Dokumente\\06 Real Estate\\RealEstateApp\\raw\\2022-09-09_RAW_rijeka.xlsx\n",
      "c:\\Users\\borna.molnar-erhatic\\OneDrive - Swietelsky AG\\Dokumente\\06 Real Estate\\RealEstateApp\\raw\\2022-09-09_RAW_rovinj.xlsx\n",
      "c:\\Users\\borna.molnar-erhatic\\OneDrive - Swietelsky AG\\Dokumente\\06 Real Estate\\RealEstateApp\\raw\\2022-09-09_RAW_split.xlsx\n",
      "c:\\Users\\borna.molnar-erhatic\\OneDrive - Swietelsky AG\\Dokumente\\06 Real Estate\\RealEstateApp\\raw\\2022-09-09_RAW_varazdin.xlsx\n",
      "c:\\Users\\borna.molnar-erhatic\\OneDrive - Swietelsky AG\\Dokumente\\06 Real Estate\\RealEstateApp\\raw\\2022-09-09_RAW_zagreb.xlsx\n"
     ]
    }
   ],
   "source": [
    "cwd = os.getcwd()\n",
    "\n",
    "path = cwd + \"\\\\raw\"\n",
    "onlyfiles = [f for f in listdir(path)]\n",
    "\n",
    "for file in onlyfiles:\n",
    "    file_path = path + \"\\\\\" + file\n",
    "    print(file_path)"
   ]
  },
  {
   "cell_type": "code",
   "execution_count": 20,
   "metadata": {},
   "outputs": [
    {
     "data": {
      "text/plain": [
       "['2022-07-22_RAW_varazdin.xlsx',\n",
       " '2022-07-27_RAW_rovinj.xlsx',\n",
       " '2022-07-27_RAW_varazdin.xlsx',\n",
       " '2022-07-27_RAW_zagreb.xlsx',\n",
       " '2022-08-05_RAW_varazdin.xlsx',\n",
       " '2022-08-07_RAW_rovinj.xlsx',\n",
       " '2022-08-07_RAW_varazdin.xlsx',\n",
       " '2022-08-08_RAW_rovinj.xlsx',\n",
       " '2022-08-11_RAW_rovinj.xlsx',\n",
       " '2022-08-11_RAW_varazdin.xlsx',\n",
       " '2022-08-12_RAW_rovinj.xlsx',\n",
       " '2022-08-12_RAW_zagreb.xlsx',\n",
       " '2022-08-14_RAW_varazdin.xlsx',\n",
       " '2022-08-15_RAW_rijeka.xlsx',\n",
       " '2022-08-15_RAW_rovinj.xlsx',\n",
       " '2022-08-15_RAW_split.xlsx',\n",
       " '2022-08-19_RAW_varazdin.xlsx',\n",
       " '2022-08-19_RAW_zagreb.xlsx',\n",
       " '2022-08-24_RAW_rijeka.xlsx',\n",
       " '2022-08-24_RAW_rovinj.xlsx',\n",
       " '2022-08-24_RAW_split.xlsx',\n",
       " '2022-08-24_RAW_varazdin.xlsx',\n",
       " '2022-08-24_RAW_zagreb.xlsx',\n",
       " '2022-08-30_RAW_rijeka.xlsx',\n",
       " '2022-08-30_RAW_rovinj.xlsx',\n",
       " '2022-08-30_RAW_split.xlsx',\n",
       " '2022-08-30_RAW_varazdin.xlsx',\n",
       " '2022-08-30_RAW_zagreb.xlsx',\n",
       " '2022-09-04_RAW_rijeka.xlsx',\n",
       " '2022-09-04_RAW_rovinj.xlsx',\n",
       " '2022-09-04_RAW_split.xlsx',\n",
       " '2022-09-04_RAW_varazdin.xlsx',\n",
       " '2022-09-04_RAW_zagreb.xlsx']"
      ]
     },
     "execution_count": 20,
     "metadata": {},
     "output_type": "execute_result"
    }
   ],
   "source": [
    "path = cwd + \"\\\\raw\"\n",
    "onlyfiles = [f for f in listdir(path) ]\n",
    "onlyfiles"
   ]
  },
  {
   "cell_type": "code",
   "execution_count": 22,
   "metadata": {},
   "outputs": [],
   "source": [
    "file_path = path + \"\\\\\" + onlyfiles[0]\n",
    "df = pd.read_excel(file_path)"
   ]
  },
  {
   "cell_type": "code",
   "execution_count": 23,
   "metadata": {},
   "outputs": [
    {
     "data": {
      "text/html": [
       "<div>\n",
       "<style scoped>\n",
       "    .dataframe tbody tr th:only-of-type {\n",
       "        vertical-align: middle;\n",
       "    }\n",
       "\n",
       "    .dataframe tbody tr th {\n",
       "        vertical-align: top;\n",
       "    }\n",
       "\n",
       "    .dataframe thead th {\n",
       "        text-align: right;\n",
       "    }\n",
       "</style>\n",
       "<table border=\"1\" class=\"dataframe\">\n",
       "  <thead>\n",
       "    <tr style=\"text-align: right;\">\n",
       "      <th></th>\n",
       "      <th>Unnamed: 0</th>\n",
       "      <th>Županija</th>\n",
       "      <th>Grad/općina</th>\n",
       "      <th>Naselje</th>\n",
       "      <th>Stambena površina u m2</th>\n",
       "      <th>Broj soba</th>\n",
       "      <th>Zamjena</th>\n",
       "      <th>Tip oglasa</th>\n",
       "      <th>Prodavač</th>\n",
       "      <th>Detaljnije o kući</th>\n",
       "      <th>...</th>\n",
       "      <th>Površina terase u m2</th>\n",
       "      <th>Namještenost</th>\n",
       "      <th>Površina vrta u m2</th>\n",
       "      <th>Ulaz</th>\n",
       "      <th>Grijanje</th>\n",
       "      <th>email</th>\n",
       "      <th>tel ili mobitel</th>\n",
       "      <th>Tip nekretnine za odmor</th>\n",
       "      <th>O zemljištu</th>\n",
       "      <th>Pozicija poslovnog prostora</th>\n",
       "    </tr>\n",
       "  </thead>\n",
       "  <tbody>\n",
       "    <tr>\n",
       "      <th>0</th>\n",
       "      <td>0</td>\n",
       "      <td>Istarska</td>\n",
       "      <td>Rovinj</td>\n",
       "      <td>Rovinj</td>\n",
       "      <td>50</td>\n",
       "      <td>3-3.5 sobni4+\\n</td>\n",
       "      <td>ne</td>\n",
       "      <td>ponuda</td>\n",
       "      <td>pravna osoba</td>\n",
       "      <td>Novogradnja\\n</td>\n",
       "      <td>...</td>\n",
       "      <td>NaN</td>\n",
       "      <td>NaN</td>\n",
       "      <td>NaN</td>\n",
       "      <td>NaN</td>\n",
       "      <td>NaN</td>\n",
       "      <td>NaN</td>\n",
       "      <td>NaN</td>\n",
       "      <td>NaN</td>\n",
       "      <td>NaN</td>\n",
       "      <td>NaN</td>\n",
       "    </tr>\n",
       "    <tr>\n",
       "      <th>1</th>\n",
       "      <td>1</td>\n",
       "      <td>Istarska</td>\n",
       "      <td>Rovinj</td>\n",
       "      <td>Rovinj</td>\n",
       "      <td>92</td>\n",
       "      <td>4+\\n</td>\n",
       "      <td>ne</td>\n",
       "      <td>ponuda</td>\n",
       "      <td>pravna osoba</td>\n",
       "      <td>NaN</td>\n",
       "      <td>...</td>\n",
       "      <td>NaN</td>\n",
       "      <td>NaN</td>\n",
       "      <td>NaN</td>\n",
       "      <td>NaN</td>\n",
       "      <td>NaN</td>\n",
       "      <td>NaN</td>\n",
       "      <td>NaN</td>\n",
       "      <td>NaN</td>\n",
       "      <td>NaN</td>\n",
       "      <td>NaN</td>\n",
       "    </tr>\n",
       "    <tr>\n",
       "      <th>2</th>\n",
       "      <td>2</td>\n",
       "      <td>Istarska</td>\n",
       "      <td>Rovinj</td>\n",
       "      <td>Rovinj</td>\n",
       "      <td>96</td>\n",
       "      <td>4+\\n</td>\n",
       "      <td>ne</td>\n",
       "      <td>ponuda</td>\n",
       "      <td>pravna osoba</td>\n",
       "      <td>NaN</td>\n",
       "      <td>...</td>\n",
       "      <td>NaN</td>\n",
       "      <td>NaN</td>\n",
       "      <td>NaN</td>\n",
       "      <td>NaN</td>\n",
       "      <td>NaN</td>\n",
       "      <td>NaN</td>\n",
       "      <td>NaN</td>\n",
       "      <td>NaN</td>\n",
       "      <td>NaN</td>\n",
       "      <td>NaN</td>\n",
       "    </tr>\n",
       "    <tr>\n",
       "      <th>3</th>\n",
       "      <td>3</td>\n",
       "      <td>Istarska</td>\n",
       "      <td>Rovinj</td>\n",
       "      <td>Rovinj</td>\n",
       "      <td>210</td>\n",
       "      <td>4+\\n</td>\n",
       "      <td>ne</td>\n",
       "      <td>ponuda</td>\n",
       "      <td>pravna osoba</td>\n",
       "      <td>Novogradnja\\n</td>\n",
       "      <td>...</td>\n",
       "      <td>NaN</td>\n",
       "      <td>NaN</td>\n",
       "      <td>NaN</td>\n",
       "      <td>NaN</td>\n",
       "      <td>NaN</td>\n",
       "      <td>NaN</td>\n",
       "      <td>NaN</td>\n",
       "      <td>NaN</td>\n",
       "      <td>NaN</td>\n",
       "      <td>NaN</td>\n",
       "    </tr>\n",
       "    <tr>\n",
       "      <th>4</th>\n",
       "      <td>4</td>\n",
       "      <td>Istarska</td>\n",
       "      <td>Rovinj</td>\n",
       "      <td>Rovinj</td>\n",
       "      <td>32</td>\n",
       "      <td>3-3.5 sobni\\n</td>\n",
       "      <td>ne</td>\n",
       "      <td>ponuda</td>\n",
       "      <td>pravna osoba</td>\n",
       "      <td>NaN</td>\n",
       "      <td>...</td>\n",
       "      <td>NaN</td>\n",
       "      <td>NaN</td>\n",
       "      <td>NaN</td>\n",
       "      <td>NaN</td>\n",
       "      <td>NaN</td>\n",
       "      <td>NaN</td>\n",
       "      <td>NaN</td>\n",
       "      <td>NaN</td>\n",
       "      <td>NaN</td>\n",
       "      <td>NaN</td>\n",
       "    </tr>\n",
       "    <tr>\n",
       "      <th>...</th>\n",
       "      <td>...</td>\n",
       "      <td>...</td>\n",
       "      <td>...</td>\n",
       "      <td>...</td>\n",
       "      <td>...</td>\n",
       "      <td>...</td>\n",
       "      <td>...</td>\n",
       "      <td>...</td>\n",
       "      <td>...</td>\n",
       "      <td>...</td>\n",
       "      <td>...</td>\n",
       "      <td>...</td>\n",
       "      <td>...</td>\n",
       "      <td>...</td>\n",
       "      <td>...</td>\n",
       "      <td>...</td>\n",
       "      <td>...</td>\n",
       "      <td>...</td>\n",
       "      <td>...</td>\n",
       "      <td>...</td>\n",
       "      <td>...</td>\n",
       "    </tr>\n",
       "    <tr>\n",
       "      <th>539</th>\n",
       "      <td>539</td>\n",
       "      <td>Istarska</td>\n",
       "      <td>Rovinj</td>\n",
       "      <td>Rovinj</td>\n",
       "      <td>97</td>\n",
       "      <td>4+\\n</td>\n",
       "      <td>ne</td>\n",
       "      <td>ponuda</td>\n",
       "      <td>pravna osoba</td>\n",
       "      <td>NaN</td>\n",
       "      <td>...</td>\n",
       "      <td>NaN</td>\n",
       "      <td>NaN</td>\n",
       "      <td>NaN</td>\n",
       "      <td>NaN</td>\n",
       "      <td>NaN</td>\n",
       "      <td>NaN</td>\n",
       "      <td>NaN</td>\n",
       "      <td>NaN</td>\n",
       "      <td>NaN</td>\n",
       "      <td>NaN</td>\n",
       "    </tr>\n",
       "    <tr>\n",
       "      <th>540</th>\n",
       "      <td>540</td>\n",
       "      <td>Istarska</td>\n",
       "      <td>Rovinj</td>\n",
       "      <td>Rovinj</td>\n",
       "      <td>80</td>\n",
       "      <td>4+\\n</td>\n",
       "      <td>ne</td>\n",
       "      <td>ponuda</td>\n",
       "      <td>pravna osoba</td>\n",
       "      <td>NaN</td>\n",
       "      <td>...</td>\n",
       "      <td>NaN</td>\n",
       "      <td>NaN</td>\n",
       "      <td>NaN</td>\n",
       "      <td>NaN</td>\n",
       "      <td>NaN</td>\n",
       "      <td>NaN</td>\n",
       "      <td>NaN</td>\n",
       "      <td>NaN</td>\n",
       "      <td>NaN</td>\n",
       "      <td>U zgradi</td>\n",
       "    </tr>\n",
       "    <tr>\n",
       "      <th>541</th>\n",
       "      <td>541</td>\n",
       "      <td>Istarska</td>\n",
       "      <td>Rovinj</td>\n",
       "      <td>Rovinj</td>\n",
       "      <td>60</td>\n",
       "      <td>4+\\n</td>\n",
       "      <td>ne</td>\n",
       "      <td>ponuda</td>\n",
       "      <td>pravna osoba</td>\n",
       "      <td>NaN</td>\n",
       "      <td>...</td>\n",
       "      <td>NaN</td>\n",
       "      <td>NaN</td>\n",
       "      <td>NaN</td>\n",
       "      <td>NaN</td>\n",
       "      <td>NaN</td>\n",
       "      <td>NaN</td>\n",
       "      <td>NaN</td>\n",
       "      <td>NaN</td>\n",
       "      <td>NaN</td>\n",
       "      <td>NaN</td>\n",
       "    </tr>\n",
       "    <tr>\n",
       "      <th>542</th>\n",
       "      <td>542</td>\n",
       "      <td>Istarska</td>\n",
       "      <td>Rovinj</td>\n",
       "      <td>Rovinj</td>\n",
       "      <td>91</td>\n",
       "      <td>2-2.5 sobni4+\\n</td>\n",
       "      <td>ne</td>\n",
       "      <td>ponuda</td>\n",
       "      <td>pravna osoba</td>\n",
       "      <td>NaN</td>\n",
       "      <td>...</td>\n",
       "      <td>NaN</td>\n",
       "      <td>NaN</td>\n",
       "      <td>NaN</td>\n",
       "      <td>NaN</td>\n",
       "      <td>NaN</td>\n",
       "      <td>NaN</td>\n",
       "      <td>NaN</td>\n",
       "      <td>NaN</td>\n",
       "      <td>NaN</td>\n",
       "      <td>NaN</td>\n",
       "    </tr>\n",
       "    <tr>\n",
       "      <th>543</th>\n",
       "      <td>543</td>\n",
       "      <td>Istarska</td>\n",
       "      <td>Rovinj</td>\n",
       "      <td>Rovinj</td>\n",
       "      <td>106</td>\n",
       "      <td>4+\\n</td>\n",
       "      <td>ne</td>\n",
       "      <td>ponuda</td>\n",
       "      <td>pravna osoba</td>\n",
       "      <td>NaN</td>\n",
       "      <td>...</td>\n",
       "      <td>NaN</td>\n",
       "      <td>NaN</td>\n",
       "      <td>NaN</td>\n",
       "      <td>NaN</td>\n",
       "      <td>NaN</td>\n",
       "      <td>NaN</td>\n",
       "      <td>NaN</td>\n",
       "      <td>NaN</td>\n",
       "      <td>NaN</td>\n",
       "      <td>NaN</td>\n",
       "    </tr>\n",
       "  </tbody>\n",
       "</table>\n",
       "<p>544 rows × 39 columns</p>\n",
       "</div>"
      ],
      "text/plain": [
       "     Unnamed: 0  Županija Grad/općina Naselje Stambena površina u m2  \\\n",
       "0             0  Istarska      Rovinj  Rovinj                     50   \n",
       "1             1  Istarska      Rovinj  Rovinj                     92   \n",
       "2             2  Istarska      Rovinj  Rovinj                     96   \n",
       "3             3  Istarska      Rovinj  Rovinj                    210   \n",
       "4             4  Istarska      Rovinj  Rovinj                     32   \n",
       "..          ...       ...         ...     ...                    ...   \n",
       "539         539  Istarska      Rovinj  Rovinj                     97   \n",
       "540         540  Istarska      Rovinj  Rovinj                     80   \n",
       "541         541  Istarska      Rovinj  Rovinj                     60   \n",
       "542         542  Istarska      Rovinj  Rovinj                     91   \n",
       "543         543  Istarska      Rovinj  Rovinj                    106   \n",
       "\n",
       "           Broj soba Zamjena Tip oglasa      Prodavač Detaljnije o kući  ...  \\\n",
       "0    3-3.5 sobni4+\\n      ne     ponuda  pravna osoba     Novogradnja\\n  ...   \n",
       "1               4+\\n      ne     ponuda  pravna osoba               NaN  ...   \n",
       "2               4+\\n      ne     ponuda  pravna osoba               NaN  ...   \n",
       "3               4+\\n      ne     ponuda  pravna osoba     Novogradnja\\n  ...   \n",
       "4      3-3.5 sobni\\n      ne     ponuda  pravna osoba               NaN  ...   \n",
       "..               ...     ...        ...           ...               ...  ...   \n",
       "539             4+\\n      ne     ponuda  pravna osoba               NaN  ...   \n",
       "540             4+\\n      ne     ponuda  pravna osoba               NaN  ...   \n",
       "541             4+\\n      ne     ponuda  pravna osoba               NaN  ...   \n",
       "542  2-2.5 sobni4+\\n      ne     ponuda  pravna osoba               NaN  ...   \n",
       "543             4+\\n      ne     ponuda  pravna osoba               NaN  ...   \n",
       "\n",
       "    Površina terase u m2 Namještenost Površina vrta u m2  Ulaz Grijanje email  \\\n",
       "0                    NaN          NaN                NaN   NaN      NaN   NaN   \n",
       "1                    NaN          NaN                NaN   NaN      NaN   NaN   \n",
       "2                    NaN          NaN                NaN   NaN      NaN   NaN   \n",
       "3                    NaN          NaN                NaN   NaN      NaN   NaN   \n",
       "4                    NaN          NaN                NaN   NaN      NaN   NaN   \n",
       "..                   ...          ...                ...   ...      ...   ...   \n",
       "539                  NaN          NaN                NaN   NaN      NaN   NaN   \n",
       "540                  NaN          NaN                NaN   NaN      NaN   NaN   \n",
       "541                  NaN          NaN                NaN   NaN      NaN   NaN   \n",
       "542                  NaN          NaN                NaN   NaN      NaN   NaN   \n",
       "543                  NaN          NaN                NaN   NaN      NaN   NaN   \n",
       "\n",
       "    tel ili mobitel Tip nekretnine za odmor O zemljištu  \\\n",
       "0               NaN                     NaN         NaN   \n",
       "1               NaN                     NaN         NaN   \n",
       "2               NaN                     NaN         NaN   \n",
       "3               NaN                     NaN         NaN   \n",
       "4               NaN                     NaN         NaN   \n",
       "..              ...                     ...         ...   \n",
       "539             NaN                     NaN         NaN   \n",
       "540             NaN                     NaN         NaN   \n",
       "541             NaN                     NaN         NaN   \n",
       "542             NaN                     NaN         NaN   \n",
       "543             NaN                     NaN         NaN   \n",
       "\n",
       "    Pozicija poslovnog prostora  \n",
       "0                           NaN  \n",
       "1                           NaN  \n",
       "2                           NaN  \n",
       "3                           NaN  \n",
       "4                           NaN  \n",
       "..                          ...  \n",
       "539                         NaN  \n",
       "540                    U zgradi  \n",
       "541                         NaN  \n",
       "542                         NaN  \n",
       "543                         NaN  \n",
       "\n",
       "[544 rows x 39 columns]"
      ]
     },
     "execution_count": 23,
     "metadata": {},
     "output_type": "execute_result"
    }
   ],
   "source": [
    "df"
   ]
  },
  {
   "cell_type": "code",
   "execution_count": 25,
   "metadata": {},
   "outputs": [],
   "source": [
    "name = onlyfiles[1].split(\"_\")"
   ]
  },
  {
   "cell_type": "code",
   "execution_count": 38,
   "metadata": {},
   "outputs": [
    {
     "data": {
      "text/plain": [
       "(datetime.date(2022, 7, 27), 30)"
      ]
     },
     "execution_count": 38,
     "metadata": {},
     "output_type": "execute_result"
    }
   ],
   "source": [
    "\n",
    "from datetime import datetime\n",
    "test = datetime.strptime(name[0], '%Y-%m-%d').date()\n",
    "test, test.isocalendar()[1]"
   ]
  },
  {
   "cell_type": "code",
   "execution_count": 31,
   "metadata": {},
   "outputs": [],
   "source": [
    "ime = \"_\" + name[2].split(\".\")[0]\n",
    "city_name = name[2].split(\".\")[0].capitalize()\n"
   ]
  },
  {
   "cell_type": "code",
   "execution_count": 32,
   "metadata": {},
   "outputs": [
    {
     "data": {
      "text/plain": [
       "('_rovinj', 'Rovinj')"
      ]
     },
     "execution_count": 32,
     "metadata": {},
     "output_type": "execute_result"
    }
   ],
   "source": [
    "ime, city_name"
   ]
  }
 ],
 "metadata": {
  "kernelspec": {
   "display_name": "Python 3.8.6 64-bit",
   "language": "python",
   "name": "python3"
  },
  "language_info": {
   "codemirror_mode": {
    "name": "ipython",
    "version": 3
   },
   "file_extension": ".py",
   "mimetype": "text/x-python",
   "name": "python",
   "nbconvert_exporter": "python",
   "pygments_lexer": "ipython3",
   "version": "3.8.6"
  },
  "orig_nbformat": 4,
  "vscode": {
   "interpreter": {
    "hash": "6a926afa313b26ae1264fdcf81c726a97e69f6ba2ba780f6aa901948710f8d6e"
   }
  }
 },
 "nbformat": 4,
 "nbformat_minor": 2
}
